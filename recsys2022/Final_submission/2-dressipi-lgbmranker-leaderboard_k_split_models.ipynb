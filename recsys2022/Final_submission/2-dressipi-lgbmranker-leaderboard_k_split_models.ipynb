{
 "cells": [
  {
   "cell_type": "code",
   "execution_count": 129,
   "id": "4770ec9a",
   "metadata": {},
   "outputs": [],
   "source": [
    "just_checking_integrity=False"
   ]
  },
  {
   "cell_type": "code",
   "execution_count": 130,
   "id": "0cd378b3",
   "metadata": {
    "papermill": {
     "duration": 0.141538,
     "end_time": "2022-06-12T16:53:58.520370",
     "exception": false,
     "start_time": "2022-06-12T16:53:58.378832",
     "status": "completed"
    },
    "tags": []
   },
   "outputs": [],
   "source": [
    "import gc\n",
    "import pandas as pd\n",
    "import scipy.sparse as sps\n",
    "import numpy as np"
   ]
  },
  {
   "cell_type": "code",
   "execution_count": 131,
   "id": "e4676f00",
   "metadata": {
    "papermill": {
     "duration": 0.146009,
     "end_time": "2022-06-12T16:53:58.715990",
     "exception": false,
     "start_time": "2022-06-12T16:53:58.569981",
     "status": "completed"
    },
    "tags": []
   },
   "outputs": [],
   "source": [
    "URM_test=sps.load_npz(\"../dataset/processed_data/URM_test_leaderboard.npz\")"
   ]
  },
  {
   "cell_type": "code",
   "execution_count": 132,
   "id": "7854974f",
   "metadata": {
    "papermill": {
     "duration": 0.060116,
     "end_time": "2022-06-12T16:53:58.825275",
     "exception": false,
     "start_time": "2022-06-12T16:53:58.765159",
     "status": "completed"
    },
    "tags": []
   },
   "outputs": [
    {
     "data": {
      "text/plain": [
       "(4439758, 23692)"
      ]
     },
     "execution_count": 132,
     "metadata": {},
     "output_type": "execute_result"
    }
   ],
   "source": [
    "URM_test.shape"
   ]
  },
  {
   "cell_type": "code",
   "execution_count": 133,
   "id": "b2fc443c",
   "metadata": {
    "papermill": {
     "duration": 0.129216,
     "end_time": "2022-06-12T16:53:59.005328",
     "exception": false,
     "start_time": "2022-06-12T16:53:58.876112",
     "status": "completed"
    },
    "tags": []
   },
   "outputs": [
    {
     "data": {
      "text/plain": [
       "(4439758,)"
      ]
     },
     "execution_count": 133,
     "metadata": {},
     "output_type": "execute_result"
    }
   ],
   "source": [
    "np.ravel(URM_test.sum(axis=1)).shape"
   ]
  },
  {
   "cell_type": "code",
   "execution_count": 134,
   "id": "f4e1acd0",
   "metadata": {
    "papermill": {
     "duration": 0.144207,
     "end_time": "2022-06-12T16:53:59.199763",
     "exception": false,
     "start_time": "2022-06-12T16:53:59.055556",
     "status": "completed"
    },
    "tags": []
   },
   "outputs": [],
   "source": [
    "Session_ids=np.argwhere(np.ravel(URM_test.sum(axis=1)))"
   ]
  },
  {
   "cell_type": "code",
   "execution_count": 135,
   "id": "23c21590",
   "metadata": {
    "papermill": {
     "duration": 0.056971,
     "end_time": "2022-06-12T16:53:59.306883",
     "exception": false,
     "start_time": "2022-06-12T16:53:59.249912",
     "status": "completed"
    },
    "tags": []
   },
   "outputs": [],
   "source": [
    "is_sorted = lambda a: np.all(a[:-1] <= a[1:])"
   ]
  },
  {
   "cell_type": "code",
   "execution_count": 136,
   "id": "5adf257f",
   "metadata": {
    "papermill": {
     "duration": 0.057925,
     "end_time": "2022-06-12T16:53:59.415013",
     "exception": false,
     "start_time": "2022-06-12T16:53:59.357088",
     "status": "completed"
    },
    "tags": []
   },
   "outputs": [
    {
     "data": {
      "text/plain": [
       "True"
      ]
     },
     "execution_count": 136,
     "metadata": {},
     "output_type": "execute_result"
    }
   ],
   "source": [
    "is_sorted(Session_ids)"
   ]
  },
  {
   "cell_type": "code",
   "execution_count": 137,
   "id": "ae942e02",
   "metadata": {
    "papermill": {
     "duration": 85.115587,
     "end_time": "2022-06-12T16:55:24.581119",
     "exception": false,
     "start_time": "2022-06-12T16:53:59.465532",
     "status": "completed"
    },
    "tags": []
   },
   "outputs": [
    {
     "name": "stdout",
     "output_type": "stream",
     "text": [
      "5616\n",
      "loading UCF_W\n",
      "16338555\n",
      "loaded UCF_W\n",
      "0\n",
      "loading ICBF_W\n",
      "14870776\n",
      "loaded ICBF_W\n",
      "0\n",
      "loading Graph_W\n",
      "8315730\n",
      "loaded Graph_W\n",
      "0\n",
      "loading ICF_W\n",
      "17772188\n",
      "loaded ICF_W\n"
     ]
    }
   ],
   "source": [
    "# Create different datasets based on the selected list in order to compare between them\n",
    "selected_list = [\"UCF_W\",\"ICBF_W\",\"Graph_W\",\"ICF_W\"]\n",
    "\n",
    "for model in selected_list:\n",
    "    datasets = {}\n",
    "    datasets_max = {}\n",
    "#[\"UCF\",\"ICBF\",\"Graph\",\"ICF\",\"UCF_W\",\"ICBF_W\",\"Graph_W\",\"ICF_W\",\"UCF_WW\",\"ICBF_WW\",\"Graph_WW\",\"ICF_WW\"]\n",
    "\n",
    "for model in selected_list:\n",
    "    df_max = None\n",
    "    df_feats = None\n",
    "    print(gc.collect())\n",
    "    print(f\"loading {model}\")\n",
    "    df=pd.read_csv(f\"../dataset/candidates/traditional_recs/leaderboard/{model}.csv\")\n",
    "    print(len(df))\n",
    "    print(f\"loaded {model}\")\n",
    "    for col in df:\n",
    "        if \"Max\" in col:\n",
    "            df_max=df[[\"Session_Id\",col]].drop_duplicates()\n",
    "        elif \"Score\" in col:\n",
    "            df_feats=df[[\"Session_Id\",\"Item_ID\",col]]\n",
    "\n",
    "    if df_feats is not None:\n",
    "        datasets[model]=df_feats\n",
    "    if df_max is not None:\n",
    "        datasets_max[model]=df_max\n",
    "    del df\n",
    "        \n",
    "\n",
    "#del dataset_max\n",
    "del df_feats\n",
    "del df_max"
   ]
  },
  {
   "cell_type": "code",
   "execution_count": 138,
   "id": "de5d999f",
   "metadata": {
    "papermill": {
     "duration": 0.238542,
     "end_time": "2022-06-12T16:55:24.873056",
     "exception": false,
     "start_time": "2022-06-12T16:55:24.634514",
     "status": "completed"
    },
    "tags": []
   },
   "outputs": [],
   "source": [
    "ids = {}\n",
    "map_ids = {}\n",
    "for model in selected_list:\n",
    "    ids[model]=np.sort(datasets[model][\"Session_Id\"].unique())\n",
    "    map_ids[model]=pd.DataFrame()\n",
    "    map_ids[model][\"Session_Id\"]=ids[model]\n",
    "    if just_checking_integrity:\n",
    "        map_ids[model][\"Real_Id\"]=Session_ids[:len(ids)]\n",
    "    else:\n",
    "        map_ids[model][\"Real_Id\"]=Session_ids"
   ]
  },
  {
   "cell_type": "code",
   "execution_count": 139,
   "id": "7bea3fde",
   "metadata": {
    "papermill": {
     "duration": 0.077023,
     "end_time": "2022-06-12T16:55:25.002952",
     "exception": false,
     "start_time": "2022-06-12T16:55:24.925929",
     "status": "completed"
    },
    "tags": []
   },
   "outputs": [],
   "source": [
    "for model in selected_list:\n",
    "    datasets_max[model]=datasets_max[model].merge(map_ids[model],on=\"Session_Id\",how=\"left\")\n",
    "    del datasets_max[model][\"Session_Id\"]\n",
    "    datasets_max[model].rename(columns={\"Real_Id\":\"Session_Id\"},inplace=True)"
   ]
  },
  {
   "cell_type": "code",
   "execution_count": 140,
   "id": "06602988",
   "metadata": {
    "papermill": {
     "duration": 4.258115,
     "end_time": "2022-06-12T16:55:29.314291",
     "exception": false,
     "start_time": "2022-06-12T16:55:25.056176",
     "status": "completed"
    },
    "tags": []
   },
   "outputs": [],
   "source": [
    "for model in selected_list:\n",
    "    datasets[model]=datasets[model].merge(map_ids[model],on=\"Session_Id\",how=\"left\")\n",
    "    del datasets[model][\"Session_Id\"]\n",
    "    datasets[model].rename(columns={\"Real_Id\":\"Session_Id\"},inplace=True)"
   ]
  },
  {
   "cell_type": "code",
   "execution_count": 141,
   "id": "fef897e1",
   "metadata": {
    "papermill": {
     "duration": 26.516025,
     "end_time": "2022-06-12T16:55:57.912172",
     "exception": false,
     "start_time": "2022-06-12T16:55:31.396147",
     "status": "completed"
    },
    "tags": []
   },
   "outputs": [],
   "source": [
    "import ast\n",
    "submission_df_tr=pd.read_csv(\"../dataset/candidates/NN/Transformer/leaderboard/candidates.csv\")\n",
    "submission_df_tr[\"score\"]=submission_df_tr[\"score\"].map(ast.literal_eval)\n",
    "submission_df_tr[\"code\"]=submission_df_tr[\"code\"].map(ast.literal_eval)\n",
    "submission_df_tr[\"rank\"]=submission_df_tr[\"rank\"].map(ast.literal_eval)\n",
    "submission_df_tr = submission_df_tr.explode(['code','score', 'rank'])\n",
    "submission_df_tr[[\"session_id\",\"code\",\"rank\"]]=submission_df_tr[[\"session_id\",\"code\",\"rank\"]].astype(int)\n",
    "submission_df_tr.rename(columns={\"code\":\"Item_ID\",\"session_id\":\"Session_Id\",\"rank\":\"rank_transformer\",\"score\":\"score_transformer\"},inplace=True)"
   ]
  },
  {
   "cell_type": "code",
   "execution_count": 142,
   "id": "b3503d4d",
   "metadata": {
    "papermill": {
     "duration": 16.489758,
     "end_time": "2022-06-12T16:56:17.441937",
     "exception": false,
     "start_time": "2022-06-12T16:56:00.952179",
     "status": "completed"
    },
    "tags": []
   },
   "outputs": [],
   "source": [
    "for model in selected_list:\n",
    "    datasets[model]=datasets[model].merge(submission_df_tr,on=[\"Session_Id\",\"Item_ID\"],how=\"outer\")\n",
    "del submission_df_tr"
   ]
  },
  {
   "cell_type": "code",
   "execution_count": 143,
   "id": "79dc226e",
   "metadata": {
    "papermill": {
     "duration": 5.978353,
     "end_time": "2022-06-12T16:56:23.475109",
     "exception": false,
     "start_time": "2022-06-12T16:56:17.496756",
     "status": "completed"
    },
    "tags": []
   },
   "outputs": [],
   "source": [
    "for model in selected_list:\n",
    "    datasets[model]=datasets[model].merge(datasets_max[model],on=[\"Session_Id\"],how=\"left\")\n",
    "    del datasets_max[model]"
   ]
  },
  {
   "cell_type": "code",
   "execution_count": 144,
   "id": "4afa4119",
   "metadata": {
    "papermill": {
     "duration": 14.194397,
     "end_time": "2022-06-12T16:56:37.723580",
     "exception": false,
     "start_time": "2022-06-12T16:56:23.529183",
     "status": "completed"
    },
    "tags": []
   },
   "outputs": [
    {
     "name": "stderr",
     "output_type": "stream",
     "text": [
      "/var/folders/yt/h_zrk_k931s4wj_999xrfy0m0000gq/T/ipykernel_25916/4016355296.py:2: FutureWarning: Downcasting object dtype arrays on .fillna, .ffill, .bfill is deprecated and will change in a future version. Call result.infer_objects(copy=False) instead. To opt-in to the future behavior, set `pd.set_option('future.no_silent_downcasting', True)`\n",
      "  datasets[model].fillna(0,inplace=True)\n"
     ]
    }
   ],
   "source": [
    "for model in selected_list:\n",
    "    datasets[model].fillna(0,inplace=True)"
   ]
  },
  {
   "cell_type": "code",
   "execution_count": 145,
   "id": "3def4b97",
   "metadata": {
    "papermill": {
     "duration": 0.053703,
     "end_time": "2022-06-12T16:56:39.486170",
     "exception": false,
     "start_time": "2022-06-12T16:56:39.432467",
     "status": "completed"
    },
    "tags": []
   },
   "outputs": [],
   "source": [
    "dataset_macro_features = pd.read_csv('../dataset/processed_data/macro_feats_NN_leaderboard.csv',\n",
    "                                     usecols=['session_id',\n",
    "                                                'session_similarity',\n",
    "                                                'session_similarity_uniques', 'session_similarity_feats', 'session_similarity_feats_uniques',\n",
    "                                              'length_of_session_seconds',\n",
    "                   'avg_time_spent_per_item_seconds',\n",
    "                   'variance_time_spent_per_item_seconds',\n",
    "                   'n_seen_items',\n",
    "                   'n_unique_items'])\n",
    "\n",
    "dataset_macro_features.rename(columns={'session_id':'Session_Id'}, inplace=True)\n",
    "\n",
    "for model in selected_list:\n",
    "    datasets[model] = datasets[model].merge(dataset_macro_features, on='Session_Id', how='left')"
   ]
  },
  {
   "cell_type": "code",
   "execution_count": 146,
   "id": "602292c5",
   "metadata": {
    "collapsed": false,
    "jupyter": {
     "outputs_hidden": false
    },
    "pycharm": {
     "name": "#%%\n"
    }
   },
   "outputs": [],
   "source": [
    "# dataset.drop('Max_Score_TopPop15', axis=1, inplace=True)"
   ]
  },
  {
   "cell_type": "code",
   "execution_count": 147,
   "id": "ec1dd779",
   "metadata": {
    "papermill": {
     "duration": 0.076322,
     "end_time": "2022-06-12T16:56:39.616418",
     "exception": false,
     "start_time": "2022-06-12T16:56:39.540096",
     "status": "completed"
    },
    "tags": []
   },
   "outputs": [
    {
     "data": {
      "text/html": [
       "<div>\n",
       "<style scoped>\n",
       "    .dataframe tbody tr th:only-of-type {\n",
       "        vertical-align: middle;\n",
       "    }\n",
       "\n",
       "    .dataframe tbody tr th {\n",
       "        vertical-align: top;\n",
       "    }\n",
       "\n",
       "    .dataframe thead th {\n",
       "        text-align: right;\n",
       "    }\n",
       "</style>\n",
       "<table border=\"1\" class=\"dataframe\">\n",
       "  <thead>\n",
       "    <tr style=\"text-align: right;\">\n",
       "      <th></th>\n",
       "      <th>Item_ID</th>\n",
       "      <th>Score_UCF_W</th>\n",
       "      <th>Session_Id</th>\n",
       "      <th>score_transformer</th>\n",
       "      <th>rank_transformer</th>\n",
       "      <th>Max_Score_UCF_W</th>\n",
       "      <th>length_of_session_seconds</th>\n",
       "      <th>avg_time_spent_per_item_seconds</th>\n",
       "      <th>variance_time_spent_per_item_seconds</th>\n",
       "      <th>n_seen_items</th>\n",
       "      <th>n_unique_items</th>\n",
       "      <th>session_similarity</th>\n",
       "      <th>session_similarity_uniques</th>\n",
       "      <th>session_similarity_feats</th>\n",
       "      <th>session_similarity_feats_uniques</th>\n",
       "    </tr>\n",
       "  </thead>\n",
       "  <tbody>\n",
       "    <tr>\n",
       "      <th>0</th>\n",
       "      <td>21</td>\n",
       "      <td>0.095758</td>\n",
       "      <td>26</td>\n",
       "      <td>0.002732</td>\n",
       "      <td>43.0</td>\n",
       "      <td>54.82594</td>\n",
       "      <td>0.0</td>\n",
       "      <td>0.0</td>\n",
       "      <td>0.0</td>\n",
       "      <td>1.0</td>\n",
       "      <td>1.0</td>\n",
       "      <td>1.0</td>\n",
       "      <td>1.0</td>\n",
       "      <td>1.0</td>\n",
       "      <td>1.0</td>\n",
       "    </tr>\n",
       "    <tr>\n",
       "      <th>1</th>\n",
       "      <td>52</td>\n",
       "      <td>0.238503</td>\n",
       "      <td>26</td>\n",
       "      <td>0.003184</td>\n",
       "      <td>36.0</td>\n",
       "      <td>54.82594</td>\n",
       "      <td>0.0</td>\n",
       "      <td>0.0</td>\n",
       "      <td>0.0</td>\n",
       "      <td>1.0</td>\n",
       "      <td>1.0</td>\n",
       "      <td>1.0</td>\n",
       "      <td>1.0</td>\n",
       "      <td>1.0</td>\n",
       "      <td>1.0</td>\n",
       "    </tr>\n",
       "    <tr>\n",
       "      <th>2</th>\n",
       "      <td>80</td>\n",
       "      <td>0.100885</td>\n",
       "      <td>26</td>\n",
       "      <td>0.000000</td>\n",
       "      <td>0.0</td>\n",
       "      <td>54.82594</td>\n",
       "      <td>0.0</td>\n",
       "      <td>0.0</td>\n",
       "      <td>0.0</td>\n",
       "      <td>1.0</td>\n",
       "      <td>1.0</td>\n",
       "      <td>1.0</td>\n",
       "      <td>1.0</td>\n",
       "      <td>1.0</td>\n",
       "      <td>1.0</td>\n",
       "    </tr>\n",
       "    <tr>\n",
       "      <th>3</th>\n",
       "      <td>91</td>\n",
       "      <td>0.000000</td>\n",
       "      <td>26</td>\n",
       "      <td>0.001053</td>\n",
       "      <td>98.0</td>\n",
       "      <td>54.82594</td>\n",
       "      <td>0.0</td>\n",
       "      <td>0.0</td>\n",
       "      <td>0.0</td>\n",
       "      <td>1.0</td>\n",
       "      <td>1.0</td>\n",
       "      <td>1.0</td>\n",
       "      <td>1.0</td>\n",
       "      <td>1.0</td>\n",
       "      <td>1.0</td>\n",
       "    </tr>\n",
       "    <tr>\n",
       "      <th>4</th>\n",
       "      <td>105</td>\n",
       "      <td>0.000000</td>\n",
       "      <td>26</td>\n",
       "      <td>0.001827</td>\n",
       "      <td>58.0</td>\n",
       "      <td>54.82594</td>\n",
       "      <td>0.0</td>\n",
       "      <td>0.0</td>\n",
       "      <td>0.0</td>\n",
       "      <td>1.0</td>\n",
       "      <td>1.0</td>\n",
       "      <td>1.0</td>\n",
       "      <td>1.0</td>\n",
       "      <td>1.0</td>\n",
       "      <td>1.0</td>\n",
       "    </tr>\n",
       "  </tbody>\n",
       "</table>\n",
       "</div>"
      ],
      "text/plain": [
       "   Item_ID  Score_UCF_W  Session_Id  score_transformer  rank_transformer  \\\n",
       "0       21     0.095758          26           0.002732              43.0   \n",
       "1       52     0.238503          26           0.003184              36.0   \n",
       "2       80     0.100885          26           0.000000               0.0   \n",
       "3       91     0.000000          26           0.001053              98.0   \n",
       "4      105     0.000000          26           0.001827              58.0   \n",
       "\n",
       "   Max_Score_UCF_W  length_of_session_seconds  \\\n",
       "0         54.82594                        0.0   \n",
       "1         54.82594                        0.0   \n",
       "2         54.82594                        0.0   \n",
       "3         54.82594                        0.0   \n",
       "4         54.82594                        0.0   \n",
       "\n",
       "   avg_time_spent_per_item_seconds  variance_time_spent_per_item_seconds  \\\n",
       "0                              0.0                                   0.0   \n",
       "1                              0.0                                   0.0   \n",
       "2                              0.0                                   0.0   \n",
       "3                              0.0                                   0.0   \n",
       "4                              0.0                                   0.0   \n",
       "\n",
       "   n_seen_items  n_unique_items  session_similarity  \\\n",
       "0           1.0             1.0                 1.0   \n",
       "1           1.0             1.0                 1.0   \n",
       "2           1.0             1.0                 1.0   \n",
       "3           1.0             1.0                 1.0   \n",
       "4           1.0             1.0                 1.0   \n",
       "\n",
       "   session_similarity_uniques  session_similarity_feats  \\\n",
       "0                         1.0                       1.0   \n",
       "1                         1.0                       1.0   \n",
       "2                         1.0                       1.0   \n",
       "3                         1.0                       1.0   \n",
       "4                         1.0                       1.0   \n",
       "\n",
       "   session_similarity_feats_uniques  \n",
       "0                               1.0  \n",
       "1                               1.0  \n",
       "2                               1.0  \n",
       "3                               1.0  \n",
       "4                               1.0  "
      ]
     },
     "execution_count": 147,
     "metadata": {},
     "output_type": "execute_result"
    }
   ],
   "source": [
    "datasets[\"UCF_W\"].head()"
   ]
  },
  {
   "cell_type": "code",
   "execution_count": 148,
   "id": "89945930-6d4d-4be4-a256-8953a818b916",
   "metadata": {},
   "outputs": [
    {
     "data": {
      "text/html": [
       "<div>\n",
       "<style scoped>\n",
       "    .dataframe tbody tr th:only-of-type {\n",
       "        vertical-align: middle;\n",
       "    }\n",
       "\n",
       "    .dataframe tbody tr th {\n",
       "        vertical-align: top;\n",
       "    }\n",
       "\n",
       "    .dataframe thead th {\n",
       "        text-align: right;\n",
       "    }\n",
       "</style>\n",
       "<table border=\"1\" class=\"dataframe\">\n",
       "  <thead>\n",
       "    <tr style=\"text-align: right;\">\n",
       "      <th></th>\n",
       "      <th>Item_ID</th>\n",
       "      <th>Score_ICBF_W</th>\n",
       "      <th>Session_Id</th>\n",
       "      <th>score_transformer</th>\n",
       "      <th>rank_transformer</th>\n",
       "      <th>Max_Score_ICBF_W</th>\n",
       "      <th>length_of_session_seconds</th>\n",
       "      <th>avg_time_spent_per_item_seconds</th>\n",
       "      <th>variance_time_spent_per_item_seconds</th>\n",
       "      <th>n_seen_items</th>\n",
       "      <th>n_unique_items</th>\n",
       "      <th>session_similarity</th>\n",
       "      <th>session_similarity_uniques</th>\n",
       "      <th>session_similarity_feats</th>\n",
       "      <th>session_similarity_feats_uniques</th>\n",
       "    </tr>\n",
       "  </thead>\n",
       "  <tbody>\n",
       "    <tr>\n",
       "      <th>0</th>\n",
       "      <td>9</td>\n",
       "      <td>0.491950</td>\n",
       "      <td>26</td>\n",
       "      <td>0.000000</td>\n",
       "      <td>0.0</td>\n",
       "      <td>3.397799</td>\n",
       "      <td>0.0</td>\n",
       "      <td>0.0</td>\n",
       "      <td>0.0</td>\n",
       "      <td>1.0</td>\n",
       "      <td>1.0</td>\n",
       "      <td>1.0</td>\n",
       "      <td>1.0</td>\n",
       "      <td>1.0</td>\n",
       "      <td>1.0</td>\n",
       "    </tr>\n",
       "    <tr>\n",
       "      <th>1</th>\n",
       "      <td>19</td>\n",
       "      <td>0.183125</td>\n",
       "      <td>26</td>\n",
       "      <td>0.000000</td>\n",
       "      <td>0.0</td>\n",
       "      <td>3.397799</td>\n",
       "      <td>0.0</td>\n",
       "      <td>0.0</td>\n",
       "      <td>0.0</td>\n",
       "      <td>1.0</td>\n",
       "      <td>1.0</td>\n",
       "      <td>1.0</td>\n",
       "      <td>1.0</td>\n",
       "      <td>1.0</td>\n",
       "      <td>1.0</td>\n",
       "    </tr>\n",
       "    <tr>\n",
       "      <th>2</th>\n",
       "      <td>21</td>\n",
       "      <td>0.000000</td>\n",
       "      <td>26</td>\n",
       "      <td>0.002732</td>\n",
       "      <td>43.0</td>\n",
       "      <td>3.397799</td>\n",
       "      <td>0.0</td>\n",
       "      <td>0.0</td>\n",
       "      <td>0.0</td>\n",
       "      <td>1.0</td>\n",
       "      <td>1.0</td>\n",
       "      <td>1.0</td>\n",
       "      <td>1.0</td>\n",
       "      <td>1.0</td>\n",
       "      <td>1.0</td>\n",
       "    </tr>\n",
       "    <tr>\n",
       "      <th>3</th>\n",
       "      <td>33</td>\n",
       "      <td>0.730614</td>\n",
       "      <td>26</td>\n",
       "      <td>0.000000</td>\n",
       "      <td>0.0</td>\n",
       "      <td>3.397799</td>\n",
       "      <td>0.0</td>\n",
       "      <td>0.0</td>\n",
       "      <td>0.0</td>\n",
       "      <td>1.0</td>\n",
       "      <td>1.0</td>\n",
       "      <td>1.0</td>\n",
       "      <td>1.0</td>\n",
       "      <td>1.0</td>\n",
       "      <td>1.0</td>\n",
       "    </tr>\n",
       "    <tr>\n",
       "      <th>4</th>\n",
       "      <td>52</td>\n",
       "      <td>0.000000</td>\n",
       "      <td>26</td>\n",
       "      <td>0.003184</td>\n",
       "      <td>36.0</td>\n",
       "      <td>3.397799</td>\n",
       "      <td>0.0</td>\n",
       "      <td>0.0</td>\n",
       "      <td>0.0</td>\n",
       "      <td>1.0</td>\n",
       "      <td>1.0</td>\n",
       "      <td>1.0</td>\n",
       "      <td>1.0</td>\n",
       "      <td>1.0</td>\n",
       "      <td>1.0</td>\n",
       "    </tr>\n",
       "  </tbody>\n",
       "</table>\n",
       "</div>"
      ],
      "text/plain": [
       "   Item_ID  Score_ICBF_W  Session_Id  score_transformer  rank_transformer  \\\n",
       "0        9      0.491950          26           0.000000               0.0   \n",
       "1       19      0.183125          26           0.000000               0.0   \n",
       "2       21      0.000000          26           0.002732              43.0   \n",
       "3       33      0.730614          26           0.000000               0.0   \n",
       "4       52      0.000000          26           0.003184              36.0   \n",
       "\n",
       "   Max_Score_ICBF_W  length_of_session_seconds  \\\n",
       "0          3.397799                        0.0   \n",
       "1          3.397799                        0.0   \n",
       "2          3.397799                        0.0   \n",
       "3          3.397799                        0.0   \n",
       "4          3.397799                        0.0   \n",
       "\n",
       "   avg_time_spent_per_item_seconds  variance_time_spent_per_item_seconds  \\\n",
       "0                              0.0                                   0.0   \n",
       "1                              0.0                                   0.0   \n",
       "2                              0.0                                   0.0   \n",
       "3                              0.0                                   0.0   \n",
       "4                              0.0                                   0.0   \n",
       "\n",
       "   n_seen_items  n_unique_items  session_similarity  \\\n",
       "0           1.0             1.0                 1.0   \n",
       "1           1.0             1.0                 1.0   \n",
       "2           1.0             1.0                 1.0   \n",
       "3           1.0             1.0                 1.0   \n",
       "4           1.0             1.0                 1.0   \n",
       "\n",
       "   session_similarity_uniques  session_similarity_feats  \\\n",
       "0                         1.0                       1.0   \n",
       "1                         1.0                       1.0   \n",
       "2                         1.0                       1.0   \n",
       "3                         1.0                       1.0   \n",
       "4                         1.0                       1.0   \n",
       "\n",
       "   session_similarity_feats_uniques  \n",
       "0                               1.0  \n",
       "1                               1.0  \n",
       "2                               1.0  \n",
       "3                               1.0  \n",
       "4                               1.0  "
      ]
     },
     "execution_count": 148,
     "metadata": {},
     "output_type": "execute_result"
    }
   ],
   "source": [
    "datasets[\"ICBF_W\"].head()"
   ]
  },
  {
   "cell_type": "code",
   "execution_count": 149,
   "id": "33f94c65-229b-4721-a9b2-b95e702ba95d",
   "metadata": {},
   "outputs": [
    {
     "data": {
      "text/html": [
       "<div>\n",
       "<style scoped>\n",
       "    .dataframe tbody tr th:only-of-type {\n",
       "        vertical-align: middle;\n",
       "    }\n",
       "\n",
       "    .dataframe tbody tr th {\n",
       "        vertical-align: top;\n",
       "    }\n",
       "\n",
       "    .dataframe thead th {\n",
       "        text-align: right;\n",
       "    }\n",
       "</style>\n",
       "<table border=\"1\" class=\"dataframe\">\n",
       "  <thead>\n",
       "    <tr style=\"text-align: right;\">\n",
       "      <th></th>\n",
       "      <th>Item_ID</th>\n",
       "      <th>Score_ICF_W</th>\n",
       "      <th>Session_Id</th>\n",
       "      <th>score_transformer</th>\n",
       "      <th>rank_transformer</th>\n",
       "      <th>Max_Score_ICF_W</th>\n",
       "      <th>length_of_session_seconds</th>\n",
       "      <th>avg_time_spent_per_item_seconds</th>\n",
       "      <th>variance_time_spent_per_item_seconds</th>\n",
       "      <th>n_seen_items</th>\n",
       "      <th>n_unique_items</th>\n",
       "      <th>session_similarity</th>\n",
       "      <th>session_similarity_uniques</th>\n",
       "      <th>session_similarity_feats</th>\n",
       "      <th>session_similarity_feats_uniques</th>\n",
       "    </tr>\n",
       "  </thead>\n",
       "  <tbody>\n",
       "    <tr>\n",
       "      <th>0</th>\n",
       "      <td>3</td>\n",
       "      <td>1.350410e-02</td>\n",
       "      <td>26</td>\n",
       "      <td>0.000000</td>\n",
       "      <td>0.0</td>\n",
       "      <td>0.330278</td>\n",
       "      <td>0.0</td>\n",
       "      <td>0.0</td>\n",
       "      <td>0.0</td>\n",
       "      <td>1.0</td>\n",
       "      <td>1.0</td>\n",
       "      <td>1.0</td>\n",
       "      <td>1.0</td>\n",
       "      <td>1.0</td>\n",
       "      <td>1.0</td>\n",
       "    </tr>\n",
       "    <tr>\n",
       "      <th>1</th>\n",
       "      <td>9</td>\n",
       "      <td>1.882741e-22</td>\n",
       "      <td>26</td>\n",
       "      <td>0.000000</td>\n",
       "      <td>0.0</td>\n",
       "      <td>0.330278</td>\n",
       "      <td>0.0</td>\n",
       "      <td>0.0</td>\n",
       "      <td>0.0</td>\n",
       "      <td>1.0</td>\n",
       "      <td>1.0</td>\n",
       "      <td>1.0</td>\n",
       "      <td>1.0</td>\n",
       "      <td>1.0</td>\n",
       "      <td>1.0</td>\n",
       "    </tr>\n",
       "    <tr>\n",
       "      <th>2</th>\n",
       "      <td>21</td>\n",
       "      <td>0.000000e+00</td>\n",
       "      <td>26</td>\n",
       "      <td>0.002732</td>\n",
       "      <td>43.0</td>\n",
       "      <td>0.330278</td>\n",
       "      <td>0.0</td>\n",
       "      <td>0.0</td>\n",
       "      <td>0.0</td>\n",
       "      <td>1.0</td>\n",
       "      <td>1.0</td>\n",
       "      <td>1.0</td>\n",
       "      <td>1.0</td>\n",
       "      <td>1.0</td>\n",
       "      <td>1.0</td>\n",
       "    </tr>\n",
       "    <tr>\n",
       "      <th>3</th>\n",
       "      <td>33</td>\n",
       "      <td>6.852990e-03</td>\n",
       "      <td>26</td>\n",
       "      <td>0.000000</td>\n",
       "      <td>0.0</td>\n",
       "      <td>0.330278</td>\n",
       "      <td>0.0</td>\n",
       "      <td>0.0</td>\n",
       "      <td>0.0</td>\n",
       "      <td>1.0</td>\n",
       "      <td>1.0</td>\n",
       "      <td>1.0</td>\n",
       "      <td>1.0</td>\n",
       "      <td>1.0</td>\n",
       "      <td>1.0</td>\n",
       "    </tr>\n",
       "    <tr>\n",
       "      <th>4</th>\n",
       "      <td>52</td>\n",
       "      <td>5.488027e-01</td>\n",
       "      <td>26</td>\n",
       "      <td>0.003184</td>\n",
       "      <td>36.0</td>\n",
       "      <td>0.330278</td>\n",
       "      <td>0.0</td>\n",
       "      <td>0.0</td>\n",
       "      <td>0.0</td>\n",
       "      <td>1.0</td>\n",
       "      <td>1.0</td>\n",
       "      <td>1.0</td>\n",
       "      <td>1.0</td>\n",
       "      <td>1.0</td>\n",
       "      <td>1.0</td>\n",
       "    </tr>\n",
       "  </tbody>\n",
       "</table>\n",
       "</div>"
      ],
      "text/plain": [
       "   Item_ID   Score_ICF_W  Session_Id  score_transformer  rank_transformer  \\\n",
       "0        3  1.350410e-02          26           0.000000               0.0   \n",
       "1        9  1.882741e-22          26           0.000000               0.0   \n",
       "2       21  0.000000e+00          26           0.002732              43.0   \n",
       "3       33  6.852990e-03          26           0.000000               0.0   \n",
       "4       52  5.488027e-01          26           0.003184              36.0   \n",
       "\n",
       "   Max_Score_ICF_W  length_of_session_seconds  \\\n",
       "0         0.330278                        0.0   \n",
       "1         0.330278                        0.0   \n",
       "2         0.330278                        0.0   \n",
       "3         0.330278                        0.0   \n",
       "4         0.330278                        0.0   \n",
       "\n",
       "   avg_time_spent_per_item_seconds  variance_time_spent_per_item_seconds  \\\n",
       "0                              0.0                                   0.0   \n",
       "1                              0.0                                   0.0   \n",
       "2                              0.0                                   0.0   \n",
       "3                              0.0                                   0.0   \n",
       "4                              0.0                                   0.0   \n",
       "\n",
       "   n_seen_items  n_unique_items  session_similarity  \\\n",
       "0           1.0             1.0                 1.0   \n",
       "1           1.0             1.0                 1.0   \n",
       "2           1.0             1.0                 1.0   \n",
       "3           1.0             1.0                 1.0   \n",
       "4           1.0             1.0                 1.0   \n",
       "\n",
       "   session_similarity_uniques  session_similarity_feats  \\\n",
       "0                         1.0                       1.0   \n",
       "1                         1.0                       1.0   \n",
       "2                         1.0                       1.0   \n",
       "3                         1.0                       1.0   \n",
       "4                         1.0                       1.0   \n",
       "\n",
       "   session_similarity_feats_uniques  \n",
       "0                               1.0  \n",
       "1                               1.0  \n",
       "2                               1.0  \n",
       "3                               1.0  \n",
       "4                               1.0  "
      ]
     },
     "execution_count": 149,
     "metadata": {},
     "output_type": "execute_result"
    }
   ],
   "source": [
    "datasets[\"ICF_W\"].head()"
   ]
  },
  {
   "cell_type": "code",
   "execution_count": 150,
   "id": "8718de15-bba7-49a6-b836-72f4bb306d3c",
   "metadata": {},
   "outputs": [
    {
     "data": {
      "text/html": [
       "<div>\n",
       "<style scoped>\n",
       "    .dataframe tbody tr th:only-of-type {\n",
       "        vertical-align: middle;\n",
       "    }\n",
       "\n",
       "    .dataframe tbody tr th {\n",
       "        vertical-align: top;\n",
       "    }\n",
       "\n",
       "    .dataframe thead th {\n",
       "        text-align: right;\n",
       "    }\n",
       "</style>\n",
       "<table border=\"1\" class=\"dataframe\">\n",
       "  <thead>\n",
       "    <tr style=\"text-align: right;\">\n",
       "      <th></th>\n",
       "      <th>Item_ID</th>\n",
       "      <th>Score_Graph_W</th>\n",
       "      <th>Session_Id</th>\n",
       "      <th>score_transformer</th>\n",
       "      <th>rank_transformer</th>\n",
       "      <th>Max_Score_Graph_W</th>\n",
       "      <th>length_of_session_seconds</th>\n",
       "      <th>avg_time_spent_per_item_seconds</th>\n",
       "      <th>variance_time_spent_per_item_seconds</th>\n",
       "      <th>n_seen_items</th>\n",
       "      <th>n_unique_items</th>\n",
       "      <th>session_similarity</th>\n",
       "      <th>session_similarity_uniques</th>\n",
       "      <th>session_similarity_feats</th>\n",
       "      <th>session_similarity_feats_uniques</th>\n",
       "    </tr>\n",
       "  </thead>\n",
       "  <tbody>\n",
       "    <tr>\n",
       "      <th>0</th>\n",
       "      <td>3</td>\n",
       "      <td>0.010701</td>\n",
       "      <td>26</td>\n",
       "      <td>0.000000</td>\n",
       "      <td>0.0</td>\n",
       "      <td>2.522003</td>\n",
       "      <td>0.0</td>\n",
       "      <td>0.0</td>\n",
       "      <td>0.0</td>\n",
       "      <td>1.0</td>\n",
       "      <td>1.0</td>\n",
       "      <td>1.0</td>\n",
       "      <td>1.0</td>\n",
       "      <td>1.0</td>\n",
       "      <td>1.0</td>\n",
       "    </tr>\n",
       "    <tr>\n",
       "      <th>1</th>\n",
       "      <td>21</td>\n",
       "      <td>0.019740</td>\n",
       "      <td>26</td>\n",
       "      <td>0.002732</td>\n",
       "      <td>43.0</td>\n",
       "      <td>2.522003</td>\n",
       "      <td>0.0</td>\n",
       "      <td>0.0</td>\n",
       "      <td>0.0</td>\n",
       "      <td>1.0</td>\n",
       "      <td>1.0</td>\n",
       "      <td>1.0</td>\n",
       "      <td>1.0</td>\n",
       "      <td>1.0</td>\n",
       "      <td>1.0</td>\n",
       "    </tr>\n",
       "    <tr>\n",
       "      <th>2</th>\n",
       "      <td>52</td>\n",
       "      <td>0.087397</td>\n",
       "      <td>26</td>\n",
       "      <td>0.003184</td>\n",
       "      <td>36.0</td>\n",
       "      <td>2.522003</td>\n",
       "      <td>0.0</td>\n",
       "      <td>0.0</td>\n",
       "      <td>0.0</td>\n",
       "      <td>1.0</td>\n",
       "      <td>1.0</td>\n",
       "      <td>1.0</td>\n",
       "      <td>1.0</td>\n",
       "      <td>1.0</td>\n",
       "      <td>1.0</td>\n",
       "    </tr>\n",
       "    <tr>\n",
       "      <th>3</th>\n",
       "      <td>80</td>\n",
       "      <td>0.045723</td>\n",
       "      <td>26</td>\n",
       "      <td>0.000000</td>\n",
       "      <td>0.0</td>\n",
       "      <td>2.522003</td>\n",
       "      <td>0.0</td>\n",
       "      <td>0.0</td>\n",
       "      <td>0.0</td>\n",
       "      <td>1.0</td>\n",
       "      <td>1.0</td>\n",
       "      <td>1.0</td>\n",
       "      <td>1.0</td>\n",
       "      <td>1.0</td>\n",
       "      <td>1.0</td>\n",
       "    </tr>\n",
       "    <tr>\n",
       "      <th>4</th>\n",
       "      <td>91</td>\n",
       "      <td>0.000000</td>\n",
       "      <td>26</td>\n",
       "      <td>0.001053</td>\n",
       "      <td>98.0</td>\n",
       "      <td>2.522003</td>\n",
       "      <td>0.0</td>\n",
       "      <td>0.0</td>\n",
       "      <td>0.0</td>\n",
       "      <td>1.0</td>\n",
       "      <td>1.0</td>\n",
       "      <td>1.0</td>\n",
       "      <td>1.0</td>\n",
       "      <td>1.0</td>\n",
       "      <td>1.0</td>\n",
       "    </tr>\n",
       "  </tbody>\n",
       "</table>\n",
       "</div>"
      ],
      "text/plain": [
       "   Item_ID  Score_Graph_W  Session_Id  score_transformer  rank_transformer  \\\n",
       "0        3       0.010701          26           0.000000               0.0   \n",
       "1       21       0.019740          26           0.002732              43.0   \n",
       "2       52       0.087397          26           0.003184              36.0   \n",
       "3       80       0.045723          26           0.000000               0.0   \n",
       "4       91       0.000000          26           0.001053              98.0   \n",
       "\n",
       "   Max_Score_Graph_W  length_of_session_seconds  \\\n",
       "0           2.522003                        0.0   \n",
       "1           2.522003                        0.0   \n",
       "2           2.522003                        0.0   \n",
       "3           2.522003                        0.0   \n",
       "4           2.522003                        0.0   \n",
       "\n",
       "   avg_time_spent_per_item_seconds  variance_time_spent_per_item_seconds  \\\n",
       "0                              0.0                                   0.0   \n",
       "1                              0.0                                   0.0   \n",
       "2                              0.0                                   0.0   \n",
       "3                              0.0                                   0.0   \n",
       "4                              0.0                                   0.0   \n",
       "\n",
       "   n_seen_items  n_unique_items  session_similarity  \\\n",
       "0           1.0             1.0                 1.0   \n",
       "1           1.0             1.0                 1.0   \n",
       "2           1.0             1.0                 1.0   \n",
       "3           1.0             1.0                 1.0   \n",
       "4           1.0             1.0                 1.0   \n",
       "\n",
       "   session_similarity_uniques  session_similarity_feats  \\\n",
       "0                         1.0                       1.0   \n",
       "1                         1.0                       1.0   \n",
       "2                         1.0                       1.0   \n",
       "3                         1.0                       1.0   \n",
       "4                         1.0                       1.0   \n",
       "\n",
       "   session_similarity_feats_uniques  \n",
       "0                               1.0  \n",
       "1                               1.0  \n",
       "2                               1.0  \n",
       "3                               1.0  \n",
       "4                               1.0  "
      ]
     },
     "execution_count": 150,
     "metadata": {},
     "output_type": "execute_result"
    }
   ],
   "source": [
    "datasets[\"Graph_W\"].head()"
   ]
  },
  {
   "cell_type": "code",
   "execution_count": 151,
   "id": "0e5ed5e6",
   "metadata": {
    "papermill": {
     "duration": 0.15881,
     "end_time": "2022-06-12T16:56:39.829383",
     "exception": false,
     "start_time": "2022-06-12T16:56:39.670573",
     "status": "completed"
    },
    "tags": []
   },
   "outputs": [
    {
     "data": {
      "text/plain": [
       "2200"
      ]
     },
     "execution_count": 151,
     "metadata": {},
     "output_type": "execute_result"
    }
   ],
   "source": [
    "gc.collect()"
   ]
  },
  {
   "cell_type": "code",
   "execution_count": 152,
   "id": "1546cffa",
   "metadata": {
    "papermill": {
     "duration": 3.39065,
     "end_time": "2022-06-12T16:56:43.274495",
     "exception": false,
     "start_time": "2022-06-12T16:56:39.883845",
     "status": "completed"
    },
    "tags": []
   },
   "outputs": [],
   "source": [
    "for model in selected_list:\n",
    "    datasets[model]=datasets[model].sort_values(\"Session_Id\")"
   ]
  },
  {
   "cell_type": "code",
   "execution_count": 153,
   "id": "ae00cbc6",
   "metadata": {
    "papermill": {
     "duration": 0.160414,
     "end_time": "2022-06-12T16:56:43.707099",
     "exception": false,
     "start_time": "2022-06-12T16:56:43.546685",
     "status": "completed"
    },
    "tags": []
   },
   "outputs": [
    {
     "data": {
      "text/plain": [
       "0"
      ]
     },
     "execution_count": 153,
     "metadata": {},
     "output_type": "execute_result"
    }
   ],
   "source": [
    "gc.collect()"
   ]
  },
  {
   "cell_type": "code",
   "execution_count": 154,
   "id": "6ec34b10",
   "metadata": {
    "papermill": {
     "duration": 1.779393,
     "end_time": "2022-06-12T16:56:45.541963",
     "exception": false,
     "start_time": "2022-06-12T16:56:43.762570",
     "status": "completed"
    },
    "tags": []
   },
   "outputs": [],
   "source": [
    "import lightgbm"
   ]
  },
  {
   "cell_type": "code",
   "execution_count": 155,
   "id": "5d441590",
   "metadata": {
    "papermill": {
     "duration": 0.123721,
     "end_time": "2022-06-12T16:56:45.722456",
     "exception": false,
     "start_time": "2022-06-12T16:56:45.598735",
     "status": "completed"
    },
    "tags": []
   },
   "outputs": [],
   "source": [
    "k=10"
   ]
  },
  {
   "cell_type": "code",
   "execution_count": 156,
   "id": "aec45332",
   "metadata": {
    "collapsed": false,
    "jupyter": {
     "outputs_hidden": false
    },
    "pycharm": {
     "name": "#%%\n"
    }
   },
   "outputs": [],
   "source": [
    "result = {}"
   ]
  },
  {
   "cell_type": "code",
   "execution_count": 157,
   "id": "2abd3acd",
   "metadata": {
    "papermill": {
     "duration": 135.802345,
     "end_time": "2022-06-12T16:59:01.582198",
     "exception": false,
     "start_time": "2022-06-12T16:56:45.779853",
     "status": "completed"
    },
    "tags": []
   },
   "outputs": [
    {
     "name": "stdout",
     "output_type": "stream",
     "text": [
      "Current iteration: 1 of 10 in model UCF_W\n",
      "Current iteration: 2 of 10 in model UCF_W\n",
      "Current iteration: 3 of 10 in model UCF_W\n",
      "Current iteration: 4 of 10 in model UCF_W\n",
      "Current iteration: 5 of 10 in model UCF_W\n",
      "Current iteration: 6 of 10 in model UCF_W\n",
      "Current iteration: 7 of 10 in model UCF_W\n",
      "Current iteration: 8 of 10 in model UCF_W\n",
      "Current iteration: 9 of 10 in model UCF_W\n",
      "Current iteration: 10 of 10 in model UCF_W\n",
      "Current iteration: 1 of 10 in model ICBF_W\n",
      "Current iteration: 2 of 10 in model ICBF_W\n",
      "Current iteration: 3 of 10 in model ICBF_W\n",
      "Current iteration: 4 of 10 in model ICBF_W\n",
      "Current iteration: 5 of 10 in model ICBF_W\n",
      "Current iteration: 6 of 10 in model ICBF_W\n",
      "Current iteration: 7 of 10 in model ICBF_W\n",
      "Current iteration: 8 of 10 in model ICBF_W\n",
      "Current iteration: 9 of 10 in model ICBF_W\n",
      "Current iteration: 10 of 10 in model ICBF_W\n",
      "Current iteration: 1 of 10 in model Graph_W\n",
      "Current iteration: 2 of 10 in model Graph_W\n",
      "Current iteration: 3 of 10 in model Graph_W\n",
      "Current iteration: 4 of 10 in model Graph_W\n",
      "Current iteration: 5 of 10 in model Graph_W\n",
      "Current iteration: 6 of 10 in model Graph_W\n",
      "Current iteration: 7 of 10 in model Graph_W\n",
      "Current iteration: 8 of 10 in model Graph_W\n",
      "Current iteration: 9 of 10 in model Graph_W\n",
      "Current iteration: 10 of 10 in model Graph_W\n",
      "Current iteration: 1 of 10 in model ICF_W\n",
      "Current iteration: 2 of 10 in model ICF_W\n",
      "Current iteration: 3 of 10 in model ICF_W\n",
      "Current iteration: 4 of 10 in model ICF_W\n",
      "Current iteration: 5 of 10 in model ICF_W\n",
      "Current iteration: 6 of 10 in model ICF_W\n",
      "Current iteration: 7 of 10 in model ICF_W\n",
      "Current iteration: 8 of 10 in model ICF_W\n",
      "Current iteration: 9 of 10 in model ICF_W\n",
      "Current iteration: 10 of 10 in model ICF_W\n"
     ]
    }
   ],
   "source": [
    "for model_name in selected_list:\n",
    "    result[model_name] = []\n",
    "    for index in range(k):\n",
    "        print(f\"Current iteration: {str(index + 1)} of {str(k)} in model {model_name}\")\n",
    "        model = lightgbm.Booster(model_file=f'../rankers/model_{model_name}_{index}.txt')\n",
    "        result[model_name].append(model.predict(datasets[model_name].drop([\"Session_Id\",\"Item_ID\"],axis=1)))\n",
    "        # dataset[f\"score_{index}\"]=model.predict(dataset.drop([\"Session_Id\",\"Item_ID\"],axis=1))\n",
    "    \n",
    "    #combine scores\n",
    "    result[model_name] = np.array(result[model_name])\n",
    "    result[model_name]"
   ]
  },
  {
   "cell_type": "code",
   "execution_count": 158,
   "id": "326d2ef7",
   "metadata": {
    "collapsed": false,
    "jupyter": {
     "outputs_hidden": false
    },
    "pycharm": {
     "name": "#%%\n"
    }
   },
   "outputs": [
    {
     "data": {
      "text/plain": [
       "(10, 18513737)"
      ]
     },
     "execution_count": 158,
     "metadata": {},
     "output_type": "execute_result"
    }
   ],
   "source": [
    "result[\"UCF_W\"].shape"
   ]
  },
  {
   "cell_type": "code",
   "execution_count": 159,
   "id": "a45cf2bb",
   "metadata": {
    "collapsed": false,
    "jupyter": {
     "outputs_hidden": false
    },
    "pycharm": {
     "name": "#%%\n"
    }
   },
   "outputs": [],
   "source": [
    "for model_name in selected_list:\n",
    "    datasets[model_name][\"score\"]=np.mean(result[model_name] ,axis=0)\n",
    "# dataset[\"score\"]=np.median(result ,axis=0)\n",
    "\n",
    "#dataset[\"score\"]=dataset[[f\"score_{i}\" for i in range(k)]].apply(lambda x:np.median(x),axis=1)"
   ]
  },
  {
   "cell_type": "code",
   "execution_count": 160,
   "id": "b92931e2",
   "metadata": {
    "papermill": {
     "duration": 0.442046,
     "end_time": "2022-06-12T16:59:02.081096",
     "exception": false,
     "start_time": "2022-06-12T16:59:01.639050",
     "status": "completed"
    },
    "tags": []
   },
   "outputs": [
    {
     "data": {
      "text/plain": [
       "57"
      ]
     },
     "execution_count": 160,
     "metadata": {},
     "output_type": "execute_result"
    }
   ],
   "source": [
    "for model_name in selected_list:\n",
    "    datasets[model_name]=datasets[model_name][[\"Session_Id\",\"Item_ID\",\"score\"]]\n",
    "gc.collect()"
   ]
  },
  {
   "cell_type": "code",
   "execution_count": 161,
   "id": "3a582375",
   "metadata": {
    "papermill": {
     "duration": 0.071213,
     "end_time": "2022-06-12T16:59:02.209707",
     "exception": false,
     "start_time": "2022-06-12T16:59:02.138494",
     "status": "completed"
    },
    "tags": []
   },
   "outputs": [
    {
     "data": {
      "text/html": [
       "<div>\n",
       "<style scoped>\n",
       "    .dataframe tbody tr th:only-of-type {\n",
       "        vertical-align: middle;\n",
       "    }\n",
       "\n",
       "    .dataframe tbody tr th {\n",
       "        vertical-align: top;\n",
       "    }\n",
       "\n",
       "    .dataframe thead th {\n",
       "        text-align: right;\n",
       "    }\n",
       "</style>\n",
       "<table border=\"1\" class=\"dataframe\">\n",
       "  <thead>\n",
       "    <tr style=\"text-align: right;\">\n",
       "      <th></th>\n",
       "      <th>Session_Id</th>\n",
       "      <th>Item_ID</th>\n",
       "      <th>score</th>\n",
       "    </tr>\n",
       "  </thead>\n",
       "  <tbody>\n",
       "    <tr>\n",
       "      <th>0</th>\n",
       "      <td>26</td>\n",
       "      <td>21</td>\n",
       "      <td>-0.445097</td>\n",
       "    </tr>\n",
       "    <tr>\n",
       "      <th>259</th>\n",
       "      <td>26</td>\n",
       "      <td>3391</td>\n",
       "      <td>-2.332193</td>\n",
       "    </tr>\n",
       "    <tr>\n",
       "      <th>257</th>\n",
       "      <td>26</td>\n",
       "      <td>3389</td>\n",
       "      <td>-2.332193</td>\n",
       "    </tr>\n",
       "    <tr>\n",
       "      <th>256</th>\n",
       "      <td>26</td>\n",
       "      <td>3388</td>\n",
       "      <td>-2.332193</td>\n",
       "    </tr>\n",
       "    <tr>\n",
       "      <th>255</th>\n",
       "      <td>26</td>\n",
       "      <td>3387</td>\n",
       "      <td>-2.332193</td>\n",
       "    </tr>\n",
       "  </tbody>\n",
       "</table>\n",
       "</div>"
      ],
      "text/plain": [
       "     Session_Id  Item_ID     score\n",
       "0            26       21 -0.445097\n",
       "259          26     3391 -2.332193\n",
       "257          26     3389 -2.332193\n",
       "256          26     3388 -2.332193\n",
       "255          26     3387 -2.332193"
      ]
     },
     "execution_count": 161,
     "metadata": {},
     "output_type": "execute_result"
    }
   ],
   "source": [
    "datasets[\"UCF_W\"].head()"
   ]
  },
  {
   "cell_type": "code",
   "execution_count": 162,
   "id": "bc8d36f9-ea52-446a-bfb9-91346cc57b10",
   "metadata": {},
   "outputs": [
    {
     "data": {
      "text/html": [
       "<div>\n",
       "<style scoped>\n",
       "    .dataframe tbody tr th:only-of-type {\n",
       "        vertical-align: middle;\n",
       "    }\n",
       "\n",
       "    .dataframe tbody tr th {\n",
       "        vertical-align: top;\n",
       "    }\n",
       "\n",
       "    .dataframe thead th {\n",
       "        text-align: right;\n",
       "    }\n",
       "</style>\n",
       "<table border=\"1\" class=\"dataframe\">\n",
       "  <thead>\n",
       "    <tr style=\"text-align: right;\">\n",
       "      <th></th>\n",
       "      <th>Session_Id</th>\n",
       "      <th>Item_ID</th>\n",
       "      <th>score</th>\n",
       "    </tr>\n",
       "  </thead>\n",
       "  <tbody>\n",
       "    <tr>\n",
       "      <th>0</th>\n",
       "      <td>26</td>\n",
       "      <td>9</td>\n",
       "      <td>-1.484400</td>\n",
       "    </tr>\n",
       "    <tr>\n",
       "      <th>268</th>\n",
       "      <td>26</td>\n",
       "      <td>3386</td>\n",
       "      <td>-2.326241</td>\n",
       "    </tr>\n",
       "    <tr>\n",
       "      <th>267</th>\n",
       "      <td>26</td>\n",
       "      <td>3385</td>\n",
       "      <td>-2.326241</td>\n",
       "    </tr>\n",
       "    <tr>\n",
       "      <th>266</th>\n",
       "      <td>26</td>\n",
       "      <td>3384</td>\n",
       "      <td>-2.326241</td>\n",
       "    </tr>\n",
       "    <tr>\n",
       "      <th>265</th>\n",
       "      <td>26</td>\n",
       "      <td>3383</td>\n",
       "      <td>-2.326241</td>\n",
       "    </tr>\n",
       "  </tbody>\n",
       "</table>\n",
       "</div>"
      ],
      "text/plain": [
       "     Session_Id  Item_ID     score\n",
       "0            26        9 -1.484400\n",
       "268          26     3386 -2.326241\n",
       "267          26     3385 -2.326241\n",
       "266          26     3384 -2.326241\n",
       "265          26     3383 -2.326241"
      ]
     },
     "execution_count": 162,
     "metadata": {},
     "output_type": "execute_result"
    }
   ],
   "source": [
    "datasets[\"ICBF_W\"].head()"
   ]
  },
  {
   "cell_type": "code",
   "execution_count": 163,
   "id": "c54ceefa-7fbb-4fa6-9d9b-697c8205de8b",
   "metadata": {},
   "outputs": [
    {
     "data": {
      "text/html": [
       "<div>\n",
       "<style scoped>\n",
       "    .dataframe tbody tr th:only-of-type {\n",
       "        vertical-align: middle;\n",
       "    }\n",
       "\n",
       "    .dataframe tbody tr th {\n",
       "        vertical-align: top;\n",
       "    }\n",
       "\n",
       "    .dataframe thead th {\n",
       "        text-align: right;\n",
       "    }\n",
       "</style>\n",
       "<table border=\"1\" class=\"dataframe\">\n",
       "  <thead>\n",
       "    <tr style=\"text-align: right;\">\n",
       "      <th></th>\n",
       "      <th>Session_Id</th>\n",
       "      <th>Item_ID</th>\n",
       "      <th>score</th>\n",
       "    </tr>\n",
       "  </thead>\n",
       "  <tbody>\n",
       "    <tr>\n",
       "      <th>0</th>\n",
       "      <td>26</td>\n",
       "      <td>3</td>\n",
       "      <td>-1.543125</td>\n",
       "    </tr>\n",
       "    <tr>\n",
       "      <th>307</th>\n",
       "      <td>26</td>\n",
       "      <td>3393</td>\n",
       "      <td>-2.919423</td>\n",
       "    </tr>\n",
       "    <tr>\n",
       "      <th>306</th>\n",
       "      <td>26</td>\n",
       "      <td>3392</td>\n",
       "      <td>-2.919423</td>\n",
       "    </tr>\n",
       "    <tr>\n",
       "      <th>305</th>\n",
       "      <td>26</td>\n",
       "      <td>3391</td>\n",
       "      <td>-2.919423</td>\n",
       "    </tr>\n",
       "    <tr>\n",
       "      <th>304</th>\n",
       "      <td>26</td>\n",
       "      <td>3390</td>\n",
       "      <td>-2.919423</td>\n",
       "    </tr>\n",
       "  </tbody>\n",
       "</table>\n",
       "</div>"
      ],
      "text/plain": [
       "     Session_Id  Item_ID     score\n",
       "0            26        3 -1.543125\n",
       "307          26     3393 -2.919423\n",
       "306          26     3392 -2.919423\n",
       "305          26     3391 -2.919423\n",
       "304          26     3390 -2.919423"
      ]
     },
     "execution_count": 163,
     "metadata": {},
     "output_type": "execute_result"
    }
   ],
   "source": [
    "datasets[\"ICF_W\"].head()"
   ]
  },
  {
   "cell_type": "code",
   "execution_count": 164,
   "id": "2fef1bc3-470d-488f-ad6c-c8fd63709b2e",
   "metadata": {},
   "outputs": [
    {
     "data": {
      "text/html": [
       "<div>\n",
       "<style scoped>\n",
       "    .dataframe tbody tr th:only-of-type {\n",
       "        vertical-align: middle;\n",
       "    }\n",
       "\n",
       "    .dataframe tbody tr th {\n",
       "        vertical-align: top;\n",
       "    }\n",
       "\n",
       "    .dataframe thead th {\n",
       "        text-align: right;\n",
       "    }\n",
       "</style>\n",
       "<table border=\"1\" class=\"dataframe\">\n",
       "  <thead>\n",
       "    <tr style=\"text-align: right;\">\n",
       "      <th></th>\n",
       "      <th>Session_Id</th>\n",
       "      <th>Item_ID</th>\n",
       "      <th>score</th>\n",
       "    </tr>\n",
       "  </thead>\n",
       "  <tbody>\n",
       "    <tr>\n",
       "      <th>0</th>\n",
       "      <td>26</td>\n",
       "      <td>3</td>\n",
       "      <td>-1.779565</td>\n",
       "    </tr>\n",
       "    <tr>\n",
       "      <th>131</th>\n",
       "      <td>26</td>\n",
       "      <td>3203</td>\n",
       "      <td>-1.946133</td>\n",
       "    </tr>\n",
       "    <tr>\n",
       "      <th>132</th>\n",
       "      <td>26</td>\n",
       "      <td>3212</td>\n",
       "      <td>-0.360857</td>\n",
       "    </tr>\n",
       "    <tr>\n",
       "      <th>133</th>\n",
       "      <td>26</td>\n",
       "      <td>3240</td>\n",
       "      <td>-1.557295</td>\n",
       "    </tr>\n",
       "    <tr>\n",
       "      <th>134</th>\n",
       "      <td>26</td>\n",
       "      <td>3266</td>\n",
       "      <td>-1.945734</td>\n",
       "    </tr>\n",
       "  </tbody>\n",
       "</table>\n",
       "</div>"
      ],
      "text/plain": [
       "     Session_Id  Item_ID     score\n",
       "0            26        3 -1.779565\n",
       "131          26     3203 -1.946133\n",
       "132          26     3212 -0.360857\n",
       "133          26     3240 -1.557295\n",
       "134          26     3266 -1.945734"
      ]
     },
     "execution_count": 164,
     "metadata": {},
     "output_type": "execute_result"
    }
   ],
   "source": [
    "datasets[\"Graph_W\"].head()"
   ]
  },
  {
   "cell_type": "code",
   "execution_count": 165,
   "id": "f62e232f",
   "metadata": {
    "papermill": {
     "duration": 14.365345,
     "end_time": "2022-06-12T16:59:16.631745",
     "exception": false,
     "start_time": "2022-06-12T16:59:02.266400",
     "status": "completed"
    },
    "tags": []
   },
   "outputs": [],
   "source": [
    "for model_name in selected_list:\n",
    "    datasets[model_name]=datasets[model_name].groupby(['Session_Id']).agg(list).reset_index()"
   ]
  },
  {
   "cell_type": "code",
   "execution_count": 166,
   "id": "9b85040e",
   "metadata": {
    "papermill": {
     "duration": 0.070322,
     "end_time": "2022-06-12T16:59:16.759733",
     "exception": false,
     "start_time": "2022-06-12T16:59:16.689411",
     "status": "completed"
    },
    "tags": []
   },
   "outputs": [],
   "source": [
    "def get_indices(x):\n",
    "    print(f\"x is {x}\")\n",
    "    x=np.array(x)\n",
    "    indices_unsorted=np.argpartition(x, -100)[-100:]\n",
    "    x=x[indices_unsorted]\n",
    "    indices=indices_unsorted[np.argsort(-x)]\n",
    "    return indices"
   ]
  },
  {
   "cell_type": "code",
   "execution_count": 167,
   "id": "322214a9",
   "metadata": {
    "papermill": {
     "duration": 4.723503,
     "end_time": "2022-06-12T16:59:21.541339",
     "exception": false,
     "start_time": "2022-06-12T16:59:16.817836",
     "status": "completed"
    },
    "tags": []
   },
   "outputs": [
    {
     "name": "stderr",
     "output_type": "stream",
     "text": [
      "IOPub data rate exceeded.\n",
      "The Jupyter server will temporarily stop sending output\n",
      "to the client in order to avoid crashing it.\n",
      "To change this limit, set the config variable\n",
      "`--ServerApp.iopub_data_rate_limit`.\n",
      "\n",
      "Current values:\n",
      "ServerApp.iopub_data_rate_limit=1000000.0 (bytes/sec)\n",
      "ServerApp.rate_limit_window=3.0 (secs)\n",
      "\n"
     ]
    }
   ],
   "source": [
    "for model_name in selected_list:\n",
    "    datasets[model_name][\"indices\"]=datasets[model_name][\"score\"].apply(lambda x: get_indices(x))"
   ]
  },
  {
   "cell_type": "code",
   "execution_count": 168,
   "id": "0d15c34d",
   "metadata": {
    "papermill": {
     "duration": 0.069271,
     "end_time": "2022-06-12T16:59:21.669582",
     "exception": false,
     "start_time": "2022-06-12T16:59:21.600311",
     "status": "completed"
    },
    "tags": []
   },
   "outputs": [
    {
     "data": {
      "text/plain": [
       "Session_Id                                                   26\n",
       "Item_ID       [21, 3391, 3389, 3388, 3387, 3386, 3385, 3384,...\n",
       "score         [-0.44509679930495827, -2.332192549813848, -2....\n",
       "indices       [279, 238, 136, 196, 202, 101, 171, 123, 350, ...\n",
       "Name: 0, dtype: object"
      ]
     },
     "execution_count": 168,
     "metadata": {},
     "output_type": "execute_result"
    }
   ],
   "source": [
    "datasets[\"UCF_W\"].iloc[0]"
   ]
  },
  {
   "cell_type": "code",
   "execution_count": 169,
   "id": "03fdb648-2c81-4c72-8a93-1f6e721a4fc0",
   "metadata": {},
   "outputs": [
    {
     "data": {
      "text/plain": [
       "Session_Id                                                   26\n",
       "Item_ID       [9, 3386, 3385, 3384, 3383, 3379, 3373, 3372, ...\n",
       "score         [-1.484400040258102, -2.32624080370014, -2.326...\n",
       "indices       [287, 378, 318, 344, 211, 140, 111, 302, 116, ...\n",
       "Name: 0, dtype: object"
      ]
     },
     "execution_count": 169,
     "metadata": {},
     "output_type": "execute_result"
    }
   ],
   "source": [
    "datasets[\"ICBF_W\"].iloc[0]"
   ]
  },
  {
   "cell_type": "code",
   "execution_count": 170,
   "id": "72b2ab5f-dbf6-4732-bddf-b8a6cf7e2f60",
   "metadata": {},
   "outputs": [
    {
     "data": {
      "text/plain": [
       "Session_Id                                                   26\n",
       "Item_ID       [3, 3393, 3392, 3391, 3390, 3389, 3388, 3379, ...\n",
       "score         [-1.5431252715456623, -2.9194234862297526, -2....\n",
       "indices       [325, 164, 270, 239, 253, 194, 214, 435, 278, ...\n",
       "Name: 0, dtype: object"
      ]
     },
     "execution_count": 170,
     "metadata": {},
     "output_type": "execute_result"
    }
   ],
   "source": [
    "datasets[\"ICF_W\"].iloc[0]"
   ]
  },
  {
   "cell_type": "code",
   "execution_count": 171,
   "id": "bd513ed8-2768-480c-a19b-9284fa3ce16f",
   "metadata": {},
   "outputs": [
    {
     "data": {
      "text/plain": [
       "Session_Id                                                   26\n",
       "Item_ID       [3, 3203, 3212, 3240, 3266, 3404, 3452, 3495, ...\n",
       "score         [-1.7795649561513778, -1.9461325690970075, -0....\n",
       "indices       [114, 117, 59, 188, 155, 76, 149, 82, 170, 139...\n",
       "Name: 0, dtype: object"
      ]
     },
     "execution_count": 171,
     "metadata": {},
     "output_type": "execute_result"
    }
   ],
   "source": [
    "datasets[\"Graph_W\"].iloc[0]"
   ]
  },
  {
   "cell_type": "code",
   "execution_count": 173,
   "id": "bddb4385",
   "metadata": {
    "papermill": {
     "duration": 0.066992,
     "end_time": "2022-06-12T16:59:21.795321",
     "exception": false,
     "start_time": "2022-06-12T16:59:21.728329",
     "status": "completed"
    },
    "tags": []
   },
   "outputs": [
    {
     "data": {
      "text/plain": [
       "2152"
      ]
     },
     "execution_count": 173,
     "metadata": {},
     "output_type": "execute_result"
    }
   ],
   "source": [
    "datasets[\"UCF_W\"].iloc[0][\"Item_ID\"][236]"
   ]
  },
  {
   "cell_type": "code",
   "execution_count": 174,
   "id": "cedeb8c0-8024-4946-906a-63112472b3a6",
   "metadata": {},
   "outputs": [
    {
     "data": {
      "text/plain": [
       "1407"
      ]
     },
     "execution_count": 174,
     "metadata": {},
     "output_type": "execute_result"
    }
   ],
   "source": [
    "datasets[\"ICBF_W\"].iloc[0][\"Item_ID\"][236]"
   ]
  },
  {
   "cell_type": "code",
   "execution_count": 175,
   "id": "f45babdc-205f-4143-9667-945faa1046e5",
   "metadata": {},
   "outputs": [
    {
     "data": {
      "text/plain": [
       "1032"
      ]
     },
     "execution_count": 175,
     "metadata": {},
     "output_type": "execute_result"
    }
   ],
   "source": [
    "datasets[\"ICF_W\"].iloc[0][\"Item_ID\"][236]"
   ]
  },
  {
   "cell_type": "code",
   "execution_count": 177,
   "id": "4699974c-4884-4d71-bd49-b27abcab2344",
   "metadata": {},
   "outputs": [
    {
     "data": {
      "text/plain": [
       "167"
      ]
     },
     "execution_count": 177,
     "metadata": {},
     "output_type": "execute_result"
    }
   ],
   "source": [
    "datasets[\"Graph_W\"].iloc[0][\"Item_ID\"][136]"
   ]
  },
  {
   "cell_type": "code",
   "execution_count": 178,
   "id": "ebaf1049",
   "metadata": {
    "papermill": {
     "duration": 0.065781,
     "end_time": "2022-06-12T16:59:21.918641",
     "exception": false,
     "start_time": "2022-06-12T16:59:21.852860",
     "status": "completed"
    },
    "tags": []
   },
   "outputs": [],
   "source": [
    "def get_items(x):\n",
    "    items=np.array(x[0])\n",
    "    return items[x[1]]"
   ]
  },
  {
   "cell_type": "code",
   "execution_count": 179,
   "id": "144e62b2",
   "metadata": {
    "papermill": {
     "duration": 4.96688,
     "end_time": "2022-06-12T16:59:26.943713",
     "exception": false,
     "start_time": "2022-06-12T16:59:21.976833",
     "status": "completed"
    },
    "tags": []
   },
   "outputs": [
    {
     "name": "stderr",
     "output_type": "stream",
     "text": [
      "/var/folders/yt/h_zrk_k931s4wj_999xrfy0m0000gq/T/ipykernel_25916/744460501.py:2: FutureWarning: Series.__getitem__ treating keys as positions is deprecated. In a future version, integer keys will always be treated as labels (consistent with DataFrame behavior). To access a value by position, use `ser.iloc[pos]`\n",
      "  items=np.array(x[0])\n",
      "/var/folders/yt/h_zrk_k931s4wj_999xrfy0m0000gq/T/ipykernel_25916/744460501.py:3: FutureWarning: Series.__getitem__ treating keys as positions is deprecated. In a future version, integer keys will always be treated as labels (consistent with DataFrame behavior). To access a value by position, use `ser.iloc[pos]`\n",
      "  return items[x[1]]\n",
      "/var/folders/yt/h_zrk_k931s4wj_999xrfy0m0000gq/T/ipykernel_25916/744460501.py:2: FutureWarning: Series.__getitem__ treating keys as positions is deprecated. In a future version, integer keys will always be treated as labels (consistent with DataFrame behavior). To access a value by position, use `ser.iloc[pos]`\n",
      "  items=np.array(x[0])\n",
      "/var/folders/yt/h_zrk_k931s4wj_999xrfy0m0000gq/T/ipykernel_25916/744460501.py:3: FutureWarning: Series.__getitem__ treating keys as positions is deprecated. In a future version, integer keys will always be treated as labels (consistent with DataFrame behavior). To access a value by position, use `ser.iloc[pos]`\n",
      "  return items[x[1]]\n",
      "/var/folders/yt/h_zrk_k931s4wj_999xrfy0m0000gq/T/ipykernel_25916/744460501.py:2: FutureWarning: Series.__getitem__ treating keys as positions is deprecated. In a future version, integer keys will always be treated as labels (consistent with DataFrame behavior). To access a value by position, use `ser.iloc[pos]`\n",
      "  items=np.array(x[0])\n",
      "/var/folders/yt/h_zrk_k931s4wj_999xrfy0m0000gq/T/ipykernel_25916/744460501.py:3: FutureWarning: Series.__getitem__ treating keys as positions is deprecated. In a future version, integer keys will always be treated as labels (consistent with DataFrame behavior). To access a value by position, use `ser.iloc[pos]`\n",
      "  return items[x[1]]\n",
      "/var/folders/yt/h_zrk_k931s4wj_999xrfy0m0000gq/T/ipykernel_25916/744460501.py:2: FutureWarning: Series.__getitem__ treating keys as positions is deprecated. In a future version, integer keys will always be treated as labels (consistent with DataFrame behavior). To access a value by position, use `ser.iloc[pos]`\n",
      "  items=np.array(x[0])\n",
      "/var/folders/yt/h_zrk_k931s4wj_999xrfy0m0000gq/T/ipykernel_25916/744460501.py:3: FutureWarning: Series.__getitem__ treating keys as positions is deprecated. In a future version, integer keys will always be treated as labels (consistent with DataFrame behavior). To access a value by position, use `ser.iloc[pos]`\n",
      "  return items[x[1]]\n"
     ]
    }
   ],
   "source": [
    "for model_name in selected_list:\n",
    "    datasets[model_name][\"predictions\"]=datasets[model_name][[\"Item_ID\",\"indices\"]].apply(get_items,axis=1)"
   ]
  },
  {
   "cell_type": "code",
   "execution_count": 180,
   "id": "b3e85988",
   "metadata": {
    "papermill": {
     "duration": 1.416768,
     "end_time": "2022-06-12T16:59:28.419052",
     "exception": false,
     "start_time": "2022-06-12T16:59:27.002284",
     "status": "completed"
    },
    "tags": []
   },
   "outputs": [],
   "source": [
    "for model_name in selected_list:\n",
    "    datasets[model_name]=datasets[model_name][[\"Session_Id\",\"predictions\"]]\n",
    "    datasets[model_name][\"rank\"]=datasets[model_name].apply(lambda x:tuple([rank for rank in range(1, 101)]) ,axis=1)"
   ]
  },
  {
   "cell_type": "code",
   "execution_count": 181,
   "id": "2c55ecc0",
   "metadata": {
    "papermill": {
     "duration": 0.099685,
     "end_time": "2022-06-12T16:59:28.576741",
     "exception": false,
     "start_time": "2022-06-12T16:59:28.477056",
     "status": "completed"
    },
    "tags": []
   },
   "outputs": [
    {
     "data": {
      "text/html": [
       "<div>\n",
       "<style scoped>\n",
       "    .dataframe tbody tr th:only-of-type {\n",
       "        vertical-align: middle;\n",
       "    }\n",
       "\n",
       "    .dataframe tbody tr th {\n",
       "        vertical-align: top;\n",
       "    }\n",
       "\n",
       "    .dataframe thead th {\n",
       "        text-align: right;\n",
       "    }\n",
       "</style>\n",
       "<table border=\"1\" class=\"dataframe\">\n",
       "  <thead>\n",
       "    <tr style=\"text-align: right;\">\n",
       "      <th></th>\n",
       "      <th>Session_Id</th>\n",
       "      <th>predictions</th>\n",
       "      <th>rank</th>\n",
       "    </tr>\n",
       "  </thead>\n",
       "  <tbody>\n",
       "    <tr>\n",
       "      <th>0</th>\n",
       "      <td>26</td>\n",
       "      <td>[606, 1008, 4685, 1337, 1205, 4462, 3894, 4952...</td>\n",
       "      <td>(1, 2, 3, 4, 5, 6, 7, 8, 9, 10, 11, 12, 13, 14...</td>\n",
       "    </tr>\n",
       "    <tr>\n",
       "      <th>1</th>\n",
       "      <td>200</td>\n",
       "      <td>[1827, 772, 270, 3400, 3893, 4878, 3526, 3656,...</td>\n",
       "      <td>(1, 2, 3, 4, 5, 6, 7, 8, 9, 10, 11, 12, 13, 14...</td>\n",
       "    </tr>\n",
       "    <tr>\n",
       "      <th>2</th>\n",
       "      <td>205</td>\n",
       "      <td>[3398, 2289, 4986, 1181, 2235, 4741, 3833, 786...</td>\n",
       "      <td>(1, 2, 3, 4, 5, 6, 7, 8, 9, 10, 11, 12, 13, 14...</td>\n",
       "    </tr>\n",
       "    <tr>\n",
       "      <th>3</th>\n",
       "      <td>495</td>\n",
       "      <td>[4148, 4418, 4686, 1726, 1139, 1609, 1136, 292...</td>\n",
       "      <td>(1, 2, 3, 4, 5, 6, 7, 8, 9, 10, 11, 12, 13, 14...</td>\n",
       "    </tr>\n",
       "    <tr>\n",
       "      <th>4</th>\n",
       "      <td>521</td>\n",
       "      <td>[3586, 1004, 3172, 143, 1165, 3180, 1518, 2485...</td>\n",
       "      <td>(1, 2, 3, 4, 5, 6, 7, 8, 9, 10, 11, 12, 13, 14...</td>\n",
       "    </tr>\n",
       "    <tr>\n",
       "      <th>...</th>\n",
       "      <td>...</td>\n",
       "      <td>...</td>\n",
       "      <td>...</td>\n",
       "    </tr>\n",
       "    <tr>\n",
       "      <th>49995</th>\n",
       "      <td>4439446</td>\n",
       "      <td>[4387, 2258, 4810, 3526, 2530, 2605, 2959, 386...</td>\n",
       "      <td>(1, 2, 3, 4, 5, 6, 7, 8, 9, 10, 11, 12, 13, 14...</td>\n",
       "    </tr>\n",
       "    <tr>\n",
       "      <th>49996</th>\n",
       "      <td>4439458</td>\n",
       "      <td>[3880, 3155, 2877, 3550, 3026, 2216, 3586, 135...</td>\n",
       "      <td>(1, 2, 3, 4, 5, 6, 7, 8, 9, 10, 11, 12, 13, 14...</td>\n",
       "    </tr>\n",
       "    <tr>\n",
       "      <th>49997</th>\n",
       "      <td>4439550</td>\n",
       "      <td>[4779, 4846, 625, 2266, 2431, 2638, 1901, 2448...</td>\n",
       "      <td>(1, 2, 3, 4, 5, 6, 7, 8, 9, 10, 11, 12, 13, 14...</td>\n",
       "    </tr>\n",
       "    <tr>\n",
       "      <th>49998</th>\n",
       "      <td>4439653</td>\n",
       "      <td>[3531, 42, 1015, 989, 2696, 360, 2266, 1077, 2...</td>\n",
       "      <td>(1, 2, 3, 4, 5, 6, 7, 8, 9, 10, 11, 12, 13, 14...</td>\n",
       "    </tr>\n",
       "    <tr>\n",
       "      <th>49999</th>\n",
       "      <td>4439757</td>\n",
       "      <td>[3252, 3158, 1440, 3490, 165, 3629, 3191, 1057...</td>\n",
       "      <td>(1, 2, 3, 4, 5, 6, 7, 8, 9, 10, 11, 12, 13, 14...</td>\n",
       "    </tr>\n",
       "  </tbody>\n",
       "</table>\n",
       "<p>50000 rows × 3 columns</p>\n",
       "</div>"
      ],
      "text/plain": [
       "       Session_Id                                        predictions  \\\n",
       "0              26  [606, 1008, 4685, 1337, 1205, 4462, 3894, 4952...   \n",
       "1             200  [1827, 772, 270, 3400, 3893, 4878, 3526, 3656,...   \n",
       "2             205  [3398, 2289, 4986, 1181, 2235, 4741, 3833, 786...   \n",
       "3             495  [4148, 4418, 4686, 1726, 1139, 1609, 1136, 292...   \n",
       "4             521  [3586, 1004, 3172, 143, 1165, 3180, 1518, 2485...   \n",
       "...           ...                                                ...   \n",
       "49995     4439446  [4387, 2258, 4810, 3526, 2530, 2605, 2959, 386...   \n",
       "49996     4439458  [3880, 3155, 2877, 3550, 3026, 2216, 3586, 135...   \n",
       "49997     4439550  [4779, 4846, 625, 2266, 2431, 2638, 1901, 2448...   \n",
       "49998     4439653  [3531, 42, 1015, 989, 2696, 360, 2266, 1077, 2...   \n",
       "49999     4439757  [3252, 3158, 1440, 3490, 165, 3629, 3191, 1057...   \n",
       "\n",
       "                                                    rank  \n",
       "0      (1, 2, 3, 4, 5, 6, 7, 8, 9, 10, 11, 12, 13, 14...  \n",
       "1      (1, 2, 3, 4, 5, 6, 7, 8, 9, 10, 11, 12, 13, 14...  \n",
       "2      (1, 2, 3, 4, 5, 6, 7, 8, 9, 10, 11, 12, 13, 14...  \n",
       "3      (1, 2, 3, 4, 5, 6, 7, 8, 9, 10, 11, 12, 13, 14...  \n",
       "4      (1, 2, 3, 4, 5, 6, 7, 8, 9, 10, 11, 12, 13, 14...  \n",
       "...                                                  ...  \n",
       "49995  (1, 2, 3, 4, 5, 6, 7, 8, 9, 10, 11, 12, 13, 14...  \n",
       "49996  (1, 2, 3, 4, 5, 6, 7, 8, 9, 10, 11, 12, 13, 14...  \n",
       "49997  (1, 2, 3, 4, 5, 6, 7, 8, 9, 10, 11, 12, 13, 14...  \n",
       "49998  (1, 2, 3, 4, 5, 6, 7, 8, 9, 10, 11, 12, 13, 14...  \n",
       "49999  (1, 2, 3, 4, 5, 6, 7, 8, 9, 10, 11, 12, 13, 14...  \n",
       "\n",
       "[50000 rows x 3 columns]"
      ]
     },
     "execution_count": 181,
     "metadata": {},
     "output_type": "execute_result"
    }
   ],
   "source": [
    "datasets[\"UCF_W\"]"
   ]
  },
  {
   "cell_type": "code",
   "execution_count": 182,
   "id": "57654b21-68cb-452f-8188-2c4bb64a9ed9",
   "metadata": {},
   "outputs": [
    {
     "data": {
      "text/html": [
       "<div>\n",
       "<style scoped>\n",
       "    .dataframe tbody tr th:only-of-type {\n",
       "        vertical-align: middle;\n",
       "    }\n",
       "\n",
       "    .dataframe tbody tr th {\n",
       "        vertical-align: top;\n",
       "    }\n",
       "\n",
       "    .dataframe thead th {\n",
       "        text-align: right;\n",
       "    }\n",
       "</style>\n",
       "<table border=\"1\" class=\"dataframe\">\n",
       "  <thead>\n",
       "    <tr style=\"text-align: right;\">\n",
       "      <th></th>\n",
       "      <th>Session_Id</th>\n",
       "      <th>predictions</th>\n",
       "      <th>rank</th>\n",
       "    </tr>\n",
       "  </thead>\n",
       "  <tbody>\n",
       "    <tr>\n",
       "      <th>0</th>\n",
       "      <td>26</td>\n",
       "      <td>[606, 2684, 2905, 3266, 1008, 4685, 4384, 3155...</td>\n",
       "      <td>(1, 2, 3, 4, 5, 6, 7, 8, 9, 10, 11, 12, 13, 14...</td>\n",
       "    </tr>\n",
       "    <tr>\n",
       "      <th>1</th>\n",
       "      <td>200</td>\n",
       "      <td>[1827, 3400, 3893, 1331, 1449, 772, 2793, 270,...</td>\n",
       "      <td>(1, 2, 3, 4, 5, 6, 7, 8, 9, 10, 11, 12, 13, 14...</td>\n",
       "    </tr>\n",
       "    <tr>\n",
       "      <th>2</th>\n",
       "      <td>205</td>\n",
       "      <td>[3398, 2289, 4986, 1181, 2235, 2075, 221, 1484...</td>\n",
       "      <td>(1, 2, 3, 4, 5, 6, 7, 8, 9, 10, 11, 12, 13, 14...</td>\n",
       "    </tr>\n",
       "    <tr>\n",
       "      <th>3</th>\n",
       "      <td>495</td>\n",
       "      <td>[2378, 3937, 4845, 1139, 4686, 3815, 4148, 441...</td>\n",
       "      <td>(1, 2, 3, 4, 5, 6, 7, 8, 9, 10, 11, 12, 13, 14...</td>\n",
       "    </tr>\n",
       "    <tr>\n",
       "      <th>4</th>\n",
       "      <td>521</td>\n",
       "      <td>[1004, 7, 25, 2873, 3550, 1518, 3705, 2485, 16...</td>\n",
       "      <td>(1, 2, 3, 4, 5, 6, 7, 8, 9, 10, 11, 12, 13, 14...</td>\n",
       "    </tr>\n",
       "    <tr>\n",
       "      <th>...</th>\n",
       "      <td>...</td>\n",
       "      <td>...</td>\n",
       "      <td>...</td>\n",
       "    </tr>\n",
       "    <tr>\n",
       "      <th>49995</th>\n",
       "      <td>4439446</td>\n",
       "      <td>[2258, 4387, 3782, 2959, 311, 2605, 1743, 2898...</td>\n",
       "      <td>(1, 2, 3, 4, 5, 6, 7, 8, 9, 10, 11, 12, 13, 14...</td>\n",
       "    </tr>\n",
       "    <tr>\n",
       "      <th>49996</th>\n",
       "      <td>4439458</td>\n",
       "      <td>[3026, 1248, 3880, 4770, 2705, 2919, 1875, 315...</td>\n",
       "      <td>(1, 2, 3, 4, 5, 6, 7, 8, 9, 10, 11, 12, 13, 14...</td>\n",
       "    </tr>\n",
       "    <tr>\n",
       "      <th>49997</th>\n",
       "      <td>4439550</td>\n",
       "      <td>[4779, 1565, 885, 2547, 1901, 989, 2994, 3660,...</td>\n",
       "      <td>(1, 2, 3, 4, 5, 6, 7, 8, 9, 10, 11, 12, 13, 14...</td>\n",
       "    </tr>\n",
       "    <tr>\n",
       "      <th>49998</th>\n",
       "      <td>4439653</td>\n",
       "      <td>[42, 1015, 3531, 989, 1077, 3790, 1785, 2696, ...</td>\n",
       "      <td>(1, 2, 3, 4, 5, 6, 7, 8, 9, 10, 11, 12, 13, 14...</td>\n",
       "    </tr>\n",
       "    <tr>\n",
       "      <th>49999</th>\n",
       "      <td>4439757</td>\n",
       "      <td>[3252, 3158, 1440, 3777, 1057, 3490, 986, 3191...</td>\n",
       "      <td>(1, 2, 3, 4, 5, 6, 7, 8, 9, 10, 11, 12, 13, 14...</td>\n",
       "    </tr>\n",
       "  </tbody>\n",
       "</table>\n",
       "<p>50000 rows × 3 columns</p>\n",
       "</div>"
      ],
      "text/plain": [
       "       Session_Id                                        predictions  \\\n",
       "0              26  [606, 2684, 2905, 3266, 1008, 4685, 4384, 3155...   \n",
       "1             200  [1827, 3400, 3893, 1331, 1449, 772, 2793, 270,...   \n",
       "2             205  [3398, 2289, 4986, 1181, 2235, 2075, 221, 1484...   \n",
       "3             495  [2378, 3937, 4845, 1139, 4686, 3815, 4148, 441...   \n",
       "4             521  [1004, 7, 25, 2873, 3550, 1518, 3705, 2485, 16...   \n",
       "...           ...                                                ...   \n",
       "49995     4439446  [2258, 4387, 3782, 2959, 311, 2605, 1743, 2898...   \n",
       "49996     4439458  [3026, 1248, 3880, 4770, 2705, 2919, 1875, 315...   \n",
       "49997     4439550  [4779, 1565, 885, 2547, 1901, 989, 2994, 3660,...   \n",
       "49998     4439653  [42, 1015, 3531, 989, 1077, 3790, 1785, 2696, ...   \n",
       "49999     4439757  [3252, 3158, 1440, 3777, 1057, 3490, 986, 3191...   \n",
       "\n",
       "                                                    rank  \n",
       "0      (1, 2, 3, 4, 5, 6, 7, 8, 9, 10, 11, 12, 13, 14...  \n",
       "1      (1, 2, 3, 4, 5, 6, 7, 8, 9, 10, 11, 12, 13, 14...  \n",
       "2      (1, 2, 3, 4, 5, 6, 7, 8, 9, 10, 11, 12, 13, 14...  \n",
       "3      (1, 2, 3, 4, 5, 6, 7, 8, 9, 10, 11, 12, 13, 14...  \n",
       "4      (1, 2, 3, 4, 5, 6, 7, 8, 9, 10, 11, 12, 13, 14...  \n",
       "...                                                  ...  \n",
       "49995  (1, 2, 3, 4, 5, 6, 7, 8, 9, 10, 11, 12, 13, 14...  \n",
       "49996  (1, 2, 3, 4, 5, 6, 7, 8, 9, 10, 11, 12, 13, 14...  \n",
       "49997  (1, 2, 3, 4, 5, 6, 7, 8, 9, 10, 11, 12, 13, 14...  \n",
       "49998  (1, 2, 3, 4, 5, 6, 7, 8, 9, 10, 11, 12, 13, 14...  \n",
       "49999  (1, 2, 3, 4, 5, 6, 7, 8, 9, 10, 11, 12, 13, 14...  \n",
       "\n",
       "[50000 rows x 3 columns]"
      ]
     },
     "execution_count": 182,
     "metadata": {},
     "output_type": "execute_result"
    }
   ],
   "source": [
    "datasets[\"ICBF_W\"]"
   ]
  },
  {
   "cell_type": "code",
   "execution_count": 183,
   "id": "3be47c00-1704-49a3-ae7c-f0c5fdf85e3d",
   "metadata": {},
   "outputs": [
    {
     "data": {
      "text/html": [
       "<div>\n",
       "<style scoped>\n",
       "    .dataframe tbody tr th:only-of-type {\n",
       "        vertical-align: middle;\n",
       "    }\n",
       "\n",
       "    .dataframe tbody tr th {\n",
       "        vertical-align: top;\n",
       "    }\n",
       "\n",
       "    .dataframe thead th {\n",
       "        text-align: right;\n",
       "    }\n",
       "</style>\n",
       "<table border=\"1\" class=\"dataframe\">\n",
       "  <thead>\n",
       "    <tr style=\"text-align: right;\">\n",
       "      <th></th>\n",
       "      <th>Session_Id</th>\n",
       "      <th>predictions</th>\n",
       "      <th>rank</th>\n",
       "    </tr>\n",
       "  </thead>\n",
       "  <tbody>\n",
       "    <tr>\n",
       "      <th>0</th>\n",
       "      <td>26</td>\n",
       "      <td>[606, 4685, 1337, 1008, 1205, 3646, 3894, 2296...</td>\n",
       "      <td>(1, 2, 3, 4, 5, 6, 7, 8, 9, 10, 11, 12, 13, 14...</td>\n",
       "    </tr>\n",
       "    <tr>\n",
       "      <th>1</th>\n",
       "      <td>200</td>\n",
       "      <td>[1827, 772, 3306, 4878, 3400, 3893, 270, 1449,...</td>\n",
       "      <td>(1, 2, 3, 4, 5, 6, 7, 8, 9, 10, 11, 12, 13, 14...</td>\n",
       "    </tr>\n",
       "    <tr>\n",
       "      <th>2</th>\n",
       "      <td>205</td>\n",
       "      <td>[3398, 2289, 4986, 1181, 2235, 2075, 1039, 384...</td>\n",
       "      <td>(1, 2, 3, 4, 5, 6, 7, 8, 9, 10, 11, 12, 13, 14...</td>\n",
       "    </tr>\n",
       "    <tr>\n",
       "      <th>3</th>\n",
       "      <td>495</td>\n",
       "      <td>[3337, 2378, 4111, 3872, 1815, 794, 4845, 3815...</td>\n",
       "      <td>(1, 2, 3, 4, 5, 6, 7, 8, 9, 10, 11, 12, 13, 14...</td>\n",
       "    </tr>\n",
       "    <tr>\n",
       "      <th>4</th>\n",
       "      <td>521</td>\n",
       "      <td>[1004, 3172, 2175, 1165, 3705, 3586, 3309, 25,...</td>\n",
       "      <td>(1, 2, 3, 4, 5, 6, 7, 8, 9, 10, 11, 12, 13, 14...</td>\n",
       "    </tr>\n",
       "    <tr>\n",
       "      <th>...</th>\n",
       "      <td>...</td>\n",
       "      <td>...</td>\n",
       "      <td>...</td>\n",
       "    </tr>\n",
       "    <tr>\n",
       "      <th>49995</th>\n",
       "      <td>4439446</td>\n",
       "      <td>[2258, 4387, 3084, 3782, 3867, 4810, 2605, 174...</td>\n",
       "      <td>(1, 2, 3, 4, 5, 6, 7, 8, 9, 10, 11, 12, 13, 14...</td>\n",
       "    </tr>\n",
       "    <tr>\n",
       "      <th>49996</th>\n",
       "      <td>4439458</td>\n",
       "      <td>[2877, 3880, 3026, 2705, 1248, 4406, 2919, 187...</td>\n",
       "      <td>(1, 2, 3, 4, 5, 6, 7, 8, 9, 10, 11, 12, 13, 14...</td>\n",
       "    </tr>\n",
       "    <tr>\n",
       "      <th>49997</th>\n",
       "      <td>4439550</td>\n",
       "      <td>[1901, 4779, 1565, 885, 989, 517, 2431, 4575, ...</td>\n",
       "      <td>(1, 2, 3, 4, 5, 6, 7, 8, 9, 10, 11, 12, 13, 14...</td>\n",
       "    </tr>\n",
       "    <tr>\n",
       "      <th>49998</th>\n",
       "      <td>4439653</td>\n",
       "      <td>[3531, 42, 1015, 360, 3665, 2266, 989, 2696, 4...</td>\n",
       "      <td>(1, 2, 3, 4, 5, 6, 7, 8, 9, 10, 11, 12, 13, 14...</td>\n",
       "    </tr>\n",
       "    <tr>\n",
       "      <th>49999</th>\n",
       "      <td>4439757</td>\n",
       "      <td>[3252, 3158, 1440, 3490, 3191, 3629, 1057, 165...</td>\n",
       "      <td>(1, 2, 3, 4, 5, 6, 7, 8, 9, 10, 11, 12, 13, 14...</td>\n",
       "    </tr>\n",
       "  </tbody>\n",
       "</table>\n",
       "<p>50000 rows × 3 columns</p>\n",
       "</div>"
      ],
      "text/plain": [
       "       Session_Id                                        predictions  \\\n",
       "0              26  [606, 4685, 1337, 1008, 1205, 3646, 3894, 2296...   \n",
       "1             200  [1827, 772, 3306, 4878, 3400, 3893, 270, 1449,...   \n",
       "2             205  [3398, 2289, 4986, 1181, 2235, 2075, 1039, 384...   \n",
       "3             495  [3337, 2378, 4111, 3872, 1815, 794, 4845, 3815...   \n",
       "4             521  [1004, 3172, 2175, 1165, 3705, 3586, 3309, 25,...   \n",
       "...           ...                                                ...   \n",
       "49995     4439446  [2258, 4387, 3084, 3782, 3867, 4810, 2605, 174...   \n",
       "49996     4439458  [2877, 3880, 3026, 2705, 1248, 4406, 2919, 187...   \n",
       "49997     4439550  [1901, 4779, 1565, 885, 989, 517, 2431, 4575, ...   \n",
       "49998     4439653  [3531, 42, 1015, 360, 3665, 2266, 989, 2696, 4...   \n",
       "49999     4439757  [3252, 3158, 1440, 3490, 3191, 3629, 1057, 165...   \n",
       "\n",
       "                                                    rank  \n",
       "0      (1, 2, 3, 4, 5, 6, 7, 8, 9, 10, 11, 12, 13, 14...  \n",
       "1      (1, 2, 3, 4, 5, 6, 7, 8, 9, 10, 11, 12, 13, 14...  \n",
       "2      (1, 2, 3, 4, 5, 6, 7, 8, 9, 10, 11, 12, 13, 14...  \n",
       "3      (1, 2, 3, 4, 5, 6, 7, 8, 9, 10, 11, 12, 13, 14...  \n",
       "4      (1, 2, 3, 4, 5, 6, 7, 8, 9, 10, 11, 12, 13, 14...  \n",
       "...                                                  ...  \n",
       "49995  (1, 2, 3, 4, 5, 6, 7, 8, 9, 10, 11, 12, 13, 14...  \n",
       "49996  (1, 2, 3, 4, 5, 6, 7, 8, 9, 10, 11, 12, 13, 14...  \n",
       "49997  (1, 2, 3, 4, 5, 6, 7, 8, 9, 10, 11, 12, 13, 14...  \n",
       "49998  (1, 2, 3, 4, 5, 6, 7, 8, 9, 10, 11, 12, 13, 14...  \n",
       "49999  (1, 2, 3, 4, 5, 6, 7, 8, 9, 10, 11, 12, 13, 14...  \n",
       "\n",
       "[50000 rows x 3 columns]"
      ]
     },
     "execution_count": 183,
     "metadata": {},
     "output_type": "execute_result"
    }
   ],
   "source": [
    "datasets[\"ICF_W\"]"
   ]
  },
  {
   "cell_type": "code",
   "execution_count": 184,
   "id": "ed74d2cf-bead-4d91-984e-be56951f08f6",
   "metadata": {},
   "outputs": [
    {
     "data": {
      "text/html": [
       "<div>\n",
       "<style scoped>\n",
       "    .dataframe tbody tr th:only-of-type {\n",
       "        vertical-align: middle;\n",
       "    }\n",
       "\n",
       "    .dataframe tbody tr th {\n",
       "        vertical-align: top;\n",
       "    }\n",
       "\n",
       "    .dataframe thead th {\n",
       "        text-align: right;\n",
       "    }\n",
       "</style>\n",
       "<table border=\"1\" class=\"dataframe\">\n",
       "  <thead>\n",
       "    <tr style=\"text-align: right;\">\n",
       "      <th></th>\n",
       "      <th>Session_Id</th>\n",
       "      <th>predictions</th>\n",
       "      <th>rank</th>\n",
       "    </tr>\n",
       "  </thead>\n",
       "  <tbody>\n",
       "    <tr>\n",
       "      <th>0</th>\n",
       "      <td>26</td>\n",
       "      <td>[606, 1008, 4685, 1337, 1205, 4462, 426, 3894,...</td>\n",
       "      <td>(1, 2, 3, 4, 5, 6, 7, 8, 9, 10, 11, 12, 13, 14...</td>\n",
       "    </tr>\n",
       "    <tr>\n",
       "      <th>1</th>\n",
       "      <td>200</td>\n",
       "      <td>[1827, 772, 3400, 3893, 3229, 270, 1449, 3656,...</td>\n",
       "      <td>(1, 2, 3, 4, 5, 6, 7, 8, 9, 10, 11, 12, 13, 14...</td>\n",
       "    </tr>\n",
       "    <tr>\n",
       "      <th>2</th>\n",
       "      <td>205</td>\n",
       "      <td>[3398, 2289, 4986, 1181, 2235, 914, 4931, 2075...</td>\n",
       "      <td>(1, 2, 3, 4, 5, 6, 7, 8, 9, 10, 11, 12, 13, 14...</td>\n",
       "    </tr>\n",
       "    <tr>\n",
       "      <th>3</th>\n",
       "      <td>495</td>\n",
       "      <td>[2378, 1726, 1139, 4686, 4418, 4148, 1609, 415...</td>\n",
       "      <td>(1, 2, 3, 4, 5, 6, 7, 8, 9, 10, 11, 12, 13, 14...</td>\n",
       "    </tr>\n",
       "    <tr>\n",
       "      <th>4</th>\n",
       "      <td>521</td>\n",
       "      <td>[3172, 1165, 3586, 1004, 25, 1518, 3180, 3309,...</td>\n",
       "      <td>(1, 2, 3, 4, 5, 6, 7, 8, 9, 10, 11, 12, 13, 14...</td>\n",
       "    </tr>\n",
       "    <tr>\n",
       "      <th>...</th>\n",
       "      <td>...</td>\n",
       "      <td>...</td>\n",
       "      <td>...</td>\n",
       "    </tr>\n",
       "    <tr>\n",
       "      <th>49995</th>\n",
       "      <td>4439446</td>\n",
       "      <td>[2258, 4387, 4810, 3526, 2605, 1468, 3782, 386...</td>\n",
       "      <td>(1, 2, 3, 4, 5, 6, 7, 8, 9, 10, 11, 12, 13, 14...</td>\n",
       "    </tr>\n",
       "    <tr>\n",
       "      <th>49996</th>\n",
       "      <td>4439458</td>\n",
       "      <td>[3880, 2877, 3155, 3026, 2216, 1110, 3550, 358...</td>\n",
       "      <td>(1, 2, 3, 4, 5, 6, 7, 8, 9, 10, 11, 12, 13, 14...</td>\n",
       "    </tr>\n",
       "    <tr>\n",
       "      <th>49997</th>\n",
       "      <td>4439550</td>\n",
       "      <td>[4779, 4846, 625, 1901, 2431, 2266, 1565, 2638...</td>\n",
       "      <td>(1, 2, 3, 4, 5, 6, 7, 8, 9, 10, 11, 12, 13, 14...</td>\n",
       "    </tr>\n",
       "    <tr>\n",
       "      <th>49998</th>\n",
       "      <td>4439653</td>\n",
       "      <td>[3531, 42, 1015, 989, 2696, 360, 1077, 4148, 4...</td>\n",
       "      <td>(1, 2, 3, 4, 5, 6, 7, 8, 9, 10, 11, 12, 13, 14...</td>\n",
       "    </tr>\n",
       "    <tr>\n",
       "      <th>49999</th>\n",
       "      <td>4439757</td>\n",
       "      <td>[3252, 3158, 1440, 3490, 3629, 3191, 165, 1351...</td>\n",
       "      <td>(1, 2, 3, 4, 5, 6, 7, 8, 9, 10, 11, 12, 13, 14...</td>\n",
       "    </tr>\n",
       "  </tbody>\n",
       "</table>\n",
       "<p>50000 rows × 3 columns</p>\n",
       "</div>"
      ],
      "text/plain": [
       "       Session_Id                                        predictions  \\\n",
       "0              26  [606, 1008, 4685, 1337, 1205, 4462, 426, 3894,...   \n",
       "1             200  [1827, 772, 3400, 3893, 3229, 270, 1449, 3656,...   \n",
       "2             205  [3398, 2289, 4986, 1181, 2235, 914, 4931, 2075...   \n",
       "3             495  [2378, 1726, 1139, 4686, 4418, 4148, 1609, 415...   \n",
       "4             521  [3172, 1165, 3586, 1004, 25, 1518, 3180, 3309,...   \n",
       "...           ...                                                ...   \n",
       "49995     4439446  [2258, 4387, 4810, 3526, 2605, 1468, 3782, 386...   \n",
       "49996     4439458  [3880, 2877, 3155, 3026, 2216, 1110, 3550, 358...   \n",
       "49997     4439550  [4779, 4846, 625, 1901, 2431, 2266, 1565, 2638...   \n",
       "49998     4439653  [3531, 42, 1015, 989, 2696, 360, 1077, 4148, 4...   \n",
       "49999     4439757  [3252, 3158, 1440, 3490, 3629, 3191, 165, 1351...   \n",
       "\n",
       "                                                    rank  \n",
       "0      (1, 2, 3, 4, 5, 6, 7, 8, 9, 10, 11, 12, 13, 14...  \n",
       "1      (1, 2, 3, 4, 5, 6, 7, 8, 9, 10, 11, 12, 13, 14...  \n",
       "2      (1, 2, 3, 4, 5, 6, 7, 8, 9, 10, 11, 12, 13, 14...  \n",
       "3      (1, 2, 3, 4, 5, 6, 7, 8, 9, 10, 11, 12, 13, 14...  \n",
       "4      (1, 2, 3, 4, 5, 6, 7, 8, 9, 10, 11, 12, 13, 14...  \n",
       "...                                                  ...  \n",
       "49995  (1, 2, 3, 4, 5, 6, 7, 8, 9, 10, 11, 12, 13, 14...  \n",
       "49996  (1, 2, 3, 4, 5, 6, 7, 8, 9, 10, 11, 12, 13, 14...  \n",
       "49997  (1, 2, 3, 4, 5, 6, 7, 8, 9, 10, 11, 12, 13, 14...  \n",
       "49998  (1, 2, 3, 4, 5, 6, 7, 8, 9, 10, 11, 12, 13, 14...  \n",
       "49999  (1, 2, 3, 4, 5, 6, 7, 8, 9, 10, 11, 12, 13, 14...  \n",
       "\n",
       "[50000 rows x 3 columns]"
      ]
     },
     "execution_count": 184,
     "metadata": {},
     "output_type": "execute_result"
    }
   ],
   "source": [
    "datasets[\"Graph_W\"]"
   ]
  },
  {
   "cell_type": "code",
   "execution_count": 185,
   "id": "19e4beee",
   "metadata": {
    "papermill": {
     "duration": 0.683005,
     "end_time": "2022-06-12T16:59:29.319000",
     "exception": false,
     "start_time": "2022-06-12T16:59:28.635995",
     "status": "completed"
    },
    "tags": []
   },
   "outputs": [],
   "source": [
    "for model_name in selected_list:\n",
    "    datasets[model_name][\"predictions\"]=datasets[model_name][\"predictions\"].apply(tuple)"
   ]
  },
  {
   "cell_type": "code",
   "execution_count": 186,
   "id": "a2d2299a",
   "metadata": {
    "papermill": {
     "duration": 0.07339,
     "end_time": "2022-06-12T16:59:29.569313",
     "exception": false,
     "start_time": "2022-06-12T16:59:29.495923",
     "status": "completed"
    },
    "tags": []
   },
   "outputs": [],
   "source": [
    "for model_name in selected_list:\n",
    "    datasets[model_name]=datasets[model_name][[\"Session_Id\",\"predictions\",\"rank\"]]"
   ]
  },
  {
   "cell_type": "code",
   "execution_count": 187,
   "id": "1facb193",
   "metadata": {
    "papermill": {
     "duration": 0.06533,
     "end_time": "2022-06-12T16:59:29.694238",
     "exception": false,
     "start_time": "2022-06-12T16:59:29.628908",
     "status": "completed"
    },
    "tags": []
   },
   "outputs": [],
   "source": [
    "for model_name in selected_list:\n",
    "    datasets[model_name].columns=[\"session_id\",\"code\",\"rank\"]"
   ]
  },
  {
   "cell_type": "code",
   "execution_count": 188,
   "id": "ccdf1f46",
   "metadata": {
    "papermill": {
     "duration": 0.083812,
     "end_time": "2022-06-12T16:59:29.837436",
     "exception": false,
     "start_time": "2022-06-12T16:59:29.753624",
     "status": "completed"
    },
    "tags": []
   },
   "outputs": [
    {
     "data": {
      "text/html": [
       "<div>\n",
       "<style scoped>\n",
       "    .dataframe tbody tr th:only-of-type {\n",
       "        vertical-align: middle;\n",
       "    }\n",
       "\n",
       "    .dataframe tbody tr th {\n",
       "        vertical-align: top;\n",
       "    }\n",
       "\n",
       "    .dataframe thead th {\n",
       "        text-align: right;\n",
       "    }\n",
       "</style>\n",
       "<table border=\"1\" class=\"dataframe\">\n",
       "  <thead>\n",
       "    <tr style=\"text-align: right;\">\n",
       "      <th></th>\n",
       "      <th>session_id</th>\n",
       "      <th>code</th>\n",
       "      <th>rank</th>\n",
       "    </tr>\n",
       "  </thead>\n",
       "  <tbody>\n",
       "    <tr>\n",
       "      <th>0</th>\n",
       "      <td>26</td>\n",
       "      <td>(606, 1008, 4685, 1337, 1205, 4462, 3894, 4952...</td>\n",
       "      <td>(1, 2, 3, 4, 5, 6, 7, 8, 9, 10, 11, 12, 13, 14...</td>\n",
       "    </tr>\n",
       "    <tr>\n",
       "      <th>1</th>\n",
       "      <td>200</td>\n",
       "      <td>(1827, 772, 270, 3400, 3893, 4878, 3526, 3656,...</td>\n",
       "      <td>(1, 2, 3, 4, 5, 6, 7, 8, 9, 10, 11, 12, 13, 14...</td>\n",
       "    </tr>\n",
       "    <tr>\n",
       "      <th>2</th>\n",
       "      <td>205</td>\n",
       "      <td>(3398, 2289, 4986, 1181, 2235, 4741, 3833, 786...</td>\n",
       "      <td>(1, 2, 3, 4, 5, 6, 7, 8, 9, 10, 11, 12, 13, 14...</td>\n",
       "    </tr>\n",
       "    <tr>\n",
       "      <th>3</th>\n",
       "      <td>495</td>\n",
       "      <td>(4148, 4418, 4686, 1726, 1139, 1609, 1136, 292...</td>\n",
       "      <td>(1, 2, 3, 4, 5, 6, 7, 8, 9, 10, 11, 12, 13, 14...</td>\n",
       "    </tr>\n",
       "    <tr>\n",
       "      <th>4</th>\n",
       "      <td>521</td>\n",
       "      <td>(3586, 1004, 3172, 143, 1165, 3180, 1518, 2485...</td>\n",
       "      <td>(1, 2, 3, 4, 5, 6, 7, 8, 9, 10, 11, 12, 13, 14...</td>\n",
       "    </tr>\n",
       "  </tbody>\n",
       "</table>\n",
       "</div>"
      ],
      "text/plain": [
       "   session_id                                               code  \\\n",
       "0          26  (606, 1008, 4685, 1337, 1205, 4462, 3894, 4952...   \n",
       "1         200  (1827, 772, 270, 3400, 3893, 4878, 3526, 3656,...   \n",
       "2         205  (3398, 2289, 4986, 1181, 2235, 4741, 3833, 786...   \n",
       "3         495  (4148, 4418, 4686, 1726, 1139, 1609, 1136, 292...   \n",
       "4         521  (3586, 1004, 3172, 143, 1165, 3180, 1518, 2485...   \n",
       "\n",
       "                                                rank  \n",
       "0  (1, 2, 3, 4, 5, 6, 7, 8, 9, 10, 11, 12, 13, 14...  \n",
       "1  (1, 2, 3, 4, 5, 6, 7, 8, 9, 10, 11, 12, 13, 14...  \n",
       "2  (1, 2, 3, 4, 5, 6, 7, 8, 9, 10, 11, 12, 13, 14...  \n",
       "3  (1, 2, 3, 4, 5, 6, 7, 8, 9, 10, 11, 12, 13, 14...  \n",
       "4  (1, 2, 3, 4, 5, 6, 7, 8, 9, 10, 11, 12, 13, 14...  "
      ]
     },
     "execution_count": 188,
     "metadata": {},
     "output_type": "execute_result"
    }
   ],
   "source": [
    "datasets[\"UCF_W\"].head()"
   ]
  },
  {
   "cell_type": "code",
   "execution_count": 190,
   "id": "ef1a12b6-2e17-4800-a3b6-811454d58d7d",
   "metadata": {},
   "outputs": [
    {
     "data": {
      "text/html": [
       "<div>\n",
       "<style scoped>\n",
       "    .dataframe tbody tr th:only-of-type {\n",
       "        vertical-align: middle;\n",
       "    }\n",
       "\n",
       "    .dataframe tbody tr th {\n",
       "        vertical-align: top;\n",
       "    }\n",
       "\n",
       "    .dataframe thead th {\n",
       "        text-align: right;\n",
       "    }\n",
       "</style>\n",
       "<table border=\"1\" class=\"dataframe\">\n",
       "  <thead>\n",
       "    <tr style=\"text-align: right;\">\n",
       "      <th></th>\n",
       "      <th>session_id</th>\n",
       "      <th>code</th>\n",
       "      <th>rank</th>\n",
       "    </tr>\n",
       "  </thead>\n",
       "  <tbody>\n",
       "    <tr>\n",
       "      <th>0</th>\n",
       "      <td>26</td>\n",
       "      <td>(606, 2684, 2905, 3266, 1008, 4685, 4384, 3155...</td>\n",
       "      <td>(1, 2, 3, 4, 5, 6, 7, 8, 9, 10, 11, 12, 13, 14...</td>\n",
       "    </tr>\n",
       "    <tr>\n",
       "      <th>1</th>\n",
       "      <td>200</td>\n",
       "      <td>(1827, 3400, 3893, 1331, 1449, 772, 2793, 270,...</td>\n",
       "      <td>(1, 2, 3, 4, 5, 6, 7, 8, 9, 10, 11, 12, 13, 14...</td>\n",
       "    </tr>\n",
       "    <tr>\n",
       "      <th>2</th>\n",
       "      <td>205</td>\n",
       "      <td>(3398, 2289, 4986, 1181, 2235, 2075, 221, 1484...</td>\n",
       "      <td>(1, 2, 3, 4, 5, 6, 7, 8, 9, 10, 11, 12, 13, 14...</td>\n",
       "    </tr>\n",
       "    <tr>\n",
       "      <th>3</th>\n",
       "      <td>495</td>\n",
       "      <td>(2378, 3937, 4845, 1139, 4686, 3815, 4148, 441...</td>\n",
       "      <td>(1, 2, 3, 4, 5, 6, 7, 8, 9, 10, 11, 12, 13, 14...</td>\n",
       "    </tr>\n",
       "    <tr>\n",
       "      <th>4</th>\n",
       "      <td>521</td>\n",
       "      <td>(1004, 7, 25, 2873, 3550, 1518, 3705, 2485, 16...</td>\n",
       "      <td>(1, 2, 3, 4, 5, 6, 7, 8, 9, 10, 11, 12, 13, 14...</td>\n",
       "    </tr>\n",
       "  </tbody>\n",
       "</table>\n",
       "</div>"
      ],
      "text/plain": [
       "   session_id                                               code  \\\n",
       "0          26  (606, 2684, 2905, 3266, 1008, 4685, 4384, 3155...   \n",
       "1         200  (1827, 3400, 3893, 1331, 1449, 772, 2793, 270,...   \n",
       "2         205  (3398, 2289, 4986, 1181, 2235, 2075, 221, 1484...   \n",
       "3         495  (2378, 3937, 4845, 1139, 4686, 3815, 4148, 441...   \n",
       "4         521  (1004, 7, 25, 2873, 3550, 1518, 3705, 2485, 16...   \n",
       "\n",
       "                                                rank  \n",
       "0  (1, 2, 3, 4, 5, 6, 7, 8, 9, 10, 11, 12, 13, 14...  \n",
       "1  (1, 2, 3, 4, 5, 6, 7, 8, 9, 10, 11, 12, 13, 14...  \n",
       "2  (1, 2, 3, 4, 5, 6, 7, 8, 9, 10, 11, 12, 13, 14...  \n",
       "3  (1, 2, 3, 4, 5, 6, 7, 8, 9, 10, 11, 12, 13, 14...  \n",
       "4  (1, 2, 3, 4, 5, 6, 7, 8, 9, 10, 11, 12, 13, 14...  "
      ]
     },
     "execution_count": 190,
     "metadata": {},
     "output_type": "execute_result"
    }
   ],
   "source": [
    "datasets[\"ICBF_W\"].head()"
   ]
  },
  {
   "cell_type": "code",
   "execution_count": 191,
   "id": "cce12234-159c-4547-9096-24b62c0bd620",
   "metadata": {},
   "outputs": [
    {
     "data": {
      "text/html": [
       "<div>\n",
       "<style scoped>\n",
       "    .dataframe tbody tr th:only-of-type {\n",
       "        vertical-align: middle;\n",
       "    }\n",
       "\n",
       "    .dataframe tbody tr th {\n",
       "        vertical-align: top;\n",
       "    }\n",
       "\n",
       "    .dataframe thead th {\n",
       "        text-align: right;\n",
       "    }\n",
       "</style>\n",
       "<table border=\"1\" class=\"dataframe\">\n",
       "  <thead>\n",
       "    <tr style=\"text-align: right;\">\n",
       "      <th></th>\n",
       "      <th>session_id</th>\n",
       "      <th>code</th>\n",
       "      <th>rank</th>\n",
       "    </tr>\n",
       "  </thead>\n",
       "  <tbody>\n",
       "    <tr>\n",
       "      <th>0</th>\n",
       "      <td>26</td>\n",
       "      <td>(606, 4685, 1337, 1008, 1205, 3646, 3894, 2296...</td>\n",
       "      <td>(1, 2, 3, 4, 5, 6, 7, 8, 9, 10, 11, 12, 13, 14...</td>\n",
       "    </tr>\n",
       "    <tr>\n",
       "      <th>1</th>\n",
       "      <td>200</td>\n",
       "      <td>(1827, 772, 3306, 4878, 3400, 3893, 270, 1449,...</td>\n",
       "      <td>(1, 2, 3, 4, 5, 6, 7, 8, 9, 10, 11, 12, 13, 14...</td>\n",
       "    </tr>\n",
       "    <tr>\n",
       "      <th>2</th>\n",
       "      <td>205</td>\n",
       "      <td>(3398, 2289, 4986, 1181, 2235, 2075, 1039, 384...</td>\n",
       "      <td>(1, 2, 3, 4, 5, 6, 7, 8, 9, 10, 11, 12, 13, 14...</td>\n",
       "    </tr>\n",
       "    <tr>\n",
       "      <th>3</th>\n",
       "      <td>495</td>\n",
       "      <td>(3337, 2378, 4111, 3872, 1815, 794, 4845, 3815...</td>\n",
       "      <td>(1, 2, 3, 4, 5, 6, 7, 8, 9, 10, 11, 12, 13, 14...</td>\n",
       "    </tr>\n",
       "    <tr>\n",
       "      <th>4</th>\n",
       "      <td>521</td>\n",
       "      <td>(1004, 3172, 2175, 1165, 3705, 3586, 3309, 25,...</td>\n",
       "      <td>(1, 2, 3, 4, 5, 6, 7, 8, 9, 10, 11, 12, 13, 14...</td>\n",
       "    </tr>\n",
       "  </tbody>\n",
       "</table>\n",
       "</div>"
      ],
      "text/plain": [
       "   session_id                                               code  \\\n",
       "0          26  (606, 4685, 1337, 1008, 1205, 3646, 3894, 2296...   \n",
       "1         200  (1827, 772, 3306, 4878, 3400, 3893, 270, 1449,...   \n",
       "2         205  (3398, 2289, 4986, 1181, 2235, 2075, 1039, 384...   \n",
       "3         495  (3337, 2378, 4111, 3872, 1815, 794, 4845, 3815...   \n",
       "4         521  (1004, 3172, 2175, 1165, 3705, 3586, 3309, 25,...   \n",
       "\n",
       "                                                rank  \n",
       "0  (1, 2, 3, 4, 5, 6, 7, 8, 9, 10, 11, 12, 13, 14...  \n",
       "1  (1, 2, 3, 4, 5, 6, 7, 8, 9, 10, 11, 12, 13, 14...  \n",
       "2  (1, 2, 3, 4, 5, 6, 7, 8, 9, 10, 11, 12, 13, 14...  \n",
       "3  (1, 2, 3, 4, 5, 6, 7, 8, 9, 10, 11, 12, 13, 14...  \n",
       "4  (1, 2, 3, 4, 5, 6, 7, 8, 9, 10, 11, 12, 13, 14...  "
      ]
     },
     "execution_count": 191,
     "metadata": {},
     "output_type": "execute_result"
    }
   ],
   "source": [
    "datasets[\"ICF_W\"].head()"
   ]
  },
  {
   "cell_type": "code",
   "execution_count": 192,
   "id": "4d66959c-4620-49d4-b232-51089baa7050",
   "metadata": {},
   "outputs": [
    {
     "data": {
      "text/html": [
       "<div>\n",
       "<style scoped>\n",
       "    .dataframe tbody tr th:only-of-type {\n",
       "        vertical-align: middle;\n",
       "    }\n",
       "\n",
       "    .dataframe tbody tr th {\n",
       "        vertical-align: top;\n",
       "    }\n",
       "\n",
       "    .dataframe thead th {\n",
       "        text-align: right;\n",
       "    }\n",
       "</style>\n",
       "<table border=\"1\" class=\"dataframe\">\n",
       "  <thead>\n",
       "    <tr style=\"text-align: right;\">\n",
       "      <th></th>\n",
       "      <th>session_id</th>\n",
       "      <th>code</th>\n",
       "      <th>rank</th>\n",
       "    </tr>\n",
       "  </thead>\n",
       "  <tbody>\n",
       "    <tr>\n",
       "      <th>0</th>\n",
       "      <td>26</td>\n",
       "      <td>(606, 1008, 4685, 1337, 1205, 4462, 426, 3894,...</td>\n",
       "      <td>(1, 2, 3, 4, 5, 6, 7, 8, 9, 10, 11, 12, 13, 14...</td>\n",
       "    </tr>\n",
       "    <tr>\n",
       "      <th>1</th>\n",
       "      <td>200</td>\n",
       "      <td>(1827, 772, 3400, 3893, 3229, 270, 1449, 3656,...</td>\n",
       "      <td>(1, 2, 3, 4, 5, 6, 7, 8, 9, 10, 11, 12, 13, 14...</td>\n",
       "    </tr>\n",
       "    <tr>\n",
       "      <th>2</th>\n",
       "      <td>205</td>\n",
       "      <td>(3398, 2289, 4986, 1181, 2235, 914, 4931, 2075...</td>\n",
       "      <td>(1, 2, 3, 4, 5, 6, 7, 8, 9, 10, 11, 12, 13, 14...</td>\n",
       "    </tr>\n",
       "    <tr>\n",
       "      <th>3</th>\n",
       "      <td>495</td>\n",
       "      <td>(2378, 1726, 1139, 4686, 4418, 4148, 1609, 415...</td>\n",
       "      <td>(1, 2, 3, 4, 5, 6, 7, 8, 9, 10, 11, 12, 13, 14...</td>\n",
       "    </tr>\n",
       "    <tr>\n",
       "      <th>4</th>\n",
       "      <td>521</td>\n",
       "      <td>(3172, 1165, 3586, 1004, 25, 1518, 3180, 3309,...</td>\n",
       "      <td>(1, 2, 3, 4, 5, 6, 7, 8, 9, 10, 11, 12, 13, 14...</td>\n",
       "    </tr>\n",
       "  </tbody>\n",
       "</table>\n",
       "</div>"
      ],
      "text/plain": [
       "   session_id                                               code  \\\n",
       "0          26  (606, 1008, 4685, 1337, 1205, 4462, 426, 3894,...   \n",
       "1         200  (1827, 772, 3400, 3893, 3229, 270, 1449, 3656,...   \n",
       "2         205  (3398, 2289, 4986, 1181, 2235, 914, 4931, 2075...   \n",
       "3         495  (2378, 1726, 1139, 4686, 4418, 4148, 1609, 415...   \n",
       "4         521  (3172, 1165, 3586, 1004, 25, 1518, 3180, 3309,...   \n",
       "\n",
       "                                                rank  \n",
       "0  (1, 2, 3, 4, 5, 6, 7, 8, 9, 10, 11, 12, 13, 14...  \n",
       "1  (1, 2, 3, 4, 5, 6, 7, 8, 9, 10, 11, 12, 13, 14...  \n",
       "2  (1, 2, 3, 4, 5, 6, 7, 8, 9, 10, 11, 12, 13, 14...  \n",
       "3  (1, 2, 3, 4, 5, 6, 7, 8, 9, 10, 11, 12, 13, 14...  \n",
       "4  (1, 2, 3, 4, 5, 6, 7, 8, 9, 10, 11, 12, 13, 14...  "
      ]
     },
     "execution_count": 192,
     "metadata": {},
     "output_type": "execute_result"
    }
   ],
   "source": [
    "datasets[\"Graph_W\"].head()"
   ]
  },
  {
   "cell_type": "code",
   "execution_count": 194,
   "id": "e4258770",
   "metadata": {
    "papermill": {
     "duration": 1.365591,
     "end_time": "2022-06-12T16:59:31.262162",
     "exception": false,
     "start_time": "2022-06-12T16:59:29.896571",
     "status": "completed"
    },
    "tags": []
   },
   "outputs": [],
   "source": [
    "submission_df = {}\n",
    "for model_name in selected_list:\n",
    "    submission_df[model_name] = datasets[model_name].explode(['code', 'rank']).astype(int)"
   ]
  },
  {
   "cell_type": "code",
   "execution_count": 195,
   "id": "f5243792",
   "metadata": {
    "papermill": {
     "duration": 0.814342,
     "end_time": "2022-06-12T16:59:32.136382",
     "exception": false,
     "start_time": "2022-06-12T16:59:31.322040",
     "status": "completed"
    },
    "tags": []
   },
   "outputs": [],
   "source": [
    "mapping= pd.read_csv('../dataset/processed_data/map.csv')\n",
    "\n",
    "for model_name in selected_list:\n",
    "    submission_df[model_name]=submission_df[model_name].merge(mapping,on=\"code\",how=\"left\")\n",
    "    del submission_df[model_name][\"code\"]\n",
    "    submission_df[model_name]=submission_df[model_name][[\"session_id\",\"item_id\",\"rank\"]]"
   ]
  },
  {
   "cell_type": "code",
   "execution_count": 198,
   "id": "3939ba35",
   "metadata": {
    "papermill": {
     "duration": 0.067899,
     "end_time": "2022-06-12T16:59:32.264542",
     "exception": false,
     "start_time": "2022-06-12T16:59:32.196643",
     "status": "completed"
    },
    "tags": []
   },
   "outputs": [
    {
     "name": "stdout",
     "output_type": "stream",
     "text": [
      "5000000\n"
     ]
    }
   ],
   "source": [
    "print(len(submission_df[\"UCF_W\"]))"
   ]
  },
  {
   "cell_type": "code",
   "execution_count": 199,
   "id": "d9cf15d2",
   "metadata": {
    "papermill": {
     "duration": 0.077344,
     "end_time": "2022-06-12T16:59:32.407149",
     "exception": false,
     "start_time": "2022-06-12T16:59:32.329805",
     "status": "completed"
    },
    "tags": []
   },
   "outputs": [
    {
     "name": "stdout",
     "output_type": "stream",
     "text": [
      "<class 'pandas.core.frame.DataFrame'>\n",
      "RangeIndex: 5000000 entries, 0 to 4999999\n",
      "Data columns (total 3 columns):\n",
      " #   Column      Dtype\n",
      "---  ------      -----\n",
      " 0   session_id  int64\n",
      " 1   item_id     int64\n",
      " 2   rank        int64\n",
      "dtypes: int64(3)\n",
      "memory usage: 114.4 MB\n"
     ]
    }
   ],
   "source": [
    "submission_df[\"UCF_W\"].info()"
   ]
  },
  {
   "cell_type": "code",
   "execution_count": 200,
   "id": "a4bd6fea",
   "metadata": {
    "papermill": {
     "duration": 0.091514,
     "end_time": "2022-06-12T16:59:32.559757",
     "exception": false,
     "start_time": "2022-06-12T16:59:32.468243",
     "status": "completed"
    },
    "tags": []
   },
   "outputs": [
    {
     "data": {
      "text/plain": [
       "session_id    0\n",
       "item_id       0\n",
       "rank          0\n",
       "dtype: int64"
      ]
     },
     "execution_count": 200,
     "metadata": {},
     "output_type": "execute_result"
    }
   ],
   "source": [
    "submission_df[\"UCF_W\"].isna().sum()"
   ]
  },
  {
   "cell_type": "code",
   "execution_count": 201,
   "id": "4381eeb6",
   "metadata": {
    "papermill": {
     "duration": 10.646249,
     "end_time": "2022-06-12T16:59:43.267327",
     "exception": false,
     "start_time": "2022-06-12T16:59:32.621078",
     "status": "completed"
    },
    "tags": []
   },
   "outputs": [],
   "source": [
    "for model_name in selected_list:\n",
    "    submission_df[model_name].to_csv(\n",
    "        f'../leaderboard_sub_{model_name}.csv',\n",
    "        index=False\n",
    "        )"
   ]
  },
  {
   "cell_type": "code",
   "execution_count": 210,
   "id": "b8cf8d0d-7e72-495a-a7e1-c60d000b2492",
   "metadata": {},
   "outputs": [],
   "source": [
    "test_sessions= pd.read_csv(\"../dataset/original_data/test_leaderboard_purchases.csv\")\n",
    "#test_sessions_full=pd.read_csv(\"../dataset/processed_data/test_leaderboard_sessions_full_mapped.csv\")\n",
    "#test_sessions= pd.concat([test_sessions, test_sessions_full])"
   ]
  },
  {
   "cell_type": "code",
   "execution_count": 211,
   "id": "be8eb32c-a90c-48dc-85a4-3fc918edc277",
   "metadata": {},
   "outputs": [
    {
     "data": {
      "text/html": [
       "<div>\n",
       "<style scoped>\n",
       "    .dataframe tbody tr th:only-of-type {\n",
       "        vertical-align: middle;\n",
       "    }\n",
       "\n",
       "    .dataframe tbody tr th {\n",
       "        vertical-align: top;\n",
       "    }\n",
       "\n",
       "    .dataframe thead th {\n",
       "        text-align: right;\n",
       "    }\n",
       "</style>\n",
       "<table border=\"1\" class=\"dataframe\">\n",
       "  <thead>\n",
       "    <tr style=\"text-align: right;\">\n",
       "      <th></th>\n",
       "      <th>session_id</th>\n",
       "      <th>item_id</th>\n",
       "      <th>date</th>\n",
       "    </tr>\n",
       "  </thead>\n",
       "  <tbody>\n",
       "    <tr>\n",
       "      <th>0</th>\n",
       "      <td>26</td>\n",
       "      <td>5383</td>\n",
       "      <td>2021-06-16 09:54:52.696</td>\n",
       "    </tr>\n",
       "    <tr>\n",
       "      <th>1</th>\n",
       "      <td>200</td>\n",
       "      <td>27613</td>\n",
       "      <td>2021-06-25 12:24:56.31</td>\n",
       "    </tr>\n",
       "    <tr>\n",
       "      <th>2</th>\n",
       "      <td>205</td>\n",
       "      <td>15246</td>\n",
       "      <td>2021-06-11 00:29:03.381</td>\n",
       "    </tr>\n",
       "    <tr>\n",
       "      <th>3</th>\n",
       "      <td>495</td>\n",
       "      <td>4009</td>\n",
       "      <td>2021-06-14 22:15:43.818</td>\n",
       "    </tr>\n",
       "    <tr>\n",
       "      <th>4</th>\n",
       "      <td>521</td>\n",
       "      <td>742</td>\n",
       "      <td>2021-06-19 13:52:31.149</td>\n",
       "    </tr>\n",
       "  </tbody>\n",
       "</table>\n",
       "</div>"
      ],
      "text/plain": [
       "   session_id  item_id                     date\n",
       "0          26     5383  2021-06-16 09:54:52.696\n",
       "1         200    27613   2021-06-25 12:24:56.31\n",
       "2         205    15246  2021-06-11 00:29:03.381\n",
       "3         495     4009  2021-06-14 22:15:43.818\n",
       "4         521      742  2021-06-19 13:52:31.149"
      ]
     },
     "execution_count": 211,
     "metadata": {},
     "output_type": "execute_result"
    }
   ],
   "source": [
    "test_sessions.head()"
   ]
  },
  {
   "cell_type": "code",
   "execution_count": 212,
   "id": "bcf7431a-c364-44c6-a592-68bf2b7a5a4c",
   "metadata": {},
   "outputs": [],
   "source": [
    "final_comprasion_df = {}\n",
    "\n",
    "for model_name in selected_list:\n",
    "    final_comprasion_df[model_name] = pd.merge(test_sessions, submission_df[model_name], on=[\"session_id\", \"item_id\"], how=\"left\").fillna(100)"
   ]
  },
  {
   "cell_type": "code",
   "execution_count": 213,
   "id": "eb98af78-4955-4336-b74e-cc0b60c1a923",
   "metadata": {},
   "outputs": [
    {
     "data": {
      "text/html": [
       "<div>\n",
       "<style scoped>\n",
       "    .dataframe tbody tr th:only-of-type {\n",
       "        vertical-align: middle;\n",
       "    }\n",
       "\n",
       "    .dataframe tbody tr th {\n",
       "        vertical-align: top;\n",
       "    }\n",
       "\n",
       "    .dataframe thead th {\n",
       "        text-align: right;\n",
       "    }\n",
       "</style>\n",
       "<table border=\"1\" class=\"dataframe\">\n",
       "  <thead>\n",
       "    <tr style=\"text-align: right;\">\n",
       "      <th></th>\n",
       "      <th>session_id</th>\n",
       "      <th>item_id</th>\n",
       "      <th>date</th>\n",
       "      <th>rank</th>\n",
       "    </tr>\n",
       "  </thead>\n",
       "  <tbody>\n",
       "    <tr>\n",
       "      <th>0</th>\n",
       "      <td>26</td>\n",
       "      <td>5383</td>\n",
       "      <td>2021-06-16 09:54:52.696</td>\n",
       "      <td>2.0</td>\n",
       "    </tr>\n",
       "    <tr>\n",
       "      <th>1</th>\n",
       "      <td>200</td>\n",
       "      <td>27613</td>\n",
       "      <td>2021-06-25 12:24:56.31</td>\n",
       "      <td>6.0</td>\n",
       "    </tr>\n",
       "    <tr>\n",
       "      <th>2</th>\n",
       "      <td>205</td>\n",
       "      <td>15246</td>\n",
       "      <td>2021-06-11 00:29:03.381</td>\n",
       "      <td>100.0</td>\n",
       "    </tr>\n",
       "    <tr>\n",
       "      <th>3</th>\n",
       "      <td>495</td>\n",
       "      <td>4009</td>\n",
       "      <td>2021-06-14 22:15:43.818</td>\n",
       "      <td>100.0</td>\n",
       "    </tr>\n",
       "    <tr>\n",
       "      <th>4</th>\n",
       "      <td>521</td>\n",
       "      <td>742</td>\n",
       "      <td>2021-06-19 13:52:31.149</td>\n",
       "      <td>4.0</td>\n",
       "    </tr>\n",
       "  </tbody>\n",
       "</table>\n",
       "</div>"
      ],
      "text/plain": [
       "   session_id  item_id                     date   rank\n",
       "0          26     5383  2021-06-16 09:54:52.696    2.0\n",
       "1         200    27613   2021-06-25 12:24:56.31    6.0\n",
       "2         205    15246  2021-06-11 00:29:03.381  100.0\n",
       "3         495     4009  2021-06-14 22:15:43.818  100.0\n",
       "4         521      742  2021-06-19 13:52:31.149    4.0"
      ]
     },
     "execution_count": 213,
     "metadata": {},
     "output_type": "execute_result"
    }
   ],
   "source": [
    "final_comprasion_df[\"UCF_W\"].head()"
   ]
  },
  {
   "cell_type": "code",
   "execution_count": 214,
   "id": "fee4ca90-6ca5-491d-8df7-0188f1ff6996",
   "metadata": {},
   "outputs": [],
   "source": [
    "mrr_dict = {}"
   ]
  },
  {
   "cell_type": "code",
   "execution_count": 215,
   "id": "02754257-c028-4010-8e18-425e26706998",
   "metadata": {},
   "outputs": [],
   "source": [
    "for model_name in selected_list:\n",
    "    mrr_dict[model_name] = (1 / final_comprasion_df[model_name].groupby('session_id')['rank'].min()).mean()"
   ]
  },
  {
   "cell_type": "code",
   "execution_count": 216,
   "id": "980d33e1-e702-42a1-813e-9da4c47eb359",
   "metadata": {},
   "outputs": [
    {
     "name": "stdout",
     "output_type": "stream",
     "text": [
      "{'UCF_W': 0.1943128374154572, 'ICBF_W': 0.1780241736897335, 'Graph_W': 0.19314809218632945, 'ICF_W': 0.18835764532640784}\n"
     ]
    }
   ],
   "source": [
    "print(mrr_dict)"
   ]
  },
  {
   "cell_type": "code",
   "execution_count": 219,
   "id": "2c2b2797-3470-410f-8794-787cfbc1b024",
   "metadata": {},
   "outputs": [],
   "source": [
    "compression_table = pd.DataFrame([mrr_dict.values()], index=['MRR@100'], columns=[f\"{x}+Transformer\" for x in mrr_dict.keys()])"
   ]
  },
  {
   "cell_type": "code",
   "execution_count": 220,
   "id": "d8544ff8-78cd-4f18-a9eb-174a758848bf",
   "metadata": {},
   "outputs": [
    {
     "data": {
      "text/html": [
       "<div>\n",
       "<style scoped>\n",
       "    .dataframe tbody tr th:only-of-type {\n",
       "        vertical-align: middle;\n",
       "    }\n",
       "\n",
       "    .dataframe tbody tr th {\n",
       "        vertical-align: top;\n",
       "    }\n",
       "\n",
       "    .dataframe thead th {\n",
       "        text-align: right;\n",
       "    }\n",
       "</style>\n",
       "<table border=\"1\" class=\"dataframe\">\n",
       "  <thead>\n",
       "    <tr style=\"text-align: right;\">\n",
       "      <th></th>\n",
       "      <th>UCF_W+Transformer</th>\n",
       "      <th>ICBF_W+Transformer</th>\n",
       "      <th>Graph_W+Transformer</th>\n",
       "      <th>ICF_W+Transformer</th>\n",
       "    </tr>\n",
       "  </thead>\n",
       "  <tbody>\n",
       "    <tr>\n",
       "      <th>MRR@100</th>\n",
       "      <td>0.194313</td>\n",
       "      <td>0.178024</td>\n",
       "      <td>0.193148</td>\n",
       "      <td>0.188358</td>\n",
       "    </tr>\n",
       "  </tbody>\n",
       "</table>\n",
       "</div>"
      ],
      "text/plain": [
       "         UCF_W+Transformer  ICBF_W+Transformer  Graph_W+Transformer  \\\n",
       "MRR@100           0.194313            0.178024             0.193148   \n",
       "\n",
       "         ICF_W+Transformer  \n",
       "MRR@100           0.188358  "
      ]
     },
     "execution_count": 220,
     "metadata": {},
     "output_type": "execute_result"
    }
   ],
   "source": [
    "compression_table"
   ]
  }
 ],
 "metadata": {
  "kernelspec": {
   "display_name": "Python 3 (ipykernel)",
   "language": "python",
   "name": "python3"
  },
  "language_info": {
   "codemirror_mode": {
    "name": "ipython",
    "version": 3
   },
   "file_extension": ".py",
   "mimetype": "text/x-python",
   "name": "python",
   "nbconvert_exporter": "python",
   "pygments_lexer": "ipython3",
   "version": "3.11.5"
  },
  "papermill": {
   "default_parameters": {},
   "duration": 355.611026,
   "end_time": "2022-06-12T16:59:44.340713",
   "environment_variables": {},
   "exception": null,
   "input_path": "__notebook__.ipynb",
   "output_path": "__notebook__.ipynb",
   "parameters": {},
   "start_time": "2022-06-12T16:53:48.729687",
   "version": "2.3.3"
  },
  "vscode": {
   "interpreter": {
    "hash": "61f38fddaed46afda7c40a5798d4631266e18af1d335aa6f772dc3ed9b8ab549"
   }
  }
 },
 "nbformat": 4,
 "nbformat_minor": 5
}
