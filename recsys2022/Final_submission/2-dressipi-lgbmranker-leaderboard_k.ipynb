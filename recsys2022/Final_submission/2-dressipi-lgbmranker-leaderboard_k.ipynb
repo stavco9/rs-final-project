{
 "cells": [
  {
   "cell_type": "code",
   "execution_count": 1,
   "id": "4770ec9a",
   "metadata": {},
   "outputs": [],
   "source": [
    "just_checking_integrity=False"
   ]
  },
  {
   "cell_type": "code",
   "execution_count": 2,
   "id": "0cd378b3",
   "metadata": {
    "papermill": {
     "duration": 0.141538,
     "end_time": "2022-06-12T16:53:58.520370",
     "exception": false,
     "start_time": "2022-06-12T16:53:58.378832",
     "status": "completed"
    },
    "tags": []
   },
   "outputs": [],
   "source": [
    "import gc\n",
    "import pandas as pd\n",
    "import scipy.sparse as sps\n",
    "import numpy as np"
   ]
  },
  {
   "cell_type": "code",
   "execution_count": 3,
   "id": "e4676f00",
   "metadata": {
    "papermill": {
     "duration": 0.146009,
     "end_time": "2022-06-12T16:53:58.715990",
     "exception": false,
     "start_time": "2022-06-12T16:53:58.569981",
     "status": "completed"
    },
    "tags": []
   },
   "outputs": [],
   "source": [
    "URM_test=sps.load_npz(\"../dataset/processed_data/URM_test_leaderboard.npz\")"
   ]
  },
  {
   "cell_type": "code",
   "execution_count": 4,
   "id": "7854974f",
   "metadata": {
    "papermill": {
     "duration": 0.060116,
     "end_time": "2022-06-12T16:53:58.825275",
     "exception": false,
     "start_time": "2022-06-12T16:53:58.765159",
     "status": "completed"
    },
    "tags": []
   },
   "outputs": [
    {
     "data": {
      "text/plain": [
       "(4439758, 23692)"
      ]
     },
     "execution_count": 4,
     "metadata": {},
     "output_type": "execute_result"
    }
   ],
   "source": [
    "URM_test.shape"
   ]
  },
  {
   "cell_type": "code",
   "execution_count": 5,
   "id": "b2fc443c",
   "metadata": {
    "papermill": {
     "duration": 0.129216,
     "end_time": "2022-06-12T16:53:59.005328",
     "exception": false,
     "start_time": "2022-06-12T16:53:58.876112",
     "status": "completed"
    },
    "tags": []
   },
   "outputs": [
    {
     "data": {
      "text/plain": [
       "(4439758,)"
      ]
     },
     "execution_count": 5,
     "metadata": {},
     "output_type": "execute_result"
    }
   ],
   "source": [
    "np.ravel(URM_test.sum(axis=1)).shape"
   ]
  },
  {
   "cell_type": "code",
   "execution_count": 6,
   "id": "f4e1acd0",
   "metadata": {
    "papermill": {
     "duration": 0.144207,
     "end_time": "2022-06-12T16:53:59.199763",
     "exception": false,
     "start_time": "2022-06-12T16:53:59.055556",
     "status": "completed"
    },
    "tags": []
   },
   "outputs": [],
   "source": [
    "Session_ids=np.argwhere(np.ravel(URM_test.sum(axis=1)))"
   ]
  },
  {
   "cell_type": "code",
   "execution_count": 7,
   "id": "23c21590",
   "metadata": {
    "papermill": {
     "duration": 0.056971,
     "end_time": "2022-06-12T16:53:59.306883",
     "exception": false,
     "start_time": "2022-06-12T16:53:59.249912",
     "status": "completed"
    },
    "tags": []
   },
   "outputs": [],
   "source": [
    "is_sorted = lambda a: np.all(a[:-1] <= a[1:])"
   ]
  },
  {
   "cell_type": "code",
   "execution_count": 8,
   "id": "5adf257f",
   "metadata": {
    "papermill": {
     "duration": 0.057925,
     "end_time": "2022-06-12T16:53:59.415013",
     "exception": false,
     "start_time": "2022-06-12T16:53:59.357088",
     "status": "completed"
    },
    "tags": []
   },
   "outputs": [
    {
     "data": {
      "text/plain": [
       "True"
      ]
     },
     "execution_count": 8,
     "metadata": {},
     "output_type": "execute_result"
    }
   ],
   "source": [
    "is_sorted(Session_ids)"
   ]
  },
  {
   "cell_type": "code",
   "execution_count": 9,
   "id": "ae942e02",
   "metadata": {
    "papermill": {
     "duration": 85.115587,
     "end_time": "2022-06-12T16:55:24.581119",
     "exception": false,
     "start_time": "2022-06-12T16:53:59.465532",
     "status": "completed"
    },
    "tags": []
   },
   "outputs": [
    {
     "name": "stdout",
     "output_type": "stream",
     "text": [
      "0\n",
      "loading UCF_W\n",
      "16338555\n",
      "loaded UCF_W\n",
      "0\n",
      "loading ICBF_W\n",
      "14870776\n",
      "loaded ICBF_W\n",
      "0\n",
      "loading Graph_W\n",
      "8315730\n",
      "loaded Graph_W\n",
      "0\n",
      "loading ICF_W\n",
      "17772188\n",
      "loaded ICF_W\n"
     ]
    }
   ],
   "source": [
    "dataset=None\n",
    "dataset_max=None\n",
    "#[\"UCF\",\"ICBF\",\"Graph\",\"ICF\",\"UCF_W\",\"ICBF_W\",\"Graph_W\",\"ICF_W\",\"UCF_WW\",\"ICBF_WW\",\"Graph_WW\",\"ICF_WW\"]\n",
    "selected_list = [\"UCF_W\",\"ICBF_W\",\"Graph_W\",\"ICF_W\"]\n",
    "for file in selected_list:\n",
    "    print(gc.collect())\n",
    "    print(f\"loading {file}\")\n",
    "    df=pd.read_csv(f\"../dataset/candidates/traditional_recs/leaderboard/{file}.csv\")\n",
    "    print(len(df))\n",
    "    print(f\"loaded {file}\")\n",
    "    for col in df:\n",
    "        if \"Max\" in col:\n",
    "            df_max=df[[\"Session_Id\",col]].drop_duplicates()\n",
    "        elif \"Score\" in col:\n",
    "            df_feats=df[[\"Session_Id\",\"Item_ID\",col]]\n",
    "    if dataset is None:\n",
    "        dataset=df_feats\n",
    "        dataset_max=df_max\n",
    "    else:\n",
    "        dataset=dataset.merge(df_feats,on=[\"Session_Id\",\"Item_ID\"],how=\"outer\")\n",
    "        dataset_max=dataset_max.merge(df_max,on=[\"Session_Id\"],how=\"outer\")\n",
    "    del df\n",
    "\n",
    "\n",
    "del df_feats\n",
    "del df_max"
   ]
  },
  {
   "cell_type": "code",
   "execution_count": 10,
   "id": "de5d999f",
   "metadata": {
    "papermill": {
     "duration": 0.238542,
     "end_time": "2022-06-12T16:55:24.873056",
     "exception": false,
     "start_time": "2022-06-12T16:55:24.634514",
     "status": "completed"
    },
    "tags": []
   },
   "outputs": [],
   "source": [
    "ids=np.sort(dataset[\"Session_Id\"].unique())\n",
    "map_ids=pd.DataFrame()\n",
    "map_ids[\"Session_Id\"]=ids\n",
    "if just_checking_integrity:\n",
    "    map_ids[\"Real_Id\"]=Session_ids[:len(ids)]\n",
    "else:\n",
    "    map_ids[\"Real_Id\"]=Session_ids"
   ]
  },
  {
   "cell_type": "code",
   "execution_count": 11,
   "id": "7bea3fde",
   "metadata": {
    "papermill": {
     "duration": 0.077023,
     "end_time": "2022-06-12T16:55:25.002952",
     "exception": false,
     "start_time": "2022-06-12T16:55:24.925929",
     "status": "completed"
    },
    "tags": []
   },
   "outputs": [],
   "source": [
    "dataset_max=dataset_max.merge(map_ids,on=\"Session_Id\",how=\"left\")\n",
    "del dataset_max[\"Session_Id\"]\n",
    "dataset_max.rename(columns={\"Real_Id\":\"Session_Id\"},inplace=True)"
   ]
  },
  {
   "cell_type": "code",
   "execution_count": 12,
   "id": "06602988",
   "metadata": {
    "papermill": {
     "duration": 4.258115,
     "end_time": "2022-06-12T16:55:29.314291",
     "exception": false,
     "start_time": "2022-06-12T16:55:25.056176",
     "status": "completed"
    },
    "tags": []
   },
   "outputs": [],
   "source": [
    "dataset=dataset.merge(map_ids,on=\"Session_Id\",how=\"left\")\n",
    "del dataset[\"Session_Id\"]\n",
    "dataset.rename(columns={\"Real_Id\":\"Session_Id\"},inplace=True)"
   ]
  },
  {
   "cell_type": "code",
   "execution_count": 14,
   "id": "1ba29cb4",
   "metadata": {
    "papermill": {
     "duration": 1.975633,
     "end_time": "2022-06-12T16:55:31.342906",
     "exception": false,
     "start_time": "2022-06-12T16:55:29.367273",
     "status": "completed"
    },
    "tags": []
   },
   "outputs": [],
   "source": [
    "#import ast\n",
    "#submission_df=pd.read_csv(\"../dataset/candidates/NN/GRU/leaderboard/candidates.csv\")\n",
    "#submission_df[\"score\"]=submission_df[\"score\"].map(ast.literal_eval)\n",
    "#submission_df[\"code\"]=submission_df[\"code\"].map(ast.literal_eval)\n",
    "#submission_df[\"rank\"]=submission_df[\"rank\"].map(ast.literal_eval)\n",
    "#submission_df = submission_df.explode(['code','score', 'rank'])\n",
    "#submission_df[[\"session_id\",\"code\",\"rank\"]]=submission_df[[\"session_id\",\"code\",\"rank\"]].astype(int)\n",
    "#submission_df.rename(columns={\"code\":\"Item_ID\",\"session_id\":\"Session_Id\",\"rank\":\"rank_gru\",\"score\":\"score_gru\"},inplace=True)"
   ]
  },
  {
   "cell_type": "code",
   "execution_count": 15,
   "id": "fef897e1",
   "metadata": {
    "papermill": {
     "duration": 26.516025,
     "end_time": "2022-06-12T16:55:57.912172",
     "exception": false,
     "start_time": "2022-06-12T16:55:31.396147",
     "status": "completed"
    },
    "tags": []
   },
   "outputs": [],
   "source": [
    "import ast\n",
    "submission_df_tr=pd.read_csv(\"../dataset/candidates/NN/Transformer/leaderboard/candidates.csv\")\n",
    "submission_df_tr[\"score\"]=submission_df_tr[\"score\"].map(ast.literal_eval)\n",
    "submission_df_tr[\"code\"]=submission_df_tr[\"code\"].map(ast.literal_eval)\n",
    "submission_df_tr[\"rank\"]=submission_df_tr[\"rank\"].map(ast.literal_eval)\n",
    "submission_df_tr = submission_df_tr.explode(['code','score', 'rank'])\n",
    "submission_df_tr[[\"session_id\",\"code\",\"rank\"]]=submission_df_tr[[\"session_id\",\"code\",\"rank\"]].astype(int)\n",
    "submission_df_tr.rename(columns={\"code\":\"Item_ID\",\"session_id\":\"Session_Id\",\"rank\":\"rank_transformer\",\"score\":\"score_transformer\"},inplace=True)"
   ]
  },
  {
   "cell_type": "code",
   "execution_count": 16,
   "id": "403e863a",
   "metadata": {
    "collapsed": false,
    "jupyter": {
     "outputs_hidden": false
    },
    "pycharm": {
     "name": "#%%\n"
    }
   },
   "outputs": [],
   "source": [
    "#import ast\n",
    "#submission_df_LSTM=pd.read_csv(\"../dataset/candidates/NN/LSTM/leaderboard/candidates.csv\")\n",
    "#submission_df_LSTM[\"score\"]=submission_df_LSTM[\"score\"].map(ast.literal_eval)\n",
    "#submission_df_LSTM[\"code\"]=submission_df_LSTM[\"code\"].map(ast.literal_eval)\n",
    "#submission_df_LSTM[\"rank\"]=submission_df_LSTM[\"rank\"].map(ast.literal_eval)\n",
    "#submission_df_LSTM = submission_df_LSTM.explode(['code','score', 'rank'])\n",
    "#submission_df_LSTM[[\"session_id\",\"code\",\"rank\"]]=submission_df_LSTM[[\"session_id\",\"code\",\"rank\"]].astype(int)\n",
    "#submission_df_LSTM.rename(columns={\"code\":\"Item_ID\",\"session_id\":\"Session_Id\",\"rank\":\"rank_LSTM\",\"score\":\"score_LSTM\"},inplace=True)"
   ]
  },
  {
   "cell_type": "code",
   "execution_count": 18,
   "id": "b3503d4d",
   "metadata": {
    "papermill": {
     "duration": 16.489758,
     "end_time": "2022-06-12T16:56:17.441937",
     "exception": false,
     "start_time": "2022-06-12T16:56:00.952179",
     "status": "completed"
    },
    "tags": []
   },
   "outputs": [],
   "source": [
    "#dataset=dataset.merge(submission_df,on=[\"Session_Id\",\"Item_ID\"],how=\"outer\")\n",
    "#del submission_df\n",
    "dataset=dataset.merge(submission_df_tr,on=[\"Session_Id\",\"Item_ID\"],how=\"outer\")\n",
    "del submission_df_tr\n",
    "#dataset=dataset.merge(submission_df_LSTM,on=[\"Session_Id\",\"Item_ID\"],how=\"outer\")\n"
   ]
  },
  {
   "cell_type": "code",
   "execution_count": 19,
   "id": "79dc226e",
   "metadata": {
    "papermill": {
     "duration": 5.978353,
     "end_time": "2022-06-12T16:56:23.475109",
     "exception": false,
     "start_time": "2022-06-12T16:56:17.496756",
     "status": "completed"
    },
    "tags": []
   },
   "outputs": [],
   "source": [
    "dataset=dataset.merge(dataset_max,on=[\"Session_Id\"],how=\"left\")\n",
    "del dataset_max"
   ]
  },
  {
   "cell_type": "code",
   "execution_count": 20,
   "id": "4afa4119",
   "metadata": {
    "papermill": {
     "duration": 14.194397,
     "end_time": "2022-06-12T16:56:37.723580",
     "exception": false,
     "start_time": "2022-06-12T16:56:23.529183",
     "status": "completed"
    },
    "tags": []
   },
   "outputs": [
    {
     "name": "stderr",
     "output_type": "stream",
     "text": [
      "/var/folders/yt/h_zrk_k931s4wj_999xrfy0m0000gq/T/ipykernel_39157/2573695804.py:1: FutureWarning: Downcasting object dtype arrays on .fillna, .ffill, .bfill is deprecated and will change in a future version. Call result.infer_objects(copy=False) instead. To opt-in to the future behavior, set `pd.set_option('future.no_silent_downcasting', True)`\n",
      "  dataset.fillna(0,inplace=True)\n"
     ]
    }
   ],
   "source": [
    "dataset.fillna(0,inplace=True)"
   ]
  },
  {
   "cell_type": "code",
   "execution_count": 21,
   "id": "3def4b97",
   "metadata": {
    "papermill": {
     "duration": 0.053703,
     "end_time": "2022-06-12T16:56:39.486170",
     "exception": false,
     "start_time": "2022-06-12T16:56:39.432467",
     "status": "completed"
    },
    "tags": []
   },
   "outputs": [],
   "source": [
    "dataset_macro_features = pd.read_csv('../dataset/processed_data/macro_feats_NN_leaderboard.csv',\n",
    "                                     usecols=['session_id',\n",
    "                                                'session_similarity',\n",
    "                                                'session_similarity_uniques', 'session_similarity_feats', 'session_similarity_feats_uniques',\n",
    "                                              'length_of_session_seconds',\n",
    "                   'avg_time_spent_per_item_seconds',\n",
    "                   'variance_time_spent_per_item_seconds',\n",
    "                   'n_seen_items',\n",
    "                   'n_unique_items'])\n",
    "\n",
    "dataset_macro_features.rename(columns={'session_id':'Session_Id'}, inplace=True)\n",
    "dataset = dataset.merge(dataset_macro_features, on='Session_Id', how='left')"
   ]
  },
  {
   "cell_type": "code",
   "execution_count": 22,
   "id": "602292c5",
   "metadata": {
    "collapsed": false,
    "jupyter": {
     "outputs_hidden": false
    },
    "pycharm": {
     "name": "#%%\n"
    }
   },
   "outputs": [],
   "source": [
    "# dataset.drop('Max_Score_TopPop15', axis=1, inplace=True)"
   ]
  },
  {
   "cell_type": "code",
   "execution_count": 23,
   "id": "ec1dd779",
   "metadata": {
    "papermill": {
     "duration": 0.076322,
     "end_time": "2022-06-12T16:56:39.616418",
     "exception": false,
     "start_time": "2022-06-12T16:56:39.540096",
     "status": "completed"
    },
    "tags": []
   },
   "outputs": [
    {
     "data": {
      "text/html": [
       "<div>\n",
       "<style scoped>\n",
       "    .dataframe tbody tr th:only-of-type {\n",
       "        vertical-align: middle;\n",
       "    }\n",
       "\n",
       "    .dataframe tbody tr th {\n",
       "        vertical-align: top;\n",
       "    }\n",
       "\n",
       "    .dataframe thead th {\n",
       "        text-align: right;\n",
       "    }\n",
       "</style>\n",
       "<table border=\"1\" class=\"dataframe\">\n",
       "  <thead>\n",
       "    <tr style=\"text-align: right;\">\n",
       "      <th></th>\n",
       "      <th>Item_ID</th>\n",
       "      <th>Score_UCF_W</th>\n",
       "      <th>Score_ICBF_W</th>\n",
       "      <th>Score_Graph_W</th>\n",
       "      <th>Score_ICF_W</th>\n",
       "      <th>Session_Id</th>\n",
       "      <th>score_transformer</th>\n",
       "      <th>rank_transformer</th>\n",
       "      <th>Max_Score_UCF_W</th>\n",
       "      <th>Max_Score_ICBF_W</th>\n",
       "      <th>...</th>\n",
       "      <th>Max_Score_ICF_W</th>\n",
       "      <th>length_of_session_seconds</th>\n",
       "      <th>avg_time_spent_per_item_seconds</th>\n",
       "      <th>variance_time_spent_per_item_seconds</th>\n",
       "      <th>n_seen_items</th>\n",
       "      <th>n_unique_items</th>\n",
       "      <th>session_similarity</th>\n",
       "      <th>session_similarity_uniques</th>\n",
       "      <th>session_similarity_feats</th>\n",
       "      <th>session_similarity_feats_uniques</th>\n",
       "    </tr>\n",
       "  </thead>\n",
       "  <tbody>\n",
       "    <tr>\n",
       "      <th>0</th>\n",
       "      <td>3</td>\n",
       "      <td>0.000000</td>\n",
       "      <td>0.000000</td>\n",
       "      <td>0.010701</td>\n",
       "      <td>1.350410e-02</td>\n",
       "      <td>26</td>\n",
       "      <td>0.000000</td>\n",
       "      <td>0.0</td>\n",
       "      <td>54.82594</td>\n",
       "      <td>3.397799</td>\n",
       "      <td>...</td>\n",
       "      <td>0.330278</td>\n",
       "      <td>0.0</td>\n",
       "      <td>0.0</td>\n",
       "      <td>0.0</td>\n",
       "      <td>1.0</td>\n",
       "      <td>1.0</td>\n",
       "      <td>1.0</td>\n",
       "      <td>1.0</td>\n",
       "      <td>1.0</td>\n",
       "      <td>1.0</td>\n",
       "    </tr>\n",
       "    <tr>\n",
       "      <th>1</th>\n",
       "      <td>9</td>\n",
       "      <td>0.000000</td>\n",
       "      <td>0.491950</td>\n",
       "      <td>0.000000</td>\n",
       "      <td>1.882741e-22</td>\n",
       "      <td>26</td>\n",
       "      <td>0.000000</td>\n",
       "      <td>0.0</td>\n",
       "      <td>54.82594</td>\n",
       "      <td>3.397799</td>\n",
       "      <td>...</td>\n",
       "      <td>0.330278</td>\n",
       "      <td>0.0</td>\n",
       "      <td>0.0</td>\n",
       "      <td>0.0</td>\n",
       "      <td>1.0</td>\n",
       "      <td>1.0</td>\n",
       "      <td>1.0</td>\n",
       "      <td>1.0</td>\n",
       "      <td>1.0</td>\n",
       "      <td>1.0</td>\n",
       "    </tr>\n",
       "    <tr>\n",
       "      <th>2</th>\n",
       "      <td>19</td>\n",
       "      <td>0.000000</td>\n",
       "      <td>0.183125</td>\n",
       "      <td>0.000000</td>\n",
       "      <td>0.000000e+00</td>\n",
       "      <td>26</td>\n",
       "      <td>0.000000</td>\n",
       "      <td>0.0</td>\n",
       "      <td>54.82594</td>\n",
       "      <td>3.397799</td>\n",
       "      <td>...</td>\n",
       "      <td>0.330278</td>\n",
       "      <td>0.0</td>\n",
       "      <td>0.0</td>\n",
       "      <td>0.0</td>\n",
       "      <td>1.0</td>\n",
       "      <td>1.0</td>\n",
       "      <td>1.0</td>\n",
       "      <td>1.0</td>\n",
       "      <td>1.0</td>\n",
       "      <td>1.0</td>\n",
       "    </tr>\n",
       "    <tr>\n",
       "      <th>3</th>\n",
       "      <td>21</td>\n",
       "      <td>0.095758</td>\n",
       "      <td>0.000000</td>\n",
       "      <td>0.019740</td>\n",
       "      <td>0.000000e+00</td>\n",
       "      <td>26</td>\n",
       "      <td>0.002732</td>\n",
       "      <td>43.0</td>\n",
       "      <td>54.82594</td>\n",
       "      <td>3.397799</td>\n",
       "      <td>...</td>\n",
       "      <td>0.330278</td>\n",
       "      <td>0.0</td>\n",
       "      <td>0.0</td>\n",
       "      <td>0.0</td>\n",
       "      <td>1.0</td>\n",
       "      <td>1.0</td>\n",
       "      <td>1.0</td>\n",
       "      <td>1.0</td>\n",
       "      <td>1.0</td>\n",
       "      <td>1.0</td>\n",
       "    </tr>\n",
       "    <tr>\n",
       "      <th>4</th>\n",
       "      <td>33</td>\n",
       "      <td>0.000000</td>\n",
       "      <td>0.730614</td>\n",
       "      <td>0.000000</td>\n",
       "      <td>6.852990e-03</td>\n",
       "      <td>26</td>\n",
       "      <td>0.000000</td>\n",
       "      <td>0.0</td>\n",
       "      <td>54.82594</td>\n",
       "      <td>3.397799</td>\n",
       "      <td>...</td>\n",
       "      <td>0.330278</td>\n",
       "      <td>0.0</td>\n",
       "      <td>0.0</td>\n",
       "      <td>0.0</td>\n",
       "      <td>1.0</td>\n",
       "      <td>1.0</td>\n",
       "      <td>1.0</td>\n",
       "      <td>1.0</td>\n",
       "      <td>1.0</td>\n",
       "      <td>1.0</td>\n",
       "    </tr>\n",
       "  </tbody>\n",
       "</table>\n",
       "<p>5 rows × 21 columns</p>\n",
       "</div>"
      ],
      "text/plain": [
       "   Item_ID  Score_UCF_W  Score_ICBF_W  Score_Graph_W   Score_ICF_W  \\\n",
       "0        3     0.000000      0.000000       0.010701  1.350410e-02   \n",
       "1        9     0.000000      0.491950       0.000000  1.882741e-22   \n",
       "2       19     0.000000      0.183125       0.000000  0.000000e+00   \n",
       "3       21     0.095758      0.000000       0.019740  0.000000e+00   \n",
       "4       33     0.000000      0.730614       0.000000  6.852990e-03   \n",
       "\n",
       "   Session_Id  score_transformer  rank_transformer  Max_Score_UCF_W  \\\n",
       "0          26           0.000000               0.0         54.82594   \n",
       "1          26           0.000000               0.0         54.82594   \n",
       "2          26           0.000000               0.0         54.82594   \n",
       "3          26           0.002732              43.0         54.82594   \n",
       "4          26           0.000000               0.0         54.82594   \n",
       "\n",
       "   Max_Score_ICBF_W  ...  Max_Score_ICF_W  length_of_session_seconds  \\\n",
       "0          3.397799  ...         0.330278                        0.0   \n",
       "1          3.397799  ...         0.330278                        0.0   \n",
       "2          3.397799  ...         0.330278                        0.0   \n",
       "3          3.397799  ...         0.330278                        0.0   \n",
       "4          3.397799  ...         0.330278                        0.0   \n",
       "\n",
       "   avg_time_spent_per_item_seconds  variance_time_spent_per_item_seconds  \\\n",
       "0                              0.0                                   0.0   \n",
       "1                              0.0                                   0.0   \n",
       "2                              0.0                                   0.0   \n",
       "3                              0.0                                   0.0   \n",
       "4                              0.0                                   0.0   \n",
       "\n",
       "   n_seen_items  n_unique_items  session_similarity  \\\n",
       "0           1.0             1.0                 1.0   \n",
       "1           1.0             1.0                 1.0   \n",
       "2           1.0             1.0                 1.0   \n",
       "3           1.0             1.0                 1.0   \n",
       "4           1.0             1.0                 1.0   \n",
       "\n",
       "   session_similarity_uniques  session_similarity_feats  \\\n",
       "0                         1.0                       1.0   \n",
       "1                         1.0                       1.0   \n",
       "2                         1.0                       1.0   \n",
       "3                         1.0                       1.0   \n",
       "4                         1.0                       1.0   \n",
       "\n",
       "   session_similarity_feats_uniques  \n",
       "0                               1.0  \n",
       "1                               1.0  \n",
       "2                               1.0  \n",
       "3                               1.0  \n",
       "4                               1.0  \n",
       "\n",
       "[5 rows x 21 columns]"
      ]
     },
     "execution_count": 23,
     "metadata": {},
     "output_type": "execute_result"
    }
   ],
   "source": [
    "dataset.head()"
   ]
  },
  {
   "cell_type": "code",
   "execution_count": 24,
   "id": "0e5ed5e6",
   "metadata": {
    "papermill": {
     "duration": 0.15881,
     "end_time": "2022-06-12T16:56:39.829383",
     "exception": false,
     "start_time": "2022-06-12T16:56:39.670573",
     "status": "completed"
    },
    "tags": []
   },
   "outputs": [
    {
     "data": {
      "text/plain": [
       "1587"
      ]
     },
     "execution_count": 24,
     "metadata": {},
     "output_type": "execute_result"
    }
   ],
   "source": [
    "gc.collect()"
   ]
  },
  {
   "cell_type": "code",
   "execution_count": 25,
   "id": "1546cffa",
   "metadata": {
    "papermill": {
     "duration": 3.39065,
     "end_time": "2022-06-12T16:56:43.274495",
     "exception": false,
     "start_time": "2022-06-12T16:56:39.883845",
     "status": "completed"
    },
    "tags": []
   },
   "outputs": [],
   "source": [
    "dataset=dataset.sort_values(\"Session_Id\")"
   ]
  },
  {
   "cell_type": "code",
   "execution_count": 26,
   "id": "ae00cbc6",
   "metadata": {
    "papermill": {
     "duration": 0.160414,
     "end_time": "2022-06-12T16:56:43.707099",
     "exception": false,
     "start_time": "2022-06-12T16:56:43.546685",
     "status": "completed"
    },
    "tags": []
   },
   "outputs": [
    {
     "data": {
      "text/plain": [
       "0"
      ]
     },
     "execution_count": 26,
     "metadata": {},
     "output_type": "execute_result"
    }
   ],
   "source": [
    "gc.collect()"
   ]
  },
  {
   "cell_type": "code",
   "execution_count": 27,
   "id": "6ec34b10",
   "metadata": {
    "papermill": {
     "duration": 1.779393,
     "end_time": "2022-06-12T16:56:45.541963",
     "exception": false,
     "start_time": "2022-06-12T16:56:43.762570",
     "status": "completed"
    },
    "tags": []
   },
   "outputs": [],
   "source": [
    "import lightgbm"
   ]
  },
  {
   "cell_type": "code",
   "execution_count": 28,
   "id": "5d441590",
   "metadata": {
    "papermill": {
     "duration": 0.123721,
     "end_time": "2022-06-12T16:56:45.722456",
     "exception": false,
     "start_time": "2022-06-12T16:56:45.598735",
     "status": "completed"
    },
    "tags": []
   },
   "outputs": [],
   "source": [
    "k=10"
   ]
  },
  {
   "cell_type": "code",
   "execution_count": 29,
   "id": "aec45332",
   "metadata": {
    "collapsed": false,
    "jupyter": {
     "outputs_hidden": false
    },
    "pycharm": {
     "name": "#%%\n"
    }
   },
   "outputs": [],
   "source": [
    "result = []"
   ]
  },
  {
   "cell_type": "code",
   "execution_count": 30,
   "id": "2abd3acd",
   "metadata": {
    "papermill": {
     "duration": 135.802345,
     "end_time": "2022-06-12T16:59:01.582198",
     "exception": false,
     "start_time": "2022-06-12T16:56:45.779853",
     "status": "completed"
    },
    "tags": []
   },
   "outputs": [
    {
     "data": {
      "text/plain": [
       "array([[-0.90917261, -1.45082936, -1.45082936, ..., -1.05403352,\n",
       "        -1.29830724, -0.19505178],\n",
       "       [-2.49905718, -3.52995355, -3.57484424, ..., -2.40960111,\n",
       "        -2.87277709, -0.96055199],\n",
       "       [-2.5816811 , -3.54534641, -3.57164411, ..., -2.52743482,\n",
       "        -2.69550466, -1.20536501],\n",
       "       ...,\n",
       "       [-2.66606892, -3.74370527, -3.76266467, ..., -2.59165316,\n",
       "        -2.86017399, -1.13683523],\n",
       "       [-2.55463509, -3.80685266, -3.7901756 , ..., -2.55961629,\n",
       "        -2.64007414, -1.08682826],\n",
       "       [-2.52289299, -3.55075361, -3.66605732, ..., -2.49538173,\n",
       "        -2.69586995, -1.06302466]])"
      ]
     },
     "execution_count": 30,
     "metadata": {},
     "output_type": "execute_result"
    }
   ],
   "source": [
    "for index in range(k):\n",
    "    model = lightgbm.Booster(model_file=f'../rankers/model_{index}.txt')\n",
    "    result.append(model.predict(dataset.drop([\"Session_Id\",\"Item_ID\"],axis=1)))\n",
    "    # dataset[f\"score_{index}\"]=model.predict(dataset.drop([\"Session_Id\",\"Item_ID\"],axis=1))\n",
    "\n",
    "#combine scores\n",
    "result = np.array(result)\n",
    "result"
   ]
  },
  {
   "cell_type": "code",
   "execution_count": 32,
   "id": "326d2ef7",
   "metadata": {
    "collapsed": false,
    "jupyter": {
     "outputs_hidden": false
    },
    "pycharm": {
     "name": "#%%\n"
    }
   },
   "outputs": [
    {
     "data": {
      "text/plain": [
       "(10, 30543091)"
      ]
     },
     "execution_count": 32,
     "metadata": {},
     "output_type": "execute_result"
    }
   ],
   "source": [
    "result.shape"
   ]
  },
  {
   "cell_type": "code",
   "execution_count": 33,
   "id": "a45cf2bb",
   "metadata": {
    "collapsed": false,
    "jupyter": {
     "outputs_hidden": false
    },
    "pycharm": {
     "name": "#%%\n"
    }
   },
   "outputs": [],
   "source": [
    "dataset[\"score\"]=np.mean(result ,axis=0)\n",
    "# dataset[\"score\"]=np.median(result ,axis=0)\n",
    "\n",
    "#dataset[\"score\"]=dataset[[f\"score_{i}\" for i in range(k)]].apply(lambda x:np.median(x),axis=1)"
   ]
  },
  {
   "cell_type": "code",
   "execution_count": 34,
   "id": "b92931e2",
   "metadata": {
    "papermill": {
     "duration": 0.442046,
     "end_time": "2022-06-12T16:59:02.081096",
     "exception": false,
     "start_time": "2022-06-12T16:59:01.639050",
     "status": "completed"
    },
    "tags": []
   },
   "outputs": [
    {
     "data": {
      "text/plain": [
       "49"
      ]
     },
     "execution_count": 34,
     "metadata": {},
     "output_type": "execute_result"
    }
   ],
   "source": [
    "dataset=dataset[[\"Session_Id\",\"Item_ID\",\"score\"]]\n",
    "gc.collect()"
   ]
  },
  {
   "cell_type": "code",
   "execution_count": 35,
   "id": "3a582375",
   "metadata": {
    "papermill": {
     "duration": 0.071213,
     "end_time": "2022-06-12T16:59:02.209707",
     "exception": false,
     "start_time": "2022-06-12T16:59:02.138494",
     "status": "completed"
    },
    "tags": []
   },
   "outputs": [
    {
     "data": {
      "text/html": [
       "<div>\n",
       "<style scoped>\n",
       "    .dataframe tbody tr th:only-of-type {\n",
       "        vertical-align: middle;\n",
       "    }\n",
       "\n",
       "    .dataframe tbody tr th {\n",
       "        vertical-align: top;\n",
       "    }\n",
       "\n",
       "    .dataframe thead th {\n",
       "        text-align: right;\n",
       "    }\n",
       "</style>\n",
       "<table border=\"1\" class=\"dataframe\">\n",
       "  <thead>\n",
       "    <tr style=\"text-align: right;\">\n",
       "      <th></th>\n",
       "      <th>Session_Id</th>\n",
       "      <th>Item_ID</th>\n",
       "      <th>score</th>\n",
       "    </tr>\n",
       "  </thead>\n",
       "  <tbody>\n",
       "    <tr>\n",
       "      <th>0</th>\n",
       "      <td>26</td>\n",
       "      <td>3</td>\n",
       "      <td>-2.348486</td>\n",
       "    </tr>\n",
       "    <tr>\n",
       "      <th>390</th>\n",
       "      <td>26</td>\n",
       "      <td>3373</td>\n",
       "      <td>-3.397643</td>\n",
       "    </tr>\n",
       "    <tr>\n",
       "      <th>391</th>\n",
       "      <td>26</td>\n",
       "      <td>3374</td>\n",
       "      <td>-3.413051</td>\n",
       "    </tr>\n",
       "    <tr>\n",
       "      <th>392</th>\n",
       "      <td>26</td>\n",
       "      <td>3375</td>\n",
       "      <td>-3.413051</td>\n",
       "    </tr>\n",
       "    <tr>\n",
       "      <th>393</th>\n",
       "      <td>26</td>\n",
       "      <td>3376</td>\n",
       "      <td>-3.413051</td>\n",
       "    </tr>\n",
       "  </tbody>\n",
       "</table>\n",
       "</div>"
      ],
      "text/plain": [
       "     Session_Id  Item_ID     score\n",
       "0            26        3 -2.348486\n",
       "390          26     3373 -3.397643\n",
       "391          26     3374 -3.413051\n",
       "392          26     3375 -3.413051\n",
       "393          26     3376 -3.413051"
      ]
     },
     "execution_count": 35,
     "metadata": {},
     "output_type": "execute_result"
    }
   ],
   "source": [
    "dataset.head()"
   ]
  },
  {
   "cell_type": "code",
   "execution_count": 36,
   "id": "f62e232f",
   "metadata": {
    "papermill": {
     "duration": 14.365345,
     "end_time": "2022-06-12T16:59:16.631745",
     "exception": false,
     "start_time": "2022-06-12T16:59:02.266400",
     "status": "completed"
    },
    "tags": []
   },
   "outputs": [],
   "source": [
    "dataset=dataset.groupby(['Session_Id']).agg(list).reset_index()"
   ]
  },
  {
   "cell_type": "code",
   "execution_count": 37,
   "id": "9b85040e",
   "metadata": {
    "papermill": {
     "duration": 0.070322,
     "end_time": "2022-06-12T16:59:16.759733",
     "exception": false,
     "start_time": "2022-06-12T16:59:16.689411",
     "status": "completed"
    },
    "tags": []
   },
   "outputs": [],
   "source": [
    "def get_indices(x):\n",
    "    x=np.array(x)\n",
    "    indices_unsorted=np.argpartition(x, -100)[-100:]\n",
    "    x=x[indices_unsorted]\n",
    "    indices=indices_unsorted[np.argsort(-x)]\n",
    "    return indices"
   ]
  },
  {
   "cell_type": "code",
   "execution_count": 38,
   "id": "322214a9",
   "metadata": {
    "papermill": {
     "duration": 4.723503,
     "end_time": "2022-06-12T16:59:21.541339",
     "exception": false,
     "start_time": "2022-06-12T16:59:16.817836",
     "status": "completed"
    },
    "tags": []
   },
   "outputs": [],
   "source": [
    "dataset[\"indices\"]=dataset[\"score\"].apply(lambda x: get_indices(x))"
   ]
  },
  {
   "cell_type": "code",
   "execution_count": 39,
   "id": "0d15c34d",
   "metadata": {
    "papermill": {
     "duration": 0.069271,
     "end_time": "2022-06-12T16:59:21.669582",
     "exception": false,
     "start_time": "2022-06-12T16:59:21.600311",
     "status": "completed"
    },
    "tags": []
   },
   "outputs": [
    {
     "data": {
      "text/plain": [
       "Session_Id                                                   26\n",
       "Item_ID       [3, 3373, 3374, 3375, 3376, 3378, 3379, 3372, ...\n",
       "score         [-2.3484861037040936, -3.3976431972354453, -3....\n",
       "indices       [424, 299, 206, 350, 455, 202, 164, 355, 200, ...\n",
       "Name: 0, dtype: object"
      ]
     },
     "execution_count": 39,
     "metadata": {},
     "output_type": "execute_result"
    }
   ],
   "source": [
    "dataset.iloc[0]"
   ]
  },
  {
   "cell_type": "code",
   "execution_count": 40,
   "id": "bddb4385",
   "metadata": {
    "papermill": {
     "duration": 0.066992,
     "end_time": "2022-06-12T16:59:21.795321",
     "exception": false,
     "start_time": "2022-06-12T16:59:21.728329",
     "status": "completed"
    },
    "tags": []
   },
   "outputs": [
    {
     "data": {
      "text/plain": [
       "1805"
      ]
     },
     "execution_count": 40,
     "metadata": {},
     "output_type": "execute_result"
    }
   ],
   "source": [
    "dataset.iloc[0][\"Item_ID\"][536]"
   ]
  },
  {
   "cell_type": "code",
   "execution_count": 41,
   "id": "ebaf1049",
   "metadata": {
    "papermill": {
     "duration": 0.065781,
     "end_time": "2022-06-12T16:59:21.918641",
     "exception": false,
     "start_time": "2022-06-12T16:59:21.852860",
     "status": "completed"
    },
    "tags": []
   },
   "outputs": [],
   "source": [
    "def get_items(x):\n",
    "    items=np.array(x[0])\n",
    "    return items[x[1]]"
   ]
  },
  {
   "cell_type": "code",
   "execution_count": 42,
   "id": "144e62b2",
   "metadata": {
    "papermill": {
     "duration": 4.96688,
     "end_time": "2022-06-12T16:59:26.943713",
     "exception": false,
     "start_time": "2022-06-12T16:59:21.976833",
     "status": "completed"
    },
    "tags": []
   },
   "outputs": [
    {
     "name": "stderr",
     "output_type": "stream",
     "text": [
      "/var/folders/yt/h_zrk_k931s4wj_999xrfy0m0000gq/T/ipykernel_39157/744460501.py:2: FutureWarning: Series.__getitem__ treating keys as positions is deprecated. In a future version, integer keys will always be treated as labels (consistent with DataFrame behavior). To access a value by position, use `ser.iloc[pos]`\n",
      "  items=np.array(x[0])\n",
      "/var/folders/yt/h_zrk_k931s4wj_999xrfy0m0000gq/T/ipykernel_39157/744460501.py:3: FutureWarning: Series.__getitem__ treating keys as positions is deprecated. In a future version, integer keys will always be treated as labels (consistent with DataFrame behavior). To access a value by position, use `ser.iloc[pos]`\n",
      "  return items[x[1]]\n"
     ]
    }
   ],
   "source": [
    "dataset[\"predictions\"]=dataset[[\"Item_ID\",\"indices\"]].apply(get_items,axis=1)"
   ]
  },
  {
   "cell_type": "code",
   "execution_count": 43,
   "id": "b3e85988",
   "metadata": {
    "papermill": {
     "duration": 1.416768,
     "end_time": "2022-06-12T16:59:28.419052",
     "exception": false,
     "start_time": "2022-06-12T16:59:27.002284",
     "status": "completed"
    },
    "tags": []
   },
   "outputs": [],
   "source": [
    "dataset=dataset[[\"Session_Id\",\"predictions\"]]\n",
    "dataset[\"rank\"]=dataset.apply(lambda x:tuple([rank for rank in range(1, 101)]) ,axis=1)"
   ]
  },
  {
   "cell_type": "code",
   "execution_count": 45,
   "id": "2c55ecc0",
   "metadata": {
    "papermill": {
     "duration": 0.099685,
     "end_time": "2022-06-12T16:59:28.576741",
     "exception": false,
     "start_time": "2022-06-12T16:59:28.477056",
     "status": "completed"
    },
    "tags": []
   },
   "outputs": [
    {
     "data": {
      "text/html": [
       "<div>\n",
       "<style scoped>\n",
       "    .dataframe tbody tr th:only-of-type {\n",
       "        vertical-align: middle;\n",
       "    }\n",
       "\n",
       "    .dataframe tbody tr th {\n",
       "        vertical-align: top;\n",
       "    }\n",
       "\n",
       "    .dataframe thead th {\n",
       "        text-align: right;\n",
       "    }\n",
       "</style>\n",
       "<table border=\"1\" class=\"dataframe\">\n",
       "  <thead>\n",
       "    <tr style=\"text-align: right;\">\n",
       "      <th></th>\n",
       "      <th>Session_Id</th>\n",
       "      <th>predictions</th>\n",
       "      <th>rank</th>\n",
       "    </tr>\n",
       "  </thead>\n",
       "  <tbody>\n",
       "    <tr>\n",
       "      <th>0</th>\n",
       "      <td>26</td>\n",
       "      <td>[606, 1008, 4685, 1337, 2905, 4881, 4462, 1205...</td>\n",
       "      <td>(1, 2, 3, 4, 5, 6, 7, 8, 9, 10, 11, 12, 13, 14...</td>\n",
       "    </tr>\n",
       "    <tr>\n",
       "      <th>1</th>\n",
       "      <td>200</td>\n",
       "      <td>[1827, 772, 3893, 3400, 270, 4878, 3656, 1449,...</td>\n",
       "      <td>(1, 2, 3, 4, 5, 6, 7, 8, 9, 10, 11, 12, 13, 14...</td>\n",
       "    </tr>\n",
       "    <tr>\n",
       "      <th>2</th>\n",
       "      <td>205</td>\n",
       "      <td>[2289, 3398, 4986, 1181, 2235, 1039, 2075, 914...</td>\n",
       "      <td>(1, 2, 3, 4, 5, 6, 7, 8, 9, 10, 11, 12, 13, 14...</td>\n",
       "    </tr>\n",
       "    <tr>\n",
       "      <th>3</th>\n",
       "      <td>495</td>\n",
       "      <td>[2378, 3337, 3937, 2369, 4155, 794, 1633, 4686...</td>\n",
       "      <td>(1, 2, 3, 4, 5, 6, 7, 8, 9, 10, 11, 12, 13, 14...</td>\n",
       "    </tr>\n",
       "    <tr>\n",
       "      <th>4</th>\n",
       "      <td>521</td>\n",
       "      <td>[1004, 2175, 3586, 3172, 25, 1518, 1165, 2485,...</td>\n",
       "      <td>(1, 2, 3, 4, 5, 6, 7, 8, 9, 10, 11, 12, 13, 14...</td>\n",
       "    </tr>\n",
       "    <tr>\n",
       "      <th>...</th>\n",
       "      <td>...</td>\n",
       "      <td>...</td>\n",
       "      <td>...</td>\n",
       "    </tr>\n",
       "    <tr>\n",
       "      <th>49995</th>\n",
       "      <td>4439446</td>\n",
       "      <td>[2258, 4387, 4810, 3526, 2605, 3867, 3084, 378...</td>\n",
       "      <td>(1, 2, 3, 4, 5, 6, 7, 8, 9, 10, 11, 12, 13, 14...</td>\n",
       "    </tr>\n",
       "    <tr>\n",
       "      <th>49996</th>\n",
       "      <td>4439458</td>\n",
       "      <td>[1875, 2877, 3880, 3026, 3153, 3155, 2216, 111...</td>\n",
       "      <td>(1, 2, 3, 4, 5, 6, 7, 8, 9, 10, 11, 12, 13, 14...</td>\n",
       "    </tr>\n",
       "    <tr>\n",
       "      <th>49997</th>\n",
       "      <td>4439550</td>\n",
       "      <td>[1901, 4779, 2638, 4846, 2431, 625, 1780, 3487...</td>\n",
       "      <td>(1, 2, 3, 4, 5, 6, 7, 8, 9, 10, 11, 12, 13, 14...</td>\n",
       "    </tr>\n",
       "    <tr>\n",
       "      <th>49998</th>\n",
       "      <td>4439653</td>\n",
       "      <td>[3531, 42, 1015, 989, 360, 2266, 2696, 3665, 1...</td>\n",
       "      <td>(1, 2, 3, 4, 5, 6, 7, 8, 9, 10, 11, 12, 13, 14...</td>\n",
       "    </tr>\n",
       "    <tr>\n",
       "      <th>49999</th>\n",
       "      <td>4439757</td>\n",
       "      <td>[3252, 3158, 1440, 3490, 1057, 165, 3629, 3191...</td>\n",
       "      <td>(1, 2, 3, 4, 5, 6, 7, 8, 9, 10, 11, 12, 13, 14...</td>\n",
       "    </tr>\n",
       "  </tbody>\n",
       "</table>\n",
       "<p>50000 rows × 3 columns</p>\n",
       "</div>"
      ],
      "text/plain": [
       "       Session_Id                                        predictions  \\\n",
       "0              26  [606, 1008, 4685, 1337, 2905, 4881, 4462, 1205...   \n",
       "1             200  [1827, 772, 3893, 3400, 270, 4878, 3656, 1449,...   \n",
       "2             205  [2289, 3398, 4986, 1181, 2235, 1039, 2075, 914...   \n",
       "3             495  [2378, 3337, 3937, 2369, 4155, 794, 1633, 4686...   \n",
       "4             521  [1004, 2175, 3586, 3172, 25, 1518, 1165, 2485,...   \n",
       "...           ...                                                ...   \n",
       "49995     4439446  [2258, 4387, 4810, 3526, 2605, 3867, 3084, 378...   \n",
       "49996     4439458  [1875, 2877, 3880, 3026, 3153, 3155, 2216, 111...   \n",
       "49997     4439550  [1901, 4779, 2638, 4846, 2431, 625, 1780, 3487...   \n",
       "49998     4439653  [3531, 42, 1015, 989, 360, 2266, 2696, 3665, 1...   \n",
       "49999     4439757  [3252, 3158, 1440, 3490, 1057, 165, 3629, 3191...   \n",
       "\n",
       "                                                    rank  \n",
       "0      (1, 2, 3, 4, 5, 6, 7, 8, 9, 10, 11, 12, 13, 14...  \n",
       "1      (1, 2, 3, 4, 5, 6, 7, 8, 9, 10, 11, 12, 13, 14...  \n",
       "2      (1, 2, 3, 4, 5, 6, 7, 8, 9, 10, 11, 12, 13, 14...  \n",
       "3      (1, 2, 3, 4, 5, 6, 7, 8, 9, 10, 11, 12, 13, 14...  \n",
       "4      (1, 2, 3, 4, 5, 6, 7, 8, 9, 10, 11, 12, 13, 14...  \n",
       "...                                                  ...  \n",
       "49995  (1, 2, 3, 4, 5, 6, 7, 8, 9, 10, 11, 12, 13, 14...  \n",
       "49996  (1, 2, 3, 4, 5, 6, 7, 8, 9, 10, 11, 12, 13, 14...  \n",
       "49997  (1, 2, 3, 4, 5, 6, 7, 8, 9, 10, 11, 12, 13, 14...  \n",
       "49998  (1, 2, 3, 4, 5, 6, 7, 8, 9, 10, 11, 12, 13, 14...  \n",
       "49999  (1, 2, 3, 4, 5, 6, 7, 8, 9, 10, 11, 12, 13, 14...  \n",
       "\n",
       "[50000 rows x 3 columns]"
      ]
     },
     "execution_count": 45,
     "metadata": {},
     "output_type": "execute_result"
    }
   ],
   "source": [
    "dataset"
   ]
  },
  {
   "cell_type": "code",
   "execution_count": 46,
   "id": "19e4beee",
   "metadata": {
    "papermill": {
     "duration": 0.683005,
     "end_time": "2022-06-12T16:59:29.319000",
     "exception": false,
     "start_time": "2022-06-12T16:59:28.635995",
     "status": "completed"
    },
    "tags": []
   },
   "outputs": [],
   "source": [
    "dataset[\"predictions\"]=dataset[\"predictions\"].apply(tuple)"
   ]
  },
  {
   "cell_type": "code",
   "execution_count": 47,
   "id": "a2d2299a",
   "metadata": {
    "papermill": {
     "duration": 0.07339,
     "end_time": "2022-06-12T16:59:29.569313",
     "exception": false,
     "start_time": "2022-06-12T16:59:29.495923",
     "status": "completed"
    },
    "tags": []
   },
   "outputs": [],
   "source": [
    "dataset=dataset[[\"Session_Id\",\"predictions\",\"rank\"]]"
   ]
  },
  {
   "cell_type": "code",
   "execution_count": 48,
   "id": "1facb193",
   "metadata": {
    "papermill": {
     "duration": 0.06533,
     "end_time": "2022-06-12T16:59:29.694238",
     "exception": false,
     "start_time": "2022-06-12T16:59:29.628908",
     "status": "completed"
    },
    "tags": []
   },
   "outputs": [],
   "source": [
    "dataset.columns=[\"session_id\",\"code\",\"rank\"]"
   ]
  },
  {
   "cell_type": "code",
   "execution_count": 49,
   "id": "ccdf1f46",
   "metadata": {
    "papermill": {
     "duration": 0.083812,
     "end_time": "2022-06-12T16:59:29.837436",
     "exception": false,
     "start_time": "2022-06-12T16:59:29.753624",
     "status": "completed"
    },
    "tags": []
   },
   "outputs": [
    {
     "data": {
      "text/html": [
       "<div>\n",
       "<style scoped>\n",
       "    .dataframe tbody tr th:only-of-type {\n",
       "        vertical-align: middle;\n",
       "    }\n",
       "\n",
       "    .dataframe tbody tr th {\n",
       "        vertical-align: top;\n",
       "    }\n",
       "\n",
       "    .dataframe thead th {\n",
       "        text-align: right;\n",
       "    }\n",
       "</style>\n",
       "<table border=\"1\" class=\"dataframe\">\n",
       "  <thead>\n",
       "    <tr style=\"text-align: right;\">\n",
       "      <th></th>\n",
       "      <th>session_id</th>\n",
       "      <th>code</th>\n",
       "      <th>rank</th>\n",
       "    </tr>\n",
       "  </thead>\n",
       "  <tbody>\n",
       "    <tr>\n",
       "      <th>0</th>\n",
       "      <td>26</td>\n",
       "      <td>(606, 1008, 4685, 1337, 2905, 4881, 4462, 1205...</td>\n",
       "      <td>(1, 2, 3, 4, 5, 6, 7, 8, 9, 10, 11, 12, 13, 14...</td>\n",
       "    </tr>\n",
       "    <tr>\n",
       "      <th>1</th>\n",
       "      <td>200</td>\n",
       "      <td>(1827, 772, 3893, 3400, 270, 4878, 3656, 1449,...</td>\n",
       "      <td>(1, 2, 3, 4, 5, 6, 7, 8, 9, 10, 11, 12, 13, 14...</td>\n",
       "    </tr>\n",
       "    <tr>\n",
       "      <th>2</th>\n",
       "      <td>205</td>\n",
       "      <td>(2289, 3398, 4986, 1181, 2235, 1039, 2075, 914...</td>\n",
       "      <td>(1, 2, 3, 4, 5, 6, 7, 8, 9, 10, 11, 12, 13, 14...</td>\n",
       "    </tr>\n",
       "    <tr>\n",
       "      <th>3</th>\n",
       "      <td>495</td>\n",
       "      <td>(2378, 3337, 3937, 2369, 4155, 794, 1633, 4686...</td>\n",
       "      <td>(1, 2, 3, 4, 5, 6, 7, 8, 9, 10, 11, 12, 13, 14...</td>\n",
       "    </tr>\n",
       "    <tr>\n",
       "      <th>4</th>\n",
       "      <td>521</td>\n",
       "      <td>(1004, 2175, 3586, 3172, 25, 1518, 1165, 2485,...</td>\n",
       "      <td>(1, 2, 3, 4, 5, 6, 7, 8, 9, 10, 11, 12, 13, 14...</td>\n",
       "    </tr>\n",
       "  </tbody>\n",
       "</table>\n",
       "</div>"
      ],
      "text/plain": [
       "   session_id                                               code  \\\n",
       "0          26  (606, 1008, 4685, 1337, 2905, 4881, 4462, 1205...   \n",
       "1         200  (1827, 772, 3893, 3400, 270, 4878, 3656, 1449,...   \n",
       "2         205  (2289, 3398, 4986, 1181, 2235, 1039, 2075, 914...   \n",
       "3         495  (2378, 3337, 3937, 2369, 4155, 794, 1633, 4686...   \n",
       "4         521  (1004, 2175, 3586, 3172, 25, 1518, 1165, 2485,...   \n",
       "\n",
       "                                                rank  \n",
       "0  (1, 2, 3, 4, 5, 6, 7, 8, 9, 10, 11, 12, 13, 14...  \n",
       "1  (1, 2, 3, 4, 5, 6, 7, 8, 9, 10, 11, 12, 13, 14...  \n",
       "2  (1, 2, 3, 4, 5, 6, 7, 8, 9, 10, 11, 12, 13, 14...  \n",
       "3  (1, 2, 3, 4, 5, 6, 7, 8, 9, 10, 11, 12, 13, 14...  \n",
       "4  (1, 2, 3, 4, 5, 6, 7, 8, 9, 10, 11, 12, 13, 14...  "
      ]
     },
     "execution_count": 49,
     "metadata": {},
     "output_type": "execute_result"
    }
   ],
   "source": [
    "dataset.head()"
   ]
  },
  {
   "cell_type": "code",
   "execution_count": 50,
   "id": "e4258770",
   "metadata": {
    "papermill": {
     "duration": 1.365591,
     "end_time": "2022-06-12T16:59:31.262162",
     "exception": false,
     "start_time": "2022-06-12T16:59:29.896571",
     "status": "completed"
    },
    "tags": []
   },
   "outputs": [],
   "source": [
    "submission_df = dataset.explode(['code', 'rank']).astype(int)"
   ]
  },
  {
   "cell_type": "code",
   "execution_count": 51,
   "id": "f5243792",
   "metadata": {
    "papermill": {
     "duration": 0.814342,
     "end_time": "2022-06-12T16:59:32.136382",
     "exception": false,
     "start_time": "2022-06-12T16:59:31.322040",
     "status": "completed"
    },
    "tags": []
   },
   "outputs": [],
   "source": [
    "mapping= pd.read_csv('../dataset/processed_data/map.csv')\n",
    "submission_df=submission_df.merge(mapping,on=\"code\",how=\"left\")\n",
    "del submission_df[\"code\"]\n",
    "submission_df=submission_df[[\"session_id\",\"item_id\",\"rank\"]]"
   ]
  },
  {
   "cell_type": "code",
   "execution_count": 52,
   "id": "3939ba35",
   "metadata": {
    "papermill": {
     "duration": 0.067899,
     "end_time": "2022-06-12T16:59:32.264542",
     "exception": false,
     "start_time": "2022-06-12T16:59:32.196643",
     "status": "completed"
    },
    "tags": []
   },
   "outputs": [
    {
     "name": "stdout",
     "output_type": "stream",
     "text": [
      "5000000\n"
     ]
    }
   ],
   "source": [
    "print(len(submission_df))"
   ]
  },
  {
   "cell_type": "code",
   "execution_count": 53,
   "id": "d9cf15d2",
   "metadata": {
    "papermill": {
     "duration": 0.077344,
     "end_time": "2022-06-12T16:59:32.407149",
     "exception": false,
     "start_time": "2022-06-12T16:59:32.329805",
     "status": "completed"
    },
    "tags": []
   },
   "outputs": [
    {
     "name": "stdout",
     "output_type": "stream",
     "text": [
      "<class 'pandas.core.frame.DataFrame'>\n",
      "RangeIndex: 5000000 entries, 0 to 4999999\n",
      "Data columns (total 3 columns):\n",
      " #   Column      Dtype\n",
      "---  ------      -----\n",
      " 0   session_id  int64\n",
      " 1   item_id     int64\n",
      " 2   rank        int64\n",
      "dtypes: int64(3)\n",
      "memory usage: 114.4 MB\n"
     ]
    }
   ],
   "source": [
    "submission_df.info()"
   ]
  },
  {
   "cell_type": "code",
   "execution_count": 54,
   "id": "a4bd6fea",
   "metadata": {
    "papermill": {
     "duration": 0.091514,
     "end_time": "2022-06-12T16:59:32.559757",
     "exception": false,
     "start_time": "2022-06-12T16:59:32.468243",
     "status": "completed"
    },
    "tags": []
   },
   "outputs": [
    {
     "data": {
      "text/plain": [
       "session_id    0\n",
       "item_id       0\n",
       "rank          0\n",
       "dtype: int64"
      ]
     },
     "execution_count": 54,
     "metadata": {},
     "output_type": "execute_result"
    }
   ],
   "source": [
    "submission_df.isna().sum()"
   ]
  },
  {
   "cell_type": "code",
   "execution_count": 55,
   "id": "4381eeb6",
   "metadata": {
    "papermill": {
     "duration": 10.646249,
     "end_time": "2022-06-12T16:59:43.267327",
     "exception": false,
     "start_time": "2022-06-12T16:59:32.621078",
     "status": "completed"
    },
    "tags": []
   },
   "outputs": [],
   "source": [
    "submission_df.to_csv(\n",
    "    f'../leaderboard_sub.csv',\n",
    "    index=False\n",
    "    )"
   ]
  },
  {
   "cell_type": "code",
   "execution_count": null,
   "id": "f3b71245-6c7e-4714-9a4a-e97c8d38043c",
   "metadata": {},
   "outputs": [],
   "source": []
  }
 ],
 "metadata": {
  "kernelspec": {
   "display_name": "Python 3 (ipykernel)",
   "language": "python",
   "name": "python3"
  },
  "language_info": {
   "codemirror_mode": {
    "name": "ipython",
    "version": 3
   },
   "file_extension": ".py",
   "mimetype": "text/x-python",
   "name": "python",
   "nbconvert_exporter": "python",
   "pygments_lexer": "ipython3",
   "version": "3.11.5"
  },
  "papermill": {
   "default_parameters": {},
   "duration": 355.611026,
   "end_time": "2022-06-12T16:59:44.340713",
   "environment_variables": {},
   "exception": null,
   "input_path": "__notebook__.ipynb",
   "output_path": "__notebook__.ipynb",
   "parameters": {},
   "start_time": "2022-06-12T16:53:48.729687",
   "version": "2.3.3"
  },
  "vscode": {
   "interpreter": {
    "hash": "61f38fddaed46afda7c40a5798d4631266e18af1d335aa6f772dc3ed9b8ab549"
   }
  }
 },
 "nbformat": 4,
 "nbformat_minor": 5
}
