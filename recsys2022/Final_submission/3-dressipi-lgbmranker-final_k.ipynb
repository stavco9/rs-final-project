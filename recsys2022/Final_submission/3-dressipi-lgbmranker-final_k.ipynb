{
 "cells": [
  {
   "cell_type": "code",
   "execution_count": 2,
   "id": "ac9a115d",
   "metadata": {},
   "outputs": [],
   "source": [
    "just_checking_integrity=False"
   ]
  },
  {
   "cell_type": "code",
   "execution_count": 3,
   "id": "0cd378b3",
   "metadata": {
    "execution": {
     "iopub.execute_input": "2022-06-12T16:53:58.434177Z",
     "iopub.status.busy": "2022-06-12T16:53:58.433031Z",
     "iopub.status.idle": "2022-06-12T16:53:58.520198Z",
     "shell.execute_reply": "2022-06-12T16:53:58.519411Z",
     "shell.execute_reply.started": "2022-06-12T16:44:12.113125Z"
    },
    "papermill": {
     "duration": 0.141538,
     "end_time": "2022-06-12T16:53:58.520370",
     "exception": false,
     "start_time": "2022-06-12T16:53:58.378832",
     "status": "completed"
    },
    "tags": []
   },
   "outputs": [],
   "source": [
    "import gc\n",
    "import pandas as pd\n",
    "import scipy.sparse as sps\n",
    "import numpy as np"
   ]
  },
  {
   "cell_type": "code",
   "execution_count": 4,
   "id": "e4676f00",
   "metadata": {
    "execution": {
     "iopub.execute_input": "2022-06-12T16:53:58.624435Z",
     "iopub.status.busy": "2022-06-12T16:53:58.623807Z",
     "iopub.status.idle": "2022-06-12T16:53:58.715256Z",
     "shell.execute_reply": "2022-06-12T16:53:58.715776Z",
     "shell.execute_reply.started": "2022-06-12T16:44:12.151138Z"
    },
    "papermill": {
     "duration": 0.146009,
     "end_time": "2022-06-12T16:53:58.715990",
     "exception": false,
     "start_time": "2022-06-12T16:53:58.569981",
     "status": "completed"
    },
    "tags": []
   },
   "outputs": [],
   "source": [
    "URM_test=sps.load_npz(\"../dataset/processed_data/URM_test_final.npz\")"
   ]
  },
  {
   "cell_type": "code",
   "execution_count": 5,
   "id": "7854974f",
   "metadata": {
    "execution": {
     "iopub.execute_input": "2022-06-12T16:53:58.818349Z",
     "iopub.status.busy": "2022-06-12T16:53:58.817358Z",
     "iopub.status.idle": "2022-06-12T16:53:58.824571Z",
     "shell.execute_reply": "2022-06-12T16:53:58.825099Z",
     "shell.execute_reply.started": "2022-06-12T16:44:12.212375Z"
    },
    "papermill": {
     "duration": 0.060116,
     "end_time": "2022-06-12T16:53:58.825275",
     "exception": false,
     "start_time": "2022-06-12T16:53:58.765159",
     "status": "completed"
    },
    "tags": []
   },
   "outputs": [
    {
     "data": {
      "text/plain": [
       "(4439967, 23690)"
      ]
     },
     "execution_count": 5,
     "metadata": {},
     "output_type": "execute_result"
    }
   ],
   "source": [
    "URM_test.shape"
   ]
  },
  {
   "cell_type": "code",
   "execution_count": 6,
   "id": "b2fc443c",
   "metadata": {
    "execution": {
     "iopub.execute_input": "2022-06-12T16:53:58.931182Z",
     "iopub.status.busy": "2022-06-12T16:53:58.930469Z",
     "iopub.status.idle": "2022-06-12T16:53:59.004536Z",
     "shell.execute_reply": "2022-06-12T16:53:59.005147Z",
     "shell.execute_reply.started": "2022-06-12T16:44:12.221723Z"
    },
    "papermill": {
     "duration": 0.129216,
     "end_time": "2022-06-12T16:53:59.005328",
     "exception": false,
     "start_time": "2022-06-12T16:53:58.876112",
     "status": "completed"
    },
    "tags": []
   },
   "outputs": [
    {
     "data": {
      "text/plain": [
       "(4439967,)"
      ]
     },
     "execution_count": 6,
     "metadata": {},
     "output_type": "execute_result"
    }
   ],
   "source": [
    "np.ravel(URM_test.sum(axis=1)).shape"
   ]
  },
  {
   "cell_type": "code",
   "execution_count": 7,
   "id": "f4e1acd0",
   "metadata": {
    "execution": {
     "iopub.execute_input": "2022-06-12T16:53:59.111151Z",
     "iopub.status.busy": "2022-06-12T16:53:59.110421Z",
     "iopub.status.idle": "2022-06-12T16:53:59.199591Z",
     "shell.execute_reply": "2022-06-12T16:53:59.198926Z",
     "shell.execute_reply.started": "2022-06-12T16:44:12.300508Z"
    },
    "papermill": {
     "duration": 0.144207,
     "end_time": "2022-06-12T16:53:59.199763",
     "exception": false,
     "start_time": "2022-06-12T16:53:59.055556",
     "status": "completed"
    },
    "tags": []
   },
   "outputs": [],
   "source": [
    "Session_ids=np.argwhere(np.ravel(URM_test.sum(axis=1)))"
   ]
  },
  {
   "cell_type": "code",
   "execution_count": 8,
   "id": "23c21590",
   "metadata": {
    "execution": {
     "iopub.execute_input": "2022-06-12T16:53:59.304726Z",
     "iopub.status.busy": "2022-06-12T16:53:59.304053Z",
     "iopub.status.idle": "2022-06-12T16:53:59.306743Z",
     "shell.execute_reply": "2022-06-12T16:53:59.306254Z",
     "shell.execute_reply.started": "2022-06-12T16:44:12.391063Z"
    },
    "papermill": {
     "duration": 0.056971,
     "end_time": "2022-06-12T16:53:59.306883",
     "exception": false,
     "start_time": "2022-06-12T16:53:59.249912",
     "status": "completed"
    },
    "tags": []
   },
   "outputs": [],
   "source": [
    "is_sorted = lambda a: np.all(a[:-1] <= a[1:])"
   ]
  },
  {
   "cell_type": "code",
   "execution_count": 9,
   "id": "5adf257f",
   "metadata": {
    "execution": {
     "iopub.execute_input": "2022-06-12T16:53:59.410367Z",
     "iopub.status.busy": "2022-06-12T16:53:59.409701Z",
     "iopub.status.idle": "2022-06-12T16:53:59.414286Z",
     "shell.execute_reply": "2022-06-12T16:53:59.414842Z",
     "shell.execute_reply.started": "2022-06-12T16:44:12.397660Z"
    },
    "papermill": {
     "duration": 0.057925,
     "end_time": "2022-06-12T16:53:59.415013",
     "exception": false,
     "start_time": "2022-06-12T16:53:59.357088",
     "status": "completed"
    },
    "tags": []
   },
   "outputs": [
    {
     "data": {
      "text/plain": [
       "True"
      ]
     },
     "execution_count": 9,
     "metadata": {},
     "output_type": "execute_result"
    }
   ],
   "source": [
    "is_sorted(Session_ids)"
   ]
  },
  {
   "cell_type": "code",
   "execution_count": 10,
   "id": "ae942e02",
   "metadata": {
    "execution": {
     "iopub.execute_input": "2022-06-12T16:53:59.518422Z",
     "iopub.status.busy": "2022-06-12T16:53:59.517782Z",
     "iopub.status.idle": "2022-06-12T16:55:24.580943Z",
     "shell.execute_reply": "2022-06-12T16:55:24.580279Z",
     "shell.execute_reply.started": "2022-06-12T16:44:12.411287Z"
    },
    "papermill": {
     "duration": 85.115587,
     "end_time": "2022-06-12T16:55:24.581119",
     "exception": false,
     "start_time": "2022-06-12T16:53:59.465532",
     "status": "completed"
    },
    "tags": []
   },
   "outputs": [
    {
     "name": "stdout",
     "output_type": "stream",
     "text": [
      "0\n",
      "loading UCF\n",
      "1523259\n",
      "loaded UCF\n",
      "0\n",
      "loading ICBF\n",
      "1485572\n",
      "loaded ICBF\n",
      "0\n",
      "loading Graph\n",
      "866733\n",
      "loaded Graph\n",
      "0\n",
      "loading ICF\n",
      "1815315\n",
      "loaded ICF\n",
      "0\n",
      "loading UCF_W\n",
      "1481491\n",
      "loaded UCF_W\n",
      "0\n",
      "loading ICBF_W\n",
      "1485572\n",
      "loaded ICBF_W\n",
      "0\n",
      "loading Graph_W\n",
      "910643\n",
      "loaded Graph_W\n",
      "0\n",
      "loading ICF_W\n",
      "1888294\n",
      "loaded ICF_W\n",
      "0\n",
      "loading UCF_WW\n",
      "1346714\n",
      "loaded UCF_WW\n",
      "0\n",
      "loading ICBF_WW\n",
      "1485572\n",
      "loaded ICBF_WW\n",
      "0\n",
      "loading Graph_WW\n",
      "910643\n",
      "loaded Graph_WW\n",
      "0\n",
      "loading ICF_WW\n",
      "1888294\n",
      "loaded ICF_WW\n"
     ]
    }
   ],
   "source": [
    "dataset=None\n",
    "dataset_max=None\n",
    "#[\"UCF\",\"ICBF\",\"ICF\",\"Graph\",\"TopPop100\",\"TopPop50\",\"TopPop15\"]\n",
    "for file in [\"UCF\",\"ICBF\",\"Graph\",\"ICF\",\"UCF_W\",\"ICBF_W\",\"Graph_W\",\"ICF_W\",\"UCF_WW\",\"ICBF_WW\",\"Graph_WW\",\"ICF_WW\"]:\n",
    "    print(gc.collect())\n",
    "    print(f\"loading {file}\")\n",
    "    df=pd.read_csv(f\"../dataset/candidates/traditional_recs/final/{file}.csv\")\n",
    "    print(len(df))\n",
    "    print(f\"loaded {file}\")\n",
    "    for col in df:\n",
    "        if \"Max\" in col:\n",
    "            df_max=df[[\"Session_Id\",col]].drop_duplicates()\n",
    "        elif \"Score\" in col:\n",
    "            df_feats=df[[\"Session_Id\",\"Item_ID\",col]]\n",
    "    if dataset is None:\n",
    "        dataset=df_feats\n",
    "        dataset_max=df_max\n",
    "    else:\n",
    "        dataset=dataset.merge(df_feats,on=[\"Session_Id\",\"Item_ID\"],how=\"outer\")\n",
    "        dataset_max=dataset_max.merge(df_max,on=[\"Session_Id\"],how=\"outer\")\n",
    "    del df\n",
    "\n",
    "\n",
    "del df_feats\n",
    "del df_max"
   ]
  },
  {
   "cell_type": "code",
   "execution_count": 11,
   "id": "de5d999f",
   "metadata": {
    "execution": {
     "iopub.execute_input": "2022-06-12T16:55:24.690427Z",
     "iopub.status.busy": "2022-06-12T16:55:24.689463Z",
     "iopub.status.idle": "2022-06-12T16:55:24.872901Z",
     "shell.execute_reply": "2022-06-12T16:55:24.872108Z",
     "shell.execute_reply.started": "2022-06-12T16:45:38.200141Z"
    },
    "papermill": {
     "duration": 0.238542,
     "end_time": "2022-06-12T16:55:24.873056",
     "exception": false,
     "start_time": "2022-06-12T16:55:24.634514",
     "status": "completed"
    },
    "tags": []
   },
   "outputs": [],
   "source": [
    "ids=np.sort(dataset[\"Session_Id\"].unique())\n",
    "map_ids=pd.DataFrame()\n",
    "map_ids[\"Session_Id\"]=ids\n",
    "if just_checking_integrity:\n",
    "    map_ids[\"Real_Id\"]=Session_ids[:len(ids)]\n",
    "else:\n",
    "    map_ids[\"Real_Id\"]=Session_ids\n"
   ]
  },
  {
   "cell_type": "code",
   "execution_count": 12,
   "id": "7bea3fde",
   "metadata": {
    "execution": {
     "iopub.execute_input": "2022-06-12T16:55:24.984509Z",
     "iopub.status.busy": "2022-06-12T16:55:24.983869Z",
     "iopub.status.idle": "2022-06-12T16:55:25.002790Z",
     "shell.execute_reply": "2022-06-12T16:55:25.002224Z"
    },
    "papermill": {
     "duration": 0.077023,
     "end_time": "2022-06-12T16:55:25.002952",
     "exception": false,
     "start_time": "2022-06-12T16:55:24.925929",
     "status": "completed"
    },
    "tags": []
   },
   "outputs": [],
   "source": [
    "dataset_max=dataset_max.merge(map_ids,on=\"Session_Id\",how=\"left\")\n",
    "del dataset_max[\"Session_Id\"]\n",
    "dataset_max.rename(columns={\"Real_Id\":\"Session_Id\"},inplace=True)"
   ]
  },
  {
   "cell_type": "code",
   "execution_count": 13,
   "id": "06602988",
   "metadata": {
    "execution": {
     "iopub.execute_input": "2022-06-12T16:55:25.114745Z",
     "iopub.status.busy": "2022-06-12T16:55:25.114028Z",
     "iopub.status.idle": "2022-06-12T16:55:29.314122Z",
     "shell.execute_reply": "2022-06-12T16:55:29.313517Z",
     "shell.execute_reply.started": "2022-06-12T16:45:38.385624Z"
    },
    "papermill": {
     "duration": 4.258115,
     "end_time": "2022-06-12T16:55:29.314291",
     "exception": false,
     "start_time": "2022-06-12T16:55:25.056176",
     "status": "completed"
    },
    "tags": []
   },
   "outputs": [],
   "source": [
    "dataset=dataset.merge(map_ids,on=\"Session_Id\",how=\"left\")\n",
    "del dataset[\"Session_Id\"]\n",
    "dataset.rename(columns={\"Real_Id\":\"Session_Id\"},inplace=True)"
   ]
  },
  {
   "cell_type": "code",
   "execution_count": 14,
   "id": "1ba29cb4",
   "metadata": {
    "execution": {
     "iopub.execute_input": "2022-06-12T16:55:29.426267Z",
     "iopub.status.busy": "2022-06-12T16:55:29.425561Z",
     "iopub.status.idle": "2022-06-12T16:55:31.342153Z",
     "shell.execute_reply": "2022-06-12T16:55:31.342718Z",
     "shell.execute_reply.started": "2022-06-12T16:45:56.908821Z"
    },
    "papermill": {
     "duration": 1.975633,
     "end_time": "2022-06-12T16:55:31.342906",
     "exception": false,
     "start_time": "2022-06-12T16:55:29.367273",
     "status": "completed"
    },
    "tags": []
   },
   "outputs": [],
   "source": [
    "import ast\n",
    "submission_df=pd.read_csv(\"../dataset/candidates/NN/GRU/final/candidates.csv\")\n",
    "submission_df[\"score\"]=submission_df[\"score\"].map(ast.literal_eval)\n",
    "submission_df[\"code\"]=submission_df[\"code\"].map(ast.literal_eval)\n",
    "submission_df[\"rank\"]=submission_df[\"rank\"].map(ast.literal_eval)\n",
    "submission_df = submission_df.explode(['code','score', 'rank'])\n",
    "submission_df[[\"session_id\",\"code\",\"rank\"]]=submission_df[[\"session_id\",\"code\",\"rank\"]].astype(int)\n",
    "submission_df.rename(columns={\"code\":\"Item_ID\",\"session_id\":\"Session_Id\",\"rank\":\"rank_gru\",\"score\":\"score_gru\"},inplace=True)"
   ]
  },
  {
   "cell_type": "code",
   "execution_count": 15,
   "id": "fef897e1",
   "metadata": {
    "execution": {
     "iopub.execute_input": "2022-06-12T16:55:31.454420Z",
     "iopub.status.busy": "2022-06-12T16:55:31.453371Z",
     "iopub.status.idle": "2022-06-12T16:55:57.911477Z",
     "shell.execute_reply": "2022-06-12T16:55:57.911973Z",
     "shell.execute_reply.started": "2022-06-12T16:45:59.327200Z"
    },
    "papermill": {
     "duration": 26.516025,
     "end_time": "2022-06-12T16:55:57.912172",
     "exception": false,
     "start_time": "2022-06-12T16:55:31.396147",
     "status": "completed"
    },
    "tags": []
   },
   "outputs": [],
   "source": [
    "import ast\n",
    "submission_df_tr=pd.read_csv(\"../dataset/candidates/NN/Transformer/final/candidates.csv\")\n",
    "submission_df_tr[\"score\"]=submission_df_tr[\"score\"].map(ast.literal_eval)\n",
    "submission_df_tr[\"code\"]=submission_df_tr[\"code\"].map(ast.literal_eval)\n",
    "submission_df_tr[\"rank\"]=submission_df_tr[\"rank\"].map(ast.literal_eval)\n",
    "submission_df_tr = submission_df_tr.explode(['code','score', 'rank'])\n",
    "submission_df_tr[[\"session_id\",\"code\",\"rank\"]]=submission_df_tr[[\"session_id\",\"code\",\"rank\"]].astype(int)\n",
    "submission_df_tr.rename(columns={\"code\":\"Item_ID\",\"session_id\":\"Session_Id\",\"rank\":\"rank_transformer\",\"score\":\"score_transformer\"},inplace=True)"
   ]
  },
  {
   "cell_type": "code",
   "execution_count": 16,
   "metadata": {
    "collapsed": false,
    "pycharm": {
     "name": "#%%\n"
    }
   },
   "outputs": [],
   "source": [
    "import ast\n",
    "submission_df_LSTM=pd.read_csv(\"../dataset/candidates/NN/LSTM/final/candidates.csv\")\n",
    "submission_df_LSTM[\"score\"]=submission_df_LSTM[\"score\"].map(ast.literal_eval)\n",
    "submission_df_LSTM[\"code\"]=submission_df_LSTM[\"code\"].map(ast.literal_eval)\n",
    "submission_df_LSTM[\"rank\"]=submission_df_LSTM[\"rank\"].map(ast.literal_eval)\n",
    "submission_df_LSTM = submission_df_LSTM.explode(['code','score', 'rank'])\n",
    "submission_df_LSTM[[\"session_id\",\"code\",\"rank\"]]=submission_df_LSTM[[\"session_id\",\"code\",\"rank\"]].astype(int)\n",
    "submission_df_LSTM.rename(columns={\"code\":\"Item_ID\",\"session_id\":\"Session_Id\",\"rank\":\"rank_LSTM\",\"score\":\"score_LSTM\"},inplace=True)"
   ]
  },
  {
   "cell_type": "code",
   "execution_count": 17,
   "id": "b3503d4d",
   "metadata": {
    "execution": {
     "iopub.execute_input": "2022-06-12T16:56:01.086319Z",
     "iopub.status.busy": "2022-06-12T16:56:01.085614Z",
     "iopub.status.idle": "2022-06-12T16:56:17.441787Z",
     "shell.execute_reply": "2022-06-12T16:56:17.441245Z",
     "shell.execute_reply.started": "2022-06-12T16:48:33.770521Z"
    },
    "papermill": {
     "duration": 16.489758,
     "end_time": "2022-06-12T16:56:17.441937",
     "exception": false,
     "start_time": "2022-06-12T16:56:00.952179",
     "status": "completed"
    },
    "tags": []
   },
   "outputs": [],
   "source": [
    "dataset=dataset.merge(submission_df,on=[\"Session_Id\",\"Item_ID\"],how=\"outer\")\n",
    "del submission_df\n",
    "dataset=dataset.merge(submission_df_tr,on=[\"Session_Id\",\"Item_ID\"],how=\"outer\")\n",
    "del submission_df_tr\n",
    "dataset=dataset.merge(submission_df_LSTM,on=[\"Session_Id\",\"Item_ID\"],how=\"outer\")\n"
   ]
  },
  {
   "cell_type": "code",
   "execution_count": 18,
   "id": "79dc226e",
   "metadata": {
    "execution": {
     "iopub.execute_input": "2022-06-12T16:56:17.555767Z",
     "iopub.status.busy": "2022-06-12T16:56:17.554723Z",
     "iopub.status.idle": "2022-06-12T16:56:23.474091Z",
     "shell.execute_reply": "2022-06-12T16:56:23.474928Z",
     "shell.execute_reply.started": "2022-06-12T16:48:53.529749Z"
    },
    "papermill": {
     "duration": 5.978353,
     "end_time": "2022-06-12T16:56:23.475109",
     "exception": false,
     "start_time": "2022-06-12T16:56:17.496756",
     "status": "completed"
    },
    "tags": []
   },
   "outputs": [],
   "source": [
    "dataset=dataset.merge(dataset_max,on=[\"Session_Id\"],how=\"left\")\n",
    "del dataset_max"
   ]
  },
  {
   "cell_type": "code",
   "execution_count": 19,
   "id": "4afa4119",
   "metadata": {
    "execution": {
     "iopub.execute_input": "2022-06-12T16:56:23.589768Z",
     "iopub.status.busy": "2022-06-12T16:56:23.588981Z",
     "iopub.status.idle": "2022-06-12T16:56:37.722764Z",
     "shell.execute_reply": "2022-06-12T16:56:37.723409Z",
     "shell.execute_reply.started": "2022-06-12T16:49:21.356967Z"
    },
    "papermill": {
     "duration": 14.194397,
     "end_time": "2022-06-12T16:56:37.723580",
     "exception": false,
     "start_time": "2022-06-12T16:56:23.529183",
     "status": "completed"
    },
    "tags": []
   },
   "outputs": [],
   "source": [
    "dataset.fillna(0,inplace=True)"
   ]
  },
  {
   "cell_type": "code",
   "execution_count": 20,
   "id": "22527153",
   "metadata": {
    "execution": {
     "iopub.execute_input": "2022-06-12T16:56:37.833540Z",
     "iopub.status.busy": "2022-06-12T16:56:37.832863Z",
     "iopub.status.idle": "2022-06-12T16:56:39.377664Z",
     "shell.execute_reply": "2022-06-12T16:56:39.377008Z",
     "shell.execute_reply.started": "2022-06-12T16:49:51.935529Z"
    },
    "papermill": {
     "duration": 1.601248,
     "end_time": "2022-06-12T16:56:39.377803",
     "exception": false,
     "start_time": "2022-06-12T16:56:37.776555",
     "status": "completed"
    },
    "tags": []
   },
   "outputs": [
    {
     "data": {
      "text/plain": [
       "507"
      ]
     },
     "execution_count": 20,
     "metadata": {},
     "output_type": "execute_result"
    }
   ],
   "source": [
    "gc.collect()"
   ]
  },
  {
   "cell_type": "code",
   "execution_count": 21,
   "id": "3def4b97",
   "metadata": {
    "execution": {
     "iopub.status.busy": "2022-06-12T16:45:45.107247Z",
     "iopub.status.idle": "2022-06-12T16:45:45.107540Z",
     "shell.execute_reply": "2022-06-12T16:45:45.107406Z",
     "shell.execute_reply.started": "2022-06-12T16:45:45.107387Z"
    },
    "papermill": {
     "duration": 0.053703,
     "end_time": "2022-06-12T16:56:39.486170",
     "exception": false,
     "start_time": "2022-06-12T16:56:39.432467",
     "status": "completed"
    },
    "tags": []
   },
   "outputs": [],
   "source": [
    "dataset_macro_features = pd.read_csv('../dataset/processed_data/macro_feats_NN_final.csv',\n",
    "                                     usecols=['session_id',\n",
    "                                                'session_similarity',\n",
    "                                                'session_similarity_uniques', 'session_similarity_feats', 'session_similarity_feats_uniques',\n",
    "                                              'length_of_session_seconds',\n",
    "                   'avg_time_spent_per_item_seconds',\n",
    "                   'variance_time_spent_per_item_seconds',\n",
    "                   'n_seen_items',\n",
    "                   'n_unique_items',])\n",
    "\n",
    "dataset_macro_features.rename(columns={'session_id':'Session_Id'}, inplace=True)\n",
    "dataset = dataset.merge(dataset_macro_features, on='Session_Id', how='left')"
   ]
  },
  {
   "cell_type": "code",
   "execution_count": 22,
   "metadata": {
    "collapsed": false,
    "pycharm": {
     "name": "#%%\n"
    }
   },
   "outputs": [],
   "source": [
    "# dataset.drop('Max_Score_TopPop15', axis=1, inplace=True)"
   ]
  },
  {
   "cell_type": "code",
   "execution_count": 23,
   "id": "ec1dd779",
   "metadata": {
    "execution": {
     "iopub.execute_input": "2022-06-12T16:56:39.599154Z",
     "iopub.status.busy": "2022-06-12T16:56:39.598474Z",
     "iopub.status.idle": "2022-06-12T16:56:39.615720Z",
     "shell.execute_reply": "2022-06-12T16:56:39.616252Z",
     "shell.execute_reply.started": "2022-06-12T16:49:55.659744Z"
    },
    "papermill": {
     "duration": 0.076322,
     "end_time": "2022-06-12T16:56:39.616418",
     "exception": false,
     "start_time": "2022-06-12T16:56:39.540096",
     "status": "completed"
    },
    "tags": []
   },
   "outputs": [
    {
     "data": {
      "text/html": [
       "<div>\n",
       "<style scoped>\n",
       "    .dataframe tbody tr th:only-of-type {\n",
       "        vertical-align: middle;\n",
       "    }\n",
       "\n",
       "    .dataframe tbody tr th {\n",
       "        vertical-align: top;\n",
       "    }\n",
       "\n",
       "    .dataframe thead th {\n",
       "        text-align: right;\n",
       "    }\n",
       "</style>\n",
       "<table border=\"1\" class=\"dataframe\">\n",
       "  <thead>\n",
       "    <tr style=\"text-align: right;\">\n",
       "      <th></th>\n",
       "      <th>Item_ID</th>\n",
       "      <th>Score_UCF</th>\n",
       "      <th>Score_ICBF</th>\n",
       "      <th>Score_Graph</th>\n",
       "      <th>Score_ICF</th>\n",
       "      <th>Score_UCF_W</th>\n",
       "      <th>Score_ICBF_W</th>\n",
       "      <th>Score_Graph_W</th>\n",
       "      <th>Score_ICF_W</th>\n",
       "      <th>Score_UCF_WW</th>\n",
       "      <th>...</th>\n",
       "      <th>Max_Score_ICF_WW</th>\n",
       "      <th>length_of_session_seconds</th>\n",
       "      <th>avg_time_spent_per_item_seconds</th>\n",
       "      <th>variance_time_spent_per_item_seconds</th>\n",
       "      <th>n_seen_items</th>\n",
       "      <th>n_unique_items</th>\n",
       "      <th>session_similarity</th>\n",
       "      <th>session_similarity_uniques</th>\n",
       "      <th>session_similarity_feats</th>\n",
       "      <th>session_similarity_feats_uniques</th>\n",
       "    </tr>\n",
       "  </thead>\n",
       "  <tbody>\n",
       "    <tr>\n",
       "      <th>0</th>\n",
       "      <td>11</td>\n",
       "      <td>0.035168</td>\n",
       "      <td>0.115033</td>\n",
       "      <td>0.006554</td>\n",
       "      <td>0.015254</td>\n",
       "      <td>0.0</td>\n",
       "      <td>0.0</td>\n",
       "      <td>0.0</td>\n",
       "      <td>0.0</td>\n",
       "      <td>0.0</td>\n",
       "      <td>...</td>\n",
       "      <td>0.0</td>\n",
       "      <td>NaN</td>\n",
       "      <td>NaN</td>\n",
       "      <td>NaN</td>\n",
       "      <td>NaN</td>\n",
       "      <td>NaN</td>\n",
       "      <td>NaN</td>\n",
       "      <td>NaN</td>\n",
       "      <td>NaN</td>\n",
       "      <td>NaN</td>\n",
       "    </tr>\n",
       "    <tr>\n",
       "      <th>1</th>\n",
       "      <td>19</td>\n",
       "      <td>0.018728</td>\n",
       "      <td>0.000000</td>\n",
       "      <td>0.000000</td>\n",
       "      <td>0.000000</td>\n",
       "      <td>0.0</td>\n",
       "      <td>0.0</td>\n",
       "      <td>0.0</td>\n",
       "      <td>0.0</td>\n",
       "      <td>0.0</td>\n",
       "      <td>...</td>\n",
       "      <td>0.0</td>\n",
       "      <td>NaN</td>\n",
       "      <td>NaN</td>\n",
       "      <td>NaN</td>\n",
       "      <td>NaN</td>\n",
       "      <td>NaN</td>\n",
       "      <td>NaN</td>\n",
       "      <td>NaN</td>\n",
       "      <td>NaN</td>\n",
       "      <td>NaN</td>\n",
       "    </tr>\n",
       "    <tr>\n",
       "      <th>2</th>\n",
       "      <td>23</td>\n",
       "      <td>0.038990</td>\n",
       "      <td>0.072503</td>\n",
       "      <td>0.007389</td>\n",
       "      <td>0.016038</td>\n",
       "      <td>0.0</td>\n",
       "      <td>0.0</td>\n",
       "      <td>0.0</td>\n",
       "      <td>0.0</td>\n",
       "      <td>0.0</td>\n",
       "      <td>...</td>\n",
       "      <td>0.0</td>\n",
       "      <td>NaN</td>\n",
       "      <td>NaN</td>\n",
       "      <td>NaN</td>\n",
       "      <td>NaN</td>\n",
       "      <td>NaN</td>\n",
       "      <td>NaN</td>\n",
       "      <td>NaN</td>\n",
       "      <td>NaN</td>\n",
       "      <td>NaN</td>\n",
       "    </tr>\n",
       "    <tr>\n",
       "      <th>3</th>\n",
       "      <td>25</td>\n",
       "      <td>0.025525</td>\n",
       "      <td>0.081094</td>\n",
       "      <td>0.004554</td>\n",
       "      <td>0.008848</td>\n",
       "      <td>0.0</td>\n",
       "      <td>0.0</td>\n",
       "      <td>0.0</td>\n",
       "      <td>0.0</td>\n",
       "      <td>0.0</td>\n",
       "      <td>...</td>\n",
       "      <td>0.0</td>\n",
       "      <td>NaN</td>\n",
       "      <td>NaN</td>\n",
       "      <td>NaN</td>\n",
       "      <td>NaN</td>\n",
       "      <td>NaN</td>\n",
       "      <td>NaN</td>\n",
       "      <td>NaN</td>\n",
       "      <td>NaN</td>\n",
       "      <td>NaN</td>\n",
       "    </tr>\n",
       "    <tr>\n",
       "      <th>4</th>\n",
       "      <td>69</td>\n",
       "      <td>0.056398</td>\n",
       "      <td>0.085104</td>\n",
       "      <td>0.011284</td>\n",
       "      <td>0.016860</td>\n",
       "      <td>0.0</td>\n",
       "      <td>0.0</td>\n",
       "      <td>0.0</td>\n",
       "      <td>0.0</td>\n",
       "      <td>0.0</td>\n",
       "      <td>...</td>\n",
       "      <td>0.0</td>\n",
       "      <td>NaN</td>\n",
       "      <td>NaN</td>\n",
       "      <td>NaN</td>\n",
       "      <td>NaN</td>\n",
       "      <td>NaN</td>\n",
       "      <td>NaN</td>\n",
       "      <td>NaN</td>\n",
       "      <td>NaN</td>\n",
       "      <td>NaN</td>\n",
       "    </tr>\n",
       "  </tbody>\n",
       "</table>\n",
       "<p>5 rows × 41 columns</p>\n",
       "</div>"
      ],
      "text/plain": [
       "   Item_ID  Score_UCF  Score_ICBF  Score_Graph  Score_ICF  Score_UCF_W  \\\n",
       "0       11   0.035168    0.115033     0.006554   0.015254          0.0   \n",
       "1       19   0.018728    0.000000     0.000000   0.000000          0.0   \n",
       "2       23   0.038990    0.072503     0.007389   0.016038          0.0   \n",
       "3       25   0.025525    0.081094     0.004554   0.008848          0.0   \n",
       "4       69   0.056398    0.085104     0.011284   0.016860          0.0   \n",
       "\n",
       "   Score_ICBF_W  Score_Graph_W  Score_ICF_W  Score_UCF_WW  ...  \\\n",
       "0           0.0            0.0          0.0           0.0  ...   \n",
       "1           0.0            0.0          0.0           0.0  ...   \n",
       "2           0.0            0.0          0.0           0.0  ...   \n",
       "3           0.0            0.0          0.0           0.0  ...   \n",
       "4           0.0            0.0          0.0           0.0  ...   \n",
       "\n",
       "   Max_Score_ICF_WW  length_of_session_seconds  \\\n",
       "0               0.0                        NaN   \n",
       "1               0.0                        NaN   \n",
       "2               0.0                        NaN   \n",
       "3               0.0                        NaN   \n",
       "4               0.0                        NaN   \n",
       "\n",
       "   avg_time_spent_per_item_seconds  variance_time_spent_per_item_seconds  \\\n",
       "0                              NaN                                   NaN   \n",
       "1                              NaN                                   NaN   \n",
       "2                              NaN                                   NaN   \n",
       "3                              NaN                                   NaN   \n",
       "4                              NaN                                   NaN   \n",
       "\n",
       "   n_seen_items  n_unique_items  session_similarity  \\\n",
       "0           NaN             NaN                 NaN   \n",
       "1           NaN             NaN                 NaN   \n",
       "2           NaN             NaN                 NaN   \n",
       "3           NaN             NaN                 NaN   \n",
       "4           NaN             NaN                 NaN   \n",
       "\n",
       "   session_similarity_uniques  session_similarity_feats  \\\n",
       "0                         NaN                       NaN   \n",
       "1                         NaN                       NaN   \n",
       "2                         NaN                       NaN   \n",
       "3                         NaN                       NaN   \n",
       "4                         NaN                       NaN   \n",
       "\n",
       "   session_similarity_feats_uniques  \n",
       "0                               NaN  \n",
       "1                               NaN  \n",
       "2                               NaN  \n",
       "3                               NaN  \n",
       "4                               NaN  \n",
       "\n",
       "[5 rows x 41 columns]"
      ]
     },
     "execution_count": 23,
     "metadata": {},
     "output_type": "execute_result"
    }
   ],
   "source": [
    "dataset.head()"
   ]
  },
  {
   "cell_type": "code",
   "execution_count": 24,
   "id": "0e5ed5e6",
   "metadata": {
    "execution": {
     "iopub.execute_input": "2022-06-12T16:56:39.727309Z",
     "iopub.status.busy": "2022-06-12T16:56:39.726655Z",
     "iopub.status.idle": "2022-06-12T16:56:39.829233Z",
     "shell.execute_reply": "2022-06-12T16:56:39.828737Z",
     "shell.execute_reply.started": "2022-06-12T16:49:57.837326Z"
    },
    "papermill": {
     "duration": 0.15881,
     "end_time": "2022-06-12T16:56:39.829383",
     "exception": false,
     "start_time": "2022-06-12T16:56:39.670573",
     "status": "completed"
    },
    "tags": []
   },
   "outputs": [
    {
     "data": {
      "text/plain": [
       "23"
      ]
     },
     "execution_count": 24,
     "metadata": {},
     "output_type": "execute_result"
    }
   ],
   "source": [
    "gc.collect()"
   ]
  },
  {
   "cell_type": "code",
   "execution_count": 25,
   "id": "1546cffa",
   "metadata": {
    "execution": {
     "iopub.execute_input": "2022-06-12T16:56:39.944426Z",
     "iopub.status.busy": "2022-06-12T16:56:39.943764Z",
     "iopub.status.idle": "2022-06-12T16:56:43.274340Z",
     "shell.execute_reply": "2022-06-12T16:56:43.273731Z",
     "shell.execute_reply.started": "2022-06-12T16:45:45.112926Z"
    },
    "papermill": {
     "duration": 3.39065,
     "end_time": "2022-06-12T16:56:43.274495",
     "exception": false,
     "start_time": "2022-06-12T16:56:39.883845",
     "status": "completed"
    },
    "tags": []
   },
   "outputs": [],
   "source": [
    "dataset=dataset.sort_values(\"Session_Id\")"
   ]
  },
  {
   "cell_type": "code",
   "execution_count": 26,
   "id": "ae00cbc6",
   "metadata": {
    "execution": {
     "iopub.execute_input": "2022-06-12T16:56:43.604262Z",
     "iopub.status.busy": "2022-06-12T16:56:43.603612Z",
     "iopub.status.idle": "2022-06-12T16:56:43.706397Z",
     "shell.execute_reply": "2022-06-12T16:56:43.706933Z",
     "shell.execute_reply.started": "2022-06-12T16:45:45.114357Z"
    },
    "papermill": {
     "duration": 0.160414,
     "end_time": "2022-06-12T16:56:43.707099",
     "exception": false,
     "start_time": "2022-06-12T16:56:43.546685",
     "status": "completed"
    },
    "tags": []
   },
   "outputs": [
    {
     "data": {
      "text/plain": [
       "46"
      ]
     },
     "execution_count": 26,
     "metadata": {},
     "output_type": "execute_result"
    }
   ],
   "source": [
    "gc.collect()"
   ]
  },
  {
   "cell_type": "code",
   "execution_count": 27,
   "id": "6ec34b10",
   "metadata": {
    "execution": {
     "iopub.execute_input": "2022-06-12T16:56:43.821997Z",
     "iopub.status.busy": "2022-06-12T16:56:43.821367Z",
     "iopub.status.idle": "2022-06-12T16:56:45.541802Z",
     "shell.execute_reply": "2022-06-12T16:56:45.541032Z",
     "shell.execute_reply.started": "2022-06-12T16:45:45.116157Z"
    },
    "papermill": {
     "duration": 1.779393,
     "end_time": "2022-06-12T16:56:45.541963",
     "exception": false,
     "start_time": "2022-06-12T16:56:43.762570",
     "status": "completed"
    },
    "tags": []
   },
   "outputs": [],
   "source": [
    "import lightgbm"
   ]
  },
  {
   "cell_type": "code",
   "execution_count": 28,
   "metadata": {
    "collapsed": false,
    "pycharm": {
     "name": "#%%\n"
    }
   },
   "outputs": [],
   "source": [
    "k=10\n",
    "result = []"
   ]
  },
  {
   "cell_type": "code",
   "execution_count": 29,
   "id": "5d441590",
   "metadata": {
    "execution": {
     "iopub.execute_input": "2022-06-12T16:56:45.659990Z",
     "iopub.status.busy": "2022-06-12T16:56:45.659231Z",
     "iopub.status.idle": "2022-06-12T16:56:45.721584Z",
     "shell.execute_reply": "2022-06-12T16:56:45.722262Z",
     "shell.execute_reply.started": "2022-06-12T16:45:45.117557Z"
    },
    "papermill": {
     "duration": 0.123721,
     "end_time": "2022-06-12T16:56:45.722456",
     "exception": false,
     "start_time": "2022-06-12T16:56:45.598735",
     "status": "completed"
    },
    "tags": []
   },
   "outputs": [
    {
     "data": {
      "text/plain": [
       "array([[-0.15051161, -0.15051161, -0.15051161, ..., -0.32809278,\n",
       "        -0.32809278, -0.19812304],\n",
       "       [-0.88355346, -0.88355346, -0.88355346, ..., -0.83473256,\n",
       "        -0.83473256, -0.51231045],\n",
       "       [-0.11524855, -0.11524855, -0.11524855, ..., -0.20596967,\n",
       "        -0.20596967, -0.13619007],\n",
       "       ...,\n",
       "       [-1.12320008, -1.12320008, -1.12320008, ..., -1.28017068,\n",
       "        -1.28017068, -0.94196749],\n",
       "       [-2.39464736, -2.28751585, -2.28751585, ..., -2.72818723,\n",
       "        -2.71762358, -1.39171856],\n",
       "       [-2.32232676, -2.29119361, -2.29119361, ..., -2.24747093,\n",
       "        -2.18862053, -1.50334854]])"
      ]
     },
     "execution_count": 29,
     "metadata": {},
     "output_type": "execute_result"
    }
   ],
   "source": [
    "for index in range(k):\n",
    "    model = lightgbm.Booster(model_file=f'../rankers/model_{index}.txt')\n",
    "    result.append(model.predict(dataset.drop([\"Session_Id\",\"Item_ID\"],axis=1)))\n",
    "\n",
    "result = np.array(result)\n",
    "result"
   ]
  },
  {
   "cell_type": "code",
   "execution_count": 30,
   "metadata": {
    "collapsed": false,
    "pycharm": {
     "name": "#%%\n"
    }
   },
   "outputs": [],
   "source": [
    "dataset[\"score\"]=np.mean(result ,axis=0)\n",
    "# dataset[\"score\"]=np.median(result ,axis=0)"
   ]
  },
  {
   "cell_type": "code",
   "execution_count": 31,
   "id": "b92931e2",
   "metadata": {
    "execution": {
     "iopub.execute_input": "2022-06-12T16:59:02.077546Z",
     "iopub.status.busy": "2022-06-12T16:59:01.698248Z",
     "iopub.status.idle": "2022-06-12T16:59:02.080396Z",
     "shell.execute_reply": "2022-06-12T16:59:02.080921Z",
     "shell.execute_reply.started": "2022-06-12T16:45:45.120519Z"
    },
    "papermill": {
     "duration": 0.442046,
     "end_time": "2022-06-12T16:59:02.081096",
     "exception": false,
     "start_time": "2022-06-12T16:59:01.639050",
     "status": "completed"
    },
    "tags": []
   },
   "outputs": [
    {
     "data": {
      "text/plain": [
       "130"
      ]
     },
     "execution_count": 31,
     "metadata": {},
     "output_type": "execute_result"
    }
   ],
   "source": [
    "dataset=dataset[[\"Session_Id\",\"Item_ID\",\"score\"]]\n",
    "gc.collect()"
   ]
  },
  {
   "cell_type": "code",
   "execution_count": 32,
   "id": "3a582375",
   "metadata": {
    "execution": {
     "iopub.execute_input": "2022-06-12T16:59:02.201861Z",
     "iopub.status.busy": "2022-06-12T16:59:02.201225Z",
     "iopub.status.idle": "2022-06-12T16:59:02.209553Z",
     "shell.execute_reply": "2022-06-12T16:59:02.208952Z",
     "shell.execute_reply.started": "2022-06-12T16:45:45.122235Z"
    },
    "papermill": {
     "duration": 0.071213,
     "end_time": "2022-06-12T16:59:02.209707",
     "exception": false,
     "start_time": "2022-06-12T16:59:02.138494",
     "status": "completed"
    },
    "tags": []
   },
   "outputs": [
    {
     "data": {
      "text/html": [
       "<div>\n",
       "<style scoped>\n",
       "    .dataframe tbody tr th:only-of-type {\n",
       "        vertical-align: middle;\n",
       "    }\n",
       "\n",
       "    .dataframe tbody tr th {\n",
       "        vertical-align: top;\n",
       "    }\n",
       "\n",
       "    .dataframe thead th {\n",
       "        text-align: right;\n",
       "    }\n",
       "</style>\n",
       "<table border=\"1\" class=\"dataframe\">\n",
       "  <thead>\n",
       "    <tr style=\"text-align: right;\">\n",
       "      <th></th>\n",
       "      <th>Session_Id</th>\n",
       "      <th>Item_ID</th>\n",
       "      <th>score</th>\n",
       "    </tr>\n",
       "  </thead>\n",
       "  <tbody>\n",
       "    <tr>\n",
       "      <th>2879128</th>\n",
       "      <td>61</td>\n",
       "      <td>11</td>\n",
       "      <td>-1.062496</td>\n",
       "    </tr>\n",
       "    <tr>\n",
       "      <th>4360668</th>\n",
       "      <td>61</td>\n",
       "      <td>1456</td>\n",
       "      <td>-1.046497</td>\n",
       "    </tr>\n",
       "    <tr>\n",
       "      <th>4360667</th>\n",
       "      <td>61</td>\n",
       "      <td>1446</td>\n",
       "      <td>-1.046497</td>\n",
       "    </tr>\n",
       "    <tr>\n",
       "      <th>4360666</th>\n",
       "      <td>61</td>\n",
       "      <td>1415</td>\n",
       "      <td>-1.046497</td>\n",
       "    </tr>\n",
       "    <tr>\n",
       "      <th>4360665</th>\n",
       "      <td>61</td>\n",
       "      <td>1413</td>\n",
       "      <td>-1.046497</td>\n",
       "    </tr>\n",
       "  </tbody>\n",
       "</table>\n",
       "</div>"
      ],
      "text/plain": [
       "         Session_Id  Item_ID     score\n",
       "2879128          61       11 -1.062496\n",
       "4360668          61     1456 -1.046497\n",
       "4360667          61     1446 -1.046497\n",
       "4360666          61     1415 -1.046497\n",
       "4360665          61     1413 -1.046497"
      ]
     },
     "execution_count": 32,
     "metadata": {},
     "output_type": "execute_result"
    }
   ],
   "source": [
    "dataset.head()"
   ]
  },
  {
   "cell_type": "code",
   "execution_count": 33,
   "id": "f62e232f",
   "metadata": {
    "execution": {
     "iopub.execute_input": "2022-06-12T16:59:02.327660Z",
     "iopub.status.busy": "2022-06-12T16:59:02.325936Z",
     "iopub.status.idle": "2022-06-12T16:59:16.631562Z",
     "shell.execute_reply": "2022-06-12T16:59:16.630905Z",
     "shell.execute_reply.started": "2022-06-12T16:45:45.123130Z"
    },
    "papermill": {
     "duration": 14.365345,
     "end_time": "2022-06-12T16:59:16.631745",
     "exception": false,
     "start_time": "2022-06-12T16:59:02.266400",
     "status": "completed"
    },
    "tags": []
   },
   "outputs": [],
   "source": [
    "dataset=dataset.groupby(['Session_Id']).agg(list).reset_index()"
   ]
  },
  {
   "cell_type": "code",
   "execution_count": 34,
   "id": "9b85040e",
   "metadata": {
    "execution": {
     "iopub.execute_input": "2022-06-12T16:59:16.757153Z",
     "iopub.status.busy": "2022-06-12T16:59:16.755027Z",
     "iopub.status.idle": "2022-06-12T16:59:16.758945Z",
     "shell.execute_reply": "2022-06-12T16:59:16.759547Z",
     "shell.execute_reply.started": "2022-06-12T16:45:45.125443Z"
    },
    "papermill": {
     "duration": 0.070322,
     "end_time": "2022-06-12T16:59:16.759733",
     "exception": false,
     "start_time": "2022-06-12T16:59:16.689411",
     "status": "completed"
    },
    "tags": []
   },
   "outputs": [],
   "source": [
    "def get_indices(x):\n",
    "    x=np.array(x)\n",
    "    indices_unsorted=np.argpartition(x, -100)[-100:]\n",
    "    x=x[indices_unsorted]\n",
    "    indices=indices_unsorted[np.argsort(-x)]\n",
    "    return indices"
   ]
  },
  {
   "cell_type": "code",
   "execution_count": 35,
   "id": "322214a9",
   "metadata": {
    "execution": {
     "iopub.execute_input": "2022-06-12T16:59:16.880335Z",
     "iopub.status.busy": "2022-06-12T16:59:16.878240Z",
     "iopub.status.idle": "2022-06-12T16:59:21.541201Z",
     "shell.execute_reply": "2022-06-12T16:59:21.540626Z",
     "shell.execute_reply.started": "2022-06-12T16:45:45.127023Z"
    },
    "papermill": {
     "duration": 4.723503,
     "end_time": "2022-06-12T16:59:21.541339",
     "exception": false,
     "start_time": "2022-06-12T16:59:16.817836",
     "status": "completed"
    },
    "tags": []
   },
   "outputs": [],
   "source": [
    "dataset[\"indices\"]=dataset[\"score\"].apply(lambda x: get_indices(x))"
   ]
  },
  {
   "cell_type": "code",
   "execution_count": 36,
   "id": "0d15c34d",
   "metadata": {
    "execution": {
     "iopub.execute_input": "2022-06-12T16:59:21.666446Z",
     "iopub.status.busy": "2022-06-12T16:59:21.665635Z",
     "iopub.status.idle": "2022-06-12T16:59:21.668937Z",
     "shell.execute_reply": "2022-06-12T16:59:21.669415Z",
     "shell.execute_reply.started": "2022-06-12T16:45:45.128494Z"
    },
    "papermill": {
     "duration": 0.069271,
     "end_time": "2022-06-12T16:59:21.669582",
     "exception": false,
     "start_time": "2022-06-12T16:59:21.600311",
     "status": "completed"
    },
    "tags": []
   },
   "outputs": [
    {
     "data": {
      "text/plain": [
       "Session_Id                                                   61\n",
       "Item_ID       [11, 1456, 1446, 1415, 1413, 1405, 1371, 1343,...\n",
       "score         [-1.0624962095363641, -1.046497079485047, -1.0...\n",
       "indices       [726, 706, 812, 740, 814, 596, 660, 636, 630, ...\n",
       "Name: 0, dtype: object"
      ]
     },
     "execution_count": 36,
     "metadata": {},
     "output_type": "execute_result"
    }
   ],
   "source": [
    "dataset.iloc[0]"
   ]
  },
  {
   "cell_type": "code",
   "execution_count": 37,
   "id": "bddb4385",
   "metadata": {
    "execution": {
     "iopub.execute_input": "2022-06-12T16:59:21.792818Z",
     "iopub.status.busy": "2022-06-12T16:59:21.792123Z",
     "iopub.status.idle": "2022-06-12T16:59:21.794690Z",
     "shell.execute_reply": "2022-06-12T16:59:21.795160Z",
     "shell.execute_reply.started": "2022-06-12T16:45:45.129667Z"
    },
    "papermill": {
     "duration": 0.066992,
     "end_time": "2022-06-12T16:59:21.795321",
     "exception": false,
     "start_time": "2022-06-12T16:59:21.728329",
     "status": "completed"
    },
    "tags": []
   },
   "outputs": [
    {
     "data": {
      "text/plain": [
       "3344"
      ]
     },
     "execution_count": 37,
     "metadata": {},
     "output_type": "execute_result"
    }
   ],
   "source": [
    "dataset.iloc[0][\"Item_ID\"][536]"
   ]
  },
  {
   "cell_type": "code",
   "execution_count": 38,
   "id": "ebaf1049",
   "metadata": {
    "execution": {
     "iopub.execute_input": "2022-06-12T16:59:21.914318Z",
     "iopub.status.busy": "2022-06-12T16:59:21.913633Z",
     "iopub.status.idle": "2022-06-12T16:59:21.918477Z",
     "shell.execute_reply": "2022-06-12T16:59:21.917883Z",
     "shell.execute_reply.started": "2022-06-12T16:45:45.133056Z"
    },
    "papermill": {
     "duration": 0.065781,
     "end_time": "2022-06-12T16:59:21.918641",
     "exception": false,
     "start_time": "2022-06-12T16:59:21.852860",
     "status": "completed"
    },
    "tags": []
   },
   "outputs": [],
   "source": [
    "def get_items(x):\n",
    "    items=np.array(x[0])\n",
    "    return items[x[1]]"
   ]
  },
  {
   "cell_type": "code",
   "execution_count": 39,
   "id": "144e62b2",
   "metadata": {
    "execution": {
     "iopub.execute_input": "2022-06-12T16:59:22.041022Z",
     "iopub.status.busy": "2022-06-12T16:59:22.040329Z",
     "iopub.status.idle": "2022-06-12T16:59:26.943557Z",
     "shell.execute_reply": "2022-06-12T16:59:26.942906Z",
     "shell.execute_reply.started": "2022-06-12T16:45:45.134236Z"
    },
    "papermill": {
     "duration": 4.96688,
     "end_time": "2022-06-12T16:59:26.943713",
     "exception": false,
     "start_time": "2022-06-12T16:59:21.976833",
     "status": "completed"
    },
    "tags": []
   },
   "outputs": [],
   "source": [
    "dataset[\"predictions\"]=dataset[[\"Item_ID\",\"indices\"]].apply(get_items,axis=1)"
   ]
  },
  {
   "cell_type": "code",
   "execution_count": 40,
   "id": "b3e85988",
   "metadata": {
    "execution": {
     "iopub.execute_input": "2022-06-12T16:59:27.064711Z",
     "iopub.status.busy": "2022-06-12T16:59:27.064029Z",
     "iopub.status.idle": "2022-06-12T16:59:28.418904Z",
     "shell.execute_reply": "2022-06-12T16:59:28.418236Z",
     "shell.execute_reply.started": "2022-06-12T16:45:45.135881Z"
    },
    "papermill": {
     "duration": 1.416768,
     "end_time": "2022-06-12T16:59:28.419052",
     "exception": false,
     "start_time": "2022-06-12T16:59:27.002284",
     "status": "completed"
    },
    "tags": []
   },
   "outputs": [],
   "source": [
    "dataset=dataset[[\"Session_Id\",\"predictions\"]]\n",
    "dataset[\"rank\"]=dataset.apply(lambda x:tuple([rank for rank in range(1, 101)]) ,axis=1)"
   ]
  },
  {
   "cell_type": "code",
   "execution_count": 41,
   "id": "2c55ecc0",
   "metadata": {
    "execution": {
     "iopub.execute_input": "2022-06-12T16:59:28.541311Z",
     "iopub.status.busy": "2022-06-12T16:59:28.540658Z",
     "iopub.status.idle": "2022-06-12T16:59:28.576588Z",
     "shell.execute_reply": "2022-06-12T16:59:28.575962Z",
     "shell.execute_reply.started": "2022-06-12T16:45:45.137133Z"
    },
    "papermill": {
     "duration": 0.099685,
     "end_time": "2022-06-12T16:59:28.576741",
     "exception": false,
     "start_time": "2022-06-12T16:59:28.477056",
     "status": "completed"
    },
    "tags": []
   },
   "outputs": [
    {
     "data": {
      "text/html": [
       "<div>\n",
       "<style scoped>\n",
       "    .dataframe tbody tr th:only-of-type {\n",
       "        vertical-align: middle;\n",
       "    }\n",
       "\n",
       "    .dataframe tbody tr th {\n",
       "        vertical-align: top;\n",
       "    }\n",
       "\n",
       "    .dataframe thead th {\n",
       "        text-align: right;\n",
       "    }\n",
       "</style>\n",
       "<table border=\"1\" class=\"dataframe\">\n",
       "  <thead>\n",
       "    <tr style=\"text-align: right;\">\n",
       "      <th></th>\n",
       "      <th>Session_Id</th>\n",
       "      <th>predictions</th>\n",
       "      <th>rank</th>\n",
       "    </tr>\n",
       "  </thead>\n",
       "  <tbody>\n",
       "    <tr>\n",
       "      <th>0</th>\n",
       "      <td>61</td>\n",
       "      <td>[1045, 292, 3018, 699, 2995, 3290, 1563, 3904,...</td>\n",
       "      <td>(1, 2, 3, 4, 5, 6, 7, 8, 9, 10, 11, 12, 13, 14...</td>\n",
       "    </tr>\n",
       "    <tr>\n",
       "      <th>1</th>\n",
       "      <td>96</td>\n",
       "      <td>[2346, 4587, 2370, 1608, 4433, 4347, 3550, 358...</td>\n",
       "      <td>(1, 2, 3, 4, 5, 6, 7, 8, 9, 10, 11, 12, 13, 14...</td>\n",
       "    </tr>\n",
       "    <tr>\n",
       "      <th>2</th>\n",
       "      <td>185</td>\n",
       "      <td>[4148, 2704, 4162, 4146, 1936, 3904, 535, 2643...</td>\n",
       "      <td>(1, 2, 3, 4, 5, 6, 7, 8, 9, 10, 11, 12, 13, 14...</td>\n",
       "    </tr>\n",
       "    <tr>\n",
       "      <th>3</th>\n",
       "      <td>224</td>\n",
       "      <td>[2769, 16, 2259, 1689, 2057, 2077, 2089, 2546,...</td>\n",
       "      <td>(1, 2, 3, 4, 5, 6, 7, 8, 9, 10, 11, 12, 13, 14...</td>\n",
       "    </tr>\n",
       "    <tr>\n",
       "      <th>4</th>\n",
       "      <td>285</td>\n",
       "      <td>[3599, 3346, 4477, 2533, 70, 1888, 1808, 503, ...</td>\n",
       "      <td>(1, 2, 3, 4, 5, 6, 7, 8, 9, 10, 11, 12, 13, 14...</td>\n",
       "    </tr>\n",
       "    <tr>\n",
       "      <th>...</th>\n",
       "      <td>...</td>\n",
       "      <td>...</td>\n",
       "      <td>...</td>\n",
       "    </tr>\n",
       "    <tr>\n",
       "      <th>9995</th>\n",
       "      <td>886222</td>\n",
       "      <td>[4806, 143, 4574, 2995, 3290, 3586, 4083, 89, ...</td>\n",
       "      <td>(1, 2, 3, 4, 5, 6, 7, 8, 9, 10, 11, 12, 13, 14...</td>\n",
       "    </tr>\n",
       "    <tr>\n",
       "      <th>9996</th>\n",
       "      <td>886247</td>\n",
       "      <td>[439, 2448, 70, 989, 3186, 2424, 3356, 16, 276...</td>\n",
       "      <td>(1, 2, 3, 4, 5, 6, 7, 8, 9, 10, 11, 12, 13, 14...</td>\n",
       "    </tr>\n",
       "    <tr>\n",
       "      <th>9997</th>\n",
       "      <td>886319</td>\n",
       "      <td>[1516, 3026, 3871, 2170, 698, 3550, 1973, 1609...</td>\n",
       "      <td>(1, 2, 3, 4, 5, 6, 7, 8, 9, 10, 11, 12, 13, 14...</td>\n",
       "    </tr>\n",
       "    <tr>\n",
       "      <th>9998</th>\n",
       "      <td>886422</td>\n",
       "      <td>[1876, 3863, 1671, 2593, 3237, 1634, 3184, 168...</td>\n",
       "      <td>(1, 2, 3, 4, 5, 6, 7, 8, 9, 10, 11, 12, 13, 14...</td>\n",
       "    </tr>\n",
       "    <tr>\n",
       "      <th>9999</th>\n",
       "      <td>886678</td>\n",
       "      <td>[2107, 2346, 4587, 737, 3283, 1401, 1210, 1903...</td>\n",
       "      <td>(1, 2, 3, 4, 5, 6, 7, 8, 9, 10, 11, 12, 13, 14...</td>\n",
       "    </tr>\n",
       "  </tbody>\n",
       "</table>\n",
       "<p>10000 rows × 3 columns</p>\n",
       "</div>"
      ],
      "text/plain": [
       "      Session_Id                                        predictions  \\\n",
       "0             61  [1045, 292, 3018, 699, 2995, 3290, 1563, 3904,...   \n",
       "1             96  [2346, 4587, 2370, 1608, 4433, 4347, 3550, 358...   \n",
       "2            185  [4148, 2704, 4162, 4146, 1936, 3904, 535, 2643...   \n",
       "3            224  [2769, 16, 2259, 1689, 2057, 2077, 2089, 2546,...   \n",
       "4            285  [3599, 3346, 4477, 2533, 70, 1888, 1808, 503, ...   \n",
       "...          ...                                                ...   \n",
       "9995      886222  [4806, 143, 4574, 2995, 3290, 3586, 4083, 89, ...   \n",
       "9996      886247  [439, 2448, 70, 989, 3186, 2424, 3356, 16, 276...   \n",
       "9997      886319  [1516, 3026, 3871, 2170, 698, 3550, 1973, 1609...   \n",
       "9998      886422  [1876, 3863, 1671, 2593, 3237, 1634, 3184, 168...   \n",
       "9999      886678  [2107, 2346, 4587, 737, 3283, 1401, 1210, 1903...   \n",
       "\n",
       "                                                   rank  \n",
       "0     (1, 2, 3, 4, 5, 6, 7, 8, 9, 10, 11, 12, 13, 14...  \n",
       "1     (1, 2, 3, 4, 5, 6, 7, 8, 9, 10, 11, 12, 13, 14...  \n",
       "2     (1, 2, 3, 4, 5, 6, 7, 8, 9, 10, 11, 12, 13, 14...  \n",
       "3     (1, 2, 3, 4, 5, 6, 7, 8, 9, 10, 11, 12, 13, 14...  \n",
       "4     (1, 2, 3, 4, 5, 6, 7, 8, 9, 10, 11, 12, 13, 14...  \n",
       "...                                                 ...  \n",
       "9995  (1, 2, 3, 4, 5, 6, 7, 8, 9, 10, 11, 12, 13, 14...  \n",
       "9996  (1, 2, 3, 4, 5, 6, 7, 8, 9, 10, 11, 12, 13, 14...  \n",
       "9997  (1, 2, 3, 4, 5, 6, 7, 8, 9, 10, 11, 12, 13, 14...  \n",
       "9998  (1, 2, 3, 4, 5, 6, 7, 8, 9, 10, 11, 12, 13, 14...  \n",
       "9999  (1, 2, 3, 4, 5, 6, 7, 8, 9, 10, 11, 12, 13, 14...  \n",
       "\n",
       "[10000 rows x 3 columns]"
      ]
     },
     "execution_count": 41,
     "metadata": {},
     "output_type": "execute_result"
    }
   ],
   "source": [
    "dataset"
   ]
  },
  {
   "cell_type": "code",
   "execution_count": 42,
   "id": "19e4beee",
   "metadata": {
    "execution": {
     "iopub.execute_input": "2022-06-12T16:59:29.297882Z",
     "iopub.status.busy": "2022-06-12T16:59:28.699621Z",
     "iopub.status.idle": "2022-06-12T16:59:29.318844Z",
     "shell.execute_reply": "2022-06-12T16:59:29.318122Z",
     "shell.execute_reply.started": "2022-06-12T16:45:45.138354Z"
    },
    "papermill": {
     "duration": 0.683005,
     "end_time": "2022-06-12T16:59:29.319000",
     "exception": false,
     "start_time": "2022-06-12T16:59:28.635995",
     "status": "completed"
    },
    "tags": []
   },
   "outputs": [],
   "source": [
    "dataset[\"predictions\"]=dataset[\"predictions\"].apply(tuple)"
   ]
  },
  {
   "cell_type": "code",
   "execution_count": null,
   "id": "263b3565",
   "metadata": {
    "papermill": {
     "duration": 0.058357,
     "end_time": "2022-06-12T16:59:29.436455",
     "exception": false,
     "start_time": "2022-06-12T16:59:29.378098",
     "status": "completed"
    },
    "tags": []
   },
   "outputs": [],
   "source": []
  },
  {
   "cell_type": "code",
   "execution_count": 43,
   "id": "a2d2299a",
   "metadata": {
    "execution": {
     "iopub.execute_input": "2022-06-12T16:59:29.566072Z",
     "iopub.status.busy": "2022-06-12T16:59:29.565390Z",
     "iopub.status.idle": "2022-06-12T16:59:29.569173Z",
     "shell.execute_reply": "2022-06-12T16:59:29.568574Z",
     "shell.execute_reply.started": "2022-06-12T16:45:45.139710Z"
    },
    "papermill": {
     "duration": 0.07339,
     "end_time": "2022-06-12T16:59:29.569313",
     "exception": false,
     "start_time": "2022-06-12T16:59:29.495923",
     "status": "completed"
    },
    "tags": []
   },
   "outputs": [],
   "source": [
    "dataset=dataset[[\"Session_Id\",\"predictions\",\"rank\"]]"
   ]
  },
  {
   "cell_type": "code",
   "execution_count": 44,
   "id": "1facb193",
   "metadata": {
    "execution": {
     "iopub.execute_input": "2022-06-12T16:59:29.692489Z",
     "iopub.status.busy": "2022-06-12T16:59:29.691886Z",
     "iopub.status.idle": "2022-06-12T16:59:29.693584Z",
     "shell.execute_reply": "2022-06-12T16:59:29.694079Z",
     "shell.execute_reply.started": "2022-06-12T16:45:45.140957Z"
    },
    "papermill": {
     "duration": 0.06533,
     "end_time": "2022-06-12T16:59:29.694238",
     "exception": false,
     "start_time": "2022-06-12T16:59:29.628908",
     "status": "completed"
    },
    "tags": []
   },
   "outputs": [],
   "source": [
    "dataset.columns=[\"session_id\",\"code\",\"rank\"]"
   ]
  },
  {
   "cell_type": "code",
   "execution_count": 45,
   "id": "ccdf1f46",
   "metadata": {
    "execution": {
     "iopub.execute_input": "2022-06-12T16:59:29.818440Z",
     "iopub.status.busy": "2022-06-12T16:59:29.817800Z",
     "iopub.status.idle": "2022-06-12T16:59:29.836686Z",
     "shell.execute_reply": "2022-06-12T16:59:29.837270Z",
     "shell.execute_reply.started": "2022-06-12T16:45:45.142920Z"
    },
    "papermill": {
     "duration": 0.083812,
     "end_time": "2022-06-12T16:59:29.837436",
     "exception": false,
     "start_time": "2022-06-12T16:59:29.753624",
     "status": "completed"
    },
    "tags": []
   },
   "outputs": [
    {
     "data": {
      "text/html": [
       "<div>\n",
       "<style scoped>\n",
       "    .dataframe tbody tr th:only-of-type {\n",
       "        vertical-align: middle;\n",
       "    }\n",
       "\n",
       "    .dataframe tbody tr th {\n",
       "        vertical-align: top;\n",
       "    }\n",
       "\n",
       "    .dataframe thead th {\n",
       "        text-align: right;\n",
       "    }\n",
       "</style>\n",
       "<table border=\"1\" class=\"dataframe\">\n",
       "  <thead>\n",
       "    <tr style=\"text-align: right;\">\n",
       "      <th></th>\n",
       "      <th>session_id</th>\n",
       "      <th>code</th>\n",
       "      <th>rank</th>\n",
       "    </tr>\n",
       "  </thead>\n",
       "  <tbody>\n",
       "    <tr>\n",
       "      <th>0</th>\n",
       "      <td>61</td>\n",
       "      <td>(1045, 292, 3018, 699, 2995, 3290, 1563, 3904,...</td>\n",
       "      <td>(1, 2, 3, 4, 5, 6, 7, 8, 9, 10, 11, 12, 13, 14...</td>\n",
       "    </tr>\n",
       "    <tr>\n",
       "      <th>1</th>\n",
       "      <td>96</td>\n",
       "      <td>(2346, 4587, 2370, 1608, 4433, 4347, 3550, 358...</td>\n",
       "      <td>(1, 2, 3, 4, 5, 6, 7, 8, 9, 10, 11, 12, 13, 14...</td>\n",
       "    </tr>\n",
       "    <tr>\n",
       "      <th>2</th>\n",
       "      <td>185</td>\n",
       "      <td>(4148, 2704, 4162, 4146, 1936, 3904, 535, 2643...</td>\n",
       "      <td>(1, 2, 3, 4, 5, 6, 7, 8, 9, 10, 11, 12, 13, 14...</td>\n",
       "    </tr>\n",
       "    <tr>\n",
       "      <th>3</th>\n",
       "      <td>224</td>\n",
       "      <td>(2769, 16, 2259, 1689, 2057, 2077, 2089, 2546,...</td>\n",
       "      <td>(1, 2, 3, 4, 5, 6, 7, 8, 9, 10, 11, 12, 13, 14...</td>\n",
       "    </tr>\n",
       "    <tr>\n",
       "      <th>4</th>\n",
       "      <td>285</td>\n",
       "      <td>(3599, 3346, 4477, 2533, 70, 1888, 1808, 503, ...</td>\n",
       "      <td>(1, 2, 3, 4, 5, 6, 7, 8, 9, 10, 11, 12, 13, 14...</td>\n",
       "    </tr>\n",
       "  </tbody>\n",
       "</table>\n",
       "</div>"
      ],
      "text/plain": [
       "   session_id                                               code  \\\n",
       "0          61  (1045, 292, 3018, 699, 2995, 3290, 1563, 3904,...   \n",
       "1          96  (2346, 4587, 2370, 1608, 4433, 4347, 3550, 358...   \n",
       "2         185  (4148, 2704, 4162, 4146, 1936, 3904, 535, 2643...   \n",
       "3         224  (2769, 16, 2259, 1689, 2057, 2077, 2089, 2546,...   \n",
       "4         285  (3599, 3346, 4477, 2533, 70, 1888, 1808, 503, ...   \n",
       "\n",
       "                                                rank  \n",
       "0  (1, 2, 3, 4, 5, 6, 7, 8, 9, 10, 11, 12, 13, 14...  \n",
       "1  (1, 2, 3, 4, 5, 6, 7, 8, 9, 10, 11, 12, 13, 14...  \n",
       "2  (1, 2, 3, 4, 5, 6, 7, 8, 9, 10, 11, 12, 13, 14...  \n",
       "3  (1, 2, 3, 4, 5, 6, 7, 8, 9, 10, 11, 12, 13, 14...  \n",
       "4  (1, 2, 3, 4, 5, 6, 7, 8, 9, 10, 11, 12, 13, 14...  "
      ]
     },
     "execution_count": 45,
     "metadata": {},
     "output_type": "execute_result"
    }
   ],
   "source": [
    "dataset.head()"
   ]
  },
  {
   "cell_type": "code",
   "execution_count": 46,
   "id": "e4258770",
   "metadata": {
    "execution": {
     "iopub.execute_input": "2022-06-12T16:59:29.959846Z",
     "iopub.status.busy": "2022-06-12T16:59:29.959193Z",
     "iopub.status.idle": "2022-06-12T16:59:31.262009Z",
     "shell.execute_reply": "2022-06-12T16:59:31.261435Z",
     "shell.execute_reply.started": "2022-06-12T16:45:45.143967Z"
    },
    "papermill": {
     "duration": 1.365591,
     "end_time": "2022-06-12T16:59:31.262162",
     "exception": false,
     "start_time": "2022-06-12T16:59:29.896571",
     "status": "completed"
    },
    "tags": []
   },
   "outputs": [],
   "source": [
    "submission_df = dataset.explode(['code', 'rank']).astype(int)"
   ]
  },
  {
   "cell_type": "code",
   "execution_count": 47,
   "id": "f5243792",
   "metadata": {
    "execution": {
     "iopub.execute_input": "2022-06-12T16:59:31.384565Z",
     "iopub.status.busy": "2022-06-12T16:59:31.383947Z",
     "iopub.status.idle": "2022-06-12T16:59:32.135657Z",
     "shell.execute_reply": "2022-06-12T16:59:32.136208Z",
     "shell.execute_reply.started": "2022-06-12T16:45:45.145692Z"
    },
    "papermill": {
     "duration": 0.814342,
     "end_time": "2022-06-12T16:59:32.136382",
     "exception": false,
     "start_time": "2022-06-12T16:59:31.322040",
     "status": "completed"
    },
    "tags": []
   },
   "outputs": [],
   "source": [
    "mapping= pd.read_csv('../dataset/processed_data/map.csv')\n",
    "submission_df=submission_df.merge(mapping,on=\"code\",how=\"left\")\n",
    "del submission_df[\"code\"]\n",
    "submission_df=submission_df[[\"session_id\",\"item_id\",\"rank\"]]"
   ]
  },
  {
   "cell_type": "code",
   "execution_count": 48,
   "id": "3939ba35",
   "metadata": {
    "execution": {
     "iopub.execute_input": "2022-06-12T16:59:32.259233Z",
     "iopub.status.busy": "2022-06-12T16:59:32.258552Z",
     "iopub.status.idle": "2022-06-12T16:59:32.263516Z",
     "shell.execute_reply": "2022-06-12T16:59:32.264314Z",
     "shell.execute_reply.started": "2022-06-12T16:45:45.147116Z"
    },
    "papermill": {
     "duration": 0.067899,
     "end_time": "2022-06-12T16:59:32.264542",
     "exception": false,
     "start_time": "2022-06-12T16:59:32.196643",
     "status": "completed"
    },
    "tags": []
   },
   "outputs": [
    {
     "name": "stdout",
     "output_type": "stream",
     "text": [
      "1000000\n"
     ]
    }
   ],
   "source": [
    "print(len(submission_df))"
   ]
  },
  {
   "cell_type": "code",
   "execution_count": 49,
   "id": "d9cf15d2",
   "metadata": {
    "execution": {
     "iopub.execute_input": "2022-06-12T16:59:32.403243Z",
     "iopub.status.busy": "2022-06-12T16:59:32.402496Z",
     "iopub.status.idle": "2022-06-12T16:59:32.406343Z",
     "shell.execute_reply": "2022-06-12T16:59:32.406969Z",
     "shell.execute_reply.started": "2022-06-12T16:45:45.149050Z"
    },
    "papermill": {
     "duration": 0.077344,
     "end_time": "2022-06-12T16:59:32.407149",
     "exception": false,
     "start_time": "2022-06-12T16:59:32.329805",
     "status": "completed"
    },
    "tags": []
   },
   "outputs": [
    {
     "name": "stdout",
     "output_type": "stream",
     "text": [
      "<class 'pandas.core.frame.DataFrame'>\n",
      "Int64Index: 1000000 entries, 0 to 999999\n",
      "Data columns (total 3 columns):\n",
      " #   Column      Non-Null Count    Dtype\n",
      "---  ------      --------------    -----\n",
      " 0   session_id  1000000 non-null  int32\n",
      " 1   item_id     1000000 non-null  int64\n",
      " 2   rank        1000000 non-null  int32\n",
      "dtypes: int32(2), int64(1)\n",
      "memory usage: 22.9 MB\n"
     ]
    }
   ],
   "source": [
    "submission_df.info()"
   ]
  },
  {
   "cell_type": "code",
   "execution_count": 50,
   "id": "a4bd6fea",
   "metadata": {
    "execution": {
     "iopub.execute_input": "2022-06-12T16:59:32.536003Z",
     "iopub.status.busy": "2022-06-12T16:59:32.534855Z",
     "iopub.status.idle": "2022-06-12T16:59:32.559106Z",
     "shell.execute_reply": "2022-06-12T16:59:32.559544Z",
     "shell.execute_reply.started": "2022-06-12T16:45:45.150576Z"
    },
    "papermill": {
     "duration": 0.091514,
     "end_time": "2022-06-12T16:59:32.559757",
     "exception": false,
     "start_time": "2022-06-12T16:59:32.468243",
     "status": "completed"
    },
    "tags": []
   },
   "outputs": [
    {
     "data": {
      "text/plain": [
       "session_id    0\n",
       "item_id       0\n",
       "rank          0\n",
       "dtype: int64"
      ]
     },
     "execution_count": 50,
     "metadata": {},
     "output_type": "execute_result"
    }
   ],
   "source": [
    "submission_df.isna().sum()"
   ]
  },
  {
   "cell_type": "code",
   "execution_count": 51,
   "id": "4381eeb6",
   "metadata": {
    "execution": {
     "iopub.execute_input": "2022-06-12T16:59:32.685486Z",
     "iopub.status.busy": "2022-06-12T16:59:32.683790Z",
     "iopub.status.idle": "2022-06-12T16:59:43.267171Z",
     "shell.execute_reply": "2022-06-12T16:59:43.266441Z",
     "shell.execute_reply.started": "2022-06-12T16:45:45.152156Z"
    },
    "papermill": {
     "duration": 10.646249,
     "end_time": "2022-06-12T16:59:43.267327",
     "exception": false,
     "start_time": "2022-06-12T16:59:32.621078",
     "status": "completed"
    },
    "tags": []
   },
   "outputs": [],
   "source": [
    "submission_df.to_csv(\n",
    "    f'../final_sub.csv',\n",
    "    index=False\n",
    "    )"
   ]
  },
  {
   "cell_type": "code",
   "execution_count": null,
   "metadata": {
    "collapsed": false,
    "pycharm": {
     "name": "#%%\n"
    }
   },
   "outputs": [],
   "source": []
  }
 ],
 "metadata": {
  "kernelspec": {
   "display_name": "Python 3.7.0 ('sub_env')",
   "language": "python",
   "name": "python3"
  },
  "language_info": {
   "codemirror_mode": {
    "name": "ipython",
    "version": 3
   },
   "file_extension": ".py",
   "mimetype": "text/x-python",
   "name": "python",
   "nbconvert_exporter": "python",
   "pygments_lexer": "ipython3",
   "version": "3.7.13"
  },
  "papermill": {
   "default_parameters": {},
   "duration": 355.611026,
   "end_time": "2022-06-12T16:59:44.340713",
   "environment_variables": {},
   "exception": null,
   "input_path": "__notebook__.ipynb",
   "output_path": "__notebook__.ipynb",
   "parameters": {},
   "start_time": "2022-06-12T16:53:48.729687",
   "version": "2.3.3"
  },
  "vscode": {
   "interpreter": {
    "hash": "61f38fddaed46afda7c40a5798d4631266e18af1d335aa6f772dc3ed9b8ab549"
   }
  }
 },
 "nbformat": 4,
 "nbformat_minor": 5
}
