{
 "cells": [
  {
   "cell_type": "code",
   "execution_count": 1,
   "id": "ac9a115d",
   "metadata": {},
   "outputs": [],
   "source": [
    "just_checking_integrity=False"
   ]
  },
  {
   "cell_type": "code",
   "execution_count": 2,
   "id": "0cd378b3",
   "metadata": {
    "papermill": {
     "duration": 0.141538,
     "end_time": "2022-06-12T16:53:58.520370",
     "exception": false,
     "start_time": "2022-06-12T16:53:58.378832",
     "status": "completed"
    },
    "tags": []
   },
   "outputs": [],
   "source": [
    "import gc\n",
    "import pandas as pd\n",
    "import scipy.sparse as sps\n",
    "import numpy as np"
   ]
  },
  {
   "cell_type": "code",
   "execution_count": 3,
   "id": "e4676f00",
   "metadata": {
    "papermill": {
     "duration": 0.146009,
     "end_time": "2022-06-12T16:53:58.715990",
     "exception": false,
     "start_time": "2022-06-12T16:53:58.569981",
     "status": "completed"
    },
    "tags": []
   },
   "outputs": [],
   "source": [
    "URM_test=sps.load_npz(\"../dataset/processed_data/URM_test_final.npz\")"
   ]
  },
  {
   "cell_type": "code",
   "execution_count": 4,
   "id": "7854974f",
   "metadata": {
    "papermill": {
     "duration": 0.060116,
     "end_time": "2022-06-12T16:53:58.825275",
     "exception": false,
     "start_time": "2022-06-12T16:53:58.765159",
     "status": "completed"
    },
    "tags": []
   },
   "outputs": [
    {
     "data": {
      "text/plain": [
       "(4439967, 23690)"
      ]
     },
     "execution_count": 4,
     "metadata": {},
     "output_type": "execute_result"
    }
   ],
   "source": [
    "URM_test.shape"
   ]
  },
  {
   "cell_type": "code",
   "execution_count": 5,
   "id": "b2fc443c",
   "metadata": {
    "papermill": {
     "duration": 0.129216,
     "end_time": "2022-06-12T16:53:59.005328",
     "exception": false,
     "start_time": "2022-06-12T16:53:58.876112",
     "status": "completed"
    },
    "tags": []
   },
   "outputs": [
    {
     "data": {
      "text/plain": [
       "(4439967,)"
      ]
     },
     "execution_count": 5,
     "metadata": {},
     "output_type": "execute_result"
    }
   ],
   "source": [
    "np.ravel(URM_test.sum(axis=1)).shape"
   ]
  },
  {
   "cell_type": "code",
   "execution_count": 6,
   "id": "f4e1acd0",
   "metadata": {
    "papermill": {
     "duration": 0.144207,
     "end_time": "2022-06-12T16:53:59.199763",
     "exception": false,
     "start_time": "2022-06-12T16:53:59.055556",
     "status": "completed"
    },
    "tags": []
   },
   "outputs": [],
   "source": [
    "Session_ids=np.argwhere(np.ravel(URM_test.sum(axis=1)))"
   ]
  },
  {
   "cell_type": "code",
   "execution_count": 7,
   "id": "23c21590",
   "metadata": {
    "papermill": {
     "duration": 0.056971,
     "end_time": "2022-06-12T16:53:59.306883",
     "exception": false,
     "start_time": "2022-06-12T16:53:59.249912",
     "status": "completed"
    },
    "tags": []
   },
   "outputs": [],
   "source": [
    "is_sorted = lambda a: np.all(a[:-1] <= a[1:])"
   ]
  },
  {
   "cell_type": "code",
   "execution_count": 8,
   "id": "5adf257f",
   "metadata": {
    "papermill": {
     "duration": 0.057925,
     "end_time": "2022-06-12T16:53:59.415013",
     "exception": false,
     "start_time": "2022-06-12T16:53:59.357088",
     "status": "completed"
    },
    "tags": []
   },
   "outputs": [
    {
     "data": {
      "text/plain": [
       "True"
      ]
     },
     "execution_count": 8,
     "metadata": {},
     "output_type": "execute_result"
    }
   ],
   "source": [
    "is_sorted(Session_ids)"
   ]
  },
  {
   "cell_type": "code",
   "execution_count": 9,
   "id": "ae942e02",
   "metadata": {
    "papermill": {
     "duration": 85.115587,
     "end_time": "2022-06-12T16:55:24.581119",
     "exception": false,
     "start_time": "2022-06-12T16:53:59.465532",
     "status": "completed"
    },
    "tags": []
   },
   "outputs": [
    {
     "name": "stdout",
     "output_type": "stream",
     "text": [
      "0\n",
      "loading UCF_W\n",
      "16350023\n",
      "loaded UCF_W\n",
      "0\n",
      "loading ICBF_W\n",
      "14855475\n",
      "loaded ICBF_W\n",
      "0\n",
      "loading Graph_W\n",
      "8321415\n",
      "loaded Graph_W\n",
      "0\n",
      "loading ICF_W\n",
      "17771428\n",
      "loaded ICF_W\n"
     ]
    }
   ],
   "source": [
    "dataset=None\n",
    "dataset_max=None\n",
    "#[\"UCF\",\"ICBF\",\"Graph\",\"ICF\",\"UCF_W\",\"ICBF_W\",\"Graph_W\",\"ICF_W\",\"UCF_WW\",\"ICBF_WW\",\"Graph_WW\",\"ICF_WW\"]\n",
    "selected_list = [\"UCF_W\",\"ICBF_W\",\"Graph_W\",\"ICF_W\"]\n",
    "for file in selected_list:\n",
    "    print(gc.collect())\n",
    "    print(f\"loading {file}\")\n",
    "    df=pd.read_csv(f\"../dataset/candidates/traditional_recs/final/{file}.csv\")\n",
    "    print(len(df))\n",
    "    print(f\"loaded {file}\")\n",
    "    for col in df:\n",
    "        if \"Max\" in col:\n",
    "            df_max=df[[\"Session_Id\",col]].drop_duplicates()\n",
    "        elif \"Score\" in col:\n",
    "            df_feats=df[[\"Session_Id\",\"Item_ID\",col]]\n",
    "    if dataset is None:\n",
    "        dataset=df_feats\n",
    "        dataset_max=df_max\n",
    "    else:\n",
    "        dataset=dataset.merge(df_feats,on=[\"Session_Id\",\"Item_ID\"],how=\"outer\")\n",
    "        dataset_max=dataset_max.merge(df_max,on=[\"Session_Id\"],how=\"outer\")\n",
    "    del df\n",
    "\n",
    "\n",
    "del df_feats\n",
    "del df_max"
   ]
  },
  {
   "cell_type": "code",
   "execution_count": 10,
   "id": "de5d999f",
   "metadata": {
    "papermill": {
     "duration": 0.238542,
     "end_time": "2022-06-12T16:55:24.873056",
     "exception": false,
     "start_time": "2022-06-12T16:55:24.634514",
     "status": "completed"
    },
    "tags": []
   },
   "outputs": [],
   "source": [
    "ids=np.sort(dataset[\"Session_Id\"].unique())\n",
    "map_ids=pd.DataFrame()\n",
    "map_ids[\"Session_Id\"]=ids\n",
    "if just_checking_integrity:\n",
    "    map_ids[\"Real_Id\"]=Session_ids[:len(ids)]\n",
    "else:\n",
    "    map_ids[\"Real_Id\"]=Session_ids\n"
   ]
  },
  {
   "cell_type": "code",
   "execution_count": 11,
   "id": "7bea3fde",
   "metadata": {
    "papermill": {
     "duration": 0.077023,
     "end_time": "2022-06-12T16:55:25.002952",
     "exception": false,
     "start_time": "2022-06-12T16:55:24.925929",
     "status": "completed"
    },
    "tags": []
   },
   "outputs": [],
   "source": [
    "dataset_max=dataset_max.merge(map_ids,on=\"Session_Id\",how=\"left\")\n",
    "del dataset_max[\"Session_Id\"]\n",
    "dataset_max.rename(columns={\"Real_Id\":\"Session_Id\"},inplace=True)"
   ]
  },
  {
   "cell_type": "code",
   "execution_count": 12,
   "id": "06602988",
   "metadata": {
    "papermill": {
     "duration": 4.258115,
     "end_time": "2022-06-12T16:55:29.314291",
     "exception": false,
     "start_time": "2022-06-12T16:55:25.056176",
     "status": "completed"
    },
    "tags": []
   },
   "outputs": [],
   "source": [
    "dataset=dataset.merge(map_ids,on=\"Session_Id\",how=\"left\")\n",
    "del dataset[\"Session_Id\"]\n",
    "dataset.rename(columns={\"Real_Id\":\"Session_Id\"},inplace=True)"
   ]
  },
  {
   "cell_type": "code",
   "execution_count": 14,
   "id": "1ba29cb4",
   "metadata": {
    "papermill": {
     "duration": 1.975633,
     "end_time": "2022-06-12T16:55:31.342906",
     "exception": false,
     "start_time": "2022-06-12T16:55:29.367273",
     "status": "completed"
    },
    "tags": []
   },
   "outputs": [],
   "source": [
    "#import ast\n",
    "#submission_df=pd.read_csv(\"../dataset/candidates/NN/GRU/final/candidates.csv\")\n",
    "#submission_df[\"score\"]=submission_df[\"score\"].map(ast.literal_eval)\n",
    "#submission_df[\"code\"]=submission_df[\"code\"].map(ast.literal_eval)\n",
    "#submission_df[\"rank\"]=submission_df[\"rank\"].map(ast.literal_eval)\n",
    "#submission_df = submission_df.explode(['code','score', 'rank'])\n",
    "#submission_df[[\"session_id\",\"code\",\"rank\"]]=submission_df[[\"session_id\",\"code\",\"rank\"]].astype(int)\n",
    "#submission_df.rename(columns={\"code\":\"Item_ID\",\"session_id\":\"Session_Id\",\"rank\":\"rank_gru\",\"score\":\"score_gru\"},inplace=True)"
   ]
  },
  {
   "cell_type": "code",
   "execution_count": 15,
   "id": "fef897e1",
   "metadata": {
    "papermill": {
     "duration": 26.516025,
     "end_time": "2022-06-12T16:55:57.912172",
     "exception": false,
     "start_time": "2022-06-12T16:55:31.396147",
     "status": "completed"
    },
    "tags": []
   },
   "outputs": [],
   "source": [
    "import ast\n",
    "submission_df_tr=pd.read_csv(\"../dataset/candidates/NN/Transformer/final/candidates.csv\")\n",
    "submission_df_tr[\"score\"]=submission_df_tr[\"score\"].map(ast.literal_eval)\n",
    "submission_df_tr[\"code\"]=submission_df_tr[\"code\"].map(ast.literal_eval)\n",
    "submission_df_tr[\"rank\"]=submission_df_tr[\"rank\"].map(ast.literal_eval)\n",
    "submission_df_tr = submission_df_tr.explode(['code','score', 'rank'])\n",
    "submission_df_tr[[\"session_id\",\"code\",\"rank\"]]=submission_df_tr[[\"session_id\",\"code\",\"rank\"]].astype(int)\n",
    "submission_df_tr.rename(columns={\"code\":\"Item_ID\",\"session_id\":\"Session_Id\",\"rank\":\"rank_transformer\",\"score\":\"score_transformer\"},inplace=True)"
   ]
  },
  {
   "cell_type": "code",
   "execution_count": 16,
   "id": "7982e4a8",
   "metadata": {
    "collapsed": false,
    "jupyter": {
     "outputs_hidden": false
    },
    "pycharm": {
     "name": "#%%\n"
    }
   },
   "outputs": [],
   "source": [
    "#import ast\n",
    "#submission_df_LSTM=pd.read_csv(\"../dataset/candidates/NN/LSTM/final/candidates.csv\")\n",
    "#submission_df_LSTM[\"score\"]=submission_df_LSTM[\"score\"].map(ast.literal_eval)\n",
    "#submission_df_LSTM[\"code\"]=submission_df_LSTM[\"code\"].map(ast.literal_eval)\n",
    "#submission_df_LSTM[\"rank\"]=submission_df_LSTM[\"rank\"].map(ast.literal_eval)\n",
    "#submission_df_LSTM = submission_df_LSTM.explode(['code','score', 'rank'])\n",
    "#submission_df_LSTM[[\"session_id\",\"code\",\"rank\"]]=submission_df_LSTM[[\"session_id\",\"code\",\"rank\"]].astype(int)\n",
    "#submission_df_LSTM.rename(columns={\"code\":\"Item_ID\",\"session_id\":\"Session_Id\",\"rank\":\"rank_LSTM\",\"score\":\"score_LSTM\"},inplace=True)"
   ]
  },
  {
   "cell_type": "code",
   "execution_count": 17,
   "id": "b3503d4d",
   "metadata": {
    "papermill": {
     "duration": 16.489758,
     "end_time": "2022-06-12T16:56:17.441937",
     "exception": false,
     "start_time": "2022-06-12T16:56:00.952179",
     "status": "completed"
    },
    "tags": []
   },
   "outputs": [],
   "source": [
    "#dataset=dataset.merge(submission_df,on=[\"Session_Id\",\"Item_ID\"],how=\"outer\")\n",
    "#del submission_df\n",
    "dataset=dataset.merge(submission_df_tr,on=[\"Session_Id\",\"Item_ID\"],how=\"outer\")\n",
    "del submission_df_tr\n",
    "#dataset=dataset.merge(submission_df_LSTM,on=[\"Session_Id\",\"Item_ID\"],how=\"outer\")\n"
   ]
  },
  {
   "cell_type": "code",
   "execution_count": 18,
   "id": "79dc226e",
   "metadata": {
    "papermill": {
     "duration": 5.978353,
     "end_time": "2022-06-12T16:56:23.475109",
     "exception": false,
     "start_time": "2022-06-12T16:56:17.496756",
     "status": "completed"
    },
    "tags": []
   },
   "outputs": [],
   "source": [
    "dataset=dataset.merge(dataset_max,on=[\"Session_Id\"],how=\"left\")\n",
    "del dataset_max"
   ]
  },
  {
   "cell_type": "code",
   "execution_count": 19,
   "id": "4afa4119",
   "metadata": {
    "papermill": {
     "duration": 14.194397,
     "end_time": "2022-06-12T16:56:37.723580",
     "exception": false,
     "start_time": "2022-06-12T16:56:23.529183",
     "status": "completed"
    },
    "tags": []
   },
   "outputs": [
    {
     "name": "stderr",
     "output_type": "stream",
     "text": [
      "/var/folders/yt/h_zrk_k931s4wj_999xrfy0m0000gq/T/ipykernel_40463/2573695804.py:1: FutureWarning: Downcasting object dtype arrays on .fillna, .ffill, .bfill is deprecated and will change in a future version. Call result.infer_objects(copy=False) instead. To opt-in to the future behavior, set `pd.set_option('future.no_silent_downcasting', True)`\n",
      "  dataset.fillna(0,inplace=True)\n"
     ]
    }
   ],
   "source": [
    "dataset.fillna(0,inplace=True)"
   ]
  },
  {
   "cell_type": "code",
   "execution_count": 20,
   "id": "22527153",
   "metadata": {
    "papermill": {
     "duration": 1.601248,
     "end_time": "2022-06-12T16:56:39.377803",
     "exception": false,
     "start_time": "2022-06-12T16:56:37.776555",
     "status": "completed"
    },
    "tags": []
   },
   "outputs": [
    {
     "data": {
      "text/plain": [
       "1595"
      ]
     },
     "execution_count": 20,
     "metadata": {},
     "output_type": "execute_result"
    }
   ],
   "source": [
    "gc.collect()"
   ]
  },
  {
   "cell_type": "code",
   "execution_count": 21,
   "id": "3def4b97",
   "metadata": {
    "papermill": {
     "duration": 0.053703,
     "end_time": "2022-06-12T16:56:39.486170",
     "exception": false,
     "start_time": "2022-06-12T16:56:39.432467",
     "status": "completed"
    },
    "tags": []
   },
   "outputs": [],
   "source": [
    "dataset_macro_features = pd.read_csv('../dataset/processed_data/macro_feats_NN_final.csv',\n",
    "                                     usecols=['session_id',\n",
    "                                                'session_similarity',\n",
    "                                                'session_similarity_uniques', 'session_similarity_feats', 'session_similarity_feats_uniques',\n",
    "                                              'length_of_session_seconds',\n",
    "                   'avg_time_spent_per_item_seconds',\n",
    "                   'variance_time_spent_per_item_seconds',\n",
    "                   'n_seen_items',\n",
    "                   'n_unique_items',])\n",
    "\n",
    "dataset_macro_features.rename(columns={'session_id':'Session_Id'}, inplace=True)\n",
    "dataset = dataset.merge(dataset_macro_features, on='Session_Id', how='left')"
   ]
  },
  {
   "cell_type": "code",
   "execution_count": 22,
   "id": "da2dd1ef",
   "metadata": {
    "collapsed": false,
    "jupyter": {
     "outputs_hidden": false
    },
    "pycharm": {
     "name": "#%%\n"
    }
   },
   "outputs": [],
   "source": [
    "# dataset.drop('Max_Score_TopPop15', axis=1, inplace=True)"
   ]
  },
  {
   "cell_type": "code",
   "execution_count": 23,
   "id": "ec1dd779",
   "metadata": {
    "papermill": {
     "duration": 0.076322,
     "end_time": "2022-06-12T16:56:39.616418",
     "exception": false,
     "start_time": "2022-06-12T16:56:39.540096",
     "status": "completed"
    },
    "tags": []
   },
   "outputs": [
    {
     "data": {
      "text/html": [
       "<div>\n",
       "<style scoped>\n",
       "    .dataframe tbody tr th:only-of-type {\n",
       "        vertical-align: middle;\n",
       "    }\n",
       "\n",
       "    .dataframe tbody tr th {\n",
       "        vertical-align: top;\n",
       "    }\n",
       "\n",
       "    .dataframe thead th {\n",
       "        text-align: right;\n",
       "    }\n",
       "</style>\n",
       "<table border=\"1\" class=\"dataframe\">\n",
       "  <thead>\n",
       "    <tr style=\"text-align: right;\">\n",
       "      <th></th>\n",
       "      <th>Item_ID</th>\n",
       "      <th>Score_UCF_W</th>\n",
       "      <th>Score_ICBF_W</th>\n",
       "      <th>Score_Graph_W</th>\n",
       "      <th>Score_ICF_W</th>\n",
       "      <th>Session_Id</th>\n",
       "      <th>score_transformer</th>\n",
       "      <th>rank_transformer</th>\n",
       "      <th>Max_Score_UCF_W</th>\n",
       "      <th>Max_Score_ICBF_W</th>\n",
       "      <th>...</th>\n",
       "      <th>Max_Score_ICF_W</th>\n",
       "      <th>length_of_session_seconds</th>\n",
       "      <th>avg_time_spent_per_item_seconds</th>\n",
       "      <th>variance_time_spent_per_item_seconds</th>\n",
       "      <th>n_seen_items</th>\n",
       "      <th>n_unique_items</th>\n",
       "      <th>session_similarity</th>\n",
       "      <th>session_similarity_uniques</th>\n",
       "      <th>session_similarity_feats</th>\n",
       "      <th>session_similarity_feats_uniques</th>\n",
       "    </tr>\n",
       "  </thead>\n",
       "  <tbody>\n",
       "    <tr>\n",
       "      <th>0</th>\n",
       "      <td>11</td>\n",
       "      <td>0.034741</td>\n",
       "      <td>0.115033</td>\n",
       "      <td>0.006554</td>\n",
       "      <td>0.311263</td>\n",
       "      <td>61</td>\n",
       "      <td>0.0</td>\n",
       "      <td>0.0</td>\n",
       "      <td>206.49619</td>\n",
       "      <td>3.357151</td>\n",
       "      <td>...</td>\n",
       "      <td>0.563566</td>\n",
       "      <td>0.0</td>\n",
       "      <td>0.0</td>\n",
       "      <td>0.0</td>\n",
       "      <td>1.0</td>\n",
       "      <td>1.0</td>\n",
       "      <td>1.0</td>\n",
       "      <td>1.0</td>\n",
       "      <td>1.0</td>\n",
       "      <td>1.0</td>\n",
       "    </tr>\n",
       "    <tr>\n",
       "      <th>1</th>\n",
       "      <td>19</td>\n",
       "      <td>0.017621</td>\n",
       "      <td>0.000000</td>\n",
       "      <td>0.000000</td>\n",
       "      <td>0.000000</td>\n",
       "      <td>61</td>\n",
       "      <td>0.0</td>\n",
       "      <td>0.0</td>\n",
       "      <td>206.49619</td>\n",
       "      <td>3.357151</td>\n",
       "      <td>...</td>\n",
       "      <td>0.563566</td>\n",
       "      <td>0.0</td>\n",
       "      <td>0.0</td>\n",
       "      <td>0.0</td>\n",
       "      <td>1.0</td>\n",
       "      <td>1.0</td>\n",
       "      <td>1.0</td>\n",
       "      <td>1.0</td>\n",
       "      <td>1.0</td>\n",
       "      <td>1.0</td>\n",
       "    </tr>\n",
       "    <tr>\n",
       "      <th>2</th>\n",
       "      <td>23</td>\n",
       "      <td>0.040097</td>\n",
       "      <td>0.072503</td>\n",
       "      <td>0.007389</td>\n",
       "      <td>0.325638</td>\n",
       "      <td>61</td>\n",
       "      <td>0.0</td>\n",
       "      <td>0.0</td>\n",
       "      <td>206.49619</td>\n",
       "      <td>3.357151</td>\n",
       "      <td>...</td>\n",
       "      <td>0.563566</td>\n",
       "      <td>0.0</td>\n",
       "      <td>0.0</td>\n",
       "      <td>0.0</td>\n",
       "      <td>1.0</td>\n",
       "      <td>1.0</td>\n",
       "      <td>1.0</td>\n",
       "      <td>1.0</td>\n",
       "      <td>1.0</td>\n",
       "      <td>1.0</td>\n",
       "    </tr>\n",
       "    <tr>\n",
       "      <th>3</th>\n",
       "      <td>25</td>\n",
       "      <td>0.024129</td>\n",
       "      <td>0.081094</td>\n",
       "      <td>0.004554</td>\n",
       "      <td>0.006163</td>\n",
       "      <td>61</td>\n",
       "      <td>0.0</td>\n",
       "      <td>0.0</td>\n",
       "      <td>206.49619</td>\n",
       "      <td>3.357151</td>\n",
       "      <td>...</td>\n",
       "      <td>0.563566</td>\n",
       "      <td>0.0</td>\n",
       "      <td>0.0</td>\n",
       "      <td>0.0</td>\n",
       "      <td>1.0</td>\n",
       "      <td>1.0</td>\n",
       "      <td>1.0</td>\n",
       "      <td>1.0</td>\n",
       "      <td>1.0</td>\n",
       "      <td>1.0</td>\n",
       "    </tr>\n",
       "    <tr>\n",
       "      <th>4</th>\n",
       "      <td>31</td>\n",
       "      <td>0.000000</td>\n",
       "      <td>0.081091</td>\n",
       "      <td>0.000000</td>\n",
       "      <td>0.000000</td>\n",
       "      <td>61</td>\n",
       "      <td>0.0</td>\n",
       "      <td>0.0</td>\n",
       "      <td>206.49619</td>\n",
       "      <td>3.357151</td>\n",
       "      <td>...</td>\n",
       "      <td>0.563566</td>\n",
       "      <td>0.0</td>\n",
       "      <td>0.0</td>\n",
       "      <td>0.0</td>\n",
       "      <td>1.0</td>\n",
       "      <td>1.0</td>\n",
       "      <td>1.0</td>\n",
       "      <td>1.0</td>\n",
       "      <td>1.0</td>\n",
       "      <td>1.0</td>\n",
       "    </tr>\n",
       "  </tbody>\n",
       "</table>\n",
       "<p>5 rows × 21 columns</p>\n",
       "</div>"
      ],
      "text/plain": [
       "   Item_ID  Score_UCF_W  Score_ICBF_W  Score_Graph_W  Score_ICF_W  Session_Id  \\\n",
       "0       11     0.034741      0.115033       0.006554     0.311263          61   \n",
       "1       19     0.017621      0.000000       0.000000     0.000000          61   \n",
       "2       23     0.040097      0.072503       0.007389     0.325638          61   \n",
       "3       25     0.024129      0.081094       0.004554     0.006163          61   \n",
       "4       31     0.000000      0.081091       0.000000     0.000000          61   \n",
       "\n",
       "   score_transformer  rank_transformer  Max_Score_UCF_W  Max_Score_ICBF_W  \\\n",
       "0                0.0               0.0        206.49619          3.357151   \n",
       "1                0.0               0.0        206.49619          3.357151   \n",
       "2                0.0               0.0        206.49619          3.357151   \n",
       "3                0.0               0.0        206.49619          3.357151   \n",
       "4                0.0               0.0        206.49619          3.357151   \n",
       "\n",
       "   ...  Max_Score_ICF_W  length_of_session_seconds  \\\n",
       "0  ...         0.563566                        0.0   \n",
       "1  ...         0.563566                        0.0   \n",
       "2  ...         0.563566                        0.0   \n",
       "3  ...         0.563566                        0.0   \n",
       "4  ...         0.563566                        0.0   \n",
       "\n",
       "   avg_time_spent_per_item_seconds  variance_time_spent_per_item_seconds  \\\n",
       "0                              0.0                                   0.0   \n",
       "1                              0.0                                   0.0   \n",
       "2                              0.0                                   0.0   \n",
       "3                              0.0                                   0.0   \n",
       "4                              0.0                                   0.0   \n",
       "\n",
       "   n_seen_items  n_unique_items  session_similarity  \\\n",
       "0           1.0             1.0                 1.0   \n",
       "1           1.0             1.0                 1.0   \n",
       "2           1.0             1.0                 1.0   \n",
       "3           1.0             1.0                 1.0   \n",
       "4           1.0             1.0                 1.0   \n",
       "\n",
       "   session_similarity_uniques  session_similarity_feats  \\\n",
       "0                         1.0                       1.0   \n",
       "1                         1.0                       1.0   \n",
       "2                         1.0                       1.0   \n",
       "3                         1.0                       1.0   \n",
       "4                         1.0                       1.0   \n",
       "\n",
       "   session_similarity_feats_uniques  \n",
       "0                               1.0  \n",
       "1                               1.0  \n",
       "2                               1.0  \n",
       "3                               1.0  \n",
       "4                               1.0  \n",
       "\n",
       "[5 rows x 21 columns]"
      ]
     },
     "execution_count": 23,
     "metadata": {},
     "output_type": "execute_result"
    }
   ],
   "source": [
    "dataset.head()"
   ]
  },
  {
   "cell_type": "code",
   "execution_count": 24,
   "id": "0e5ed5e6",
   "metadata": {
    "papermill": {
     "duration": 0.15881,
     "end_time": "2022-06-12T16:56:39.829383",
     "exception": false,
     "start_time": "2022-06-12T16:56:39.670573",
     "status": "completed"
    },
    "tags": []
   },
   "outputs": [
    {
     "data": {
      "text/plain": [
       "0"
      ]
     },
     "execution_count": 24,
     "metadata": {},
     "output_type": "execute_result"
    }
   ],
   "source": [
    "gc.collect()"
   ]
  },
  {
   "cell_type": "code",
   "execution_count": 25,
   "id": "1546cffa",
   "metadata": {
    "papermill": {
     "duration": 3.39065,
     "end_time": "2022-06-12T16:56:43.274495",
     "exception": false,
     "start_time": "2022-06-12T16:56:39.883845",
     "status": "completed"
    },
    "tags": []
   },
   "outputs": [],
   "source": [
    "dataset=dataset.sort_values(\"Session_Id\")"
   ]
  },
  {
   "cell_type": "code",
   "execution_count": 26,
   "id": "ae00cbc6",
   "metadata": {
    "papermill": {
     "duration": 0.160414,
     "end_time": "2022-06-12T16:56:43.707099",
     "exception": false,
     "start_time": "2022-06-12T16:56:43.546685",
     "status": "completed"
    },
    "tags": []
   },
   "outputs": [
    {
     "data": {
      "text/plain": [
       "0"
      ]
     },
     "execution_count": 26,
     "metadata": {},
     "output_type": "execute_result"
    }
   ],
   "source": [
    "gc.collect()"
   ]
  },
  {
   "cell_type": "code",
   "execution_count": 27,
   "id": "6ec34b10",
   "metadata": {
    "papermill": {
     "duration": 1.779393,
     "end_time": "2022-06-12T16:56:45.541963",
     "exception": false,
     "start_time": "2022-06-12T16:56:43.762570",
     "status": "completed"
    },
    "tags": []
   },
   "outputs": [],
   "source": [
    "import lightgbm"
   ]
  },
  {
   "cell_type": "code",
   "execution_count": 28,
   "id": "a719c17a",
   "metadata": {
    "collapsed": false,
    "jupyter": {
     "outputs_hidden": false
    },
    "pycharm": {
     "name": "#%%\n"
    }
   },
   "outputs": [],
   "source": [
    "k=10\n",
    "result = []"
   ]
  },
  {
   "cell_type": "code",
   "execution_count": 30,
   "id": "5d441590",
   "metadata": {
    "papermill": {
     "duration": 0.123721,
     "end_time": "2022-06-12T16:56:45.722456",
     "exception": false,
     "start_time": "2022-06-12T16:56:45.598735",
     "status": "completed"
    },
    "tags": []
   },
   "outputs": [
    {
     "name": "stdout",
     "output_type": "stream",
     "text": [
      "Current iteration: 1 of 10\n",
      "Current iteration: 2 of 10\n",
      "Current iteration: 3 of 10\n",
      "Current iteration: 4 of 10\n",
      "Current iteration: 5 of 10\n",
      "Current iteration: 6 of 10\n",
      "Current iteration: 7 of 10\n",
      "Current iteration: 8 of 10\n",
      "Current iteration: 9 of 10\n",
      "Current iteration: 10 of 10\n"
     ]
    },
    {
     "data": {
      "text/plain": [
       "array([[-0.74351514, -1.45082936, -1.45082936, ..., -0.80632916,\n",
       "        -0.64023872, -0.80337623],\n",
       "       [-1.9128246 , -3.78301296, -3.78301296, ..., -1.96244449,\n",
       "        -1.8486818 , -2.17296441],\n",
       "       [-1.81086673, -3.80773992, -3.80773992, ..., -1.93541287,\n",
       "        -1.87554498, -2.07543634],\n",
       "       ...,\n",
       "       [-1.989934  , -4.04729694, -4.04729694, ..., -2.00334221,\n",
       "        -1.91698813, -2.1321476 ],\n",
       "       [-1.91660844, -4.04409614, -4.04409614, ..., -2.12512804,\n",
       "        -1.9170351 , -2.2330382 ],\n",
       "       [-1.89461755, -3.87826511, -3.87826511, ..., -2.03053895,\n",
       "        -1.91085117, -2.05114005]])"
      ]
     },
     "execution_count": 30,
     "metadata": {},
     "output_type": "execute_result"
    }
   ],
   "source": [
    "for index in range(k):\n",
    "    print(f\"Current iteration: {str(index + 1)} of {str(k)}\")\n",
    "    model = lightgbm.Booster(model_file=f'../rankers/model_{index}.txt')\n",
    "    result.append(model.predict(dataset.drop([\"Session_Id\",\"Item_ID\"],axis=1)))\n",
    "\n",
    "result = np.array(result)\n",
    "result"
   ]
  },
  {
   "cell_type": "code",
   "execution_count": 31,
   "id": "439c52f8",
   "metadata": {
    "collapsed": false,
    "jupyter": {
     "outputs_hidden": false
    },
    "pycharm": {
     "name": "#%%\n"
    }
   },
   "outputs": [],
   "source": [
    "dataset[\"score\"]=np.mean(result ,axis=0)\n",
    "# dataset[\"score\"]=np.median(result ,axis=0)"
   ]
  },
  {
   "cell_type": "code",
   "execution_count": 32,
   "id": "b92931e2",
   "metadata": {
    "papermill": {
     "duration": 0.442046,
     "end_time": "2022-06-12T16:59:02.081096",
     "exception": false,
     "start_time": "2022-06-12T16:59:01.639050",
     "status": "completed"
    },
    "tags": []
   },
   "outputs": [
    {
     "data": {
      "text/plain": [
       "1464"
      ]
     },
     "execution_count": 32,
     "metadata": {},
     "output_type": "execute_result"
    }
   ],
   "source": [
    "dataset=dataset[[\"Session_Id\",\"Item_ID\",\"score\"]]\n",
    "gc.collect()"
   ]
  },
  {
   "cell_type": "code",
   "execution_count": 33,
   "id": "3a582375",
   "metadata": {
    "papermill": {
     "duration": 0.071213,
     "end_time": "2022-06-12T16:59:02.209707",
     "exception": false,
     "start_time": "2022-06-12T16:59:02.138494",
     "status": "completed"
    },
    "tags": []
   },
   "outputs": [
    {
     "data": {
      "text/html": [
       "<div>\n",
       "<style scoped>\n",
       "    .dataframe tbody tr th:only-of-type {\n",
       "        vertical-align: middle;\n",
       "    }\n",
       "\n",
       "    .dataframe tbody tr th {\n",
       "        vertical-align: top;\n",
       "    }\n",
       "\n",
       "    .dataframe thead th {\n",
       "        text-align: right;\n",
       "    }\n",
       "</style>\n",
       "<table border=\"1\" class=\"dataframe\">\n",
       "  <thead>\n",
       "    <tr style=\"text-align: right;\">\n",
       "      <th></th>\n",
       "      <th>Session_Id</th>\n",
       "      <th>Item_ID</th>\n",
       "      <th>score</th>\n",
       "    </tr>\n",
       "  </thead>\n",
       "  <tbody>\n",
       "    <tr>\n",
       "      <th>0</th>\n",
       "      <td>61</td>\n",
       "      <td>11</td>\n",
       "      <td>-1.753639</td>\n",
       "    </tr>\n",
       "    <tr>\n",
       "      <th>389</th>\n",
       "      <td>61</td>\n",
       "      <td>3383</td>\n",
       "      <td>-3.625104</td>\n",
       "    </tr>\n",
       "    <tr>\n",
       "      <th>388</th>\n",
       "      <td>61</td>\n",
       "      <td>3382</td>\n",
       "      <td>-3.625104</td>\n",
       "    </tr>\n",
       "    <tr>\n",
       "      <th>387</th>\n",
       "      <td>61</td>\n",
       "      <td>3381</td>\n",
       "      <td>-3.625104</td>\n",
       "    </tr>\n",
       "    <tr>\n",
       "      <th>386</th>\n",
       "      <td>61</td>\n",
       "      <td>3380</td>\n",
       "      <td>-3.163024</td>\n",
       "    </tr>\n",
       "  </tbody>\n",
       "</table>\n",
       "</div>"
      ],
      "text/plain": [
       "     Session_Id  Item_ID     score\n",
       "0            61       11 -1.753639\n",
       "389          61     3383 -3.625104\n",
       "388          61     3382 -3.625104\n",
       "387          61     3381 -3.625104\n",
       "386          61     3380 -3.163024"
      ]
     },
     "execution_count": 33,
     "metadata": {},
     "output_type": "execute_result"
    }
   ],
   "source": [
    "dataset.head()"
   ]
  },
  {
   "cell_type": "code",
   "execution_count": 34,
   "id": "f62e232f",
   "metadata": {
    "papermill": {
     "duration": 14.365345,
     "end_time": "2022-06-12T16:59:16.631745",
     "exception": false,
     "start_time": "2022-06-12T16:59:02.266400",
     "status": "completed"
    },
    "tags": []
   },
   "outputs": [],
   "source": [
    "dataset=dataset.groupby(['Session_Id']).agg(list).reset_index()"
   ]
  },
  {
   "cell_type": "code",
   "execution_count": 35,
   "id": "9b85040e",
   "metadata": {
    "papermill": {
     "duration": 0.070322,
     "end_time": "2022-06-12T16:59:16.759733",
     "exception": false,
     "start_time": "2022-06-12T16:59:16.689411",
     "status": "completed"
    },
    "tags": []
   },
   "outputs": [],
   "source": [
    "def get_indices(x):\n",
    "    x=np.array(x)\n",
    "    indices_unsorted=np.argpartition(x, -100)[-100:]\n",
    "    x=x[indices_unsorted]\n",
    "    indices=indices_unsorted[np.argsort(-x)]\n",
    "    return indices"
   ]
  },
  {
   "cell_type": "code",
   "execution_count": 36,
   "id": "322214a9",
   "metadata": {
    "papermill": {
     "duration": 4.723503,
     "end_time": "2022-06-12T16:59:21.541339",
     "exception": false,
     "start_time": "2022-06-12T16:59:16.817836",
     "status": "completed"
    },
    "tags": []
   },
   "outputs": [],
   "source": [
    "dataset[\"indices\"]=dataset[\"score\"].apply(lambda x: get_indices(x))"
   ]
  },
  {
   "cell_type": "code",
   "execution_count": 37,
   "id": "0d15c34d",
   "metadata": {
    "papermill": {
     "duration": 0.069271,
     "end_time": "2022-06-12T16:59:21.669582",
     "exception": false,
     "start_time": "2022-06-12T16:59:21.600311",
     "status": "completed"
    },
    "tags": []
   },
   "outputs": [
    {
     "data": {
      "text/plain": [
       "Session_Id                                                   61\n",
       "Item_ID       [11, 3383, 3382, 3381, 3380, 3379, 3378, 3377,...\n",
       "score         [-1.7536389591013417, -3.625104368607208, -3.6...\n",
       "indices       [315, 232, 326, 146, 366, 389, 484, 396, 44, 5...\n",
       "Name: 0, dtype: object"
      ]
     },
     "execution_count": 37,
     "metadata": {},
     "output_type": "execute_result"
    }
   ],
   "source": [
    "dataset.iloc[0]"
   ]
  },
  {
   "cell_type": "code",
   "execution_count": 38,
   "id": "bddb4385",
   "metadata": {
    "papermill": {
     "duration": 0.066992,
     "end_time": "2022-06-12T16:59:21.795321",
     "exception": false,
     "start_time": "2022-06-12T16:59:21.728329",
     "status": "completed"
    },
    "tags": []
   },
   "outputs": [
    {
     "data": {
      "text/plain": [
       "1955"
      ]
     },
     "execution_count": 38,
     "metadata": {},
     "output_type": "execute_result"
    }
   ],
   "source": [
    "dataset.iloc[0][\"Item_ID\"][536]"
   ]
  },
  {
   "cell_type": "code",
   "execution_count": 39,
   "id": "ebaf1049",
   "metadata": {
    "papermill": {
     "duration": 0.065781,
     "end_time": "2022-06-12T16:59:21.918641",
     "exception": false,
     "start_time": "2022-06-12T16:59:21.852860",
     "status": "completed"
    },
    "tags": []
   },
   "outputs": [],
   "source": [
    "def get_items(x):\n",
    "    items=np.array(x[0])\n",
    "    return items[x[1]]"
   ]
  },
  {
   "cell_type": "code",
   "execution_count": 40,
   "id": "144e62b2",
   "metadata": {
    "papermill": {
     "duration": 4.96688,
     "end_time": "2022-06-12T16:59:26.943713",
     "exception": false,
     "start_time": "2022-06-12T16:59:21.976833",
     "status": "completed"
    },
    "tags": []
   },
   "outputs": [
    {
     "name": "stderr",
     "output_type": "stream",
     "text": [
      "/var/folders/yt/h_zrk_k931s4wj_999xrfy0m0000gq/T/ipykernel_40463/744460501.py:2: FutureWarning: Series.__getitem__ treating keys as positions is deprecated. In a future version, integer keys will always be treated as labels (consistent with DataFrame behavior). To access a value by position, use `ser.iloc[pos]`\n",
      "  items=np.array(x[0])\n",
      "/var/folders/yt/h_zrk_k931s4wj_999xrfy0m0000gq/T/ipykernel_40463/744460501.py:3: FutureWarning: Series.__getitem__ treating keys as positions is deprecated. In a future version, integer keys will always be treated as labels (consistent with DataFrame behavior). To access a value by position, use `ser.iloc[pos]`\n",
      "  return items[x[1]]\n"
     ]
    }
   ],
   "source": [
    "dataset[\"predictions\"]=dataset[[\"Item_ID\",\"indices\"]].apply(get_items,axis=1)"
   ]
  },
  {
   "cell_type": "code",
   "execution_count": 41,
   "id": "b3e85988",
   "metadata": {
    "papermill": {
     "duration": 1.416768,
     "end_time": "2022-06-12T16:59:28.419052",
     "exception": false,
     "start_time": "2022-06-12T16:59:27.002284",
     "status": "completed"
    },
    "tags": []
   },
   "outputs": [],
   "source": [
    "dataset=dataset[[\"Session_Id\",\"predictions\"]]\n",
    "dataset[\"rank\"]=dataset.apply(lambda x:tuple([rank for rank in range(1, 101)]) ,axis=1)"
   ]
  },
  {
   "cell_type": "code",
   "execution_count": 42,
   "id": "2c55ecc0",
   "metadata": {
    "papermill": {
     "duration": 0.099685,
     "end_time": "2022-06-12T16:59:28.576741",
     "exception": false,
     "start_time": "2022-06-12T16:59:28.477056",
     "status": "completed"
    },
    "tags": []
   },
   "outputs": [
    {
     "data": {
      "text/html": [
       "<div>\n",
       "<style scoped>\n",
       "    .dataframe tbody tr th:only-of-type {\n",
       "        vertical-align: middle;\n",
       "    }\n",
       "\n",
       "    .dataframe tbody tr th {\n",
       "        vertical-align: top;\n",
       "    }\n",
       "\n",
       "    .dataframe thead th {\n",
       "        text-align: right;\n",
       "    }\n",
       "</style>\n",
       "<table border=\"1\" class=\"dataframe\">\n",
       "  <thead>\n",
       "    <tr style=\"text-align: right;\">\n",
       "      <th></th>\n",
       "      <th>Session_Id</th>\n",
       "      <th>predictions</th>\n",
       "      <th>rank</th>\n",
       "    </tr>\n",
       "  </thead>\n",
       "  <tbody>\n",
       "    <tr>\n",
       "      <th>0</th>\n",
       "      <td>61</td>\n",
       "      <td>[1045, 3586, 1563, 4574, 292, 143, 2995, 699, ...</td>\n",
       "      <td>(1, 2, 3, 4, 5, 6, 7, 8, 9, 10, 11, 12, 13, 14...</td>\n",
       "    </tr>\n",
       "    <tr>\n",
       "      <th>1</th>\n",
       "      <td>96</td>\n",
       "      <td>[4097, 3564, 3778, 2346, 4119, 3303, 4756, 232...</td>\n",
       "      <td>(1, 2, 3, 4, 5, 6, 7, 8, 9, 10, 11, 12, 13, 14...</td>\n",
       "    </tr>\n",
       "    <tr>\n",
       "      <th>2</th>\n",
       "      <td>185</td>\n",
       "      <td>[4146, 4148, 1936, 2330, 2704, 1652, 4162, 332...</td>\n",
       "      <td>(1, 2, 3, 4, 5, 6, 7, 8, 9, 10, 11, 12, 13, 14...</td>\n",
       "    </tr>\n",
       "    <tr>\n",
       "      <th>3</th>\n",
       "      <td>224</td>\n",
       "      <td>[3338, 4202, 2769, 16, 4990, 1437, 1245, 3026,...</td>\n",
       "      <td>(1, 2, 3, 4, 5, 6, 7, 8, 9, 10, 11, 12, 13, 14...</td>\n",
       "    </tr>\n",
       "    <tr>\n",
       "      <th>4</th>\n",
       "      <td>285</td>\n",
       "      <td>[3691, 3555, 2970, 2899, 3441, 3599, 2268, 465...</td>\n",
       "      <td>(1, 2, 3, 4, 5, 6, 7, 8, 9, 10, 11, 12, 13, 14...</td>\n",
       "    </tr>\n",
       "    <tr>\n",
       "      <th>...</th>\n",
       "      <td>...</td>\n",
       "      <td>...</td>\n",
       "      <td>...</td>\n",
       "    </tr>\n",
       "    <tr>\n",
       "      <th>49995</th>\n",
       "      <td>4439646</td>\n",
       "      <td>[270, 191, 1468, 3037, 707, 3656, 3618, 1827, ...</td>\n",
       "      <td>(1, 2, 3, 4, 5, 6, 7, 8, 9, 10, 11, 12, 13, 14...</td>\n",
       "    </tr>\n",
       "    <tr>\n",
       "      <th>49996</th>\n",
       "      <td>4439648</td>\n",
       "      <td>[4145, 3901, 3223, 4586, 2491, 2234, 3550, 242...</td>\n",
       "      <td>(1, 2, 3, 4, 5, 6, 7, 8, 9, 10, 11, 12, 13, 14...</td>\n",
       "    </tr>\n",
       "    <tr>\n",
       "      <th>49997</th>\n",
       "      <td>4439675</td>\n",
       "      <td>[4865, 3116, 3166, 779, 4966, 1169, 3445, 1906...</td>\n",
       "      <td>(1, 2, 3, 4, 5, 6, 7, 8, 9, 10, 11, 12, 13, 14...</td>\n",
       "    </tr>\n",
       "    <tr>\n",
       "      <th>49998</th>\n",
       "      <td>4439868</td>\n",
       "      <td>[519, 4740, 292, 2285, 1972, 3414, 3586, 750, ...</td>\n",
       "      <td>(1, 2, 3, 4, 5, 6, 7, 8, 9, 10, 11, 12, 13, 14...</td>\n",
       "    </tr>\n",
       "    <tr>\n",
       "      <th>49999</th>\n",
       "      <td>4439966</td>\n",
       "      <td>[1931, 3362, 678, 559, 1609, 4184, 3871, 1164,...</td>\n",
       "      <td>(1, 2, 3, 4, 5, 6, 7, 8, 9, 10, 11, 12, 13, 14...</td>\n",
       "    </tr>\n",
       "  </tbody>\n",
       "</table>\n",
       "<p>50000 rows × 3 columns</p>\n",
       "</div>"
      ],
      "text/plain": [
       "       Session_Id                                        predictions  \\\n",
       "0              61  [1045, 3586, 1563, 4574, 292, 143, 2995, 699, ...   \n",
       "1              96  [4097, 3564, 3778, 2346, 4119, 3303, 4756, 232...   \n",
       "2             185  [4146, 4148, 1936, 2330, 2704, 1652, 4162, 332...   \n",
       "3             224  [3338, 4202, 2769, 16, 4990, 1437, 1245, 3026,...   \n",
       "4             285  [3691, 3555, 2970, 2899, 3441, 3599, 2268, 465...   \n",
       "...           ...                                                ...   \n",
       "49995     4439646  [270, 191, 1468, 3037, 707, 3656, 3618, 1827, ...   \n",
       "49996     4439648  [4145, 3901, 3223, 4586, 2491, 2234, 3550, 242...   \n",
       "49997     4439675  [4865, 3116, 3166, 779, 4966, 1169, 3445, 1906...   \n",
       "49998     4439868  [519, 4740, 292, 2285, 1972, 3414, 3586, 750, ...   \n",
       "49999     4439966  [1931, 3362, 678, 559, 1609, 4184, 3871, 1164,...   \n",
       "\n",
       "                                                    rank  \n",
       "0      (1, 2, 3, 4, 5, 6, 7, 8, 9, 10, 11, 12, 13, 14...  \n",
       "1      (1, 2, 3, 4, 5, 6, 7, 8, 9, 10, 11, 12, 13, 14...  \n",
       "2      (1, 2, 3, 4, 5, 6, 7, 8, 9, 10, 11, 12, 13, 14...  \n",
       "3      (1, 2, 3, 4, 5, 6, 7, 8, 9, 10, 11, 12, 13, 14...  \n",
       "4      (1, 2, 3, 4, 5, 6, 7, 8, 9, 10, 11, 12, 13, 14...  \n",
       "...                                                  ...  \n",
       "49995  (1, 2, 3, 4, 5, 6, 7, 8, 9, 10, 11, 12, 13, 14...  \n",
       "49996  (1, 2, 3, 4, 5, 6, 7, 8, 9, 10, 11, 12, 13, 14...  \n",
       "49997  (1, 2, 3, 4, 5, 6, 7, 8, 9, 10, 11, 12, 13, 14...  \n",
       "49998  (1, 2, 3, 4, 5, 6, 7, 8, 9, 10, 11, 12, 13, 14...  \n",
       "49999  (1, 2, 3, 4, 5, 6, 7, 8, 9, 10, 11, 12, 13, 14...  \n",
       "\n",
       "[50000 rows x 3 columns]"
      ]
     },
     "execution_count": 42,
     "metadata": {},
     "output_type": "execute_result"
    }
   ],
   "source": [
    "dataset"
   ]
  },
  {
   "cell_type": "code",
   "execution_count": 43,
   "id": "19e4beee",
   "metadata": {
    "papermill": {
     "duration": 0.683005,
     "end_time": "2022-06-12T16:59:29.319000",
     "exception": false,
     "start_time": "2022-06-12T16:59:28.635995",
     "status": "completed"
    },
    "tags": []
   },
   "outputs": [],
   "source": [
    "dataset[\"predictions\"]=dataset[\"predictions\"].apply(tuple)"
   ]
  },
  {
   "cell_type": "code",
   "execution_count": null,
   "id": "263b3565",
   "metadata": {
    "papermill": {
     "duration": 0.058357,
     "end_time": "2022-06-12T16:59:29.436455",
     "exception": false,
     "start_time": "2022-06-12T16:59:29.378098",
     "status": "completed"
    },
    "tags": []
   },
   "outputs": [],
   "source": []
  },
  {
   "cell_type": "code",
   "execution_count": 44,
   "id": "a2d2299a",
   "metadata": {
    "papermill": {
     "duration": 0.07339,
     "end_time": "2022-06-12T16:59:29.569313",
     "exception": false,
     "start_time": "2022-06-12T16:59:29.495923",
     "status": "completed"
    },
    "tags": []
   },
   "outputs": [],
   "source": [
    "dataset=dataset[[\"Session_Id\",\"predictions\",\"rank\"]]"
   ]
  },
  {
   "cell_type": "code",
   "execution_count": 45,
   "id": "1facb193",
   "metadata": {
    "papermill": {
     "duration": 0.06533,
     "end_time": "2022-06-12T16:59:29.694238",
     "exception": false,
     "start_time": "2022-06-12T16:59:29.628908",
     "status": "completed"
    },
    "tags": []
   },
   "outputs": [],
   "source": [
    "dataset.columns=[\"session_id\",\"code\",\"rank\"]"
   ]
  },
  {
   "cell_type": "code",
   "execution_count": 46,
   "id": "ccdf1f46",
   "metadata": {
    "papermill": {
     "duration": 0.083812,
     "end_time": "2022-06-12T16:59:29.837436",
     "exception": false,
     "start_time": "2022-06-12T16:59:29.753624",
     "status": "completed"
    },
    "tags": []
   },
   "outputs": [
    {
     "data": {
      "text/html": [
       "<div>\n",
       "<style scoped>\n",
       "    .dataframe tbody tr th:only-of-type {\n",
       "        vertical-align: middle;\n",
       "    }\n",
       "\n",
       "    .dataframe tbody tr th {\n",
       "        vertical-align: top;\n",
       "    }\n",
       "\n",
       "    .dataframe thead th {\n",
       "        text-align: right;\n",
       "    }\n",
       "</style>\n",
       "<table border=\"1\" class=\"dataframe\">\n",
       "  <thead>\n",
       "    <tr style=\"text-align: right;\">\n",
       "      <th></th>\n",
       "      <th>session_id</th>\n",
       "      <th>code</th>\n",
       "      <th>rank</th>\n",
       "    </tr>\n",
       "  </thead>\n",
       "  <tbody>\n",
       "    <tr>\n",
       "      <th>0</th>\n",
       "      <td>61</td>\n",
       "      <td>(1045, 3586, 1563, 4574, 292, 143, 2995, 699, ...</td>\n",
       "      <td>(1, 2, 3, 4, 5, 6, 7, 8, 9, 10, 11, 12, 13, 14...</td>\n",
       "    </tr>\n",
       "    <tr>\n",
       "      <th>1</th>\n",
       "      <td>96</td>\n",
       "      <td>(4097, 3564, 3778, 2346, 4119, 3303, 4756, 232...</td>\n",
       "      <td>(1, 2, 3, 4, 5, 6, 7, 8, 9, 10, 11, 12, 13, 14...</td>\n",
       "    </tr>\n",
       "    <tr>\n",
       "      <th>2</th>\n",
       "      <td>185</td>\n",
       "      <td>(4146, 4148, 1936, 2330, 2704, 1652, 4162, 332...</td>\n",
       "      <td>(1, 2, 3, 4, 5, 6, 7, 8, 9, 10, 11, 12, 13, 14...</td>\n",
       "    </tr>\n",
       "    <tr>\n",
       "      <th>3</th>\n",
       "      <td>224</td>\n",
       "      <td>(3338, 4202, 2769, 16, 4990, 1437, 1245, 3026,...</td>\n",
       "      <td>(1, 2, 3, 4, 5, 6, 7, 8, 9, 10, 11, 12, 13, 14...</td>\n",
       "    </tr>\n",
       "    <tr>\n",
       "      <th>4</th>\n",
       "      <td>285</td>\n",
       "      <td>(3691, 3555, 2970, 2899, 3441, 3599, 2268, 465...</td>\n",
       "      <td>(1, 2, 3, 4, 5, 6, 7, 8, 9, 10, 11, 12, 13, 14...</td>\n",
       "    </tr>\n",
       "  </tbody>\n",
       "</table>\n",
       "</div>"
      ],
      "text/plain": [
       "   session_id                                               code  \\\n",
       "0          61  (1045, 3586, 1563, 4574, 292, 143, 2995, 699, ...   \n",
       "1          96  (4097, 3564, 3778, 2346, 4119, 3303, 4756, 232...   \n",
       "2         185  (4146, 4148, 1936, 2330, 2704, 1652, 4162, 332...   \n",
       "3         224  (3338, 4202, 2769, 16, 4990, 1437, 1245, 3026,...   \n",
       "4         285  (3691, 3555, 2970, 2899, 3441, 3599, 2268, 465...   \n",
       "\n",
       "                                                rank  \n",
       "0  (1, 2, 3, 4, 5, 6, 7, 8, 9, 10, 11, 12, 13, 14...  \n",
       "1  (1, 2, 3, 4, 5, 6, 7, 8, 9, 10, 11, 12, 13, 14...  \n",
       "2  (1, 2, 3, 4, 5, 6, 7, 8, 9, 10, 11, 12, 13, 14...  \n",
       "3  (1, 2, 3, 4, 5, 6, 7, 8, 9, 10, 11, 12, 13, 14...  \n",
       "4  (1, 2, 3, 4, 5, 6, 7, 8, 9, 10, 11, 12, 13, 14...  "
      ]
     },
     "execution_count": 46,
     "metadata": {},
     "output_type": "execute_result"
    }
   ],
   "source": [
    "dataset.head()"
   ]
  },
  {
   "cell_type": "code",
   "execution_count": 47,
   "id": "e4258770",
   "metadata": {
    "papermill": {
     "duration": 1.365591,
     "end_time": "2022-06-12T16:59:31.262162",
     "exception": false,
     "start_time": "2022-06-12T16:59:29.896571",
     "status": "completed"
    },
    "tags": []
   },
   "outputs": [],
   "source": [
    "submission_df = dataset.explode(['code', 'rank']).astype(int)"
   ]
  },
  {
   "cell_type": "code",
   "execution_count": 48,
   "id": "f5243792",
   "metadata": {
    "papermill": {
     "duration": 0.814342,
     "end_time": "2022-06-12T16:59:32.136382",
     "exception": false,
     "start_time": "2022-06-12T16:59:31.322040",
     "status": "completed"
    },
    "tags": []
   },
   "outputs": [],
   "source": [
    "mapping= pd.read_csv('../dataset/processed_data/map.csv')\n",
    "submission_df=submission_df.merge(mapping,on=\"code\",how=\"left\")\n",
    "del submission_df[\"code\"]\n",
    "submission_df=submission_df[[\"session_id\",\"item_id\",\"rank\"]]"
   ]
  },
  {
   "cell_type": "code",
   "execution_count": 49,
   "id": "3939ba35",
   "metadata": {
    "papermill": {
     "duration": 0.067899,
     "end_time": "2022-06-12T16:59:32.264542",
     "exception": false,
     "start_time": "2022-06-12T16:59:32.196643",
     "status": "completed"
    },
    "tags": []
   },
   "outputs": [
    {
     "name": "stdout",
     "output_type": "stream",
     "text": [
      "5000000\n"
     ]
    }
   ],
   "source": [
    "print(len(submission_df))"
   ]
  },
  {
   "cell_type": "code",
   "execution_count": 50,
   "id": "d9cf15d2",
   "metadata": {
    "papermill": {
     "duration": 0.077344,
     "end_time": "2022-06-12T16:59:32.407149",
     "exception": false,
     "start_time": "2022-06-12T16:59:32.329805",
     "status": "completed"
    },
    "tags": []
   },
   "outputs": [
    {
     "name": "stdout",
     "output_type": "stream",
     "text": [
      "<class 'pandas.core.frame.DataFrame'>\n",
      "RangeIndex: 5000000 entries, 0 to 4999999\n",
      "Data columns (total 3 columns):\n",
      " #   Column      Dtype\n",
      "---  ------      -----\n",
      " 0   session_id  int64\n",
      " 1   item_id     int64\n",
      " 2   rank        int64\n",
      "dtypes: int64(3)\n",
      "memory usage: 114.4 MB\n"
     ]
    }
   ],
   "source": [
    "submission_df.info()"
   ]
  },
  {
   "cell_type": "code",
   "execution_count": 51,
   "id": "a4bd6fea",
   "metadata": {
    "papermill": {
     "duration": 0.091514,
     "end_time": "2022-06-12T16:59:32.559757",
     "exception": false,
     "start_time": "2022-06-12T16:59:32.468243",
     "status": "completed"
    },
    "tags": []
   },
   "outputs": [
    {
     "data": {
      "text/plain": [
       "session_id    0\n",
       "item_id       0\n",
       "rank          0\n",
       "dtype: int64"
      ]
     },
     "execution_count": 51,
     "metadata": {},
     "output_type": "execute_result"
    }
   ],
   "source": [
    "submission_df.isna().sum()"
   ]
  },
  {
   "cell_type": "code",
   "execution_count": 52,
   "id": "4381eeb6",
   "metadata": {
    "papermill": {
     "duration": 10.646249,
     "end_time": "2022-06-12T16:59:43.267327",
     "exception": false,
     "start_time": "2022-06-12T16:59:32.621078",
     "status": "completed"
    },
    "tags": []
   },
   "outputs": [],
   "source": [
    "submission_df.to_csv(\n",
    "    f'../final_sub.csv',\n",
    "    index=False\n",
    "    )"
   ]
  }
 ],
 "metadata": {
  "kernelspec": {
   "display_name": "Python 3 (ipykernel)",
   "language": "python",
   "name": "python3"
  },
  "language_info": {
   "codemirror_mode": {
    "name": "ipython",
    "version": 3
   },
   "file_extension": ".py",
   "mimetype": "text/x-python",
   "name": "python",
   "nbconvert_exporter": "python",
   "pygments_lexer": "ipython3",
   "version": "3.11.5"
  },
  "papermill": {
   "default_parameters": {},
   "duration": 355.611026,
   "end_time": "2022-06-12T16:59:44.340713",
   "environment_variables": {},
   "exception": null,
   "input_path": "__notebook__.ipynb",
   "output_path": "__notebook__.ipynb",
   "parameters": {},
   "start_time": "2022-06-12T16:53:48.729687",
   "version": "2.3.3"
  },
  "vscode": {
   "interpreter": {
    "hash": "61f38fddaed46afda7c40a5798d4631266e18af1d335aa6f772dc3ed9b8ab549"
   }
  }
 },
 "nbformat": 4,
 "nbformat_minor": 5
}
