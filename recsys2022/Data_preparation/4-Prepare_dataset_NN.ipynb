{
 "cells": [
  {
   "cell_type": "code",
   "execution_count": 14,
   "metadata": {},
   "outputs": [],
   "source": [
    "#!pip install tqdm"
   ]
  },
  {
   "cell_type": "code",
   "execution_count": 2,
   "metadata": {},
   "outputs": [],
   "source": [
    "just_checking_integrity=False\n",
    "rows=3000\n",
    "test_rows=1000"
   ]
  },
  {
   "cell_type": "code",
   "execution_count": 3,
   "metadata": {
    "_cell_guid": "3946c204-a3f5-44a7-b643-cac70a77fe70",
    "_uuid": "f28177d0-e4d9-4bba-9b30-86b78e8bed57",
    "collapsed": false,
    "id": "zSNsQsszHgO5",
    "jupyter": {
     "outputs_hidden": false
    }
   },
   "outputs": [],
   "source": [
    "import pandas as pd\n",
    "import tensorflow as tf\n",
    "from tensorflow.keras import layers\n",
    "import numpy as np\n",
    "import datetime\n",
    "from itertools import compress\n",
    "from math import sin, cos"
   ]
  },
  {
   "cell_type": "markdown",
   "metadata": {
    "_cell_guid": "9fad89b8-a3fe-4b22-afd7-b27a7eee36f8",
    "_uuid": "67cbc271-bc49-4dec-b3dd-c3d12c79dcde",
    "id": "6R8Je05dn9J0"
   },
   "source": [
    "# Utilities"
   ]
  },
  {
   "cell_type": "markdown",
   "metadata": {
    "_cell_guid": "09c2d996-1381-497b-9872-542321514f90",
    "_uuid": "f1e87c85-c115-44d6-8ad4-d33f4c2b2cc9",
    "id": "CQX7OMVWwimV"
   },
   "source": [
    "## Preprocessing"
   ]
  },
  {
   "cell_type": "code",
   "execution_count": 4,
   "metadata": {
    "_cell_guid": "e8b31241-43bb-484d-88c0-1f7568057ae2",
    "_uuid": "5ef1894c-c8ff-45d3-ae2c-0522aff683d5",
    "id": "XEvjdjSHv0ys"
   },
   "outputs": [],
   "source": [
    "embedding_weights = np.load(\n",
    "    '../dataset/processed_data/compressed_features.npy'\n",
    "    )\n",
    "\n",
    "import os\n",
    "import scipy.sparse as sps\n",
    "def get_ICM(files_directory=\"../dataset/processed_data\"):\n",
    "    df_icm = pd.read_csv(filepath_or_buffer=os.path.join(files_directory, 'simplified_features_and_categories_30.csv'), sep=',', header=0)\n",
    "    \n",
    "    item_id_list = df_icm['item_id'].values\n",
    "    feat_id_list = df_icm['feature_idx'].values\n",
    "    rating_id_list = np.ones_like(feat_id_list)\n",
    "    ICM_matrix = sps.csr_matrix((rating_id_list, (item_id_list, feat_id_list)))\n",
    "    return ICM_matrix\n",
    "\n",
    "ICM=get_ICM()"
   ]
  },
  {
   "cell_type": "code",
   "execution_count": 24,
   "metadata": {
    "_cell_guid": "23b26abf-76d3-4b49-8e07-4da7521ce583",
    "_uuid": "38c1a161-7c77-4b98-b59b-70334d862643",
    "id": "0Af8xZd9wkvi"
   },
   "outputs": [],
   "source": [
    "from tqdm.auto import tqdm\n",
    "tqdm.pandas()\n",
    "def macro_features_generation(input_dataframe: pd.DataFrame) -> pd.DataFrame:\n",
    "    input_dataframe[\"date\"] = [x.split(\".\")[0] for x in input_dataframe[\"date\"]]\n",
    "    input_dataframe[\"date\"] = pd.to_datetime(input_dataframe[\"date\"], format='%Y-%m-%d %H:%M:%S')\n",
    "    input_dataframe = remove_reloaded_items(input_dataframe)\n",
    "    print('completed removal')\n",
    "\n",
    "\n",
    "    input_dataframe = input_dataframe.sort_values(by='date').groupby(['session_id']).agg(list).reset_index()\n",
    "    input_dataframe.sort_values(by=\"session_id\", inplace=True)\n",
    "    #if filter:\n",
    "        # input_dataframe[\"len\"]=input_dataframe[\"item_id\"].apply(len)\n",
    "        # input_dataframe=input_dataframe.loc[input_dataframe[\"len\"]>=3]\n",
    "        # print(\"length dataset : \", len(input_dataframe))\n",
    "    input_dataframe = get_date_features(input_dataframe)\n",
    "    print('completed date features')\n",
    "    input_dataframe = get_session_length_features(input_dataframe)\n",
    "    print('completed session length')\n",
    "    input_dataframe = get_special_date_features(input_dataframe)\n",
    "    print('completed special features')\n",
    "\n",
    "    input_dataframe = get_session_similarity(input_dataframe)\n",
    "    print('completed similarities')\n",
    "    return input_dataframe\n",
    "\n",
    "\n",
    "# Remove sequent items if the same item has a delta t of 30 seconds\n",
    "def remove_reloaded_items(input_dataframe: pd.DataFrame) -> pd.DataFrame:\n",
    "    shifted_item_ids_per_group = input_dataframe.sort_values(['session_id', 'date']).groupby(['session_id'])['item_id'].shift(-1).fillna(0).astype(int)\n",
    "    shifted_datetime_per_group = input_dataframe.sort_values(['session_id', 'date']).groupby(['session_id'])['date'].shift(-1)#.fillna(0)\n",
    "    consecutive_item_filter = (input_dataframe.sort_values(['session_id', 'date'])['item_id'] - shifted_item_ids_per_group).eq(0)\n",
    "    \n",
    "    time_delta_filter = (shifted_datetime_per_group - input_dataframe.sort_values(['session_id', 'date'])['date']).dt.total_seconds() < 30\n",
    "    duplication_filter = ~(consecutive_item_filter & time_delta_filter)\n",
    "\n",
    "    filtered_dataframe = input_dataframe[duplication_filter]\n",
    "    return filtered_dataframe\n",
    "\n",
    "\n",
    "def remove_items(x):\n",
    "    boolean_vector = [\n",
    "        not ((x['item_id'][i] == x['item_id'][i + 1]) and ((x['date'][i + 1] - x['date'][i]).total_seconds() < 30)) for\n",
    "        i in range(len(x['item_id']) - 1)]\n",
    "\n",
    "    boolean_vector.append(True)\n",
    "\n",
    "    filtered_items = list(compress(x['item_id'], boolean_vector))\n",
    "    filtered_timestamps = list(compress(x['date'], boolean_vector))\n",
    "\n",
    "    return filtered_timestamps, filtered_items\n",
    "\n",
    "\n",
    "def get_date_features(input_dataframe: pd.DataFrame) -> pd.DataFrame:\n",
    "    date_feature_names = [\n",
    "        'timedelta',\n",
    "        'date_normalized'\n",
    "    ]\n",
    "\n",
    "    input_dataframe[\"date_session_starting\"] = pd.to_datetime(input_dataframe['date'].str[0])\n",
    "    input_dataframe[\"date_session_ending\"] = pd.to_datetime(input_dataframe['date'].str[-1])\n",
    "\n",
    "    input_dataframe[\"date_hour_sin\"] = np.sin((input_dataframe[\"date_session_starting\"].dt.hour + input_dataframe[\"date_session_starting\"].dt.minute / 60) * np.pi / 12)\n",
    "    input_dataframe[\"date_hour_cos\"] = np.cos((input_dataframe[\"date_session_starting\"].dt.hour + input_dataframe[\"date_session_starting\"].dt.minute / 60) * np.pi / 12)\n",
    "    input_dataframe[\"date_day_sin\"] = np.sin(input_dataframe[\"date_session_starting\"].dt.day * np.pi / 15)\n",
    "    input_dataframe[\"date_day_cos\"] = np.cos(input_dataframe[\"date_session_starting\"].dt.day * np.pi / 15)\n",
    "    input_dataframe[\"date_month_sin\"] = np.sin(input_dataframe[\"date_session_starting\"].dt.month * np.pi / 6)\n",
    "    input_dataframe[\"date_month_cos\"] = np.cos(input_dataframe[\"date_session_starting\"].dt.month * np.pi / 6)\n",
    "\n",
    "    input_dataframe[\"date_hour_sin_ending\"] = np.sin((input_dataframe[\"date_session_ending\"].dt.hour + input_dataframe[\"date_session_ending\"].dt.minute / 60) * np.pi / 12)\n",
    "    input_dataframe[\"date_hour_cos_ending\"] = np.cos((input_dataframe[\"date_session_ending\"].dt.hour + input_dataframe[\"date_session_ending\"].dt.minute / 60) * np.pi / 12)\n",
    "    input_dataframe[\"date_day_sin_ending\"] = np.sin(input_dataframe[\"date_session_ending\"].dt.day * np.pi / 15)\n",
    "    input_dataframe[\"date_day_cos_ending\"] = np.cos(input_dataframe[\"date_session_ending\"].dt.day * np.pi / 15)\n",
    "    input_dataframe[\"date_month_sin_ending\"] = np.sin(input_dataframe[\"date_session_ending\"].dt.month * np.pi / 6)\n",
    "    input_dataframe[\"date_month_cos_ending\"] = np.cos(input_dataframe[\"date_session_ending\"].dt.month * np.pi / 6)\n",
    "\n",
    "    input_dataframe[\"date_year_2020\"] = (input_dataframe[\"date_session_starting\"].dt.year == 2020).astype(int)\n",
    "\n",
    "    input_dataframe[date_feature_names] = input_dataframe[['date']].progress_apply(\n",
    "        process_timestamps,\n",
    "        axis=1,\n",
    "        result_type=\"expand\"\n",
    "    )\n",
    "    return input_dataframe\n",
    "\n",
    "\n",
    "def process_timestamps(x):\n",
    "    # TODO: insert this in time series features\n",
    "    x = x[0]\n",
    "    times = [datetime.hour*3600 + datetime.minute*60 + datetime.second for datetime in x]\n",
    "    times = [time - times[0] for time in times]\n",
    "    timedelta = [(times[index + 1] - times[index]) for index in range(len(times) - 1)]\n",
    "    timedelta.append(np.mean(timedelta) if len(timedelta) > 0 else -1)\n",
    "    timedelta=[np.log10(t+1) if t>0 else -1 for t in timedelta]\n",
    "    return (\n",
    "        timedelta,\n",
    "        times,\n",
    "    )\n",
    "\n",
    "\n",
    "def get_session_length_features(input_dataframe: pd.DataFrame) -> pd.DataFrame:\n",
    "    session_length_feature_names = ['length_of_session_seconds',\n",
    "                                    'avg_time_spent_per_item_seconds',\n",
    "                                    'variance_time_spent_per_item_seconds',\n",
    "                                    'longest_seen_item',\n",
    "                                    'shortest_seen_item',\n",
    "                                    'n_seen_items',\n",
    "                                    'n_unique_items',\n",
    "                                    'user_went_afk']\n",
    "\n",
    "    # compute length of sessions in seconds\n",
    "    input_dataframe[session_length_feature_names] = input_dataframe[['date', 'item_id']].progress_apply(\n",
    "        compute_lengths,\n",
    "        axis=1,\n",
    "        result_type=\"expand\"\n",
    "    )\n",
    "    return input_dataframe\n",
    "\n",
    "\n",
    "def compute_lengths(x):\n",
    "    session_length_seconds = (x['date'][-1] - x['date'][0]).total_seconds()\n",
    "\n",
    "    n_seen_items = len(x['item_id'])\n",
    "    n_unique=len(set(x[\"item_id\"]))\n",
    "\n",
    "    time_deltas_between_items = np.array([(x['date'][i + 1] - x['date'][i]).total_seconds() for i in\n",
    "                                          range(len(x['date']) - 1)]) if n_seen_items > 1 else np.array([0])\n",
    "\n",
    "    avg_time_spent_on_item_seconds = session_length_seconds / (len(x['date']) - 1) if n_seen_items > 1 else 0\n",
    "\n",
    "    variance_time_spent_on_item_seconds = np.var(time_deltas_between_items)\n",
    "\n",
    "    user_went_afk = int(any(time_deltas_between_items / 60 > 30))\n",
    "    \n",
    "    if n_seen_items > 1:\n",
    "        longest_seen_item = x['item_id'][\n",
    "            np.argmax(time_deltas_between_items)]\n",
    "        shortest_seen_item = x['item_id'][\n",
    "            np.argmin(time_deltas_between_items)]\n",
    "    else:\n",
    "        longest_seen_item = x['item_id'][0]\n",
    "        shortest_seen_item = longest_seen_item\n",
    "\n",
    "    return (\n",
    "        session_length_seconds,\n",
    "        avg_time_spent_on_item_seconds,\n",
    "        variance_time_spent_on_item_seconds,\n",
    "        longest_seen_item,\n",
    "        shortest_seen_item,\n",
    "        n_seen_items,\n",
    "        n_unique,\n",
    "        user_went_afk\n",
    "    )\n",
    "\n",
    "\n",
    "# TODO: Implement the special time features\n",
    "def get_special_date_features(input_dataframe: pd.DataFrame) -> pd.DataFrame:\n",
    "    input_dataframe[\"date_session_starting\"] = pd.to_datetime(input_dataframe['date'].str[0])\n",
    "\n",
    "    input_dataframe[\"is_weekend\"] = ((input_dataframe[\"date_session_starting\"].dt.day_of_week == 5) | (\n",
    "                input_dataframe[\"date_session_starting\"].dt.day_of_week == 6)).astype(int)\n",
    "\n",
    "    input_dataframe[\"is_hot_hour\"] = ((datetime.time(hour=21) > input_dataframe[\"date_session_starting\"].dt.time) & (\n",
    "                input_dataframe[\"date_session_starting\"].dt.time > datetime.time(hour=18))).astype(int)\n",
    "\n",
    "    input_dataframe[\"is_night\"] = ((datetime.time(hour=23) < input_dataframe[\"date_session_starting\"].dt.time) | (\n",
    "                input_dataframe[\"date_session_starting\"].dt.time < datetime.time(hour=5))).astype(int)\n",
    "\n",
    "    input_dataframe[\"is_christmas_time\"] = (input_dataframe[\"date_session_starting\"].dt.month == 12).astype(int)\n",
    "\n",
    "    input_dataframe[\"is_black_friday\"] = ((input_dataframe[\"date_session_starting\"].dt.month == 11) & (\n",
    "                27 <= input_dataframe[\"date_session_starting\"].dt.day) & (input_dataframe[\"date_session_starting\"].dt.day <= 30)).astype(int)\n",
    "\n",
    "    return input_dataframe\n",
    "\n",
    "def get_session_similarity(input_dataframe: pd.DataFrame) -> pd.DataFrame:\n",
    "    session_similarity = ['session_similarity',\n",
    "                          'session_similarity_uniques',\n",
    "                          'session_similarity_feats',  \n",
    "                          'session_similarity_feats_uniques'\n",
    "                          ]\n",
    "\n",
    "    # compute length of sessions in seconds\n",
    "    input_dataframe[session_similarity ] = input_dataframe[['date', 'item_id']].progress_apply(\n",
    "        compute_similarity,\n",
    "        axis=1,\n",
    "        result_type=\"expand\"\n",
    "    )\n",
    "    return input_dataframe\n",
    "\n",
    "\n",
    "def compute_similarity(x):\n",
    "    #use embeddings\n",
    "\n",
    "    #all items\n",
    "    normalized_embedding_matrix = embedding_weights[x['item_id']] / np.expand_dims(np.linalg.norm(embedding_weights[x['item_id']], axis=1), axis=1)\n",
    "    s = np.linalg.svd(normalized_embedding_matrix, compute_uv=False)[0]/len(x[\"item_id\"])\n",
    "    #unique items\n",
    "    temp=np.unique(x['item_id'])\n",
    "    normalized_embedding_matrix = embedding_weights[temp] / np.expand_dims(np.linalg.norm(embedding_weights[temp], axis=1), axis=1)\n",
    "    s_uniques = np.linalg.svd(normalized_embedding_matrix, compute_uv=False)[0]/len(temp)\n",
    "\n",
    "    #use ICM ( takes too long)\n",
    "\n",
    "    #all items\n",
    "    temp=ICM[x['item_id']].toarray()\n",
    "    normalized_embedding_matrix = temp / np.expand_dims(np.linalg.norm(temp, axis=1), axis=1)\n",
    "    s_feats = np.linalg.svd(normalized_embedding_matrix, compute_uv=False)[0]/len(x[\"item_id\"])\n",
    "\n",
    "    # #unique items\n",
    "    temp=ICM[np.unique(x['item_id'])].toarray()\n",
    "    normalized_embedding_matrix = temp / np.expand_dims(np.linalg.norm(temp, axis=1), axis=1)\n",
    "    s_feats_uniques = np.linalg.svd(normalized_embedding_matrix, compute_uv=False)[0]/len(temp)\n",
    "    return (\n",
    "        s,\n",
    "        s_uniques,\n",
    "        s_feats,\n",
    "        s_feats_uniques\n",
    "        )"
   ]
  },
  {
   "cell_type": "markdown",
   "metadata": {
    "_cell_guid": "0bd301f6-e2fe-4d01-9617-1459fa110e26",
    "_uuid": "b05008ee-029f-4ef1-ab68-4ffb2e1e0c52",
    "id": "nPdEPhcbArlf"
   },
   "source": [
    "# Prepare dataset"
   ]
  },
  {
   "cell_type": "code",
   "execution_count": 8,
   "metadata": {
    "_cell_guid": "99e48e16-1a9f-4b64-abdd-d48ad59421d3",
    "_uuid": "16d23d98-ec1b-4e7d-a0e5-1e01ddaab89f",
    "id": "kdwGb-syHVoO",
    "outputId": "15d633be-e056-40d5-f981-d02525ef99d8"
   },
   "outputs": [
    {
     "data": {
      "text/html": [
       "<div>\n",
       "<style scoped>\n",
       "    .dataframe tbody tr th:only-of-type {\n",
       "        vertical-align: middle;\n",
       "    }\n",
       "\n",
       "    .dataframe tbody tr th {\n",
       "        vertical-align: top;\n",
       "    }\n",
       "\n",
       "    .dataframe thead th {\n",
       "        text-align: right;\n",
       "    }\n",
       "</style>\n",
       "<table border=\"1\" class=\"dataframe\">\n",
       "  <thead>\n",
       "    <tr style=\"text-align: right;\">\n",
       "      <th></th>\n",
       "      <th>item_id</th>\n",
       "    </tr>\n",
       "  </thead>\n",
       "  <tbody>\n",
       "    <tr>\n",
       "      <th>0</th>\n",
       "      <td>1</td>\n",
       "    </tr>\n",
       "    <tr>\n",
       "      <th>1</th>\n",
       "      <td>2</td>\n",
       "    </tr>\n",
       "    <tr>\n",
       "      <th>2</th>\n",
       "      <td>3</td>\n",
       "    </tr>\n",
       "    <tr>\n",
       "      <th>3</th>\n",
       "      <td>4</td>\n",
       "    </tr>\n",
       "    <tr>\n",
       "      <th>4</th>\n",
       "      <td>5</td>\n",
       "    </tr>\n",
       "  </tbody>\n",
       "</table>\n",
       "</div>"
      ],
      "text/plain": [
       "   item_id\n",
       "0        1\n",
       "1        2\n",
       "2        3\n",
       "3        4\n",
       "4        5"
      ]
     },
     "execution_count": 8,
     "metadata": {},
     "output_type": "execute_result"
    }
   ],
   "source": [
    "candidate_items = pd.read_csv('../dataset/processed_data/candidate_items_mapped.csv')\n",
    "candidate_items.head()"
   ]
  },
  {
   "cell_type": "code",
   "execution_count": 9,
   "metadata": {
    "_cell_guid": "6b83d25e-6434-4eea-b894-c5dac1bb3cd4",
    "_uuid": "dfdb67c0-bf5b-42f2-a325-69802004f77a",
    "id": "w5LUoNPaouyG",
    "outputId": "7888609c-8c8a-4047-8691-a5600f55456f"
   },
   "outputs": [
    {
     "data": {
      "text/plain": [
       "(23692, 64)"
      ]
     },
     "execution_count": 9,
     "metadata": {},
     "output_type": "execute_result"
    }
   ],
   "source": [
    "embedding_weights = np.load(\n",
    "    '../dataset/processed_data/compressed_features.npy'\n",
    "    )\n",
    "embedding_weights.shape"
   ]
  },
  {
   "cell_type": "code",
   "execution_count": 10,
   "metadata": {},
   "outputs": [
    {
     "name": "stderr",
     "output_type": "stream",
     "text": [
      "/var/folders/yt/h_zrk_k931s4wj_999xrfy0m0000gq/T/ipykernel_66135/1404110826.py:9: FutureWarning: The argument 'infer_datetime_format' is deprecated and will be removed in a future version. A strict version of it is now the default, see https://pandas.pydata.org/pdeps/0004-consistent-to-datetime-parsing.html. You can safely remove this argument.\n",
      "  train_sessions = pd.read_csv(\n"
     ]
    }
   ],
   "source": [
    "if just_checking_integrity:\n",
    "     train_sessions = pd.read_csv(\n",
    "          '../dataset/processed_data/train_sessions_mapped.csv',\n",
    "          parse_dates=['date'], \n",
    "          infer_datetime_format=True,\n",
    "          nrows=rows\n",
    "          )\n",
    "else:\n",
    "     train_sessions = pd.read_csv(\n",
    "          '../dataset/processed_data/train_sessions_mapped.csv',\n",
    "          parse_dates=['date'], \n",
    "          infer_datetime_format=True\n",
    "          )"
   ]
  },
  {
   "cell_type": "code",
   "execution_count": 25,
   "metadata": {
    "_cell_guid": "3c5c850e-08c2-450c-8f13-2164141918d8",
    "_uuid": "cf07b546-3468-4c45-bac7-1d1a54021b74",
    "collapsed": false,
    "id": "pdJPGOaaXfhg",
    "jupyter": {
     "outputs_hidden": false
    }
   },
   "outputs": [
    {
     "name": "stderr",
     "output_type": "stream",
     "text": [
      "/var/folders/yt/h_zrk_k931s4wj_999xrfy0m0000gq/T/ipykernel_66135/1878657248.py:37: UserWarning: Boolean Series key will be reindexed to match DataFrame index.\n",
      "  filtered_dataframe = input_dataframe[duplication_filter]\n"
     ]
    },
    {
     "name": "stdout",
     "output_type": "stream",
     "text": [
      "completed removal\n"
     ]
    },
    {
     "data": {
      "application/json": {
       "ascii": false,
       "bar_format": null,
       "colour": null,
       "elapsed": 0.00532984733581543,
       "initial": 0,
       "n": 0,
       "ncols": null,
       "nrows": 30,
       "postfix": null,
       "prefix": "",
       "rate": null,
       "total": 1000000,
       "unit": "it",
       "unit_divisor": 1000,
       "unit_scale": false
      },
      "application/vnd.jupyter.widget-view+json": {
       "model_id": "4213bf4f299241c8ad64a6e5d9d46324",
       "version_major": 2,
       "version_minor": 0
      },
      "text/plain": [
       "  0%|          | 0/1000000 [00:00<?, ?it/s]"
      ]
     },
     "metadata": {},
     "output_type": "display_data"
    },
    {
     "name": "stderr",
     "output_type": "stream",
     "text": [
      "/var/folders/yt/h_zrk_k931s4wj_999xrfy0m0000gq/T/ipykernel_66135/1878657248.py:89: FutureWarning: Series.__getitem__ treating keys as positions is deprecated. In a future version, integer keys will always be treated as labels (consistent with DataFrame behavior). To access a value by position, use `ser.iloc[pos]`\n",
      "  x = x[0]\n"
     ]
    },
    {
     "name": "stdout",
     "output_type": "stream",
     "text": [
      "completed date features\n"
     ]
    },
    {
     "data": {
      "application/json": {
       "ascii": false,
       "bar_format": null,
       "colour": null,
       "elapsed": 0.0021462440490722656,
       "initial": 0,
       "n": 0,
       "ncols": null,
       "nrows": 30,
       "postfix": null,
       "prefix": "",
       "rate": null,
       "total": 1000000,
       "unit": "it",
       "unit_divisor": 1000,
       "unit_scale": false
      },
      "application/vnd.jupyter.widget-view+json": {
       "model_id": "202a847373a3460490018024ed51a4e2",
       "version_major": 2,
       "version_minor": 0
      },
      "text/plain": [
       "  0%|          | 0/1000000 [00:00<?, ?it/s]"
      ]
     },
     "metadata": {},
     "output_type": "display_data"
    },
    {
     "name": "stdout",
     "output_type": "stream",
     "text": [
      "completed session length\n",
      "completed special features\n"
     ]
    },
    {
     "data": {
      "application/json": {
       "ascii": false,
       "bar_format": null,
       "colour": null,
       "elapsed": 0.002187013626098633,
       "initial": 0,
       "n": 0,
       "ncols": null,
       "nrows": 30,
       "postfix": null,
       "prefix": "",
       "rate": null,
       "total": 1000000,
       "unit": "it",
       "unit_divisor": 1000,
       "unit_scale": false
      },
      "application/vnd.jupyter.widget-view+json": {
       "model_id": "54f49662faf748ca85717c72e61712f5",
       "version_major": 2,
       "version_minor": 0
      },
      "text/plain": [
       "  0%|          | 0/1000000 [00:00<?, ?it/s]"
      ]
     },
     "metadata": {},
     "output_type": "display_data"
    },
    {
     "name": "stdout",
     "output_type": "stream",
     "text": [
      "completed similarities\n"
     ]
    }
   ],
   "source": [
    "result = macro_features_generation(train_sessions)\n",
    "\n",
    "result.to_csv(\"../dataset/processed_data/macro_feats_NN.csv\",index=False)"
   ]
  },
  {
   "cell_type": "code",
   "execution_count": 26,
   "metadata": {},
   "outputs": [
    {
     "name": "stderr",
     "output_type": "stream",
     "text": [
      "/var/folders/yt/h_zrk_k931s4wj_999xrfy0m0000gq/T/ipykernel_66135/112952299.py:9: FutureWarning: The argument 'infer_datetime_format' is deprecated and will be removed in a future version. A strict version of it is now the default, see https://pandas.pydata.org/pdeps/0004-consistent-to-datetime-parsing.html. You can safely remove this argument.\n",
      "  test_leaderboard_sessions = pd.read_csv(\n"
     ]
    },
    {
     "name": "stdout",
     "output_type": "stream",
     "text": [
      "completed removal\n"
     ]
    },
    {
     "data": {
      "application/json": {
       "ascii": false,
       "bar_format": null,
       "colour": null,
       "elapsed": 0.0022699832916259766,
       "initial": 0,
       "n": 0,
       "ncols": null,
       "nrows": 30,
       "postfix": null,
       "prefix": "",
       "rate": null,
       "total": 50000,
       "unit": "it",
       "unit_divisor": 1000,
       "unit_scale": false
      },
      "application/vnd.jupyter.widget-view+json": {
       "model_id": "8ea04b4e167b4b65994b70f91e638524",
       "version_major": 2,
       "version_minor": 0
      },
      "text/plain": [
       "  0%|          | 0/50000 [00:00<?, ?it/s]"
      ]
     },
     "metadata": {},
     "output_type": "display_data"
    },
    {
     "name": "stderr",
     "output_type": "stream",
     "text": [
      "/var/folders/yt/h_zrk_k931s4wj_999xrfy0m0000gq/T/ipykernel_66135/1878657248.py:89: FutureWarning: Series.__getitem__ treating keys as positions is deprecated. In a future version, integer keys will always be treated as labels (consistent with DataFrame behavior). To access a value by position, use `ser.iloc[pos]`\n",
      "  x = x[0]\n"
     ]
    },
    {
     "name": "stdout",
     "output_type": "stream",
     "text": [
      "completed date features\n"
     ]
    },
    {
     "data": {
      "application/json": {
       "ascii": false,
       "bar_format": null,
       "colour": null,
       "elapsed": 0.0021741390228271484,
       "initial": 0,
       "n": 0,
       "ncols": null,
       "nrows": 30,
       "postfix": null,
       "prefix": "",
       "rate": null,
       "total": 50000,
       "unit": "it",
       "unit_divisor": 1000,
       "unit_scale": false
      },
      "application/vnd.jupyter.widget-view+json": {
       "model_id": "8f47dfd07660431aae4208bc89f575b3",
       "version_major": 2,
       "version_minor": 0
      },
      "text/plain": [
       "  0%|          | 0/50000 [00:00<?, ?it/s]"
      ]
     },
     "metadata": {},
     "output_type": "display_data"
    },
    {
     "name": "stdout",
     "output_type": "stream",
     "text": [
      "completed session length\n",
      "completed special features\n"
     ]
    },
    {
     "data": {
      "application/json": {
       "ascii": false,
       "bar_format": null,
       "colour": null,
       "elapsed": 0.002148151397705078,
       "initial": 0,
       "n": 0,
       "ncols": null,
       "nrows": 30,
       "postfix": null,
       "prefix": "",
       "rate": null,
       "total": 50000,
       "unit": "it",
       "unit_divisor": 1000,
       "unit_scale": false
      },
      "application/vnd.jupyter.widget-view+json": {
       "model_id": "138ffa591f044a1bb25c202ea83a9439",
       "version_major": 2,
       "version_minor": 0
      },
      "text/plain": [
       "  0%|          | 0/50000 [00:00<?, ?it/s]"
      ]
     },
     "metadata": {},
     "output_type": "display_data"
    },
    {
     "name": "stdout",
     "output_type": "stream",
     "text": [
      "completed similarities\n"
     ]
    }
   ],
   "source": [
    "if just_checking_integrity:\n",
    "     test_leaderboard_sessions = pd.read_csv(\n",
    "          '../dataset/processed_data/test_leaderboard_sessions_mapped.csv',\n",
    "          parse_dates=['date'], \n",
    "          infer_datetime_format=True,\n",
    "          nrows=test_rows\n",
    "          )\n",
    "else:\n",
    "     test_leaderboard_sessions = pd.read_csv(\n",
    "     '../dataset/processed_data/test_leaderboard_sessions_mapped.csv',\n",
    "     parse_dates=['date'], \n",
    "     infer_datetime_format=True\n",
    "     )\n",
    "\n",
    "test_leaderboard_sessions.head()\n",
    "test_leaderboard_sessions = macro_features_generation(test_leaderboard_sessions)\n",
    "test_leaderboard_sessions.to_csv(\"../dataset/processed_data/macro_feats_NN_leaderboard.csv\",index=False)"
   ]
  },
  {
   "cell_type": "code",
   "execution_count": 27,
   "metadata": {},
   "outputs": [
    {
     "data": {
      "text/html": [
       "<div>\n",
       "<style scoped>\n",
       "    .dataframe tbody tr th:only-of-type {\n",
       "        vertical-align: middle;\n",
       "    }\n",
       "\n",
       "    .dataframe tbody tr th {\n",
       "        vertical-align: top;\n",
       "    }\n",
       "\n",
       "    .dataframe thead th {\n",
       "        text-align: right;\n",
       "    }\n",
       "</style>\n",
       "<table border=\"1\" class=\"dataframe\">\n",
       "  <thead>\n",
       "    <tr style=\"text-align: right;\">\n",
       "      <th></th>\n",
       "      <th>session_id</th>\n",
       "      <th>item_id</th>\n",
       "      <th>date</th>\n",
       "      <th>date_session_starting</th>\n",
       "      <th>date_session_ending</th>\n",
       "      <th>date_hour_sin</th>\n",
       "      <th>date_hour_cos</th>\n",
       "      <th>date_day_sin</th>\n",
       "      <th>date_day_cos</th>\n",
       "      <th>date_month_sin</th>\n",
       "      <th>...</th>\n",
       "      <th>user_went_afk</th>\n",
       "      <th>is_weekend</th>\n",
       "      <th>is_hot_hour</th>\n",
       "      <th>is_night</th>\n",
       "      <th>is_christmas_time</th>\n",
       "      <th>is_black_friday</th>\n",
       "      <th>session_similarity</th>\n",
       "      <th>session_similarity_uniques</th>\n",
       "      <th>session_similarity_feats</th>\n",
       "      <th>session_similarity_feats_uniques</th>\n",
       "    </tr>\n",
       "  </thead>\n",
       "  <tbody>\n",
       "    <tr>\n",
       "      <th>0</th>\n",
       "      <td>26</td>\n",
       "      <td>[3404]</td>\n",
       "      <td>[2021-06-16 09:53:54]</td>\n",
       "      <td>2021-06-16 09:53:54</td>\n",
       "      <td>2021-06-16 09:53:54</td>\n",
       "      <td>0.526214</td>\n",
       "      <td>-0.850352</td>\n",
       "      <td>-0.207912</td>\n",
       "      <td>-0.978148</td>\n",
       "      <td>1.224647e-16</td>\n",
       "      <td>...</td>\n",
       "      <td>0.0</td>\n",
       "      <td>0</td>\n",
       "      <td>0</td>\n",
       "      <td>0</td>\n",
       "      <td>0</td>\n",
       "      <td>0</td>\n",
       "      <td>1.000000</td>\n",
       "      <td>1.000000</td>\n",
       "      <td>1.000000</td>\n",
       "      <td>1.000000</td>\n",
       "    </tr>\n",
       "    <tr>\n",
       "      <th>1</th>\n",
       "      <td>200</td>\n",
       "      <td>[3037, 3037, 1468, 887]</td>\n",
       "      <td>[2021-06-25 12:23:40, 2021-06-25 12:24:36, 202...</td>\n",
       "      <td>2021-06-25 12:23:40</td>\n",
       "      <td>2021-06-25 12:24:50</td>\n",
       "      <td>-0.100188</td>\n",
       "      <td>-0.994969</td>\n",
       "      <td>-0.866025</td>\n",
       "      <td>0.500000</td>\n",
       "      <td>1.224647e-16</td>\n",
       "      <td>...</td>\n",
       "      <td>0.0</td>\n",
       "      <td>0</td>\n",
       "      <td>0</td>\n",
       "      <td>0</td>\n",
       "      <td>0</td>\n",
       "      <td>0</td>\n",
       "      <td>0.442159</td>\n",
       "      <td>0.507654</td>\n",
       "      <td>0.482228</td>\n",
       "      <td>0.555301</td>\n",
       "    </tr>\n",
       "    <tr>\n",
       "      <th>2</th>\n",
       "      <td>205</td>\n",
       "      <td>[1484]</td>\n",
       "      <td>[2021-06-11 00:28:07]</td>\n",
       "      <td>2021-06-11 00:28:07</td>\n",
       "      <td>2021-06-11 00:28:07</td>\n",
       "      <td>0.121869</td>\n",
       "      <td>0.992546</td>\n",
       "      <td>0.743145</td>\n",
       "      <td>-0.669131</td>\n",
       "      <td>1.224647e-16</td>\n",
       "      <td>...</td>\n",
       "      <td>0.0</td>\n",
       "      <td>0</td>\n",
       "      <td>0</td>\n",
       "      <td>1</td>\n",
       "      <td>0</td>\n",
       "      <td>0</td>\n",
       "      <td>1.000000</td>\n",
       "      <td>1.000000</td>\n",
       "      <td>1.000000</td>\n",
       "      <td>1.000000</td>\n",
       "    </tr>\n",
       "    <tr>\n",
       "      <th>3</th>\n",
       "      <td>495</td>\n",
       "      <td>[1250]</td>\n",
       "      <td>[2021-06-14 22:13:06]</td>\n",
       "      <td>2021-06-14 22:13:06</td>\n",
       "      <td>2021-06-14 22:13:06</td>\n",
       "      <td>-0.450098</td>\n",
       "      <td>0.892979</td>\n",
       "      <td>0.207912</td>\n",
       "      <td>-0.978148</td>\n",
       "      <td>1.224647e-16</td>\n",
       "      <td>...</td>\n",
       "      <td>0.0</td>\n",
       "      <td>0</td>\n",
       "      <td>0</td>\n",
       "      <td>0</td>\n",
       "      <td>0</td>\n",
       "      <td>0</td>\n",
       "      <td>1.000000</td>\n",
       "      <td>1.000000</td>\n",
       "      <td>1.000000</td>\n",
       "      <td>1.000000</td>\n",
       "    </tr>\n",
       "    <tr>\n",
       "      <th>4</th>\n",
       "      <td>521</td>\n",
       "      <td>[4673]</td>\n",
       "      <td>[2021-06-19 13:50:03]</td>\n",
       "      <td>2021-06-19 13:50:03</td>\n",
       "      <td>2021-06-19 13:50:03</td>\n",
       "      <td>-0.461749</td>\n",
       "      <td>-0.887011</td>\n",
       "      <td>-0.743145</td>\n",
       "      <td>-0.669131</td>\n",
       "      <td>1.224647e-16</td>\n",
       "      <td>...</td>\n",
       "      <td>0.0</td>\n",
       "      <td>1</td>\n",
       "      <td>0</td>\n",
       "      <td>0</td>\n",
       "      <td>0</td>\n",
       "      <td>0</td>\n",
       "      <td>1.000000</td>\n",
       "      <td>1.000000</td>\n",
       "      <td>1.000000</td>\n",
       "      <td>1.000000</td>\n",
       "    </tr>\n",
       "  </tbody>\n",
       "</table>\n",
       "<p>5 rows × 37 columns</p>\n",
       "</div>"
      ],
      "text/plain": [
       "   session_id                  item_id  \\\n",
       "0          26                   [3404]   \n",
       "1         200  [3037, 3037, 1468, 887]   \n",
       "2         205                   [1484]   \n",
       "3         495                   [1250]   \n",
       "4         521                   [4673]   \n",
       "\n",
       "                                                date date_session_starting  \\\n",
       "0                              [2021-06-16 09:53:54]   2021-06-16 09:53:54   \n",
       "1  [2021-06-25 12:23:40, 2021-06-25 12:24:36, 202...   2021-06-25 12:23:40   \n",
       "2                              [2021-06-11 00:28:07]   2021-06-11 00:28:07   \n",
       "3                              [2021-06-14 22:13:06]   2021-06-14 22:13:06   \n",
       "4                              [2021-06-19 13:50:03]   2021-06-19 13:50:03   \n",
       "\n",
       "  date_session_ending  date_hour_sin  date_hour_cos  date_day_sin  \\\n",
       "0 2021-06-16 09:53:54       0.526214      -0.850352     -0.207912   \n",
       "1 2021-06-25 12:24:50      -0.100188      -0.994969     -0.866025   \n",
       "2 2021-06-11 00:28:07       0.121869       0.992546      0.743145   \n",
       "3 2021-06-14 22:13:06      -0.450098       0.892979      0.207912   \n",
       "4 2021-06-19 13:50:03      -0.461749      -0.887011     -0.743145   \n",
       "\n",
       "   date_day_cos  date_month_sin  ...  user_went_afk  is_weekend  is_hot_hour  \\\n",
       "0     -0.978148    1.224647e-16  ...            0.0           0            0   \n",
       "1      0.500000    1.224647e-16  ...            0.0           0            0   \n",
       "2     -0.669131    1.224647e-16  ...            0.0           0            0   \n",
       "3     -0.978148    1.224647e-16  ...            0.0           0            0   \n",
       "4     -0.669131    1.224647e-16  ...            0.0           1            0   \n",
       "\n",
       "   is_night  is_christmas_time  is_black_friday  session_similarity  \\\n",
       "0         0                  0                0            1.000000   \n",
       "1         0                  0                0            0.442159   \n",
       "2         1                  0                0            1.000000   \n",
       "3         0                  0                0            1.000000   \n",
       "4         0                  0                0            1.000000   \n",
       "\n",
       "   session_similarity_uniques session_similarity_feats  \\\n",
       "0                    1.000000                 1.000000   \n",
       "1                    0.507654                 0.482228   \n",
       "2                    1.000000                 1.000000   \n",
       "3                    1.000000                 1.000000   \n",
       "4                    1.000000                 1.000000   \n",
       "\n",
       "  session_similarity_feats_uniques  \n",
       "0                         1.000000  \n",
       "1                         0.555301  \n",
       "2                         1.000000  \n",
       "3                         1.000000  \n",
       "4                         1.000000  \n",
       "\n",
       "[5 rows x 37 columns]"
      ]
     },
     "execution_count": 27,
     "metadata": {},
     "output_type": "execute_result"
    }
   ],
   "source": [
    "test_leaderboard_sessions.head()"
   ]
  },
  {
   "cell_type": "code",
   "execution_count": 28,
   "metadata": {},
   "outputs": [
    {
     "name": "stderr",
     "output_type": "stream",
     "text": [
      "/var/folders/yt/h_zrk_k931s4wj_999xrfy0m0000gq/T/ipykernel_66135/3093654516.py:9: FutureWarning: The argument 'infer_datetime_format' is deprecated and will be removed in a future version. A strict version of it is now the default, see https://pandas.pydata.org/pdeps/0004-consistent-to-datetime-parsing.html. You can safely remove this argument.\n",
      "  test_final_sessions = pd.read_csv(\n"
     ]
    },
    {
     "name": "stdout",
     "output_type": "stream",
     "text": [
      "completed removal\n"
     ]
    },
    {
     "data": {
      "application/json": {
       "ascii": false,
       "bar_format": null,
       "colour": null,
       "elapsed": 0.0022318363189697266,
       "initial": 0,
       "n": 0,
       "ncols": null,
       "nrows": 30,
       "postfix": null,
       "prefix": "",
       "rate": null,
       "total": 50000,
       "unit": "it",
       "unit_divisor": 1000,
       "unit_scale": false
      },
      "application/vnd.jupyter.widget-view+json": {
       "model_id": "0d9105fb3eb249e1a457af5700567b2d",
       "version_major": 2,
       "version_minor": 0
      },
      "text/plain": [
       "  0%|          | 0/50000 [00:00<?, ?it/s]"
      ]
     },
     "metadata": {},
     "output_type": "display_data"
    },
    {
     "name": "stderr",
     "output_type": "stream",
     "text": [
      "/var/folders/yt/h_zrk_k931s4wj_999xrfy0m0000gq/T/ipykernel_66135/1878657248.py:89: FutureWarning: Series.__getitem__ treating keys as positions is deprecated. In a future version, integer keys will always be treated as labels (consistent with DataFrame behavior). To access a value by position, use `ser.iloc[pos]`\n",
      "  x = x[0]\n"
     ]
    },
    {
     "name": "stdout",
     "output_type": "stream",
     "text": [
      "completed date features\n"
     ]
    },
    {
     "data": {
      "application/json": {
       "ascii": false,
       "bar_format": null,
       "colour": null,
       "elapsed": 0.0021109580993652344,
       "initial": 0,
       "n": 0,
       "ncols": null,
       "nrows": 30,
       "postfix": null,
       "prefix": "",
       "rate": null,
       "total": 50000,
       "unit": "it",
       "unit_divisor": 1000,
       "unit_scale": false
      },
      "application/vnd.jupyter.widget-view+json": {
       "model_id": "f932dd98091a43789b3b70d96021e43b",
       "version_major": 2,
       "version_minor": 0
      },
      "text/plain": [
       "  0%|          | 0/50000 [00:00<?, ?it/s]"
      ]
     },
     "metadata": {},
     "output_type": "display_data"
    },
    {
     "name": "stdout",
     "output_type": "stream",
     "text": [
      "completed session length\n",
      "completed special features\n"
     ]
    },
    {
     "data": {
      "application/json": {
       "ascii": false,
       "bar_format": null,
       "colour": null,
       "elapsed": 0.002156972885131836,
       "initial": 0,
       "n": 0,
       "ncols": null,
       "nrows": 30,
       "postfix": null,
       "prefix": "",
       "rate": null,
       "total": 50000,
       "unit": "it",
       "unit_divisor": 1000,
       "unit_scale": false
      },
      "application/vnd.jupyter.widget-view+json": {
       "model_id": "50632d7d18274bba8c04534b7ce09c34",
       "version_major": 2,
       "version_minor": 0
      },
      "text/plain": [
       "  0%|          | 0/50000 [00:00<?, ?it/s]"
      ]
     },
     "metadata": {},
     "output_type": "display_data"
    },
    {
     "name": "stdout",
     "output_type": "stream",
     "text": [
      "completed similarities\n"
     ]
    }
   ],
   "source": [
    "if just_checking_integrity:\n",
    "     test_final_sessions = pd.read_csv(\n",
    "          '../dataset/processed_data/test_final_sessions_mapped.csv',\n",
    "          parse_dates=['date'], \n",
    "          infer_datetime_format=True,\n",
    "          nrows=test_rows\n",
    "          )\n",
    "else:\n",
    "     test_final_sessions = pd.read_csv(\n",
    "          '../dataset/processed_data/test_final_sessions_mapped.csv',\n",
    "          parse_dates=['date'], \n",
    "          infer_datetime_format=True\n",
    "          )\n",
    "test_final_sessions.head()\n",
    "test_final_sessions = macro_features_generation(test_final_sessions)\n",
    "test_final_sessions.to_csv(\"../dataset/processed_data/macro_feats_NN_final.csv\",index=False)"
   ]
  },
  {
   "cell_type": "code",
   "execution_count": 29,
   "metadata": {},
   "outputs": [
    {
     "data": {
      "text/html": [
       "<div>\n",
       "<style scoped>\n",
       "    .dataframe tbody tr th:only-of-type {\n",
       "        vertical-align: middle;\n",
       "    }\n",
       "\n",
       "    .dataframe tbody tr th {\n",
       "        vertical-align: top;\n",
       "    }\n",
       "\n",
       "    .dataframe thead th {\n",
       "        text-align: right;\n",
       "    }\n",
       "</style>\n",
       "<table border=\"1\" class=\"dataframe\">\n",
       "  <thead>\n",
       "    <tr style=\"text-align: right;\">\n",
       "      <th></th>\n",
       "      <th>session_id</th>\n",
       "      <th>item_id</th>\n",
       "      <th>date</th>\n",
       "      <th>date_session_starting</th>\n",
       "      <th>date_session_ending</th>\n",
       "      <th>date_hour_sin</th>\n",
       "      <th>date_hour_cos</th>\n",
       "      <th>date_day_sin</th>\n",
       "      <th>date_day_cos</th>\n",
       "      <th>date_month_sin</th>\n",
       "      <th>...</th>\n",
       "      <th>user_went_afk</th>\n",
       "      <th>is_weekend</th>\n",
       "      <th>is_hot_hour</th>\n",
       "      <th>is_night</th>\n",
       "      <th>is_christmas_time</th>\n",
       "      <th>is_black_friday</th>\n",
       "      <th>session_similarity</th>\n",
       "      <th>session_similarity_uniques</th>\n",
       "      <th>session_similarity_feats</th>\n",
       "      <th>session_similarity_feats_uniques</th>\n",
       "    </tr>\n",
       "  </thead>\n",
       "  <tbody>\n",
       "    <tr>\n",
       "      <th>0</th>\n",
       "      <td>61</td>\n",
       "      <td>[4785]</td>\n",
       "      <td>[2021-06-01 08:12:39]</td>\n",
       "      <td>2021-06-01 08:12:39</td>\n",
       "      <td>2021-06-01 08:12:39</td>\n",
       "      <td>0.838671</td>\n",
       "      <td>-0.544639</td>\n",
       "      <td>0.207912</td>\n",
       "      <td>0.978148</td>\n",
       "      <td>1.224647e-16</td>\n",
       "      <td>...</td>\n",
       "      <td>0.0</td>\n",
       "      <td>0</td>\n",
       "      <td>0</td>\n",
       "      <td>0</td>\n",
       "      <td>0</td>\n",
       "      <td>0</td>\n",
       "      <td>1.000000</td>\n",
       "      <td>1.000000</td>\n",
       "      <td>1.000000</td>\n",
       "      <td>1.000000</td>\n",
       "    </tr>\n",
       "    <tr>\n",
       "      <th>1</th>\n",
       "      <td>96</td>\n",
       "      <td>[2107, 3251, 884, 89, 1252]</td>\n",
       "      <td>[2021-06-19 17:48:05, 2021-06-19 17:49:08, 202...</td>\n",
       "      <td>2021-06-19 17:48:05</td>\n",
       "      <td>2021-06-19 17:56:21</td>\n",
       "      <td>-0.998630</td>\n",
       "      <td>-0.052336</td>\n",
       "      <td>-0.743145</td>\n",
       "      <td>-0.669131</td>\n",
       "      <td>1.224647e-16</td>\n",
       "      <td>...</td>\n",
       "      <td>0.0</td>\n",
       "      <td>1</td>\n",
       "      <td>0</td>\n",
       "      <td>0</td>\n",
       "      <td>0</td>\n",
       "      <td>0</td>\n",
       "      <td>0.314316</td>\n",
       "      <td>0.314316</td>\n",
       "      <td>0.373524</td>\n",
       "      <td>0.373524</td>\n",
       "    </tr>\n",
       "    <tr>\n",
       "      <th>2</th>\n",
       "      <td>185</td>\n",
       "      <td>[3133, 3767, 3133, 929]</td>\n",
       "      <td>[2021-06-07 15:53:21, 2021-06-07 15:53:53, 202...</td>\n",
       "      <td>2021-06-07 15:53:21</td>\n",
       "      <td>2021-06-07 15:55:18</td>\n",
       "      <td>-0.850352</td>\n",
       "      <td>-0.526214</td>\n",
       "      <td>0.994522</td>\n",
       "      <td>0.104528</td>\n",
       "      <td>1.224647e-16</td>\n",
       "      <td>...</td>\n",
       "      <td>0.0</td>\n",
       "      <td>0</td>\n",
       "      <td>0</td>\n",
       "      <td>0</td>\n",
       "      <td>0</td>\n",
       "      <td>0</td>\n",
       "      <td>0.450285</td>\n",
       "      <td>0.509658</td>\n",
       "      <td>0.483208</td>\n",
       "      <td>0.555911</td>\n",
       "    </tr>\n",
       "    <tr>\n",
       "      <th>3</th>\n",
       "      <td>224</td>\n",
       "      <td>[4363, 2147]</td>\n",
       "      <td>[2021-06-14 10:31:39, 2021-06-14 16:03:12]</td>\n",
       "      <td>2021-06-14 10:31:39</td>\n",
       "      <td>2021-06-14 16:03:12</td>\n",
       "      <td>0.378649</td>\n",
       "      <td>-0.925541</td>\n",
       "      <td>0.207912</td>\n",
       "      <td>-0.978148</td>\n",
       "      <td>1.224647e-16</td>\n",
       "      <td>...</td>\n",
       "      <td>1.0</td>\n",
       "      <td>0</td>\n",
       "      <td>0</td>\n",
       "      <td>0</td>\n",
       "      <td>0</td>\n",
       "      <td>0</td>\n",
       "      <td>0.543579</td>\n",
       "      <td>0.543579</td>\n",
       "      <td>0.597972</td>\n",
       "      <td>0.597972</td>\n",
       "    </tr>\n",
       "    <tr>\n",
       "      <th>4</th>\n",
       "      <td>285</td>\n",
       "      <td>[2662]</td>\n",
       "      <td>[2021-06-29 15:33:39]</td>\n",
       "      <td>2021-06-29 15:33:39</td>\n",
       "      <td>2021-06-29 15:33:39</td>\n",
       "      <td>-0.801254</td>\n",
       "      <td>-0.598325</td>\n",
       "      <td>-0.207912</td>\n",
       "      <td>0.978148</td>\n",
       "      <td>1.224647e-16</td>\n",
       "      <td>...</td>\n",
       "      <td>0.0</td>\n",
       "      <td>0</td>\n",
       "      <td>0</td>\n",
       "      <td>0</td>\n",
       "      <td>0</td>\n",
       "      <td>0</td>\n",
       "      <td>1.000000</td>\n",
       "      <td>1.000000</td>\n",
       "      <td>1.000000</td>\n",
       "      <td>1.000000</td>\n",
       "    </tr>\n",
       "  </tbody>\n",
       "</table>\n",
       "<p>5 rows × 37 columns</p>\n",
       "</div>"
      ],
      "text/plain": [
       "   session_id                      item_id  \\\n",
       "0          61                       [4785]   \n",
       "1          96  [2107, 3251, 884, 89, 1252]   \n",
       "2         185      [3133, 3767, 3133, 929]   \n",
       "3         224                 [4363, 2147]   \n",
       "4         285                       [2662]   \n",
       "\n",
       "                                                date date_session_starting  \\\n",
       "0                              [2021-06-01 08:12:39]   2021-06-01 08:12:39   \n",
       "1  [2021-06-19 17:48:05, 2021-06-19 17:49:08, 202...   2021-06-19 17:48:05   \n",
       "2  [2021-06-07 15:53:21, 2021-06-07 15:53:53, 202...   2021-06-07 15:53:21   \n",
       "3         [2021-06-14 10:31:39, 2021-06-14 16:03:12]   2021-06-14 10:31:39   \n",
       "4                              [2021-06-29 15:33:39]   2021-06-29 15:33:39   \n",
       "\n",
       "  date_session_ending  date_hour_sin  date_hour_cos  date_day_sin  \\\n",
       "0 2021-06-01 08:12:39       0.838671      -0.544639      0.207912   \n",
       "1 2021-06-19 17:56:21      -0.998630      -0.052336     -0.743145   \n",
       "2 2021-06-07 15:55:18      -0.850352      -0.526214      0.994522   \n",
       "3 2021-06-14 16:03:12       0.378649      -0.925541      0.207912   \n",
       "4 2021-06-29 15:33:39      -0.801254      -0.598325     -0.207912   \n",
       "\n",
       "   date_day_cos  date_month_sin  ...  user_went_afk  is_weekend  is_hot_hour  \\\n",
       "0      0.978148    1.224647e-16  ...            0.0           0            0   \n",
       "1     -0.669131    1.224647e-16  ...            0.0           1            0   \n",
       "2      0.104528    1.224647e-16  ...            0.0           0            0   \n",
       "3     -0.978148    1.224647e-16  ...            1.0           0            0   \n",
       "4      0.978148    1.224647e-16  ...            0.0           0            0   \n",
       "\n",
       "   is_night  is_christmas_time  is_black_friday  session_similarity  \\\n",
       "0         0                  0                0            1.000000   \n",
       "1         0                  0                0            0.314316   \n",
       "2         0                  0                0            0.450285   \n",
       "3         0                  0                0            0.543579   \n",
       "4         0                  0                0            1.000000   \n",
       "\n",
       "   session_similarity_uniques session_similarity_feats  \\\n",
       "0                    1.000000                 1.000000   \n",
       "1                    0.314316                 0.373524   \n",
       "2                    0.509658                 0.483208   \n",
       "3                    0.543579                 0.597972   \n",
       "4                    1.000000                 1.000000   \n",
       "\n",
       "  session_similarity_feats_uniques  \n",
       "0                         1.000000  \n",
       "1                         0.373524  \n",
       "2                         0.555911  \n",
       "3                         0.597972  \n",
       "4                         1.000000  \n",
       "\n",
       "[5 rows x 37 columns]"
      ]
     },
     "execution_count": 29,
     "metadata": {},
     "output_type": "execute_result"
    }
   ],
   "source": [
    "test_final_sessions.head()"
   ]
  },
  {
   "cell_type": "code",
   "execution_count": null,
   "metadata": {},
   "outputs": [],
   "source": []
  }
 ],
 "metadata": {
  "kernelspec": {
   "display_name": "Python 3 (ipykernel)",
   "language": "python",
   "name": "python3"
  },
  "language_info": {
   "codemirror_mode": {
    "name": "ipython",
    "version": 3
   },
   "file_extension": ".py",
   "mimetype": "text/x-python",
   "name": "python",
   "nbconvert_exporter": "python",
   "pygments_lexer": "ipython3",
   "version": "3.11.5"
  },
  "vscode": {
   "interpreter": {
    "hash": "61f38fddaed46afda7c40a5798d4631266e18af1d335aa6f772dc3ed9b8ab549"
   }
  }
 },
 "nbformat": 4,
 "nbformat_minor": 4
}
