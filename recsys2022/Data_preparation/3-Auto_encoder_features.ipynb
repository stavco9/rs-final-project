{
  "cells": [
    {
      "cell_type": "code",
      "execution_count": 1,
      "metadata": {},
      "outputs": [],
      "source": [
        "just_checking_integrity=False"
      ]
    },
    {
      "cell_type": "code",
      "execution_count": 2,
      "metadata": {
        "id": "owDtEs6MsTc9"
      },
      "outputs": [],
      "source": [
        "import pandas as pd\n",
        "import numpy as np\n",
        "import tensorflow as tf\n",
        "from tensorflow.keras import layers\n",
        "from sklearn.model_selection import train_test_split"
      ]
    },
    {
      "cell_type": "code",
      "execution_count": 3,
      "metadata": {
        "colab": {
          "base_uri": "https://localhost:8080/",
          "height": 206
        },
        "id": "1JyKbD7LtKP-",
        "outputId": "8d4df8b0-4940-4479-9089-0da50588fd15"
      },
      "outputs": [
        {
          "data": {
            "text/html": [
              "<div>\n",
              "<style scoped>\n",
              "    .dataframe tbody tr th:only-of-type {\n",
              "        vertical-align: middle;\n",
              "    }\n",
              "\n",
              "    .dataframe tbody tr th {\n",
              "        vertical-align: top;\n",
              "    }\n",
              "\n",
              "    .dataframe thead th {\n",
              "        text-align: right;\n",
              "    }\n",
              "</style>\n",
              "<table border=\"1\" class=\"dataframe\">\n",
              "  <thead>\n",
              "    <tr style=\"text-align: right;\">\n",
              "      <th></th>\n",
              "      <th>item_id</th>\n",
              "      <th>feature_idx</th>\n",
              "    </tr>\n",
              "  </thead>\n",
              "  <tbody>\n",
              "    <tr>\n",
              "      <th>0</th>\n",
              "      <td>19021</td>\n",
              "      <td>0</td>\n",
              "    </tr>\n",
              "    <tr>\n",
              "      <th>1</th>\n",
              "      <td>19021</td>\n",
              "      <td>22</td>\n",
              "    </tr>\n",
              "    <tr>\n",
              "      <th>2</th>\n",
              "      <td>19021</td>\n",
              "      <td>15</td>\n",
              "    </tr>\n",
              "    <tr>\n",
              "      <th>3</th>\n",
              "      <td>19021</td>\n",
              "      <td>446</td>\n",
              "    </tr>\n",
              "    <tr>\n",
              "      <th>4</th>\n",
              "      <td>19021</td>\n",
              "      <td>1</td>\n",
              "    </tr>\n",
              "  </tbody>\n",
              "</table>\n",
              "</div>"
            ],
            "text/plain": [
              "   item_id  feature_idx\n",
              "0    19021            0\n",
              "1    19021           22\n",
              "2    19021           15\n",
              "3    19021          446\n",
              "4    19021            1"
            ]
          },
          "execution_count": 3,
          "metadata": {},
          "output_type": "execute_result"
        }
      ],
      "source": [
        "items_features = pd.read_csv('../dataset/processed_data/simplified_features_and_categories_30.csv')\n",
        "items_features.head()"
      ]
    },
    {
      "cell_type": "code",
      "execution_count": 4,
      "metadata": {
        "colab": {
          "base_uri": "https://localhost:8080/"
        },
        "id": "0L-2_mkypZIT",
        "outputId": "7e46d3bd-d557-4f21-8550-449e5bbecff5"
      },
      "outputs": [
        {
          "data": {
            "text/plain": [
              "23691"
            ]
          },
          "execution_count": 4,
          "metadata": {},
          "output_type": "execute_result"
        }
      ],
      "source": [
        "items_features['item_id'].max()"
      ]
    },
    {
      "cell_type": "code",
      "execution_count": 5,
      "metadata": {
        "id": "NhWZfcj7z3T4"
      },
      "outputs": [],
      "source": [
        "dataset = np.zeros(\n",
        "    (items_features['item_id'].max()+1, items_features['feature_idx'].max()+1)\n",
        "    )\n",
        "dataset[(items_features['item_id'], items_features['feature_idx'])] = 1\n",
        "\n",
        "dataset\n",
        "train_dataset=dataset[1:,:]"
      ]
    },
    {
      "cell_type": "code",
      "execution_count": 6,
      "metadata": {
        "id": "ZO-qIdyclm-l"
      },
      "outputs": [],
      "source": [
        "from sklearn.model_selection import train_test_split\n",
        "train,test=train_test_split(train_dataset,test_size=0.2,random_state=941116)"
      ]
    },
    {
      "cell_type": "code",
      "execution_count": 7,
      "metadata": {
        "colab": {
          "base_uri": "https://localhost:8080/"
        },
        "id": "gmqXJ3zDB7b0",
        "outputId": "e124f74b-f7b9-4570-db1c-7302f1885980"
      },
      "outputs": [
        {
          "data": {
            "text/plain": [
              "(23692, 636)"
            ]
          },
          "execution_count": 7,
          "metadata": {},
          "output_type": "execute_result"
        }
      ],
      "source": [
        "dataset.shape"
      ]
    },
    {
      "cell_type": "code",
      "execution_count": 8,
      "metadata": {
        "colab": {
          "base_uri": "https://localhost:8080/"
        },
        "id": "poeMvbnyl11j",
        "outputId": "9a7a99d5-d7a7-4041-cb74-956e4218f774"
      },
      "outputs": [
        {
          "data": {
            "text/plain": [
              "(18952, 636)"
            ]
          },
          "execution_count": 8,
          "metadata": {},
          "output_type": "execute_result"
        }
      ],
      "source": [
        "train.shape"
      ]
    },
    {
      "cell_type": "code",
      "execution_count": 9,
      "metadata": {
        "colab": {
          "base_uri": "https://localhost:8080/"
        },
        "id": "yJzyRil8GCth",
        "outputId": "a11dcaab-c116-470f-ed63-d425eeac9ce2"
      },
      "outputs": [
        {
          "data": {
            "text/plain": [
              "(4739, 636)"
            ]
          },
          "execution_count": 9,
          "metadata": {},
          "output_type": "execute_result"
        }
      ],
      "source": [
        "test.shape"
      ]
    },
    {
      "cell_type": "markdown",
      "metadata": {
        "id": "d3nCfuxMKi8X"
      },
      "source": [
        "# Autoencoder"
      ]
    },
    {
      "cell_type": "code",
      "execution_count": 10,
      "metadata": {
        "id": "1RjrcwqVKkvm"
      },
      "outputs": [],
      "source": [
        "latent_dimension = 64\n",
        "starting_dimension = 512\n",
        "\n",
        "inputs = layers.Input(int(items_features['feature_idx'].max()+1))\n",
        "\n",
        "x = inputs \n",
        "dimension = starting_dimension\n",
        "\n",
        "while(dimension != latent_dimension):\n",
        "    #x = layers.BatchNormalization()(x)\n",
        "    x = layers.Dense(units=dimension, activation='gelu',activity_regularizer=tf.keras.regularizers.L1L2(l1=1e-5,l2=1e-5))(x)\n",
        "    x = layers.Dropout(0.1)(x)\n",
        "\n",
        "    dimension = dimension//2\n",
        "\n",
        "x = layers.Dense(units=dimension,activation=\"tanh\",activity_regularizer=tf.keras.regularizers.L1L2(l1=5e-5,l2=4e-4))(x)\n",
        "outputs = x\n",
        "encoder = tf.keras.Model(inputs=inputs, outputs=outputs, name='encoder')"
      ]
    },
    {
      "cell_type": "code",
      "execution_count": 11,
      "metadata": {
        "id": "ZBxWYv-JL06x"
      },
      "outputs": [],
      "source": [
        "max_width = 1024\n",
        "ending_dimension = items_features['feature_idx'].max()+1\n",
        "\n",
        "inputs = layers.Input(latent_dimension)\n",
        "\n",
        "x = inputs \n",
        "dimension = latent_dimension\n",
        "\n",
        "x = layers.Dense(units=256, activation='gelu',activity_regularizer=tf.keras.regularizers.L1L2(l1=1e-5,l2=1e-5))(x)\n",
        "x = layers.Dropout(0.1)(x)\n",
        "x = layers.Dense(units=512, activation='gelu',activity_regularizer=tf.keras.regularizers.L1L2(l1=1e-5,l2=1e-5))(x)\n",
        "x = layers.Dropout(0.2)(x)\n",
        "    \n",
        "\n",
        "x = layers.Dense(units=ending_dimension,activation=\"sigmoid\")(x)\n",
        "outputs = x\n",
        "\n",
        "decoder = tf.keras.Model(inputs=inputs, outputs=outputs, name='decoder')\n",
        "\n",
        "#decoder.summary()"
      ]
    },
    {
      "cell_type": "code",
      "execution_count": 12,
      "metadata": {
        "id": "XoCB5g0EL7sI"
      },
      "outputs": [
        {
          "name": "stdout",
          "output_type": "stream",
          "text": [
            "Model: \"auto_encoder\"\n",
            "_________________________________________________________________\n",
            " Layer (type)                Output Shape              Param #   \n",
            "=================================================================\n",
            " input_1 (InputLayer)        [(None, 636)]             0         \n",
            "                                                                 \n",
            " dense (Dense)               (None, 512)               326144    \n",
            "                                                                 \n",
            " dropout (Dropout)           (None, 512)               0         \n",
            "                                                                 \n",
            " dense_1 (Dense)             (None, 256)               131328    \n",
            "                                                                 \n",
            " dropout_1 (Dropout)         (None, 256)               0         \n",
            "                                                                 \n",
            " dense_2 (Dense)             (None, 128)               32896     \n",
            "                                                                 \n",
            " dropout_2 (Dropout)         (None, 128)               0         \n",
            "                                                                 \n",
            " dense_3 (Dense)             (None, 64)                8256      \n",
            "                                                                 \n",
            " decoder (Functional)        (None, 636)               474492    \n",
            "                                                                 \n",
            "=================================================================\n",
            "Total params: 973,116\n",
            "Trainable params: 973,116\n",
            "Non-trainable params: 0\n",
            "_________________________________________________________________\n"
          ]
        }
      ],
      "source": [
        "ae = tf.keras.Model(inputs=encoder.inputs, outputs=decoder(encoder.outputs), name='auto_encoder')\n",
        "ae.summary()"
      ]
    },
    {
      "cell_type": "code",
      "execution_count": 13,
      "metadata": {
        "id": "z0LDKqMkMOtK"
      },
      "outputs": [],
      "source": [
        "def custom_loss(x_true,x_pred):\n",
        "    return tf.keras.losses.cosine_similarity(x_true,x_pred)+tf.keras.losses.mean_squared_error(x_true,x_pred)#"
      ]
    },
    {
      "cell_type": "code",
      "execution_count": 14,
      "metadata": {
        "id": "MP0KJxaGMNuZ"
      },
      "outputs": [],
      "source": [
        "ae.compile(\n",
        "    optimizer=tf.keras.optimizers.Adamax(learning_rate=0.006), \n",
        "    loss=custom_loss,\n",
        "    metrics=[tf.keras.metrics.CosineSimilarity(),tf.keras.metrics.MeanAbsoluteError()]\n",
        "    )"
      ]
    },
    {
      "cell_type": "markdown",
      "metadata": {
        "id": "YrLisRiO73WY"
      },
      "source": [
        "# Training"
      ]
    },
    {
      "cell_type": "code",
      "execution_count": 15,
      "metadata": {
        "colab": {
          "base_uri": "https://localhost:8080/"
        },
        "id": "k66RodSl71Ya",
        "outputId": "552b3658-298f-41a7-c1c9-530461918164"
      },
      "outputs": [
        {
          "name": "stdout",
          "output_type": "stream",
          "text": [
            "Epoch 1/5\n",
            "297/297 [==============================] - 5s 15ms/step - loss: -0.7573 - cosine_similarity: 0.7939 - mean_absolute_error: 0.0492 - val_loss: -0.8411 - val_cosine_similarity: 0.8653 - val_mean_absolute_error: 0.0339 - lr: 0.0060\n",
            "Epoch 2/5\n",
            "297/297 [==============================] - 4s 14ms/step - loss: -0.8517 - cosine_similarity: 0.8746 - mean_absolute_error: 0.0304 - val_loss: -0.8697 - val_cosine_similarity: 0.8903 - val_mean_absolute_error: 0.0275 - lr: 0.0060\n",
            "Epoch 3/5\n",
            "297/297 [==============================] - 4s 13ms/step - loss: -0.8711 - cosine_similarity: 0.8915 - mean_absolute_error: 0.0266 - val_loss: -0.8868 - val_cosine_similarity: 0.9052 - val_mean_absolute_error: 0.0240 - lr: 0.0060\n",
            "Epoch 4/5\n",
            "297/297 [==============================] - 4s 13ms/step - loss: -0.8828 - cosine_similarity: 0.9017 - mean_absolute_error: 0.0242 - val_loss: -0.8969 - val_cosine_similarity: 0.9143 - val_mean_absolute_error: 0.0212 - lr: 0.0060\n",
            "Epoch 5/5\n",
            "297/297 [==============================] - 4s 12ms/step - loss: -0.8921 - cosine_similarity: 0.9098 - mean_absolute_error: 0.0224 - val_loss: -0.9069 - val_cosine_similarity: 0.9228 - val_mean_absolute_error: 0.0196 - lr: 0.0060\n"
          ]
        },
        {
          "data": {
            "text/plain": [
              "<keras.callbacks.History at 0x1a7b2a93388>"
            ]
          },
          "execution_count": 15,
          "metadata": {},
          "output_type": "execute_result"
        }
      ],
      "source": [
        "ae.fit(\n",
        "    train,\n",
        "    train, \n",
        "    batch_size=64,\n",
        "    validation_data=(test,test),\n",
        "    epochs=5 if just_checking_integrity else 200,\n",
        "    shuffle=True,\n",
        "    callbacks=[\n",
        "            tf.keras.callbacks.EarlyStopping(\n",
        "                monitor='cosine_similarity',\n",
        "                patience=10,\n",
        "                restore_best_weights=True,\n",
        "                mode=\"max\"\n",
        "            ),\n",
        "            tf.keras.callbacks.ReduceLROnPlateau(\n",
        "                monitor='val_cosine_similarity',\n",
        "                factor=0.7,\n",
        "                patience=2,\n",
        "                min_lr=5e-5,\n",
        "                mode=\"max\",\n",
        "                min_delta=0.0001,\n",
        "            )\n",
        "        ]\n",
        "    )"
      ]
    },
    {
      "cell_type": "code",
      "execution_count": 16,
      "metadata": {
        "id": "Tg3gvuN8mpzC"
      },
      "outputs": [],
      "source": [
        "temp=encoder(dataset)"
      ]
    },
    {
      "cell_type": "code",
      "execution_count": 17,
      "metadata": {
        "colab": {
          "base_uri": "https://localhost:8080/"
        },
        "id": "HZTvwE1TLWOG",
        "outputId": "aa30495d-1a9c-4535-bd99-9d6b86031c75"
      },
      "outputs": [
        {
          "data": {
            "text/plain": [
              "TensorShape([23692, 64])"
            ]
          },
          "execution_count": 17,
          "metadata": {},
          "output_type": "execute_result"
        }
      ],
      "source": [
        "temp.shape"
      ]
    },
    {
      "cell_type": "code",
      "execution_count": 18,
      "metadata": {
        "id": "MDa2sbTaROWr"
      },
      "outputs": [
        {
          "data": {
            "text/plain": [
              "<tf.Tensor: shape=(23692, 64), dtype=float32, numpy=\n",
              "array([[ 0.04906746, -0.21834542, -0.25655776, ...,  0.2587252 ,\n",
              "         0.09761397, -0.01867121],\n",
              "       [-0.280737  ,  0.13148834, -0.06120443, ..., -0.07846992,\n",
              "         0.3164716 , -0.01137633],\n",
              "       [-0.00630809, -0.09798437, -0.02425479, ..., -0.09876233,\n",
              "        -0.00209789, -0.02507786],\n",
              "       ...,\n",
              "       [ 0.08292564, -0.16183783,  0.04819235, ..., -0.26147634,\n",
              "        -0.190904  ,  0.00745891],\n",
              "       [ 0.26784998, -0.19288352,  0.13300815, ..., -0.03752139,\n",
              "        -0.04391786,  0.09552455],\n",
              "       [ 0.21719489,  0.03545947, -0.23529792, ..., -0.04552669,\n",
              "        -0.25844973,  0.02934126]], dtype=float32)>"
            ]
          },
          "execution_count": 18,
          "metadata": {},
          "output_type": "execute_result"
        }
      ],
      "source": [
        "temp"
      ]
    },
    {
      "cell_type": "code",
      "execution_count": 19,
      "metadata": {
        "colab": {
          "base_uri": "https://localhost:8080/"
        },
        "id": "n-ig2ac3nwSt",
        "outputId": "7b1e3aff-f035-40a2-f991-58bb70faa83e"
      },
      "outputs": [
        {
          "data": {
            "text/plain": [
              "(4.62309, -5.3944826, 1.3816111)"
            ]
          },
          "execution_count": 19,
          "metadata": {},
          "output_type": "execute_result"
        }
      ],
      "source": [
        "tf.reduce_sum(temp,axis=1).numpy().max(),tf.reduce_sum(temp,axis=1).numpy().min(),tf.reduce_sum(temp,axis=1).numpy().std()"
      ]
    },
    {
      "cell_type": "code",
      "execution_count": 20,
      "metadata": {
        "id": "yb0eE4AX8YsR"
      },
      "outputs": [],
      "source": [
        "np.save('../dataset/processed_data/compressed_features', encoder(dataset))"
      ]
    }
  ],
  "metadata": {
    "colab": {
      "collapsed_sections": [
        "N4VfhKeUsWxY",
        "HJzIzAFy198k",
        "d3nCfuxMKi8X"
      ],
      "name": "Copia di Recsys_VAE.ipynb",
      "provenance": []
    },
    "kernelspec": {
      "display_name": "Python 3.7.0 ('sub_env')",
      "language": "python",
      "name": "python3"
    },
    "language_info": {
      "codemirror_mode": {
        "name": "ipython",
        "version": 3
      },
      "file_extension": ".py",
      "mimetype": "text/x-python",
      "name": "python",
      "nbconvert_exporter": "python",
      "pygments_lexer": "ipython3",
      "version": "3.7.13"
    },
    "vscode": {
      "interpreter": {
        "hash": "61f38fddaed46afda7c40a5798d4631266e18af1d335aa6f772dc3ed9b8ab549"
      }
    }
  },
  "nbformat": 4,
  "nbformat_minor": 0
}
