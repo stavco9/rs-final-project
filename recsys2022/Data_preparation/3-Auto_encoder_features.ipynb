{
 "cells": [
  {
   "cell_type": "code",
   "execution_count": 1,
   "metadata": {},
   "outputs": [],
   "source": [
    "just_checking_integrity=False"
   ]
  },
  {
   "cell_type": "code",
   "execution_count": 2,
   "metadata": {
    "id": "owDtEs6MsTc9"
   },
   "outputs": [],
   "source": [
    "import pandas as pd\n",
    "import numpy as np\n",
    "import tensorflow as tf\n",
    "from tensorflow.keras import layers\n",
    "from sklearn.model_selection import train_test_split"
   ]
  },
  {
   "cell_type": "code",
   "execution_count": 3,
   "metadata": {
    "colab": {
     "base_uri": "https://localhost:8080/",
     "height": 206
    },
    "id": "1JyKbD7LtKP-",
    "outputId": "8d4df8b0-4940-4479-9089-0da50588fd15"
   },
   "outputs": [
    {
     "data": {
      "text/html": [
       "<div>\n",
       "<style scoped>\n",
       "    .dataframe tbody tr th:only-of-type {\n",
       "        vertical-align: middle;\n",
       "    }\n",
       "\n",
       "    .dataframe tbody tr th {\n",
       "        vertical-align: top;\n",
       "    }\n",
       "\n",
       "    .dataframe thead th {\n",
       "        text-align: right;\n",
       "    }\n",
       "</style>\n",
       "<table border=\"1\" class=\"dataframe\">\n",
       "  <thead>\n",
       "    <tr style=\"text-align: right;\">\n",
       "      <th></th>\n",
       "      <th>item_id</th>\n",
       "      <th>feature_idx</th>\n",
       "    </tr>\n",
       "  </thead>\n",
       "  <tbody>\n",
       "    <tr>\n",
       "      <th>0</th>\n",
       "      <td>19021</td>\n",
       "      <td>0</td>\n",
       "    </tr>\n",
       "    <tr>\n",
       "      <th>1</th>\n",
       "      <td>19021</td>\n",
       "      <td>22</td>\n",
       "    </tr>\n",
       "    <tr>\n",
       "      <th>2</th>\n",
       "      <td>19021</td>\n",
       "      <td>15</td>\n",
       "    </tr>\n",
       "    <tr>\n",
       "      <th>3</th>\n",
       "      <td>19021</td>\n",
       "      <td>446</td>\n",
       "    </tr>\n",
       "    <tr>\n",
       "      <th>4</th>\n",
       "      <td>19021</td>\n",
       "      <td>1</td>\n",
       "    </tr>\n",
       "  </tbody>\n",
       "</table>\n",
       "</div>"
      ],
      "text/plain": [
       "   item_id  feature_idx\n",
       "0    19021            0\n",
       "1    19021           22\n",
       "2    19021           15\n",
       "3    19021          446\n",
       "4    19021            1"
      ]
     },
     "execution_count": 3,
     "metadata": {},
     "output_type": "execute_result"
    }
   ],
   "source": [
    "items_features = pd.read_csv('../dataset/processed_data/simplified_features_and_categories_30.csv')\n",
    "items_features.head()"
   ]
  },
  {
   "cell_type": "code",
   "execution_count": 4,
   "metadata": {
    "colab": {
     "base_uri": "https://localhost:8080/"
    },
    "id": "0L-2_mkypZIT",
    "outputId": "7e46d3bd-d557-4f21-8550-449e5bbecff5"
   },
   "outputs": [
    {
     "data": {
      "text/plain": [
       "23691"
      ]
     },
     "execution_count": 4,
     "metadata": {},
     "output_type": "execute_result"
    }
   ],
   "source": [
    "items_features['item_id'].max()"
   ]
  },
  {
   "cell_type": "code",
   "execution_count": 5,
   "metadata": {
    "id": "NhWZfcj7z3T4"
   },
   "outputs": [],
   "source": [
    "dataset = np.zeros(\n",
    "    (items_features['item_id'].max()+1, items_features['feature_idx'].max()+1)\n",
    "    )\n",
    "dataset[(items_features['item_id'], items_features['feature_idx'])] = 1\n",
    "\n",
    "dataset\n",
    "train_dataset=dataset[1:,:]"
   ]
  },
  {
   "cell_type": "code",
   "execution_count": 6,
   "metadata": {
    "id": "ZO-qIdyclm-l"
   },
   "outputs": [],
   "source": [
    "from sklearn.model_selection import train_test_split\n",
    "train,test=train_test_split(train_dataset,test_size=0.2,random_state=941116)"
   ]
  },
  {
   "cell_type": "code",
   "execution_count": 7,
   "metadata": {
    "colab": {
     "base_uri": "https://localhost:8080/"
    },
    "id": "gmqXJ3zDB7b0",
    "outputId": "e124f74b-f7b9-4570-db1c-7302f1885980"
   },
   "outputs": [
    {
     "data": {
      "text/plain": [
       "(23692, 636)"
      ]
     },
     "execution_count": 7,
     "metadata": {},
     "output_type": "execute_result"
    }
   ],
   "source": [
    "dataset.shape"
   ]
  },
  {
   "cell_type": "code",
   "execution_count": 8,
   "metadata": {
    "colab": {
     "base_uri": "https://localhost:8080/"
    },
    "id": "poeMvbnyl11j",
    "outputId": "9a7a99d5-d7a7-4041-cb74-956e4218f774"
   },
   "outputs": [
    {
     "data": {
      "text/plain": [
       "(18952, 636)"
      ]
     },
     "execution_count": 8,
     "metadata": {},
     "output_type": "execute_result"
    }
   ],
   "source": [
    "train.shape"
   ]
  },
  {
   "cell_type": "code",
   "execution_count": 9,
   "metadata": {
    "colab": {
     "base_uri": "https://localhost:8080/"
    },
    "id": "yJzyRil8GCth",
    "outputId": "a11dcaab-c116-470f-ed63-d425eeac9ce2"
   },
   "outputs": [
    {
     "data": {
      "text/plain": [
       "(4739, 636)"
      ]
     },
     "execution_count": 9,
     "metadata": {},
     "output_type": "execute_result"
    }
   ],
   "source": [
    "test.shape"
   ]
  },
  {
   "cell_type": "markdown",
   "metadata": {
    "id": "d3nCfuxMKi8X"
   },
   "source": [
    "# Autoencoder"
   ]
  },
  {
   "cell_type": "code",
   "execution_count": 10,
   "metadata": {
    "id": "1RjrcwqVKkvm"
   },
   "outputs": [],
   "source": [
    "latent_dimension = 64\n",
    "starting_dimension = 512\n",
    "\n",
    "inputs = layers.Input(int(items_features['feature_idx'].max()+1))\n",
    "\n",
    "x = inputs \n",
    "dimension = starting_dimension\n",
    "\n",
    "while(dimension != latent_dimension):\n",
    "    #x = layers.BatchNormalization()(x)\n",
    "    x = layers.Dense(units=dimension, activation='gelu',activity_regularizer=tf.keras.regularizers.L1L2(l1=1e-5,l2=1e-5))(x)\n",
    "    x = layers.Dropout(0.1)(x)\n",
    "\n",
    "    dimension = dimension//2\n",
    "\n",
    "x = layers.Dense(units=dimension,activation=\"tanh\",activity_regularizer=tf.keras.regularizers.L1L2(l1=5e-5,l2=4e-4))(x)\n",
    "outputs = x\n",
    "encoder = tf.keras.Model(inputs=inputs, outputs=outputs, name='encoder')"
   ]
  },
  {
   "cell_type": "code",
   "execution_count": 11,
   "metadata": {
    "id": "ZBxWYv-JL06x"
   },
   "outputs": [],
   "source": [
    "max_width = 1024\n",
    "ending_dimension = items_features['feature_idx'].max()+1\n",
    "\n",
    "inputs = layers.Input(latent_dimension)\n",
    "\n",
    "x = inputs \n",
    "dimension = latent_dimension\n",
    "\n",
    "x = layers.Dense(units=256, activation='gelu',activity_regularizer=tf.keras.regularizers.L1L2(l1=1e-5,l2=1e-5))(x)\n",
    "x = layers.Dropout(0.1)(x)\n",
    "x = layers.Dense(units=512, activation='gelu',activity_regularizer=tf.keras.regularizers.L1L2(l1=1e-5,l2=1e-5))(x)\n",
    "x = layers.Dropout(0.2)(x)\n",
    "    \n",
    "\n",
    "x = layers.Dense(units=ending_dimension,activation=\"sigmoid\")(x)\n",
    "outputs = x\n",
    "\n",
    "decoder = tf.keras.Model(inputs=inputs, outputs=outputs, name='decoder')\n",
    "\n",
    "#decoder.summary()"
   ]
  },
  {
   "cell_type": "code",
   "execution_count": 12,
   "metadata": {
    "id": "XoCB5g0EL7sI"
   },
   "outputs": [
    {
     "name": "stdout",
     "output_type": "stream",
     "text": [
      "Model: \"auto_encoder\"\n",
      "_________________________________________________________________\n",
      " Layer (type)                Output Shape              Param #   \n",
      "=================================================================\n",
      " input_1 (InputLayer)        [(None, 636)]             0         \n",
      "                                                                 \n",
      " dense (Dense)               (None, 512)               326144    \n",
      "                                                                 \n",
      " dropout (Dropout)           (None, 512)               0         \n",
      "                                                                 \n",
      " dense_1 (Dense)             (None, 256)               131328    \n",
      "                                                                 \n",
      " dropout_1 (Dropout)         (None, 256)               0         \n",
      "                                                                 \n",
      " dense_2 (Dense)             (None, 128)               32896     \n",
      "                                                                 \n",
      " dropout_2 (Dropout)         (None, 128)               0         \n",
      "                                                                 \n",
      " dense_3 (Dense)             (None, 64)                8256      \n",
      "                                                                 \n",
      " decoder (Functional)        (None, 636)               474492    \n",
      "                                                                 \n",
      "=================================================================\n",
      "Total params: 973116 (3.71 MB)\n",
      "Trainable params: 973116 (3.71 MB)\n",
      "Non-trainable params: 0 (0.00 Byte)\n",
      "_________________________________________________________________\n"
     ]
    }
   ],
   "source": [
    "ae = tf.keras.Model(inputs=encoder.inputs, outputs=decoder(encoder.outputs), name='auto_encoder')\n",
    "ae.summary()"
   ]
  },
  {
   "cell_type": "code",
   "execution_count": 13,
   "metadata": {
    "id": "z0LDKqMkMOtK"
   },
   "outputs": [],
   "source": [
    "def custom_loss(x_true,x_pred):\n",
    "    return tf.keras.losses.cosine_similarity(x_true,x_pred)+tf.keras.losses.mean_squared_error(x_true,x_pred)#"
   ]
  },
  {
   "cell_type": "code",
   "execution_count": 14,
   "metadata": {
    "id": "MP0KJxaGMNuZ"
   },
   "outputs": [
    {
     "name": "stderr",
     "output_type": "stream",
     "text": [
      "WARNING:absl:At this time, the v2.11+ optimizer `tf.keras.optimizers.Adamax` runs slowly on M1/M2 Macs, please use the legacy Keras optimizer instead, located at `tf.keras.optimizers.legacy.Adamax`.\n"
     ]
    }
   ],
   "source": [
    "ae.compile(\n",
    "    optimizer=tf.keras.optimizers.Adamax(learning_rate=0.006), \n",
    "    loss=custom_loss,\n",
    "    metrics=[tf.keras.metrics.CosineSimilarity(),tf.keras.metrics.MeanAbsoluteError()]\n",
    "    )"
   ]
  },
  {
   "cell_type": "markdown",
   "metadata": {
    "id": "YrLisRiO73WY"
   },
   "source": [
    "# Training"
   ]
  },
  {
   "cell_type": "code",
   "execution_count": 15,
   "metadata": {
    "colab": {
     "base_uri": "https://localhost:8080/"
    },
    "id": "k66RodSl71Ya",
    "outputId": "552b3658-298f-41a7-c1c9-530461918164"
   },
   "outputs": [
    {
     "name": "stdout",
     "output_type": "stream",
     "text": [
      "Epoch 1/200\n",
      "297/297 [==============================] - 3s 7ms/step - loss: -0.7552 - cosine_similarity: 0.7932 - mean_absolute_error: 0.0499 - val_loss: -0.8418 - val_cosine_similarity: 0.8666 - val_mean_absolute_error: 0.0319 - lr: 0.0060\n",
      "Epoch 2/200\n",
      "297/297 [==============================] - 2s 7ms/step - loss: -0.8501 - cosine_similarity: 0.8735 - mean_absolute_error: 0.0307 - val_loss: -0.8715 - val_cosine_similarity: 0.8922 - val_mean_absolute_error: 0.0272 - lr: 0.0060\n",
      "Epoch 3/200\n",
      "297/297 [==============================] - 2s 7ms/step - loss: -0.8705 - cosine_similarity: 0.8912 - mean_absolute_error: 0.0267 - val_loss: -0.8875 - val_cosine_similarity: 0.9063 - val_mean_absolute_error: 0.0235 - lr: 0.0060\n",
      "Epoch 4/200\n",
      "297/297 [==============================] - 2s 7ms/step - loss: -0.8835 - cosine_similarity: 0.9025 - mean_absolute_error: 0.0241 - val_loss: -0.9000 - val_cosine_similarity: 0.9169 - val_mean_absolute_error: 0.0215 - lr: 0.0060\n",
      "Epoch 5/200\n",
      "297/297 [==============================] - 2s 7ms/step - loss: -0.8930 - cosine_similarity: 0.9108 - mean_absolute_error: 0.0222 - val_loss: -0.9075 - val_cosine_similarity: 0.9236 - val_mean_absolute_error: 0.0196 - lr: 0.0060\n",
      "Epoch 6/200\n",
      "297/297 [==============================] - 2s 7ms/step - loss: -0.9013 - cosine_similarity: 0.9182 - mean_absolute_error: 0.0207 - val_loss: -0.9155 - val_cosine_similarity: 0.9306 - val_mean_absolute_error: 0.0186 - lr: 0.0060\n",
      "Epoch 7/200\n",
      "297/297 [==============================] - 2s 7ms/step - loss: -0.9082 - cosine_similarity: 0.9242 - mean_absolute_error: 0.0193 - val_loss: -0.9218 - val_cosine_similarity: 0.9361 - val_mean_absolute_error: 0.0165 - lr: 0.0060\n",
      "Epoch 8/200\n",
      "297/297 [==============================] - 2s 7ms/step - loss: -0.9135 - cosine_similarity: 0.9289 - mean_absolute_error: 0.0182 - val_loss: -0.9268 - val_cosine_similarity: 0.9404 - val_mean_absolute_error: 0.0157 - lr: 0.0060\n",
      "Epoch 9/200\n",
      "297/297 [==============================] - 2s 7ms/step - loss: -0.9184 - cosine_similarity: 0.9331 - mean_absolute_error: 0.0173 - val_loss: -0.9301 - val_cosine_similarity: 0.9434 - val_mean_absolute_error: 0.0147 - lr: 0.0060\n",
      "Epoch 10/200\n",
      "297/297 [==============================] - 2s 7ms/step - loss: -0.9219 - cosine_similarity: 0.9361 - mean_absolute_error: 0.0165 - val_loss: -0.9339 - val_cosine_similarity: 0.9467 - val_mean_absolute_error: 0.0139 - lr: 0.0060\n",
      "Epoch 11/200\n",
      "297/297 [==============================] - 2s 7ms/step - loss: -0.9249 - cosine_similarity: 0.9387 - mean_absolute_error: 0.0158 - val_loss: -0.9366 - val_cosine_similarity: 0.9490 - val_mean_absolute_error: 0.0135 - lr: 0.0060\n",
      "Epoch 12/200\n",
      "297/297 [==============================] - 2s 7ms/step - loss: -0.9275 - cosine_similarity: 0.9409 - mean_absolute_error: 0.0152 - val_loss: -0.9394 - val_cosine_similarity: 0.9514 - val_mean_absolute_error: 0.0127 - lr: 0.0060\n",
      "Epoch 13/200\n",
      "297/297 [==============================] - 2s 7ms/step - loss: -0.9301 - cosine_similarity: 0.9433 - mean_absolute_error: 0.0147 - val_loss: -0.9415 - val_cosine_similarity: 0.9533 - val_mean_absolute_error: 0.0122 - lr: 0.0060\n",
      "Epoch 14/200\n",
      "297/297 [==============================] - 2s 7ms/step - loss: -0.9325 - cosine_similarity: 0.9453 - mean_absolute_error: 0.0142 - val_loss: -0.9441 - val_cosine_similarity: 0.9555 - val_mean_absolute_error: 0.0119 - lr: 0.0060\n",
      "Epoch 15/200\n",
      "297/297 [==============================] - 2s 7ms/step - loss: -0.9344 - cosine_similarity: 0.9469 - mean_absolute_error: 0.0137 - val_loss: -0.9449 - val_cosine_similarity: 0.9560 - val_mean_absolute_error: 0.0117 - lr: 0.0060\n",
      "Epoch 16/200\n",
      "297/297 [==============================] - 2s 7ms/step - loss: -0.9359 - cosine_similarity: 0.9483 - mean_absolute_error: 0.0134 - val_loss: -0.9462 - val_cosine_similarity: 0.9573 - val_mean_absolute_error: 0.0111 - lr: 0.0060\n",
      "Epoch 17/200\n",
      "297/297 [==============================] - 2s 7ms/step - loss: -0.9370 - cosine_similarity: 0.9492 - mean_absolute_error: 0.0132 - val_loss: -0.9478 - val_cosine_similarity: 0.9586 - val_mean_absolute_error: 0.0108 - lr: 0.0060\n",
      "Epoch 18/200\n",
      "297/297 [==============================] - 2s 7ms/step - loss: -0.9388 - cosine_similarity: 0.9508 - mean_absolute_error: 0.0128 - val_loss: -0.9492 - val_cosine_similarity: 0.9597 - val_mean_absolute_error: 0.0104 - lr: 0.0060\n",
      "Epoch 19/200\n",
      "297/297 [==============================] - 2s 7ms/step - loss: -0.9408 - cosine_similarity: 0.9525 - mean_absolute_error: 0.0124 - val_loss: -0.9507 - val_cosine_similarity: 0.9611 - val_mean_absolute_error: 0.0103 - lr: 0.0060\n",
      "Epoch 20/200\n",
      "297/297 [==============================] - 2s 8ms/step - loss: -0.9420 - cosine_similarity: 0.9535 - mean_absolute_error: 0.0122 - val_loss: -0.9509 - val_cosine_similarity: 0.9613 - val_mean_absolute_error: 0.0101 - lr: 0.0060\n",
      "Epoch 21/200\n",
      "297/297 [==============================] - 2s 7ms/step - loss: -0.9427 - cosine_similarity: 0.9540 - mean_absolute_error: 0.0120 - val_loss: -0.9519 - val_cosine_similarity: 0.9621 - val_mean_absolute_error: 0.0100 - lr: 0.0060\n",
      "Epoch 22/200\n",
      "297/297 [==============================] - 2s 7ms/step - loss: -0.9434 - cosine_similarity: 0.9547 - mean_absolute_error: 0.0118 - val_loss: -0.9533 - val_cosine_similarity: 0.9632 - val_mean_absolute_error: 0.0096 - lr: 0.0060\n",
      "Epoch 23/200\n",
      "297/297 [==============================] - 2s 7ms/step - loss: -0.9448 - cosine_similarity: 0.9559 - mean_absolute_error: 0.0115 - val_loss: -0.9535 - val_cosine_similarity: 0.9636 - val_mean_absolute_error: 0.0093 - lr: 0.0060\n",
      "Epoch 24/200\n",
      "297/297 [==============================] - 2s 8ms/step - loss: -0.9452 - cosine_similarity: 0.9562 - mean_absolute_error: 0.0114 - val_loss: -0.9542 - val_cosine_similarity: 0.9639 - val_mean_absolute_error: 0.0095 - lr: 0.0060\n",
      "Epoch 25/200\n",
      "297/297 [==============================] - 2s 7ms/step - loss: -0.9463 - cosine_similarity: 0.9572 - mean_absolute_error: 0.0112 - val_loss: -0.9547 - val_cosine_similarity: 0.9646 - val_mean_absolute_error: 0.0090 - lr: 0.0060\n",
      "Epoch 26/200\n",
      "297/297 [==============================] - 2s 7ms/step - loss: -0.9472 - cosine_similarity: 0.9580 - mean_absolute_error: 0.0109 - val_loss: -0.9568 - val_cosine_similarity: 0.9662 - val_mean_absolute_error: 0.0089 - lr: 0.0060\n",
      "Epoch 27/200\n",
      "297/297 [==============================] - 2s 7ms/step - loss: -0.9481 - cosine_similarity: 0.9587 - mean_absolute_error: 0.0108 - val_loss: -0.9569 - val_cosine_similarity: 0.9664 - val_mean_absolute_error: 0.0088 - lr: 0.0060\n",
      "Epoch 28/200\n",
      "297/297 [==============================] - 2s 7ms/step - loss: -0.9485 - cosine_similarity: 0.9590 - mean_absolute_error: 0.0107 - val_loss: -0.9574 - val_cosine_similarity: 0.9668 - val_mean_absolute_error: 0.0087 - lr: 0.0060\n",
      "Epoch 29/200\n",
      "297/297 [==============================] - 2s 8ms/step - loss: -0.9497 - cosine_similarity: 0.9601 - mean_absolute_error: 0.0105 - val_loss: -0.9586 - val_cosine_similarity: 0.9677 - val_mean_absolute_error: 0.0085 - lr: 0.0060\n",
      "Epoch 30/200\n",
      "297/297 [==============================] - 2s 7ms/step - loss: -0.9504 - cosine_similarity: 0.9607 - mean_absolute_error: 0.0103 - val_loss: -0.9581 - val_cosine_similarity: 0.9674 - val_mean_absolute_error: 0.0082 - lr: 0.0060\n",
      "Epoch 31/200\n",
      "297/297 [==============================] - 2s 7ms/step - loss: -0.9509 - cosine_similarity: 0.9612 - mean_absolute_error: 0.0101 - val_loss: -0.9586 - val_cosine_similarity: 0.9679 - val_mean_absolute_error: 0.0082 - lr: 0.0060\n",
      "Epoch 32/200\n",
      "297/297 [==============================] - 2s 8ms/step - loss: -0.9512 - cosine_similarity: 0.9614 - mean_absolute_error: 0.0101 - val_loss: -0.9605 - val_cosine_similarity: 0.9695 - val_mean_absolute_error: 0.0079 - lr: 0.0060\n",
      "Epoch 33/200\n",
      "297/297 [==============================] - 2s 8ms/step - loss: -0.9529 - cosine_similarity: 0.9628 - mean_absolute_error: 0.0098 - val_loss: -0.9607 - val_cosine_similarity: 0.9697 - val_mean_absolute_error: 0.0078 - lr: 0.0060\n",
      "Epoch 34/200\n",
      "297/297 [==============================] - 2s 8ms/step - loss: -0.9529 - cosine_similarity: 0.9629 - mean_absolute_error: 0.0097 - val_loss: -0.9610 - val_cosine_similarity: 0.9699 - val_mean_absolute_error: 0.0078 - lr: 0.0060\n",
      "Epoch 35/200\n",
      "297/297 [==============================] - 2s 8ms/step - loss: -0.9537 - cosine_similarity: 0.9636 - mean_absolute_error: 0.0096 - val_loss: -0.9620 - val_cosine_similarity: 0.9709 - val_mean_absolute_error: 0.0075 - lr: 0.0060\n",
      "Epoch 36/200\n",
      "297/297 [==============================] - 3s 9ms/step - loss: -0.9541 - cosine_similarity: 0.9639 - mean_absolute_error: 0.0095 - val_loss: -0.9620 - val_cosine_similarity: 0.9707 - val_mean_absolute_error: 0.0074 - lr: 0.0060\n",
      "Epoch 37/200\n",
      "297/297 [==============================] - 2s 7ms/step - loss: -0.9547 - cosine_similarity: 0.9644 - mean_absolute_error: 0.0093 - val_loss: -0.9625 - val_cosine_similarity: 0.9712 - val_mean_absolute_error: 0.0074 - lr: 0.0060\n",
      "Epoch 38/200\n",
      "297/297 [==============================] - 2s 8ms/step - loss: -0.9550 - cosine_similarity: 0.9647 - mean_absolute_error: 0.0092 - val_loss: -0.9626 - val_cosine_similarity: 0.9712 - val_mean_absolute_error: 0.0074 - lr: 0.0060\n",
      "Epoch 39/200\n",
      "297/297 [==============================] - 2s 8ms/step - loss: -0.9551 - cosine_similarity: 0.9648 - mean_absolute_error: 0.0092 - val_loss: -0.9625 - val_cosine_similarity: 0.9711 - val_mean_absolute_error: 0.0074 - lr: 0.0060\n",
      "Epoch 40/200\n",
      "297/297 [==============================] - 2s 8ms/step - loss: -0.9583 - cosine_similarity: 0.9675 - mean_absolute_error: 0.0087 - val_loss: -0.9653 - val_cosine_similarity: 0.9736 - val_mean_absolute_error: 0.0069 - lr: 0.0042\n",
      "Epoch 41/200\n",
      "297/297 [==============================] - 2s 8ms/step - loss: -0.9589 - cosine_similarity: 0.9681 - mean_absolute_error: 0.0086 - val_loss: -0.9654 - val_cosine_similarity: 0.9737 - val_mean_absolute_error: 0.0068 - lr: 0.0042\n",
      "Epoch 42/200\n",
      "297/297 [==============================] - 2s 8ms/step - loss: -0.9594 - cosine_similarity: 0.9685 - mean_absolute_error: 0.0085 - val_loss: -0.9659 - val_cosine_similarity: 0.9741 - val_mean_absolute_error: 0.0067 - lr: 0.0042\n",
      "Epoch 43/200\n",
      "297/297 [==============================] - 2s 8ms/step - loss: -0.9597 - cosine_similarity: 0.9688 - mean_absolute_error: 0.0084 - val_loss: -0.9664 - val_cosine_similarity: 0.9745 - val_mean_absolute_error: 0.0067 - lr: 0.0042\n",
      "Epoch 44/200\n",
      "297/297 [==============================] - 2s 8ms/step - loss: -0.9600 - cosine_similarity: 0.9690 - mean_absolute_error: 0.0084 - val_loss: -0.9667 - val_cosine_similarity: 0.9748 - val_mean_absolute_error: 0.0065 - lr: 0.0042\n",
      "Epoch 45/200\n",
      "297/297 [==============================] - 2s 8ms/step - loss: -0.9607 - cosine_similarity: 0.9696 - mean_absolute_error: 0.0082 - val_loss: -0.9670 - val_cosine_similarity: 0.9750 - val_mean_absolute_error: 0.0065 - lr: 0.0042\n",
      "Epoch 46/200\n",
      "297/297 [==============================] - 2s 8ms/step - loss: -0.9609 - cosine_similarity: 0.9697 - mean_absolute_error: 0.0082 - val_loss: -0.9668 - val_cosine_similarity: 0.9749 - val_mean_absolute_error: 0.0065 - lr: 0.0042\n",
      "Epoch 47/200\n",
      "297/297 [==============================] - 2s 8ms/step - loss: -0.9609 - cosine_similarity: 0.9697 - mean_absolute_error: 0.0082 - val_loss: -0.9673 - val_cosine_similarity: 0.9753 - val_mean_absolute_error: 0.0064 - lr: 0.0042\n",
      "Epoch 48/200\n",
      "297/297 [==============================] - 2s 8ms/step - loss: -0.9612 - cosine_similarity: 0.9700 - mean_absolute_error: 0.0081 - val_loss: -0.9675 - val_cosine_similarity: 0.9754 - val_mean_absolute_error: 0.0063 - lr: 0.0042\n",
      "Epoch 49/200\n",
      "297/297 [==============================] - 2s 8ms/step - loss: -0.9614 - cosine_similarity: 0.9701 - mean_absolute_error: 0.0081 - val_loss: -0.9679 - val_cosine_similarity: 0.9757 - val_mean_absolute_error: 0.0063 - lr: 0.0042\n",
      "Epoch 50/200\n",
      "297/297 [==============================] - 2s 8ms/step - loss: -0.9616 - cosine_similarity: 0.9703 - mean_absolute_error: 0.0080 - val_loss: -0.9679 - val_cosine_similarity: 0.9758 - val_mean_absolute_error: 0.0063 - lr: 0.0042\n",
      "Epoch 51/200\n",
      "297/297 [==============================] - 2s 8ms/step - loss: -0.9621 - cosine_similarity: 0.9707 - mean_absolute_error: 0.0079 - val_loss: -0.9683 - val_cosine_similarity: 0.9761 - val_mean_absolute_error: 0.0061 - lr: 0.0042\n",
      "Epoch 52/200\n",
      "297/297 [==============================] - 2s 8ms/step - loss: -0.9622 - cosine_similarity: 0.9709 - mean_absolute_error: 0.0079 - val_loss: -0.9684 - val_cosine_similarity: 0.9762 - val_mean_absolute_error: 0.0060 - lr: 0.0042\n",
      "Epoch 53/200\n",
      "297/297 [==============================] - 2s 8ms/step - loss: -0.9625 - cosine_similarity: 0.9711 - mean_absolute_error: 0.0078 - val_loss: -0.9686 - val_cosine_similarity: 0.9764 - val_mean_absolute_error: 0.0061 - lr: 0.0042\n",
      "Epoch 54/200\n",
      "297/297 [==============================] - 2s 8ms/step - loss: -0.9626 - cosine_similarity: 0.9712 - mean_absolute_error: 0.0078 - val_loss: -0.9687 - val_cosine_similarity: 0.9765 - val_mean_absolute_error: 0.0060 - lr: 0.0042\n",
      "Epoch 55/200\n",
      "297/297 [==============================] - 2s 8ms/step - loss: -0.9630 - cosine_similarity: 0.9715 - mean_absolute_error: 0.0077 - val_loss: -0.9693 - val_cosine_similarity: 0.9769 - val_mean_absolute_error: 0.0059 - lr: 0.0042\n",
      "Epoch 56/200\n",
      "297/297 [==============================] - 2s 8ms/step - loss: -0.9635 - cosine_similarity: 0.9720 - mean_absolute_error: 0.0076 - val_loss: -0.9693 - val_cosine_similarity: 0.9770 - val_mean_absolute_error: 0.0058 - lr: 0.0042\n",
      "Epoch 57/200\n",
      "297/297 [==============================] - 2s 8ms/step - loss: -0.9639 - cosine_similarity: 0.9723 - mean_absolute_error: 0.0075 - val_loss: -0.9697 - val_cosine_similarity: 0.9773 - val_mean_absolute_error: 0.0058 - lr: 0.0042\n",
      "Epoch 58/200\n",
      "297/297 [==============================] - 2s 8ms/step - loss: -0.9638 - cosine_similarity: 0.9723 - mean_absolute_error: 0.0075 - val_loss: -0.9698 - val_cosine_similarity: 0.9773 - val_mean_absolute_error: 0.0058 - lr: 0.0042\n",
      "Epoch 59/200\n",
      "297/297 [==============================] - 2s 8ms/step - loss: -0.9641 - cosine_similarity: 0.9725 - mean_absolute_error: 0.0075 - val_loss: -0.9701 - val_cosine_similarity: 0.9777 - val_mean_absolute_error: 0.0057 - lr: 0.0042\n",
      "Epoch 60/200\n",
      "297/297 [==============================] - 2s 8ms/step - loss: -0.9644 - cosine_similarity: 0.9727 - mean_absolute_error: 0.0074 - val_loss: -0.9701 - val_cosine_similarity: 0.9776 - val_mean_absolute_error: 0.0057 - lr: 0.0042\n",
      "Epoch 61/200\n",
      "297/297 [==============================] - 2s 8ms/step - loss: -0.9644 - cosine_similarity: 0.9727 - mean_absolute_error: 0.0074 - val_loss: -0.9704 - val_cosine_similarity: 0.9779 - val_mean_absolute_error: 0.0057 - lr: 0.0042\n",
      "Epoch 62/200\n",
      "297/297 [==============================] - 2s 8ms/step - loss: -0.9648 - cosine_similarity: 0.9731 - mean_absolute_error: 0.0073 - val_loss: -0.9706 - val_cosine_similarity: 0.9780 - val_mean_absolute_error: 0.0056 - lr: 0.0042\n",
      "Epoch 63/200\n",
      "297/297 [==============================] - 2s 8ms/step - loss: -0.9649 - cosine_similarity: 0.9731 - mean_absolute_error: 0.0073 - val_loss: -0.9707 - val_cosine_similarity: 0.9780 - val_mean_absolute_error: 0.0057 - lr: 0.0042\n",
      "Epoch 64/200\n",
      "297/297 [==============================] - 2s 8ms/step - loss: -0.9652 - cosine_similarity: 0.9734 - mean_absolute_error: 0.0072 - val_loss: -0.9708 - val_cosine_similarity: 0.9782 - val_mean_absolute_error: 0.0056 - lr: 0.0042\n",
      "Epoch 65/200\n",
      "297/297 [==============================] - 2s 8ms/step - loss: -0.9653 - cosine_similarity: 0.9734 - mean_absolute_error: 0.0072 - val_loss: -0.9710 - val_cosine_similarity: 0.9784 - val_mean_absolute_error: 0.0055 - lr: 0.0042\n",
      "Epoch 66/200\n",
      "297/297 [==============================] - 2s 8ms/step - loss: -0.9654 - cosine_similarity: 0.9736 - mean_absolute_error: 0.0071 - val_loss: -0.9707 - val_cosine_similarity: 0.9782 - val_mean_absolute_error: 0.0055 - lr: 0.0042\n",
      "Epoch 67/200\n",
      "297/297 [==============================] - 3s 9ms/step - loss: -0.9657 - cosine_similarity: 0.9738 - mean_absolute_error: 0.0071 - val_loss: -0.9711 - val_cosine_similarity: 0.9785 - val_mean_absolute_error: 0.0055 - lr: 0.0042\n",
      "Epoch 68/200\n",
      "297/297 [==============================] - 2s 8ms/step - loss: -0.9674 - cosine_similarity: 0.9753 - mean_absolute_error: 0.0068 - val_loss: -0.9726 - val_cosine_similarity: 0.9797 - val_mean_absolute_error: 0.0052 - lr: 0.0029\n",
      "Epoch 69/200\n",
      "297/297 [==============================] - 2s 8ms/step - loss: -0.9678 - cosine_similarity: 0.9757 - mean_absolute_error: 0.0068 - val_loss: -0.9728 - val_cosine_similarity: 0.9799 - val_mean_absolute_error: 0.0052 - lr: 0.0029\n",
      "Epoch 70/200\n",
      "297/297 [==============================] - 2s 8ms/step - loss: -0.9681 - cosine_similarity: 0.9759 - mean_absolute_error: 0.0067 - val_loss: -0.9730 - val_cosine_similarity: 0.9799 - val_mean_absolute_error: 0.0052 - lr: 0.0029\n",
      "Epoch 71/200\n",
      "297/297 [==============================] - 2s 8ms/step - loss: -0.9683 - cosine_similarity: 0.9761 - mean_absolute_error: 0.0067 - val_loss: -0.9732 - val_cosine_similarity: 0.9802 - val_mean_absolute_error: 0.0051 - lr: 0.0029\n",
      "Epoch 72/200\n",
      "297/297 [==============================] - 2s 8ms/step - loss: -0.9686 - cosine_similarity: 0.9763 - mean_absolute_error: 0.0066 - val_loss: -0.9733 - val_cosine_similarity: 0.9803 - val_mean_absolute_error: 0.0051 - lr: 0.0029\n",
      "Epoch 73/200\n",
      "297/297 [==============================] - 2s 8ms/step - loss: -0.9688 - cosine_similarity: 0.9765 - mean_absolute_error: 0.0066 - val_loss: -0.9735 - val_cosine_similarity: 0.9805 - val_mean_absolute_error: 0.0050 - lr: 0.0029\n",
      "Epoch 74/200\n",
      "297/297 [==============================] - 2s 8ms/step - loss: -0.9689 - cosine_similarity: 0.9766 - mean_absolute_error: 0.0066 - val_loss: -0.9739 - val_cosine_similarity: 0.9808 - val_mean_absolute_error: 0.0050 - lr: 0.0029\n",
      "Epoch 75/200\n",
      "297/297 [==============================] - 2s 8ms/step - loss: -0.9690 - cosine_similarity: 0.9767 - mean_absolute_error: 0.0065 - val_loss: -0.9739 - val_cosine_similarity: 0.9808 - val_mean_absolute_error: 0.0050 - lr: 0.0029\n",
      "Epoch 76/200\n",
      "297/297 [==============================] - 2s 8ms/step - loss: -0.9691 - cosine_similarity: 0.9767 - mean_absolute_error: 0.0065 - val_loss: -0.9739 - val_cosine_similarity: 0.9807 - val_mean_absolute_error: 0.0050 - lr: 0.0029\n",
      "Epoch 77/200\n",
      "297/297 [==============================] - 2s 8ms/step - loss: -0.9704 - cosine_similarity: 0.9779 - mean_absolute_error: 0.0063 - val_loss: -0.9747 - val_cosine_similarity: 0.9814 - val_mean_absolute_error: 0.0048 - lr: 0.0021\n",
      "Epoch 78/200\n",
      "297/297 [==============================] - 2s 8ms/step - loss: -0.9706 - cosine_similarity: 0.9780 - mean_absolute_error: 0.0063 - val_loss: -0.9747 - val_cosine_similarity: 0.9815 - val_mean_absolute_error: 0.0048 - lr: 0.0021\n",
      "Epoch 79/200\n",
      "297/297 [==============================] - 2s 8ms/step - loss: -0.9709 - cosine_similarity: 0.9782 - mean_absolute_error: 0.0062 - val_loss: -0.9749 - val_cosine_similarity: 0.9816 - val_mean_absolute_error: 0.0048 - lr: 0.0021\n",
      "Epoch 80/200\n",
      "297/297 [==============================] - 2s 8ms/step - loss: -0.9710 - cosine_similarity: 0.9783 - mean_absolute_error: 0.0062 - val_loss: -0.9751 - val_cosine_similarity: 0.9818 - val_mean_absolute_error: 0.0048 - lr: 0.0021\n",
      "Epoch 81/200\n",
      "297/297 [==============================] - 2s 8ms/step - loss: -0.9712 - cosine_similarity: 0.9785 - mean_absolute_error: 0.0062 - val_loss: -0.9753 - val_cosine_similarity: 0.9819 - val_mean_absolute_error: 0.0047 - lr: 0.0021\n",
      "Epoch 82/200\n",
      "297/297 [==============================] - 2s 8ms/step - loss: -0.9713 - cosine_similarity: 0.9786 - mean_absolute_error: 0.0062 - val_loss: -0.9753 - val_cosine_similarity: 0.9820 - val_mean_absolute_error: 0.0047 - lr: 0.0021\n",
      "Epoch 83/200\n",
      "297/297 [==============================] - 2s 8ms/step - loss: -0.9713 - cosine_similarity: 0.9786 - mean_absolute_error: 0.0061 - val_loss: -0.9756 - val_cosine_similarity: 0.9822 - val_mean_absolute_error: 0.0047 - lr: 0.0021\n",
      "Epoch 84/200\n",
      "297/297 [==============================] - 2s 8ms/step - loss: -0.9716 - cosine_similarity: 0.9788 - mean_absolute_error: 0.0061 - val_loss: -0.9754 - val_cosine_similarity: 0.9820 - val_mean_absolute_error: 0.0048 - lr: 0.0021\n",
      "Epoch 85/200\n",
      "297/297 [==============================] - 2s 8ms/step - loss: -0.9716 - cosine_similarity: 0.9788 - mean_absolute_error: 0.0061 - val_loss: -0.9755 - val_cosine_similarity: 0.9821 - val_mean_absolute_error: 0.0046 - lr: 0.0021\n",
      "Epoch 86/200\n",
      "297/297 [==============================] - 2s 8ms/step - loss: -0.9723 - cosine_similarity: 0.9794 - mean_absolute_error: 0.0059 - val_loss: -0.9762 - val_cosine_similarity: 0.9827 - val_mean_absolute_error: 0.0046 - lr: 0.0014\n",
      "Epoch 87/200\n",
      "297/297 [==============================] - 2s 8ms/step - loss: -0.9727 - cosine_similarity: 0.9797 - mean_absolute_error: 0.0059 - val_loss: -0.9764 - val_cosine_similarity: 0.9828 - val_mean_absolute_error: 0.0045 - lr: 0.0014\n",
      "Epoch 88/200\n",
      "297/297 [==============================] - 2s 8ms/step - loss: -0.9729 - cosine_similarity: 0.9799 - mean_absolute_error: 0.0059 - val_loss: -0.9763 - val_cosine_similarity: 0.9827 - val_mean_absolute_error: 0.0046 - lr: 0.0014\n",
      "Epoch 89/200\n",
      "297/297 [==============================] - 2s 8ms/step - loss: -0.9728 - cosine_similarity: 0.9798 - mean_absolute_error: 0.0059 - val_loss: -0.9764 - val_cosine_similarity: 0.9828 - val_mean_absolute_error: 0.0045 - lr: 0.0014\n",
      "Epoch 90/200\n",
      "297/297 [==============================] - 2s 8ms/step - loss: -0.9734 - cosine_similarity: 0.9803 - mean_absolute_error: 0.0058 - val_loss: -0.9768 - val_cosine_similarity: 0.9831 - val_mean_absolute_error: 0.0045 - lr: 0.0010\n",
      "Epoch 91/200\n",
      "297/297 [==============================] - 2s 8ms/step - loss: -0.9735 - cosine_similarity: 0.9805 - mean_absolute_error: 0.0058 - val_loss: -0.9769 - val_cosine_similarity: 0.9832 - val_mean_absolute_error: 0.0044 - lr: 0.0010\n",
      "Epoch 92/200\n",
      "297/297 [==============================] - 2s 8ms/step - loss: -0.9735 - cosine_similarity: 0.9805 - mean_absolute_error: 0.0058 - val_loss: -0.9769 - val_cosine_similarity: 0.9832 - val_mean_absolute_error: 0.0044 - lr: 0.0010\n",
      "Epoch 93/200\n",
      "297/297 [==============================] - 2s 8ms/step - loss: -0.9737 - cosine_similarity: 0.9806 - mean_absolute_error: 0.0057 - val_loss: -0.9770 - val_cosine_similarity: 0.9833 - val_mean_absolute_error: 0.0044 - lr: 0.0010\n",
      "Epoch 94/200\n",
      "297/297 [==============================] - 2s 8ms/step - loss: -0.9740 - cosine_similarity: 0.9809 - mean_absolute_error: 0.0057 - val_loss: -0.9772 - val_cosine_similarity: 0.9835 - val_mean_absolute_error: 0.0044 - lr: 7.0589e-04\n",
      "Epoch 95/200\n",
      "297/297 [==============================] - 2s 8ms/step - loss: -0.9741 - cosine_similarity: 0.9809 - mean_absolute_error: 0.0057 - val_loss: -0.9772 - val_cosine_similarity: 0.9836 - val_mean_absolute_error: 0.0043 - lr: 7.0589e-04\n",
      "Epoch 96/200\n",
      "297/297 [==============================] - 2s 8ms/step - loss: -0.9742 - cosine_similarity: 0.9810 - mean_absolute_error: 0.0056 - val_loss: -0.9773 - val_cosine_similarity: 0.9836 - val_mean_absolute_error: 0.0043 - lr: 7.0589e-04\n",
      "Epoch 97/200\n",
      "297/297 [==============================] - 2s 8ms/step - loss: -0.9744 - cosine_similarity: 0.9811 - mean_absolute_error: 0.0056 - val_loss: -0.9774 - val_cosine_similarity: 0.9836 - val_mean_absolute_error: 0.0043 - lr: 4.9413e-04\n",
      "Epoch 98/200\n",
      "297/297 [==============================] - 2s 8ms/step - loss: -0.9745 - cosine_similarity: 0.9813 - mean_absolute_error: 0.0056 - val_loss: -0.9774 - val_cosine_similarity: 0.9837 - val_mean_absolute_error: 0.0043 - lr: 4.9413e-04\n",
      "Epoch 99/200\n",
      "297/297 [==============================] - 2s 8ms/step - loss: -0.9745 - cosine_similarity: 0.9813 - mean_absolute_error: 0.0056 - val_loss: -0.9775 - val_cosine_similarity: 0.9837 - val_mean_absolute_error: 0.0043 - lr: 4.9413e-04\n",
      "Epoch 100/200\n",
      "297/297 [==============================] - 2s 8ms/step - loss: -0.9747 - cosine_similarity: 0.9814 - mean_absolute_error: 0.0056 - val_loss: -0.9775 - val_cosine_similarity: 0.9838 - val_mean_absolute_error: 0.0043 - lr: 4.9413e-04\n",
      "Epoch 101/200\n",
      "297/297 [==============================] - 2s 8ms/step - loss: -0.9746 - cosine_similarity: 0.9814 - mean_absolute_error: 0.0056 - val_loss: -0.9776 - val_cosine_similarity: 0.9838 - val_mean_absolute_error: 0.0043 - lr: 4.9413e-04\n",
      "Epoch 102/200\n",
      "297/297 [==============================] - 2s 8ms/step - loss: -0.9748 - cosine_similarity: 0.9815 - mean_absolute_error: 0.0056 - val_loss: -0.9777 - val_cosine_similarity: 0.9839 - val_mean_absolute_error: 0.0043 - lr: 3.4589e-04\n",
      "Epoch 103/200\n",
      "297/297 [==============================] - 2s 8ms/step - loss: -0.9749 - cosine_similarity: 0.9816 - mean_absolute_error: 0.0055 - val_loss: -0.9777 - val_cosine_similarity: 0.9839 - val_mean_absolute_error: 0.0042 - lr: 3.4589e-04\n",
      "Epoch 104/200\n",
      "297/297 [==============================] - 2s 8ms/step - loss: -0.9748 - cosine_similarity: 0.9815 - mean_absolute_error: 0.0055 - val_loss: -0.9778 - val_cosine_similarity: 0.9840 - val_mean_absolute_error: 0.0043 - lr: 3.4589e-04\n",
      "Epoch 105/200\n",
      "297/297 [==============================] - 2s 8ms/step - loss: -0.9751 - cosine_similarity: 0.9818 - mean_absolute_error: 0.0055 - val_loss: -0.9778 - val_cosine_similarity: 0.9840 - val_mean_absolute_error: 0.0043 - lr: 2.4212e-04\n",
      "Epoch 106/200\n",
      "297/297 [==============================] - 2s 8ms/step - loss: -0.9750 - cosine_similarity: 0.9817 - mean_absolute_error: 0.0055 - val_loss: -0.9778 - val_cosine_similarity: 0.9840 - val_mean_absolute_error: 0.0043 - lr: 2.4212e-04\n",
      "Epoch 107/200\n",
      "297/297 [==============================] - 2s 8ms/step - loss: -0.9751 - cosine_similarity: 0.9818 - mean_absolute_error: 0.0055 - val_loss: -0.9779 - val_cosine_similarity: 0.9840 - val_mean_absolute_error: 0.0042 - lr: 1.6949e-04\n",
      "Epoch 108/200\n",
      "297/297 [==============================] - 2s 8ms/step - loss: -0.9752 - cosine_similarity: 0.9819 - mean_absolute_error: 0.0055 - val_loss: -0.9779 - val_cosine_similarity: 0.9840 - val_mean_absolute_error: 0.0042 - lr: 1.6949e-04\n",
      "Epoch 109/200\n",
      "297/297 [==============================] - 2s 8ms/step - loss: -0.9752 - cosine_similarity: 0.9819 - mean_absolute_error: 0.0055 - val_loss: -0.9779 - val_cosine_similarity: 0.9841 - val_mean_absolute_error: 0.0042 - lr: 1.6949e-04\n",
      "Epoch 110/200\n",
      "297/297 [==============================] - 2s 8ms/step - loss: -0.9752 - cosine_similarity: 0.9819 - mean_absolute_error: 0.0055 - val_loss: -0.9779 - val_cosine_similarity: 0.9841 - val_mean_absolute_error: 0.0042 - lr: 1.1864e-04\n",
      "Epoch 111/200\n",
      "297/297 [==============================] - 2s 8ms/step - loss: -0.9752 - cosine_similarity: 0.9819 - mean_absolute_error: 0.0055 - val_loss: -0.9779 - val_cosine_similarity: 0.9841 - val_mean_absolute_error: 0.0042 - lr: 1.1864e-04\n",
      "Epoch 112/200\n",
      "297/297 [==============================] - 2s 8ms/step - loss: -0.9752 - cosine_similarity: 0.9819 - mean_absolute_error: 0.0055 - val_loss: -0.9779 - val_cosine_similarity: 0.9841 - val_mean_absolute_error: 0.0042 - lr: 8.3048e-05\n",
      "Epoch 113/200\n",
      "297/297 [==============================] - 2s 8ms/step - loss: -0.9752 - cosine_similarity: 0.9819 - mean_absolute_error: 0.0055 - val_loss: -0.9779 - val_cosine_similarity: 0.9841 - val_mean_absolute_error: 0.0042 - lr: 8.3048e-05\n",
      "Epoch 114/200\n",
      "297/297 [==============================] - 2s 8ms/step - loss: -0.9754 - cosine_similarity: 0.9820 - mean_absolute_error: 0.0055 - val_loss: -0.9780 - val_cosine_similarity: 0.9841 - val_mean_absolute_error: 0.0042 - lr: 5.8133e-05\n",
      "Epoch 115/200\n",
      "297/297 [==============================] - 2s 8ms/step - loss: -0.9755 - cosine_similarity: 0.9821 - mean_absolute_error: 0.0055 - val_loss: -0.9780 - val_cosine_similarity: 0.9841 - val_mean_absolute_error: 0.0042 - lr: 5.8133e-05\n",
      "Epoch 116/200\n",
      "297/297 [==============================] - 2s 8ms/step - loss: -0.9754 - cosine_similarity: 0.9820 - mean_absolute_error: 0.0055 - val_loss: -0.9780 - val_cosine_similarity: 0.9841 - val_mean_absolute_error: 0.0042 - lr: 5.0000e-05\n",
      "Epoch 117/200\n",
      "297/297 [==============================] - 2s 8ms/step - loss: -0.9754 - cosine_similarity: 0.9820 - mean_absolute_error: 0.0055 - val_loss: -0.9780 - val_cosine_similarity: 0.9841 - val_mean_absolute_error: 0.0042 - lr: 5.0000e-05\n",
      "Epoch 118/200\n",
      "297/297 [==============================] - 2s 8ms/step - loss: -0.9754 - cosine_similarity: 0.9821 - mean_absolute_error: 0.0054 - val_loss: -0.9780 - val_cosine_similarity: 0.9841 - val_mean_absolute_error: 0.0042 - lr: 5.0000e-05\n",
      "Epoch 119/200\n",
      "297/297 [==============================] - 2s 8ms/step - loss: -0.9754 - cosine_similarity: 0.9821 - mean_absolute_error: 0.0055 - val_loss: -0.9780 - val_cosine_similarity: 0.9841 - val_mean_absolute_error: 0.0042 - lr: 5.0000e-05\n",
      "Epoch 120/200\n",
      "297/297 [==============================] - 2s 8ms/step - loss: -0.9754 - cosine_similarity: 0.9820 - mean_absolute_error: 0.0055 - val_loss: -0.9780 - val_cosine_similarity: 0.9841 - val_mean_absolute_error: 0.0042 - lr: 5.0000e-05\n",
      "Epoch 121/200\n",
      "297/297 [==============================] - 2s 8ms/step - loss: -0.9754 - cosine_similarity: 0.9820 - mean_absolute_error: 0.0055 - val_loss: -0.9780 - val_cosine_similarity: 0.9842 - val_mean_absolute_error: 0.0042 - lr: 5.0000e-05\n",
      "Epoch 122/200\n",
      "297/297 [==============================] - 2s 8ms/step - loss: -0.9753 - cosine_similarity: 0.9820 - mean_absolute_error: 0.0055 - val_loss: -0.9780 - val_cosine_similarity: 0.9842 - val_mean_absolute_error: 0.0042 - lr: 5.0000e-05\n",
      "Epoch 123/200\n",
      "297/297 [==============================] - 2s 8ms/step - loss: -0.9754 - cosine_similarity: 0.9820 - mean_absolute_error: 0.0054 - val_loss: -0.9780 - val_cosine_similarity: 0.9842 - val_mean_absolute_error: 0.0042 - lr: 5.0000e-05\n",
      "Epoch 124/200\n",
      "297/297 [==============================] - 2s 8ms/step - loss: -0.9755 - cosine_similarity: 0.9821 - mean_absolute_error: 0.0054 - val_loss: -0.9780 - val_cosine_similarity: 0.9842 - val_mean_absolute_error: 0.0042 - lr: 5.0000e-05\n",
      "Epoch 125/200\n",
      "297/297 [==============================] - 2s 8ms/step - loss: -0.9755 - cosine_similarity: 0.9821 - mean_absolute_error: 0.0054 - val_loss: -0.9780 - val_cosine_similarity: 0.9842 - val_mean_absolute_error: 0.0042 - lr: 5.0000e-05\n",
      "Epoch 126/200\n",
      "297/297 [==============================] - 2s 8ms/step - loss: -0.9754 - cosine_similarity: 0.9820 - mean_absolute_error: 0.0055 - val_loss: -0.9780 - val_cosine_similarity: 0.9842 - val_mean_absolute_error: 0.0042 - lr: 5.0000e-05\n",
      "Epoch 127/200\n",
      "297/297 [==============================] - 2s 8ms/step - loss: -0.9755 - cosine_similarity: 0.9821 - mean_absolute_error: 0.0054 - val_loss: -0.9780 - val_cosine_similarity: 0.9842 - val_mean_absolute_error: 0.0042 - lr: 5.0000e-05\n",
      "Epoch 128/200\n",
      "297/297 [==============================] - 2s 8ms/step - loss: -0.9755 - cosine_similarity: 0.9821 - mean_absolute_error: 0.0054 - val_loss: -0.9780 - val_cosine_similarity: 0.9842 - val_mean_absolute_error: 0.0042 - lr: 5.0000e-05\n",
      "Epoch 129/200\n",
      "297/297 [==============================] - 2s 8ms/step - loss: -0.9753 - cosine_similarity: 0.9820 - mean_absolute_error: 0.0055 - val_loss: -0.9780 - val_cosine_similarity: 0.9842 - val_mean_absolute_error: 0.0042 - lr: 5.0000e-05\n",
      "Epoch 130/200\n",
      "297/297 [==============================] - 2s 8ms/step - loss: -0.9754 - cosine_similarity: 0.9820 - mean_absolute_error: 0.0055 - val_loss: -0.9780 - val_cosine_similarity: 0.9842 - val_mean_absolute_error: 0.0042 - lr: 5.0000e-05\n",
      "Epoch 131/200\n",
      "297/297 [==============================] - 2s 8ms/step - loss: -0.9755 - cosine_similarity: 0.9821 - mean_absolute_error: 0.0054 - val_loss: -0.9780 - val_cosine_similarity: 0.9842 - val_mean_absolute_error: 0.0042 - lr: 5.0000e-05\n",
      "Epoch 132/200\n",
      "297/297 [==============================] - 2s 8ms/step - loss: -0.9754 - cosine_similarity: 0.9820 - mean_absolute_error: 0.0055 - val_loss: -0.9780 - val_cosine_similarity: 0.9842 - val_mean_absolute_error: 0.0042 - lr: 5.0000e-05\n",
      "Epoch 133/200\n",
      "297/297 [==============================] - 2s 8ms/step - loss: -0.9754 - cosine_similarity: 0.9820 - mean_absolute_error: 0.0054 - val_loss: -0.9780 - val_cosine_similarity: 0.9842 - val_mean_absolute_error: 0.0042 - lr: 5.0000e-05\n",
      "Epoch 134/200\n",
      "297/297 [==============================] - 2s 8ms/step - loss: -0.9756 - cosine_similarity: 0.9822 - mean_absolute_error: 0.0054 - val_loss: -0.9780 - val_cosine_similarity: 0.9842 - val_mean_absolute_error: 0.0042 - lr: 5.0000e-05\n",
      "Epoch 135/200\n",
      "297/297 [==============================] - 2s 8ms/step - loss: -0.9754 - cosine_similarity: 0.9820 - mean_absolute_error: 0.0054 - val_loss: -0.9781 - val_cosine_similarity: 0.9842 - val_mean_absolute_error: 0.0042 - lr: 5.0000e-05\n",
      "Epoch 136/200\n",
      "297/297 [==============================] - 2s 8ms/step - loss: -0.9755 - cosine_similarity: 0.9821 - mean_absolute_error: 0.0054 - val_loss: -0.9781 - val_cosine_similarity: 0.9842 - val_mean_absolute_error: 0.0042 - lr: 5.0000e-05\n",
      "Epoch 137/200\n",
      "297/297 [==============================] - 2s 8ms/step - loss: -0.9755 - cosine_similarity: 0.9821 - mean_absolute_error: 0.0054 - val_loss: -0.9781 - val_cosine_similarity: 0.9842 - val_mean_absolute_error: 0.0042 - lr: 5.0000e-05\n",
      "Epoch 138/200\n",
      "297/297 [==============================] - 2s 8ms/step - loss: -0.9755 - cosine_similarity: 0.9821 - mean_absolute_error: 0.0054 - val_loss: -0.9781 - val_cosine_similarity: 0.9842 - val_mean_absolute_error: 0.0042 - lr: 5.0000e-05\n",
      "Epoch 139/200\n",
      "297/297 [==============================] - 2s 8ms/step - loss: -0.9755 - cosine_similarity: 0.9821 - mean_absolute_error: 0.0054 - val_loss: -0.9781 - val_cosine_similarity: 0.9842 - val_mean_absolute_error: 0.0042 - lr: 5.0000e-05\n",
      "Epoch 140/200\n",
      "297/297 [==============================] - 2s 8ms/step - loss: -0.9755 - cosine_similarity: 0.9821 - mean_absolute_error: 0.0054 - val_loss: -0.9781 - val_cosine_similarity: 0.9842 - val_mean_absolute_error: 0.0042 - lr: 5.0000e-05\n",
      "Epoch 141/200\n",
      "297/297 [==============================] - 2s 8ms/step - loss: -0.9755 - cosine_similarity: 0.9821 - mean_absolute_error: 0.0054 - val_loss: -0.9781 - val_cosine_similarity: 0.9842 - val_mean_absolute_error: 0.0042 - lr: 5.0000e-05\n",
      "Epoch 142/200\n",
      "297/297 [==============================] - 2s 8ms/step - loss: -0.9754 - cosine_similarity: 0.9820 - mean_absolute_error: 0.0055 - val_loss: -0.9781 - val_cosine_similarity: 0.9842 - val_mean_absolute_error: 0.0042 - lr: 5.0000e-05\n",
      "Epoch 143/200\n",
      "297/297 [==============================] - 2s 8ms/step - loss: -0.9755 - cosine_similarity: 0.9821 - mean_absolute_error: 0.0054 - val_loss: -0.9781 - val_cosine_similarity: 0.9842 - val_mean_absolute_error: 0.0042 - lr: 5.0000e-05\n",
      "Epoch 144/200\n",
      "297/297 [==============================] - 2s 8ms/step - loss: -0.9755 - cosine_similarity: 0.9821 - mean_absolute_error: 0.0054 - val_loss: -0.9781 - val_cosine_similarity: 0.9842 - val_mean_absolute_error: 0.0042 - lr: 5.0000e-05\n"
     ]
    },
    {
     "data": {
      "text/plain": [
       "<keras.src.callbacks.History at 0x2e54d2450>"
      ]
     },
     "execution_count": 15,
     "metadata": {},
     "output_type": "execute_result"
    }
   ],
   "source": [
    "ae.fit(\n",
    "    train,\n",
    "    train, \n",
    "    batch_size=64,\n",
    "    validation_data=(test,test),\n",
    "    epochs=5 if just_checking_integrity else 200,\n",
    "    shuffle=True,\n",
    "    callbacks=[\n",
    "            tf.keras.callbacks.EarlyStopping(\n",
    "                monitor='cosine_similarity',\n",
    "                patience=10,\n",
    "                restore_best_weights=True,\n",
    "                mode=\"max\"\n",
    "            ),\n",
    "            tf.keras.callbacks.ReduceLROnPlateau(\n",
    "                monitor='val_cosine_similarity',\n",
    "                factor=0.7,\n",
    "                patience=2,\n",
    "                min_lr=5e-5,\n",
    "                mode=\"max\",\n",
    "                min_delta=0.0001,\n",
    "            )\n",
    "        ]\n",
    "    )"
   ]
  },
  {
   "cell_type": "code",
   "execution_count": 16,
   "metadata": {
    "id": "Tg3gvuN8mpzC"
   },
   "outputs": [],
   "source": [
    "temp=encoder(dataset)"
   ]
  },
  {
   "cell_type": "code",
   "execution_count": 17,
   "metadata": {
    "colab": {
     "base_uri": "https://localhost:8080/"
    },
    "id": "HZTvwE1TLWOG",
    "outputId": "aa30495d-1a9c-4535-bd99-9d6b86031c75"
   },
   "outputs": [
    {
     "data": {
      "text/plain": [
       "TensorShape([23692, 64])"
      ]
     },
     "execution_count": 17,
     "metadata": {},
     "output_type": "execute_result"
    }
   ],
   "source": [
    "temp.shape"
   ]
  },
  {
   "cell_type": "code",
   "execution_count": 18,
   "metadata": {
    "id": "MDa2sbTaROWr"
   },
   "outputs": [
    {
     "data": {
      "text/plain": [
       "<tf.Tensor: shape=(23692, 64), dtype=float32, numpy=\n",
       "array([[-0.01806994,  0.0089377 ,  0.15051028, ...,  0.03708984,\n",
       "         0.01504658, -0.0039938 ],\n",
       "       [ 0.04988107, -0.02240731, -0.17651683, ...,  0.04909024,\n",
       "        -0.0692801 , -0.08338314],\n",
       "       [ 0.04035887, -0.03615299, -0.09513128, ..., -0.04654828,\n",
       "        -0.09808538, -0.04732575],\n",
       "       ...,\n",
       "       [ 0.14372921,  0.06672861, -0.14092936, ..., -0.1015987 ,\n",
       "        -0.02589842, -0.00743572],\n",
       "       [ 0.03895115,  0.03133077, -0.03150491, ...,  0.16357984,\n",
       "         0.29659215,  0.25815088],\n",
       "       [ 0.04904211,  0.03686346, -0.2726057 , ...,  0.0152264 ,\n",
       "         0.3298344 ,  0.02656483]], dtype=float32)>"
      ]
     },
     "execution_count": 18,
     "metadata": {},
     "output_type": "execute_result"
    }
   ],
   "source": [
    "temp"
   ]
  },
  {
   "cell_type": "code",
   "execution_count": 19,
   "metadata": {
    "colab": {
     "base_uri": "https://localhost:8080/"
    },
    "id": "n-ig2ac3nwSt",
    "outputId": "7b1e3aff-f035-40a2-f991-58bb70faa83e"
   },
   "outputs": [
    {
     "data": {
      "text/plain": [
       "(3.9407606, -3.9119434, 0.94978845)"
      ]
     },
     "execution_count": 19,
     "metadata": {},
     "output_type": "execute_result"
    }
   ],
   "source": [
    "tf.reduce_sum(temp,axis=1).numpy().max(),tf.reduce_sum(temp,axis=1).numpy().min(),tf.reduce_sum(temp,axis=1).numpy().std()"
   ]
  },
  {
   "cell_type": "code",
   "execution_count": 20,
   "metadata": {
    "id": "yb0eE4AX8YsR"
   },
   "outputs": [],
   "source": [
    "np.save('../dataset/processed_data/compressed_features', encoder(dataset))"
   ]
  },
  {
   "cell_type": "code",
   "execution_count": null,
   "metadata": {},
   "outputs": [],
   "source": []
  }
 ],
 "metadata": {
  "colab": {
   "collapsed_sections": [
    "N4VfhKeUsWxY",
    "HJzIzAFy198k",
    "d3nCfuxMKi8X"
   ],
   "name": "Copia di Recsys_VAE.ipynb",
   "provenance": []
  },
  "kernelspec": {
   "display_name": "Python 3 (ipykernel)",
   "language": "python",
   "name": "python3"
  },
  "language_info": {
   "codemirror_mode": {
    "name": "ipython",
    "version": 3
   },
   "file_extension": ".py",
   "mimetype": "text/x-python",
   "name": "python",
   "nbconvert_exporter": "python",
   "pygments_lexer": "ipython3",
   "version": "3.11.5"
  },
  "vscode": {
   "interpreter": {
    "hash": "61f38fddaed46afda7c40a5798d4631266e18af1d335aa6f772dc3ed9b8ab549"
   }
  }
 },
 "nbformat": 4,
 "nbformat_minor": 4
}
