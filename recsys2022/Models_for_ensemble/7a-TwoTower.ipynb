{
  "cells": [
    {
      "cell_type": "markdown",
      "metadata": {
        "id": "view-in-github",
        "colab_type": "text"
      },
      "source": [
        "<a href=\"https://colab.research.google.com/github/stavco9/rs-final-project/blob/main/recsys2022/Models_for_ensemble/7a-TwoTower.ipynb\" target=\"_parent\"><img src=\"https://colab.research.google.com/assets/colab-badge.svg\" alt=\"Open In Colab\"/></a>"
      ]
    },
    {
      "cell_type": "code",
      "execution_count": 1,
      "metadata": {
        "id": "SnLdjY_dHmlP"
      },
      "outputs": [],
      "source": [
        "just_checking_integrity=False\n",
        "rows=3000\n",
        "test_rows=1000"
      ]
    },
    {
      "cell_type": "code",
      "execution_count": 2,
      "metadata": {
        "_cell_guid": "3946c204-a3f5-44a7-b643-cac70a77fe70",
        "_uuid": "f28177d0-e4d9-4bba-9b30-86b78e8bed57",
        "id": "zSNsQsszHgO5",
        "jupyter": {
          "outputs_hidden": false
        }
      },
      "outputs": [],
      "source": [
        "import pandas as pd\n",
        "import tensorflow as tf\n",
        "from tensorflow.keras import layers\n",
        "from sklearn.model_selection import train_test_split\n",
        "import numpy as np\n",
        "import datetime\n",
        "from itertools import compress\n",
        "from math import sin, cos\n",
        "import ast"
      ]
    },
    {
      "cell_type": "code",
      "execution_count": 3,
      "metadata": {
        "id": "hoxk123_HmlR"
      },
      "outputs": [],
      "source": [
        "from tqdm.auto import tqdm\n",
        "tqdm.pandas()"
      ]
    },
    {
      "cell_type": "markdown",
      "metadata": {
        "_cell_guid": "23f0792f-b475-4b29-95a6-909ab82ee477",
        "_uuid": "dace2a44-cc37-4ba8-b70d-7a3a34597b80",
        "id": "36zIGmdV53fm"
      },
      "source": [
        "## Custom metric"
      ]
    },
    {
      "cell_type": "code",
      "execution_count": 4,
      "metadata": {
        "_cell_guid": "74d38947-d45d-44c8-8fba-a1d8dbc94fea",
        "_uuid": "13a36ff4-0b31-4462-90c9-c2ee3616080a",
        "id": "tWGIbax5oB5u"
      },
      "outputs": [],
      "source": [
        "def mrr_top_at(at=100):\n",
        "    @tf.function\n",
        "    def mrr_top(y_true,y_pred):\n",
        "        top_k=tf.math.top_k(y_pred,k=at)\n",
        "        rr=top_k.indices\n",
        "        #print(rr)\n",
        "        idx=tf.range(start=1,limit=at+1,delta=1)\n",
        "        y_true=tf.reshape(y_true,[-1,1])\n",
        "        #print(y_true)\n",
        "        #y_true=tf.broadcast_to(y_true,test.shape)\n",
        "        y_true=tf.cast(y_true,tf.int32)\n",
        "        ranking=tf.where(tf.math.equal(rr,y_true),idx,0)\n",
        "        #print(ranking)\n",
        "        ranking=tf.reduce_sum(ranking,axis=-1)\n",
        "        ranking=tf.where(ranking>0,1/ranking,0)\n",
        "        #print(ranking)\n",
        "        ranking=tf.reduce_mean(ranking)\n",
        "        return ranking\n",
        "    return mrr_top"
      ]
    },
    {
      "cell_type": "markdown",
      "metadata": {
        "_cell_guid": "a0a7c467-e7ba-4ef6-ab89-838ff773662c",
        "_uuid": "eeb2b8cd-ea29-4c1b-97d6-571b76d0c1a7",
        "id": "JrUZ80Og55r7"
      },
      "source": [
        "## Custom layers"
      ]
    },
    {
      "cell_type": "code",
      "execution_count": 5,
      "metadata": {
        "_cell_guid": "7e4f474d-c680-4449-a3e6-cbda91cc90ca",
        "_uuid": "45d88bb0-83ba-4108-bb6c-816656329082",
        "id": "WpNQO7sTMibJ"
      },
      "outputs": [],
      "source": [
        "class TransformerBlock(layers.Layer):\n",
        "    def __init__(self, embed_dim, num_heads, ff_dim, rate=0.1):\n",
        "        super(TransformerBlock, self).__init__()\n",
        "        self.att = layers.MultiHeadAttention(num_heads=num_heads, key_dim=embed_dim)\n",
        "        self.ffn = tf.keras.Sequential(\n",
        "            [layers.Dense(ff_dim, activation=\"relu\"), layers.Dense(embed_dim),]\n",
        "        )\n",
        "        self.layernorm1 = layers.LayerNormalization(epsilon=1e-6)\n",
        "        self.layernorm2 = layers.LayerNormalization(epsilon=1e-6)\n",
        "        self.dropout1 = layers.Dropout(rate)\n",
        "        self.dropout2 = layers.Dropout(rate)\n",
        "\n",
        "    def call(self, inputs, training):\n",
        "        attn_output = self.att(inputs, inputs)\n",
        "        attn_output = self.dropout1(attn_output, training=training)\n",
        "        out1 = self.layernorm1(inputs + attn_output)\n",
        "        ffn_output = self.ffn(out1)\n",
        "        ffn_output = self.dropout2(ffn_output, training=training)\n",
        "        return self.layernorm2(out1 + ffn_output)"
      ]
    },
    {
      "cell_type": "code",
      "execution_count": 7,
      "metadata": {
        "_cell_guid": "4226f190-080d-47e5-841b-2932eab7184e",
        "_uuid": "83de6ec2-3fac-4879-bd79-962efa1d7eca",
        "id": "Ywvv14StmYv6"
      },
      "outputs": [],
      "source": [
        "class TokenAndPositionEmbedding(layers.Layer):\n",
        "    def __init__(\n",
        "        self,\n",
        "        maxlen,\n",
        "        vocab_size,\n",
        "        embed_dim,\n",
        "        item_embedding_trainable=True,\n",
        "        embedding_weights=None\n",
        "        ):\n",
        "        super(TokenAndPositionEmbedding, self).__init__()\n",
        "        self.token_emb = layers.Embedding(\n",
        "            input_dim=vocab_size,\n",
        "            output_dim=embed_dim,\n",
        "            trainable=item_embedding_trainable,\n",
        "            weights=embedding_weights\n",
        "            )\n",
        "        self.pos_emb = layers.Embedding(input_dim=maxlen, output_dim=embed_dim)\n",
        "\n",
        "    def call(self, x):\n",
        "        maxlen = tf.shape(x)[-1]\n",
        "        positions = tf.range(start=maxlen-1, limit=0, delta=-1)\n",
        "        positions = self.pos_emb(positions)\n",
        "        x = self.token_emb(x)\n",
        "        return x + positions"
      ]
    },
    {
      "cell_type": "code",
      "execution_count": 6,
      "metadata": {
        "_cell_guid": "9321d53a-0365-40c3-a738-74a37cdab1b2",
        "_uuid": "f00a1bd9-44b7-46e4-96cb-34d18c6ef094",
        "id": "5II46ARomYkg"
      },
      "outputs": [],
      "source": [
        "class PositionEmbedding(layers.Layer):\n",
        "    def __init__(\n",
        "        self,\n",
        "        maxlen,\n",
        "        embed_dim,\n",
        "        ):\n",
        "        super(PositionEmbedding, self).__init__()\n",
        "        self.pos_emb = layers.Embedding(input_dim=maxlen, output_dim=embed_dim)\n",
        "\n",
        "    def call(self, x):\n",
        "        maxlen = tf.shape(x)[-1]\n",
        "        positions = tf.range(start=0, limit=maxlen, delta=1)\n",
        "        positions = self.pos_emb(positions)\n",
        "        return positions"
      ]
    },
    {
      "cell_type": "markdown",
      "metadata": {
        "_cell_guid": "0bd301f6-e2fe-4d01-9617-1459fa110e26",
        "_uuid": "b05008ee-029f-4ef1-ab68-4ffb2e1e0c52",
        "id": "nPdEPhcbArlf"
      },
      "source": [
        "# Prepare dataset"
      ]
    },
    {
      "cell_type": "code",
      "execution_count": 8,
      "metadata": {
        "colab": {
          "base_uri": "https://localhost:8080/"
        },
        "id": "WU1iiveBIIBu",
        "outputId": "2c27ecc9-0894-4995-cbb4-976906fc3a89"
      },
      "outputs": [
        {
          "output_type": "stream",
          "name": "stdout",
          "text": [
            "Mounted at /content/drive\n",
            "/content/drive/My Drive/IDC_MSc/Year1/ReccomendationSystems/Final_Project\n"
          ]
        }
      ],
      "source": [
        "from google.colab import drive\n",
        "drive.mount('/content/drive')\n",
        "%cd \"/content/drive/My Drive/IDC_MSc/Year1/ReccomendationSystems/Final_Project/\""
      ]
    },
    {
      "cell_type": "code",
      "execution_count": 10,
      "metadata": {
        "_cell_guid": "99e48e16-1a9f-4b64-abdd-d48ad59421d3",
        "_uuid": "16d23d98-ec1b-4e7d-a0e5-1e01ddaab89f",
        "colab": {
          "base_uri": "https://localhost:8080/",
          "height": 206
        },
        "id": "kdwGb-syHVoO",
        "outputId": "c9137ed9-942f-4aa0-806a-538caa29a3f7"
      },
      "outputs": [
        {
          "output_type": "execute_result",
          "data": {
            "text/plain": [
              "   item_id\n",
              "0        1\n",
              "1        2\n",
              "2        3\n",
              "3        4\n",
              "4        5"
            ],
            "text/html": [
              "\n",
              "  <div id=\"df-18c09733-c0a4-493b-95e7-73f02c902b9f\" class=\"colab-df-container\">\n",
              "    <div>\n",
              "<style scoped>\n",
              "    .dataframe tbody tr th:only-of-type {\n",
              "        vertical-align: middle;\n",
              "    }\n",
              "\n",
              "    .dataframe tbody tr th {\n",
              "        vertical-align: top;\n",
              "    }\n",
              "\n",
              "    .dataframe thead th {\n",
              "        text-align: right;\n",
              "    }\n",
              "</style>\n",
              "<table border=\"1\" class=\"dataframe\">\n",
              "  <thead>\n",
              "    <tr style=\"text-align: right;\">\n",
              "      <th></th>\n",
              "      <th>item_id</th>\n",
              "    </tr>\n",
              "  </thead>\n",
              "  <tbody>\n",
              "    <tr>\n",
              "      <th>0</th>\n",
              "      <td>1</td>\n",
              "    </tr>\n",
              "    <tr>\n",
              "      <th>1</th>\n",
              "      <td>2</td>\n",
              "    </tr>\n",
              "    <tr>\n",
              "      <th>2</th>\n",
              "      <td>3</td>\n",
              "    </tr>\n",
              "    <tr>\n",
              "      <th>3</th>\n",
              "      <td>4</td>\n",
              "    </tr>\n",
              "    <tr>\n",
              "      <th>4</th>\n",
              "      <td>5</td>\n",
              "    </tr>\n",
              "  </tbody>\n",
              "</table>\n",
              "</div>\n",
              "    <div class=\"colab-df-buttons\">\n",
              "\n",
              "  <div class=\"colab-df-container\">\n",
              "    <button class=\"colab-df-convert\" onclick=\"convertToInteractive('df-18c09733-c0a4-493b-95e7-73f02c902b9f')\"\n",
              "            title=\"Convert this dataframe to an interactive table.\"\n",
              "            style=\"display:none;\">\n",
              "\n",
              "  <svg xmlns=\"http://www.w3.org/2000/svg\" height=\"24px\" viewBox=\"0 -960 960 960\">\n",
              "    <path d=\"M120-120v-720h720v720H120Zm60-500h600v-160H180v160Zm220 220h160v-160H400v160Zm0 220h160v-160H400v160ZM180-400h160v-160H180v160Zm440 0h160v-160H620v160ZM180-180h160v-160H180v160Zm440 0h160v-160H620v160Z\"/>\n",
              "  </svg>\n",
              "    </button>\n",
              "\n",
              "  <style>\n",
              "    .colab-df-container {\n",
              "      display:flex;\n",
              "      gap: 12px;\n",
              "    }\n",
              "\n",
              "    .colab-df-convert {\n",
              "      background-color: #E8F0FE;\n",
              "      border: none;\n",
              "      border-radius: 50%;\n",
              "      cursor: pointer;\n",
              "      display: none;\n",
              "      fill: #1967D2;\n",
              "      height: 32px;\n",
              "      padding: 0 0 0 0;\n",
              "      width: 32px;\n",
              "    }\n",
              "\n",
              "    .colab-df-convert:hover {\n",
              "      background-color: #E2EBFA;\n",
              "      box-shadow: 0px 1px 2px rgba(60, 64, 67, 0.3), 0px 1px 3px 1px rgba(60, 64, 67, 0.15);\n",
              "      fill: #174EA6;\n",
              "    }\n",
              "\n",
              "    .colab-df-buttons div {\n",
              "      margin-bottom: 4px;\n",
              "    }\n",
              "\n",
              "    [theme=dark] .colab-df-convert {\n",
              "      background-color: #3B4455;\n",
              "      fill: #D2E3FC;\n",
              "    }\n",
              "\n",
              "    [theme=dark] .colab-df-convert:hover {\n",
              "      background-color: #434B5C;\n",
              "      box-shadow: 0px 1px 3px 1px rgba(0, 0, 0, 0.15);\n",
              "      filter: drop-shadow(0px 1px 2px rgba(0, 0, 0, 0.3));\n",
              "      fill: #FFFFFF;\n",
              "    }\n",
              "  </style>\n",
              "\n",
              "    <script>\n",
              "      const buttonEl =\n",
              "        document.querySelector('#df-18c09733-c0a4-493b-95e7-73f02c902b9f button.colab-df-convert');\n",
              "      buttonEl.style.display =\n",
              "        google.colab.kernel.accessAllowed ? 'block' : 'none';\n",
              "\n",
              "      async function convertToInteractive(key) {\n",
              "        const element = document.querySelector('#df-18c09733-c0a4-493b-95e7-73f02c902b9f');\n",
              "        const dataTable =\n",
              "          await google.colab.kernel.invokeFunction('convertToInteractive',\n",
              "                                                    [key], {});\n",
              "        if (!dataTable) return;\n",
              "\n",
              "        const docLinkHtml = 'Like what you see? Visit the ' +\n",
              "          '<a target=\"_blank\" href=https://colab.research.google.com/notebooks/data_table.ipynb>data table notebook</a>'\n",
              "          + ' to learn more about interactive tables.';\n",
              "        element.innerHTML = '';\n",
              "        dataTable['output_type'] = 'display_data';\n",
              "        await google.colab.output.renderOutput(dataTable, element);\n",
              "        const docLink = document.createElement('div');\n",
              "        docLink.innerHTML = docLinkHtml;\n",
              "        element.appendChild(docLink);\n",
              "      }\n",
              "    </script>\n",
              "  </div>\n",
              "\n",
              "\n",
              "<div id=\"df-9585dfd9-a52e-4166-a7cf-8b69ead99885\">\n",
              "  <button class=\"colab-df-quickchart\" onclick=\"quickchart('df-9585dfd9-a52e-4166-a7cf-8b69ead99885')\"\n",
              "            title=\"Suggest charts\"\n",
              "            style=\"display:none;\">\n",
              "\n",
              "<svg xmlns=\"http://www.w3.org/2000/svg\" height=\"24px\"viewBox=\"0 0 24 24\"\n",
              "     width=\"24px\">\n",
              "    <g>\n",
              "        <path d=\"M19 3H5c-1.1 0-2 .9-2 2v14c0 1.1.9 2 2 2h14c1.1 0 2-.9 2-2V5c0-1.1-.9-2-2-2zM9 17H7v-7h2v7zm4 0h-2V7h2v10zm4 0h-2v-4h2v4z\"/>\n",
              "    </g>\n",
              "</svg>\n",
              "  </button>\n",
              "\n",
              "<style>\n",
              "  .colab-df-quickchart {\n",
              "      --bg-color: #E8F0FE;\n",
              "      --fill-color: #1967D2;\n",
              "      --hover-bg-color: #E2EBFA;\n",
              "      --hover-fill-color: #174EA6;\n",
              "      --disabled-fill-color: #AAA;\n",
              "      --disabled-bg-color: #DDD;\n",
              "  }\n",
              "\n",
              "  [theme=dark] .colab-df-quickchart {\n",
              "      --bg-color: #3B4455;\n",
              "      --fill-color: #D2E3FC;\n",
              "      --hover-bg-color: #434B5C;\n",
              "      --hover-fill-color: #FFFFFF;\n",
              "      --disabled-bg-color: #3B4455;\n",
              "      --disabled-fill-color: #666;\n",
              "  }\n",
              "\n",
              "  .colab-df-quickchart {\n",
              "    background-color: var(--bg-color);\n",
              "    border: none;\n",
              "    border-radius: 50%;\n",
              "    cursor: pointer;\n",
              "    display: none;\n",
              "    fill: var(--fill-color);\n",
              "    height: 32px;\n",
              "    padding: 0;\n",
              "    width: 32px;\n",
              "  }\n",
              "\n",
              "  .colab-df-quickchart:hover {\n",
              "    background-color: var(--hover-bg-color);\n",
              "    box-shadow: 0 1px 2px rgba(60, 64, 67, 0.3), 0 1px 3px 1px rgba(60, 64, 67, 0.15);\n",
              "    fill: var(--button-hover-fill-color);\n",
              "  }\n",
              "\n",
              "  .colab-df-quickchart-complete:disabled,\n",
              "  .colab-df-quickchart-complete:disabled:hover {\n",
              "    background-color: var(--disabled-bg-color);\n",
              "    fill: var(--disabled-fill-color);\n",
              "    box-shadow: none;\n",
              "  }\n",
              "\n",
              "  .colab-df-spinner {\n",
              "    border: 2px solid var(--fill-color);\n",
              "    border-color: transparent;\n",
              "    border-bottom-color: var(--fill-color);\n",
              "    animation:\n",
              "      spin 1s steps(1) infinite;\n",
              "  }\n",
              "\n",
              "  @keyframes spin {\n",
              "    0% {\n",
              "      border-color: transparent;\n",
              "      border-bottom-color: var(--fill-color);\n",
              "      border-left-color: var(--fill-color);\n",
              "    }\n",
              "    20% {\n",
              "      border-color: transparent;\n",
              "      border-left-color: var(--fill-color);\n",
              "      border-top-color: var(--fill-color);\n",
              "    }\n",
              "    30% {\n",
              "      border-color: transparent;\n",
              "      border-left-color: var(--fill-color);\n",
              "      border-top-color: var(--fill-color);\n",
              "      border-right-color: var(--fill-color);\n",
              "    }\n",
              "    40% {\n",
              "      border-color: transparent;\n",
              "      border-right-color: var(--fill-color);\n",
              "      border-top-color: var(--fill-color);\n",
              "    }\n",
              "    60% {\n",
              "      border-color: transparent;\n",
              "      border-right-color: var(--fill-color);\n",
              "    }\n",
              "    80% {\n",
              "      border-color: transparent;\n",
              "      border-right-color: var(--fill-color);\n",
              "      border-bottom-color: var(--fill-color);\n",
              "    }\n",
              "    90% {\n",
              "      border-color: transparent;\n",
              "      border-bottom-color: var(--fill-color);\n",
              "    }\n",
              "  }\n",
              "</style>\n",
              "\n",
              "  <script>\n",
              "    async function quickchart(key) {\n",
              "      const quickchartButtonEl =\n",
              "        document.querySelector('#' + key + ' button');\n",
              "      quickchartButtonEl.disabled = true;  // To prevent multiple clicks.\n",
              "      quickchartButtonEl.classList.add('colab-df-spinner');\n",
              "      try {\n",
              "        const charts = await google.colab.kernel.invokeFunction(\n",
              "            'suggestCharts', [key], {});\n",
              "      } catch (error) {\n",
              "        console.error('Error during call to suggestCharts:', error);\n",
              "      }\n",
              "      quickchartButtonEl.classList.remove('colab-df-spinner');\n",
              "      quickchartButtonEl.classList.add('colab-df-quickchart-complete');\n",
              "    }\n",
              "    (() => {\n",
              "      let quickchartButtonEl =\n",
              "        document.querySelector('#df-9585dfd9-a52e-4166-a7cf-8b69ead99885 button');\n",
              "      quickchartButtonEl.style.display =\n",
              "        google.colab.kernel.accessAllowed ? 'block' : 'none';\n",
              "    })();\n",
              "  </script>\n",
              "</div>\n",
              "\n",
              "    </div>\n",
              "  </div>\n"
            ],
            "application/vnd.google.colaboratory.intrinsic+json": {
              "type": "dataframe",
              "variable_name": "candidate_items",
              "summary": "{\n  \"name\": \"candidate_items\",\n  \"rows\": 4990,\n  \"fields\": [\n    {\n      \"column\": \"item_id\",\n      \"properties\": {\n        \"dtype\": \"number\",\n        \"std\": 1440,\n        \"min\": 1,\n        \"max\": 4990,\n        \"samples\": [\n          4728,\n          2317,\n          3670\n        ],\n        \"num_unique_values\": 4990,\n        \"semantic_type\": \"\",\n        \"description\": \"\"\n      }\n    }\n  ]\n}"
            }
          },
          "metadata": {},
          "execution_count": 10
        }
      ],
      "source": [
        "candidate_items = pd.read_csv('./dataset/processed_data/candidate_items_mapped.csv')\n",
        "candidate_items.head()"
      ]
    },
    {
      "cell_type": "code",
      "execution_count": 11,
      "metadata": {
        "_cell_guid": "6b83d25e-6434-4eea-b894-c5dac1bb3cd4",
        "_uuid": "dfdb67c0-bf5b-42f2-a325-69802004f77a",
        "colab": {
          "base_uri": "https://localhost:8080/"
        },
        "id": "w5LUoNPaouyG",
        "outputId": "ee6510c4-4096-4da3-85e1-b89d68969d48"
      },
      "outputs": [
        {
          "output_type": "execute_result",
          "data": {
            "text/plain": [
              "(23692, 64)"
            ]
          },
          "metadata": {},
          "execution_count": 11
        }
      ],
      "source": [
        "embedding_weights = np.load('./dataset/processed_data/compressed_features.npy')\n",
        "import os\n",
        "import scipy.sparse as sps\n",
        "def get_ICM(files_directory=\"./dataset/processed_data\"):\n",
        "    df_icm = pd.read_csv(filepath_or_buffer=os.path.join(files_directory, 'simplified_features_and_categories_30.csv'), sep=',', header=0)\n",
        "\n",
        "    item_id_list = df_icm['item_id'].values\n",
        "    feat_id_list = df_icm['feature_idx'].values\n",
        "    rating_id_list = np.ones_like(feat_id_list)\n",
        "    ICM_matrix = sps.csr_matrix((rating_id_list, (item_id_list, feat_id_list)))\n",
        "    return ICM_matrix\n",
        "\n",
        "ICM=get_ICM()\n",
        "embedding_weights.shape"
      ]
    },
    {
      "cell_type": "code",
      "execution_count": 12,
      "metadata": {
        "_cell_guid": "3c5c850e-08c2-450c-8f13-2164141918d8",
        "_uuid": "cf07b546-3468-4c45-bac7-1d1a54021b74",
        "id": "pdJPGOaaXfhg",
        "jupyter": {
          "outputs_hidden": false
        }
      },
      "outputs": [],
      "source": [
        "result =  pd.read_csv(\"./dataset/processed_data/macro_feats_NN.csv\",parse_dates=[\"date_session_starting\"],\n",
        "     infer_datetime_format=True)\n",
        "\n",
        "\n",
        "\n",
        "result[\"item_id\"]=result[\"item_id\"].map(ast.literal_eval)\n",
        "result[\"timedelta\"]=result[\"timedelta\"].map(ast.literal_eval)\n",
        "\n",
        "def is_reseen(x):\n",
        "    #print(x)\n",
        "    seen={}\n",
        "    res=[]\n",
        "    for item in x:\n",
        "        if item in seen:\n",
        "            res.append(seen[item])\n",
        "            seen[item]+=1\n",
        "        else:\n",
        "            res.append(0)\n",
        "            seen[item]=1\n",
        "    return res\n",
        "\n",
        "def percentage_seen(x):\n",
        "    size=len(x)\n",
        "    return [(i+1)/size for i in range(size)]"
      ]
    },
    {
      "cell_type": "code",
      "execution_count": 13,
      "metadata": {
        "_cell_guid": "955562dc-1c1b-406b-af22-00d795f4fa86",
        "_uuid": "5cbc5f14-2a07-4920-9333-b46c0d11f5ff",
        "colab": {
          "base_uri": "https://localhost:8080/",
          "height": 81,
          "referenced_widgets": [
            "9f1f5ccc1da949b884c6655b2717ef77",
            "d13e85e5213842d09fcbbde984a7bdee",
            "8f2b18ec4a914390b4fc533b61c26760",
            "49a1fa47007440bdac1ccbe9ff289efc",
            "307ce634fb5b4866a1ffe799d094aafb",
            "079b81d7edb742c083c19cc75488cf83",
            "aa0c0df325b3408997649652567f0cdc",
            "f3941e0ea176466da29c87d56764a627",
            "761400e15b8e4ed9a10f6819f41b6a27",
            "ada5868c22dd42478d44fa43c6e3f7e2",
            "6cf26475afc34f06ad7a0016d35a076a",
            "9af06ede924942f79abbcd0ea7213199",
            "4cbff763b8ff4a03b1957d9a0082f2c8",
            "664032e2d0f94ac39689963e64c86a29",
            "f5256a2cd69f4cf395e0041e4aae0c99",
            "dcd5279e832e4a70a4ed0777ad4db1d4",
            "1afaf4ecfa59446eac92bf2560562dc1",
            "f0588db36ee2469884f79ee2a40a83fc",
            "27cb340ce27b4a698a87dd4ffde1eca4",
            "7d7fab389dc740739d8ead21e3d6a492",
            "6731369601ce46bdae0cf8c7168bc5f9",
            "eeeca78a3b574c88b1e3657b516220c6"
          ]
        },
        "id": "cLY9U8gg3fq7",
        "jupyter": {
          "outputs_hidden": false
        },
        "outputId": "76640bc2-7850-451d-b046-4c4d8375bf22"
      },
      "outputs": [
        {
          "output_type": "display_data",
          "data": {
            "text/plain": [
              "  0%|          | 0/1000000 [00:00<?, ?it/s]"
            ],
            "application/vnd.jupyter.widget-view+json": {
              "version_major": 2,
              "version_minor": 0,
              "model_id": "9f1f5ccc1da949b884c6655b2717ef77"
            }
          },
          "metadata": {}
        },
        {
          "output_type": "display_data",
          "data": {
            "text/plain": [
              "  0%|          | 0/1000000 [00:00<?, ?it/s]"
            ],
            "application/vnd.jupyter.widget-view+json": {
              "version_major": 2,
              "version_minor": 0,
              "model_id": "9af06ede924942f79abbcd0ea7213199"
            }
          },
          "metadata": {}
        }
      ],
      "source": [
        "x_reseen = tf.keras.preprocessing.sequence.pad_sequences(\n",
        "    result['item_id'].progress_apply(is_reseen),\n",
        "    padding='post',\n",
        "    maxlen=100,\n",
        "    dtype=\"int16\"\n",
        ")\n",
        "x_percentage_seen = tf.keras.preprocessing.sequence.pad_sequences(\n",
        "    result['item_id'].progress_apply(percentage_seen),\n",
        "    padding='post',\n",
        "    maxlen=100,\n",
        "    dtype='float16',\n",
        ")"
      ]
    },
    {
      "cell_type": "code",
      "execution_count": 14,
      "metadata": {
        "_cell_guid": "1b42dbc5-cac7-4285-87c4-5a9bfb61173e",
        "_uuid": "d92272ad-38f5-4768-85a3-95b25f870cee",
        "id": "SIspm4Y-3unJ",
        "jupyter": {
          "outputs_hidden": false
        }
      },
      "outputs": [],
      "source": [
        "def similarity_with_preceding(x):\n",
        "    if len(x)==1:\n",
        "        return np.array([0])\n",
        "    feats=embedding_weights[x]\n",
        "    #normalize\n",
        "    feats=np.divide(feats,np.linalg.norm(feats,axis=1).reshape((-1,1)))\n",
        "    feats_copy=feats.copy()\n",
        "    feats_copy=np.roll(feats_copy,1,axis=0)\n",
        "    feats_copy[0,:]=0\n",
        "    prod=np.multiply(feats,feats_copy).sum(axis=1)\n",
        "    return prod\n",
        "\n",
        "\n",
        "\n",
        "def similarity_feats_with_preceding(x):\n",
        "    if len(x)==1:\n",
        "        return np.array([0])\n",
        "    feats=ICM[x].toarray()\n",
        "    #normalize\n",
        "    feats=np.divide(feats,np.linalg.norm(feats,axis=1).reshape((-1,1)))\n",
        "    feats_copy=feats.copy()\n",
        "    feats_copy=np.roll(feats_copy,1,axis=0)\n",
        "    feats_copy[0,:]=0\n",
        "    prod=np.multiply(feats,feats_copy).sum(axis=1)\n",
        "    return prod"
      ]
    },
    {
      "cell_type": "code",
      "execution_count": 15,
      "metadata": {
        "_cell_guid": "64d580f1-7c29-4575-8fcc-86818579329f",
        "_uuid": "9e2965e6-9391-47a6-a1bf-c57ec2ed2f7a",
        "colab": {
          "base_uri": "https://localhost:8080/",
          "height": 81,
          "referenced_widgets": [
            "1bceb1ee13d04320b6f61efe330a8198",
            "3224299c0d7b4cecb485495a6ff6a63e",
            "9ecb15b22a854138a294c41212100604",
            "c70f9c12f30d4867978bc703483e9763",
            "e825bd17c0a44bef882f6b69104c00b4",
            "9ea141d2a8d54995a0e341ebbe509097",
            "ffb32b38c53a4850a24d3d984367c133",
            "640e74a115b74b74a307c575d113b692",
            "0d22d9e6dcce4bd58a98d2a1961e1ee9",
            "e11f8495f8ef4cb8831d9e2daf09237d",
            "df8d217b4f6c470299d0f34b5ce26e1c",
            "9269e34892914321bcd9e6f32c1c7d51",
            "0b2c589b10f34d61a5dd8b4fdcee7a86",
            "060afb9689d44fad850f4decc70fee01",
            "1af5b631648a4537bfeb6956744b1635",
            "eb4845d841d84194bd447555a00fe4eb",
            "c6b2e7ff760340eb81037e950a5476fe",
            "adda26b576ce4492bcabc08a4bfb4bfa",
            "3cc46b2deaa249789d500848846c3128",
            "a30600cf1fd34413aa2514408d714379",
            "1fc8db07e0e144129d55be2683fb1b7d",
            "e75c7befbf8c4193aab427b6753c8ae6"
          ]
        },
        "id": "pmwUjvrDnfAP",
        "jupyter": {
          "outputs_hidden": false
        },
        "outputId": "4ac941d7-673a-4a28-dfd7-6f090c71c2b4"
      },
      "outputs": [
        {
          "output_type": "display_data",
          "data": {
            "text/plain": [
              "  0%|          | 0/1000000 [00:00<?, ?it/s]"
            ],
            "application/vnd.jupyter.widget-view+json": {
              "version_major": 2,
              "version_minor": 0,
              "model_id": "1bceb1ee13d04320b6f61efe330a8198"
            }
          },
          "metadata": {}
        },
        {
          "output_type": "display_data",
          "data": {
            "text/plain": [
              "  0%|          | 0/1000000 [00:00<?, ?it/s]"
            ],
            "application/vnd.jupyter.widget-view+json": {
              "version_major": 2,
              "version_minor": 0,
              "model_id": "9269e34892914321bcd9e6f32c1c7d51"
            }
          },
          "metadata": {}
        }
      ],
      "source": [
        "x_simils = tf.keras.preprocessing.sequence.pad_sequences(\n",
        "    result['item_id'].progress_apply(similarity_with_preceding\n",
        "    ),\n",
        "    padding='post',\n",
        "    maxlen=100,\n",
        "    dtype='float16',\n",
        ")\n",
        "x_simils_feats = tf.keras.preprocessing.sequence.pad_sequences(\n",
        "    result['item_id'].progress_apply(similarity_feats_with_preceding\n",
        "    ),\n",
        "    padding='post',\n",
        "    maxlen=100,\n",
        "    dtype='float16',\n",
        ")"
      ]
    },
    {
      "cell_type": "code",
      "execution_count": 20,
      "metadata": {
        "_cell_guid": "8026aee1-a675-455c-ab32-3a3dfdef1104",
        "_uuid": "44c352d0-a8b0-4ffd-8ecf-706efb432cdd",
        "id": "3M8e0b_Sx2i-",
        "jupyter": {
          "outputs_hidden": false
        }
      },
      "outputs": [],
      "source": [
        "static_features_names = [\n",
        "                   'date_hour_sin',\n",
        "                   'date_hour_cos',\n",
        "                   'date_day_sin',\n",
        "                   'date_day_cos',\n",
        "                   'date_month_sin',\n",
        "                   'date_month_cos',\n",
        "                   'date_hour_sin_ending',\n",
        "                   'date_hour_cos_ending',\n",
        "                   'date_day_sin_ending',\n",
        "                   'date_day_cos_ending',\n",
        "                   'date_month_sin_ending',\n",
        "                   'date_month_cos_ending',\n",
        "                   'date_year_2020',\n",
        "                   'length_of_session_seconds',\n",
        "                   'avg_time_spent_per_item_seconds',\n",
        "                   'variance_time_spent_per_item_seconds',\n",
        "                   'n_seen_items',\n",
        "                   'n_unique_items',\n",
        "                   'user_went_afk',\n",
        "                   'is_weekend',\n",
        "                   'is_hot_hour',\n",
        "                   'is_night',\n",
        "                   'is_christmas_time',\n",
        "                   'is_black_friday',\n",
        "                   'session_similarity',\n",
        "                   'session_similarity_uniques',\n",
        "                   'session_similarity_feats',\n",
        "                   'session_similarity_feats_uniques'\n",
        "]\n",
        "for col in ['length_of_session_seconds','avg_time_spent_per_item_seconds','variance_time_spent_per_item_seconds']:\n",
        "    result[col]=np.log10(result[col]+1)\n",
        "for col in ['n_seen_items','n_unique_items']:\n",
        "    result[col]=result[col]/100\n",
        "\n",
        "item_related_features = ['timedelta']"
      ]
    },
    {
      "cell_type": "code",
      "execution_count": 21,
      "metadata": {
        "_cell_guid": "875c2771-46cf-4102-8620-3152b89484fe",
        "_uuid": "54fa77ac-d445-4913-9cba-06aff027ecad",
        "id": "hT_NE9H5KAeS",
        "jupyter": {
          "outputs_hidden": false
        },
        "outputId": "7b7bad81-fccf-47b0-9b11-95857d255328",
        "colab": {
          "base_uri": "https://localhost:8080/",
          "height": 206
        }
      },
      "outputs": [
        {
          "output_type": "execute_result",
          "data": {
            "text/plain": [
              "   session_id  item_id\n",
              "0      663204    12492\n",
              "1       85375     3299\n",
              "2      374472    17411\n",
              "3      526578    11229\n",
              "4       66630    11568"
            ],
            "text/html": [
              "\n",
              "  <div id=\"df-edaeabb0-bd5f-403b-bb72-c6c0ff65cc63\" class=\"colab-df-container\">\n",
              "    <div>\n",
              "<style scoped>\n",
              "    .dataframe tbody tr th:only-of-type {\n",
              "        vertical-align: middle;\n",
              "    }\n",
              "\n",
              "    .dataframe tbody tr th {\n",
              "        vertical-align: top;\n",
              "    }\n",
              "\n",
              "    .dataframe thead th {\n",
              "        text-align: right;\n",
              "    }\n",
              "</style>\n",
              "<table border=\"1\" class=\"dataframe\">\n",
              "  <thead>\n",
              "    <tr style=\"text-align: right;\">\n",
              "      <th></th>\n",
              "      <th>session_id</th>\n",
              "      <th>item_id</th>\n",
              "    </tr>\n",
              "  </thead>\n",
              "  <tbody>\n",
              "    <tr>\n",
              "      <th>0</th>\n",
              "      <td>663204</td>\n",
              "      <td>12492</td>\n",
              "    </tr>\n",
              "    <tr>\n",
              "      <th>1</th>\n",
              "      <td>85375</td>\n",
              "      <td>3299</td>\n",
              "    </tr>\n",
              "    <tr>\n",
              "      <th>2</th>\n",
              "      <td>374472</td>\n",
              "      <td>17411</td>\n",
              "    </tr>\n",
              "    <tr>\n",
              "      <th>3</th>\n",
              "      <td>526578</td>\n",
              "      <td>11229</td>\n",
              "    </tr>\n",
              "    <tr>\n",
              "      <th>4</th>\n",
              "      <td>66630</td>\n",
              "      <td>11568</td>\n",
              "    </tr>\n",
              "  </tbody>\n",
              "</table>\n",
              "</div>\n",
              "    <div class=\"colab-df-buttons\">\n",
              "\n",
              "  <div class=\"colab-df-container\">\n",
              "    <button class=\"colab-df-convert\" onclick=\"convertToInteractive('df-edaeabb0-bd5f-403b-bb72-c6c0ff65cc63')\"\n",
              "            title=\"Convert this dataframe to an interactive table.\"\n",
              "            style=\"display:none;\">\n",
              "\n",
              "  <svg xmlns=\"http://www.w3.org/2000/svg\" height=\"24px\" viewBox=\"0 -960 960 960\">\n",
              "    <path d=\"M120-120v-720h720v720H120Zm60-500h600v-160H180v160Zm220 220h160v-160H400v160Zm0 220h160v-160H400v160ZM180-400h160v-160H180v160Zm440 0h160v-160H620v160ZM180-180h160v-160H180v160Zm440 0h160v-160H620v160Z\"/>\n",
              "  </svg>\n",
              "    </button>\n",
              "\n",
              "  <style>\n",
              "    .colab-df-container {\n",
              "      display:flex;\n",
              "      gap: 12px;\n",
              "    }\n",
              "\n",
              "    .colab-df-convert {\n",
              "      background-color: #E8F0FE;\n",
              "      border: none;\n",
              "      border-radius: 50%;\n",
              "      cursor: pointer;\n",
              "      display: none;\n",
              "      fill: #1967D2;\n",
              "      height: 32px;\n",
              "      padding: 0 0 0 0;\n",
              "      width: 32px;\n",
              "    }\n",
              "\n",
              "    .colab-df-convert:hover {\n",
              "      background-color: #E2EBFA;\n",
              "      box-shadow: 0px 1px 2px rgba(60, 64, 67, 0.3), 0px 1px 3px 1px rgba(60, 64, 67, 0.15);\n",
              "      fill: #174EA6;\n",
              "    }\n",
              "\n",
              "    .colab-df-buttons div {\n",
              "      margin-bottom: 4px;\n",
              "    }\n",
              "\n",
              "    [theme=dark] .colab-df-convert {\n",
              "      background-color: #3B4455;\n",
              "      fill: #D2E3FC;\n",
              "    }\n",
              "\n",
              "    [theme=dark] .colab-df-convert:hover {\n",
              "      background-color: #434B5C;\n",
              "      box-shadow: 0px 1px 3px 1px rgba(0, 0, 0, 0.15);\n",
              "      filter: drop-shadow(0px 1px 2px rgba(0, 0, 0, 0.3));\n",
              "      fill: #FFFFFF;\n",
              "    }\n",
              "  </style>\n",
              "\n",
              "    <script>\n",
              "      const buttonEl =\n",
              "        document.querySelector('#df-edaeabb0-bd5f-403b-bb72-c6c0ff65cc63 button.colab-df-convert');\n",
              "      buttonEl.style.display =\n",
              "        google.colab.kernel.accessAllowed ? 'block' : 'none';\n",
              "\n",
              "      async function convertToInteractive(key) {\n",
              "        const element = document.querySelector('#df-edaeabb0-bd5f-403b-bb72-c6c0ff65cc63');\n",
              "        const dataTable =\n",
              "          await google.colab.kernel.invokeFunction('convertToInteractive',\n",
              "                                                    [key], {});\n",
              "        if (!dataTable) return;\n",
              "\n",
              "        const docLinkHtml = 'Like what you see? Visit the ' +\n",
              "          '<a target=\"_blank\" href=https://colab.research.google.com/notebooks/data_table.ipynb>data table notebook</a>'\n",
              "          + ' to learn more about interactive tables.';\n",
              "        element.innerHTML = '';\n",
              "        dataTable['output_type'] = 'display_data';\n",
              "        await google.colab.output.renderOutput(dataTable, element);\n",
              "        const docLink = document.createElement('div');\n",
              "        docLink.innerHTML = docLinkHtml;\n",
              "        element.appendChild(docLink);\n",
              "      }\n",
              "    </script>\n",
              "  </div>\n",
              "\n",
              "\n",
              "<div id=\"df-64bf810a-04f9-4509-aa91-613815a1e634\">\n",
              "  <button class=\"colab-df-quickchart\" onclick=\"quickchart('df-64bf810a-04f9-4509-aa91-613815a1e634')\"\n",
              "            title=\"Suggest charts\"\n",
              "            style=\"display:none;\">\n",
              "\n",
              "<svg xmlns=\"http://www.w3.org/2000/svg\" height=\"24px\"viewBox=\"0 0 24 24\"\n",
              "     width=\"24px\">\n",
              "    <g>\n",
              "        <path d=\"M19 3H5c-1.1 0-2 .9-2 2v14c0 1.1.9 2 2 2h14c1.1 0 2-.9 2-2V5c0-1.1-.9-2-2-2zM9 17H7v-7h2v7zm4 0h-2V7h2v10zm4 0h-2v-4h2v4z\"/>\n",
              "    </g>\n",
              "</svg>\n",
              "  </button>\n",
              "\n",
              "<style>\n",
              "  .colab-df-quickchart {\n",
              "      --bg-color: #E8F0FE;\n",
              "      --fill-color: #1967D2;\n",
              "      --hover-bg-color: #E2EBFA;\n",
              "      --hover-fill-color: #174EA6;\n",
              "      --disabled-fill-color: #AAA;\n",
              "      --disabled-bg-color: #DDD;\n",
              "  }\n",
              "\n",
              "  [theme=dark] .colab-df-quickchart {\n",
              "      --bg-color: #3B4455;\n",
              "      --fill-color: #D2E3FC;\n",
              "      --hover-bg-color: #434B5C;\n",
              "      --hover-fill-color: #FFFFFF;\n",
              "      --disabled-bg-color: #3B4455;\n",
              "      --disabled-fill-color: #666;\n",
              "  }\n",
              "\n",
              "  .colab-df-quickchart {\n",
              "    background-color: var(--bg-color);\n",
              "    border: none;\n",
              "    border-radius: 50%;\n",
              "    cursor: pointer;\n",
              "    display: none;\n",
              "    fill: var(--fill-color);\n",
              "    height: 32px;\n",
              "    padding: 0;\n",
              "    width: 32px;\n",
              "  }\n",
              "\n",
              "  .colab-df-quickchart:hover {\n",
              "    background-color: var(--hover-bg-color);\n",
              "    box-shadow: 0 1px 2px rgba(60, 64, 67, 0.3), 0 1px 3px 1px rgba(60, 64, 67, 0.15);\n",
              "    fill: var(--button-hover-fill-color);\n",
              "  }\n",
              "\n",
              "  .colab-df-quickchart-complete:disabled,\n",
              "  .colab-df-quickchart-complete:disabled:hover {\n",
              "    background-color: var(--disabled-bg-color);\n",
              "    fill: var(--disabled-fill-color);\n",
              "    box-shadow: none;\n",
              "  }\n",
              "\n",
              "  .colab-df-spinner {\n",
              "    border: 2px solid var(--fill-color);\n",
              "    border-color: transparent;\n",
              "    border-bottom-color: var(--fill-color);\n",
              "    animation:\n",
              "      spin 1s steps(1) infinite;\n",
              "  }\n",
              "\n",
              "  @keyframes spin {\n",
              "    0% {\n",
              "      border-color: transparent;\n",
              "      border-bottom-color: var(--fill-color);\n",
              "      border-left-color: var(--fill-color);\n",
              "    }\n",
              "    20% {\n",
              "      border-color: transparent;\n",
              "      border-left-color: var(--fill-color);\n",
              "      border-top-color: var(--fill-color);\n",
              "    }\n",
              "    30% {\n",
              "      border-color: transparent;\n",
              "      border-left-color: var(--fill-color);\n",
              "      border-top-color: var(--fill-color);\n",
              "      border-right-color: var(--fill-color);\n",
              "    }\n",
              "    40% {\n",
              "      border-color: transparent;\n",
              "      border-right-color: var(--fill-color);\n",
              "      border-top-color: var(--fill-color);\n",
              "    }\n",
              "    60% {\n",
              "      border-color: transparent;\n",
              "      border-right-color: var(--fill-color);\n",
              "    }\n",
              "    80% {\n",
              "      border-color: transparent;\n",
              "      border-right-color: var(--fill-color);\n",
              "      border-bottom-color: var(--fill-color);\n",
              "    }\n",
              "    90% {\n",
              "      border-color: transparent;\n",
              "      border-bottom-color: var(--fill-color);\n",
              "    }\n",
              "  }\n",
              "</style>\n",
              "\n",
              "  <script>\n",
              "    async function quickchart(key) {\n",
              "      const quickchartButtonEl =\n",
              "        document.querySelector('#' + key + ' button');\n",
              "      quickchartButtonEl.disabled = true;  // To prevent multiple clicks.\n",
              "      quickchartButtonEl.classList.add('colab-df-spinner');\n",
              "      try {\n",
              "        const charts = await google.colab.kernel.invokeFunction(\n",
              "            'suggestCharts', [key], {});\n",
              "      } catch (error) {\n",
              "        console.error('Error during call to suggestCharts:', error);\n",
              "      }\n",
              "      quickchartButtonEl.classList.remove('colab-df-spinner');\n",
              "      quickchartButtonEl.classList.add('colab-df-quickchart-complete');\n",
              "    }\n",
              "    (() => {\n",
              "      let quickchartButtonEl =\n",
              "        document.querySelector('#df-64bf810a-04f9-4509-aa91-613815a1e634 button');\n",
              "      quickchartButtonEl.style.display =\n",
              "        google.colab.kernel.accessAllowed ? 'block' : 'none';\n",
              "    })();\n",
              "  </script>\n",
              "</div>\n",
              "\n",
              "    </div>\n",
              "  </div>\n"
            ],
            "application/vnd.google.colaboratory.intrinsic+json": {
              "type": "dataframe",
              "variable_name": "train_purchases"
            }
          },
          "metadata": {},
          "execution_count": 21
        }
      ],
      "source": [
        "if just_checking_integrity:\n",
        "    train_purchases = pd.read_csv(\n",
        "    './dataset/processed_data/train_purchases_mapped.csv',\n",
        "    usecols = ['session_id', 'item_id'],\n",
        "    nrows=len(result)\n",
        "    )\n",
        "else:\n",
        "    train_purchases = pd.read_csv(\n",
        "    './dataset/processed_data/train_purchases_mapped.csv',\n",
        "    usecols = ['session_id', 'item_id'],\n",
        "    )\n",
        "train_purchases.head()"
      ]
    },
    {
      "cell_type": "code",
      "execution_count": 22,
      "metadata": {
        "_cell_guid": "85770635-6e50-4fcc-b7f1-dd6a77339a4c",
        "_uuid": "00d3f8ca-da51-4f52-b581-a1209fcff7d2",
        "id": "7D5UdxD_nFsJ",
        "jupyter": {
          "outputs_hidden": false
        }
      },
      "outputs": [],
      "source": [
        "train_purchases.sort_values(by=\"session_id\",inplace=True)"
      ]
    },
    {
      "cell_type": "code",
      "execution_count": 23,
      "metadata": {
        "_cell_guid": "4d0fa492-3aff-4891-bf86-8f8fc8961650",
        "_uuid": "0f2eba08-7f51-4820-b288-c79831699dad",
        "id": "pJHuoggZN76n",
        "jupyter": {
          "outputs_hidden": false
        }
      },
      "outputs": [],
      "source": [
        "x_ids = tf.keras.preprocessing.sequence.pad_sequences(\n",
        "    result['item_id'],\n",
        "    padding='post',\n",
        "    maxlen=100,\n",
        ")"
      ]
    },
    {
      "cell_type": "code",
      "execution_count": 24,
      "metadata": {
        "_cell_guid": "446a0a20-ac1f-41bf-829b-a73acb835378",
        "_uuid": "d00f26f6-7109-4242-a4d5-ec6a6ca13955",
        "id": "XhTHmzlnJkkn",
        "jupyter": {
          "outputs_hidden": false
        },
        "outputId": "4f706dc9-6390-4c77-cee4-f06776624e43",
        "colab": {
          "base_uri": "https://localhost:8080/"
        }
      },
      "outputs": [
        {
          "output_type": "stream",
          "name": "stdout",
          "text": [
            "Padding timedelta\n"
          ]
        }
      ],
      "source": [
        "for item_related_feature in item_related_features:\n",
        "  print('Padding {}'.format(item_related_feature))\n",
        "  x_item_related = tf.keras.preprocessing.sequence.pad_sequences(\n",
        "      result[item_related_feature],\n",
        "      dtype='float16',\n",
        "      maxlen=100,\n",
        "      padding='post'\n",
        "    )"
      ]
    },
    {
      "cell_type": "code",
      "execution_count": 25,
      "metadata": {
        "_cell_guid": "52b143c2-7ec8-4cf6-88dd-a371b0eb3cc6",
        "_uuid": "b9834a93-e661-4443-aaa5-922cfec62d1a",
        "id": "LC1CtWFNO_zT",
        "jupyter": {
          "outputs_hidden": false
        }
      },
      "outputs": [],
      "source": [
        "if len(item_related_features) == 1:\n",
        "  x_item_related = np.expand_dims(x_item_related, axis=-1)"
      ]
    },
    {
      "cell_type": "code",
      "execution_count": 26,
      "metadata": {
        "_cell_guid": "fe5a5d6e-951b-45bf-a5df-c3b28cef6aa2",
        "_uuid": "17111ae4-f1c8-41e4-a416-30ae10e83c39",
        "id": "8_CknegEb9F4",
        "jupyter": {
          "outputs_hidden": false
        }
      },
      "outputs": [],
      "source": [
        "y = train_purchases['item_id'].to_numpy()"
      ]
    },
    {
      "cell_type": "code",
      "execution_count": 27,
      "metadata": {
        "_cell_guid": "6d9db813-39bf-4c5a-9924-aeeea30f4421",
        "_uuid": "84df9d3b-cb15-41db-9a43-a3cb24a9b83f",
        "id": "hgFbJXIiMVK8",
        "jupyter": {
          "outputs_hidden": false
        }
      },
      "outputs": [],
      "source": [
        "y_features = embedding_weights[y]"
      ]
    },
    {
      "cell_type": "code",
      "execution_count": 28,
      "metadata": {
        "_cell_guid": "8459f340-fae1-4cd3-a08a-fe704aa3b4ee",
        "_uuid": "fa4aae05-cace-41d2-9936-b3662b7732d5",
        "id": "Ij3YstDfO1Vz",
        "jupyter": {
          "outputs_hidden": false
        }
      },
      "outputs": [],
      "source": [
        "last_month_start = datetime.datetime.strptime(\"01/05/21 00:00:00\", '%d/%m/%y %H:%M:%S')\n",
        "static_features=result[static_features_names].to_numpy()\n",
        "\n",
        "indexer = result[\"date_session_starting\"]>=last_month_start\n",
        "\n",
        "x_session_ids_last_month=result[\"session_id\"][indexer]\n",
        "x_ids_last_month=x_ids[indexer,:]\n",
        "x_reseen_last_month=x_reseen[indexer,:]\n",
        "x_simils_last_month=x_simils[indexer,:]\n",
        "x_simils_feats_last_month=x_simils_feats[indexer,:]\n",
        "x_percentage_seen_last_month=x_percentage_seen[indexer,:]\n",
        "static_features_last_month=static_features[indexer,:]\n",
        "x_item_related_last_month=x_item_related[indexer,:]\n",
        "y_last_month=y[indexer]\n",
        "y_features_last_month=y_features[indexer,:]\n",
        "\n",
        "indexer_train = result[\"date_session_starting\"]<last_month_start\n",
        "\n",
        "x_ids=x_ids[indexer_train,:]\n",
        "x_reseen=x_reseen[indexer_train,:]\n",
        "x_simils=x_simils[indexer_train,:]\n",
        "x_simils_feats=x_simils_feats[indexer_train,:]\n",
        "x_percentage_seen=x_percentage_seen[indexer_train,:]\n",
        "static_features=static_features[indexer_train,:]\n",
        "x_item_related=x_item_related[indexer_train,:]\n",
        "y=y[indexer_train]\n",
        "y_features=y_features[indexer_train,:]"
      ]
    },
    {
      "cell_type": "code",
      "execution_count": 29,
      "metadata": {
        "_cell_guid": "529825b1-3954-41a5-abae-ea2c8188f589",
        "_uuid": "c1a7e0f0-34ab-4b0b-9abd-520f2c0c95a3",
        "id": "tYkBGGDycPc4",
        "jupyter": {
          "outputs_hidden": false
        }
      },
      "outputs": [],
      "source": [
        "x_ids_train, x_ids_test,\\\n",
        "x_reseen_train, x_reseen_test,\\\n",
        "x_simils_train,x_simils_test,\\\n",
        "x_simils_feats_train,x_simils_feats_test,\\\n",
        "x_percentage_seen_train,x_percentage_seen_test,\\\n",
        "x_static_train, x_static_test, \\\n",
        "x_item_related_train, x_item_related_test, \\\n",
        "y_train, y_test, \\\n",
        "y_features_train, y_features_test = train_test_split(\n",
        "    x_ids,\n",
        "    x_reseen,\n",
        "    x_simils,\n",
        "    x_simils_feats,\n",
        "    x_percentage_seen,\n",
        "    static_features,\n",
        "    x_item_related,\n",
        "    y,\n",
        "    y_features,\n",
        "    test_size=0.2,\n",
        "    random_state=1234\n",
        "    )"
      ]
    },
    {
      "cell_type": "code",
      "execution_count": 30,
      "metadata": {
        "id": "-oXUPxRfHmlW",
        "outputId": "019726e2-9d32-48be-ba73-a08ca8e6b46b",
        "colab": {
          "base_uri": "https://localhost:8080/"
        }
      },
      "outputs": [
        {
          "output_type": "stream",
          "name": "stdout",
          "text": [
            "64\n"
          ]
        }
      ],
      "source": [
        "shape=y_features_train.shape[1]\n",
        "print(shape)"
      ]
    },
    {
      "cell_type": "code",
      "execution_count": 31,
      "metadata": {
        "_cell_guid": "5733a3f0-b498-4468-8f1b-95ad1f9aaf26",
        "_uuid": "cf80d7a6-9b53-4218-b3d1-e99b4984feb5",
        "id": "-xTh2lWG3RwM",
        "jupyter": {
          "outputs_hidden": false
        },
        "outputId": "d866f5b7-47c6-4256-99fa-ddeb81868d2e",
        "colab": {
          "base_uri": "https://localhost:8080/"
        }
      },
      "outputs": [
        {
          "output_type": "execute_result",
          "data": {
            "text/plain": [
              "36"
            ]
          },
          "metadata": {},
          "execution_count": 31
        }
      ],
      "source": [
        "del x_ids,x_reseen,x_simils,x_simils_feats,x_percentage_seen,result,x_item_related,y,y_features\n",
        "import gc\n",
        "gc.collect()"
      ]
    },
    {
      "cell_type": "markdown",
      "metadata": {
        "_cell_guid": "1f62e9eb-25a1-47da-8f07-c9ad5fac2c8a",
        "_uuid": "eb012ae5-6fb8-4e4f-999d-74936c33ec5f",
        "id": "H6hj8gghAwEi"
      },
      "source": [
        "# Build Dataset"
      ]
    },
    {
      "cell_type": "code",
      "execution_count": 32,
      "metadata": {
        "_cell_guid": "e8213cd9-2b29-4acf-9e46-683ce2998f84",
        "_uuid": "dc84b215-4966-48ec-8717-30145d0c5d56",
        "id": "_3DuLInmeisZ",
        "jupyter": {
          "outputs_hidden": false
        },
        "outputId": "767f824c-ae22-4fa9-9db2-cb3235754c36",
        "colab": {
          "base_uri": "https://localhost:8080/"
        }
      },
      "outputs": [
        {
          "output_type": "execute_result",
          "data": {
            "text/plain": [
              "0"
            ]
          },
          "metadata": {},
          "execution_count": 32
        }
      ],
      "source": [
        "if just_checking_integrity:\n",
        "    train_set_complete = tf.data.Dataset.from_tensor_slices(\n",
        "        ((x_ids_train, x_reseen_train/100,x_percentage_seen_train,x_simils_train,x_simils_feats_train, x_item_related_train, x_static_train), (y_train, y_features_train))\n",
        "        ).batch(128,num_parallel_calls=tf.data.AUTOTUNE).prefetch(tf.data.AUTOTUNE).shuffle(4, reshuffle_each_iteration=True)\n",
        "else:\n",
        "    train_set_complete = tf.data.Dataset.from_tensor_slices(\n",
        "        ((x_ids_train, x_reseen_train/100,x_percentage_seen_train,x_simils_train,x_simils_feats_train, x_item_related_train, x_static_train), (y_train, y_features_train))\n",
        "        ).batch(2048,num_parallel_calls=tf.data.AUTOTUNE).prefetch(tf.data.AUTOTUNE).shuffle(287, reshuffle_each_iteration=True)\n",
        "test_set_complete = tf.data.Dataset.from_tensor_slices(\n",
        "    ((x_ids_test, x_reseen_test/100, x_percentage_seen_test,x_simils_test,x_simils_feats_test, x_item_related_test, x_static_test), (y_test, y_features_test))\n",
        "    ).batch(512)\n",
        "gc.collect()"
      ]
    },
    {
      "cell_type": "code",
      "execution_count": 33,
      "metadata": {
        "_cell_guid": "b6806744-2970-403c-900c-0e8430bbc6dd",
        "_uuid": "3977ee2c-d2ea-4118-8b25-ee0be1c95352",
        "id": "VsF_-eklOcvz",
        "jupyter": {
          "outputs_hidden": false
        },
        "outputId": "0a4a8dc9-9cd7-478c-9106-683eac2b2198",
        "colab": {
          "base_uri": "https://localhost:8080/"
        }
      },
      "outputs": [
        {
          "output_type": "execute_result",
          "data": {
            "text/plain": [
              "((TensorSpec(shape=(None, 100), dtype=tf.int32, name=None),\n",
              "  TensorSpec(shape=(None, 100), dtype=tf.float64, name=None),\n",
              "  TensorSpec(shape=(None, 100), dtype=tf.float16, name=None),\n",
              "  TensorSpec(shape=(None, 100), dtype=tf.float16, name=None),\n",
              "  TensorSpec(shape=(None, 100), dtype=tf.float16, name=None),\n",
              "  TensorSpec(shape=(None, 100, 1), dtype=tf.float16, name=None),\n",
              "  TensorSpec(shape=(None, 28), dtype=tf.float64, name=None)),\n",
              " (TensorSpec(shape=(None,), dtype=tf.int64, name=None),\n",
              "  TensorSpec(shape=(None, 64), dtype=tf.float32, name=None)))"
            ]
          },
          "metadata": {},
          "execution_count": 33
        }
      ],
      "source": [
        "train_set_complete.element_spec"
      ]
    },
    {
      "cell_type": "markdown",
      "metadata": {
        "_cell_guid": "f02bbf43-5f20-483b-8f31-c3447f9391b6",
        "_uuid": "12a3a1e1-4446-4436-ba94-d9cca7bd6daa",
        "id": "Ysx13_z3573S"
      },
      "source": [
        "# Contex aware Transformer NET"
      ]
    },
    {
      "cell_type": "code",
      "execution_count": 34,
      "metadata": {
        "_cell_guid": "2416079c-fbf2-4f4e-8964-c6641fc30229",
        "_uuid": "2dca5593-db26-4304-8e05-bffc911f8158",
        "id": "1c55AAEk573T"
      },
      "outputs": [],
      "source": [
        "embed_dim = 64  # Embedding size for each token\n",
        "maxlen = 100\n",
        "num_static = len(static_features_names)\n",
        "num_item_related = len(item_related_features)\n",
        "vocabulary_size = 23692 #max(train_purchases['item_id']) # Size of the vocabulary\n",
        "num_heads = 3\n",
        "ff_dim = 128\n",
        "transformer_width = 128 - num_static - num_item_related - 4\n",
        "mlp_width = 256\n",
        "mlp_depth = 2\n",
        "\n",
        "num_heads = 5\n",
        "\n",
        "#######################################################################\n",
        "########################### TWO TOWER #################################\n",
        "#######################################################################\n",
        "\n",
        "class TwoTowerModel(tf.keras.Model):\n",
        "\n",
        "    def __init__(self, name, id_inputs, x_reseen_inputs, x_percentage_seen_inputs,\n",
        "                 x_simils_inputs, x_simils_feats_inputs, item_related_inputs, static_inputs):\n",
        "\n",
        "        ###### input\n",
        "        inputs = [id_inputs, x_reseen_inputs, x_percentage_seen_inputs,x_simils_inputs,x_simils_feats_inputs,item_related_inputs, static_inputs]\n",
        "\n",
        "        ###### item model\n",
        "\n",
        "        # (1) id_inputs for embedding\n",
        "        learned_embedding = layers.Embedding(\n",
        "            input_dim=vocabulary_size, output_dim=embed_dim, mask_zero=True, name='learned_embedding')(id_inputs)\n",
        "\n",
        "        feature_embedding = layers.Embedding(\n",
        "            input_dim=embedding_weights.shape[0], output_dim=embedding_weights.shape[1], mask_zero=True,\n",
        "            trainable=False, weights=[embedding_weights], name='feature_embedding')(id_inputs)\n",
        "\n",
        "        # transformer\n",
        "        embedding = layers.Concatenate(name='embedding')([learned_embedding, feature_embedding])\n",
        "        embed_dim_transformer = embed_dim * 2\n",
        "        positional_embedding = PositionEmbedding(maxlen, embed_dim=embed_dim_transformer)(id_inputs)\n",
        "        x_pre = embedding + positional_embedding\n",
        "        x_item = self.build_trasformer_tower(x_pre, embed_dim_transformer)\n",
        "\n",
        "        # mlp\n",
        "        item_model = self.build_mlp_tower(x_item, tower_name='item_tower')\n",
        "\n",
        "        ###### user session model\n",
        "\n",
        "        # (2) item_related_inputs, x_reseen_inputs, x_percentage_seen_inputs, x_simils_inputs, x_simils_feats_inputs\n",
        "        masked_item_related_inputs = item_related_inputs[:, :tf.shape(id_inputs)[-1], :]\n",
        "        embedding = layers.Concatenate()(\n",
        "            [masked_item_related_inputs, x_reseen_inputs, x_percentage_seen_inputs, x_simils_inputs,\n",
        "             x_simils_feats_inputs])\n",
        "\n",
        "        # transformer\n",
        "        embed_dim_transformer = num_item_related + 4\n",
        "        positional_embedding = PositionEmbedding(maxlen, embed_dim=embed_dim_transformer)(id_inputs)\n",
        "        x_pre = embedding + positional_embedding\n",
        "        x_session_sequence = self.build_trasformer_tower(x_pre, embed_dim_transformer)\n",
        "\n",
        "        # (3) static_inputs\n",
        "        x_session = layers.Concatenate()([static_inputs, x_session_sequence])\n",
        "\n",
        "        # mlp\n",
        "        session_model = self.build_mlp_tower(x_session, tower_name='session_tower')\n",
        "\n",
        "        ###### output - similarity\n",
        "        outputs = layers.Multiply()([item_model, session_model])\n",
        "        #outputs = layers.Dense(19021, activation='softmax', name='y')(x_pre)\n",
        "        #secondary_outputs = layers.Dense(units=y_features_train.shape[1], activation='tanh', name='y_features')(x_pre)\n",
        "\n",
        "        super().__init__(inputs=inputs, outputs=outputs, name=name)\n",
        "\n",
        "    def build_trasformer_tower(self, x, embed_dim_transformer):\n",
        "        x_post = TransformerBlock(embed_dim_transformer, num_heads, ff_dim)(x)\n",
        "        x_post = layers.Concatenate()([x_post, x])\n",
        "        x_post = layers.GlobalAveragePooling1D()(x_post)\n",
        "        x = layers.Dense(units=mlp_width-num_static, activation='linear')(x_post)\n",
        "\n",
        "        return x\n",
        "\n",
        "    def build_mlp_tower(self, x, tower_name):\n",
        "\n",
        "        # towers levels (depth)\n",
        "        for layer in range(mlp_depth):\n",
        "            x_post = layers.LayerNormalization()(x)\n",
        "            x_post = layers.Dropout(0.2)(x_post)\n",
        "            x = layers.Dense(units=mlp_width, activation='gelu')(x_post)\n",
        "            #x = layers.Add()([x, x_post])\n",
        "\n",
        "        # tower last level before similarity\n",
        "        last_layer = layers.Dense(19021, activation='relu', name=tower_name + '_last_layer')(x)\n",
        "\n",
        "        return last_layer\n",
        "\n",
        "# transformer blocks - increase depth\n",
        "# transformer depth - seperate the sequences - each with its own transformer and then concate after\n",
        "# hyperparameters\n",
        "# explanation via weights (attention)\n",
        "# check without rankers\n",
        "# data exploration\n",
        "# reading the project instructions"
      ]
    },
    {
      "cell_type": "code",
      "source": [],
      "metadata": {
        "id": "t2R4D4VyBwhB"
      },
      "execution_count": null,
      "outputs": []
    },
    {
      "cell_type": "code",
      "execution_count": 35,
      "metadata": {
        "id": "7rebkD5E-N2D"
      },
      "outputs": [],
      "source": [
        "# input\n",
        "\n",
        "id_inputs = layers.Input(shape=(maxlen,), name='ids')\n",
        "item_related_inputs = layers.Input(shape=(maxlen, num_item_related), name='item_related_features')\n",
        "x_reseen_inputs = layers.Input(shape=(maxlen, 1), name='x_reseen_featurs')\n",
        "x_percentage_seen_inputs = layers.Input(shape=(maxlen, 1), name='x_percentage_seen')\n",
        "x_simils_inputs = layers.Input(shape=(maxlen, 1), name='x_similarities_embeddings')\n",
        "x_simils_feats_inputs = layers.Input(shape=(maxlen, 1), name='x_similarities_ICM')\n",
        "static_inputs = layers.Input(shape=(num_static,), name='static_features')\n",
        "\n",
        "# model\n",
        "\n",
        "name=\"two_tower_model\"\n",
        "\n",
        "model_for_training = TwoTowerModel(\n",
        "    name, id_inputs, x_reseen_inputs, x_percentage_seen_inputs,\n",
        "    x_simils_inputs,x_simils_feats_inputs,item_related_inputs, static_inputs\n",
        ")\n",
        "\n",
        "model_for_training.compile(\n",
        "    optimizer=tf.keras.optimizers.legacy.Adamax(), # tf.keras.optimizers.Adagrad(learning_rate=0.1))\n",
        "    loss=lambda y_true, y_pred : tf.keras.losses.categorical_crossentropy(\n",
        "        tf.squeeze(tf.one_hot(tf.cast(y_true, dtype=tf.int32), 19020+1, axis=-1)), y_pred, label_smoothing=0.1),\n",
        "    #loss_weights=[1, 1],\n",
        "    metrics=mrr_top_at(at=100)\n",
        ")"
      ]
    },
    {
      "cell_type": "markdown",
      "metadata": {
        "_cell_guid": "91cc2a4b-618d-4307-8146-9fc084a3cd21",
        "_uuid": "29cbf7b6-395d-41e8-9094-d5757eb087f4",
        "id": "Nl0SX9l385k5"
      },
      "source": [
        "# Training"
      ]
    },
    {
      "cell_type": "code",
      "execution_count": 36,
      "metadata": {
        "_cell_guid": "b94316f2-bf53-4c3d-8a80-3f347a913af1",
        "_uuid": "8753248d-0b41-4d96-b2d0-a66ed0fec7aa",
        "id": "_0ssXFFYfEpN",
        "jupyter": {
          "outputs_hidden": false
        },
        "outputId": "aaf45577-f0a3-4085-8f8f-72e9d070b8c6",
        "colab": {
          "base_uri": "https://localhost:8080/"
        }
      },
      "outputs": [
        {
          "output_type": "stream",
          "name": "stdout",
          "text": [
            "Epoch 1/100\n",
            "359/359 [==============================] - 254s 669ms/step - loss: 13.6404 - mrr_top: 0.0169 - val_loss: 12.8855 - val_mrr_top: 0.0179\n",
            "Epoch 2/100\n",
            "359/359 [==============================] - 248s 671ms/step - loss: 12.7141 - mrr_top: 0.0181 - val_loss: 12.5388 - val_mrr_top: 0.0187\n"
          ]
        },
        {
          "output_type": "execute_result",
          "data": {
            "text/plain": [
              "<keras.src.callbacks.History at 0x7936d1f595d0>"
            ]
          },
          "metadata": {},
          "execution_count": 36
        }
      ],
      "source": [
        "gc.collect()\n",
        "if just_checking_integrity:\n",
        "    n_epochs=2\n",
        "else:\n",
        "    n_epochs=100\n",
        "\n",
        "model_for_training.fit(\n",
        "    train_set_complete,\n",
        "    validation_data=test_set_complete,\n",
        "    epochs=n_epochs,\n",
        "    callbacks=[\n",
        "               tf.keras.callbacks.EarlyStopping(\n",
        "                  # monitor='val_y_mrr_top',\n",
        "                  mode='max',\n",
        "                  patience=1,\n",
        "                  min_delta=0.0001,\n",
        "                  restore_best_weights=True,\n",
        "              ),\n",
        "         ]\n",
        "    )\n"
      ]
    },
    {
      "cell_type": "code",
      "source": [
        "gc.collect()\n",
        "if just_checking_integrity:\n",
        "    n_epochs=2\n",
        "else:\n",
        "    n_epochs=100\n",
        "\n",
        "model_for_training.fit(\n",
        "    train_set_complete,\n",
        "    validation_data=test_set_complete,\n",
        "    epochs=n_epochs,\n",
        "    callbacks=[\n",
        "               tf.keras.callbacks.EarlyStopping(\n",
        "                  # monitor='val_y_mrr_top',\n",
        "                  mode='max',\n",
        "                  patience=1,\n",
        "                  min_delta=0.0001,\n",
        "                  restore_best_weights=True,\n",
        "              ),\n",
        "         ]\n",
        "    )\n"
      ],
      "metadata": {
        "id": "FgB4ZKf9Bx61",
        "outputId": "b974869c-4cb2-4572-a8b4-6bcb3ae52206",
        "colab": {
          "base_uri": "https://localhost:8080/",
          "height": 400
        }
      },
      "execution_count": 37,
      "outputs": [
        {
          "output_type": "stream",
          "name": "stdout",
          "text": [
            "Epoch 1/100\n",
            "237/359 [==================>...........] - ETA: 1:14 - loss: 12.8475 - mrr_top: 0.0182"
          ]
        },
        {
          "output_type": "error",
          "ename": "KeyboardInterrupt",
          "evalue": "",
          "traceback": [
            "\u001b[0;31m---------------------------------------------------------------------------\u001b[0m",
            "\u001b[0;31mKeyboardInterrupt\u001b[0m                         Traceback (most recent call last)",
            "\u001b[0;32m<ipython-input-37-75ef6784dd7d>\u001b[0m in \u001b[0;36m<cell line: 7>\u001b[0;34m()\u001b[0m\n\u001b[1;32m      5\u001b[0m     \u001b[0mn_epochs\u001b[0m\u001b[0;34m=\u001b[0m\u001b[0;36m100\u001b[0m\u001b[0;34m\u001b[0m\u001b[0;34m\u001b[0m\u001b[0m\n\u001b[1;32m      6\u001b[0m \u001b[0;34m\u001b[0m\u001b[0m\n\u001b[0;32m----> 7\u001b[0;31m model_for_training.fit(\n\u001b[0m\u001b[1;32m      8\u001b[0m     \u001b[0mtrain_set_complete\u001b[0m\u001b[0;34m,\u001b[0m\u001b[0;34m\u001b[0m\u001b[0;34m\u001b[0m\u001b[0m\n\u001b[1;32m      9\u001b[0m     \u001b[0mvalidation_data\u001b[0m\u001b[0;34m=\u001b[0m\u001b[0mtest_set_complete\u001b[0m\u001b[0;34m,\u001b[0m\u001b[0;34m\u001b[0m\u001b[0;34m\u001b[0m\u001b[0m\n",
            "\u001b[0;32m/usr/local/lib/python3.10/dist-packages/keras/src/utils/traceback_utils.py\u001b[0m in \u001b[0;36merror_handler\u001b[0;34m(*args, **kwargs)\u001b[0m\n\u001b[1;32m     63\u001b[0m         \u001b[0mfiltered_tb\u001b[0m \u001b[0;34m=\u001b[0m \u001b[0;32mNone\u001b[0m\u001b[0;34m\u001b[0m\u001b[0;34m\u001b[0m\u001b[0m\n\u001b[1;32m     64\u001b[0m         \u001b[0;32mtry\u001b[0m\u001b[0;34m:\u001b[0m\u001b[0;34m\u001b[0m\u001b[0;34m\u001b[0m\u001b[0m\n\u001b[0;32m---> 65\u001b[0;31m             \u001b[0;32mreturn\u001b[0m \u001b[0mfn\u001b[0m\u001b[0;34m(\u001b[0m\u001b[0;34m*\u001b[0m\u001b[0margs\u001b[0m\u001b[0;34m,\u001b[0m \u001b[0;34m**\u001b[0m\u001b[0mkwargs\u001b[0m\u001b[0;34m)\u001b[0m\u001b[0;34m\u001b[0m\u001b[0;34m\u001b[0m\u001b[0m\n\u001b[0m\u001b[1;32m     66\u001b[0m         \u001b[0;32mexcept\u001b[0m \u001b[0mException\u001b[0m \u001b[0;32mas\u001b[0m \u001b[0me\u001b[0m\u001b[0;34m:\u001b[0m\u001b[0;34m\u001b[0m\u001b[0;34m\u001b[0m\u001b[0m\n\u001b[1;32m     67\u001b[0m             \u001b[0mfiltered_tb\u001b[0m \u001b[0;34m=\u001b[0m \u001b[0m_process_traceback_frames\u001b[0m\u001b[0;34m(\u001b[0m\u001b[0me\u001b[0m\u001b[0;34m.\u001b[0m\u001b[0m__traceback__\u001b[0m\u001b[0;34m)\u001b[0m\u001b[0;34m\u001b[0m\u001b[0;34m\u001b[0m\u001b[0m\n",
            "\u001b[0;32m/usr/local/lib/python3.10/dist-packages/keras/src/engine/training.py\u001b[0m in \u001b[0;36mfit\u001b[0;34m(self, x, y, batch_size, epochs, verbose, callbacks, validation_split, validation_data, shuffle, class_weight, sample_weight, initial_epoch, steps_per_epoch, validation_steps, validation_batch_size, validation_freq, max_queue_size, workers, use_multiprocessing)\u001b[0m\n\u001b[1;32m   1805\u001b[0m                         ):\n\u001b[1;32m   1806\u001b[0m                             \u001b[0mcallbacks\u001b[0m\u001b[0;34m.\u001b[0m\u001b[0mon_train_batch_begin\u001b[0m\u001b[0;34m(\u001b[0m\u001b[0mstep\u001b[0m\u001b[0;34m)\u001b[0m\u001b[0;34m\u001b[0m\u001b[0;34m\u001b[0m\u001b[0m\n\u001b[0;32m-> 1807\u001b[0;31m                             \u001b[0mtmp_logs\u001b[0m \u001b[0;34m=\u001b[0m \u001b[0mself\u001b[0m\u001b[0;34m.\u001b[0m\u001b[0mtrain_function\u001b[0m\u001b[0;34m(\u001b[0m\u001b[0miterator\u001b[0m\u001b[0;34m)\u001b[0m\u001b[0;34m\u001b[0m\u001b[0;34m\u001b[0m\u001b[0m\n\u001b[0m\u001b[1;32m   1808\u001b[0m                             \u001b[0;32mif\u001b[0m \u001b[0mdata_handler\u001b[0m\u001b[0;34m.\u001b[0m\u001b[0mshould_sync\u001b[0m\u001b[0;34m:\u001b[0m\u001b[0;34m\u001b[0m\u001b[0;34m\u001b[0m\u001b[0m\n\u001b[1;32m   1809\u001b[0m                                 \u001b[0mcontext\u001b[0m\u001b[0;34m.\u001b[0m\u001b[0masync_wait\u001b[0m\u001b[0;34m(\u001b[0m\u001b[0;34m)\u001b[0m\u001b[0;34m\u001b[0m\u001b[0;34m\u001b[0m\u001b[0m\n",
            "\u001b[0;32m/usr/local/lib/python3.10/dist-packages/tensorflow/python/util/traceback_utils.py\u001b[0m in \u001b[0;36merror_handler\u001b[0;34m(*args, **kwargs)\u001b[0m\n\u001b[1;32m    148\u001b[0m     \u001b[0mfiltered_tb\u001b[0m \u001b[0;34m=\u001b[0m \u001b[0;32mNone\u001b[0m\u001b[0;34m\u001b[0m\u001b[0;34m\u001b[0m\u001b[0m\n\u001b[1;32m    149\u001b[0m     \u001b[0;32mtry\u001b[0m\u001b[0;34m:\u001b[0m\u001b[0;34m\u001b[0m\u001b[0;34m\u001b[0m\u001b[0m\n\u001b[0;32m--> 150\u001b[0;31m       \u001b[0;32mreturn\u001b[0m \u001b[0mfn\u001b[0m\u001b[0;34m(\u001b[0m\u001b[0;34m*\u001b[0m\u001b[0margs\u001b[0m\u001b[0;34m,\u001b[0m \u001b[0;34m**\u001b[0m\u001b[0mkwargs\u001b[0m\u001b[0;34m)\u001b[0m\u001b[0;34m\u001b[0m\u001b[0;34m\u001b[0m\u001b[0m\n\u001b[0m\u001b[1;32m    151\u001b[0m     \u001b[0;32mexcept\u001b[0m \u001b[0mException\u001b[0m \u001b[0;32mas\u001b[0m \u001b[0me\u001b[0m\u001b[0;34m:\u001b[0m\u001b[0;34m\u001b[0m\u001b[0;34m\u001b[0m\u001b[0m\n\u001b[1;32m    152\u001b[0m       \u001b[0mfiltered_tb\u001b[0m \u001b[0;34m=\u001b[0m \u001b[0m_process_traceback_frames\u001b[0m\u001b[0;34m(\u001b[0m\u001b[0me\u001b[0m\u001b[0;34m.\u001b[0m\u001b[0m__traceback__\u001b[0m\u001b[0;34m)\u001b[0m\u001b[0;34m\u001b[0m\u001b[0;34m\u001b[0m\u001b[0m\n",
            "\u001b[0;32m/usr/local/lib/python3.10/dist-packages/tensorflow/python/eager/polymorphic_function/polymorphic_function.py\u001b[0m in \u001b[0;36m__call__\u001b[0;34m(self, *args, **kwds)\u001b[0m\n\u001b[1;32m    830\u001b[0m \u001b[0;34m\u001b[0m\u001b[0m\n\u001b[1;32m    831\u001b[0m       \u001b[0;32mwith\u001b[0m \u001b[0mOptionalXlaContext\u001b[0m\u001b[0;34m(\u001b[0m\u001b[0mself\u001b[0m\u001b[0;34m.\u001b[0m\u001b[0m_jit_compile\u001b[0m\u001b[0;34m)\u001b[0m\u001b[0;34m:\u001b[0m\u001b[0;34m\u001b[0m\u001b[0;34m\u001b[0m\u001b[0m\n\u001b[0;32m--> 832\u001b[0;31m         \u001b[0mresult\u001b[0m \u001b[0;34m=\u001b[0m \u001b[0mself\u001b[0m\u001b[0;34m.\u001b[0m\u001b[0m_call\u001b[0m\u001b[0;34m(\u001b[0m\u001b[0;34m*\u001b[0m\u001b[0margs\u001b[0m\u001b[0;34m,\u001b[0m \u001b[0;34m**\u001b[0m\u001b[0mkwds\u001b[0m\u001b[0;34m)\u001b[0m\u001b[0;34m\u001b[0m\u001b[0;34m\u001b[0m\u001b[0m\n\u001b[0m\u001b[1;32m    833\u001b[0m \u001b[0;34m\u001b[0m\u001b[0m\n\u001b[1;32m    834\u001b[0m       \u001b[0mnew_tracing_count\u001b[0m \u001b[0;34m=\u001b[0m \u001b[0mself\u001b[0m\u001b[0;34m.\u001b[0m\u001b[0mexperimental_get_tracing_count\u001b[0m\u001b[0;34m(\u001b[0m\u001b[0;34m)\u001b[0m\u001b[0;34m\u001b[0m\u001b[0;34m\u001b[0m\u001b[0m\n",
            "\u001b[0;32m/usr/local/lib/python3.10/dist-packages/tensorflow/python/eager/polymorphic_function/polymorphic_function.py\u001b[0m in \u001b[0;36m_call\u001b[0;34m(self, *args, **kwds)\u001b[0m\n\u001b[1;32m    866\u001b[0m       \u001b[0;31m# In this case we have created variables on the first call, so we run the\u001b[0m\u001b[0;34m\u001b[0m\u001b[0;34m\u001b[0m\u001b[0m\n\u001b[1;32m    867\u001b[0m       \u001b[0;31m# defunned version which is guaranteed to never create variables.\u001b[0m\u001b[0;34m\u001b[0m\u001b[0;34m\u001b[0m\u001b[0m\n\u001b[0;32m--> 868\u001b[0;31m       return tracing_compilation.call_function(\n\u001b[0m\u001b[1;32m    869\u001b[0m           \u001b[0margs\u001b[0m\u001b[0;34m,\u001b[0m \u001b[0mkwds\u001b[0m\u001b[0;34m,\u001b[0m \u001b[0mself\u001b[0m\u001b[0;34m.\u001b[0m\u001b[0m_no_variable_creation_config\u001b[0m\u001b[0;34m\u001b[0m\u001b[0;34m\u001b[0m\u001b[0m\n\u001b[1;32m    870\u001b[0m       )\n",
            "\u001b[0;32m/usr/local/lib/python3.10/dist-packages/tensorflow/python/eager/polymorphic_function/tracing_compilation.py\u001b[0m in \u001b[0;36mcall_function\u001b[0;34m(args, kwargs, tracing_options)\u001b[0m\n\u001b[1;32m    137\u001b[0m   \u001b[0mbound_args\u001b[0m \u001b[0;34m=\u001b[0m \u001b[0mfunction\u001b[0m\u001b[0;34m.\u001b[0m\u001b[0mfunction_type\u001b[0m\u001b[0;34m.\u001b[0m\u001b[0mbind\u001b[0m\u001b[0;34m(\u001b[0m\u001b[0;34m*\u001b[0m\u001b[0margs\u001b[0m\u001b[0;34m,\u001b[0m \u001b[0;34m**\u001b[0m\u001b[0mkwargs\u001b[0m\u001b[0;34m)\u001b[0m\u001b[0;34m\u001b[0m\u001b[0;34m\u001b[0m\u001b[0m\n\u001b[1;32m    138\u001b[0m   \u001b[0mflat_inputs\u001b[0m \u001b[0;34m=\u001b[0m \u001b[0mfunction\u001b[0m\u001b[0;34m.\u001b[0m\u001b[0mfunction_type\u001b[0m\u001b[0;34m.\u001b[0m\u001b[0munpack_inputs\u001b[0m\u001b[0;34m(\u001b[0m\u001b[0mbound_args\u001b[0m\u001b[0;34m)\u001b[0m\u001b[0;34m\u001b[0m\u001b[0;34m\u001b[0m\u001b[0m\n\u001b[0;32m--> 139\u001b[0;31m   return function._call_flat(  # pylint: disable=protected-access\n\u001b[0m\u001b[1;32m    140\u001b[0m       \u001b[0mflat_inputs\u001b[0m\u001b[0;34m,\u001b[0m \u001b[0mcaptured_inputs\u001b[0m\u001b[0;34m=\u001b[0m\u001b[0mfunction\u001b[0m\u001b[0;34m.\u001b[0m\u001b[0mcaptured_inputs\u001b[0m\u001b[0;34m\u001b[0m\u001b[0;34m\u001b[0m\u001b[0m\n\u001b[1;32m    141\u001b[0m   )\n",
            "\u001b[0;32m/usr/local/lib/python3.10/dist-packages/tensorflow/python/eager/polymorphic_function/concrete_function.py\u001b[0m in \u001b[0;36m_call_flat\u001b[0;34m(self, tensor_inputs, captured_inputs)\u001b[0m\n\u001b[1;32m   1321\u001b[0m         and executing_eagerly):\n\u001b[1;32m   1322\u001b[0m       \u001b[0;31m# No tape is watching; skip to running the function.\u001b[0m\u001b[0;34m\u001b[0m\u001b[0;34m\u001b[0m\u001b[0m\n\u001b[0;32m-> 1323\u001b[0;31m       \u001b[0;32mreturn\u001b[0m \u001b[0mself\u001b[0m\u001b[0;34m.\u001b[0m\u001b[0m_inference_function\u001b[0m\u001b[0;34m.\u001b[0m\u001b[0mcall_preflattened\u001b[0m\u001b[0;34m(\u001b[0m\u001b[0margs\u001b[0m\u001b[0;34m)\u001b[0m\u001b[0;34m\u001b[0m\u001b[0;34m\u001b[0m\u001b[0m\n\u001b[0m\u001b[1;32m   1324\u001b[0m     forward_backward = self._select_forward_and_backward_functions(\n\u001b[1;32m   1325\u001b[0m         \u001b[0margs\u001b[0m\u001b[0;34m,\u001b[0m\u001b[0;34m\u001b[0m\u001b[0;34m\u001b[0m\u001b[0m\n",
            "\u001b[0;32m/usr/local/lib/python3.10/dist-packages/tensorflow/python/eager/polymorphic_function/atomic_function.py\u001b[0m in \u001b[0;36mcall_preflattened\u001b[0;34m(self, args)\u001b[0m\n\u001b[1;32m    214\u001b[0m   \u001b[0;32mdef\u001b[0m \u001b[0mcall_preflattened\u001b[0m\u001b[0;34m(\u001b[0m\u001b[0mself\u001b[0m\u001b[0;34m,\u001b[0m \u001b[0margs\u001b[0m\u001b[0;34m:\u001b[0m \u001b[0mSequence\u001b[0m\u001b[0;34m[\u001b[0m\u001b[0mcore\u001b[0m\u001b[0;34m.\u001b[0m\u001b[0mTensor\u001b[0m\u001b[0;34m]\u001b[0m\u001b[0;34m)\u001b[0m \u001b[0;34m->\u001b[0m \u001b[0mAny\u001b[0m\u001b[0;34m:\u001b[0m\u001b[0;34m\u001b[0m\u001b[0;34m\u001b[0m\u001b[0m\n\u001b[1;32m    215\u001b[0m     \u001b[0;34m\"\"\"Calls with flattened tensor inputs and returns the structured output.\"\"\"\u001b[0m\u001b[0;34m\u001b[0m\u001b[0;34m\u001b[0m\u001b[0m\n\u001b[0;32m--> 216\u001b[0;31m     \u001b[0mflat_outputs\u001b[0m \u001b[0;34m=\u001b[0m \u001b[0mself\u001b[0m\u001b[0;34m.\u001b[0m\u001b[0mcall_flat\u001b[0m\u001b[0;34m(\u001b[0m\u001b[0;34m*\u001b[0m\u001b[0margs\u001b[0m\u001b[0;34m)\u001b[0m\u001b[0;34m\u001b[0m\u001b[0;34m\u001b[0m\u001b[0m\n\u001b[0m\u001b[1;32m    217\u001b[0m     \u001b[0;32mreturn\u001b[0m \u001b[0mself\u001b[0m\u001b[0;34m.\u001b[0m\u001b[0mfunction_type\u001b[0m\u001b[0;34m.\u001b[0m\u001b[0mpack_output\u001b[0m\u001b[0;34m(\u001b[0m\u001b[0mflat_outputs\u001b[0m\u001b[0;34m)\u001b[0m\u001b[0;34m\u001b[0m\u001b[0;34m\u001b[0m\u001b[0m\n\u001b[1;32m    218\u001b[0m \u001b[0;34m\u001b[0m\u001b[0m\n",
            "\u001b[0;32m/usr/local/lib/python3.10/dist-packages/tensorflow/python/eager/polymorphic_function/atomic_function.py\u001b[0m in \u001b[0;36mcall_flat\u001b[0;34m(self, *args)\u001b[0m\n\u001b[1;32m    249\u001b[0m         \u001b[0;32mwith\u001b[0m \u001b[0mrecord\u001b[0m\u001b[0;34m.\u001b[0m\u001b[0mstop_recording\u001b[0m\u001b[0;34m(\u001b[0m\u001b[0;34m)\u001b[0m\u001b[0;34m:\u001b[0m\u001b[0;34m\u001b[0m\u001b[0;34m\u001b[0m\u001b[0m\n\u001b[1;32m    250\u001b[0m           \u001b[0;32mif\u001b[0m \u001b[0mself\u001b[0m\u001b[0;34m.\u001b[0m\u001b[0m_bound_context\u001b[0m\u001b[0;34m.\u001b[0m\u001b[0mexecuting_eagerly\u001b[0m\u001b[0;34m(\u001b[0m\u001b[0;34m)\u001b[0m\u001b[0;34m:\u001b[0m\u001b[0;34m\u001b[0m\u001b[0;34m\u001b[0m\u001b[0m\n\u001b[0;32m--> 251\u001b[0;31m             outputs = self._bound_context.call_function(\n\u001b[0m\u001b[1;32m    252\u001b[0m                 \u001b[0mself\u001b[0m\u001b[0;34m.\u001b[0m\u001b[0mname\u001b[0m\u001b[0;34m,\u001b[0m\u001b[0;34m\u001b[0m\u001b[0;34m\u001b[0m\u001b[0m\n\u001b[1;32m    253\u001b[0m                 \u001b[0mlist\u001b[0m\u001b[0;34m(\u001b[0m\u001b[0margs\u001b[0m\u001b[0;34m)\u001b[0m\u001b[0;34m,\u001b[0m\u001b[0;34m\u001b[0m\u001b[0;34m\u001b[0m\u001b[0m\n",
            "\u001b[0;32m/usr/local/lib/python3.10/dist-packages/tensorflow/python/eager/context.py\u001b[0m in \u001b[0;36mcall_function\u001b[0;34m(self, name, tensor_inputs, num_outputs)\u001b[0m\n\u001b[1;32m   1484\u001b[0m     \u001b[0mcancellation_context\u001b[0m \u001b[0;34m=\u001b[0m \u001b[0mcancellation\u001b[0m\u001b[0;34m.\u001b[0m\u001b[0mcontext\u001b[0m\u001b[0;34m(\u001b[0m\u001b[0;34m)\u001b[0m\u001b[0;34m\u001b[0m\u001b[0;34m\u001b[0m\u001b[0m\n\u001b[1;32m   1485\u001b[0m     \u001b[0;32mif\u001b[0m \u001b[0mcancellation_context\u001b[0m \u001b[0;32mis\u001b[0m \u001b[0;32mNone\u001b[0m\u001b[0;34m:\u001b[0m\u001b[0;34m\u001b[0m\u001b[0;34m\u001b[0m\u001b[0m\n\u001b[0;32m-> 1486\u001b[0;31m       outputs = execute.execute(\n\u001b[0m\u001b[1;32m   1487\u001b[0m           \u001b[0mname\u001b[0m\u001b[0;34m.\u001b[0m\u001b[0mdecode\u001b[0m\u001b[0;34m(\u001b[0m\u001b[0;34m\"utf-8\"\u001b[0m\u001b[0;34m)\u001b[0m\u001b[0;34m,\u001b[0m\u001b[0;34m\u001b[0m\u001b[0;34m\u001b[0m\u001b[0m\n\u001b[1;32m   1488\u001b[0m           \u001b[0mnum_outputs\u001b[0m\u001b[0;34m=\u001b[0m\u001b[0mnum_outputs\u001b[0m\u001b[0;34m,\u001b[0m\u001b[0;34m\u001b[0m\u001b[0;34m\u001b[0m\u001b[0m\n",
            "\u001b[0;32m/usr/local/lib/python3.10/dist-packages/tensorflow/python/eager/execute.py\u001b[0m in \u001b[0;36mquick_execute\u001b[0;34m(op_name, num_outputs, inputs, attrs, ctx, name)\u001b[0m\n\u001b[1;32m     51\u001b[0m   \u001b[0;32mtry\u001b[0m\u001b[0;34m:\u001b[0m\u001b[0;34m\u001b[0m\u001b[0;34m\u001b[0m\u001b[0m\n\u001b[1;32m     52\u001b[0m     \u001b[0mctx\u001b[0m\u001b[0;34m.\u001b[0m\u001b[0mensure_initialized\u001b[0m\u001b[0;34m(\u001b[0m\u001b[0;34m)\u001b[0m\u001b[0;34m\u001b[0m\u001b[0;34m\u001b[0m\u001b[0m\n\u001b[0;32m---> 53\u001b[0;31m     tensors = pywrap_tfe.TFE_Py_Execute(ctx._handle, device_name, op_name,\n\u001b[0m\u001b[1;32m     54\u001b[0m                                         inputs, attrs, num_outputs)\n\u001b[1;32m     55\u001b[0m   \u001b[0;32mexcept\u001b[0m \u001b[0mcore\u001b[0m\u001b[0;34m.\u001b[0m\u001b[0m_NotOkStatusException\u001b[0m \u001b[0;32mas\u001b[0m \u001b[0me\u001b[0m\u001b[0;34m:\u001b[0m\u001b[0;34m\u001b[0m\u001b[0;34m\u001b[0m\u001b[0m\n",
            "\u001b[0;31mKeyboardInterrupt\u001b[0m: "
          ]
        }
      ]
    },
    {
      "cell_type": "markdown",
      "metadata": {
        "_cell_guid": "03e577d5-56ba-4c87-8713-09e23a8d0466",
        "_uuid": "e9913119-3d7a-44bc-a5e2-bda7be4f653d",
        "id": "lpmY1mZKLHD2"
      },
      "source": [
        "# Plot"
      ]
    },
    {
      "cell_type": "code",
      "execution_count": null,
      "metadata": {
        "_cell_guid": "2228684e-50f4-43f5-9c77-130059b907ee",
        "_uuid": "761d8b25-20b6-4868-80ab-e2411d79e62b",
        "execution": {
          "iopub.execute_input": "2022-06-13T12:21:17.078283Z",
          "iopub.status.busy": "2022-06-13T12:21:17.07783Z",
          "iopub.status.idle": "2022-06-13T12:21:18.648425Z",
          "shell.execute_reply": "2022-06-13T12:21:18.647049Z",
          "shell.execute_reply.started": "2022-06-13T12:21:17.078252Z"
        },
        "id": "IBl0fm9NKpTT",
        "jupyter": {
          "outputs_hidden": false
        },
        "outputId": "bd0dac6e-31f2-4ac8-cef8-e096816bb048"
      },
      "outputs": [
        {
          "name": "stdout",
          "output_type": "stream",
          "text": [
            "You must install pydot (`pip install pydot`) and install graphviz (see instructions at https://graphviz.gitlab.io/download/) for plot_model to work.\n"
          ]
        }
      ],
      "source": [
        "tf.keras.utils.plot_model(model_for_training,to_file=\"./model_2towers.png\", expand_nested=True)"
      ]
    },
    {
      "cell_type": "markdown",
      "metadata": {
        "_cell_guid": "ceab2d82-fa44-4938-aa9c-d4f2a9cb4ded",
        "_uuid": "d772a48a-0a87-40a0-8dc5-dfea7a780c25",
        "id": "4az6_O4azfs2"
      },
      "source": [
        "# Prepare candidates last month"
      ]
    },
    {
      "cell_type": "code",
      "execution_count": null,
      "metadata": {
        "_cell_guid": "41974ddd-67f9-43f9-85d6-8c0fab103f0a",
        "_uuid": "f2dc23d9-a836-451e-9726-d06489a3c94d",
        "execution": {
          "iopub.execute_input": "2022-06-13T12:23:15.23207Z",
          "iopub.status.busy": "2022-06-13T12:23:15.230874Z",
          "iopub.status.idle": "2022-06-13T12:23:15.537188Z",
          "shell.execute_reply": "2022-06-13T12:23:15.536023Z",
          "shell.execute_reply.started": "2022-06-13T12:23:15.232027Z"
        },
        "id": "8-i1CPSBzfs9",
        "jupyter": {
          "outputs_hidden": false
        },
        "outputId": "a4e80364-8ad3-4118-c238-78180ca8b864"
      },
      "outputs": [
        {
          "data": {
            "text/plain": [
              "(TensorSpec(shape=(None,), dtype=tf.int64, name=None),\n",
              " (TensorSpec(shape=(None, 100), dtype=tf.int32, name=None),\n",
              "  TensorSpec(shape=(None, 100), dtype=tf.float64, name=None),\n",
              "  TensorSpec(shape=(None, 100), dtype=tf.float16, name=None),\n",
              "  TensorSpec(shape=(None, 100), dtype=tf.float16, name=None),\n",
              "  TensorSpec(shape=(None, 100), dtype=tf.float16, name=None),\n",
              "  TensorSpec(shape=(None, 100, 1), dtype=tf.float16, name=None),\n",
              "  TensorSpec(shape=(None, 28), dtype=tf.float64, name=None)))"
            ]
          },
          "execution_count": 33,
          "metadata": {},
          "output_type": "execute_result"
        }
      ],
      "source": [
        "submission_set = tf.data.Dataset.from_tensor_slices(\n",
        "    (\n",
        "        x_session_ids_last_month,\n",
        "     (\n",
        "        x_ids_last_month,\n",
        "        x_reseen_last_month/100,\n",
        "        x_percentage_seen_last_month,\n",
        "        x_simils_last_month,\n",
        "        x_simils_feats_last_month,\n",
        "        x_item_related_last_month,\n",
        "        static_features_last_month\n",
        "     )\n",
        "    )\n",
        ").batch(128)\n",
        "submission_set.element_spec"
      ]
    },
    {
      "cell_type": "code",
      "execution_count": null,
      "metadata": {
        "_cell_guid": "ac9ab944-b49a-4e6a-9d5e-ab9062673483",
        "_uuid": "934f1e8c-35a4-496c-84e5-ed44290b70fc",
        "execution": {
          "iopub.execute_input": "2022-06-13T12:23:15.539671Z",
          "iopub.status.busy": "2022-06-13T12:23:15.539248Z",
          "iopub.status.idle": "2022-06-13T12:23:15.552993Z",
          "shell.execute_reply": "2022-06-13T12:23:15.551816Z",
          "shell.execute_reply.started": "2022-06-13T12:23:15.539629Z"
        },
        "id": "nBWqAAifzfs9",
        "jupyter": {
          "outputs_hidden": false
        },
        "outputId": "77aa3d51-5c9a-4a31-a9c1-1798515894a8"
      },
      "outputs": [
        {
          "data": {
            "text/html": [
              "<div>\n",
              "<style scoped>\n",
              "    .dataframe tbody tr th:only-of-type {\n",
              "        vertical-align: middle;\n",
              "    }\n",
              "\n",
              "    .dataframe tbody tr th {\n",
              "        vertical-align: top;\n",
              "    }\n",
              "\n",
              "    .dataframe thead th {\n",
              "        text-align: right;\n",
              "    }\n",
              "</style>\n",
              "<table border=\"1\" class=\"dataframe\">\n",
              "  <thead>\n",
              "    <tr style=\"text-align: right;\">\n",
              "      <th></th>\n",
              "      <th>session_id</th>\n",
              "      <th>code</th>\n",
              "      <th>score</th>\n",
              "      <th>rank</th>\n",
              "    </tr>\n",
              "  </thead>\n",
              "  <tbody>\n",
              "  </tbody>\n",
              "</table>\n",
              "</div>"
            ],
            "text/plain": [
              "Empty DataFrame\n",
              "Columns: [session_id, code, score, rank]\n",
              "Index: []"
            ]
          },
          "execution_count": 34,
          "metadata": {},
          "output_type": "execute_result"
        }
      ],
      "source": [
        "submission_df = pd.DataFrame(\n",
        "    {\n",
        "        'session_id':[],\n",
        "        'code':[],\n",
        "        'score':[],\n",
        "        'rank':[]\n",
        "    }\n",
        ")\n",
        "\n",
        "submission_df.head()"
      ]
    },
    {
      "cell_type": "code",
      "execution_count": null,
      "metadata": {
        "_cell_guid": "7d33e969-021a-4982-9b44-e14e5476ccd6",
        "_uuid": "e8d60778-3b0d-4c63-8c30-885b772118c4",
        "execution": {
          "iopub.execute_input": "2022-06-13T12:23:15.558079Z",
          "iopub.status.busy": "2022-06-13T12:23:15.555764Z",
          "iopub.status.idle": "2022-06-13T12:23:15.570976Z",
          "shell.execute_reply": "2022-06-13T12:23:15.569526Z",
          "shell.execute_reply.started": "2022-06-13T12:23:15.558033Z"
        },
        "id": "TuZJwnvXzfs9",
        "jupyter": {
          "outputs_hidden": false
        }
      },
      "outputs": [],
      "source": [
        "candidates=np.unique(y_last_month) # this is for the test month"
      ]
    },
    {
      "cell_type": "code",
      "execution_count": null,
      "metadata": {
        "_cell_guid": "4abd4ae2-3853-452b-89fd-21a3ba1504a7",
        "_uuid": "b8f61d48-2d18-4e53-ac7d-fbb74b49964a",
        "execution": {
          "iopub.execute_input": "2022-06-13T12:23:15.57294Z",
          "iopub.status.busy": "2022-06-13T12:23:15.572365Z",
          "iopub.status.idle": "2022-06-13T12:23:15.582173Z",
          "shell.execute_reply": "2022-06-13T12:23:15.581028Z",
          "shell.execute_reply.started": "2022-06-13T12:23:15.572893Z"
        },
        "id": "a_uakPEbWZeW",
        "jupyter": {
          "outputs_hidden": false
        },
        "outputId": "9925aa6b-755a-47b6-865c-d8e74b8704fd"
      },
      "outputs": [
        {
          "data": {
            "text/plain": [
              "array([    1,     2,     3, ..., 18923, 18926, 18945])"
            ]
          },
          "execution_count": 36,
          "metadata": {},
          "output_type": "execute_result"
        }
      ],
      "source": [
        "candidates"
      ]
    },
    {
      "cell_type": "code",
      "execution_count": null,
      "metadata": {
        "_cell_guid": "96366370-ba5d-4b43-95e7-c8727bed095a",
        "_uuid": "fa43b2cf-f8db-431f-a8ff-4f3d9f4fd889",
        "execution": {
          "iopub.execute_input": "2022-06-13T12:23:15.585083Z",
          "iopub.status.busy": "2022-06-13T12:23:15.583805Z",
          "iopub.status.idle": "2022-06-13T12:24:12.347352Z",
          "shell.execute_reply": "2022-06-13T12:24:12.346278Z",
          "shell.execute_reply.started": "2022-06-13T12:23:15.585035Z"
        },
        "id": "Od4bsrrSzfs9",
        "jupyter": {
          "outputs_hidden": false
        },
        "outputId": "d3a3903b-33d8-447f-8c65-47919de5c2db"
      },
      "outputs": [
        {
          "name": "stderr",
          "output_type": "stream",
          "text": [
            "2024-02-14 00:58:32.270918: I tensorflow/core/common_runtime/executor.cc:1197] [/device:CPU:0] (DEBUG INFO) Executor start aborting (this does not indicate an error and you can ignore this message): INVALID_ARGUMENT: You must feed a value for placeholder tensor 'Placeholder/_4' with dtype half and shape [81618,100]\n",
            "\t [[{{node Placeholder/_4}}]]\n"
          ]
        },
        {
          "ename": "IndexError",
          "evalue": "tuple index out of range",
          "output_type": "error",
          "traceback": [
            "\u001b[0;31m---------------------------------------------------------------------------\u001b[0m",
            "\u001b[0;31mIndexError\u001b[0m                                Traceback (most recent call last)",
            "Cell \u001b[0;32mIn[37], line 3\u001b[0m\n\u001b[1;32m      1\u001b[0m \u001b[38;5;28;01mfor\u001b[39;00m session_ids, sessions \u001b[38;5;129;01min\u001b[39;00m submission_set:\n\u001b[1;32m      2\u001b[0m     predicted_scores\u001b[38;5;241m=\u001b[39mmodel_for_training(sessions)[\u001b[38;5;241m0\u001b[39m]\u001b[38;5;241m.\u001b[39mnumpy()\n\u001b[0;32m----> 3\u001b[0m     mask \u001b[38;5;241m=\u001b[39m np\u001b[38;5;241m.\u001b[39mones(\u001b[43mpredicted_scores\u001b[49m\u001b[38;5;241;43m.\u001b[39;49m\u001b[43mshape\u001b[49m\u001b[43m[\u001b[49m\u001b[38;5;241;43m1\u001b[39;49m\u001b[43m]\u001b[49m, dtype\u001b[38;5;241m=\u001b[39m\u001b[38;5;28mbool\u001b[39m)\n\u001b[1;32m      4\u001b[0m     mask[candidates] \u001b[38;5;241m=\u001b[39m \u001b[38;5;28;01mFalse\u001b[39;00m\n\u001b[1;32m      5\u001b[0m     predicted_scores[\u001b[38;5;241m.\u001b[39m\u001b[38;5;241m.\u001b[39m\u001b[38;5;241m.\u001b[39m,mask]\u001b[38;5;241m=\u001b[39m\u001b[38;5;241m-\u001b[39mnp\u001b[38;5;241m.\u001b[39minf\n",
            "\u001b[0;31mIndexError\u001b[0m: tuple index out of range"
          ]
        }
      ],
      "source": [
        "for session_ids, sessions in submission_set:\n",
        "    predicted_scores=model_for_training(sessions)[0].numpy()\n",
        "    mask = np.ones(predicted_scores.shape[1], dtype=bool)\n",
        "    mask[candidates] = False\n",
        "    predicted_scores[...,mask]=-np.inf\n",
        "    predicted_scores=tf.convert_to_tensor(predicted_scores)\n",
        "    preds=tf.math.top_k(predicted_scores, k=100)\n",
        "    scores=preds.values.numpy()\n",
        "    code = preds.indices.numpy()\n",
        "    prediction = pd.DataFrame(\n",
        "        {\n",
        "            'session_id':session_ids,\n",
        "            'code':[tuple(v) for v in code],\n",
        "            'score':[tuple(v) for v in scores],\n",
        "            'rank':[tuple([rank for rank in range(1, 101)]) for id in session_ids]\n",
        "        }\n",
        "        )\n",
        "\n",
        "    submission_df = pd.concat([submission_df, prediction])\n",
        "\n",
        "submission_df.head()"
      ]
    },
    {
      "cell_type": "code",
      "execution_count": null,
      "metadata": {
        "_cell_guid": "2416079c-fbf2-4f4e-8964-c6641fc30229",
        "_uuid": "2dca5593-db26-4304-8e05-bffc911f8158",
        "execution": {
          "iopub.execute_input": "2022-06-13T12:21:12.894893Z",
          "iopub.status.busy": "2022-06-13T12:21:12.894428Z",
          "iopub.status.idle": "2022-06-13T12:21:15.107708Z",
          "shell.execute_reply": "2022-06-13T12:21:15.106667Z",
          "shell.execute_reply.started": "2022-06-13T12:21:12.894862Z"
        },
        "id": "ihrfzjfh-N2E"
      },
      "outputs": [],
      "source": [
        "\n",
        "\n",
        "\n"
      ]
    },
    {
      "cell_type": "code",
      "execution_count": null,
      "metadata": {
        "_cell_guid": "a2ac08f7-02b3-4cda-a4df-ebc63d2bca4a",
        "_uuid": "5bd07fa9-b602-450e-a7d8-6622458e219a",
        "execution": {
          "iopub.execute_input": "2022-06-13T12:24:12.349459Z",
          "iopub.status.busy": "2022-06-13T12:24:12.348919Z",
          "iopub.status.idle": "2022-06-13T12:24:30.352783Z",
          "shell.execute_reply": "2022-06-13T12:24:30.350521Z",
          "shell.execute_reply.started": "2022-06-13T12:24:12.349414Z"
        },
        "id": "IOOPYCfp0dfE",
        "jupyter": {
          "outputs_hidden": false
        }
      },
      "outputs": [],
      "source": [
        "submission_df.to_csv(\n",
        "    #'./dataset/candidates/NN/Transformer/train/candidates.csv',\n",
        "    '../dataset/candidates/two_towers/train/candidates.csv',\n",
        "    index=False\n",
        "    )"
      ]
    }
  ],
  "metadata": {
    "accelerator": "GPU",
    "colab": {
      "gpuType": "T4",
      "provenance": [],
      "machine_shape": "hm",
      "include_colab_link": true
    },
    "kernelspec": {
      "display_name": "Python 3",
      "name": "python3"
    },
    "language_info": {
      "codemirror_mode": {
        "name": "ipython",
        "version": 3
      },
      "file_extension": ".py",
      "mimetype": "text/x-python",
      "name": "python",
      "nbconvert_exporter": "python",
      "pygments_lexer": "ipython3",
      "version": "3.11.5"
    },
    "vscode": {
      "interpreter": {
        "hash": "61f38fddaed46afda7c40a5798d4631266e18af1d335aa6f772dc3ed9b8ab549"
      }
    },
    "widgets": {
      "application/vnd.jupyter.widget-state+json": {
        "9f1f5ccc1da949b884c6655b2717ef77": {
          "model_module": "@jupyter-widgets/controls",
          "model_name": "HBoxModel",
          "model_module_version": "1.5.0",
          "state": {
            "_dom_classes": [],
            "_model_module": "@jupyter-widgets/controls",
            "_model_module_version": "1.5.0",
            "_model_name": "HBoxModel",
            "_view_count": null,
            "_view_module": "@jupyter-widgets/controls",
            "_view_module_version": "1.5.0",
            "_view_name": "HBoxView",
            "box_style": "",
            "children": [
              "IPY_MODEL_d13e85e5213842d09fcbbde984a7bdee",
              "IPY_MODEL_8f2b18ec4a914390b4fc533b61c26760",
              "IPY_MODEL_49a1fa47007440bdac1ccbe9ff289efc"
            ],
            "layout": "IPY_MODEL_307ce634fb5b4866a1ffe799d094aafb"
          }
        },
        "d13e85e5213842d09fcbbde984a7bdee": {
          "model_module": "@jupyter-widgets/controls",
          "model_name": "HTMLModel",
          "model_module_version": "1.5.0",
          "state": {
            "_dom_classes": [],
            "_model_module": "@jupyter-widgets/controls",
            "_model_module_version": "1.5.0",
            "_model_name": "HTMLModel",
            "_view_count": null,
            "_view_module": "@jupyter-widgets/controls",
            "_view_module_version": "1.5.0",
            "_view_name": "HTMLView",
            "description": "",
            "description_tooltip": null,
            "layout": "IPY_MODEL_079b81d7edb742c083c19cc75488cf83",
            "placeholder": "​",
            "style": "IPY_MODEL_aa0c0df325b3408997649652567f0cdc",
            "value": "100%"
          }
        },
        "8f2b18ec4a914390b4fc533b61c26760": {
          "model_module": "@jupyter-widgets/controls",
          "model_name": "FloatProgressModel",
          "model_module_version": "1.5.0",
          "state": {
            "_dom_classes": [],
            "_model_module": "@jupyter-widgets/controls",
            "_model_module_version": "1.5.0",
            "_model_name": "FloatProgressModel",
            "_view_count": null,
            "_view_module": "@jupyter-widgets/controls",
            "_view_module_version": "1.5.0",
            "_view_name": "ProgressView",
            "bar_style": "success",
            "description": "",
            "description_tooltip": null,
            "layout": "IPY_MODEL_f3941e0ea176466da29c87d56764a627",
            "max": 1000000,
            "min": 0,
            "orientation": "horizontal",
            "style": "IPY_MODEL_761400e15b8e4ed9a10f6819f41b6a27",
            "value": 1000000
          }
        },
        "49a1fa47007440bdac1ccbe9ff289efc": {
          "model_module": "@jupyter-widgets/controls",
          "model_name": "HTMLModel",
          "model_module_version": "1.5.0",
          "state": {
            "_dom_classes": [],
            "_model_module": "@jupyter-widgets/controls",
            "_model_module_version": "1.5.0",
            "_model_name": "HTMLModel",
            "_view_count": null,
            "_view_module": "@jupyter-widgets/controls",
            "_view_module_version": "1.5.0",
            "_view_name": "HTMLView",
            "description": "",
            "description_tooltip": null,
            "layout": "IPY_MODEL_ada5868c22dd42478d44fa43c6e3f7e2",
            "placeholder": "​",
            "style": "IPY_MODEL_6cf26475afc34f06ad7a0016d35a076a",
            "value": " 1000000/1000000 [00:02&lt;00:00, 455770.79it/s]"
          }
        },
        "307ce634fb5b4866a1ffe799d094aafb": {
          "model_module": "@jupyter-widgets/base",
          "model_name": "LayoutModel",
          "model_module_version": "1.2.0",
          "state": {
            "_model_module": "@jupyter-widgets/base",
            "_model_module_version": "1.2.0",
            "_model_name": "LayoutModel",
            "_view_count": null,
            "_view_module": "@jupyter-widgets/base",
            "_view_module_version": "1.2.0",
            "_view_name": "LayoutView",
            "align_content": null,
            "align_items": null,
            "align_self": null,
            "border": null,
            "bottom": null,
            "display": null,
            "flex": null,
            "flex_flow": null,
            "grid_area": null,
            "grid_auto_columns": null,
            "grid_auto_flow": null,
            "grid_auto_rows": null,
            "grid_column": null,
            "grid_gap": null,
            "grid_row": null,
            "grid_template_areas": null,
            "grid_template_columns": null,
            "grid_template_rows": null,
            "height": null,
            "justify_content": null,
            "justify_items": null,
            "left": null,
            "margin": null,
            "max_height": null,
            "max_width": null,
            "min_height": null,
            "min_width": null,
            "object_fit": null,
            "object_position": null,
            "order": null,
            "overflow": null,
            "overflow_x": null,
            "overflow_y": null,
            "padding": null,
            "right": null,
            "top": null,
            "visibility": null,
            "width": null
          }
        },
        "079b81d7edb742c083c19cc75488cf83": {
          "model_module": "@jupyter-widgets/base",
          "model_name": "LayoutModel",
          "model_module_version": "1.2.0",
          "state": {
            "_model_module": "@jupyter-widgets/base",
            "_model_module_version": "1.2.0",
            "_model_name": "LayoutModel",
            "_view_count": null,
            "_view_module": "@jupyter-widgets/base",
            "_view_module_version": "1.2.0",
            "_view_name": "LayoutView",
            "align_content": null,
            "align_items": null,
            "align_self": null,
            "border": null,
            "bottom": null,
            "display": null,
            "flex": null,
            "flex_flow": null,
            "grid_area": null,
            "grid_auto_columns": null,
            "grid_auto_flow": null,
            "grid_auto_rows": null,
            "grid_column": null,
            "grid_gap": null,
            "grid_row": null,
            "grid_template_areas": null,
            "grid_template_columns": null,
            "grid_template_rows": null,
            "height": null,
            "justify_content": null,
            "justify_items": null,
            "left": null,
            "margin": null,
            "max_height": null,
            "max_width": null,
            "min_height": null,
            "min_width": null,
            "object_fit": null,
            "object_position": null,
            "order": null,
            "overflow": null,
            "overflow_x": null,
            "overflow_y": null,
            "padding": null,
            "right": null,
            "top": null,
            "visibility": null,
            "width": null
          }
        },
        "aa0c0df325b3408997649652567f0cdc": {
          "model_module": "@jupyter-widgets/controls",
          "model_name": "DescriptionStyleModel",
          "model_module_version": "1.5.0",
          "state": {
            "_model_module": "@jupyter-widgets/controls",
            "_model_module_version": "1.5.0",
            "_model_name": "DescriptionStyleModel",
            "_view_count": null,
            "_view_module": "@jupyter-widgets/base",
            "_view_module_version": "1.2.0",
            "_view_name": "StyleView",
            "description_width": ""
          }
        },
        "f3941e0ea176466da29c87d56764a627": {
          "model_module": "@jupyter-widgets/base",
          "model_name": "LayoutModel",
          "model_module_version": "1.2.0",
          "state": {
            "_model_module": "@jupyter-widgets/base",
            "_model_module_version": "1.2.0",
            "_model_name": "LayoutModel",
            "_view_count": null,
            "_view_module": "@jupyter-widgets/base",
            "_view_module_version": "1.2.0",
            "_view_name": "LayoutView",
            "align_content": null,
            "align_items": null,
            "align_self": null,
            "border": null,
            "bottom": null,
            "display": null,
            "flex": null,
            "flex_flow": null,
            "grid_area": null,
            "grid_auto_columns": null,
            "grid_auto_flow": null,
            "grid_auto_rows": null,
            "grid_column": null,
            "grid_gap": null,
            "grid_row": null,
            "grid_template_areas": null,
            "grid_template_columns": null,
            "grid_template_rows": null,
            "height": null,
            "justify_content": null,
            "justify_items": null,
            "left": null,
            "margin": null,
            "max_height": null,
            "max_width": null,
            "min_height": null,
            "min_width": null,
            "object_fit": null,
            "object_position": null,
            "order": null,
            "overflow": null,
            "overflow_x": null,
            "overflow_y": null,
            "padding": null,
            "right": null,
            "top": null,
            "visibility": null,
            "width": null
          }
        },
        "761400e15b8e4ed9a10f6819f41b6a27": {
          "model_module": "@jupyter-widgets/controls",
          "model_name": "ProgressStyleModel",
          "model_module_version": "1.5.0",
          "state": {
            "_model_module": "@jupyter-widgets/controls",
            "_model_module_version": "1.5.0",
            "_model_name": "ProgressStyleModel",
            "_view_count": null,
            "_view_module": "@jupyter-widgets/base",
            "_view_module_version": "1.2.0",
            "_view_name": "StyleView",
            "bar_color": null,
            "description_width": ""
          }
        },
        "ada5868c22dd42478d44fa43c6e3f7e2": {
          "model_module": "@jupyter-widgets/base",
          "model_name": "LayoutModel",
          "model_module_version": "1.2.0",
          "state": {
            "_model_module": "@jupyter-widgets/base",
            "_model_module_version": "1.2.0",
            "_model_name": "LayoutModel",
            "_view_count": null,
            "_view_module": "@jupyter-widgets/base",
            "_view_module_version": "1.2.0",
            "_view_name": "LayoutView",
            "align_content": null,
            "align_items": null,
            "align_self": null,
            "border": null,
            "bottom": null,
            "display": null,
            "flex": null,
            "flex_flow": null,
            "grid_area": null,
            "grid_auto_columns": null,
            "grid_auto_flow": null,
            "grid_auto_rows": null,
            "grid_column": null,
            "grid_gap": null,
            "grid_row": null,
            "grid_template_areas": null,
            "grid_template_columns": null,
            "grid_template_rows": null,
            "height": null,
            "justify_content": null,
            "justify_items": null,
            "left": null,
            "margin": null,
            "max_height": null,
            "max_width": null,
            "min_height": null,
            "min_width": null,
            "object_fit": null,
            "object_position": null,
            "order": null,
            "overflow": null,
            "overflow_x": null,
            "overflow_y": null,
            "padding": null,
            "right": null,
            "top": null,
            "visibility": null,
            "width": null
          }
        },
        "6cf26475afc34f06ad7a0016d35a076a": {
          "model_module": "@jupyter-widgets/controls",
          "model_name": "DescriptionStyleModel",
          "model_module_version": "1.5.0",
          "state": {
            "_model_module": "@jupyter-widgets/controls",
            "_model_module_version": "1.5.0",
            "_model_name": "DescriptionStyleModel",
            "_view_count": null,
            "_view_module": "@jupyter-widgets/base",
            "_view_module_version": "1.2.0",
            "_view_name": "StyleView",
            "description_width": ""
          }
        },
        "9af06ede924942f79abbcd0ea7213199": {
          "model_module": "@jupyter-widgets/controls",
          "model_name": "HBoxModel",
          "model_module_version": "1.5.0",
          "state": {
            "_dom_classes": [],
            "_model_module": "@jupyter-widgets/controls",
            "_model_module_version": "1.5.0",
            "_model_name": "HBoxModel",
            "_view_count": null,
            "_view_module": "@jupyter-widgets/controls",
            "_view_module_version": "1.5.0",
            "_view_name": "HBoxView",
            "box_style": "",
            "children": [
              "IPY_MODEL_4cbff763b8ff4a03b1957d9a0082f2c8",
              "IPY_MODEL_664032e2d0f94ac39689963e64c86a29",
              "IPY_MODEL_f5256a2cd69f4cf395e0041e4aae0c99"
            ],
            "layout": "IPY_MODEL_dcd5279e832e4a70a4ed0777ad4db1d4"
          }
        },
        "4cbff763b8ff4a03b1957d9a0082f2c8": {
          "model_module": "@jupyter-widgets/controls",
          "model_name": "HTMLModel",
          "model_module_version": "1.5.0",
          "state": {
            "_dom_classes": [],
            "_model_module": "@jupyter-widgets/controls",
            "_model_module_version": "1.5.0",
            "_model_name": "HTMLModel",
            "_view_count": null,
            "_view_module": "@jupyter-widgets/controls",
            "_view_module_version": "1.5.0",
            "_view_name": "HTMLView",
            "description": "",
            "description_tooltip": null,
            "layout": "IPY_MODEL_1afaf4ecfa59446eac92bf2560562dc1",
            "placeholder": "​",
            "style": "IPY_MODEL_f0588db36ee2469884f79ee2a40a83fc",
            "value": "100%"
          }
        },
        "664032e2d0f94ac39689963e64c86a29": {
          "model_module": "@jupyter-widgets/controls",
          "model_name": "FloatProgressModel",
          "model_module_version": "1.5.0",
          "state": {
            "_dom_classes": [],
            "_model_module": "@jupyter-widgets/controls",
            "_model_module_version": "1.5.0",
            "_model_name": "FloatProgressModel",
            "_view_count": null,
            "_view_module": "@jupyter-widgets/controls",
            "_view_module_version": "1.5.0",
            "_view_name": "ProgressView",
            "bar_style": "success",
            "description": "",
            "description_tooltip": null,
            "layout": "IPY_MODEL_27cb340ce27b4a698a87dd4ffde1eca4",
            "max": 1000000,
            "min": 0,
            "orientation": "horizontal",
            "style": "IPY_MODEL_7d7fab389dc740739d8ead21e3d6a492",
            "value": 1000000
          }
        },
        "f5256a2cd69f4cf395e0041e4aae0c99": {
          "model_module": "@jupyter-widgets/controls",
          "model_name": "HTMLModel",
          "model_module_version": "1.5.0",
          "state": {
            "_dom_classes": [],
            "_model_module": "@jupyter-widgets/controls",
            "_model_module_version": "1.5.0",
            "_model_name": "HTMLModel",
            "_view_count": null,
            "_view_module": "@jupyter-widgets/controls",
            "_view_module_version": "1.5.0",
            "_view_name": "HTMLView",
            "description": "",
            "description_tooltip": null,
            "layout": "IPY_MODEL_6731369601ce46bdae0cf8c7168bc5f9",
            "placeholder": "​",
            "style": "IPY_MODEL_eeeca78a3b574c88b1e3657b516220c6",
            "value": " 1000000/1000000 [00:03&lt;00:00, 182062.64it/s]"
          }
        },
        "dcd5279e832e4a70a4ed0777ad4db1d4": {
          "model_module": "@jupyter-widgets/base",
          "model_name": "LayoutModel",
          "model_module_version": "1.2.0",
          "state": {
            "_model_module": "@jupyter-widgets/base",
            "_model_module_version": "1.2.0",
            "_model_name": "LayoutModel",
            "_view_count": null,
            "_view_module": "@jupyter-widgets/base",
            "_view_module_version": "1.2.0",
            "_view_name": "LayoutView",
            "align_content": null,
            "align_items": null,
            "align_self": null,
            "border": null,
            "bottom": null,
            "display": null,
            "flex": null,
            "flex_flow": null,
            "grid_area": null,
            "grid_auto_columns": null,
            "grid_auto_flow": null,
            "grid_auto_rows": null,
            "grid_column": null,
            "grid_gap": null,
            "grid_row": null,
            "grid_template_areas": null,
            "grid_template_columns": null,
            "grid_template_rows": null,
            "height": null,
            "justify_content": null,
            "justify_items": null,
            "left": null,
            "margin": null,
            "max_height": null,
            "max_width": null,
            "min_height": null,
            "min_width": null,
            "object_fit": null,
            "object_position": null,
            "order": null,
            "overflow": null,
            "overflow_x": null,
            "overflow_y": null,
            "padding": null,
            "right": null,
            "top": null,
            "visibility": null,
            "width": null
          }
        },
        "1afaf4ecfa59446eac92bf2560562dc1": {
          "model_module": "@jupyter-widgets/base",
          "model_name": "LayoutModel",
          "model_module_version": "1.2.0",
          "state": {
            "_model_module": "@jupyter-widgets/base",
            "_model_module_version": "1.2.0",
            "_model_name": "LayoutModel",
            "_view_count": null,
            "_view_module": "@jupyter-widgets/base",
            "_view_module_version": "1.2.0",
            "_view_name": "LayoutView",
            "align_content": null,
            "align_items": null,
            "align_self": null,
            "border": null,
            "bottom": null,
            "display": null,
            "flex": null,
            "flex_flow": null,
            "grid_area": null,
            "grid_auto_columns": null,
            "grid_auto_flow": null,
            "grid_auto_rows": null,
            "grid_column": null,
            "grid_gap": null,
            "grid_row": null,
            "grid_template_areas": null,
            "grid_template_columns": null,
            "grid_template_rows": null,
            "height": null,
            "justify_content": null,
            "justify_items": null,
            "left": null,
            "margin": null,
            "max_height": null,
            "max_width": null,
            "min_height": null,
            "min_width": null,
            "object_fit": null,
            "object_position": null,
            "order": null,
            "overflow": null,
            "overflow_x": null,
            "overflow_y": null,
            "padding": null,
            "right": null,
            "top": null,
            "visibility": null,
            "width": null
          }
        },
        "f0588db36ee2469884f79ee2a40a83fc": {
          "model_module": "@jupyter-widgets/controls",
          "model_name": "DescriptionStyleModel",
          "model_module_version": "1.5.0",
          "state": {
            "_model_module": "@jupyter-widgets/controls",
            "_model_module_version": "1.5.0",
            "_model_name": "DescriptionStyleModel",
            "_view_count": null,
            "_view_module": "@jupyter-widgets/base",
            "_view_module_version": "1.2.0",
            "_view_name": "StyleView",
            "description_width": ""
          }
        },
        "27cb340ce27b4a698a87dd4ffde1eca4": {
          "model_module": "@jupyter-widgets/base",
          "model_name": "LayoutModel",
          "model_module_version": "1.2.0",
          "state": {
            "_model_module": "@jupyter-widgets/base",
            "_model_module_version": "1.2.0",
            "_model_name": "LayoutModel",
            "_view_count": null,
            "_view_module": "@jupyter-widgets/base",
            "_view_module_version": "1.2.0",
            "_view_name": "LayoutView",
            "align_content": null,
            "align_items": null,
            "align_self": null,
            "border": null,
            "bottom": null,
            "display": null,
            "flex": null,
            "flex_flow": null,
            "grid_area": null,
            "grid_auto_columns": null,
            "grid_auto_flow": null,
            "grid_auto_rows": null,
            "grid_column": null,
            "grid_gap": null,
            "grid_row": null,
            "grid_template_areas": null,
            "grid_template_columns": null,
            "grid_template_rows": null,
            "height": null,
            "justify_content": null,
            "justify_items": null,
            "left": null,
            "margin": null,
            "max_height": null,
            "max_width": null,
            "min_height": null,
            "min_width": null,
            "object_fit": null,
            "object_position": null,
            "order": null,
            "overflow": null,
            "overflow_x": null,
            "overflow_y": null,
            "padding": null,
            "right": null,
            "top": null,
            "visibility": null,
            "width": null
          }
        },
        "7d7fab389dc740739d8ead21e3d6a492": {
          "model_module": "@jupyter-widgets/controls",
          "model_name": "ProgressStyleModel",
          "model_module_version": "1.5.0",
          "state": {
            "_model_module": "@jupyter-widgets/controls",
            "_model_module_version": "1.5.0",
            "_model_name": "ProgressStyleModel",
            "_view_count": null,
            "_view_module": "@jupyter-widgets/base",
            "_view_module_version": "1.2.0",
            "_view_name": "StyleView",
            "bar_color": null,
            "description_width": ""
          }
        },
        "6731369601ce46bdae0cf8c7168bc5f9": {
          "model_module": "@jupyter-widgets/base",
          "model_name": "LayoutModel",
          "model_module_version": "1.2.0",
          "state": {
            "_model_module": "@jupyter-widgets/base",
            "_model_module_version": "1.2.0",
            "_model_name": "LayoutModel",
            "_view_count": null,
            "_view_module": "@jupyter-widgets/base",
            "_view_module_version": "1.2.0",
            "_view_name": "LayoutView",
            "align_content": null,
            "align_items": null,
            "align_self": null,
            "border": null,
            "bottom": null,
            "display": null,
            "flex": null,
            "flex_flow": null,
            "grid_area": null,
            "grid_auto_columns": null,
            "grid_auto_flow": null,
            "grid_auto_rows": null,
            "grid_column": null,
            "grid_gap": null,
            "grid_row": null,
            "grid_template_areas": null,
            "grid_template_columns": null,
            "grid_template_rows": null,
            "height": null,
            "justify_content": null,
            "justify_items": null,
            "left": null,
            "margin": null,
            "max_height": null,
            "max_width": null,
            "min_height": null,
            "min_width": null,
            "object_fit": null,
            "object_position": null,
            "order": null,
            "overflow": null,
            "overflow_x": null,
            "overflow_y": null,
            "padding": null,
            "right": null,
            "top": null,
            "visibility": null,
            "width": null
          }
        },
        "eeeca78a3b574c88b1e3657b516220c6": {
          "model_module": "@jupyter-widgets/controls",
          "model_name": "DescriptionStyleModel",
          "model_module_version": "1.5.0",
          "state": {
            "_model_module": "@jupyter-widgets/controls",
            "_model_module_version": "1.5.0",
            "_model_name": "DescriptionStyleModel",
            "_view_count": null,
            "_view_module": "@jupyter-widgets/base",
            "_view_module_version": "1.2.0",
            "_view_name": "StyleView",
            "description_width": ""
          }
        },
        "1bceb1ee13d04320b6f61efe330a8198": {
          "model_module": "@jupyter-widgets/controls",
          "model_name": "HBoxModel",
          "model_module_version": "1.5.0",
          "state": {
            "_dom_classes": [],
            "_model_module": "@jupyter-widgets/controls",
            "_model_module_version": "1.5.0",
            "_model_name": "HBoxModel",
            "_view_count": null,
            "_view_module": "@jupyter-widgets/controls",
            "_view_module_version": "1.5.0",
            "_view_name": "HBoxView",
            "box_style": "",
            "children": [
              "IPY_MODEL_3224299c0d7b4cecb485495a6ff6a63e",
              "IPY_MODEL_9ecb15b22a854138a294c41212100604",
              "IPY_MODEL_c70f9c12f30d4867978bc703483e9763"
            ],
            "layout": "IPY_MODEL_e825bd17c0a44bef882f6b69104c00b4"
          }
        },
        "3224299c0d7b4cecb485495a6ff6a63e": {
          "model_module": "@jupyter-widgets/controls",
          "model_name": "HTMLModel",
          "model_module_version": "1.5.0",
          "state": {
            "_dom_classes": [],
            "_model_module": "@jupyter-widgets/controls",
            "_model_module_version": "1.5.0",
            "_model_name": "HTMLModel",
            "_view_count": null,
            "_view_module": "@jupyter-widgets/controls",
            "_view_module_version": "1.5.0",
            "_view_name": "HTMLView",
            "description": "",
            "description_tooltip": null,
            "layout": "IPY_MODEL_9ea141d2a8d54995a0e341ebbe509097",
            "placeholder": "​",
            "style": "IPY_MODEL_ffb32b38c53a4850a24d3d984367c133",
            "value": "100%"
          }
        },
        "9ecb15b22a854138a294c41212100604": {
          "model_module": "@jupyter-widgets/controls",
          "model_name": "FloatProgressModel",
          "model_module_version": "1.5.0",
          "state": {
            "_dom_classes": [],
            "_model_module": "@jupyter-widgets/controls",
            "_model_module_version": "1.5.0",
            "_model_name": "FloatProgressModel",
            "_view_count": null,
            "_view_module": "@jupyter-widgets/controls",
            "_view_module_version": "1.5.0",
            "_view_name": "ProgressView",
            "bar_style": "success",
            "description": "",
            "description_tooltip": null,
            "layout": "IPY_MODEL_640e74a115b74b74a307c575d113b692",
            "max": 1000000,
            "min": 0,
            "orientation": "horizontal",
            "style": "IPY_MODEL_0d22d9e6dcce4bd58a98d2a1961e1ee9",
            "value": 1000000
          }
        },
        "c70f9c12f30d4867978bc703483e9763": {
          "model_module": "@jupyter-widgets/controls",
          "model_name": "HTMLModel",
          "model_module_version": "1.5.0",
          "state": {
            "_dom_classes": [],
            "_model_module": "@jupyter-widgets/controls",
            "_model_module_version": "1.5.0",
            "_model_name": "HTMLModel",
            "_view_count": null,
            "_view_module": "@jupyter-widgets/controls",
            "_view_module_version": "1.5.0",
            "_view_name": "HTMLView",
            "description": "",
            "description_tooltip": null,
            "layout": "IPY_MODEL_e11f8495f8ef4cb8831d9e2daf09237d",
            "placeholder": "​",
            "style": "IPY_MODEL_df8d217b4f6c470299d0f34b5ce26e1c",
            "value": " 1000000/1000000 [00:26&lt;00:00, 35207.68it/s]"
          }
        },
        "e825bd17c0a44bef882f6b69104c00b4": {
          "model_module": "@jupyter-widgets/base",
          "model_name": "LayoutModel",
          "model_module_version": "1.2.0",
          "state": {
            "_model_module": "@jupyter-widgets/base",
            "_model_module_version": "1.2.0",
            "_model_name": "LayoutModel",
            "_view_count": null,
            "_view_module": "@jupyter-widgets/base",
            "_view_module_version": "1.2.0",
            "_view_name": "LayoutView",
            "align_content": null,
            "align_items": null,
            "align_self": null,
            "border": null,
            "bottom": null,
            "display": null,
            "flex": null,
            "flex_flow": null,
            "grid_area": null,
            "grid_auto_columns": null,
            "grid_auto_flow": null,
            "grid_auto_rows": null,
            "grid_column": null,
            "grid_gap": null,
            "grid_row": null,
            "grid_template_areas": null,
            "grid_template_columns": null,
            "grid_template_rows": null,
            "height": null,
            "justify_content": null,
            "justify_items": null,
            "left": null,
            "margin": null,
            "max_height": null,
            "max_width": null,
            "min_height": null,
            "min_width": null,
            "object_fit": null,
            "object_position": null,
            "order": null,
            "overflow": null,
            "overflow_x": null,
            "overflow_y": null,
            "padding": null,
            "right": null,
            "top": null,
            "visibility": null,
            "width": null
          }
        },
        "9ea141d2a8d54995a0e341ebbe509097": {
          "model_module": "@jupyter-widgets/base",
          "model_name": "LayoutModel",
          "model_module_version": "1.2.0",
          "state": {
            "_model_module": "@jupyter-widgets/base",
            "_model_module_version": "1.2.0",
            "_model_name": "LayoutModel",
            "_view_count": null,
            "_view_module": "@jupyter-widgets/base",
            "_view_module_version": "1.2.0",
            "_view_name": "LayoutView",
            "align_content": null,
            "align_items": null,
            "align_self": null,
            "border": null,
            "bottom": null,
            "display": null,
            "flex": null,
            "flex_flow": null,
            "grid_area": null,
            "grid_auto_columns": null,
            "grid_auto_flow": null,
            "grid_auto_rows": null,
            "grid_column": null,
            "grid_gap": null,
            "grid_row": null,
            "grid_template_areas": null,
            "grid_template_columns": null,
            "grid_template_rows": null,
            "height": null,
            "justify_content": null,
            "justify_items": null,
            "left": null,
            "margin": null,
            "max_height": null,
            "max_width": null,
            "min_height": null,
            "min_width": null,
            "object_fit": null,
            "object_position": null,
            "order": null,
            "overflow": null,
            "overflow_x": null,
            "overflow_y": null,
            "padding": null,
            "right": null,
            "top": null,
            "visibility": null,
            "width": null
          }
        },
        "ffb32b38c53a4850a24d3d984367c133": {
          "model_module": "@jupyter-widgets/controls",
          "model_name": "DescriptionStyleModel",
          "model_module_version": "1.5.0",
          "state": {
            "_model_module": "@jupyter-widgets/controls",
            "_model_module_version": "1.5.0",
            "_model_name": "DescriptionStyleModel",
            "_view_count": null,
            "_view_module": "@jupyter-widgets/base",
            "_view_module_version": "1.2.0",
            "_view_name": "StyleView",
            "description_width": ""
          }
        },
        "640e74a115b74b74a307c575d113b692": {
          "model_module": "@jupyter-widgets/base",
          "model_name": "LayoutModel",
          "model_module_version": "1.2.0",
          "state": {
            "_model_module": "@jupyter-widgets/base",
            "_model_module_version": "1.2.0",
            "_model_name": "LayoutModel",
            "_view_count": null,
            "_view_module": "@jupyter-widgets/base",
            "_view_module_version": "1.2.0",
            "_view_name": "LayoutView",
            "align_content": null,
            "align_items": null,
            "align_self": null,
            "border": null,
            "bottom": null,
            "display": null,
            "flex": null,
            "flex_flow": null,
            "grid_area": null,
            "grid_auto_columns": null,
            "grid_auto_flow": null,
            "grid_auto_rows": null,
            "grid_column": null,
            "grid_gap": null,
            "grid_row": null,
            "grid_template_areas": null,
            "grid_template_columns": null,
            "grid_template_rows": null,
            "height": null,
            "justify_content": null,
            "justify_items": null,
            "left": null,
            "margin": null,
            "max_height": null,
            "max_width": null,
            "min_height": null,
            "min_width": null,
            "object_fit": null,
            "object_position": null,
            "order": null,
            "overflow": null,
            "overflow_x": null,
            "overflow_y": null,
            "padding": null,
            "right": null,
            "top": null,
            "visibility": null,
            "width": null
          }
        },
        "0d22d9e6dcce4bd58a98d2a1961e1ee9": {
          "model_module": "@jupyter-widgets/controls",
          "model_name": "ProgressStyleModel",
          "model_module_version": "1.5.0",
          "state": {
            "_model_module": "@jupyter-widgets/controls",
            "_model_module_version": "1.5.0",
            "_model_name": "ProgressStyleModel",
            "_view_count": null,
            "_view_module": "@jupyter-widgets/base",
            "_view_module_version": "1.2.0",
            "_view_name": "StyleView",
            "bar_color": null,
            "description_width": ""
          }
        },
        "e11f8495f8ef4cb8831d9e2daf09237d": {
          "model_module": "@jupyter-widgets/base",
          "model_name": "LayoutModel",
          "model_module_version": "1.2.0",
          "state": {
            "_model_module": "@jupyter-widgets/base",
            "_model_module_version": "1.2.0",
            "_model_name": "LayoutModel",
            "_view_count": null,
            "_view_module": "@jupyter-widgets/base",
            "_view_module_version": "1.2.0",
            "_view_name": "LayoutView",
            "align_content": null,
            "align_items": null,
            "align_self": null,
            "border": null,
            "bottom": null,
            "display": null,
            "flex": null,
            "flex_flow": null,
            "grid_area": null,
            "grid_auto_columns": null,
            "grid_auto_flow": null,
            "grid_auto_rows": null,
            "grid_column": null,
            "grid_gap": null,
            "grid_row": null,
            "grid_template_areas": null,
            "grid_template_columns": null,
            "grid_template_rows": null,
            "height": null,
            "justify_content": null,
            "justify_items": null,
            "left": null,
            "margin": null,
            "max_height": null,
            "max_width": null,
            "min_height": null,
            "min_width": null,
            "object_fit": null,
            "object_position": null,
            "order": null,
            "overflow": null,
            "overflow_x": null,
            "overflow_y": null,
            "padding": null,
            "right": null,
            "top": null,
            "visibility": null,
            "width": null
          }
        },
        "df8d217b4f6c470299d0f34b5ce26e1c": {
          "model_module": "@jupyter-widgets/controls",
          "model_name": "DescriptionStyleModel",
          "model_module_version": "1.5.0",
          "state": {
            "_model_module": "@jupyter-widgets/controls",
            "_model_module_version": "1.5.0",
            "_model_name": "DescriptionStyleModel",
            "_view_count": null,
            "_view_module": "@jupyter-widgets/base",
            "_view_module_version": "1.2.0",
            "_view_name": "StyleView",
            "description_width": ""
          }
        },
        "9269e34892914321bcd9e6f32c1c7d51": {
          "model_module": "@jupyter-widgets/controls",
          "model_name": "HBoxModel",
          "model_module_version": "1.5.0",
          "state": {
            "_dom_classes": [],
            "_model_module": "@jupyter-widgets/controls",
            "_model_module_version": "1.5.0",
            "_model_name": "HBoxModel",
            "_view_count": null,
            "_view_module": "@jupyter-widgets/controls",
            "_view_module_version": "1.5.0",
            "_view_name": "HBoxView",
            "box_style": "",
            "children": [
              "IPY_MODEL_0b2c589b10f34d61a5dd8b4fdcee7a86",
              "IPY_MODEL_060afb9689d44fad850f4decc70fee01",
              "IPY_MODEL_1af5b631648a4537bfeb6956744b1635"
            ],
            "layout": "IPY_MODEL_eb4845d841d84194bd447555a00fe4eb"
          }
        },
        "0b2c589b10f34d61a5dd8b4fdcee7a86": {
          "model_module": "@jupyter-widgets/controls",
          "model_name": "HTMLModel",
          "model_module_version": "1.5.0",
          "state": {
            "_dom_classes": [],
            "_model_module": "@jupyter-widgets/controls",
            "_model_module_version": "1.5.0",
            "_model_name": "HTMLModel",
            "_view_count": null,
            "_view_module": "@jupyter-widgets/controls",
            "_view_module_version": "1.5.0",
            "_view_name": "HTMLView",
            "description": "",
            "description_tooltip": null,
            "layout": "IPY_MODEL_c6b2e7ff760340eb81037e950a5476fe",
            "placeholder": "​",
            "style": "IPY_MODEL_adda26b576ce4492bcabc08a4bfb4bfa",
            "value": "100%"
          }
        },
        "060afb9689d44fad850f4decc70fee01": {
          "model_module": "@jupyter-widgets/controls",
          "model_name": "FloatProgressModel",
          "model_module_version": "1.5.0",
          "state": {
            "_dom_classes": [],
            "_model_module": "@jupyter-widgets/controls",
            "_model_module_version": "1.5.0",
            "_model_name": "FloatProgressModel",
            "_view_count": null,
            "_view_module": "@jupyter-widgets/controls",
            "_view_module_version": "1.5.0",
            "_view_name": "ProgressView",
            "bar_style": "success",
            "description": "",
            "description_tooltip": null,
            "layout": "IPY_MODEL_3cc46b2deaa249789d500848846c3128",
            "max": 1000000,
            "min": 0,
            "orientation": "horizontal",
            "style": "IPY_MODEL_a30600cf1fd34413aa2514408d714379",
            "value": 1000000
          }
        },
        "1af5b631648a4537bfeb6956744b1635": {
          "model_module": "@jupyter-widgets/controls",
          "model_name": "HTMLModel",
          "model_module_version": "1.5.0",
          "state": {
            "_dom_classes": [],
            "_model_module": "@jupyter-widgets/controls",
            "_model_module_version": "1.5.0",
            "_model_name": "HTMLModel",
            "_view_count": null,
            "_view_module": "@jupyter-widgets/controls",
            "_view_module_version": "1.5.0",
            "_view_name": "HTMLView",
            "description": "",
            "description_tooltip": null,
            "layout": "IPY_MODEL_1fc8db07e0e144129d55be2683fb1b7d",
            "placeholder": "​",
            "style": "IPY_MODEL_e75c7befbf8c4193aab427b6753c8ae6",
            "value": " 1000000/1000000 [02:20&lt;00:00, 6153.77it/s]"
          }
        },
        "eb4845d841d84194bd447555a00fe4eb": {
          "model_module": "@jupyter-widgets/base",
          "model_name": "LayoutModel",
          "model_module_version": "1.2.0",
          "state": {
            "_model_module": "@jupyter-widgets/base",
            "_model_module_version": "1.2.0",
            "_model_name": "LayoutModel",
            "_view_count": null,
            "_view_module": "@jupyter-widgets/base",
            "_view_module_version": "1.2.0",
            "_view_name": "LayoutView",
            "align_content": null,
            "align_items": null,
            "align_self": null,
            "border": null,
            "bottom": null,
            "display": null,
            "flex": null,
            "flex_flow": null,
            "grid_area": null,
            "grid_auto_columns": null,
            "grid_auto_flow": null,
            "grid_auto_rows": null,
            "grid_column": null,
            "grid_gap": null,
            "grid_row": null,
            "grid_template_areas": null,
            "grid_template_columns": null,
            "grid_template_rows": null,
            "height": null,
            "justify_content": null,
            "justify_items": null,
            "left": null,
            "margin": null,
            "max_height": null,
            "max_width": null,
            "min_height": null,
            "min_width": null,
            "object_fit": null,
            "object_position": null,
            "order": null,
            "overflow": null,
            "overflow_x": null,
            "overflow_y": null,
            "padding": null,
            "right": null,
            "top": null,
            "visibility": null,
            "width": null
          }
        },
        "c6b2e7ff760340eb81037e950a5476fe": {
          "model_module": "@jupyter-widgets/base",
          "model_name": "LayoutModel",
          "model_module_version": "1.2.0",
          "state": {
            "_model_module": "@jupyter-widgets/base",
            "_model_module_version": "1.2.0",
            "_model_name": "LayoutModel",
            "_view_count": null,
            "_view_module": "@jupyter-widgets/base",
            "_view_module_version": "1.2.0",
            "_view_name": "LayoutView",
            "align_content": null,
            "align_items": null,
            "align_self": null,
            "border": null,
            "bottom": null,
            "display": null,
            "flex": null,
            "flex_flow": null,
            "grid_area": null,
            "grid_auto_columns": null,
            "grid_auto_flow": null,
            "grid_auto_rows": null,
            "grid_column": null,
            "grid_gap": null,
            "grid_row": null,
            "grid_template_areas": null,
            "grid_template_columns": null,
            "grid_template_rows": null,
            "height": null,
            "justify_content": null,
            "justify_items": null,
            "left": null,
            "margin": null,
            "max_height": null,
            "max_width": null,
            "min_height": null,
            "min_width": null,
            "object_fit": null,
            "object_position": null,
            "order": null,
            "overflow": null,
            "overflow_x": null,
            "overflow_y": null,
            "padding": null,
            "right": null,
            "top": null,
            "visibility": null,
            "width": null
          }
        },
        "adda26b576ce4492bcabc08a4bfb4bfa": {
          "model_module": "@jupyter-widgets/controls",
          "model_name": "DescriptionStyleModel",
          "model_module_version": "1.5.0",
          "state": {
            "_model_module": "@jupyter-widgets/controls",
            "_model_module_version": "1.5.0",
            "_model_name": "DescriptionStyleModel",
            "_view_count": null,
            "_view_module": "@jupyter-widgets/base",
            "_view_module_version": "1.2.0",
            "_view_name": "StyleView",
            "description_width": ""
          }
        },
        "3cc46b2deaa249789d500848846c3128": {
          "model_module": "@jupyter-widgets/base",
          "model_name": "LayoutModel",
          "model_module_version": "1.2.0",
          "state": {
            "_model_module": "@jupyter-widgets/base",
            "_model_module_version": "1.2.0",
            "_model_name": "LayoutModel",
            "_view_count": null,
            "_view_module": "@jupyter-widgets/base",
            "_view_module_version": "1.2.0",
            "_view_name": "LayoutView",
            "align_content": null,
            "align_items": null,
            "align_self": null,
            "border": null,
            "bottom": null,
            "display": null,
            "flex": null,
            "flex_flow": null,
            "grid_area": null,
            "grid_auto_columns": null,
            "grid_auto_flow": null,
            "grid_auto_rows": null,
            "grid_column": null,
            "grid_gap": null,
            "grid_row": null,
            "grid_template_areas": null,
            "grid_template_columns": null,
            "grid_template_rows": null,
            "height": null,
            "justify_content": null,
            "justify_items": null,
            "left": null,
            "margin": null,
            "max_height": null,
            "max_width": null,
            "min_height": null,
            "min_width": null,
            "object_fit": null,
            "object_position": null,
            "order": null,
            "overflow": null,
            "overflow_x": null,
            "overflow_y": null,
            "padding": null,
            "right": null,
            "top": null,
            "visibility": null,
            "width": null
          }
        },
        "a30600cf1fd34413aa2514408d714379": {
          "model_module": "@jupyter-widgets/controls",
          "model_name": "ProgressStyleModel",
          "model_module_version": "1.5.0",
          "state": {
            "_model_module": "@jupyter-widgets/controls",
            "_model_module_version": "1.5.0",
            "_model_name": "ProgressStyleModel",
            "_view_count": null,
            "_view_module": "@jupyter-widgets/base",
            "_view_module_version": "1.2.0",
            "_view_name": "StyleView",
            "bar_color": null,
            "description_width": ""
          }
        },
        "1fc8db07e0e144129d55be2683fb1b7d": {
          "model_module": "@jupyter-widgets/base",
          "model_name": "LayoutModel",
          "model_module_version": "1.2.0",
          "state": {
            "_model_module": "@jupyter-widgets/base",
            "_model_module_version": "1.2.0",
            "_model_name": "LayoutModel",
            "_view_count": null,
            "_view_module": "@jupyter-widgets/base",
            "_view_module_version": "1.2.0",
            "_view_name": "LayoutView",
            "align_content": null,
            "align_items": null,
            "align_self": null,
            "border": null,
            "bottom": null,
            "display": null,
            "flex": null,
            "flex_flow": null,
            "grid_area": null,
            "grid_auto_columns": null,
            "grid_auto_flow": null,
            "grid_auto_rows": null,
            "grid_column": null,
            "grid_gap": null,
            "grid_row": null,
            "grid_template_areas": null,
            "grid_template_columns": null,
            "grid_template_rows": null,
            "height": null,
            "justify_content": null,
            "justify_items": null,
            "left": null,
            "margin": null,
            "max_height": null,
            "max_width": null,
            "min_height": null,
            "min_width": null,
            "object_fit": null,
            "object_position": null,
            "order": null,
            "overflow": null,
            "overflow_x": null,
            "overflow_y": null,
            "padding": null,
            "right": null,
            "top": null,
            "visibility": null,
            "width": null
          }
        },
        "e75c7befbf8c4193aab427b6753c8ae6": {
          "model_module": "@jupyter-widgets/controls",
          "model_name": "DescriptionStyleModel",
          "model_module_version": "1.5.0",
          "state": {
            "_model_module": "@jupyter-widgets/controls",
            "_model_module_version": "1.5.0",
            "_model_name": "DescriptionStyleModel",
            "_view_count": null,
            "_view_module": "@jupyter-widgets/base",
            "_view_module_version": "1.2.0",
            "_view_name": "StyleView",
            "description_width": ""
          }
        }
      }
    }
  },
  "nbformat": 4,
  "nbformat_minor": 0
}