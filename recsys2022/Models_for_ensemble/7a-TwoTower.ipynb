{
 "cells": [
  {
   "cell_type": "markdown",
   "metadata": {
    "colab_type": "text",
    "id": "view-in-github"
   },
   "source": [
    "<a href=\"https://colab.research.google.com/github/stavco9/rs-final-project/blob/main/recsys2022/Models_for_ensemble/4a-Transformer.ipynb\" target=\"_parent\"><img src=\"https://colab.research.google.com/assets/colab-badge.svg\" alt=\"Open In Colab\"/></a>"
   ]
  },
  {
   "cell_type": "code",
   "execution_count": 1,
   "metadata": {
    "id": "SnLdjY_dHmlP"
   },
   "outputs": [],
   "source": [
    "just_checking_integrity=False\n",
    "rows=3000\n",
    "test_rows=1000"
   ]
  },
  {
   "cell_type": "code",
   "execution_count": 2,
   "metadata": {
    "_cell_guid": "3946c204-a3f5-44a7-b643-cac70a77fe70",
    "_uuid": "f28177d0-e4d9-4bba-9b30-86b78e8bed57",
    "execution": {
     "iopub.execute_input": "2022-06-13T12:09:55.838907Z",
     "iopub.status.busy": "2022-06-13T12:09:55.838493Z",
     "iopub.status.idle": "2022-06-13T12:10:02.194923Z",
     "shell.execute_reply": "2022-06-13T12:10:02.193839Z",
     "shell.execute_reply.started": "2022-06-13T12:09:55.838873Z"
    },
    "id": "zSNsQsszHgO5",
    "jupyter": {
     "outputs_hidden": false
    }
   },
   "outputs": [],
   "source": [
    "import pandas as pd\n",
    "import tensorflow as tf\n",
    "from tensorflow.keras import layers\n",
    "from sklearn.model_selection import train_test_split\n",
    "import numpy as np\n",
    "import datetime\n",
    "from itertools import compress\n",
    "from math import sin, cos\n",
    "import ast"
   ]
  },
  {
   "cell_type": "code",
   "execution_count": 3,
   "metadata": {
    "id": "hoxk123_HmlR"
   },
   "outputs": [],
   "source": [
    "from tqdm.auto import tqdm\n",
    "tqdm.pandas()"
   ]
  },
  {
   "cell_type": "markdown",
   "metadata": {
    "_cell_guid": "23f0792f-b475-4b29-95a6-909ab82ee477",
    "_uuid": "dace2a44-cc37-4ba8-b70d-7a3a34597b80",
    "id": "36zIGmdV53fm"
   },
   "source": [
    "## Custom metric"
   ]
  },
  {
   "cell_type": "code",
   "execution_count": 4,
   "metadata": {
    "_cell_guid": "74d38947-d45d-44c8-8fba-a1d8dbc94fea",
    "_uuid": "13a36ff4-0b31-4462-90c9-c2ee3616080a",
    "execution": {
     "iopub.execute_input": "2022-06-13T12:10:03.018686Z",
     "iopub.status.busy": "2022-06-13T12:10:03.018299Z",
     "iopub.status.idle": "2022-06-13T12:10:03.028288Z",
     "shell.execute_reply": "2022-06-13T12:10:03.026822Z",
     "shell.execute_reply.started": "2022-06-13T12:10:03.018654Z"
    },
    "id": "tWGIbax5oB5u",
    "jupyter": {
     "source_hidden": true
    }
   },
   "outputs": [],
   "source": [
    "def mrr_top_at(at=100):\n",
    "    @tf.function\n",
    "    def mrr_top(y_true,y_pred):\n",
    "        top_k=tf.math.top_k(y_pred,k=at)\n",
    "        rr=top_k.indices\n",
    "        #print(rr)\n",
    "        idx=tf.range(start=1,limit=at+1,delta=1)\n",
    "        y_true=tf.reshape(y_true,[-1,1])\n",
    "        #print(y_true)\n",
    "        #y_true=tf.broadcast_to(y_true,test.shape)\n",
    "        y_true=tf.cast(y_true,tf.int32)\n",
    "        ranking=tf.where(tf.math.equal(rr,y_true),idx,0)\n",
    "        #print(ranking)\n",
    "        ranking=tf.reduce_sum(ranking,axis=-1)\n",
    "        ranking=tf.where(ranking>0,1/ranking,0)\n",
    "        #print(ranking)\n",
    "        ranking=tf.reduce_mean(ranking)\n",
    "        return ranking\n",
    "    return mrr_top"
   ]
  },
  {
   "cell_type": "markdown",
   "metadata": {
    "_cell_guid": "a0a7c467-e7ba-4ef6-ab89-838ff773662c",
    "_uuid": "eeb2b8cd-ea29-4c1b-97d6-571b76d0c1a7",
    "id": "JrUZ80Og55r7"
   },
   "source": [
    "## Custom layers"
   ]
  },
  {
   "cell_type": "code",
   "execution_count": 5,
   "metadata": {
    "_cell_guid": "7e4f474d-c680-4449-a3e6-cbda91cc90ca",
    "_uuid": "45d88bb0-83ba-4108-bb6c-816656329082",
    "execution": {
     "iopub.execute_input": "2022-06-13T12:10:03.03126Z",
     "iopub.status.busy": "2022-06-13T12:10:03.030319Z",
     "iopub.status.idle": "2022-06-13T12:10:03.045171Z",
     "shell.execute_reply": "2022-06-13T12:10:03.043945Z",
     "shell.execute_reply.started": "2022-06-13T12:10:03.0311Z"
    },
    "id": "WpNQO7sTMibJ",
    "jupyter": {
     "source_hidden": true
    }
   },
   "outputs": [],
   "source": [
    "class TransformerBlock(layers.Layer):\n",
    "    def __init__(self, embed_dim, num_heads, ff_dim, rate=0.1):\n",
    "        super(TransformerBlock, self).__init__()\n",
    "        self.att = layers.MultiHeadAttention(num_heads=num_heads, key_dim=embed_dim)\n",
    "        self.ffn = tf.keras.Sequential(\n",
    "            [layers.Dense(ff_dim, activation=\"relu\"), layers.Dense(embed_dim),]\n",
    "        )\n",
    "        self.layernorm1 = layers.LayerNormalization(epsilon=1e-6)\n",
    "        self.layernorm2 = layers.LayerNormalization(epsilon=1e-6)\n",
    "        self.dropout1 = layers.Dropout(rate)\n",
    "        self.dropout2 = layers.Dropout(rate)\n",
    "\n",
    "    def call(self, inputs, training):\n",
    "        attn_output = self.att(inputs, inputs)\n",
    "        attn_output = self.dropout1(attn_output, training=training)\n",
    "        out1 = self.layernorm1(inputs + attn_output)\n",
    "        ffn_output = self.ffn(out1)\n",
    "        ffn_output = self.dropout2(ffn_output, training=training)\n",
    "        return self.layernorm2(out1 + ffn_output)"
   ]
  },
  {
   "cell_type": "code",
   "execution_count": 6,
   "metadata": {
    "_cell_guid": "4226f190-080d-47e5-841b-2932eab7184e",
    "_uuid": "83de6ec2-3fac-4879-bd79-962efa1d7eca",
    "execution": {
     "iopub.execute_input": "2022-06-13T12:10:03.04906Z",
     "iopub.status.busy": "2022-06-13T12:10:03.048318Z",
     "iopub.status.idle": "2022-06-13T12:10:03.060261Z",
     "shell.execute_reply": "2022-06-13T12:10:03.059172Z",
     "shell.execute_reply.started": "2022-06-13T12:10:03.048991Z"
    },
    "id": "Ywvv14StmYv6",
    "jupyter": {
     "source_hidden": true
    }
   },
   "outputs": [],
   "source": [
    "class TokenAndPositionEmbedding(layers.Layer):\n",
    "    def __init__(\n",
    "        self,\n",
    "        maxlen,\n",
    "        vocab_size,\n",
    "        embed_dim,\n",
    "        item_embedding_trainable=True,\n",
    "        embedding_weights=None\n",
    "        ):\n",
    "        super(TokenAndPositionEmbedding, self).__init__()\n",
    "        self.token_emb = layers.Embedding(\n",
    "            input_dim=vocab_size,\n",
    "            output_dim=embed_dim,\n",
    "            trainable=item_embedding_trainable,\n",
    "            weights=embedding_weights\n",
    "            )\n",
    "        self.pos_emb = layers.Embedding(input_dim=maxlen, output_dim=embed_dim)\n",
    "\n",
    "    def call(self, x):\n",
    "        maxlen = tf.shape(x)[-1]\n",
    "        positions = tf.range(start=maxlen-1, limit=0, delta=-1)\n",
    "        positions = self.pos_emb(positions)\n",
    "        x = self.token_emb(x)\n",
    "        return x + positions"
   ]
  },
  {
   "cell_type": "code",
   "execution_count": 7,
   "metadata": {
    "_cell_guid": "9321d53a-0365-40c3-a738-74a37cdab1b2",
    "_uuid": "f00a1bd9-44b7-46e4-96cb-34d18c6ef094",
    "execution": {
     "iopub.execute_input": "2022-06-13T12:10:03.062308Z",
     "iopub.status.busy": "2022-06-13T12:10:03.061708Z",
     "iopub.status.idle": "2022-06-13T12:10:03.073015Z",
     "shell.execute_reply": "2022-06-13T12:10:03.071727Z",
     "shell.execute_reply.started": "2022-06-13T12:10:03.062266Z"
    },
    "id": "5II46ARomYkg",
    "jupyter": {
     "source_hidden": true
    }
   },
   "outputs": [],
   "source": [
    "class PositionEmbedding(layers.Layer):\n",
    "    def __init__(\n",
    "        self,\n",
    "        maxlen,\n",
    "        embed_dim,\n",
    "        ):\n",
    "        super(PositionEmbedding, self).__init__()\n",
    "        self.pos_emb = layers.Embedding(input_dim=maxlen, output_dim=embed_dim)\n",
    "\n",
    "    def call(self, x):\n",
    "        maxlen = tf.shape(x)[-1]\n",
    "        positions = tf.range(start=0, limit=maxlen, delta=1)\n",
    "        positions = self.pos_emb(positions)\n",
    "        return positions"
   ]
  },
  {
   "cell_type": "markdown",
   "metadata": {
    "_cell_guid": "0bd301f6-e2fe-4d01-9617-1459fa110e26",
    "_uuid": "b05008ee-029f-4ef1-ab68-4ffb2e1e0c52",
    "id": "nPdEPhcbArlf"
   },
   "source": [
    "# Prepare dataset"
   ]
  },
  {
   "cell_type": "code",
   "execution_count": 8,
   "metadata": {
    "colab": {
     "base_uri": "https://localhost:8080/"
    },
    "id": "WU1iiveBIIBu",
    "outputId": "421c2605-c57e-4fb8-bfd0-a33918f2a8d4"
   },
   "outputs": [],
   "source": [
    "#from google.colab import drive\n",
    "#drive.mount('/content/drive')\n",
    "#%cd \"/content/drive/My Drive/IDC_MSc/Year1/ReccomendationSystems/Final_Project/\""
   ]
  },
  {
   "cell_type": "code",
   "execution_count": 9,
   "metadata": {
    "_cell_guid": "99e48e16-1a9f-4b64-abdd-d48ad59421d3",
    "_uuid": "16d23d98-ec1b-4e7d-a0e5-1e01ddaab89f",
    "colab": {
     "base_uri": "https://localhost:8080/",
     "height": 206
    },
    "execution": {
     "iopub.execute_input": "2022-06-13T12:11:29.265616Z",
     "iopub.status.busy": "2022-06-13T12:11:29.265221Z",
     "iopub.status.idle": "2022-06-13T12:11:29.281072Z",
     "shell.execute_reply": "2022-06-13T12:11:29.279785Z",
     "shell.execute_reply.started": "2022-06-13T12:11:29.265587Z"
    },
    "id": "kdwGb-syHVoO",
    "jupyter": {
     "source_hidden": true
    },
    "outputId": "89f7065d-2972-4a9e-89cf-abaf83b2a0a6"
   },
   "outputs": [
    {
     "data": {
      "text/html": [
       "<div>\n",
       "<style scoped>\n",
       "    .dataframe tbody tr th:only-of-type {\n",
       "        vertical-align: middle;\n",
       "    }\n",
       "\n",
       "    .dataframe tbody tr th {\n",
       "        vertical-align: top;\n",
       "    }\n",
       "\n",
       "    .dataframe thead th {\n",
       "        text-align: right;\n",
       "    }\n",
       "</style>\n",
       "<table border=\"1\" class=\"dataframe\">\n",
       "  <thead>\n",
       "    <tr style=\"text-align: right;\">\n",
       "      <th></th>\n",
       "      <th>item_id</th>\n",
       "    </tr>\n",
       "  </thead>\n",
       "  <tbody>\n",
       "    <tr>\n",
       "      <th>0</th>\n",
       "      <td>1</td>\n",
       "    </tr>\n",
       "    <tr>\n",
       "      <th>1</th>\n",
       "      <td>2</td>\n",
       "    </tr>\n",
       "    <tr>\n",
       "      <th>2</th>\n",
       "      <td>3</td>\n",
       "    </tr>\n",
       "    <tr>\n",
       "      <th>3</th>\n",
       "      <td>4</td>\n",
       "    </tr>\n",
       "    <tr>\n",
       "      <th>4</th>\n",
       "      <td>5</td>\n",
       "    </tr>\n",
       "  </tbody>\n",
       "</table>\n",
       "</div>"
      ],
      "text/plain": [
       "   item_id\n",
       "0        1\n",
       "1        2\n",
       "2        3\n",
       "3        4\n",
       "4        5"
      ]
     },
     "execution_count": 9,
     "metadata": {},
     "output_type": "execute_result"
    }
   ],
   "source": [
    "candidate_items = pd.read_csv('../dataset/processed_data/candidate_items_mapped.csv')\n",
    "candidate_items.head()"
   ]
  },
  {
   "cell_type": "code",
   "execution_count": 10,
   "metadata": {
    "_cell_guid": "6b83d25e-6434-4eea-b894-c5dac1bb3cd4",
    "_uuid": "dfdb67c0-bf5b-42f2-a325-69802004f77a",
    "colab": {
     "base_uri": "https://localhost:8080/"
    },
    "execution": {
     "iopub.execute_input": "2022-06-13T12:11:29.289783Z",
     "iopub.status.busy": "2022-06-13T12:11:29.289456Z",
     "iopub.status.idle": "2022-06-13T12:11:29.302917Z",
     "shell.execute_reply": "2022-06-13T12:11:29.301768Z",
     "shell.execute_reply.started": "2022-06-13T12:11:29.289744Z"
    },
    "id": "w5LUoNPaouyG",
    "jupyter": {
     "source_hidden": true
    },
    "outputId": "e647a45e-82fa-4cad-914c-94312ee58334"
   },
   "outputs": [
    {
     "data": {
      "text/plain": [
       "(23692, 64)"
      ]
     },
     "execution_count": 10,
     "metadata": {},
     "output_type": "execute_result"
    }
   ],
   "source": [
    "embedding_weights = np.load('../dataset/processed_data/compressed_features.npy')\n",
    "import os\n",
    "import scipy.sparse as sps\n",
    "def get_ICM(files_directory=\"../dataset/processed_data\"):\n",
    "    df_icm = pd.read_csv(filepath_or_buffer=os.path.join(files_directory, 'simplified_features_and_categories_30.csv'), sep=',', header=0)\n",
    "\n",
    "    item_id_list = df_icm['item_id'].values\n",
    "    feat_id_list = df_icm['feature_idx'].values\n",
    "    rating_id_list = np.ones_like(feat_id_list)\n",
    "    ICM_matrix = sps.csr_matrix((rating_id_list, (item_id_list, feat_id_list)))\n",
    "    return ICM_matrix\n",
    "\n",
    "ICM=get_ICM()\n",
    "embedding_weights.shape"
   ]
  },
  {
   "cell_type": "code",
   "execution_count": 11,
   "metadata": {
    "_cell_guid": "3c5c850e-08c2-450c-8f13-2164141918d8",
    "_uuid": "cf07b546-3468-4c45-bac7-1d1a54021b74",
    "execution": {
     "iopub.execute_input": "2022-06-13T12:11:29.308349Z",
     "iopub.status.busy": "2022-06-13T12:11:29.307281Z",
     "iopub.status.idle": "2022-06-13T12:12:25.094372Z",
     "shell.execute_reply": "2022-06-13T12:12:25.093288Z",
     "shell.execute_reply.started": "2022-06-13T12:11:29.308319Z"
    },
    "id": "pdJPGOaaXfhg",
    "jupyter": {
     "outputs_hidden": false
    }
   },
   "outputs": [],
   "source": [
    "result =  pd.read_csv(\"../dataset/processed_data/macro_feats_NN.csv\",parse_dates=[\"date_session_starting\"],\n",
    "     infer_datetime_format=True)\n",
    "\n",
    "\n",
    "\n",
    "result[\"item_id\"]=result[\"item_id\"].map(ast.literal_eval)\n",
    "result[\"timedelta\"]=result[\"timedelta\"].map(ast.literal_eval)\n",
    "\n",
    "def is_reseen(x):\n",
    "    #print(x)\n",
    "    seen={}\n",
    "    res=[]\n",
    "    for item in x:\n",
    "        if item in seen:\n",
    "            res.append(seen[item])\n",
    "            seen[item]+=1\n",
    "        else:\n",
    "            res.append(0)\n",
    "            seen[item]=1\n",
    "    return res\n",
    "\n",
    "def percentage_seen(x):\n",
    "    size=len(x)\n",
    "    return [(i+1)/size for i in range(size)]"
   ]
  },
  {
   "cell_type": "code",
   "execution_count": 12,
   "metadata": {
    "_cell_guid": "955562dc-1c1b-406b-af22-00d795f4fa86",
    "_uuid": "5cbc5f14-2a07-4920-9333-b46c0d11f5ff",
    "colab": {
     "base_uri": "https://localhost:8080/",
     "height": 81,
     "referenced_widgets": [
      "d2529b5f509b4983b03fb090d743f712",
      "a7e728a6134e434ca66516960c6333ef",
      "0907da8e208d419aa6a344908d53b2f2",
      "c261ed7da68d409d822aa9644d0b9b37",
      "192db19298ab4538acadc4438b38969c",
      "afc7e5dbb10d49cba228684fd027b5d5",
      "139941abbf1e47ecb8737ec1efb8b5b0",
      "ac01f4b1cdaa4d0391ff52d7b3a686b2",
      "a9617c63e2f2494ca6546a448b38ae48",
      "da10a8ad78f74485be6c66b936a13dfb",
      "06075ad86191476ba69f31e226fcbf6a",
      "67cf7eea7dde4b3184d3707193449280",
      "2314a0f664624e18956afd7c19d72b39",
      "381b31254e53416680d8c0b1773accfe",
      "02baaaaf71a448de8f5c333a7a01d828",
      "d300bc0c51ad43b48646dfeb99eeee8a",
      "6e4510cde8be4ed8bcddd6b989bcd7cd",
      "2501e6af731d4c43b71c3f9232d035b4",
      "c76346db0e074aaab55c37decf618627",
      "350724cc70bf40e19026bd61e1e2559e",
      "560e77315d1c49d39144570956d6fb5e",
      "505287f994864605bda7a9627df49c80"
     ]
    },
    "execution": {
     "iopub.execute_input": "2022-06-13T12:12:25.097472Z",
     "iopub.status.busy": "2022-06-13T12:12:25.097022Z",
     "iopub.status.idle": "2022-06-13T12:12:43.241281Z",
     "shell.execute_reply": "2022-06-13T12:12:43.240181Z",
     "shell.execute_reply.started": "2022-06-13T12:12:25.097428Z"
    },
    "id": "cLY9U8gg3fq7",
    "jupyter": {
     "outputs_hidden": false
    },
    "outputId": "692586e2-ad6a-4f03-c80c-f8885bc60a1c"
   },
   "outputs": [
    {
     "data": {
      "application/vnd.jupyter.widget-view+json": {
       "model_id": "23491beef0a94259adf6cdc8bb54010c",
       "version_major": 2,
       "version_minor": 0
      },
      "text/plain": [
       "  0%|          | 0/1000000 [00:00<?, ?it/s]"
      ]
     },
     "metadata": {},
     "output_type": "display_data"
    },
    {
     "data": {
      "application/vnd.jupyter.widget-view+json": {
       "model_id": "525b85677c6a4cb68615bb21eb2546d8",
       "version_major": 2,
       "version_minor": 0
      },
      "text/plain": [
       "  0%|          | 0/1000000 [00:00<?, ?it/s]"
      ]
     },
     "metadata": {},
     "output_type": "display_data"
    }
   ],
   "source": [
    "x_reseen = tf.keras.preprocessing.sequence.pad_sequences(\n",
    "    result['item_id'].progress_apply(is_reseen),\n",
    "    padding='post',\n",
    "    maxlen=100,\n",
    "    dtype=\"int16\"\n",
    ")\n",
    "x_percentage_seen = tf.keras.preprocessing.sequence.pad_sequences(\n",
    "    result['item_id'].progress_apply(percentage_seen),\n",
    "    padding='post',\n",
    "    maxlen=100,\n",
    "    dtype='float16',\n",
    ")"
   ]
  },
  {
   "cell_type": "code",
   "execution_count": 13,
   "metadata": {
    "_cell_guid": "1b42dbc5-cac7-4285-87c4-5a9bfb61173e",
    "_uuid": "d92272ad-38f5-4768-85a3-95b25f870cee",
    "execution": {
     "iopub.execute_input": "2022-06-13T12:12:43.245271Z",
     "iopub.status.busy": "2022-06-13T12:12:43.24275Z",
     "iopub.status.idle": "2022-06-13T12:12:43.256158Z",
     "shell.execute_reply": "2022-06-13T12:12:43.255175Z",
     "shell.execute_reply.started": "2022-06-13T12:12:43.245241Z"
    },
    "id": "SIspm4Y-3unJ",
    "jupyter": {
     "outputs_hidden": false
    }
   },
   "outputs": [],
   "source": [
    "def similarity_with_preceding(x):\n",
    "    if len(x)==1:\n",
    "        return np.array([0])\n",
    "    feats=embedding_weights[x]\n",
    "    #normalize\n",
    "    feats=np.divide(feats,np.linalg.norm(feats,axis=1).reshape((-1,1)))\n",
    "    feats_copy=feats.copy()\n",
    "    feats_copy=np.roll(feats_copy,1,axis=0)\n",
    "    feats_copy[0,:]=0\n",
    "    prod=np.multiply(feats,feats_copy).sum(axis=1)\n",
    "    return prod\n",
    "\n",
    "\n",
    "\n",
    "def similarity_feats_with_preceding(x):\n",
    "    if len(x)==1:\n",
    "        return np.array([0])\n",
    "    feats=ICM[x].toarray()\n",
    "    #normalize\n",
    "    feats=np.divide(feats,np.linalg.norm(feats,axis=1).reshape((-1,1)))\n",
    "    feats_copy=feats.copy()\n",
    "    feats_copy=np.roll(feats_copy,1,axis=0)\n",
    "    feats_copy[0,:]=0\n",
    "    prod=np.multiply(feats,feats_copy).sum(axis=1)\n",
    "    return prod"
   ]
  },
  {
   "cell_type": "code",
   "execution_count": 14,
   "metadata": {
    "_cell_guid": "64d580f1-7c29-4575-8fcc-86818579329f",
    "_uuid": "9e2965e6-9391-47a6-a1bf-c57ec2ed2f7a",
    "colab": {
     "base_uri": "https://localhost:8080/",
     "height": 81,
     "referenced_widgets": [
      "342ac8018238426db7d93c960ce0e325",
      "b9ae8449b97849a392ac104a446c6707",
      "bc00e2710bb04aa7953637594e7cc210",
      "afeace5663964f3ca5de268d90cade34",
      "f42c2ef57c77474183f94f0abf49d4b2",
      "e835a4536d954c00a7ddd6eba40bed44",
      "a88e04ba0cf0413888adb28d3059ee38",
      "3744b06ba67f4a8ea388696683bcca51",
      "9e30a45974104524bad137bc7b973740",
      "1f6b81afc10746b38d96d8b64d9d8197",
      "1153c5e242764326887ffe833ecd9bb5",
      "772e9f721c8448dbabb72ed0ecaf1e89",
      "c5f8173908de42f4a0368bfb190b78f4",
      "acbefc2a1006415291bf5d83026c4bc4",
      "029d7f7dd1344af8a1c7d4c103aad8fe",
      "5ea2d6093c4b45608b1662c2919bb003",
      "ee93cc956bb94c768de9085aea13249f",
      "c6ab47d94fcc40809da9c5215729979c",
      "e97664bf24934a7fa86cfdde84446f3b",
      "61018c8898f14df58d388ff2642b4d21",
      "d9db57dbb2264d8c98e1d01a8277ee4c",
      "d77b69033bd745b683fca11ab32156da"
     ]
    },
    "execution": {
     "iopub.execute_input": "2022-06-13T12:12:43.258887Z",
     "iopub.status.busy": "2022-06-13T12:12:43.258064Z"
    },
    "id": "pmwUjvrDnfAP",
    "jupyter": {
     "outputs_hidden": false
    },
    "outputId": "bc1832d9-69e6-41b7-82eb-f344fb0d12d5"
   },
   "outputs": [
    {
     "data": {
      "application/vnd.jupyter.widget-view+json": {
       "model_id": "bf3fa3d89d3d467a854d49488fda6c90",
       "version_major": 2,
       "version_minor": 0
      },
      "text/plain": [
       "  0%|          | 0/1000000 [00:00<?, ?it/s]"
      ]
     },
     "metadata": {},
     "output_type": "display_data"
    },
    {
     "data": {
      "application/vnd.jupyter.widget-view+json": {
       "model_id": "02e6746046f141319df2847ae4c1ab18",
       "version_major": 2,
       "version_minor": 0
      },
      "text/plain": [
       "  0%|          | 0/1000000 [00:00<?, ?it/s]"
      ]
     },
     "metadata": {},
     "output_type": "display_data"
    }
   ],
   "source": [
    "x_simils = tf.keras.preprocessing.sequence.pad_sequences(\n",
    "    result['item_id'].progress_apply(similarity_with_preceding\n",
    "    ),\n",
    "    padding='post',\n",
    "    maxlen=100,\n",
    "    dtype='float16',\n",
    ")\n",
    "x_simils_feats = tf.keras.preprocessing.sequence.pad_sequences(\n",
    "    result['item_id'].progress_apply(similarity_feats_with_preceding\n",
    "    ),\n",
    "    padding='post',\n",
    "    maxlen=100,\n",
    "    dtype='float16',\n",
    ")"
   ]
  },
  {
   "cell_type": "code",
   "execution_count": 15,
   "metadata": {
    "_cell_guid": "8026aee1-a675-455c-ab32-3a3dfdef1104",
    "_uuid": "44c352d0-a8b0-4ffd-8ecf-706efb432cdd",
    "id": "3M8e0b_Sx2i-",
    "jupyter": {
     "outputs_hidden": false
    }
   },
   "outputs": [],
   "source": [
    "static_features_names = [\n",
    "                   'date_hour_sin',\n",
    "                   'date_hour_cos',\n",
    "                   'date_day_sin',\n",
    "                   'date_day_cos',\n",
    "                   'date_month_sin',\n",
    "                   'date_month_cos',\n",
    "                   'date_hour_sin_ending',\n",
    "                   'date_hour_cos_ending',\n",
    "                   'date_day_sin_ending',\n",
    "                   'date_day_cos_ending',\n",
    "                   'date_month_sin_ending',\n",
    "                   'date_month_cos_ending',\n",
    "                   'date_year_2020',\n",
    "                   'length_of_session_seconds',\n",
    "                   'avg_time_spent_per_item_seconds',\n",
    "                   'variance_time_spent_per_item_seconds',\n",
    "                   'n_seen_items',\n",
    "                   'n_unique_items',\n",
    "                   'user_went_afk',\n",
    "                   'is_weekend',\n",
    "                   'is_hot_hour',\n",
    "                   'is_night',\n",
    "                   'is_christmas_time',\n",
    "                   'is_black_friday',\n",
    "                   'session_similarity',\n",
    "                   'session_similarity_uniques',\n",
    "                   'session_similarity_feats',\n",
    "                   'session_similarity_feats_uniques'\n",
    "]\n",
    "for col in ['length_of_session_seconds','avg_time_spent_per_item_seconds','variance_time_spent_per_item_seconds']:\n",
    "    result[col]=np.log10(result[col]+1)\n",
    "for col in ['n_seen_items','n_unique_items']:\n",
    "    result[col]=result[col]/100\n",
    "\n",
    "item_related_features = ['timedelta']"
   ]
  },
  {
   "cell_type": "code",
   "execution_count": 16,
   "metadata": {
    "_cell_guid": "875c2771-46cf-4102-8620-3152b89484fe",
    "_uuid": "54fa77ac-d445-4913-9cba-06aff027ecad",
    "execution": {
     "iopub.execute_input": "2022-06-13T12:19:37.55431Z",
     "iopub.status.busy": "2022-06-13T12:19:37.553839Z",
     "iopub.status.idle": "2022-06-13T12:19:37.894809Z",
     "shell.execute_reply": "2022-06-13T12:19:37.893544Z",
     "shell.execute_reply.started": "2022-06-13T12:19:37.554277Z"
    },
    "id": "hT_NE9H5KAeS",
    "jupyter": {
     "outputs_hidden": false
    },
    "outputId": "83a5d1b3-796c-4c7d-eff4-27395e19e793"
   },
   "outputs": [
    {
     "data": {
      "text/html": [
       "<div>\n",
       "<style scoped>\n",
       "    .dataframe tbody tr th:only-of-type {\n",
       "        vertical-align: middle;\n",
       "    }\n",
       "\n",
       "    .dataframe tbody tr th {\n",
       "        vertical-align: top;\n",
       "    }\n",
       "\n",
       "    .dataframe thead th {\n",
       "        text-align: right;\n",
       "    }\n",
       "</style>\n",
       "<table border=\"1\" class=\"dataframe\">\n",
       "  <thead>\n",
       "    <tr style=\"text-align: right;\">\n",
       "      <th></th>\n",
       "      <th>session_id</th>\n",
       "      <th>item_id</th>\n",
       "    </tr>\n",
       "  </thead>\n",
       "  <tbody>\n",
       "    <tr>\n",
       "      <th>0</th>\n",
       "      <td>663204</td>\n",
       "      <td>12492</td>\n",
       "    </tr>\n",
       "    <tr>\n",
       "      <th>1</th>\n",
       "      <td>85375</td>\n",
       "      <td>3299</td>\n",
       "    </tr>\n",
       "    <tr>\n",
       "      <th>2</th>\n",
       "      <td>374472</td>\n",
       "      <td>17411</td>\n",
       "    </tr>\n",
       "    <tr>\n",
       "      <th>3</th>\n",
       "      <td>526578</td>\n",
       "      <td>11229</td>\n",
       "    </tr>\n",
       "    <tr>\n",
       "      <th>4</th>\n",
       "      <td>66630</td>\n",
       "      <td>11568</td>\n",
       "    </tr>\n",
       "  </tbody>\n",
       "</table>\n",
       "</div>"
      ],
      "text/plain": [
       "   session_id  item_id\n",
       "0      663204    12492\n",
       "1       85375     3299\n",
       "2      374472    17411\n",
       "3      526578    11229\n",
       "4       66630    11568"
      ]
     },
     "execution_count": 16,
     "metadata": {},
     "output_type": "execute_result"
    }
   ],
   "source": [
    "if just_checking_integrity:\n",
    "    train_purchases = pd.read_csv(\n",
    "    '../dataset/processed_data/train_purchases_mapped.csv',\n",
    "    usecols = ['session_id', 'item_id'],\n",
    "    nrows=len(result)\n",
    "    )\n",
    "else:\n",
    "    train_purchases = pd.read_csv(\n",
    "    '../dataset/processed_data/train_purchases_mapped.csv',\n",
    "    usecols = ['session_id', 'item_id'],\n",
    "    )\n",
    "train_purchases.head()"
   ]
  },
  {
   "cell_type": "code",
   "execution_count": 17,
   "metadata": {
    "_cell_guid": "85770635-6e50-4fcc-b7f1-dd6a77339a4c",
    "_uuid": "00d3f8ca-da51-4f52-b581-a1209fcff7d2",
    "execution": {
     "iopub.execute_input": "2022-06-13T12:19:40.042833Z",
     "iopub.status.busy": "2022-06-13T12:19:40.042397Z",
     "iopub.status.idle": "2022-06-13T12:19:40.201069Z",
     "shell.execute_reply": "2022-06-13T12:19:40.199973Z",
     "shell.execute_reply.started": "2022-06-13T12:19:40.042765Z"
    },
    "id": "7D5UdxD_nFsJ",
    "jupyter": {
     "outputs_hidden": false
    }
   },
   "outputs": [],
   "source": [
    "train_purchases.sort_values(by=\"session_id\",inplace=True)"
   ]
  },
  {
   "cell_type": "code",
   "execution_count": 18,
   "metadata": {
    "_cell_guid": "4d0fa492-3aff-4891-bf86-8f8fc8961650",
    "_uuid": "0f2eba08-7f51-4820-b288-c79831699dad",
    "execution": {
     "iopub.execute_input": "2022-06-13T12:19:40.758895Z",
     "iopub.status.busy": "2022-06-13T12:19:40.75793Z",
     "iopub.status.idle": "2022-06-13T12:19:46.600816Z",
     "shell.execute_reply": "2022-06-13T12:19:46.599726Z",
     "shell.execute_reply.started": "2022-06-13T12:19:40.758862Z"
    },
    "id": "pJHuoggZN76n",
    "jupyter": {
     "outputs_hidden": false
    }
   },
   "outputs": [],
   "source": [
    "x_ids = tf.keras.preprocessing.sequence.pad_sequences(\n",
    "    result['item_id'],\n",
    "    padding='post',\n",
    "    maxlen=100,\n",
    ")"
   ]
  },
  {
   "cell_type": "code",
   "execution_count": 19,
   "metadata": {
    "_cell_guid": "446a0a20-ac1f-41bf-829b-a73acb835378",
    "_uuid": "d00f26f6-7109-4242-a4d5-ec6a6ca13955",
    "execution": {
     "iopub.execute_input": "2022-06-13T12:19:46.603829Z",
     "iopub.status.busy": "2022-06-13T12:19:46.603225Z",
     "iopub.status.idle": "2022-06-13T12:19:51.162541Z",
     "shell.execute_reply": "2022-06-13T12:19:51.161468Z",
     "shell.execute_reply.started": "2022-06-13T12:19:46.60378Z"
    },
    "id": "XhTHmzlnJkkn",
    "jupyter": {
     "outputs_hidden": false
    },
    "outputId": "9a73db55-8dac-4f60-f2f2-f3bf97aac90c"
   },
   "outputs": [
    {
     "name": "stdout",
     "output_type": "stream",
     "text": [
      "Padding timedelta\n"
     ]
    }
   ],
   "source": [
    "for item_related_feature in item_related_features:\n",
    "  print('Padding {}'.format(item_related_feature))\n",
    "  x_item_related = tf.keras.preprocessing.sequence.pad_sequences(\n",
    "      result[item_related_feature],\n",
    "      dtype='float16',\n",
    "      maxlen=100,\n",
    "      padding='post'\n",
    "    )"
   ]
  },
  {
   "cell_type": "code",
   "execution_count": 20,
   "metadata": {
    "_cell_guid": "52b143c2-7ec8-4cf6-88dd-a371b0eb3cc6",
    "_uuid": "b9834a93-e661-4443-aaa5-922cfec62d1a",
    "execution": {
     "iopub.execute_input": "2022-06-13T12:19:51.164542Z",
     "iopub.status.busy": "2022-06-13T12:19:51.164074Z",
     "iopub.status.idle": "2022-06-13T12:19:51.170331Z",
     "shell.execute_reply": "2022-06-13T12:19:51.169346Z",
     "shell.execute_reply.started": "2022-06-13T12:19:51.164486Z"
    },
    "id": "LC1CtWFNO_zT",
    "jupyter": {
     "outputs_hidden": false
    }
   },
   "outputs": [],
   "source": [
    "if len(item_related_features) == 1:\n",
    "  x_item_related = np.expand_dims(x_item_related, axis=-1)"
   ]
  },
  {
   "cell_type": "code",
   "execution_count": 21,
   "metadata": {
    "_cell_guid": "fe5a5d6e-951b-45bf-a5df-c3b28cef6aa2",
    "_uuid": "17111ae4-f1c8-41e4-a416-30ae10e83c39",
    "execution": {
     "iopub.execute_input": "2022-06-13T12:19:51.1869Z",
     "iopub.status.busy": "2022-06-13T12:19:51.186271Z",
     "iopub.status.idle": "2022-06-13T12:19:51.195324Z",
     "shell.execute_reply": "2022-06-13T12:19:51.194189Z",
     "shell.execute_reply.started": "2022-06-13T12:19:51.186857Z"
    },
    "id": "8_CknegEb9F4",
    "jupyter": {
     "outputs_hidden": false
    }
   },
   "outputs": [],
   "source": [
    "y = train_purchases['item_id'].to_numpy()"
   ]
  },
  {
   "cell_type": "code",
   "execution_count": 22,
   "metadata": {
    "_cell_guid": "6d9db813-39bf-4c5a-9924-aeeea30f4421",
    "_uuid": "84df9d3b-cb15-41db-9a43-a3cb24a9b83f",
    "execution": {
     "iopub.execute_input": "2022-06-13T12:19:51.198322Z",
     "iopub.status.busy": "2022-06-13T12:19:51.196535Z",
     "iopub.status.idle": "2022-06-13T12:19:51.302947Z",
     "shell.execute_reply": "2022-06-13T12:19:51.301858Z",
     "shell.execute_reply.started": "2022-06-13T12:19:51.198277Z"
    },
    "id": "hgFbJXIiMVK8",
    "jupyter": {
     "outputs_hidden": false
    }
   },
   "outputs": [],
   "source": [
    "y_features = embedding_weights[y]"
   ]
  },
  {
   "cell_type": "code",
   "execution_count": 23,
   "metadata": {
    "_cell_guid": "8459f340-fae1-4cd3-a08a-fe704aa3b4ee",
    "_uuid": "fa4aae05-cace-41d2-9936-b3662b7732d5",
    "execution": {
     "iopub.execute_input": "2022-06-13T12:19:51.305357Z",
     "iopub.status.busy": "2022-06-13T12:19:51.30492Z",
     "iopub.status.idle": "2022-06-13T12:19:52.269422Z",
     "shell.execute_reply": "2022-06-13T12:19:52.268346Z",
     "shell.execute_reply.started": "2022-06-13T12:19:51.305315Z"
    },
    "id": "Ij3YstDfO1Vz",
    "jupyter": {
     "outputs_hidden": false
    }
   },
   "outputs": [],
   "source": [
    "last_month_start = datetime.datetime.strptime(\"01/05/21 00:00:00\", '%d/%m/%y %H:%M:%S')\n",
    "static_features=result[static_features_names].to_numpy()\n",
    "\n",
    "indexer = result[\"date_session_starting\"]>=last_month_start\n",
    "\n",
    "x_session_ids_last_month=result[\"session_id\"][indexer]\n",
    "x_ids_last_month=x_ids[indexer,:]\n",
    "x_reseen_last_month=x_reseen[indexer,:]\n",
    "x_simils_last_month=x_simils[indexer,:]\n",
    "x_simils_feats_last_month=x_simils_feats[indexer,:]\n",
    "x_percentage_seen_last_month=x_percentage_seen[indexer,:]\n",
    "static_features_last_month=static_features[indexer,:]\n",
    "x_item_related_last_month=x_item_related[indexer,:]\n",
    "y_last_month=y[indexer]\n",
    "y_features_last_month=y_features[indexer,:]\n",
    "\n",
    "indexer_train = result[\"date_session_starting\"]<last_month_start\n",
    "\n",
    "x_ids=x_ids[indexer_train,:]\n",
    "x_reseen=x_reseen[indexer_train,:]\n",
    "x_simils=x_simils[indexer_train,:]\n",
    "x_simils_feats=x_simils_feats[indexer_train,:]\n",
    "x_percentage_seen=x_percentage_seen[indexer_train,:]\n",
    "static_features=static_features[indexer_train,:]\n",
    "x_item_related=x_item_related[indexer_train,:]\n",
    "y=y[indexer_train]\n",
    "y_features=y_features[indexer_train,:]"
   ]
  },
  {
   "cell_type": "code",
   "execution_count": 24,
   "metadata": {
    "_cell_guid": "529825b1-3954-41a5-abae-ea2c8188f589",
    "_uuid": "c1a7e0f0-34ab-4b0b-9abd-520f2c0c95a3",
    "execution": {
     "iopub.execute_input": "2022-06-13T12:19:55.150386Z",
     "iopub.status.busy": "2022-06-13T12:19:55.149922Z",
     "iopub.status.idle": "2022-06-13T12:19:56.319676Z",
     "shell.execute_reply": "2022-06-13T12:19:56.318441Z",
     "shell.execute_reply.started": "2022-06-13T12:19:55.150339Z"
    },
    "id": "tYkBGGDycPc4",
    "jupyter": {
     "outputs_hidden": false
    }
   },
   "outputs": [],
   "source": [
    "x_ids_train, x_ids_test,\\\n",
    "x_reseen_train, x_reseen_test,\\\n",
    "x_simils_train,x_simils_test,\\\n",
    "x_simils_feats_train,x_simils_feats_test,\\\n",
    "x_percentage_seen_train,x_percentage_seen_test,\\\n",
    "x_static_train, x_static_test, \\\n",
    "x_item_related_train, x_item_related_test, \\\n",
    "y_train, y_test, \\\n",
    "y_features_train, y_features_test = train_test_split(\n",
    "    x_ids,\n",
    "    x_reseen,\n",
    "    x_simils,\n",
    "    x_simils_feats,\n",
    "    x_percentage_seen,\n",
    "    static_features,\n",
    "    x_item_related,\n",
    "    y,\n",
    "    y_features,\n",
    "    test_size=0.2,\n",
    "    random_state=1234\n",
    "    )"
   ]
  },
  {
   "cell_type": "code",
   "execution_count": 25,
   "metadata": {
    "id": "-oXUPxRfHmlW"
   },
   "outputs": [
    {
     "name": "stdout",
     "output_type": "stream",
     "text": [
      "64\n"
     ]
    }
   ],
   "source": [
    "shape=y_features_train.shape[1]\n",
    "print(shape)"
   ]
  },
  {
   "cell_type": "code",
   "execution_count": 26,
   "metadata": {
    "_cell_guid": "5733a3f0-b498-4468-8f1b-95ad1f9aaf26",
    "_uuid": "cf80d7a6-9b53-4218-b3d1-e99b4984feb5",
    "execution": {
     "iopub.execute_input": "2022-06-13T12:19:58.615114Z",
     "iopub.status.busy": "2022-06-13T12:19:58.614686Z",
     "iopub.status.idle": "2022-06-13T12:19:59.129604Z",
     "shell.execute_reply": "2022-06-13T12:19:59.128132Z",
     "shell.execute_reply.started": "2022-06-13T12:19:58.615084Z"
    },
    "id": "-xTh2lWG3RwM",
    "jupyter": {
     "outputs_hidden": false
    },
    "outputId": "c54a8836-82a2-47e0-f3a0-78082079e451"
   },
   "outputs": [
    {
     "data": {
      "text/plain": [
       "18"
      ]
     },
     "execution_count": 26,
     "metadata": {},
     "output_type": "execute_result"
    }
   ],
   "source": [
    "del x_ids,x_reseen,x_simils,x_simils_feats,x_percentage_seen,result,x_item_related,y,y_features\n",
    "import gc\n",
    "gc.collect()"
   ]
  },
  {
   "cell_type": "markdown",
   "metadata": {
    "_cell_guid": "1f62e9eb-25a1-47da-8f07-c9ad5fac2c8a",
    "_uuid": "eb012ae5-6fb8-4e4f-999d-74936c33ec5f",
    "id": "H6hj8gghAwEi"
   },
   "source": [
    "# Build Dataset"
   ]
  },
  {
   "cell_type": "code",
   "execution_count": 27,
   "metadata": {
    "_cell_guid": "e8213cd9-2b29-4acf-9e46-683ce2998f84",
    "_uuid": "dc84b215-4966-48ec-8717-30145d0c5d56",
    "execution": {
     "iopub.execute_input": "2022-06-13T12:20:01.150735Z",
     "iopub.status.busy": "2022-06-13T12:20:01.149963Z",
     "iopub.status.idle": "2022-06-13T12:20:09.642239Z",
     "shell.execute_reply": "2022-06-13T12:20:09.641109Z",
     "shell.execute_reply.started": "2022-06-13T12:20:01.150702Z"
    },
    "id": "_3DuLInmeisZ",
    "jupyter": {
     "outputs_hidden": false
    },
    "outputId": "00ca8c52-c5c6-45fa-8334-db9255c9b86a"
   },
   "outputs": [
    {
     "data": {
      "text/plain": [
       "0"
      ]
     },
     "execution_count": 27,
     "metadata": {},
     "output_type": "execute_result"
    }
   ],
   "source": [
    "if just_checking_integrity:\n",
    "    train_set_complete = tf.data.Dataset.from_tensor_slices(\n",
    "        ((x_ids_train, x_reseen_train/100,x_percentage_seen_train,x_simils_train,x_simils_feats_train, x_item_related_train, x_static_train), (y_train, y_features_train))\n",
    "        ).batch(128,num_parallel_calls=tf.data.AUTOTUNE).prefetch(tf.data.AUTOTUNE).shuffle(4, reshuffle_each_iteration=True)\n",
    "else:\n",
    "    train_set_complete = tf.data.Dataset.from_tensor_slices(\n",
    "        ((x_ids_train, x_reseen_train/100,x_percentage_seen_train,x_simils_train,x_simils_feats_train, x_item_related_train, x_static_train), (y_train, y_features_train))\n",
    "        ).batch(512,num_parallel_calls=tf.data.AUTOTUNE).prefetch(tf.data.AUTOTUNE).shuffle(1435, reshuffle_each_iteration=True)\n",
    "test_set_complete = tf.data.Dataset.from_tensor_slices(\n",
    "    ((x_ids_test, x_reseen_test/100, x_percentage_seen_test,x_simils_test,x_simils_feats_test, x_item_related_test, x_static_test), (y_test, y_features_test))\n",
    "    ).batch(128)\n",
    "gc.collect()"
   ]
  },
  {
   "cell_type": "code",
   "execution_count": 28,
   "metadata": {
    "_cell_guid": "b6806744-2970-403c-900c-0e8430bbc6dd",
    "_uuid": "3977ee2c-d2ea-4118-8b25-ee0be1c95352",
    "execution": {
     "iopub.execute_input": "2022-06-13T12:20:09.644631Z",
     "iopub.status.busy": "2022-06-13T12:20:09.644105Z",
     "iopub.status.idle": "2022-06-13T12:20:09.652635Z",
     "shell.execute_reply": "2022-06-13T12:20:09.651481Z",
     "shell.execute_reply.started": "2022-06-13T12:20:09.644573Z"
    },
    "id": "VsF_-eklOcvz",
    "jupyter": {
     "outputs_hidden": false
    },
    "outputId": "057a4abb-2a5c-485f-dc4e-9b83620a3a74"
   },
   "outputs": [
    {
     "data": {
      "text/plain": [
       "((TensorSpec(shape=(None, 100), dtype=tf.int32, name=None),\n",
       "  TensorSpec(shape=(None, 100), dtype=tf.float64, name=None),\n",
       "  TensorSpec(shape=(None, 100), dtype=tf.float16, name=None),\n",
       "  TensorSpec(shape=(None, 100), dtype=tf.float16, name=None),\n",
       "  TensorSpec(shape=(None, 100), dtype=tf.float16, name=None),\n",
       "  TensorSpec(shape=(None, 100, 1), dtype=tf.float16, name=None),\n",
       "  TensorSpec(shape=(None, 28), dtype=tf.float64, name=None)),\n",
       " (TensorSpec(shape=(None,), dtype=tf.int64, name=None),\n",
       "  TensorSpec(shape=(None, 64), dtype=tf.float32, name=None)))"
      ]
     },
     "execution_count": 28,
     "metadata": {},
     "output_type": "execute_result"
    }
   ],
   "source": [
    "train_set_complete.element_spec"
   ]
  },
  {
   "cell_type": "markdown",
   "metadata": {
    "_cell_guid": "f02bbf43-5f20-483b-8f31-c3447f9391b6",
    "_uuid": "12a3a1e1-4446-4436-ba94-d9cca7bd6daa",
    "id": "Ysx13_z3573S"
   },
   "source": [
    "# Contex aware Transformer NET"
   ]
  },
  {
   "cell_type": "code",
   "execution_count": 29,
   "metadata": {
    "_cell_guid": "2416079c-fbf2-4f4e-8964-c6641fc30229",
    "_uuid": "2dca5593-db26-4304-8e05-bffc911f8158",
    "execution": {
     "iopub.execute_input": "2022-06-13T12:21:12.894893Z",
     "iopub.status.busy": "2022-06-13T12:21:12.894428Z",
     "iopub.status.idle": "2022-06-13T12:21:15.107708Z",
     "shell.execute_reply": "2022-06-13T12:21:15.106667Z",
     "shell.execute_reply.started": "2022-06-13T12:21:12.894862Z"
    },
    "id": "1c55AAEk573T"
   },
   "outputs": [],
   "source": [
    "embed_dim = 64  # Embedding size for each token\n",
    "maxlen = 100\n",
    "num_static = len(static_features_names)\n",
    "num_item_related = len(item_related_features)\n",
    "vocabulary_size = 23692 #max(train_purchases['item_id']) # Size of the vocabulary\n",
    "num_heads = 3\n",
    "ff_dim = 128\n",
    "transformer_width = 128 - num_static - num_item_related - 4\n",
    "mlp_width = 256\n",
    "mlp_depth = 2\n",
    "\n",
    "num_heads = 5\n",
    "\n",
    "#######################################################################\n",
    "########################### TWO TOWER #################################\n",
    "#######################################################################\n",
    "\n",
    "class TwoTowerModel(tf.keras.Model):\n",
    "    \n",
    "    def __init__(self, name, id_inputs, x_reseen_inputs, x_percentage_seen_inputs,\n",
    "                 x_simils_inputs, x_simils_feats_inputs, item_related_inputs, static_inputs):\n",
    "        \n",
    "        ###### input\n",
    "        inputs = [id_inputs, x_reseen_inputs, x_percentage_seen_inputs,x_simils_inputs,x_simils_feats_inputs,item_related_inputs, static_inputs]\n",
    "\n",
    "        ###### item model\n",
    "        \n",
    "        # (1) id_inputs for embedding\n",
    "        learned_embedding = layers.Embedding(\n",
    "            input_dim=vocabulary_size, output_dim=embed_dim, mask_zero=True, name='learned_embedding')(id_inputs)\n",
    "\n",
    "        feature_embedding = layers.Embedding(\n",
    "            input_dim=embedding_weights.shape[0], output_dim=embedding_weights.shape[1], mask_zero=True,\n",
    "            trainable=False, weights=[embedding_weights], name='feature_embedding')(id_inputs)\n",
    "        \n",
    "        # transformer\n",
    "        embedding = layers.Concatenate(name='embedding')([learned_embedding, feature_embedding])\n",
    "        embed_dim_transformer = embed_dim * 2\n",
    "        positional_embedding = PositionEmbedding(maxlen, embed_dim=embed_dim_transformer)(id_inputs)\n",
    "        x_pre = embedding + positional_embedding\n",
    "        x_item = self.build_trasformer_tower(x_pre, embed_dim_transformer)\n",
    "        \n",
    "        # mlp\n",
    "        item_model = self.build_mlp_tower(x_item, tower_name='item_tower')\n",
    "\n",
    "        ###### user session model\n",
    "        \n",
    "        # (2) item_related_inputs, x_reseen_inputs, x_percentage_seen_inputs, x_simils_inputs, x_simils_feats_inputs\n",
    "        masked_item_related_inputs = item_related_inputs[:, :tf.shape(id_inputs)[-1], :]\n",
    "        embedding = layers.Concatenate()(\n",
    "            [masked_item_related_inputs, x_reseen_inputs, x_percentage_seen_inputs, x_simils_inputs,\n",
    "             x_simils_feats_inputs])\n",
    "        \n",
    "        # transformer\n",
    "        embed_dim_transformer = num_item_related + 4\n",
    "        positional_embedding = PositionEmbedding(maxlen, embed_dim=embed_dim_transformer)(id_inputs)\n",
    "        x_pre = embedding + positional_embedding\n",
    "        x_session_sequence = self.build_trasformer_tower(x_pre, embed_dim_transformer)\n",
    "            \n",
    "        # (3) static_inputs \n",
    "        x_session = layers.Concatenate()([static_inputs, x_session_sequence])\n",
    "        \n",
    "        # mlp\n",
    "        session_model = self.build_mlp_tower(x_session, tower_name='session_tower')\n",
    "        \n",
    "        ###### output - similarity\n",
    "        outputs = layers.Multiply()([item_model, session_model])\n",
    "        #outputs = layers.Dense(19021, activation='softmax', name='y')(x_pre)\n",
    "        #secondary_outputs = layers.Dense(units=y_features_train.shape[1], activation='tanh', name='y_features')(x_pre)\n",
    "        \n",
    "        super().__init__(inputs=inputs, outputs=outputs, name=name)\n",
    "    \n",
    "    def build_trasformer_tower(self, x, embed_dim_transformer):\n",
    "        x_post = TransformerBlock(embed_dim_transformer, num_heads, ff_dim)(x)\n",
    "        x_post = layers.Concatenate()([x_post, x])\n",
    "        x_post = layers.GlobalAveragePooling1D()(x_post)\n",
    "        x = layers.Dense(units=mlp_width-num_static, activation='linear')(x_post)\n",
    "        \n",
    "        return x\n",
    "\n",
    "    def build_mlp_tower(self, x, tower_name):\n",
    "        \n",
    "        # towers levels (depth)\n",
    "        for layer in range(mlp_depth):\n",
    "            x_post = layers.LayerNormalization()(x)\n",
    "            x_post = layers.Dropout(0.2)(x_post)\n",
    "            x = layers.Dense(units=mlp_width, activation='gelu')(x_post)\n",
    "            #x = layers.Add()([x, x_post])\n",
    "        \n",
    "        # tower last level before similarity\n",
    "        last_layer = layers.Dense(19021, activation='relu', name=tower_name + '_last_layer')(x)\n",
    "\n",
    "        return last_layer\n",
    "    \n",
    "# transformer blocks - increase depth\n",
    "# transformer depth - seperate the sequences - each with its own transformer and then concate after\n",
    "# hyperparameters\n",
    "# explanation via weights (attention)\n",
    "# check without rankers\n",
    "# data exploration \n",
    "# reading the project instructions"
   ]
  },
  {
   "cell_type": "code",
   "execution_count": 30,
   "metadata": {},
   "outputs": [],
   "source": [
    "# input\n",
    "\n",
    "id_inputs = layers.Input(shape=(maxlen,), name='ids')\n",
    "item_related_inputs = layers.Input(shape=(maxlen, num_item_related), name='item_related_features')\n",
    "x_reseen_inputs = layers.Input(shape=(maxlen, 1), name='x_reseen_featurs')\n",
    "x_percentage_seen_inputs = layers.Input(shape=(maxlen, 1), name='x_percentage_seen')\n",
    "x_simils_inputs = layers.Input(shape=(maxlen, 1), name='x_similarities_embeddings')\n",
    "x_simils_feats_inputs = layers.Input(shape=(maxlen, 1), name='x_similarities_ICM')\n",
    "static_inputs = layers.Input(shape=(num_static,), name='static_features')\n",
    "\n",
    "# model\n",
    "    \n",
    "name=\"two_tower_model\"\n",
    "\n",
    "model_for_training = TwoTowerModel(\n",
    "    name, id_inputs, x_reseen_inputs, x_percentage_seen_inputs,\n",
    "    x_simils_inputs,x_simils_feats_inputs,item_related_inputs, static_inputs\n",
    ")\n",
    "\n",
    "model_for_training.compile(\n",
    "    optimizer=tf.keras.optimizers.legacy.Adamax(), # tf.keras.optimizers.Adagrad(learning_rate=0.1))\n",
    "    loss=lambda y_true, y_pred : tf.keras.losses.categorical_crossentropy(\n",
    "        tf.squeeze(tf.one_hot(tf.cast(y_true, dtype=tf.int32), 19020+1, axis=-1)), y_pred, label_smoothing=0.1),\n",
    "    #loss_weights=[1, 1],\n",
    "    metrics=mrr_top_at(at=100)\n",
    ")"
   ]
  },
  {
   "cell_type": "markdown",
   "metadata": {
    "_cell_guid": "91cc2a4b-618d-4307-8146-9fc084a3cd21",
    "_uuid": "29cbf7b6-395d-41e8-9094-d5757eb087f4",
    "id": "Nl0SX9l385k5"
   },
   "source": [
    "# Training"
   ]
  },
  {
   "cell_type": "code",
   "execution_count": null,
   "metadata": {
    "_cell_guid": "b94316f2-bf53-4c3d-8a80-3f347a913af1",
    "_uuid": "8753248d-0b41-4d96-b2d0-a66ed0fec7aa",
    "execution": {
     "iopub.execute_input": "2022-06-13T12:21:22.603013Z",
     "iopub.status.busy": "2022-06-13T12:21:22.602626Z",
     "iopub.status.idle": "2022-06-13T12:22:43.709448Z",
     "shell.execute_reply": "2022-06-13T12:22:43.707834Z",
     "shell.execute_reply.started": "2022-06-13T12:21:22.60298Z"
    },
    "id": "_0ssXFFYfEpN",
    "jupyter": {
     "outputs_hidden": false
    },
    "outputId": "3fe1be87-dd66-46e4-d321-4acf55fd5f35"
   },
   "outputs": [
    {
     "name": "stdout",
     "output_type": "stream",
     "text": [
      "Epoch 1/100\n",
      "1435/1435 [==============================] - 1706s 1s/step - loss: 9.0811 - mrr_top: 0.0202 - val_loss: 8.9602 - val_mrr_top: 0.0210\n",
      "Epoch 2/100\n",
      "  30/1435 [..............................] - ETA: 25:55 - loss: 9.0221 - mrr_top: 0.0217"
     ]
    }
   ],
   "source": [
    "gc.collect()\n",
    "if just_checking_integrity:\n",
    "    n_epochs=2\n",
    "else:\n",
    "    n_epochs=100\n",
    "\n",
    "model_for_training.fit(\n",
    "    train_set_complete,\n",
    "    validation_data=test_set_complete,\n",
    "    epochs=n_epochs,\n",
    "    callbacks=[\n",
    "               tf.keras.callbacks.EarlyStopping(\n",
    "                  # monitor='val_y_mrr_top',\n",
    "                  mode='max',\n",
    "                  patience=1,\n",
    "                  min_delta=0.0001,\n",
    "                  restore_best_weights=True,\n",
    "              ),\n",
    "         ]\n",
    "    )\n"
   ]
  },
  {
   "cell_type": "markdown",
   "metadata": {
    "_cell_guid": "03e577d5-56ba-4c87-8713-09e23a8d0466",
    "_uuid": "e9913119-3d7a-44bc-a5e2-bda7be4f653d",
    "id": "lpmY1mZKLHD2"
   },
   "source": [
    "# Plot"
   ]
  },
  {
   "cell_type": "code",
   "execution_count": 32,
   "metadata": {
    "_cell_guid": "2228684e-50f4-43f5-9c77-130059b907ee",
    "_uuid": "761d8b25-20b6-4868-80ab-e2411d79e62b",
    "execution": {
     "iopub.execute_input": "2022-06-13T12:21:17.078283Z",
     "iopub.status.busy": "2022-06-13T12:21:17.07783Z",
     "iopub.status.idle": "2022-06-13T12:21:18.648425Z",
     "shell.execute_reply": "2022-06-13T12:21:18.647049Z",
     "shell.execute_reply.started": "2022-06-13T12:21:17.078252Z"
    },
    "id": "IBl0fm9NKpTT",
    "jupyter": {
     "outputs_hidden": false
    },
    "outputId": "bd0dac6e-31f2-4ac8-cef8-e096816bb048"
   },
   "outputs": [
    {
     "name": "stdout",
     "output_type": "stream",
     "text": [
      "You must install pydot (`pip install pydot`) and install graphviz (see instructions at https://graphviz.gitlab.io/download/) for plot_model to work.\n"
     ]
    }
   ],
   "source": [
    "tf.keras.utils.plot_model(model_for_training,to_file=\"./model_2towers.png\", expand_nested=True)"
   ]
  },
  {
   "cell_type": "markdown",
   "metadata": {
    "_cell_guid": "ceab2d82-fa44-4938-aa9c-d4f2a9cb4ded",
    "_uuid": "d772a48a-0a87-40a0-8dc5-dfea7a780c25",
    "id": "4az6_O4azfs2"
   },
   "source": [
    "# Prepare candidates last month"
   ]
  },
  {
   "cell_type": "code",
   "execution_count": 33,
   "metadata": {
    "_cell_guid": "41974ddd-67f9-43f9-85d6-8c0fab103f0a",
    "_uuid": "f2dc23d9-a836-451e-9726-d06489a3c94d",
    "execution": {
     "iopub.execute_input": "2022-06-13T12:23:15.23207Z",
     "iopub.status.busy": "2022-06-13T12:23:15.230874Z",
     "iopub.status.idle": "2022-06-13T12:23:15.537188Z",
     "shell.execute_reply": "2022-06-13T12:23:15.536023Z",
     "shell.execute_reply.started": "2022-06-13T12:23:15.232027Z"
    },
    "id": "8-i1CPSBzfs9",
    "jupyter": {
     "outputs_hidden": false
    },
    "outputId": "a4e80364-8ad3-4118-c238-78180ca8b864"
   },
   "outputs": [
    {
     "data": {
      "text/plain": [
       "(TensorSpec(shape=(None,), dtype=tf.int64, name=None),\n",
       " (TensorSpec(shape=(None, 100), dtype=tf.int32, name=None),\n",
       "  TensorSpec(shape=(None, 100), dtype=tf.float64, name=None),\n",
       "  TensorSpec(shape=(None, 100), dtype=tf.float16, name=None),\n",
       "  TensorSpec(shape=(None, 100), dtype=tf.float16, name=None),\n",
       "  TensorSpec(shape=(None, 100), dtype=tf.float16, name=None),\n",
       "  TensorSpec(shape=(None, 100, 1), dtype=tf.float16, name=None),\n",
       "  TensorSpec(shape=(None, 28), dtype=tf.float64, name=None)))"
      ]
     },
     "execution_count": 33,
     "metadata": {},
     "output_type": "execute_result"
    }
   ],
   "source": [
    "submission_set = tf.data.Dataset.from_tensor_slices(\n",
    "    (\n",
    "        x_session_ids_last_month,\n",
    "     (\n",
    "        x_ids_last_month,\n",
    "        x_reseen_last_month/100,\n",
    "        x_percentage_seen_last_month,\n",
    "        x_simils_last_month,\n",
    "        x_simils_feats_last_month,\n",
    "        x_item_related_last_month,\n",
    "        static_features_last_month\n",
    "     )\n",
    "    )\n",
    ").batch(128)\n",
    "submission_set.element_spec"
   ]
  },
  {
   "cell_type": "code",
   "execution_count": 34,
   "metadata": {
    "_cell_guid": "ac9ab944-b49a-4e6a-9d5e-ab9062673483",
    "_uuid": "934f1e8c-35a4-496c-84e5-ed44290b70fc",
    "execution": {
     "iopub.execute_input": "2022-06-13T12:23:15.539671Z",
     "iopub.status.busy": "2022-06-13T12:23:15.539248Z",
     "iopub.status.idle": "2022-06-13T12:23:15.552993Z",
     "shell.execute_reply": "2022-06-13T12:23:15.551816Z",
     "shell.execute_reply.started": "2022-06-13T12:23:15.539629Z"
    },
    "id": "nBWqAAifzfs9",
    "jupyter": {
     "outputs_hidden": false
    },
    "outputId": "77aa3d51-5c9a-4a31-a9c1-1798515894a8"
   },
   "outputs": [
    {
     "data": {
      "text/html": [
       "<div>\n",
       "<style scoped>\n",
       "    .dataframe tbody tr th:only-of-type {\n",
       "        vertical-align: middle;\n",
       "    }\n",
       "\n",
       "    .dataframe tbody tr th {\n",
       "        vertical-align: top;\n",
       "    }\n",
       "\n",
       "    .dataframe thead th {\n",
       "        text-align: right;\n",
       "    }\n",
       "</style>\n",
       "<table border=\"1\" class=\"dataframe\">\n",
       "  <thead>\n",
       "    <tr style=\"text-align: right;\">\n",
       "      <th></th>\n",
       "      <th>session_id</th>\n",
       "      <th>code</th>\n",
       "      <th>score</th>\n",
       "      <th>rank</th>\n",
       "    </tr>\n",
       "  </thead>\n",
       "  <tbody>\n",
       "  </tbody>\n",
       "</table>\n",
       "</div>"
      ],
      "text/plain": [
       "Empty DataFrame\n",
       "Columns: [session_id, code, score, rank]\n",
       "Index: []"
      ]
     },
     "execution_count": 34,
     "metadata": {},
     "output_type": "execute_result"
    }
   ],
   "source": [
    "submission_df = pd.DataFrame(\n",
    "    {\n",
    "        'session_id':[],\n",
    "        'code':[],\n",
    "        'score':[],\n",
    "        'rank':[]\n",
    "    }\n",
    ")\n",
    "\n",
    "submission_df.head()"
   ]
  },
  {
   "cell_type": "code",
   "execution_count": 35,
   "metadata": {
    "_cell_guid": "7d33e969-021a-4982-9b44-e14e5476ccd6",
    "_uuid": "e8d60778-3b0d-4c63-8c30-885b772118c4",
    "execution": {
     "iopub.execute_input": "2022-06-13T12:23:15.558079Z",
     "iopub.status.busy": "2022-06-13T12:23:15.555764Z",
     "iopub.status.idle": "2022-06-13T12:23:15.570976Z",
     "shell.execute_reply": "2022-06-13T12:23:15.569526Z",
     "shell.execute_reply.started": "2022-06-13T12:23:15.558033Z"
    },
    "id": "TuZJwnvXzfs9",
    "jupyter": {
     "outputs_hidden": false
    }
   },
   "outputs": [],
   "source": [
    "candidates=np.unique(y_last_month) # this is for the test month"
   ]
  },
  {
   "cell_type": "code",
   "execution_count": 36,
   "metadata": {
    "_cell_guid": "4abd4ae2-3853-452b-89fd-21a3ba1504a7",
    "_uuid": "b8f61d48-2d18-4e53-ac7d-fbb74b49964a",
    "execution": {
     "iopub.execute_input": "2022-06-13T12:23:15.57294Z",
     "iopub.status.busy": "2022-06-13T12:23:15.572365Z",
     "iopub.status.idle": "2022-06-13T12:23:15.582173Z",
     "shell.execute_reply": "2022-06-13T12:23:15.581028Z",
     "shell.execute_reply.started": "2022-06-13T12:23:15.572893Z"
    },
    "id": "a_uakPEbWZeW",
    "jupyter": {
     "outputs_hidden": false
    },
    "outputId": "9925aa6b-755a-47b6-865c-d8e74b8704fd"
   },
   "outputs": [
    {
     "data": {
      "text/plain": [
       "array([    1,     2,     3, ..., 18923, 18926, 18945])"
      ]
     },
     "execution_count": 36,
     "metadata": {},
     "output_type": "execute_result"
    }
   ],
   "source": [
    "candidates"
   ]
  },
  {
   "cell_type": "code",
   "execution_count": 37,
   "metadata": {
    "_cell_guid": "96366370-ba5d-4b43-95e7-c8727bed095a",
    "_uuid": "fa43b2cf-f8db-431f-a8ff-4f3d9f4fd889",
    "execution": {
     "iopub.execute_input": "2022-06-13T12:23:15.585083Z",
     "iopub.status.busy": "2022-06-13T12:23:15.583805Z",
     "iopub.status.idle": "2022-06-13T12:24:12.347352Z",
     "shell.execute_reply": "2022-06-13T12:24:12.346278Z",
     "shell.execute_reply.started": "2022-06-13T12:23:15.585035Z"
    },
    "id": "Od4bsrrSzfs9",
    "jupyter": {
     "outputs_hidden": false
    },
    "outputId": "d3a3903b-33d8-447f-8c65-47919de5c2db"
   },
   "outputs": [
    {
     "name": "stderr",
     "output_type": "stream",
     "text": [
      "2024-02-14 00:58:32.270918: I tensorflow/core/common_runtime/executor.cc:1197] [/device:CPU:0] (DEBUG INFO) Executor start aborting (this does not indicate an error and you can ignore this message): INVALID_ARGUMENT: You must feed a value for placeholder tensor 'Placeholder/_4' with dtype half and shape [81618,100]\n",
      "\t [[{{node Placeholder/_4}}]]\n"
     ]
    },
    {
     "ename": "IndexError",
     "evalue": "tuple index out of range",
     "output_type": "error",
     "traceback": [
      "\u001b[0;31m---------------------------------------------------------------------------\u001b[0m",
      "\u001b[0;31mIndexError\u001b[0m                                Traceback (most recent call last)",
      "Cell \u001b[0;32mIn[37], line 3\u001b[0m\n\u001b[1;32m      1\u001b[0m \u001b[38;5;28;01mfor\u001b[39;00m session_ids, sessions \u001b[38;5;129;01min\u001b[39;00m submission_set:\n\u001b[1;32m      2\u001b[0m     predicted_scores\u001b[38;5;241m=\u001b[39mmodel_for_training(sessions)[\u001b[38;5;241m0\u001b[39m]\u001b[38;5;241m.\u001b[39mnumpy()\n\u001b[0;32m----> 3\u001b[0m     mask \u001b[38;5;241m=\u001b[39m np\u001b[38;5;241m.\u001b[39mones(\u001b[43mpredicted_scores\u001b[49m\u001b[38;5;241;43m.\u001b[39;49m\u001b[43mshape\u001b[49m\u001b[43m[\u001b[49m\u001b[38;5;241;43m1\u001b[39;49m\u001b[43m]\u001b[49m, dtype\u001b[38;5;241m=\u001b[39m\u001b[38;5;28mbool\u001b[39m)\n\u001b[1;32m      4\u001b[0m     mask[candidates] \u001b[38;5;241m=\u001b[39m \u001b[38;5;28;01mFalse\u001b[39;00m\n\u001b[1;32m      5\u001b[0m     predicted_scores[\u001b[38;5;241m.\u001b[39m\u001b[38;5;241m.\u001b[39m\u001b[38;5;241m.\u001b[39m,mask]\u001b[38;5;241m=\u001b[39m\u001b[38;5;241m-\u001b[39mnp\u001b[38;5;241m.\u001b[39minf\n",
      "\u001b[0;31mIndexError\u001b[0m: tuple index out of range"
     ]
    }
   ],
   "source": [
    "for session_ids, sessions in submission_set:\n",
    "    predicted_scores=model_for_training(sessions)[0].numpy()\n",
    "    mask = np.ones(predicted_scores.shape[1], dtype=bool)\n",
    "    mask[candidates] = False\n",
    "    predicted_scores[...,mask]=-np.inf\n",
    "    predicted_scores=tf.convert_to_tensor(predicted_scores)\n",
    "    preds=tf.math.top_k(predicted_scores, k=100)\n",
    "    scores=preds.values.numpy()\n",
    "    code = preds.indices.numpy()\n",
    "    prediction = pd.DataFrame(\n",
    "        {\n",
    "            'session_id':session_ids,\n",
    "            'code':[tuple(v) for v in code],\n",
    "            'score':[tuple(v) for v in scores],\n",
    "            'rank':[tuple([rank for rank in range(1, 101)]) for id in session_ids]\n",
    "        }\n",
    "        )\n",
    "\n",
    "    submission_df = pd.concat([submission_df, prediction])\n",
    "\n",
    "submission_df.head()"
   ]
  },
  {
   "cell_type": "code",
   "execution_count": null,
   "metadata": {
    "_cell_guid": "2416079c-fbf2-4f4e-8964-c6641fc30229",
    "_uuid": "2dca5593-db26-4304-8e05-bffc911f8158",
    "execution": {
     "iopub.execute_input": "2022-06-13T12:21:12.894893Z",
     "iopub.status.busy": "2022-06-13T12:21:12.894428Z",
     "iopub.status.idle": "2022-06-13T12:21:15.107708Z",
     "shell.execute_reply": "2022-06-13T12:21:15.106667Z",
     "shell.execute_reply.started": "2022-06-13T12:21:12.894862Z"
    },
    "id": "1c55AAEk573T"
   },
   "outputs": [],
   "source": [
    "\n",
    "\n",
    "\n"
   ]
  },
  {
   "cell_type": "code",
   "execution_count": null,
   "metadata": {
    "_cell_guid": "a2ac08f7-02b3-4cda-a4df-ebc63d2bca4a",
    "_uuid": "5bd07fa9-b602-450e-a7d8-6622458e219a",
    "execution": {
     "iopub.execute_input": "2022-06-13T12:24:12.349459Z",
     "iopub.status.busy": "2022-06-13T12:24:12.348919Z",
     "iopub.status.idle": "2022-06-13T12:24:30.352783Z",
     "shell.execute_reply": "2022-06-13T12:24:30.350521Z",
     "shell.execute_reply.started": "2022-06-13T12:24:12.349414Z"
    },
    "id": "IOOPYCfp0dfE",
    "jupyter": {
     "outputs_hidden": false
    }
   },
   "outputs": [],
   "source": [
    "submission_df.to_csv(\n",
    "    #'./dataset/candidates/NN/Transformer/train/candidates.csv',\n",
    "    '../dataset/candidates/two_towers/train/candidates.csv',\n",
    "    index=False\n",
    "    )"
   ]
  }
 ],
 "metadata": {
  "accelerator": "GPU",
  "colab": {
   "gpuType": "T4",
   "include_colab_link": true,
   "provenance": []
  },
  "kernelspec": {
   "display_name": "Python 3 (ipykernel)",
   "language": "python",
   "name": "python3"
  },
  "language_info": {
   "codemirror_mode": {
    "name": "ipython",
    "version": 3
   },
   "file_extension": ".py",
   "mimetype": "text/x-python",
   "name": "python",
   "nbconvert_exporter": "python",
   "pygments_lexer": "ipython3",
   "version": "3.10.13"
  },
  "vscode": {
   "interpreter": {
    "hash": "61f38fddaed46afda7c40a5798d4631266e18af1d335aa6f772dc3ed9b8ab549"
   }
  },
  "widgets": {
   "application/vnd.jupyter.widget-state+json": {
    "029d7f7dd1344af8a1c7d4c103aad8fe": {
     "model_module": "@jupyter-widgets/controls",
     "model_module_version": "1.5.0",
     "model_name": "HTMLModel",
     "state": {
      "_dom_classes": [],
      "_model_module": "@jupyter-widgets/controls",
      "_model_module_version": "1.5.0",
      "_model_name": "HTMLModel",
      "_view_count": null,
      "_view_module": "@jupyter-widgets/controls",
      "_view_module_version": "1.5.0",
      "_view_name": "HTMLView",
      "description": "",
      "description_tooltip": null,
      "layout": "IPY_MODEL_d9db57dbb2264d8c98e1d01a8277ee4c",
      "placeholder": "​",
      "style": "IPY_MODEL_d77b69033bd745b683fca11ab32156da",
      "value": " 428935/1000000 [01:20&lt;01:27, 6557.76it/s]"
     }
    },
    "02baaaaf71a448de8f5c333a7a01d828": {
     "model_module": "@jupyter-widgets/controls",
     "model_module_version": "1.5.0",
     "model_name": "HTMLModel",
     "state": {
      "_dom_classes": [],
      "_model_module": "@jupyter-widgets/controls",
      "_model_module_version": "1.5.0",
      "_model_name": "HTMLModel",
      "_view_count": null,
      "_view_module": "@jupyter-widgets/controls",
      "_view_module_version": "1.5.0",
      "_view_name": "HTMLView",
      "description": "",
      "description_tooltip": null,
      "layout": "IPY_MODEL_560e77315d1c49d39144570956d6fb5e",
      "placeholder": "​",
      "style": "IPY_MODEL_505287f994864605bda7a9627df49c80",
      "value": " 1000000/1000000 [00:03&lt;00:00, 175069.12it/s]"
     }
    },
    "06075ad86191476ba69f31e226fcbf6a": {
     "model_module": "@jupyter-widgets/controls",
     "model_module_version": "1.5.0",
     "model_name": "DescriptionStyleModel",
     "state": {
      "_model_module": "@jupyter-widgets/controls",
      "_model_module_version": "1.5.0",
      "_model_name": "DescriptionStyleModel",
      "_view_count": null,
      "_view_module": "@jupyter-widgets/base",
      "_view_module_version": "1.2.0",
      "_view_name": "StyleView",
      "description_width": ""
     }
    },
    "0907da8e208d419aa6a344908d53b2f2": {
     "model_module": "@jupyter-widgets/controls",
     "model_module_version": "1.5.0",
     "model_name": "FloatProgressModel",
     "state": {
      "_dom_classes": [],
      "_model_module": "@jupyter-widgets/controls",
      "_model_module_version": "1.5.0",
      "_model_name": "FloatProgressModel",
      "_view_count": null,
      "_view_module": "@jupyter-widgets/controls",
      "_view_module_version": "1.5.0",
      "_view_name": "ProgressView",
      "bar_style": "success",
      "description": "",
      "description_tooltip": null,
      "layout": "IPY_MODEL_ac01f4b1cdaa4d0391ff52d7b3a686b2",
      "max": 1000000,
      "min": 0,
      "orientation": "horizontal",
      "style": "IPY_MODEL_a9617c63e2f2494ca6546a448b38ae48",
      "value": 1000000
     }
    },
    "1153c5e242764326887ffe833ecd9bb5": {
     "model_module": "@jupyter-widgets/controls",
     "model_module_version": "1.5.0",
     "model_name": "DescriptionStyleModel",
     "state": {
      "_model_module": "@jupyter-widgets/controls",
      "_model_module_version": "1.5.0",
      "_model_name": "DescriptionStyleModel",
      "_view_count": null,
      "_view_module": "@jupyter-widgets/base",
      "_view_module_version": "1.2.0",
      "_view_name": "StyleView",
      "description_width": ""
     }
    },
    "139941abbf1e47ecb8737ec1efb8b5b0": {
     "model_module": "@jupyter-widgets/controls",
     "model_module_version": "1.5.0",
     "model_name": "DescriptionStyleModel",
     "state": {
      "_model_module": "@jupyter-widgets/controls",
      "_model_module_version": "1.5.0",
      "_model_name": "DescriptionStyleModel",
      "_view_count": null,
      "_view_module": "@jupyter-widgets/base",
      "_view_module_version": "1.2.0",
      "_view_name": "StyleView",
      "description_width": ""
     }
    },
    "192db19298ab4538acadc4438b38969c": {
     "model_module": "@jupyter-widgets/base",
     "model_module_version": "1.2.0",
     "model_name": "LayoutModel",
     "state": {
      "_model_module": "@jupyter-widgets/base",
      "_model_module_version": "1.2.0",
      "_model_name": "LayoutModel",
      "_view_count": null,
      "_view_module": "@jupyter-widgets/base",
      "_view_module_version": "1.2.0",
      "_view_name": "LayoutView",
      "align_content": null,
      "align_items": null,
      "align_self": null,
      "border": null,
      "bottom": null,
      "display": null,
      "flex": null,
      "flex_flow": null,
      "grid_area": null,
      "grid_auto_columns": null,
      "grid_auto_flow": null,
      "grid_auto_rows": null,
      "grid_column": null,
      "grid_gap": null,
      "grid_row": null,
      "grid_template_areas": null,
      "grid_template_columns": null,
      "grid_template_rows": null,
      "height": null,
      "justify_content": null,
      "justify_items": null,
      "left": null,
      "margin": null,
      "max_height": null,
      "max_width": null,
      "min_height": null,
      "min_width": null,
      "object_fit": null,
      "object_position": null,
      "order": null,
      "overflow": null,
      "overflow_x": null,
      "overflow_y": null,
      "padding": null,
      "right": null,
      "top": null,
      "visibility": null,
      "width": null
     }
    },
    "1f6b81afc10746b38d96d8b64d9d8197": {
     "model_module": "@jupyter-widgets/base",
     "model_module_version": "1.2.0",
     "model_name": "LayoutModel",
     "state": {
      "_model_module": "@jupyter-widgets/base",
      "_model_module_version": "1.2.0",
      "_model_name": "LayoutModel",
      "_view_count": null,
      "_view_module": "@jupyter-widgets/base",
      "_view_module_version": "1.2.0",
      "_view_name": "LayoutView",
      "align_content": null,
      "align_items": null,
      "align_self": null,
      "border": null,
      "bottom": null,
      "display": null,
      "flex": null,
      "flex_flow": null,
      "grid_area": null,
      "grid_auto_columns": null,
      "grid_auto_flow": null,
      "grid_auto_rows": null,
      "grid_column": null,
      "grid_gap": null,
      "grid_row": null,
      "grid_template_areas": null,
      "grid_template_columns": null,
      "grid_template_rows": null,
      "height": null,
      "justify_content": null,
      "justify_items": null,
      "left": null,
      "margin": null,
      "max_height": null,
      "max_width": null,
      "min_height": null,
      "min_width": null,
      "object_fit": null,
      "object_position": null,
      "order": null,
      "overflow": null,
      "overflow_x": null,
      "overflow_y": null,
      "padding": null,
      "right": null,
      "top": null,
      "visibility": null,
      "width": null
     }
    },
    "2314a0f664624e18956afd7c19d72b39": {
     "model_module": "@jupyter-widgets/controls",
     "model_module_version": "1.5.0",
     "model_name": "HTMLModel",
     "state": {
      "_dom_classes": [],
      "_model_module": "@jupyter-widgets/controls",
      "_model_module_version": "1.5.0",
      "_model_name": "HTMLModel",
      "_view_count": null,
      "_view_module": "@jupyter-widgets/controls",
      "_view_module_version": "1.5.0",
      "_view_name": "HTMLView",
      "description": "",
      "description_tooltip": null,
      "layout": "IPY_MODEL_6e4510cde8be4ed8bcddd6b989bcd7cd",
      "placeholder": "​",
      "style": "IPY_MODEL_2501e6af731d4c43b71c3f9232d035b4",
      "value": "100%"
     }
    },
    "2501e6af731d4c43b71c3f9232d035b4": {
     "model_module": "@jupyter-widgets/controls",
     "model_module_version": "1.5.0",
     "model_name": "DescriptionStyleModel",
     "state": {
      "_model_module": "@jupyter-widgets/controls",
      "_model_module_version": "1.5.0",
      "_model_name": "DescriptionStyleModel",
      "_view_count": null,
      "_view_module": "@jupyter-widgets/base",
      "_view_module_version": "1.2.0",
      "_view_name": "StyleView",
      "description_width": ""
     }
    },
    "342ac8018238426db7d93c960ce0e325": {
     "model_module": "@jupyter-widgets/controls",
     "model_module_version": "1.5.0",
     "model_name": "HBoxModel",
     "state": {
      "_dom_classes": [],
      "_model_module": "@jupyter-widgets/controls",
      "_model_module_version": "1.5.0",
      "_model_name": "HBoxModel",
      "_view_count": null,
      "_view_module": "@jupyter-widgets/controls",
      "_view_module_version": "1.5.0",
      "_view_name": "HBoxView",
      "box_style": "",
      "children": [
       "IPY_MODEL_b9ae8449b97849a392ac104a446c6707",
       "IPY_MODEL_bc00e2710bb04aa7953637594e7cc210",
       "IPY_MODEL_afeace5663964f3ca5de268d90cade34"
      ],
      "layout": "IPY_MODEL_f42c2ef57c77474183f94f0abf49d4b2"
     }
    },
    "350724cc70bf40e19026bd61e1e2559e": {
     "model_module": "@jupyter-widgets/controls",
     "model_module_version": "1.5.0",
     "model_name": "ProgressStyleModel",
     "state": {
      "_model_module": "@jupyter-widgets/controls",
      "_model_module_version": "1.5.0",
      "_model_name": "ProgressStyleModel",
      "_view_count": null,
      "_view_module": "@jupyter-widgets/base",
      "_view_module_version": "1.2.0",
      "_view_name": "StyleView",
      "bar_color": null,
      "description_width": ""
     }
    },
    "3744b06ba67f4a8ea388696683bcca51": {
     "model_module": "@jupyter-widgets/base",
     "model_module_version": "1.2.0",
     "model_name": "LayoutModel",
     "state": {
      "_model_module": "@jupyter-widgets/base",
      "_model_module_version": "1.2.0",
      "_model_name": "LayoutModel",
      "_view_count": null,
      "_view_module": "@jupyter-widgets/base",
      "_view_module_version": "1.2.0",
      "_view_name": "LayoutView",
      "align_content": null,
      "align_items": null,
      "align_self": null,
      "border": null,
      "bottom": null,
      "display": null,
      "flex": null,
      "flex_flow": null,
      "grid_area": null,
      "grid_auto_columns": null,
      "grid_auto_flow": null,
      "grid_auto_rows": null,
      "grid_column": null,
      "grid_gap": null,
      "grid_row": null,
      "grid_template_areas": null,
      "grid_template_columns": null,
      "grid_template_rows": null,
      "height": null,
      "justify_content": null,
      "justify_items": null,
      "left": null,
      "margin": null,
      "max_height": null,
      "max_width": null,
      "min_height": null,
      "min_width": null,
      "object_fit": null,
      "object_position": null,
      "order": null,
      "overflow": null,
      "overflow_x": null,
      "overflow_y": null,
      "padding": null,
      "right": null,
      "top": null,
      "visibility": null,
      "width": null
     }
    },
    "381b31254e53416680d8c0b1773accfe": {
     "model_module": "@jupyter-widgets/controls",
     "model_module_version": "1.5.0",
     "model_name": "FloatProgressModel",
     "state": {
      "_dom_classes": [],
      "_model_module": "@jupyter-widgets/controls",
      "_model_module_version": "1.5.0",
      "_model_name": "FloatProgressModel",
      "_view_count": null,
      "_view_module": "@jupyter-widgets/controls",
      "_view_module_version": "1.5.0",
      "_view_name": "ProgressView",
      "bar_style": "success",
      "description": "",
      "description_tooltip": null,
      "layout": "IPY_MODEL_c76346db0e074aaab55c37decf618627",
      "max": 1000000,
      "min": 0,
      "orientation": "horizontal",
      "style": "IPY_MODEL_350724cc70bf40e19026bd61e1e2559e",
      "value": 1000000
     }
    },
    "505287f994864605bda7a9627df49c80": {
     "model_module": "@jupyter-widgets/controls",
     "model_module_version": "1.5.0",
     "model_name": "DescriptionStyleModel",
     "state": {
      "_model_module": "@jupyter-widgets/controls",
      "_model_module_version": "1.5.0",
      "_model_name": "DescriptionStyleModel",
      "_view_count": null,
      "_view_module": "@jupyter-widgets/base",
      "_view_module_version": "1.2.0",
      "_view_name": "StyleView",
      "description_width": ""
     }
    },
    "560e77315d1c49d39144570956d6fb5e": {
     "model_module": "@jupyter-widgets/base",
     "model_module_version": "1.2.0",
     "model_name": "LayoutModel",
     "state": {
      "_model_module": "@jupyter-widgets/base",
      "_model_module_version": "1.2.0",
      "_model_name": "LayoutModel",
      "_view_count": null,
      "_view_module": "@jupyter-widgets/base",
      "_view_module_version": "1.2.0",
      "_view_name": "LayoutView",
      "align_content": null,
      "align_items": null,
      "align_self": null,
      "border": null,
      "bottom": null,
      "display": null,
      "flex": null,
      "flex_flow": null,
      "grid_area": null,
      "grid_auto_columns": null,
      "grid_auto_flow": null,
      "grid_auto_rows": null,
      "grid_column": null,
      "grid_gap": null,
      "grid_row": null,
      "grid_template_areas": null,
      "grid_template_columns": null,
      "grid_template_rows": null,
      "height": null,
      "justify_content": null,
      "justify_items": null,
      "left": null,
      "margin": null,
      "max_height": null,
      "max_width": null,
      "min_height": null,
      "min_width": null,
      "object_fit": null,
      "object_position": null,
      "order": null,
      "overflow": null,
      "overflow_x": null,
      "overflow_y": null,
      "padding": null,
      "right": null,
      "top": null,
      "visibility": null,
      "width": null
     }
    },
    "5ea2d6093c4b45608b1662c2919bb003": {
     "model_module": "@jupyter-widgets/base",
     "model_module_version": "1.2.0",
     "model_name": "LayoutModel",
     "state": {
      "_model_module": "@jupyter-widgets/base",
      "_model_module_version": "1.2.0",
      "_model_name": "LayoutModel",
      "_view_count": null,
      "_view_module": "@jupyter-widgets/base",
      "_view_module_version": "1.2.0",
      "_view_name": "LayoutView",
      "align_content": null,
      "align_items": null,
      "align_self": null,
      "border": null,
      "bottom": null,
      "display": null,
      "flex": null,
      "flex_flow": null,
      "grid_area": null,
      "grid_auto_columns": null,
      "grid_auto_flow": null,
      "grid_auto_rows": null,
      "grid_column": null,
      "grid_gap": null,
      "grid_row": null,
      "grid_template_areas": null,
      "grid_template_columns": null,
      "grid_template_rows": null,
      "height": null,
      "justify_content": null,
      "justify_items": null,
      "left": null,
      "margin": null,
      "max_height": null,
      "max_width": null,
      "min_height": null,
      "min_width": null,
      "object_fit": null,
      "object_position": null,
      "order": null,
      "overflow": null,
      "overflow_x": null,
      "overflow_y": null,
      "padding": null,
      "right": null,
      "top": null,
      "visibility": null,
      "width": null
     }
    },
    "61018c8898f14df58d388ff2642b4d21": {
     "model_module": "@jupyter-widgets/controls",
     "model_module_version": "1.5.0",
     "model_name": "ProgressStyleModel",
     "state": {
      "_model_module": "@jupyter-widgets/controls",
      "_model_module_version": "1.5.0",
      "_model_name": "ProgressStyleModel",
      "_view_count": null,
      "_view_module": "@jupyter-widgets/base",
      "_view_module_version": "1.2.0",
      "_view_name": "StyleView",
      "bar_color": null,
      "description_width": ""
     }
    },
    "67cf7eea7dde4b3184d3707193449280": {
     "model_module": "@jupyter-widgets/controls",
     "model_module_version": "1.5.0",
     "model_name": "HBoxModel",
     "state": {
      "_dom_classes": [],
      "_model_module": "@jupyter-widgets/controls",
      "_model_module_version": "1.5.0",
      "_model_name": "HBoxModel",
      "_view_count": null,
      "_view_module": "@jupyter-widgets/controls",
      "_view_module_version": "1.5.0",
      "_view_name": "HBoxView",
      "box_style": "",
      "children": [
       "IPY_MODEL_2314a0f664624e18956afd7c19d72b39",
       "IPY_MODEL_381b31254e53416680d8c0b1773accfe",
       "IPY_MODEL_02baaaaf71a448de8f5c333a7a01d828"
      ],
      "layout": "IPY_MODEL_d300bc0c51ad43b48646dfeb99eeee8a"
     }
    },
    "6e4510cde8be4ed8bcddd6b989bcd7cd": {
     "model_module": "@jupyter-widgets/base",
     "model_module_version": "1.2.0",
     "model_name": "LayoutModel",
     "state": {
      "_model_module": "@jupyter-widgets/base",
      "_model_module_version": "1.2.0",
      "_model_name": "LayoutModel",
      "_view_count": null,
      "_view_module": "@jupyter-widgets/base",
      "_view_module_version": "1.2.0",
      "_view_name": "LayoutView",
      "align_content": null,
      "align_items": null,
      "align_self": null,
      "border": null,
      "bottom": null,
      "display": null,
      "flex": null,
      "flex_flow": null,
      "grid_area": null,
      "grid_auto_columns": null,
      "grid_auto_flow": null,
      "grid_auto_rows": null,
      "grid_column": null,
      "grid_gap": null,
      "grid_row": null,
      "grid_template_areas": null,
      "grid_template_columns": null,
      "grid_template_rows": null,
      "height": null,
      "justify_content": null,
      "justify_items": null,
      "left": null,
      "margin": null,
      "max_height": null,
      "max_width": null,
      "min_height": null,
      "min_width": null,
      "object_fit": null,
      "object_position": null,
      "order": null,
      "overflow": null,
      "overflow_x": null,
      "overflow_y": null,
      "padding": null,
      "right": null,
      "top": null,
      "visibility": null,
      "width": null
     }
    },
    "772e9f721c8448dbabb72ed0ecaf1e89": {
     "model_module": "@jupyter-widgets/controls",
     "model_module_version": "1.5.0",
     "model_name": "HBoxModel",
     "state": {
      "_dom_classes": [],
      "_model_module": "@jupyter-widgets/controls",
      "_model_module_version": "1.5.0",
      "_model_name": "HBoxModel",
      "_view_count": null,
      "_view_module": "@jupyter-widgets/controls",
      "_view_module_version": "1.5.0",
      "_view_name": "HBoxView",
      "box_style": "",
      "children": [
       "IPY_MODEL_c5f8173908de42f4a0368bfb190b78f4",
       "IPY_MODEL_acbefc2a1006415291bf5d83026c4bc4",
       "IPY_MODEL_029d7f7dd1344af8a1c7d4c103aad8fe"
      ],
      "layout": "IPY_MODEL_5ea2d6093c4b45608b1662c2919bb003"
     }
    },
    "9e30a45974104524bad137bc7b973740": {
     "model_module": "@jupyter-widgets/controls",
     "model_module_version": "1.5.0",
     "model_name": "ProgressStyleModel",
     "state": {
      "_model_module": "@jupyter-widgets/controls",
      "_model_module_version": "1.5.0",
      "_model_name": "ProgressStyleModel",
      "_view_count": null,
      "_view_module": "@jupyter-widgets/base",
      "_view_module_version": "1.2.0",
      "_view_name": "StyleView",
      "bar_color": null,
      "description_width": ""
     }
    },
    "a7e728a6134e434ca66516960c6333ef": {
     "model_module": "@jupyter-widgets/controls",
     "model_module_version": "1.5.0",
     "model_name": "HTMLModel",
     "state": {
      "_dom_classes": [],
      "_model_module": "@jupyter-widgets/controls",
      "_model_module_version": "1.5.0",
      "_model_name": "HTMLModel",
      "_view_count": null,
      "_view_module": "@jupyter-widgets/controls",
      "_view_module_version": "1.5.0",
      "_view_name": "HTMLView",
      "description": "",
      "description_tooltip": null,
      "layout": "IPY_MODEL_afc7e5dbb10d49cba228684fd027b5d5",
      "placeholder": "​",
      "style": "IPY_MODEL_139941abbf1e47ecb8737ec1efb8b5b0",
      "value": "100%"
     }
    },
    "a88e04ba0cf0413888adb28d3059ee38": {
     "model_module": "@jupyter-widgets/controls",
     "model_module_version": "1.5.0",
     "model_name": "DescriptionStyleModel",
     "state": {
      "_model_module": "@jupyter-widgets/controls",
      "_model_module_version": "1.5.0",
      "_model_name": "DescriptionStyleModel",
      "_view_count": null,
      "_view_module": "@jupyter-widgets/base",
      "_view_module_version": "1.2.0",
      "_view_name": "StyleView",
      "description_width": ""
     }
    },
    "a9617c63e2f2494ca6546a448b38ae48": {
     "model_module": "@jupyter-widgets/controls",
     "model_module_version": "1.5.0",
     "model_name": "ProgressStyleModel",
     "state": {
      "_model_module": "@jupyter-widgets/controls",
      "_model_module_version": "1.5.0",
      "_model_name": "ProgressStyleModel",
      "_view_count": null,
      "_view_module": "@jupyter-widgets/base",
      "_view_module_version": "1.2.0",
      "_view_name": "StyleView",
      "bar_color": null,
      "description_width": ""
     }
    },
    "ac01f4b1cdaa4d0391ff52d7b3a686b2": {
     "model_module": "@jupyter-widgets/base",
     "model_module_version": "1.2.0",
     "model_name": "LayoutModel",
     "state": {
      "_model_module": "@jupyter-widgets/base",
      "_model_module_version": "1.2.0",
      "_model_name": "LayoutModel",
      "_view_count": null,
      "_view_module": "@jupyter-widgets/base",
      "_view_module_version": "1.2.0",
      "_view_name": "LayoutView",
      "align_content": null,
      "align_items": null,
      "align_self": null,
      "border": null,
      "bottom": null,
      "display": null,
      "flex": null,
      "flex_flow": null,
      "grid_area": null,
      "grid_auto_columns": null,
      "grid_auto_flow": null,
      "grid_auto_rows": null,
      "grid_column": null,
      "grid_gap": null,
      "grid_row": null,
      "grid_template_areas": null,
      "grid_template_columns": null,
      "grid_template_rows": null,
      "height": null,
      "justify_content": null,
      "justify_items": null,
      "left": null,
      "margin": null,
      "max_height": null,
      "max_width": null,
      "min_height": null,
      "min_width": null,
      "object_fit": null,
      "object_position": null,
      "order": null,
      "overflow": null,
      "overflow_x": null,
      "overflow_y": null,
      "padding": null,
      "right": null,
      "top": null,
      "visibility": null,
      "width": null
     }
    },
    "acbefc2a1006415291bf5d83026c4bc4": {
     "model_module": "@jupyter-widgets/controls",
     "model_module_version": "1.5.0",
     "model_name": "FloatProgressModel",
     "state": {
      "_dom_classes": [],
      "_model_module": "@jupyter-widgets/controls",
      "_model_module_version": "1.5.0",
      "_model_name": "FloatProgressModel",
      "_view_count": null,
      "_view_module": "@jupyter-widgets/controls",
      "_view_module_version": "1.5.0",
      "_view_name": "ProgressView",
      "bar_style": "",
      "description": "",
      "description_tooltip": null,
      "layout": "IPY_MODEL_e97664bf24934a7fa86cfdde84446f3b",
      "max": 1000000,
      "min": 0,
      "orientation": "horizontal",
      "style": "IPY_MODEL_61018c8898f14df58d388ff2642b4d21",
      "value": 428935
     }
    },
    "afc7e5dbb10d49cba228684fd027b5d5": {
     "model_module": "@jupyter-widgets/base",
     "model_module_version": "1.2.0",
     "model_name": "LayoutModel",
     "state": {
      "_model_module": "@jupyter-widgets/base",
      "_model_module_version": "1.2.0",
      "_model_name": "LayoutModel",
      "_view_count": null,
      "_view_module": "@jupyter-widgets/base",
      "_view_module_version": "1.2.0",
      "_view_name": "LayoutView",
      "align_content": null,
      "align_items": null,
      "align_self": null,
      "border": null,
      "bottom": null,
      "display": null,
      "flex": null,
      "flex_flow": null,
      "grid_area": null,
      "grid_auto_columns": null,
      "grid_auto_flow": null,
      "grid_auto_rows": null,
      "grid_column": null,
      "grid_gap": null,
      "grid_row": null,
      "grid_template_areas": null,
      "grid_template_columns": null,
      "grid_template_rows": null,
      "height": null,
      "justify_content": null,
      "justify_items": null,
      "left": null,
      "margin": null,
      "max_height": null,
      "max_width": null,
      "min_height": null,
      "min_width": null,
      "object_fit": null,
      "object_position": null,
      "order": null,
      "overflow": null,
      "overflow_x": null,
      "overflow_y": null,
      "padding": null,
      "right": null,
      "top": null,
      "visibility": null,
      "width": null
     }
    },
    "afeace5663964f3ca5de268d90cade34": {
     "model_module": "@jupyter-widgets/controls",
     "model_module_version": "1.5.0",
     "model_name": "HTMLModel",
     "state": {
      "_dom_classes": [],
      "_model_module": "@jupyter-widgets/controls",
      "_model_module_version": "1.5.0",
      "_model_name": "HTMLModel",
      "_view_count": null,
      "_view_module": "@jupyter-widgets/controls",
      "_view_module_version": "1.5.0",
      "_view_name": "HTMLView",
      "description": "",
      "description_tooltip": null,
      "layout": "IPY_MODEL_1f6b81afc10746b38d96d8b64d9d8197",
      "placeholder": "​",
      "style": "IPY_MODEL_1153c5e242764326887ffe833ecd9bb5",
      "value": " 1000000/1000000 [00:36&lt;00:00, 26614.16it/s]"
     }
    },
    "b9ae8449b97849a392ac104a446c6707": {
     "model_module": "@jupyter-widgets/controls",
     "model_module_version": "1.5.0",
     "model_name": "HTMLModel",
     "state": {
      "_dom_classes": [],
      "_model_module": "@jupyter-widgets/controls",
      "_model_module_version": "1.5.0",
      "_model_name": "HTMLModel",
      "_view_count": null,
      "_view_module": "@jupyter-widgets/controls",
      "_view_module_version": "1.5.0",
      "_view_name": "HTMLView",
      "description": "",
      "description_tooltip": null,
      "layout": "IPY_MODEL_e835a4536d954c00a7ddd6eba40bed44",
      "placeholder": "​",
      "style": "IPY_MODEL_a88e04ba0cf0413888adb28d3059ee38",
      "value": "100%"
     }
    },
    "bc00e2710bb04aa7953637594e7cc210": {
     "model_module": "@jupyter-widgets/controls",
     "model_module_version": "1.5.0",
     "model_name": "FloatProgressModel",
     "state": {
      "_dom_classes": [],
      "_model_module": "@jupyter-widgets/controls",
      "_model_module_version": "1.5.0",
      "_model_name": "FloatProgressModel",
      "_view_count": null,
      "_view_module": "@jupyter-widgets/controls",
      "_view_module_version": "1.5.0",
      "_view_name": "ProgressView",
      "bar_style": "success",
      "description": "",
      "description_tooltip": null,
      "layout": "IPY_MODEL_3744b06ba67f4a8ea388696683bcca51",
      "max": 1000000,
      "min": 0,
      "orientation": "horizontal",
      "style": "IPY_MODEL_9e30a45974104524bad137bc7b973740",
      "value": 1000000
     }
    },
    "c261ed7da68d409d822aa9644d0b9b37": {
     "model_module": "@jupyter-widgets/controls",
     "model_module_version": "1.5.0",
     "model_name": "HTMLModel",
     "state": {
      "_dom_classes": [],
      "_model_module": "@jupyter-widgets/controls",
      "_model_module_version": "1.5.0",
      "_model_name": "HTMLModel",
      "_view_count": null,
      "_view_module": "@jupyter-widgets/controls",
      "_view_module_version": "1.5.0",
      "_view_name": "HTMLView",
      "description": "",
      "description_tooltip": null,
      "layout": "IPY_MODEL_da10a8ad78f74485be6c66b936a13dfb",
      "placeholder": "​",
      "style": "IPY_MODEL_06075ad86191476ba69f31e226fcbf6a",
      "value": " 1000000/1000000 [00:03&lt;00:00, 405526.04it/s]"
     }
    },
    "c5f8173908de42f4a0368bfb190b78f4": {
     "model_module": "@jupyter-widgets/controls",
     "model_module_version": "1.5.0",
     "model_name": "HTMLModel",
     "state": {
      "_dom_classes": [],
      "_model_module": "@jupyter-widgets/controls",
      "_model_module_version": "1.5.0",
      "_model_name": "HTMLModel",
      "_view_count": null,
      "_view_module": "@jupyter-widgets/controls",
      "_view_module_version": "1.5.0",
      "_view_name": "HTMLView",
      "description": "",
      "description_tooltip": null,
      "layout": "IPY_MODEL_ee93cc956bb94c768de9085aea13249f",
      "placeholder": "​",
      "style": "IPY_MODEL_c6ab47d94fcc40809da9c5215729979c",
      "value": " 43%"
     }
    },
    "c6ab47d94fcc40809da9c5215729979c": {
     "model_module": "@jupyter-widgets/controls",
     "model_module_version": "1.5.0",
     "model_name": "DescriptionStyleModel",
     "state": {
      "_model_module": "@jupyter-widgets/controls",
      "_model_module_version": "1.5.0",
      "_model_name": "DescriptionStyleModel",
      "_view_count": null,
      "_view_module": "@jupyter-widgets/base",
      "_view_module_version": "1.2.0",
      "_view_name": "StyleView",
      "description_width": ""
     }
    },
    "c76346db0e074aaab55c37decf618627": {
     "model_module": "@jupyter-widgets/base",
     "model_module_version": "1.2.0",
     "model_name": "LayoutModel",
     "state": {
      "_model_module": "@jupyter-widgets/base",
      "_model_module_version": "1.2.0",
      "_model_name": "LayoutModel",
      "_view_count": null,
      "_view_module": "@jupyter-widgets/base",
      "_view_module_version": "1.2.0",
      "_view_name": "LayoutView",
      "align_content": null,
      "align_items": null,
      "align_self": null,
      "border": null,
      "bottom": null,
      "display": null,
      "flex": null,
      "flex_flow": null,
      "grid_area": null,
      "grid_auto_columns": null,
      "grid_auto_flow": null,
      "grid_auto_rows": null,
      "grid_column": null,
      "grid_gap": null,
      "grid_row": null,
      "grid_template_areas": null,
      "grid_template_columns": null,
      "grid_template_rows": null,
      "height": null,
      "justify_content": null,
      "justify_items": null,
      "left": null,
      "margin": null,
      "max_height": null,
      "max_width": null,
      "min_height": null,
      "min_width": null,
      "object_fit": null,
      "object_position": null,
      "order": null,
      "overflow": null,
      "overflow_x": null,
      "overflow_y": null,
      "padding": null,
      "right": null,
      "top": null,
      "visibility": null,
      "width": null
     }
    },
    "d2529b5f509b4983b03fb090d743f712": {
     "model_module": "@jupyter-widgets/controls",
     "model_module_version": "1.5.0",
     "model_name": "HBoxModel",
     "state": {
      "_dom_classes": [],
      "_model_module": "@jupyter-widgets/controls",
      "_model_module_version": "1.5.0",
      "_model_name": "HBoxModel",
      "_view_count": null,
      "_view_module": "@jupyter-widgets/controls",
      "_view_module_version": "1.5.0",
      "_view_name": "HBoxView",
      "box_style": "",
      "children": [
       "IPY_MODEL_a7e728a6134e434ca66516960c6333ef",
       "IPY_MODEL_0907da8e208d419aa6a344908d53b2f2",
       "IPY_MODEL_c261ed7da68d409d822aa9644d0b9b37"
      ],
      "layout": "IPY_MODEL_192db19298ab4538acadc4438b38969c"
     }
    },
    "d300bc0c51ad43b48646dfeb99eeee8a": {
     "model_module": "@jupyter-widgets/base",
     "model_module_version": "1.2.0",
     "model_name": "LayoutModel",
     "state": {
      "_model_module": "@jupyter-widgets/base",
      "_model_module_version": "1.2.0",
      "_model_name": "LayoutModel",
      "_view_count": null,
      "_view_module": "@jupyter-widgets/base",
      "_view_module_version": "1.2.0",
      "_view_name": "LayoutView",
      "align_content": null,
      "align_items": null,
      "align_self": null,
      "border": null,
      "bottom": null,
      "display": null,
      "flex": null,
      "flex_flow": null,
      "grid_area": null,
      "grid_auto_columns": null,
      "grid_auto_flow": null,
      "grid_auto_rows": null,
      "grid_column": null,
      "grid_gap": null,
      "grid_row": null,
      "grid_template_areas": null,
      "grid_template_columns": null,
      "grid_template_rows": null,
      "height": null,
      "justify_content": null,
      "justify_items": null,
      "left": null,
      "margin": null,
      "max_height": null,
      "max_width": null,
      "min_height": null,
      "min_width": null,
      "object_fit": null,
      "object_position": null,
      "order": null,
      "overflow": null,
      "overflow_x": null,
      "overflow_y": null,
      "padding": null,
      "right": null,
      "top": null,
      "visibility": null,
      "width": null
     }
    },
    "d77b69033bd745b683fca11ab32156da": {
     "model_module": "@jupyter-widgets/controls",
     "model_module_version": "1.5.0",
     "model_name": "DescriptionStyleModel",
     "state": {
      "_model_module": "@jupyter-widgets/controls",
      "_model_module_version": "1.5.0",
      "_model_name": "DescriptionStyleModel",
      "_view_count": null,
      "_view_module": "@jupyter-widgets/base",
      "_view_module_version": "1.2.0",
      "_view_name": "StyleView",
      "description_width": ""
     }
    },
    "d9db57dbb2264d8c98e1d01a8277ee4c": {
     "model_module": "@jupyter-widgets/base",
     "model_module_version": "1.2.0",
     "model_name": "LayoutModel",
     "state": {
      "_model_module": "@jupyter-widgets/base",
      "_model_module_version": "1.2.0",
      "_model_name": "LayoutModel",
      "_view_count": null,
      "_view_module": "@jupyter-widgets/base",
      "_view_module_version": "1.2.0",
      "_view_name": "LayoutView",
      "align_content": null,
      "align_items": null,
      "align_self": null,
      "border": null,
      "bottom": null,
      "display": null,
      "flex": null,
      "flex_flow": null,
      "grid_area": null,
      "grid_auto_columns": null,
      "grid_auto_flow": null,
      "grid_auto_rows": null,
      "grid_column": null,
      "grid_gap": null,
      "grid_row": null,
      "grid_template_areas": null,
      "grid_template_columns": null,
      "grid_template_rows": null,
      "height": null,
      "justify_content": null,
      "justify_items": null,
      "left": null,
      "margin": null,
      "max_height": null,
      "max_width": null,
      "min_height": null,
      "min_width": null,
      "object_fit": null,
      "object_position": null,
      "order": null,
      "overflow": null,
      "overflow_x": null,
      "overflow_y": null,
      "padding": null,
      "right": null,
      "top": null,
      "visibility": null,
      "width": null
     }
    },
    "da10a8ad78f74485be6c66b936a13dfb": {
     "model_module": "@jupyter-widgets/base",
     "model_module_version": "1.2.0",
     "model_name": "LayoutModel",
     "state": {
      "_model_module": "@jupyter-widgets/base",
      "_model_module_version": "1.2.0",
      "_model_name": "LayoutModel",
      "_view_count": null,
      "_view_module": "@jupyter-widgets/base",
      "_view_module_version": "1.2.0",
      "_view_name": "LayoutView",
      "align_content": null,
      "align_items": null,
      "align_self": null,
      "border": null,
      "bottom": null,
      "display": null,
      "flex": null,
      "flex_flow": null,
      "grid_area": null,
      "grid_auto_columns": null,
      "grid_auto_flow": null,
      "grid_auto_rows": null,
      "grid_column": null,
      "grid_gap": null,
      "grid_row": null,
      "grid_template_areas": null,
      "grid_template_columns": null,
      "grid_template_rows": null,
      "height": null,
      "justify_content": null,
      "justify_items": null,
      "left": null,
      "margin": null,
      "max_height": null,
      "max_width": null,
      "min_height": null,
      "min_width": null,
      "object_fit": null,
      "object_position": null,
      "order": null,
      "overflow": null,
      "overflow_x": null,
      "overflow_y": null,
      "padding": null,
      "right": null,
      "top": null,
      "visibility": null,
      "width": null
     }
    },
    "e835a4536d954c00a7ddd6eba40bed44": {
     "model_module": "@jupyter-widgets/base",
     "model_module_version": "1.2.0",
     "model_name": "LayoutModel",
     "state": {
      "_model_module": "@jupyter-widgets/base",
      "_model_module_version": "1.2.0",
      "_model_name": "LayoutModel",
      "_view_count": null,
      "_view_module": "@jupyter-widgets/base",
      "_view_module_version": "1.2.0",
      "_view_name": "LayoutView",
      "align_content": null,
      "align_items": null,
      "align_self": null,
      "border": null,
      "bottom": null,
      "display": null,
      "flex": null,
      "flex_flow": null,
      "grid_area": null,
      "grid_auto_columns": null,
      "grid_auto_flow": null,
      "grid_auto_rows": null,
      "grid_column": null,
      "grid_gap": null,
      "grid_row": null,
      "grid_template_areas": null,
      "grid_template_columns": null,
      "grid_template_rows": null,
      "height": null,
      "justify_content": null,
      "justify_items": null,
      "left": null,
      "margin": null,
      "max_height": null,
      "max_width": null,
      "min_height": null,
      "min_width": null,
      "object_fit": null,
      "object_position": null,
      "order": null,
      "overflow": null,
      "overflow_x": null,
      "overflow_y": null,
      "padding": null,
      "right": null,
      "top": null,
      "visibility": null,
      "width": null
     }
    },
    "e97664bf24934a7fa86cfdde84446f3b": {
     "model_module": "@jupyter-widgets/base",
     "model_module_version": "1.2.0",
     "model_name": "LayoutModel",
     "state": {
      "_model_module": "@jupyter-widgets/base",
      "_model_module_version": "1.2.0",
      "_model_name": "LayoutModel",
      "_view_count": null,
      "_view_module": "@jupyter-widgets/base",
      "_view_module_version": "1.2.0",
      "_view_name": "LayoutView",
      "align_content": null,
      "align_items": null,
      "align_self": null,
      "border": null,
      "bottom": null,
      "display": null,
      "flex": null,
      "flex_flow": null,
      "grid_area": null,
      "grid_auto_columns": null,
      "grid_auto_flow": null,
      "grid_auto_rows": null,
      "grid_column": null,
      "grid_gap": null,
      "grid_row": null,
      "grid_template_areas": null,
      "grid_template_columns": null,
      "grid_template_rows": null,
      "height": null,
      "justify_content": null,
      "justify_items": null,
      "left": null,
      "margin": null,
      "max_height": null,
      "max_width": null,
      "min_height": null,
      "min_width": null,
      "object_fit": null,
      "object_position": null,
      "order": null,
      "overflow": null,
      "overflow_x": null,
      "overflow_y": null,
      "padding": null,
      "right": null,
      "top": null,
      "visibility": null,
      "width": null
     }
    },
    "ee93cc956bb94c768de9085aea13249f": {
     "model_module": "@jupyter-widgets/base",
     "model_module_version": "1.2.0",
     "model_name": "LayoutModel",
     "state": {
      "_model_module": "@jupyter-widgets/base",
      "_model_module_version": "1.2.0",
      "_model_name": "LayoutModel",
      "_view_count": null,
      "_view_module": "@jupyter-widgets/base",
      "_view_module_version": "1.2.0",
      "_view_name": "LayoutView",
      "align_content": null,
      "align_items": null,
      "align_self": null,
      "border": null,
      "bottom": null,
      "display": null,
      "flex": null,
      "flex_flow": null,
      "grid_area": null,
      "grid_auto_columns": null,
      "grid_auto_flow": null,
      "grid_auto_rows": null,
      "grid_column": null,
      "grid_gap": null,
      "grid_row": null,
      "grid_template_areas": null,
      "grid_template_columns": null,
      "grid_template_rows": null,
      "height": null,
      "justify_content": null,
      "justify_items": null,
      "left": null,
      "margin": null,
      "max_height": null,
      "max_width": null,
      "min_height": null,
      "min_width": null,
      "object_fit": null,
      "object_position": null,
      "order": null,
      "overflow": null,
      "overflow_x": null,
      "overflow_y": null,
      "padding": null,
      "right": null,
      "top": null,
      "visibility": null,
      "width": null
     }
    },
    "f42c2ef57c77474183f94f0abf49d4b2": {
     "model_module": "@jupyter-widgets/base",
     "model_module_version": "1.2.0",
     "model_name": "LayoutModel",
     "state": {
      "_model_module": "@jupyter-widgets/base",
      "_model_module_version": "1.2.0",
      "_model_name": "LayoutModel",
      "_view_count": null,
      "_view_module": "@jupyter-widgets/base",
      "_view_module_version": "1.2.0",
      "_view_name": "LayoutView",
      "align_content": null,
      "align_items": null,
      "align_self": null,
      "border": null,
      "bottom": null,
      "display": null,
      "flex": null,
      "flex_flow": null,
      "grid_area": null,
      "grid_auto_columns": null,
      "grid_auto_flow": null,
      "grid_auto_rows": null,
      "grid_column": null,
      "grid_gap": null,
      "grid_row": null,
      "grid_template_areas": null,
      "grid_template_columns": null,
      "grid_template_rows": null,
      "height": null,
      "justify_content": null,
      "justify_items": null,
      "left": null,
      "margin": null,
      "max_height": null,
      "max_width": null,
      "min_height": null,
      "min_width": null,
      "object_fit": null,
      "object_position": null,
      "order": null,
      "overflow": null,
      "overflow_x": null,
      "overflow_y": null,
      "padding": null,
      "right": null,
      "top": null,
      "visibility": null,
      "width": null
     }
    }
   }
  }
 },
 "nbformat": 4,
 "nbformat_minor": 1
}
