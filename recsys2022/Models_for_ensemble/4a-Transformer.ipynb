{
  "cells": [
    {
      "cell_type": "markdown",
      "metadata": {
        "id": "view-in-github",
        "colab_type": "text"
      },
      "source": [
        "<a href=\"https://colab.research.google.com/github/stavco9/rs-final-project/blob/main/recsys2022/Models_for_ensemble/4a-Transformer.ipynb\" target=\"_parent\"><img src=\"https://colab.research.google.com/assets/colab-badge.svg\" alt=\"Open In Colab\"/></a>"
      ]
    },
    {
      "cell_type": "code",
      "execution_count": 2,
      "metadata": {
        "id": "SnLdjY_dHmlP"
      },
      "outputs": [],
      "source": [
        "just_checking_integrity=False\n",
        "rows=3000\n",
        "test_rows=1000"
      ]
    },
    {
      "cell_type": "code",
      "execution_count": 3,
      "metadata": {
        "_cell_guid": "3946c204-a3f5-44a7-b643-cac70a77fe70",
        "_uuid": "f28177d0-e4d9-4bba-9b30-86b78e8bed57",
        "execution": {
          "iopub.execute_input": "2022-06-13T12:09:55.838907Z",
          "iopub.status.busy": "2022-06-13T12:09:55.838493Z",
          "iopub.status.idle": "2022-06-13T12:10:02.194923Z",
          "shell.execute_reply": "2022-06-13T12:10:02.193839Z",
          "shell.execute_reply.started": "2022-06-13T12:09:55.838873Z"
        },
        "id": "zSNsQsszHgO5",
        "jupyter": {
          "outputs_hidden": false
        },
        "trusted": true
      },
      "outputs": [],
      "source": [
        "import pandas as pd\n",
        "import tensorflow as tf\n",
        "from tensorflow.keras import layers\n",
        "from sklearn.model_selection import train_test_split\n",
        "import numpy as np\n",
        "import datetime\n",
        "from itertools import compress\n",
        "from math import sin, cos\n",
        "import ast"
      ]
    },
    {
      "cell_type": "code",
      "execution_count": 4,
      "metadata": {
        "id": "hoxk123_HmlR"
      },
      "outputs": [],
      "source": [
        "from tqdm.auto import tqdm\n",
        "tqdm.pandas()"
      ]
    },
    {
      "cell_type": "markdown",
      "metadata": {
        "_cell_guid": "23f0792f-b475-4b29-95a6-909ab82ee477",
        "_uuid": "dace2a44-cc37-4ba8-b70d-7a3a34597b80",
        "id": "36zIGmdV53fm",
        "trusted": true
      },
      "source": [
        "## Custom metric"
      ]
    },
    {
      "cell_type": "code",
      "execution_count": 4,
      "metadata": {
        "_cell_guid": "74d38947-d45d-44c8-8fba-a1d8dbc94fea",
        "_uuid": "13a36ff4-0b31-4462-90c9-c2ee3616080a",
        "execution": {
          "iopub.execute_input": "2022-06-13T12:10:03.018686Z",
          "iopub.status.busy": "2022-06-13T12:10:03.018299Z",
          "iopub.status.idle": "2022-06-13T12:10:03.028288Z",
          "shell.execute_reply": "2022-06-13T12:10:03.026822Z",
          "shell.execute_reply.started": "2022-06-13T12:10:03.018654Z"
        },
        "id": "tWGIbax5oB5u",
        "jupyter": {
          "source_hidden": true
        },
        "trusted": true
      },
      "outputs": [],
      "source": [
        "def mrr_top_at(at=100):\n",
        "    @tf.function\n",
        "    def mrr_top(y_true,y_pred):\n",
        "        top_k=tf.math.top_k(y_pred,k=at)\n",
        "        rr=top_k.indices\n",
        "        #print(rr)\n",
        "        idx=tf.range(start=1,limit=at+1,delta=1)\n",
        "        y_true=tf.reshape(y_true,[-1,1])\n",
        "        #print(y_true)\n",
        "        #y_true=tf.broadcast_to(y_true,test.shape)\n",
        "        y_true=tf.cast(y_true,tf.int32)\n",
        "        ranking=tf.where(tf.math.equal(rr,y_true),idx,0)\n",
        "        #print(ranking)\n",
        "        ranking=tf.reduce_sum(ranking,axis=-1)\n",
        "        ranking=tf.where(ranking>0,1/ranking,0)\n",
        "        #print(ranking)\n",
        "        ranking=tf.reduce_mean(ranking)\n",
        "        return ranking\n",
        "    return mrr_top"
      ]
    },
    {
      "cell_type": "markdown",
      "metadata": {
        "_cell_guid": "a0a7c467-e7ba-4ef6-ab89-838ff773662c",
        "_uuid": "eeb2b8cd-ea29-4c1b-97d6-571b76d0c1a7",
        "id": "JrUZ80Og55r7",
        "trusted": true
      },
      "source": [
        "## Custom layers"
      ]
    },
    {
      "cell_type": "code",
      "execution_count": 5,
      "metadata": {
        "_cell_guid": "7e4f474d-c680-4449-a3e6-cbda91cc90ca",
        "_uuid": "45d88bb0-83ba-4108-bb6c-816656329082",
        "execution": {
          "iopub.execute_input": "2022-06-13T12:10:03.03126Z",
          "iopub.status.busy": "2022-06-13T12:10:03.030319Z",
          "iopub.status.idle": "2022-06-13T12:10:03.045171Z",
          "shell.execute_reply": "2022-06-13T12:10:03.043945Z",
          "shell.execute_reply.started": "2022-06-13T12:10:03.0311Z"
        },
        "id": "WpNQO7sTMibJ",
        "jupyter": {
          "source_hidden": true
        },
        "trusted": true
      },
      "outputs": [],
      "source": [
        "class TransformerBlock(layers.Layer):\n",
        "    def __init__(self, embed_dim, num_heads, ff_dim, rate=0.1):\n",
        "        super(TransformerBlock, self).__init__()\n",
        "        self.att = layers.MultiHeadAttention(num_heads=num_heads, key_dim=embed_dim)\n",
        "        self.ffn = tf.keras.Sequential(\n",
        "            [layers.Dense(ff_dim, activation=\"relu\"), layers.Dense(embed_dim),]\n",
        "        )\n",
        "        self.layernorm1 = layers.LayerNormalization(epsilon=1e-6)\n",
        "        self.layernorm2 = layers.LayerNormalization(epsilon=1e-6)\n",
        "        self.dropout1 = layers.Dropout(rate)\n",
        "        self.dropout2 = layers.Dropout(rate)\n",
        "\n",
        "    def call(self, inputs, training):\n",
        "        attn_output = self.att(inputs, inputs)\n",
        "        attn_output = self.dropout1(attn_output, training=training)\n",
        "        out1 = self.layernorm1(inputs + attn_output)\n",
        "        ffn_output = self.ffn(out1)\n",
        "        ffn_output = self.dropout2(ffn_output, training=training)\n",
        "        return self.layernorm2(out1 + ffn_output)"
      ]
    },
    {
      "cell_type": "code",
      "execution_count": 6,
      "metadata": {
        "_cell_guid": "4226f190-080d-47e5-841b-2932eab7184e",
        "_uuid": "83de6ec2-3fac-4879-bd79-962efa1d7eca",
        "execution": {
          "iopub.execute_input": "2022-06-13T12:10:03.04906Z",
          "iopub.status.busy": "2022-06-13T12:10:03.048318Z",
          "iopub.status.idle": "2022-06-13T12:10:03.060261Z",
          "shell.execute_reply": "2022-06-13T12:10:03.059172Z",
          "shell.execute_reply.started": "2022-06-13T12:10:03.048991Z"
        },
        "id": "Ywvv14StmYv6",
        "jupyter": {
          "source_hidden": true
        },
        "trusted": true
      },
      "outputs": [],
      "source": [
        "class TokenAndPositionEmbedding(layers.Layer):\n",
        "    def __init__(\n",
        "        self,\n",
        "        maxlen,\n",
        "        vocab_size,\n",
        "        embed_dim,\n",
        "        item_embedding_trainable=True,\n",
        "        embedding_weights=None\n",
        "        ):\n",
        "        super(TokenAndPositionEmbedding, self).__init__()\n",
        "        self.token_emb = layers.Embedding(\n",
        "            input_dim=vocab_size,\n",
        "            output_dim=embed_dim,\n",
        "            trainable=item_embedding_trainable,\n",
        "            weights=embedding_weights\n",
        "            )\n",
        "        self.pos_emb = layers.Embedding(input_dim=maxlen, output_dim=embed_dim)\n",
        "\n",
        "    def call(self, x):\n",
        "        maxlen = tf.shape(x)[-1]\n",
        "        positions = tf.range(start=maxlen-1, limit=0, delta=-1)\n",
        "        positions = self.pos_emb(positions)\n",
        "        x = self.token_emb(x)\n",
        "        return x + positions"
      ]
    },
    {
      "cell_type": "code",
      "execution_count": 7,
      "metadata": {
        "_cell_guid": "9321d53a-0365-40c3-a738-74a37cdab1b2",
        "_uuid": "f00a1bd9-44b7-46e4-96cb-34d18c6ef094",
        "execution": {
          "iopub.execute_input": "2022-06-13T12:10:03.062308Z",
          "iopub.status.busy": "2022-06-13T12:10:03.061708Z",
          "iopub.status.idle": "2022-06-13T12:10:03.073015Z",
          "shell.execute_reply": "2022-06-13T12:10:03.071727Z",
          "shell.execute_reply.started": "2022-06-13T12:10:03.062266Z"
        },
        "id": "5II46ARomYkg",
        "jupyter": {
          "source_hidden": true
        },
        "trusted": true
      },
      "outputs": [],
      "source": [
        "class PositionEmbedding(layers.Layer):\n",
        "    def __init__(\n",
        "        self,\n",
        "        maxlen,\n",
        "        embed_dim,\n",
        "        ):\n",
        "        super(PositionEmbedding, self).__init__()\n",
        "        self.pos_emb = layers.Embedding(input_dim=maxlen, output_dim=embed_dim)\n",
        "\n",
        "    def call(self, x):\n",
        "        maxlen = tf.shape(x)[-1]\n",
        "        positions = tf.range(start=0, limit=maxlen, delta=1)\n",
        "        positions = self.pos_emb(positions)\n",
        "        return positions"
      ]
    },
    {
      "cell_type": "code",
      "execution_count": 8,
      "metadata": {
        "_cell_guid": "af08d456-1100-46f7-98bb-a138e18b98e1",
        "_uuid": "9d2613ae-c4e6-4493-a1c1-e0ad3de4e789",
        "execution": {
          "iopub.execute_input": "2022-06-13T12:10:03.07968Z",
          "iopub.status.busy": "2022-06-13T12:10:03.079237Z",
          "iopub.status.idle": "2022-06-13T12:10:03.091787Z",
          "shell.execute_reply": "2022-06-13T12:10:03.09051Z",
          "shell.execute_reply.started": "2022-06-13T12:10:03.07965Z"
        },
        "id": "KLZ2wODiHVJU",
        "jupyter": {
          "source_hidden": true
        },
        "trusted": true
      },
      "outputs": [],
      "source": [
        "class RBFLayer(layers.Layer):\n",
        "    def __init__(self, weights, gamma, **kwargs):\n",
        "        super(RBFLayer, self).__init__(**kwargs)\n",
        "        # shape=(embedding_dimension, num_units)\n",
        "        self.embedding_weights = tf.transpose(weights)\n",
        "        self.gamma = gamma\n",
        "\n",
        "    def call(self, inputs):\n",
        "        l2 = tf.math.reduce_sum(\n",
        "            tf.math.squared_difference(\n",
        "                x=tf.expand_dims(inputs, axis=-1),\n",
        "                y=self.embedding_weights\n",
        "                ),\n",
        "            axis=1\n",
        "            )\n",
        "        res = tf.math.exp(-self.gamma * l2)\n",
        "        return res / tf.reduce_sum(res, axis=1, keepdims=True)"
      ]
    },
    {
      "cell_type": "markdown",
      "metadata": {
        "_cell_guid": "0bd301f6-e2fe-4d01-9617-1459fa110e26",
        "_uuid": "b05008ee-029f-4ef1-ab68-4ffb2e1e0c52",
        "id": "nPdEPhcbArlf",
        "trusted": true
      },
      "source": [
        "# Prepare dataset"
      ]
    },
    {
      "cell_type": "code",
      "source": [
        "from google.colab import drive\n",
        "drive.mount('/content/drive')\n",
        "%cd \"/content/drive/My Drive/IDC_MSc/Year1/ReccomendationSystems/Final_Project/\""
      ],
      "metadata": {
        "colab": {
          "base_uri": "https://localhost:8080/"
        },
        "id": "WU1iiveBIIBu",
        "outputId": "618051e7-2539-44dc-ceef-be311681a0f5"
      },
      "execution_count": 5,
      "outputs": [
        {
          "output_type": "stream",
          "name": "stdout",
          "text": [
            "Drive already mounted at /content/drive; to attempt to forcibly remount, call drive.mount(\"/content/drive\", force_remount=True).\n",
            "/content/drive/My Drive/IDC_MSc/Year1/ReccomendationSystems/Final_Project\n"
          ]
        }
      ]
    },
    {
      "cell_type": "code",
      "execution_count": 10,
      "metadata": {
        "_cell_guid": "99e48e16-1a9f-4b64-abdd-d48ad59421d3",
        "_uuid": "16d23d98-ec1b-4e7d-a0e5-1e01ddaab89f",
        "execution": {
          "iopub.execute_input": "2022-06-13T12:11:29.265616Z",
          "iopub.status.busy": "2022-06-13T12:11:29.265221Z",
          "iopub.status.idle": "2022-06-13T12:11:29.281072Z",
          "shell.execute_reply": "2022-06-13T12:11:29.279785Z",
          "shell.execute_reply.started": "2022-06-13T12:11:29.265587Z"
        },
        "id": "kdwGb-syHVoO",
        "jupyter": {
          "source_hidden": true
        },
        "outputId": "e829c0d4-1a7f-47df-8ef2-8c61db37f83e",
        "trusted": true,
        "colab": {
          "base_uri": "https://localhost:8080/",
          "height": 206
        }
      },
      "outputs": [
        {
          "output_type": "execute_result",
          "data": {
            "text/plain": [
              "   item_id\n",
              "0        1\n",
              "1        2\n",
              "2        3\n",
              "3        4\n",
              "4        5"
            ],
            "text/html": [
              "\n",
              "  <div id=\"df-6094b54a-bfdb-4f81-be1a-e712d1b60526\" class=\"colab-df-container\">\n",
              "    <div>\n",
              "<style scoped>\n",
              "    .dataframe tbody tr th:only-of-type {\n",
              "        vertical-align: middle;\n",
              "    }\n",
              "\n",
              "    .dataframe tbody tr th {\n",
              "        vertical-align: top;\n",
              "    }\n",
              "\n",
              "    .dataframe thead th {\n",
              "        text-align: right;\n",
              "    }\n",
              "</style>\n",
              "<table border=\"1\" class=\"dataframe\">\n",
              "  <thead>\n",
              "    <tr style=\"text-align: right;\">\n",
              "      <th></th>\n",
              "      <th>item_id</th>\n",
              "    </tr>\n",
              "  </thead>\n",
              "  <tbody>\n",
              "    <tr>\n",
              "      <th>0</th>\n",
              "      <td>1</td>\n",
              "    </tr>\n",
              "    <tr>\n",
              "      <th>1</th>\n",
              "      <td>2</td>\n",
              "    </tr>\n",
              "    <tr>\n",
              "      <th>2</th>\n",
              "      <td>3</td>\n",
              "    </tr>\n",
              "    <tr>\n",
              "      <th>3</th>\n",
              "      <td>4</td>\n",
              "    </tr>\n",
              "    <tr>\n",
              "      <th>4</th>\n",
              "      <td>5</td>\n",
              "    </tr>\n",
              "  </tbody>\n",
              "</table>\n",
              "</div>\n",
              "    <div class=\"colab-df-buttons\">\n",
              "\n",
              "  <div class=\"colab-df-container\">\n",
              "    <button class=\"colab-df-convert\" onclick=\"convertToInteractive('df-6094b54a-bfdb-4f81-be1a-e712d1b60526')\"\n",
              "            title=\"Convert this dataframe to an interactive table.\"\n",
              "            style=\"display:none;\">\n",
              "\n",
              "  <svg xmlns=\"http://www.w3.org/2000/svg\" height=\"24px\" viewBox=\"0 -960 960 960\">\n",
              "    <path d=\"M120-120v-720h720v720H120Zm60-500h600v-160H180v160Zm220 220h160v-160H400v160Zm0 220h160v-160H400v160ZM180-400h160v-160H180v160Zm440 0h160v-160H620v160ZM180-180h160v-160H180v160Zm440 0h160v-160H620v160Z\"/>\n",
              "  </svg>\n",
              "    </button>\n",
              "\n",
              "  <style>\n",
              "    .colab-df-container {\n",
              "      display:flex;\n",
              "      gap: 12px;\n",
              "    }\n",
              "\n",
              "    .colab-df-convert {\n",
              "      background-color: #E8F0FE;\n",
              "      border: none;\n",
              "      border-radius: 50%;\n",
              "      cursor: pointer;\n",
              "      display: none;\n",
              "      fill: #1967D2;\n",
              "      height: 32px;\n",
              "      padding: 0 0 0 0;\n",
              "      width: 32px;\n",
              "    }\n",
              "\n",
              "    .colab-df-convert:hover {\n",
              "      background-color: #E2EBFA;\n",
              "      box-shadow: 0px 1px 2px rgba(60, 64, 67, 0.3), 0px 1px 3px 1px rgba(60, 64, 67, 0.15);\n",
              "      fill: #174EA6;\n",
              "    }\n",
              "\n",
              "    .colab-df-buttons div {\n",
              "      margin-bottom: 4px;\n",
              "    }\n",
              "\n",
              "    [theme=dark] .colab-df-convert {\n",
              "      background-color: #3B4455;\n",
              "      fill: #D2E3FC;\n",
              "    }\n",
              "\n",
              "    [theme=dark] .colab-df-convert:hover {\n",
              "      background-color: #434B5C;\n",
              "      box-shadow: 0px 1px 3px 1px rgba(0, 0, 0, 0.15);\n",
              "      filter: drop-shadow(0px 1px 2px rgba(0, 0, 0, 0.3));\n",
              "      fill: #FFFFFF;\n",
              "    }\n",
              "  </style>\n",
              "\n",
              "    <script>\n",
              "      const buttonEl =\n",
              "        document.querySelector('#df-6094b54a-bfdb-4f81-be1a-e712d1b60526 button.colab-df-convert');\n",
              "      buttonEl.style.display =\n",
              "        google.colab.kernel.accessAllowed ? 'block' : 'none';\n",
              "\n",
              "      async function convertToInteractive(key) {\n",
              "        const element = document.querySelector('#df-6094b54a-bfdb-4f81-be1a-e712d1b60526');\n",
              "        const dataTable =\n",
              "          await google.colab.kernel.invokeFunction('convertToInteractive',\n",
              "                                                    [key], {});\n",
              "        if (!dataTable) return;\n",
              "\n",
              "        const docLinkHtml = 'Like what you see? Visit the ' +\n",
              "          '<a target=\"_blank\" href=https://colab.research.google.com/notebooks/data_table.ipynb>data table notebook</a>'\n",
              "          + ' to learn more about interactive tables.';\n",
              "        element.innerHTML = '';\n",
              "        dataTable['output_type'] = 'display_data';\n",
              "        await google.colab.output.renderOutput(dataTable, element);\n",
              "        const docLink = document.createElement('div');\n",
              "        docLink.innerHTML = docLinkHtml;\n",
              "        element.appendChild(docLink);\n",
              "      }\n",
              "    </script>\n",
              "  </div>\n",
              "\n",
              "\n",
              "<div id=\"df-548542a2-2903-4807-8cd3-855f326ac0d2\">\n",
              "  <button class=\"colab-df-quickchart\" onclick=\"quickchart('df-548542a2-2903-4807-8cd3-855f326ac0d2')\"\n",
              "            title=\"Suggest charts\"\n",
              "            style=\"display:none;\">\n",
              "\n",
              "<svg xmlns=\"http://www.w3.org/2000/svg\" height=\"24px\"viewBox=\"0 0 24 24\"\n",
              "     width=\"24px\">\n",
              "    <g>\n",
              "        <path d=\"M19 3H5c-1.1 0-2 .9-2 2v14c0 1.1.9 2 2 2h14c1.1 0 2-.9 2-2V5c0-1.1-.9-2-2-2zM9 17H7v-7h2v7zm4 0h-2V7h2v10zm4 0h-2v-4h2v4z\"/>\n",
              "    </g>\n",
              "</svg>\n",
              "  </button>\n",
              "\n",
              "<style>\n",
              "  .colab-df-quickchart {\n",
              "      --bg-color: #E8F0FE;\n",
              "      --fill-color: #1967D2;\n",
              "      --hover-bg-color: #E2EBFA;\n",
              "      --hover-fill-color: #174EA6;\n",
              "      --disabled-fill-color: #AAA;\n",
              "      --disabled-bg-color: #DDD;\n",
              "  }\n",
              "\n",
              "  [theme=dark] .colab-df-quickchart {\n",
              "      --bg-color: #3B4455;\n",
              "      --fill-color: #D2E3FC;\n",
              "      --hover-bg-color: #434B5C;\n",
              "      --hover-fill-color: #FFFFFF;\n",
              "      --disabled-bg-color: #3B4455;\n",
              "      --disabled-fill-color: #666;\n",
              "  }\n",
              "\n",
              "  .colab-df-quickchart {\n",
              "    background-color: var(--bg-color);\n",
              "    border: none;\n",
              "    border-radius: 50%;\n",
              "    cursor: pointer;\n",
              "    display: none;\n",
              "    fill: var(--fill-color);\n",
              "    height: 32px;\n",
              "    padding: 0;\n",
              "    width: 32px;\n",
              "  }\n",
              "\n",
              "  .colab-df-quickchart:hover {\n",
              "    background-color: var(--hover-bg-color);\n",
              "    box-shadow: 0 1px 2px rgba(60, 64, 67, 0.3), 0 1px 3px 1px rgba(60, 64, 67, 0.15);\n",
              "    fill: var(--button-hover-fill-color);\n",
              "  }\n",
              "\n",
              "  .colab-df-quickchart-complete:disabled,\n",
              "  .colab-df-quickchart-complete:disabled:hover {\n",
              "    background-color: var(--disabled-bg-color);\n",
              "    fill: var(--disabled-fill-color);\n",
              "    box-shadow: none;\n",
              "  }\n",
              "\n",
              "  .colab-df-spinner {\n",
              "    border: 2px solid var(--fill-color);\n",
              "    border-color: transparent;\n",
              "    border-bottom-color: var(--fill-color);\n",
              "    animation:\n",
              "      spin 1s steps(1) infinite;\n",
              "  }\n",
              "\n",
              "  @keyframes spin {\n",
              "    0% {\n",
              "      border-color: transparent;\n",
              "      border-bottom-color: var(--fill-color);\n",
              "      border-left-color: var(--fill-color);\n",
              "    }\n",
              "    20% {\n",
              "      border-color: transparent;\n",
              "      border-left-color: var(--fill-color);\n",
              "      border-top-color: var(--fill-color);\n",
              "    }\n",
              "    30% {\n",
              "      border-color: transparent;\n",
              "      border-left-color: var(--fill-color);\n",
              "      border-top-color: var(--fill-color);\n",
              "      border-right-color: var(--fill-color);\n",
              "    }\n",
              "    40% {\n",
              "      border-color: transparent;\n",
              "      border-right-color: var(--fill-color);\n",
              "      border-top-color: var(--fill-color);\n",
              "    }\n",
              "    60% {\n",
              "      border-color: transparent;\n",
              "      border-right-color: var(--fill-color);\n",
              "    }\n",
              "    80% {\n",
              "      border-color: transparent;\n",
              "      border-right-color: var(--fill-color);\n",
              "      border-bottom-color: var(--fill-color);\n",
              "    }\n",
              "    90% {\n",
              "      border-color: transparent;\n",
              "      border-bottom-color: var(--fill-color);\n",
              "    }\n",
              "  }\n",
              "</style>\n",
              "\n",
              "  <script>\n",
              "    async function quickchart(key) {\n",
              "      const quickchartButtonEl =\n",
              "        document.querySelector('#' + key + ' button');\n",
              "      quickchartButtonEl.disabled = true;  // To prevent multiple clicks.\n",
              "      quickchartButtonEl.classList.add('colab-df-spinner');\n",
              "      try {\n",
              "        const charts = await google.colab.kernel.invokeFunction(\n",
              "            'suggestCharts', [key], {});\n",
              "      } catch (error) {\n",
              "        console.error('Error during call to suggestCharts:', error);\n",
              "      }\n",
              "      quickchartButtonEl.classList.remove('colab-df-spinner');\n",
              "      quickchartButtonEl.classList.add('colab-df-quickchart-complete');\n",
              "    }\n",
              "    (() => {\n",
              "      let quickchartButtonEl =\n",
              "        document.querySelector('#df-548542a2-2903-4807-8cd3-855f326ac0d2 button');\n",
              "      quickchartButtonEl.style.display =\n",
              "        google.colab.kernel.accessAllowed ? 'block' : 'none';\n",
              "    })();\n",
              "  </script>\n",
              "</div>\n",
              "\n",
              "    </div>\n",
              "  </div>\n"
            ],
            "application/vnd.google.colaboratory.intrinsic+json": {
              "type": "dataframe",
              "variable_name": "candidate_items",
              "summary": "{\n  \"name\": \"candidate_items\",\n  \"rows\": 4990,\n  \"fields\": [\n    {\n      \"column\": \"item_id\",\n      \"properties\": {\n        \"dtype\": \"number\",\n        \"std\": 1440,\n        \"min\": 1,\n        \"max\": 4990,\n        \"samples\": [\n          4728,\n          2317,\n          3670\n        ],\n        \"num_unique_values\": 4990,\n        \"semantic_type\": \"\",\n        \"description\": \"\"\n      }\n    }\n  ]\n}"
            }
          },
          "metadata": {},
          "execution_count": 10
        }
      ],
      "source": [
        "candidate_items = pd.read_csv('./dataset/processed_data/candidate_items_mapped.csv')\n",
        "candidate_items.head()"
      ]
    },
    {
      "cell_type": "code",
      "execution_count": 11,
      "metadata": {
        "_cell_guid": "6b83d25e-6434-4eea-b894-c5dac1bb3cd4",
        "_uuid": "dfdb67c0-bf5b-42f2-a325-69802004f77a",
        "execution": {
          "iopub.execute_input": "2022-06-13T12:11:29.289783Z",
          "iopub.status.busy": "2022-06-13T12:11:29.289456Z",
          "iopub.status.idle": "2022-06-13T12:11:29.302917Z",
          "shell.execute_reply": "2022-06-13T12:11:29.301768Z",
          "shell.execute_reply.started": "2022-06-13T12:11:29.289744Z"
        },
        "id": "w5LUoNPaouyG",
        "jupyter": {
          "source_hidden": true
        },
        "outputId": "9899864a-cab7-4905-8977-0baf4a18d71d",
        "trusted": true,
        "colab": {
          "base_uri": "https://localhost:8080/"
        }
      },
      "outputs": [
        {
          "output_type": "execute_result",
          "data": {
            "text/plain": [
              "(23692, 64)"
            ]
          },
          "metadata": {},
          "execution_count": 11
        }
      ],
      "source": [
        "embedding_weights = np.load(\n",
        "    './dataset/processed_data/compressed_features.npy'\n",
        "    )\n",
        "import os\n",
        "import scipy.sparse as sps\n",
        "def get_ICM(files_directory=\"./dataset/processed_data\"):\n",
        "    df_icm = pd.read_csv(filepath_or_buffer=os.path.join(files_directory, 'simplified_features_and_categories_30.csv'), sep=',', header=0)\n",
        "\n",
        "    item_id_list = df_icm['item_id'].values\n",
        "    feat_id_list = df_icm['feature_idx'].values\n",
        "    rating_id_list = np.ones_like(feat_id_list)\n",
        "    ICM_matrix = sps.csr_matrix((rating_id_list, (item_id_list, feat_id_list)))\n",
        "    return ICM_matrix\n",
        "\n",
        "ICM=get_ICM()\n",
        "embedding_weights.shape"
      ]
    },
    {
      "cell_type": "code",
      "execution_count": 12,
      "metadata": {
        "_cell_guid": "3c5c850e-08c2-450c-8f13-2164141918d8",
        "_uuid": "cf07b546-3468-4c45-bac7-1d1a54021b74",
        "execution": {
          "iopub.execute_input": "2022-06-13T12:11:29.308349Z",
          "iopub.status.busy": "2022-06-13T12:11:29.307281Z",
          "iopub.status.idle": "2022-06-13T12:12:25.094372Z",
          "shell.execute_reply": "2022-06-13T12:12:25.093288Z",
          "shell.execute_reply.started": "2022-06-13T12:11:29.308319Z"
        },
        "id": "pdJPGOaaXfhg",
        "jupyter": {
          "outputs_hidden": false
        },
        "trusted": true
      },
      "outputs": [],
      "source": [
        "result =  pd.read_csv(\"./dataset/processed_data/macro_feats_NN.csv\",parse_dates=[\"date_session_starting\"],\n",
        "     infer_datetime_format=True)\n",
        "\n",
        "\n",
        "\n",
        "result[\"item_id\"]=result[\"item_id\"].map(ast.literal_eval)\n",
        "result[\"timedelta\"]=result[\"timedelta\"].map(ast.literal_eval)\n",
        "\n",
        "def is_reseen(x):\n",
        "    #print(x)\n",
        "    seen={}\n",
        "    res=[]\n",
        "    for item in x:\n",
        "        if item in seen:\n",
        "            res.append(seen[item])\n",
        "            seen[item]+=1\n",
        "        else:\n",
        "            res.append(0)\n",
        "            seen[item]=1\n",
        "    return res\n",
        "\n",
        "def percentage_seen(x):\n",
        "    size=len(x)\n",
        "    return [(i+1)/size for i in range(size)]"
      ]
    },
    {
      "cell_type": "code",
      "execution_count": 13,
      "metadata": {
        "_cell_guid": "955562dc-1c1b-406b-af22-00d795f4fa86",
        "_uuid": "5cbc5f14-2a07-4920-9333-b46c0d11f5ff",
        "execution": {
          "iopub.execute_input": "2022-06-13T12:12:25.097472Z",
          "iopub.status.busy": "2022-06-13T12:12:25.097022Z",
          "iopub.status.idle": "2022-06-13T12:12:43.241281Z",
          "shell.execute_reply": "2022-06-13T12:12:43.240181Z",
          "shell.execute_reply.started": "2022-06-13T12:12:25.097428Z"
        },
        "id": "cLY9U8gg3fq7",
        "jupyter": {
          "outputs_hidden": false
        },
        "outputId": "a3093c5d-22ba-4385-ccfd-68d4857b5e1d",
        "trusted": true,
        "colab": {
          "base_uri": "https://localhost:8080/",
          "height": 81,
          "referenced_widgets": [
            "7dbf55ccdbcc4141a96c90988a984852",
            "989cabae9e5f42f9a3f82a9fcd2eab55",
            "dc01cfaeb40b4b47bc8fed4c8924f06c",
            "005b234ac4bf40b28def3c4876169af1",
            "e3aed164ce0d449c9a48ef42dfabce8c",
            "ac0d7128e3f14008a782b7dd62f923d4",
            "addf9a87f95049d7a98655f1c70f19f4",
            "4c41a332040f428bbe364f037d08a505",
            "c1c3712d4e6249548ded109b23f5c000",
            "d16c8b8cdc7345c7b8b76bbe1fd90a3d",
            "a82eb927108a4b779538844dd08a4607",
            "06e51be752e8407899366ebb4cee64a4",
            "9a166b2ce7a041d3b4eaca400756dde9",
            "8fa0c2fd62ff46cab9ac0942d231f546",
            "cf8526d61ef44b72be764111fc860d1c",
            "1ffd0e2482ca4c90a92485af9565adb5",
            "1658d29809df432aabecb48970bd7c36",
            "77a6057e829c47ba881b45470f901c22",
            "6fb4224debd945f7b8581dbcc5d5f2cf",
            "23bd9f6c4a7a45c287945f96cbe5b3c9",
            "f6227bcaf5044d779018dec617be43bb",
            "0eba65afc471411db90d4fd60a431a33"
          ]
        }
      },
      "outputs": [
        {
          "output_type": "display_data",
          "data": {
            "text/plain": [
              "  0%|          | 0/1000000 [00:00<?, ?it/s]"
            ],
            "application/vnd.jupyter.widget-view+json": {
              "version_major": 2,
              "version_minor": 0,
              "model_id": "7dbf55ccdbcc4141a96c90988a984852"
            }
          },
          "metadata": {}
        },
        {
          "output_type": "display_data",
          "data": {
            "text/plain": [
              "  0%|          | 0/1000000 [00:00<?, ?it/s]"
            ],
            "application/vnd.jupyter.widget-view+json": {
              "version_major": 2,
              "version_minor": 0,
              "model_id": "06e51be752e8407899366ebb4cee64a4"
            }
          },
          "metadata": {}
        }
      ],
      "source": [
        "x_reseen = tf.keras.preprocessing.sequence.pad_sequences(\n",
        "    result['item_id'].progress_apply(is_reseen),\n",
        "    padding='post',\n",
        "    maxlen=100,\n",
        "    dtype=\"int16\"\n",
        ")\n",
        "x_percentage_seen = tf.keras.preprocessing.sequence.pad_sequences(\n",
        "    result['item_id'].progress_apply(percentage_seen),\n",
        "    padding='post',\n",
        "    maxlen=100,\n",
        "    dtype='float16',\n",
        ")"
      ]
    },
    {
      "cell_type": "code",
      "execution_count": 14,
      "metadata": {
        "_cell_guid": "1b42dbc5-cac7-4285-87c4-5a9bfb61173e",
        "_uuid": "d92272ad-38f5-4768-85a3-95b25f870cee",
        "execution": {
          "iopub.execute_input": "2022-06-13T12:12:43.245271Z",
          "iopub.status.busy": "2022-06-13T12:12:43.24275Z",
          "iopub.status.idle": "2022-06-13T12:12:43.256158Z",
          "shell.execute_reply": "2022-06-13T12:12:43.255175Z",
          "shell.execute_reply.started": "2022-06-13T12:12:43.245241Z"
        },
        "id": "SIspm4Y-3unJ",
        "jupyter": {
          "outputs_hidden": false
        },
        "trusted": true
      },
      "outputs": [],
      "source": [
        "def similarity_with_preceding(x):\n",
        "    if len(x)==1:\n",
        "        return np.array([0])\n",
        "    feats=embedding_weights[x]\n",
        "    #normalize\n",
        "    feats=np.divide(feats,np.linalg.norm(feats,axis=1).reshape((-1,1)))\n",
        "    feats_copy=feats.copy()\n",
        "    feats_copy=np.roll(feats_copy,1,axis=0)\n",
        "    feats_copy[0,:]=0\n",
        "    prod=np.multiply(feats,feats_copy).sum(axis=1)\n",
        "    return prod\n",
        "\n",
        "\n",
        "\n",
        "def similarity_feats_with_preceding(x):\n",
        "    if len(x)==1:\n",
        "        return np.array([0])\n",
        "    feats=ICM[x].toarray()\n",
        "    #normalize\n",
        "    feats=np.divide(feats,np.linalg.norm(feats,axis=1).reshape((-1,1)))\n",
        "    feats_copy=feats.copy()\n",
        "    feats_copy=np.roll(feats_copy,1,axis=0)\n",
        "    feats_copy[0,:]=0\n",
        "    prod=np.multiply(feats,feats_copy).sum(axis=1)\n",
        "    return prod"
      ]
    },
    {
      "cell_type": "code",
      "execution_count": 15,
      "metadata": {
        "_cell_guid": "64d580f1-7c29-4575-8fcc-86818579329f",
        "_uuid": "9e2965e6-9391-47a6-a1bf-c57ec2ed2f7a",
        "execution": {
          "iopub.execute_input": "2022-06-13T12:12:43.258887Z",
          "iopub.status.busy": "2022-06-13T12:12:43.258064Z"
        },
        "id": "pmwUjvrDnfAP",
        "jupyter": {
          "outputs_hidden": false
        },
        "outputId": "2efa528a-a95e-4df0-afa5-531632404e54",
        "trusted": true,
        "colab": {
          "base_uri": "https://localhost:8080/",
          "height": 81,
          "referenced_widgets": [
            "983e9c0eb20645a48ba25ff8144c07cc",
            "02489088f4634c2090dcad17e5d8e9a1",
            "573c2a108b5b410c8b0a67795ed18d1b",
            "1af4c49ba6714fd68a2c7a62c893c7ad",
            "b89433423a7b4e6cb20ccdec11c20ce2",
            "af6126b5c75a40c6b70f7827c76deb87",
            "ae33426bf4574a89acc53dc4e8a5040c",
            "03816232dd294cdebd422553d327573f",
            "d927abfd4fd442388a14d1fc8fabf5da",
            "4125c75f76c9408faccd983fbf9f0755",
            "f548c24b6ca9473b9d1dbcc492123d61",
            "aacf17517893423192be1c29bfb2a90a",
            "c8a9b09d10c9447f9808394783291c25",
            "2a7940cc9e9c44dbae2bb73e4dcfeb1e",
            "c8028948794041e5b627883901670026",
            "8675e2d5192d44c691045b1f33f236e1",
            "69956963696b4fe2bba01454a1ed8255",
            "27cadd09994142349e63a065fc55aba2",
            "7d3750b94e724a8c870f183d0f5153b3",
            "93c8a8d776e949cb9bd607f77aefa047",
            "0c70f31df63147f5979487a0d54b9319",
            "c3d6d3ad0c144b2c9d017d2849d9c897"
          ]
        }
      },
      "outputs": [
        {
          "output_type": "display_data",
          "data": {
            "text/plain": [
              "  0%|          | 0/1000000 [00:00<?, ?it/s]"
            ],
            "application/vnd.jupyter.widget-view+json": {
              "version_major": 2,
              "version_minor": 0,
              "model_id": "983e9c0eb20645a48ba25ff8144c07cc"
            }
          },
          "metadata": {}
        },
        {
          "output_type": "display_data",
          "data": {
            "text/plain": [
              "  0%|          | 0/1000000 [00:00<?, ?it/s]"
            ],
            "application/vnd.jupyter.widget-view+json": {
              "version_major": 2,
              "version_minor": 0,
              "model_id": "aacf17517893423192be1c29bfb2a90a"
            }
          },
          "metadata": {}
        }
      ],
      "source": [
        "x_simils = tf.keras.preprocessing.sequence.pad_sequences(\n",
        "    result['item_id'].progress_apply(similarity_with_preceding\n",
        "    ),\n",
        "    padding='post',\n",
        "    maxlen=100,\n",
        "    dtype='float16',\n",
        ")\n",
        "x_simils_feats = tf.keras.preprocessing.sequence.pad_sequences(\n",
        "    result['item_id'].progress_apply(similarity_feats_with_preceding\n",
        "    ),\n",
        "    padding='post',\n",
        "    maxlen=100,\n",
        "    dtype='float16',\n",
        ")"
      ]
    },
    {
      "cell_type": "code",
      "execution_count": 16,
      "metadata": {
        "_cell_guid": "8026aee1-a675-455c-ab32-3a3dfdef1104",
        "_uuid": "44c352d0-a8b0-4ffd-8ecf-706efb432cdd",
        "id": "3M8e0b_Sx2i-",
        "jupyter": {
          "outputs_hidden": false
        },
        "trusted": true
      },
      "outputs": [],
      "source": [
        "static_features_names = [\n",
        "                   'date_hour_sin',\n",
        "                   'date_hour_cos',\n",
        "                   'date_day_sin',\n",
        "                   'date_day_cos',\n",
        "                   'date_month_sin',\n",
        "                   'date_month_cos',\n",
        "                   'date_hour_sin_ending',\n",
        "                   'date_hour_cos_ending',\n",
        "                   'date_day_sin_ending',\n",
        "                   'date_day_cos_ending',\n",
        "                   'date_month_sin_ending',\n",
        "                   'date_month_cos_ending',\n",
        "                   'date_year_2020',\n",
        "                   'length_of_session_seconds',\n",
        "                   'avg_time_spent_per_item_seconds',\n",
        "                   'variance_time_spent_per_item_seconds',\n",
        "                   'n_seen_items',\n",
        "                   'n_unique_items',\n",
        "                   'user_went_afk',\n",
        "                   'is_weekend',\n",
        "                   'is_hot_hour',\n",
        "                   'is_night',\n",
        "                   'is_christmas_time',\n",
        "                   'is_black_friday',\n",
        "                   'session_similarity',\n",
        "                   'session_similarity_uniques',\n",
        "                   'session_similarity_feats',\n",
        "                   'session_similarity_feats_uniques'\n",
        "]\n",
        "for col in ['length_of_session_seconds','avg_time_spent_per_item_seconds','variance_time_spent_per_item_seconds']:\n",
        "    result[col]=np.log10(result[col]+1)\n",
        "for col in ['n_seen_items','n_unique_items']:\n",
        "    result[col]=result[col]/100\n",
        "\n",
        "item_related_features = [\n",
        "                         'timedelta'\n",
        "]"
      ]
    },
    {
      "cell_type": "code",
      "execution_count": 17,
      "metadata": {
        "_cell_guid": "875c2771-46cf-4102-8620-3152b89484fe",
        "_uuid": "54fa77ac-d445-4913-9cba-06aff027ecad",
        "execution": {
          "iopub.execute_input": "2022-06-13T12:19:37.55431Z",
          "iopub.status.busy": "2022-06-13T12:19:37.553839Z",
          "iopub.status.idle": "2022-06-13T12:19:37.894809Z",
          "shell.execute_reply": "2022-06-13T12:19:37.893544Z",
          "shell.execute_reply.started": "2022-06-13T12:19:37.554277Z"
        },
        "id": "hT_NE9H5KAeS",
        "jupyter": {
          "outputs_hidden": false
        },
        "outputId": "84afbf0c-792e-4ba7-e82b-7f168bb03e6c",
        "trusted": true,
        "colab": {
          "base_uri": "https://localhost:8080/",
          "height": 206
        }
      },
      "outputs": [
        {
          "output_type": "execute_result",
          "data": {
            "text/plain": [
              "   session_id  item_id\n",
              "0      663204    12492\n",
              "1       85375     3299\n",
              "2      374472    17411\n",
              "3      526578    11229\n",
              "4       66630    11568"
            ],
            "text/html": [
              "\n",
              "  <div id=\"df-c1e2d39d-1a5f-41d3-bfd1-19c5a16a9af1\" class=\"colab-df-container\">\n",
              "    <div>\n",
              "<style scoped>\n",
              "    .dataframe tbody tr th:only-of-type {\n",
              "        vertical-align: middle;\n",
              "    }\n",
              "\n",
              "    .dataframe tbody tr th {\n",
              "        vertical-align: top;\n",
              "    }\n",
              "\n",
              "    .dataframe thead th {\n",
              "        text-align: right;\n",
              "    }\n",
              "</style>\n",
              "<table border=\"1\" class=\"dataframe\">\n",
              "  <thead>\n",
              "    <tr style=\"text-align: right;\">\n",
              "      <th></th>\n",
              "      <th>session_id</th>\n",
              "      <th>item_id</th>\n",
              "    </tr>\n",
              "  </thead>\n",
              "  <tbody>\n",
              "    <tr>\n",
              "      <th>0</th>\n",
              "      <td>663204</td>\n",
              "      <td>12492</td>\n",
              "    </tr>\n",
              "    <tr>\n",
              "      <th>1</th>\n",
              "      <td>85375</td>\n",
              "      <td>3299</td>\n",
              "    </tr>\n",
              "    <tr>\n",
              "      <th>2</th>\n",
              "      <td>374472</td>\n",
              "      <td>17411</td>\n",
              "    </tr>\n",
              "    <tr>\n",
              "      <th>3</th>\n",
              "      <td>526578</td>\n",
              "      <td>11229</td>\n",
              "    </tr>\n",
              "    <tr>\n",
              "      <th>4</th>\n",
              "      <td>66630</td>\n",
              "      <td>11568</td>\n",
              "    </tr>\n",
              "  </tbody>\n",
              "</table>\n",
              "</div>\n",
              "    <div class=\"colab-df-buttons\">\n",
              "\n",
              "  <div class=\"colab-df-container\">\n",
              "    <button class=\"colab-df-convert\" onclick=\"convertToInteractive('df-c1e2d39d-1a5f-41d3-bfd1-19c5a16a9af1')\"\n",
              "            title=\"Convert this dataframe to an interactive table.\"\n",
              "            style=\"display:none;\">\n",
              "\n",
              "  <svg xmlns=\"http://www.w3.org/2000/svg\" height=\"24px\" viewBox=\"0 -960 960 960\">\n",
              "    <path d=\"M120-120v-720h720v720H120Zm60-500h600v-160H180v160Zm220 220h160v-160H400v160Zm0 220h160v-160H400v160ZM180-400h160v-160H180v160Zm440 0h160v-160H620v160ZM180-180h160v-160H180v160Zm440 0h160v-160H620v160Z\"/>\n",
              "  </svg>\n",
              "    </button>\n",
              "\n",
              "  <style>\n",
              "    .colab-df-container {\n",
              "      display:flex;\n",
              "      gap: 12px;\n",
              "    }\n",
              "\n",
              "    .colab-df-convert {\n",
              "      background-color: #E8F0FE;\n",
              "      border: none;\n",
              "      border-radius: 50%;\n",
              "      cursor: pointer;\n",
              "      display: none;\n",
              "      fill: #1967D2;\n",
              "      height: 32px;\n",
              "      padding: 0 0 0 0;\n",
              "      width: 32px;\n",
              "    }\n",
              "\n",
              "    .colab-df-convert:hover {\n",
              "      background-color: #E2EBFA;\n",
              "      box-shadow: 0px 1px 2px rgba(60, 64, 67, 0.3), 0px 1px 3px 1px rgba(60, 64, 67, 0.15);\n",
              "      fill: #174EA6;\n",
              "    }\n",
              "\n",
              "    .colab-df-buttons div {\n",
              "      margin-bottom: 4px;\n",
              "    }\n",
              "\n",
              "    [theme=dark] .colab-df-convert {\n",
              "      background-color: #3B4455;\n",
              "      fill: #D2E3FC;\n",
              "    }\n",
              "\n",
              "    [theme=dark] .colab-df-convert:hover {\n",
              "      background-color: #434B5C;\n",
              "      box-shadow: 0px 1px 3px 1px rgba(0, 0, 0, 0.15);\n",
              "      filter: drop-shadow(0px 1px 2px rgba(0, 0, 0, 0.3));\n",
              "      fill: #FFFFFF;\n",
              "    }\n",
              "  </style>\n",
              "\n",
              "    <script>\n",
              "      const buttonEl =\n",
              "        document.querySelector('#df-c1e2d39d-1a5f-41d3-bfd1-19c5a16a9af1 button.colab-df-convert');\n",
              "      buttonEl.style.display =\n",
              "        google.colab.kernel.accessAllowed ? 'block' : 'none';\n",
              "\n",
              "      async function convertToInteractive(key) {\n",
              "        const element = document.querySelector('#df-c1e2d39d-1a5f-41d3-bfd1-19c5a16a9af1');\n",
              "        const dataTable =\n",
              "          await google.colab.kernel.invokeFunction('convertToInteractive',\n",
              "                                                    [key], {});\n",
              "        if (!dataTable) return;\n",
              "\n",
              "        const docLinkHtml = 'Like what you see? Visit the ' +\n",
              "          '<a target=\"_blank\" href=https://colab.research.google.com/notebooks/data_table.ipynb>data table notebook</a>'\n",
              "          + ' to learn more about interactive tables.';\n",
              "        element.innerHTML = '';\n",
              "        dataTable['output_type'] = 'display_data';\n",
              "        await google.colab.output.renderOutput(dataTable, element);\n",
              "        const docLink = document.createElement('div');\n",
              "        docLink.innerHTML = docLinkHtml;\n",
              "        element.appendChild(docLink);\n",
              "      }\n",
              "    </script>\n",
              "  </div>\n",
              "\n",
              "\n",
              "<div id=\"df-dff5c42f-d8ca-4a48-b6b4-42388c3185d3\">\n",
              "  <button class=\"colab-df-quickchart\" onclick=\"quickchart('df-dff5c42f-d8ca-4a48-b6b4-42388c3185d3')\"\n",
              "            title=\"Suggest charts\"\n",
              "            style=\"display:none;\">\n",
              "\n",
              "<svg xmlns=\"http://www.w3.org/2000/svg\" height=\"24px\"viewBox=\"0 0 24 24\"\n",
              "     width=\"24px\">\n",
              "    <g>\n",
              "        <path d=\"M19 3H5c-1.1 0-2 .9-2 2v14c0 1.1.9 2 2 2h14c1.1 0 2-.9 2-2V5c0-1.1-.9-2-2-2zM9 17H7v-7h2v7zm4 0h-2V7h2v10zm4 0h-2v-4h2v4z\"/>\n",
              "    </g>\n",
              "</svg>\n",
              "  </button>\n",
              "\n",
              "<style>\n",
              "  .colab-df-quickchart {\n",
              "      --bg-color: #E8F0FE;\n",
              "      --fill-color: #1967D2;\n",
              "      --hover-bg-color: #E2EBFA;\n",
              "      --hover-fill-color: #174EA6;\n",
              "      --disabled-fill-color: #AAA;\n",
              "      --disabled-bg-color: #DDD;\n",
              "  }\n",
              "\n",
              "  [theme=dark] .colab-df-quickchart {\n",
              "      --bg-color: #3B4455;\n",
              "      --fill-color: #D2E3FC;\n",
              "      --hover-bg-color: #434B5C;\n",
              "      --hover-fill-color: #FFFFFF;\n",
              "      --disabled-bg-color: #3B4455;\n",
              "      --disabled-fill-color: #666;\n",
              "  }\n",
              "\n",
              "  .colab-df-quickchart {\n",
              "    background-color: var(--bg-color);\n",
              "    border: none;\n",
              "    border-radius: 50%;\n",
              "    cursor: pointer;\n",
              "    display: none;\n",
              "    fill: var(--fill-color);\n",
              "    height: 32px;\n",
              "    padding: 0;\n",
              "    width: 32px;\n",
              "  }\n",
              "\n",
              "  .colab-df-quickchart:hover {\n",
              "    background-color: var(--hover-bg-color);\n",
              "    box-shadow: 0 1px 2px rgba(60, 64, 67, 0.3), 0 1px 3px 1px rgba(60, 64, 67, 0.15);\n",
              "    fill: var(--button-hover-fill-color);\n",
              "  }\n",
              "\n",
              "  .colab-df-quickchart-complete:disabled,\n",
              "  .colab-df-quickchart-complete:disabled:hover {\n",
              "    background-color: var(--disabled-bg-color);\n",
              "    fill: var(--disabled-fill-color);\n",
              "    box-shadow: none;\n",
              "  }\n",
              "\n",
              "  .colab-df-spinner {\n",
              "    border: 2px solid var(--fill-color);\n",
              "    border-color: transparent;\n",
              "    border-bottom-color: var(--fill-color);\n",
              "    animation:\n",
              "      spin 1s steps(1) infinite;\n",
              "  }\n",
              "\n",
              "  @keyframes spin {\n",
              "    0% {\n",
              "      border-color: transparent;\n",
              "      border-bottom-color: var(--fill-color);\n",
              "      border-left-color: var(--fill-color);\n",
              "    }\n",
              "    20% {\n",
              "      border-color: transparent;\n",
              "      border-left-color: var(--fill-color);\n",
              "      border-top-color: var(--fill-color);\n",
              "    }\n",
              "    30% {\n",
              "      border-color: transparent;\n",
              "      border-left-color: var(--fill-color);\n",
              "      border-top-color: var(--fill-color);\n",
              "      border-right-color: var(--fill-color);\n",
              "    }\n",
              "    40% {\n",
              "      border-color: transparent;\n",
              "      border-right-color: var(--fill-color);\n",
              "      border-top-color: var(--fill-color);\n",
              "    }\n",
              "    60% {\n",
              "      border-color: transparent;\n",
              "      border-right-color: var(--fill-color);\n",
              "    }\n",
              "    80% {\n",
              "      border-color: transparent;\n",
              "      border-right-color: var(--fill-color);\n",
              "      border-bottom-color: var(--fill-color);\n",
              "    }\n",
              "    90% {\n",
              "      border-color: transparent;\n",
              "      border-bottom-color: var(--fill-color);\n",
              "    }\n",
              "  }\n",
              "</style>\n",
              "\n",
              "  <script>\n",
              "    async function quickchart(key) {\n",
              "      const quickchartButtonEl =\n",
              "        document.querySelector('#' + key + ' button');\n",
              "      quickchartButtonEl.disabled = true;  // To prevent multiple clicks.\n",
              "      quickchartButtonEl.classList.add('colab-df-spinner');\n",
              "      try {\n",
              "        const charts = await google.colab.kernel.invokeFunction(\n",
              "            'suggestCharts', [key], {});\n",
              "      } catch (error) {\n",
              "        console.error('Error during call to suggestCharts:', error);\n",
              "      }\n",
              "      quickchartButtonEl.classList.remove('colab-df-spinner');\n",
              "      quickchartButtonEl.classList.add('colab-df-quickchart-complete');\n",
              "    }\n",
              "    (() => {\n",
              "      let quickchartButtonEl =\n",
              "        document.querySelector('#df-dff5c42f-d8ca-4a48-b6b4-42388c3185d3 button');\n",
              "      quickchartButtonEl.style.display =\n",
              "        google.colab.kernel.accessAllowed ? 'block' : 'none';\n",
              "    })();\n",
              "  </script>\n",
              "</div>\n",
              "\n",
              "    </div>\n",
              "  </div>\n"
            ],
            "application/vnd.google.colaboratory.intrinsic+json": {
              "type": "dataframe",
              "variable_name": "train_purchases"
            }
          },
          "metadata": {},
          "execution_count": 17
        }
      ],
      "source": [
        "if just_checking_integrity:\n",
        "    train_purchases = pd.read_csv(\n",
        "    './dataset/processed_data/train_purchases_mapped.csv',\n",
        "    usecols = ['session_id', 'item_id'],\n",
        "    nrows=len(result)\n",
        "    )\n",
        "else:\n",
        "    train_purchases = pd.read_csv(\n",
        "    './dataset/processed_data/train_purchases_mapped.csv',\n",
        "    usecols = ['session_id', 'item_id'],\n",
        "    )\n",
        "train_purchases.head()"
      ]
    },
    {
      "cell_type": "code",
      "execution_count": 18,
      "metadata": {
        "_cell_guid": "85770635-6e50-4fcc-b7f1-dd6a77339a4c",
        "_uuid": "00d3f8ca-da51-4f52-b581-a1209fcff7d2",
        "execution": {
          "iopub.execute_input": "2022-06-13T12:19:40.042833Z",
          "iopub.status.busy": "2022-06-13T12:19:40.042397Z",
          "iopub.status.idle": "2022-06-13T12:19:40.201069Z",
          "shell.execute_reply": "2022-06-13T12:19:40.199973Z",
          "shell.execute_reply.started": "2022-06-13T12:19:40.042765Z"
        },
        "id": "7D5UdxD_nFsJ",
        "jupyter": {
          "outputs_hidden": false
        },
        "trusted": true
      },
      "outputs": [],
      "source": [
        "train_purchases.sort_values(by=\"session_id\",inplace=True)"
      ]
    },
    {
      "cell_type": "code",
      "execution_count": 19,
      "metadata": {
        "_cell_guid": "4d0fa492-3aff-4891-bf86-8f8fc8961650",
        "_uuid": "0f2eba08-7f51-4820-b288-c79831699dad",
        "execution": {
          "iopub.execute_input": "2022-06-13T12:19:40.758895Z",
          "iopub.status.busy": "2022-06-13T12:19:40.75793Z",
          "iopub.status.idle": "2022-06-13T12:19:46.600816Z",
          "shell.execute_reply": "2022-06-13T12:19:46.599726Z",
          "shell.execute_reply.started": "2022-06-13T12:19:40.758862Z"
        },
        "id": "pJHuoggZN76n",
        "jupyter": {
          "outputs_hidden": false
        },
        "trusted": true
      },
      "outputs": [],
      "source": [
        "x_ids = tf.keras.preprocessing.sequence.pad_sequences(\n",
        "    result['item_id'],\n",
        "    padding='post',\n",
        "    maxlen=100,\n",
        ")"
      ]
    },
    {
      "cell_type": "code",
      "execution_count": 20,
      "metadata": {
        "_cell_guid": "446a0a20-ac1f-41bf-829b-a73acb835378",
        "_uuid": "d00f26f6-7109-4242-a4d5-ec6a6ca13955",
        "execution": {
          "iopub.execute_input": "2022-06-13T12:19:46.603829Z",
          "iopub.status.busy": "2022-06-13T12:19:46.603225Z",
          "iopub.status.idle": "2022-06-13T12:19:51.162541Z",
          "shell.execute_reply": "2022-06-13T12:19:51.161468Z",
          "shell.execute_reply.started": "2022-06-13T12:19:46.60378Z"
        },
        "id": "XhTHmzlnJkkn",
        "jupyter": {
          "outputs_hidden": false
        },
        "outputId": "d822d5af-e529-4481-93d8-4edba2199ec3",
        "trusted": true,
        "colab": {
          "base_uri": "https://localhost:8080/"
        }
      },
      "outputs": [
        {
          "output_type": "stream",
          "name": "stdout",
          "text": [
            "Padding timedelta\n"
          ]
        }
      ],
      "source": [
        "for item_related_feature in item_related_features:\n",
        "  print('Padding {}'.format(item_related_feature))\n",
        "  x_item_related = tf.keras.preprocessing.sequence.pad_sequences(\n",
        "      result[item_related_feature],\n",
        "      dtype='float16',\n",
        "      maxlen=100,\n",
        "      padding='post'\n",
        "    )"
      ]
    },
    {
      "cell_type": "code",
      "execution_count": 21,
      "metadata": {
        "_cell_guid": "52b143c2-7ec8-4cf6-88dd-a371b0eb3cc6",
        "_uuid": "b9834a93-e661-4443-aaa5-922cfec62d1a",
        "execution": {
          "iopub.execute_input": "2022-06-13T12:19:51.164542Z",
          "iopub.status.busy": "2022-06-13T12:19:51.164074Z",
          "iopub.status.idle": "2022-06-13T12:19:51.170331Z",
          "shell.execute_reply": "2022-06-13T12:19:51.169346Z",
          "shell.execute_reply.started": "2022-06-13T12:19:51.164486Z"
        },
        "id": "LC1CtWFNO_zT",
        "jupyter": {
          "outputs_hidden": false
        },
        "trusted": true
      },
      "outputs": [],
      "source": [
        "if len(item_related_features) == 1:\n",
        "  x_item_related = np.expand_dims(x_item_related, axis=-1)"
      ]
    },
    {
      "cell_type": "code",
      "execution_count": 22,
      "metadata": {
        "_cell_guid": "fe5a5d6e-951b-45bf-a5df-c3b28cef6aa2",
        "_uuid": "17111ae4-f1c8-41e4-a416-30ae10e83c39",
        "execution": {
          "iopub.execute_input": "2022-06-13T12:19:51.1869Z",
          "iopub.status.busy": "2022-06-13T12:19:51.186271Z",
          "iopub.status.idle": "2022-06-13T12:19:51.195324Z",
          "shell.execute_reply": "2022-06-13T12:19:51.194189Z",
          "shell.execute_reply.started": "2022-06-13T12:19:51.186857Z"
        },
        "id": "8_CknegEb9F4",
        "jupyter": {
          "outputs_hidden": false
        },
        "trusted": true
      },
      "outputs": [],
      "source": [
        "y = train_purchases['item_id'].to_numpy()"
      ]
    },
    {
      "cell_type": "code",
      "execution_count": 23,
      "metadata": {
        "_cell_guid": "6d9db813-39bf-4c5a-9924-aeeea30f4421",
        "_uuid": "84df9d3b-cb15-41db-9a43-a3cb24a9b83f",
        "execution": {
          "iopub.execute_input": "2022-06-13T12:19:51.198322Z",
          "iopub.status.busy": "2022-06-13T12:19:51.196535Z",
          "iopub.status.idle": "2022-06-13T12:19:51.302947Z",
          "shell.execute_reply": "2022-06-13T12:19:51.301858Z",
          "shell.execute_reply.started": "2022-06-13T12:19:51.198277Z"
        },
        "id": "hgFbJXIiMVK8",
        "jupyter": {
          "outputs_hidden": false
        },
        "trusted": true
      },
      "outputs": [],
      "source": [
        "y_features = embedding_weights[y]"
      ]
    },
    {
      "cell_type": "code",
      "execution_count": 24,
      "metadata": {
        "_cell_guid": "8459f340-fae1-4cd3-a08a-fe704aa3b4ee",
        "_uuid": "fa4aae05-cace-41d2-9936-b3662b7732d5",
        "execution": {
          "iopub.execute_input": "2022-06-13T12:19:51.305357Z",
          "iopub.status.busy": "2022-06-13T12:19:51.30492Z",
          "iopub.status.idle": "2022-06-13T12:19:52.269422Z",
          "shell.execute_reply": "2022-06-13T12:19:52.268346Z",
          "shell.execute_reply.started": "2022-06-13T12:19:51.305315Z"
        },
        "id": "Ij3YstDfO1Vz",
        "jupyter": {
          "outputs_hidden": false
        },
        "trusted": true
      },
      "outputs": [],
      "source": [
        "last_month_start = datetime.datetime.strptime(\"01/05/21 00:00:00\", '%d/%m/%y %H:%M:%S')\n",
        "static_features=result[static_features_names].to_numpy()\n",
        "\n",
        "indexer = result[\"date_session_starting\"]>=last_month_start\n",
        "\n",
        "x_session_ids_last_month=result[\"session_id\"][indexer]\n",
        "x_ids_last_month=x_ids[indexer,:]\n",
        "x_reseen_last_month=x_reseen[indexer,:]\n",
        "x_simils_last_month=x_simils[indexer,:]\n",
        "x_simils_feats_last_month=x_simils_feats[indexer,:]\n",
        "x_percentage_seen_last_month=x_percentage_seen[indexer,:]\n",
        "static_features_last_month=static_features[indexer,:]\n",
        "x_item_related_last_month=x_item_related[indexer,:]\n",
        "y_last_month=y[indexer]\n",
        "y_features_last_month=y_features[indexer,:]\n",
        "\n",
        "\n",
        "\n",
        "indexer_train = result[\"date_session_starting\"]<last_month_start\n",
        "\n",
        "\n",
        "x_ids=x_ids[indexer_train,:]\n",
        "x_reseen=x_reseen[indexer_train,:]\n",
        "x_simils=x_simils[indexer_train,:]\n",
        "x_simils_feats=x_simils_feats[indexer_train,:]\n",
        "x_percentage_seen=x_percentage_seen[indexer_train,:]\n",
        "static_features=static_features[indexer_train,:]\n",
        "x_item_related=x_item_related[indexer_train,:]\n",
        "y=y[indexer_train]\n",
        "y_features=y_features[indexer_train,:]"
      ]
    },
    {
      "cell_type": "code",
      "execution_count": 25,
      "metadata": {
        "_cell_guid": "529825b1-3954-41a5-abae-ea2c8188f589",
        "_uuid": "c1a7e0f0-34ab-4b0b-9abd-520f2c0c95a3",
        "execution": {
          "iopub.execute_input": "2022-06-13T12:19:55.150386Z",
          "iopub.status.busy": "2022-06-13T12:19:55.149922Z",
          "iopub.status.idle": "2022-06-13T12:19:56.319676Z",
          "shell.execute_reply": "2022-06-13T12:19:56.318441Z",
          "shell.execute_reply.started": "2022-06-13T12:19:55.150339Z"
        },
        "id": "tYkBGGDycPc4",
        "jupyter": {
          "outputs_hidden": false
        },
        "trusted": true
      },
      "outputs": [],
      "source": [
        "x_ids_train, x_ids_test,\\\n",
        "x_reseen_train, x_reseen_test,\\\n",
        "x_simils_train,x_simils_test,\\\n",
        "x_simils_feats_train,x_simils_feats_test,\\\n",
        "x_percentage_seen_train,x_percentage_seen_test,\\\n",
        "x_static_train, x_static_test, \\\n",
        "x_item_related_train, x_item_related_test, \\\n",
        "y_train, y_test, \\\n",
        "y_features_train, y_features_test = train_test_split(\n",
        "    x_ids,\n",
        "    x_reseen,\n",
        "    x_simils,\n",
        "    x_simils_feats,\n",
        "    x_percentage_seen,\n",
        "    static_features,\n",
        "    x_item_related,\n",
        "    y,\n",
        "    y_features,\n",
        "    test_size=0.2,\n",
        "    random_state=1234\n",
        "    )"
      ]
    },
    {
      "cell_type": "code",
      "execution_count": 26,
      "metadata": {
        "id": "-oXUPxRfHmlW"
      },
      "outputs": [],
      "source": [
        "shape=y_features_train.shape[1]"
      ]
    },
    {
      "cell_type": "code",
      "execution_count": 27,
      "metadata": {
        "_cell_guid": "5733a3f0-b498-4468-8f1b-95ad1f9aaf26",
        "_uuid": "cf80d7a6-9b53-4218-b3d1-e99b4984feb5",
        "execution": {
          "iopub.execute_input": "2022-06-13T12:19:58.615114Z",
          "iopub.status.busy": "2022-06-13T12:19:58.614686Z",
          "iopub.status.idle": "2022-06-13T12:19:59.129604Z",
          "shell.execute_reply": "2022-06-13T12:19:59.128132Z",
          "shell.execute_reply.started": "2022-06-13T12:19:58.615084Z"
        },
        "id": "-xTh2lWG3RwM",
        "jupyter": {
          "outputs_hidden": false
        },
        "outputId": "aeea562c-6502-45b9-ea7c-0f405fe494d5",
        "trusted": true,
        "colab": {
          "base_uri": "https://localhost:8080/"
        }
      },
      "outputs": [
        {
          "output_type": "execute_result",
          "data": {
            "text/plain": [
              "54"
            ]
          },
          "metadata": {},
          "execution_count": 27
        }
      ],
      "source": [
        "del x_ids,x_reseen,x_simils,x_simils_feats,x_percentage_seen,result,x_item_related,y,y_features\n",
        "import gc\n",
        "gc.collect()"
      ]
    },
    {
      "cell_type": "code",
      "source": [
        "if not os.path.exists(\"./dataset/processed_data/transformer_tmp\"):\n",
        "  os.makedirs(\"./dataset/processed_data/transformer_tmp\")\n",
        "\n",
        "numpy_outputs = ['x_ids_train', 'x_reseen_train', 'x_percentage_seen_train', 'x_simils_train', \\\n",
        "                 'x_simils_feats_train', 'x_item_related_train', 'x_static_train', 'y_train', 'y_features_train', \\\n",
        "                 'x_ids_test', 'x_reseen_test', 'x_percentage_seen_test', 'x_simils_test', 'x_simils_feats_test', \\\n",
        "                 'x_item_related_test', 'x_static_test', 'y_test', 'y_features_test']\n",
        "for np_output in numpy_outputs:\n",
        "  np.save(f\"./dataset/processed_data/transformer_tmp/{np_output}.npy\", globals()[np_output])\n"
      ],
      "metadata": {
        "id": "DvM00y59aI5Y"
      },
      "execution_count": 34,
      "outputs": []
    },
    {
      "cell_type": "markdown",
      "metadata": {
        "_cell_guid": "1f62e9eb-25a1-47da-8f07-c9ad5fac2c8a",
        "_uuid": "eb012ae5-6fb8-4e4f-999d-74936c33ec5f",
        "id": "H6hj8gghAwEi",
        "trusted": true
      },
      "source": [
        "# Build Dataset"
      ]
    },
    {
      "cell_type": "code",
      "source": [
        "just_checking_integrity=False\n",
        "rows=3000\n",
        "test_rows=1000"
      ],
      "metadata": {
        "id": "EnSfoHTTf5ox"
      },
      "execution_count": 8,
      "outputs": []
    },
    {
      "cell_type": "code",
      "source": [
        "import pandas as pd\n",
        "import tensorflow as tf\n",
        "from tensorflow.keras import layers\n",
        "from sklearn.model_selection import train_test_split\n",
        "import numpy as np\n",
        "import datetime\n",
        "from itertools import compress\n",
        "from math import sin, cos\n",
        "import ast"
      ],
      "metadata": {
        "id": "h_A_U6yMf5sX"
      },
      "execution_count": 9,
      "outputs": []
    },
    {
      "cell_type": "code",
      "source": [
        "from tqdm.auto import tqdm\n",
        "tqdm.pandas()"
      ],
      "metadata": {
        "id": "lh3WTeOLf5w0"
      },
      "execution_count": 10,
      "outputs": []
    },
    {
      "cell_type": "code",
      "source": [
        "import gc\n",
        "gc.collect()"
      ],
      "metadata": {
        "id": "szUgM8SdgESB",
        "outputId": "63405db0-bf9b-47f2-a8a9-d8730160da3c",
        "colab": {
          "base_uri": "https://localhost:8080/"
        }
      },
      "execution_count": 11,
      "outputs": [
        {
          "output_type": "execute_result",
          "data": {
            "text/plain": [
              "51"
            ]
          },
          "metadata": {},
          "execution_count": 11
        }
      ]
    },
    {
      "cell_type": "code",
      "source": [
        "from google.colab import drive\n",
        "drive.mount('/content/drive')\n",
        "%cd \"/content/drive/My Drive/IDC_MSc/Year1/ReccomendationSystems/Final_Project/\""
      ],
      "metadata": {
        "id": "gcD2HEsLgEUp",
        "outputId": "b5e5c8c9-d40d-4cd6-b460-a739e9467152",
        "colab": {
          "base_uri": "https://localhost:8080/"
        }
      },
      "execution_count": 12,
      "outputs": [
        {
          "output_type": "stream",
          "name": "stdout",
          "text": [
            "Drive already mounted at /content/drive; to attempt to forcibly remount, call drive.mount(\"/content/drive\", force_remount=True).\n",
            "/content/drive/My Drive/IDC_MSc/Year1/ReccomendationSystems/Final_Project\n"
          ]
        }
      ]
    },
    {
      "cell_type": "code",
      "source": [
        "numpy_inputs = ['x_ids_train', 'x_reseen_train', 'x_percentage_seen_train', 'x_simils_train', \\\n",
        "                 'x_simils_feats_train', 'x_item_related_train', 'x_static_train', 'y_train', 'y_features_train', \\\n",
        "                 'x_ids_test', 'x_reseen_test', 'x_percentage_seen_test', 'x_simils_test', 'x_simils_feats_test', \\\n",
        "                 'x_item_related_test', 'x_static_test', 'y_test', 'y_features_test']\n",
        "for np_input in numpy_inputs:\n",
        "  globals()[np_input] = np.load(f\"./dataset/processed_data/transformer_tmp/{np_input}.npy\")"
      ],
      "metadata": {
        "id": "vvhBNPLpdXSM"
      },
      "execution_count": 6,
      "outputs": []
    },
    {
      "cell_type": "code",
      "execution_count": 14,
      "metadata": {
        "_cell_guid": "e8213cd9-2b29-4acf-9e46-683ce2998f84",
        "_uuid": "dc84b215-4966-48ec-8717-30145d0c5d56",
        "execution": {
          "iopub.execute_input": "2022-06-13T12:20:01.150735Z",
          "iopub.status.busy": "2022-06-13T12:20:01.149963Z",
          "iopub.status.idle": "2022-06-13T12:20:09.642239Z",
          "shell.execute_reply": "2022-06-13T12:20:09.641109Z",
          "shell.execute_reply.started": "2022-06-13T12:20:01.150702Z"
        },
        "id": "_3DuLInmeisZ",
        "jupyter": {
          "outputs_hidden": false
        },
        "outputId": "f1b5aad9-9fa8-4cb9-9a6f-5f30bebb25e5",
        "trusted": true,
        "colab": {
          "base_uri": "https://localhost:8080/"
        }
      },
      "outputs": [
        {
          "output_type": "execute_result",
          "data": {
            "text/plain": [
              "0"
            ]
          },
          "metadata": {},
          "execution_count": 14
        }
      ],
      "source": [
        "if just_checking_integrity:\n",
        "    train_set_complete = tf.data.Dataset.from_tensor_slices(\n",
        "        ((x_ids_train, x_reseen_train/100,x_percentage_seen_train,x_simils_train,x_simils_feats_train, x_item_related_train, x_static_train), (y_train, y_features_train))\n",
        "        ).batch(128,num_parallel_calls=tf.data.AUTOTUNE).prefetch(tf.data.AUTOTUNE).shuffle(4, reshuffle_each_iteration=True)\n",
        "else:\n",
        "    train_set_complete = tf.data.Dataset.from_tensor_slices(\n",
        "        ((x_ids_train, x_reseen_train/100,x_percentage_seen_train,x_simils_train,x_simils_feats_train, x_item_related_train, x_static_train), (y_train, y_features_train))\n",
        "        ).batch(2048,num_parallel_calls=tf.data.AUTOTUNE).prefetch(tf.data.AUTOTUNE).shuffle(287, reshuffle_each_iteration=True)\n",
        "test_set_complete = tf.data.Dataset.from_tensor_slices(\n",
        "    ((x_ids_test, x_reseen_test/100, x_percentage_seen_test,x_simils_test,x_simils_feats_test, x_item_related_test, x_static_test), (y_test, y_features_test))\n",
        "    ).batch(512)\n",
        "gc.collect()"
      ]
    },
    {
      "cell_type": "code",
      "execution_count": 15,
      "metadata": {
        "_cell_guid": "b6806744-2970-403c-900c-0e8430bbc6dd",
        "_uuid": "3977ee2c-d2ea-4118-8b25-ee0be1c95352",
        "execution": {
          "iopub.execute_input": "2022-06-13T12:20:09.644631Z",
          "iopub.status.busy": "2022-06-13T12:20:09.644105Z",
          "iopub.status.idle": "2022-06-13T12:20:09.652635Z",
          "shell.execute_reply": "2022-06-13T12:20:09.651481Z",
          "shell.execute_reply.started": "2022-06-13T12:20:09.644573Z"
        },
        "id": "VsF_-eklOcvz",
        "jupyter": {
          "outputs_hidden": false
        },
        "outputId": "b81829f7-bd93-413a-cc8c-766a32e60462",
        "trusted": true,
        "colab": {
          "base_uri": "https://localhost:8080/"
        }
      },
      "outputs": [
        {
          "output_type": "execute_result",
          "data": {
            "text/plain": [
              "((TensorSpec(shape=(None, 100), dtype=tf.int32, name=None),\n",
              "  TensorSpec(shape=(None, 100), dtype=tf.float64, name=None),\n",
              "  TensorSpec(shape=(None, 100), dtype=tf.float16, name=None),\n",
              "  TensorSpec(shape=(None, 100), dtype=tf.float16, name=None),\n",
              "  TensorSpec(shape=(None, 100), dtype=tf.float16, name=None),\n",
              "  TensorSpec(shape=(None, 100, 1), dtype=tf.float16, name=None),\n",
              "  TensorSpec(shape=(None, 28), dtype=tf.float64, name=None)),\n",
              " (TensorSpec(shape=(None,), dtype=tf.int64, name=None),\n",
              "  TensorSpec(shape=(None, 64), dtype=tf.float32, name=None)))"
            ]
          },
          "metadata": {},
          "execution_count": 15
        }
      ],
      "source": [
        "train_set_complete.element_spec"
      ]
    },
    {
      "cell_type": "markdown",
      "metadata": {
        "_cell_guid": "f02bbf43-5f20-483b-8f31-c3447f9391b6",
        "_uuid": "12a3a1e1-4446-4436-ba94-d9cca7bd6daa",
        "id": "Ysx13_z3573S",
        "trusted": true
      },
      "source": [
        "# Contex aware Transformer NET"
      ]
    },
    {
      "cell_type": "code",
      "source": [
        "static_features_names = [\n",
        "                   'date_hour_sin',\n",
        "                   'date_hour_cos',\n",
        "                   'date_day_sin',\n",
        "                   'date_day_cos',\n",
        "                   'date_month_sin',\n",
        "                   'date_month_cos',\n",
        "                   'date_hour_sin_ending',\n",
        "                   'date_hour_cos_ending',\n",
        "                   'date_day_sin_ending',\n",
        "                   'date_day_cos_ending',\n",
        "                   'date_month_sin_ending',\n",
        "                   'date_month_cos_ending',\n",
        "                   'date_year_2020',\n",
        "                   'length_of_session_seconds',\n",
        "                   'avg_time_spent_per_item_seconds',\n",
        "                   'variance_time_spent_per_item_seconds',\n",
        "                   'n_seen_items',\n",
        "                   'n_unique_items',\n",
        "                   'user_went_afk',\n",
        "                   'is_weekend',\n",
        "                   'is_hot_hour',\n",
        "                   'is_night',\n",
        "                   'is_christmas_time',\n",
        "                   'is_black_friday',\n",
        "                   'session_similarity',\n",
        "                   'session_similarity_uniques',\n",
        "                   'session_similarity_feats',\n",
        "                   'session_similarity_feats_uniques'\n",
        "]"
      ],
      "metadata": {
        "id": "1rfzq4gaguCZ"
      },
      "execution_count": 17,
      "outputs": []
    },
    {
      "cell_type": "code",
      "source": [
        "item_related_features = [\n",
        "                         'timedelta'\n",
        "]"
      ],
      "metadata": {
        "id": "U6eub5v5g0oF"
      },
      "execution_count": 18,
      "outputs": []
    },
    {
      "cell_type": "code",
      "source": [
        "embedding_weights = np.load(\n",
        "    './dataset/processed_data/compressed_features.npy'\n",
        "    )"
      ],
      "metadata": {
        "id": "LoM-cByrhIVy"
      },
      "execution_count": 20,
      "outputs": []
    },
    {
      "cell_type": "code",
      "source": [
        "class PositionEmbedding(layers.Layer):\n",
        "    def __init__(\n",
        "        self,\n",
        "        maxlen,\n",
        "        embed_dim,\n",
        "        ):\n",
        "        super(PositionEmbedding, self).__init__()\n",
        "        self.pos_emb = layers.Embedding(input_dim=maxlen, output_dim=embed_dim)\n",
        "\n",
        "    def call(self, x):\n",
        "        maxlen = tf.shape(x)[-1]\n",
        "        positions = tf.range(start=0, limit=maxlen, delta=1)\n",
        "        positions = self.pos_emb(positions)\n",
        "        return positions"
      ],
      "metadata": {
        "id": "VM46zuHahSvH"
      },
      "execution_count": 22,
      "outputs": []
    },
    {
      "cell_type": "code",
      "source": [
        "class TransformerBlock(layers.Layer):\n",
        "    def __init__(self, embed_dim, num_heads, ff_dim, rate=0.1):\n",
        "        super(TransformerBlock, self).__init__()\n",
        "        self.att = layers.MultiHeadAttention(num_heads=num_heads, key_dim=embed_dim)\n",
        "        self.ffn = tf.keras.Sequential(\n",
        "            [layers.Dense(ff_dim, activation=\"relu\"), layers.Dense(embed_dim),]\n",
        "        )\n",
        "        self.layernorm1 = layers.LayerNormalization(epsilon=1e-6)\n",
        "        self.layernorm2 = layers.LayerNormalization(epsilon=1e-6)\n",
        "        self.dropout1 = layers.Dropout(rate)\n",
        "        self.dropout2 = layers.Dropout(rate)\n",
        "\n",
        "    def call(self, inputs, training):\n",
        "        attn_output = self.att(inputs, inputs)\n",
        "        attn_output = self.dropout1(attn_output, training=training)\n",
        "        out1 = self.layernorm1(inputs + attn_output)\n",
        "        ffn_output = self.ffn(out1)\n",
        "        ffn_output = self.dropout2(ffn_output, training=training)\n",
        "        return self.layernorm2(out1 + ffn_output)"
      ],
      "metadata": {
        "id": "s1Q1uqozhaQs"
      },
      "execution_count": 24,
      "outputs": []
    },
    {
      "cell_type": "code",
      "source": [
        "def mrr_top_at(at=100):\n",
        "    @tf.function\n",
        "    def mrr_top(y_true,y_pred):\n",
        "        top_k=tf.math.top_k(y_pred,k=at)\n",
        "        rr=top_k.indices\n",
        "        #print(rr)\n",
        "        idx=tf.range(start=1,limit=at+1,delta=1)\n",
        "        y_true=tf.reshape(y_true,[-1,1])\n",
        "        #print(y_true)\n",
        "        #y_true=tf.broadcast_to(y_true,test.shape)\n",
        "        y_true=tf.cast(y_true,tf.int32)\n",
        "        ranking=tf.where(tf.math.equal(rr,y_true),idx,0)\n",
        "        #print(ranking)\n",
        "        ranking=tf.reduce_sum(ranking,axis=-1)\n",
        "        ranking=tf.where(ranking>0,1/ranking,0)\n",
        "        #print(ranking)\n",
        "        ranking=tf.reduce_mean(ranking)\n",
        "        return ranking\n",
        "    return mrr_top"
      ],
      "metadata": {
        "id": "Wh98il1vhhbz"
      },
      "execution_count": 26,
      "outputs": []
    },
    {
      "cell_type": "code",
      "execution_count": 27,
      "metadata": {
        "_cell_guid": "2416079c-fbf2-4f4e-8964-c6641fc30229",
        "_uuid": "2dca5593-db26-4304-8e05-bffc911f8158",
        "execution": {
          "iopub.execute_input": "2022-06-13T12:21:12.894893Z",
          "iopub.status.busy": "2022-06-13T12:21:12.894428Z",
          "iopub.status.idle": "2022-06-13T12:21:15.107708Z",
          "shell.execute_reply": "2022-06-13T12:21:15.106667Z",
          "shell.execute_reply.started": "2022-06-13T12:21:12.894862Z"
        },
        "id": "1c55AAEk573T",
        "trusted": true
      },
      "outputs": [],
      "source": [
        "embed_dim = 64  # Embedding size for each token\n",
        "maxlen = 100\n",
        "num_static = len(static_features_names)\n",
        "num_item_related = len(item_related_features)\n",
        "vocabulary_size = 23692 #max(train_purchases['item_id']) # Size of the vocabulary\n",
        "num_heads = 3\n",
        "ff_dim = 128\n",
        "transformer_width = 128 - num_static - num_item_related-4\n",
        "mlp_width = 256\n",
        "mlp_depth = 2\n",
        "\n",
        "###### INPUT ########### INPUT #####\n",
        "id_inputs = layers.Input(shape=(maxlen,), name='ids')\n",
        "item_related_inputs = layers.Input(shape=(maxlen, num_item_related), name='item_related_features')\n",
        "x_reseen_inputs = layers.Input(shape=(maxlen, 1), name='x_reseen_featurs')\n",
        "x_percentage_seen_inputs = layers.Input(shape=(maxlen, 1), name='x_percentage_seen')\n",
        "x_simils_inputs = layers.Input(shape=(maxlen, 1), name='x_similarities_embeddings')\n",
        "x_simils_feats_inputs = layers.Input(shape=(maxlen, 1), name='x_similarities_ICM')\n",
        "static_inputs = layers.Input(shape=(num_static,), name='static_features')\n",
        "\n",
        "\n",
        "##### MODEL DEFINITION #####\n",
        "\n",
        "learned_embedding = layers.Embedding(\n",
        "    input_dim=vocabulary_size,\n",
        "    output_dim=embed_dim,\n",
        "    mask_zero=True,\n",
        "    name='learned_embedding'\n",
        "    )(id_inputs)\n",
        "\n",
        "feature_embedding = layers.Embedding(\n",
        "    input_dim=embedding_weights.shape[0],\n",
        "    output_dim=embedding_weights.shape[1],\n",
        "    mask_zero=True,\n",
        "    trainable=False,\n",
        "    weights=[embedding_weights],\n",
        "    name='feature_embedding'\n",
        "    )(id_inputs)\n",
        "\n",
        "positional_embedding = PositionEmbedding(\n",
        "    maxlen,\n",
        "    embed_dim=embed_dim*2+num_item_related+4\n",
        "    )(id_inputs)\n",
        "\n",
        "embedding = layers.Concatenate(\n",
        "    name='embedding'\n",
        ")([learned_embedding, feature_embedding])\n",
        "\n",
        "masked_item_related_inputs = item_related_inputs[:, :tf.shape(id_inputs)[-1], :]\n",
        "\n",
        "embedding = layers.Concatenate()([embedding, masked_item_related_inputs, x_reseen_inputs,x_percentage_seen_inputs,x_simils_inputs,x_simils_feats_inputs])\n",
        "\n",
        "x_pre = embedding + positional_embedding\n",
        "\n",
        "x_post = TransformerBlock(\n",
        "    embed_dim*2+num_item_related+4,\n",
        "    num_heads,\n",
        "    ff_dim\n",
        "    )(x_pre)\n",
        "\n",
        "x_post = layers.Concatenate()([x_post, x_pre])\n",
        "x_post = layers.GlobalAveragePooling1D()(x_post)\n",
        "\n",
        "x_post = layers.Dense(\n",
        "    units=mlp_width-num_static,\n",
        "    activation='linear'\n",
        "    )(x_post)\n",
        "\n",
        "x_pre = layers.Concatenate()([x_post, static_inputs])\n",
        "\n",
        "for layer in range(mlp_depth):\n",
        "  x_post = layers.LayerNormalization()(x_pre)\n",
        "  x_post = layers.Dropout(0.2)(x_post)\n",
        "  x_post = layers.Dense(units=mlp_width, activation='gelu')(x_post)\n",
        "  x_pre = layers.Add()([x_pre, x_post])\n",
        "\n",
        "##### PREDICTION DEFINITION #####\n",
        "\n",
        "outputs = layers.Dense(19021, activation='softmax', name='y')(x_pre)\n",
        "secondary_outputs = layers.Dense(\n",
        "    units=y_features_train.shape[1],\n",
        "    activation='tanh',\n",
        "    name='y_features'\n",
        "    )(x_pre)\n",
        "\n",
        "model_for_training= tf.keras.Model(\n",
        "    inputs=[id_inputs, x_reseen_inputs, x_percentage_seen_inputs,x_simils_inputs,x_simils_feats_inputs,item_related_inputs, static_inputs],\n",
        "    outputs=[outputs, secondary_outputs],\n",
        "    name=\"encodermodel_training\"\n",
        "    )\n",
        "\n",
        "\n",
        "model_for_training.compile(\n",
        "    optimizer=tf.keras.optimizers.Adamax(\n",
        "\n",
        "    ),\n",
        "    loss=[\n",
        "          lambda y_true, y_pred : tf.keras.losses.categorical_crossentropy(\n",
        "              tf.squeeze(tf.one_hot(tf.cast(y_true, dtype=tf.int32), 19020+1, axis=-1)),\n",
        "              y_pred,\n",
        "              label_smoothing=0.1\n",
        "              ),\n",
        "          'mse'\n",
        "    ],\n",
        "    loss_weights=[1, 1],\n",
        "    metrics=[\n",
        "             [\n",
        "              mrr_top_at(at=100)\n",
        "             ],\n",
        "             []\n",
        "             ]\n",
        "    )\n"
      ]
    },
    {
      "cell_type": "markdown",
      "metadata": {
        "_cell_guid": "03e577d5-56ba-4c87-8713-09e23a8d0466",
        "_uuid": "e9913119-3d7a-44bc-a5e2-bda7be4f653d",
        "id": "lpmY1mZKLHD2",
        "trusted": true
      },
      "source": [
        "# Plot"
      ]
    },
    {
      "cell_type": "code",
      "execution_count": 28,
      "metadata": {
        "_cell_guid": "2228684e-50f4-43f5-9c77-130059b907ee",
        "_uuid": "761d8b25-20b6-4868-80ab-e2411d79e62b",
        "execution": {
          "iopub.execute_input": "2022-06-13T12:21:17.078283Z",
          "iopub.status.busy": "2022-06-13T12:21:17.07783Z",
          "iopub.status.idle": "2022-06-13T12:21:18.648425Z",
          "shell.execute_reply": "2022-06-13T12:21:18.647049Z",
          "shell.execute_reply.started": "2022-06-13T12:21:17.078252Z"
        },
        "id": "IBl0fm9NKpTT",
        "jupyter": {
          "outputs_hidden": false
        },
        "outputId": "63641f15-f8bc-4c95-a696-87a0f0758928",
        "trusted": true,
        "colab": {
          "base_uri": "https://localhost:8080/",
          "height": 1000
        }
      },
      "outputs": [
        {
          "output_type": "execute_result",
          "data": {
            "image/png": "[encoded data removed]",
            "text/plain": [
              "<IPython.core.display.Image object>"
            ]
          },
          "metadata": {},
          "execution_count": 28
        }
      ],
      "source": [
        "tf.keras.utils.plot_model(model_for_training,to_file=\"./transofmer-NN-model.png\",expand_nested=True)"
      ]
    },
    {
      "cell_type": "code",
      "source": [],
      "metadata": {
        "id": "c_-1b3owRUAe"
      },
      "execution_count": null,
      "outputs": []
    },
    {
      "cell_type": "markdown",
      "metadata": {
        "_cell_guid": "91cc2a4b-618d-4307-8146-9fc084a3cd21",
        "_uuid": "29cbf7b6-395d-41e8-9094-d5757eb087f4",
        "id": "Nl0SX9l385k5",
        "trusted": true
      },
      "source": [
        "# Training"
      ]
    },
    {
      "cell_type": "code",
      "execution_count": 29,
      "metadata": {
        "_cell_guid": "b94316f2-bf53-4c3d-8a80-3f347a913af1",
        "_uuid": "8753248d-0b41-4d96-b2d0-a66ed0fec7aa",
        "execution": {
          "iopub.execute_input": "2022-06-13T12:21:22.603013Z",
          "iopub.status.busy": "2022-06-13T12:21:22.602626Z",
          "iopub.status.idle": "2022-06-13T12:22:43.709448Z",
          "shell.execute_reply": "2022-06-13T12:22:43.707834Z",
          "shell.execute_reply.started": "2022-06-13T12:21:22.60298Z"
        },
        "id": "_0ssXFFYfEpN",
        "jupyter": {
          "outputs_hidden": false
        },
        "outputId": "b4b629b9-4fb4-47ca-fa2d-2826c1f39b38",
        "trusted": true,
        "colab": {
          "base_uri": "https://localhost:8080/",
          "height": 831
        }
      },
      "outputs": [
        {
          "output_type": "stream",
          "name": "stdout",
          "text": [
            "Epoch 1/100\n",
            "359/359 [==============================] - 201s 512ms/step - loss: 9.0754 - y_loss: 9.0019 - y_features_loss: 0.0735 - y_mrr_top: 0.0199 - val_loss: 8.5219 - val_y_loss: 8.4983 - val_y_features_loss: 0.0235 - val_y_mrr_top: 0.0308\n",
            "Epoch 2/100\n",
            "359/359 [==============================] - 187s 507ms/step - loss: 8.1003 - y_loss: 8.0624 - y_features_loss: 0.0380 - y_mrr_top: 0.0522 - val_loss: 7.7253 - val_y_loss: 7.7045 - val_y_features_loss: 0.0208 - val_y_mrr_top: 0.0767\n",
            "Epoch 3/100\n",
            "359/359 [==============================] - 191s 518ms/step - loss: 7.4945 - y_loss: 7.4678 - y_features_loss: 0.0267 - y_mrr_top: 0.0932 - val_loss: 7.3744 - val_y_loss: 7.3574 - val_y_features_loss: 0.0169 - val_y_mrr_top: 0.1061\n",
            "Epoch 4/100\n",
            "359/359 [==============================] - 187s 506ms/step - loss: 7.1900 - y_loss: 7.1700 - y_features_loss: 0.0199 - y_mrr_top: 0.1188 - val_loss: 7.1896 - val_y_loss: 7.1748 - val_y_features_loss: 0.0148 - val_y_mrr_top: 0.1253\n",
            "Epoch 5/100\n",
            "359/359 [==============================] - 187s 508ms/step - loss: 6.9969 - y_loss: 6.9804 - y_features_loss: 0.0166 - y_mrr_top: 0.1366 - val_loss: 7.0754 - val_y_loss: 7.0620 - val_y_features_loss: 0.0135 - val_y_mrr_top: 0.1386\n",
            "Epoch 6/100\n",
            "359/359 [==============================] - 188s 509ms/step - loss: 6.8572 - y_loss: 6.8426 - y_features_loss: 0.0146 - y_mrr_top: 0.1503 - val_loss: 7.0005 - val_y_loss: 6.9879 - val_y_features_loss: 0.0126 - val_y_mrr_top: 0.1475\n",
            "Epoch 7/100\n",
            "359/359 [==============================] - 187s 506ms/step - loss: 6.7474 - y_loss: 6.7340 - y_features_loss: 0.0134 - y_mrr_top: 0.1612 - val_loss: 6.9455 - val_y_loss: 6.9336 - val_y_features_loss: 0.0120 - val_y_mrr_top: 0.1545\n",
            "Epoch 8/100\n",
            "359/359 [==============================] - 187s 505ms/step - loss: 6.6566 - y_loss: 6.6438 - y_features_loss: 0.0127 - y_mrr_top: 0.1705 - val_loss: 6.9158 - val_y_loss: 6.9042 - val_y_features_loss: 0.0116 - val_y_mrr_top: 0.1598\n",
            "Epoch 9/100\n",
            "359/359 [==============================] - 186s 507ms/step - loss: 6.5752 - y_loss: 6.5630 - y_features_loss: 0.0122 - y_mrr_top: 0.1786 - val_loss: 6.8848 - val_y_loss: 6.8734 - val_y_features_loss: 0.0114 - val_y_mrr_top: 0.1642\n",
            "Epoch 10/100\n",
            "359/359 [==============================] - 187s 506ms/step - loss: 6.5006 - y_loss: 6.4887 - y_features_loss: 0.0119 - y_mrr_top: 0.1861 - val_loss: 6.8683 - val_y_loss: 6.8570 - val_y_features_loss: 0.0113 - val_y_mrr_top: 0.1675\n",
            "Epoch 11/100\n",
            "359/359 [==============================] - 187s 506ms/step - loss: 6.4313 - y_loss: 6.4197 - y_features_loss: 0.0117 - y_mrr_top: 0.1929 - val_loss: 6.8506 - val_y_loss: 6.8395 - val_y_features_loss: 0.0111 - val_y_mrr_top: 0.1714\n",
            "Epoch 12/100\n",
            "253/359 [====================>.........] - ETA: 48s - loss: 6.3501 - y_loss: 6.3386 - y_features_loss: 0.0115 - y_mrr_top: 0.2006"
          ]
        },
        {
          "output_type": "error",
          "ename": "KeyboardInterrupt",
          "evalue": "",
          "traceback": [
            "\u001b[0;31m---------------------------------------------------------------------------\u001b[0m",
            "\u001b[0;31mKeyboardInterrupt\u001b[0m                         Traceback (most recent call last)",
            "\u001b[0;32m<ipython-input-29-2983b9e8ae36>\u001b[0m in \u001b[0;36m<cell line: 7>\u001b[0;34m()\u001b[0m\n\u001b[1;32m      5\u001b[0m     \u001b[0mn_epochs\u001b[0m\u001b[0;34m=\u001b[0m\u001b[0;36m100\u001b[0m\u001b[0;34m\u001b[0m\u001b[0;34m\u001b[0m\u001b[0m\n\u001b[1;32m      6\u001b[0m \u001b[0mmonitor\u001b[0m\u001b[0;34m=\u001b[0m\u001b[0;34m'val_y_mrr_top'\u001b[0m\u001b[0;34m\u001b[0m\u001b[0;34m\u001b[0m\u001b[0m\n\u001b[0;32m----> 7\u001b[0;31m model_for_training.fit(\n\u001b[0m\u001b[1;32m      8\u001b[0m     \u001b[0mtrain_set_complete\u001b[0m\u001b[0;34m,\u001b[0m\u001b[0;34m\u001b[0m\u001b[0;34m\u001b[0m\u001b[0m\n\u001b[1;32m      9\u001b[0m     \u001b[0mvalidation_data\u001b[0m\u001b[0;34m=\u001b[0m\u001b[0mtest_set_complete\u001b[0m\u001b[0;34m,\u001b[0m\u001b[0;34m\u001b[0m\u001b[0;34m\u001b[0m\u001b[0m\n",
            "\u001b[0;32m/usr/local/lib/python3.10/dist-packages/keras/src/utils/traceback_utils.py\u001b[0m in \u001b[0;36merror_handler\u001b[0;34m(*args, **kwargs)\u001b[0m\n\u001b[1;32m     63\u001b[0m         \u001b[0mfiltered_tb\u001b[0m \u001b[0;34m=\u001b[0m \u001b[0;32mNone\u001b[0m\u001b[0;34m\u001b[0m\u001b[0;34m\u001b[0m\u001b[0m\n\u001b[1;32m     64\u001b[0m         \u001b[0;32mtry\u001b[0m\u001b[0;34m:\u001b[0m\u001b[0;34m\u001b[0m\u001b[0;34m\u001b[0m\u001b[0m\n\u001b[0;32m---> 65\u001b[0;31m             \u001b[0;32mreturn\u001b[0m \u001b[0mfn\u001b[0m\u001b[0;34m(\u001b[0m\u001b[0;34m*\u001b[0m\u001b[0margs\u001b[0m\u001b[0;34m,\u001b[0m \u001b[0;34m**\u001b[0m\u001b[0mkwargs\u001b[0m\u001b[0;34m)\u001b[0m\u001b[0;34m\u001b[0m\u001b[0;34m\u001b[0m\u001b[0m\n\u001b[0m\u001b[1;32m     66\u001b[0m         \u001b[0;32mexcept\u001b[0m \u001b[0mException\u001b[0m \u001b[0;32mas\u001b[0m \u001b[0me\u001b[0m\u001b[0;34m:\u001b[0m\u001b[0;34m\u001b[0m\u001b[0;34m\u001b[0m\u001b[0m\n\u001b[1;32m     67\u001b[0m             \u001b[0mfiltered_tb\u001b[0m \u001b[0;34m=\u001b[0m \u001b[0m_process_traceback_frames\u001b[0m\u001b[0;34m(\u001b[0m\u001b[0me\u001b[0m\u001b[0;34m.\u001b[0m\u001b[0m__traceback__\u001b[0m\u001b[0;34m)\u001b[0m\u001b[0;34m\u001b[0m\u001b[0;34m\u001b[0m\u001b[0m\n",
            "\u001b[0;32m/usr/local/lib/python3.10/dist-packages/keras/src/engine/training.py\u001b[0m in \u001b[0;36mfit\u001b[0;34m(self, x, y, batch_size, epochs, verbose, callbacks, validation_split, validation_data, shuffle, class_weight, sample_weight, initial_epoch, steps_per_epoch, validation_steps, validation_batch_size, validation_freq, max_queue_size, workers, use_multiprocessing)\u001b[0m\n\u001b[1;32m   1805\u001b[0m                         ):\n\u001b[1;32m   1806\u001b[0m                             \u001b[0mcallbacks\u001b[0m\u001b[0;34m.\u001b[0m\u001b[0mon_train_batch_begin\u001b[0m\u001b[0;34m(\u001b[0m\u001b[0mstep\u001b[0m\u001b[0;34m)\u001b[0m\u001b[0;34m\u001b[0m\u001b[0;34m\u001b[0m\u001b[0m\n\u001b[0;32m-> 1807\u001b[0;31m                             \u001b[0mtmp_logs\u001b[0m \u001b[0;34m=\u001b[0m \u001b[0mself\u001b[0m\u001b[0;34m.\u001b[0m\u001b[0mtrain_function\u001b[0m\u001b[0;34m(\u001b[0m\u001b[0miterator\u001b[0m\u001b[0;34m)\u001b[0m\u001b[0;34m\u001b[0m\u001b[0;34m\u001b[0m\u001b[0m\n\u001b[0m\u001b[1;32m   1808\u001b[0m                             \u001b[0;32mif\u001b[0m \u001b[0mdata_handler\u001b[0m\u001b[0;34m.\u001b[0m\u001b[0mshould_sync\u001b[0m\u001b[0;34m:\u001b[0m\u001b[0;34m\u001b[0m\u001b[0;34m\u001b[0m\u001b[0m\n\u001b[1;32m   1809\u001b[0m                                 \u001b[0mcontext\u001b[0m\u001b[0;34m.\u001b[0m\u001b[0masync_wait\u001b[0m\u001b[0;34m(\u001b[0m\u001b[0;34m)\u001b[0m\u001b[0;34m\u001b[0m\u001b[0;34m\u001b[0m\u001b[0m\n",
            "\u001b[0;32m/usr/local/lib/python3.10/dist-packages/tensorflow/python/util/traceback_utils.py\u001b[0m in \u001b[0;36merror_handler\u001b[0;34m(*args, **kwargs)\u001b[0m\n\u001b[1;32m    148\u001b[0m     \u001b[0mfiltered_tb\u001b[0m \u001b[0;34m=\u001b[0m \u001b[0;32mNone\u001b[0m\u001b[0;34m\u001b[0m\u001b[0;34m\u001b[0m\u001b[0m\n\u001b[1;32m    149\u001b[0m     \u001b[0;32mtry\u001b[0m\u001b[0;34m:\u001b[0m\u001b[0;34m\u001b[0m\u001b[0;34m\u001b[0m\u001b[0m\n\u001b[0;32m--> 150\u001b[0;31m       \u001b[0;32mreturn\u001b[0m \u001b[0mfn\u001b[0m\u001b[0;34m(\u001b[0m\u001b[0;34m*\u001b[0m\u001b[0margs\u001b[0m\u001b[0;34m,\u001b[0m \u001b[0;34m**\u001b[0m\u001b[0mkwargs\u001b[0m\u001b[0;34m)\u001b[0m\u001b[0;34m\u001b[0m\u001b[0;34m\u001b[0m\u001b[0m\n\u001b[0m\u001b[1;32m    151\u001b[0m     \u001b[0;32mexcept\u001b[0m \u001b[0mException\u001b[0m \u001b[0;32mas\u001b[0m \u001b[0me\u001b[0m\u001b[0;34m:\u001b[0m\u001b[0;34m\u001b[0m\u001b[0;34m\u001b[0m\u001b[0m\n\u001b[1;32m    152\u001b[0m       \u001b[0mfiltered_tb\u001b[0m \u001b[0;34m=\u001b[0m \u001b[0m_process_traceback_frames\u001b[0m\u001b[0;34m(\u001b[0m\u001b[0me\u001b[0m\u001b[0;34m.\u001b[0m\u001b[0m__traceback__\u001b[0m\u001b[0;34m)\u001b[0m\u001b[0;34m\u001b[0m\u001b[0;34m\u001b[0m\u001b[0m\n",
            "\u001b[0;32m/usr/local/lib/python3.10/dist-packages/tensorflow/python/eager/polymorphic_function/polymorphic_function.py\u001b[0m in \u001b[0;36m__call__\u001b[0;34m(self, *args, **kwds)\u001b[0m\n\u001b[1;32m    830\u001b[0m \u001b[0;34m\u001b[0m\u001b[0m\n\u001b[1;32m    831\u001b[0m       \u001b[0;32mwith\u001b[0m \u001b[0mOptionalXlaContext\u001b[0m\u001b[0;34m(\u001b[0m\u001b[0mself\u001b[0m\u001b[0;34m.\u001b[0m\u001b[0m_jit_compile\u001b[0m\u001b[0;34m)\u001b[0m\u001b[0;34m:\u001b[0m\u001b[0;34m\u001b[0m\u001b[0;34m\u001b[0m\u001b[0m\n\u001b[0;32m--> 832\u001b[0;31m         \u001b[0mresult\u001b[0m \u001b[0;34m=\u001b[0m \u001b[0mself\u001b[0m\u001b[0;34m.\u001b[0m\u001b[0m_call\u001b[0m\u001b[0;34m(\u001b[0m\u001b[0;34m*\u001b[0m\u001b[0margs\u001b[0m\u001b[0;34m,\u001b[0m \u001b[0;34m**\u001b[0m\u001b[0mkwds\u001b[0m\u001b[0;34m)\u001b[0m\u001b[0;34m\u001b[0m\u001b[0;34m\u001b[0m\u001b[0m\n\u001b[0m\u001b[1;32m    833\u001b[0m \u001b[0;34m\u001b[0m\u001b[0m\n\u001b[1;32m    834\u001b[0m       \u001b[0mnew_tracing_count\u001b[0m \u001b[0;34m=\u001b[0m \u001b[0mself\u001b[0m\u001b[0;34m.\u001b[0m\u001b[0mexperimental_get_tracing_count\u001b[0m\u001b[0;34m(\u001b[0m\u001b[0;34m)\u001b[0m\u001b[0;34m\u001b[0m\u001b[0;34m\u001b[0m\u001b[0m\n",
            "\u001b[0;32m/usr/local/lib/python3.10/dist-packages/tensorflow/python/eager/polymorphic_function/polymorphic_function.py\u001b[0m in \u001b[0;36m_call\u001b[0;34m(self, *args, **kwds)\u001b[0m\n\u001b[1;32m    866\u001b[0m       \u001b[0;31m# In this case we have created variables on the first call, so we run the\u001b[0m\u001b[0;34m\u001b[0m\u001b[0;34m\u001b[0m\u001b[0m\n\u001b[1;32m    867\u001b[0m       \u001b[0;31m# defunned version which is guaranteed to never create variables.\u001b[0m\u001b[0;34m\u001b[0m\u001b[0;34m\u001b[0m\u001b[0m\n\u001b[0;32m--> 868\u001b[0;31m       return tracing_compilation.call_function(\n\u001b[0m\u001b[1;32m    869\u001b[0m           \u001b[0margs\u001b[0m\u001b[0;34m,\u001b[0m \u001b[0mkwds\u001b[0m\u001b[0;34m,\u001b[0m \u001b[0mself\u001b[0m\u001b[0;34m.\u001b[0m\u001b[0m_no_variable_creation_config\u001b[0m\u001b[0;34m\u001b[0m\u001b[0;34m\u001b[0m\u001b[0m\n\u001b[1;32m    870\u001b[0m       )\n",
            "\u001b[0;32m/usr/local/lib/python3.10/dist-packages/tensorflow/python/eager/polymorphic_function/tracing_compilation.py\u001b[0m in \u001b[0;36mcall_function\u001b[0;34m(args, kwargs, tracing_options)\u001b[0m\n\u001b[1;32m    137\u001b[0m   \u001b[0mbound_args\u001b[0m \u001b[0;34m=\u001b[0m \u001b[0mfunction\u001b[0m\u001b[0;34m.\u001b[0m\u001b[0mfunction_type\u001b[0m\u001b[0;34m.\u001b[0m\u001b[0mbind\u001b[0m\u001b[0;34m(\u001b[0m\u001b[0;34m*\u001b[0m\u001b[0margs\u001b[0m\u001b[0;34m,\u001b[0m \u001b[0;34m**\u001b[0m\u001b[0mkwargs\u001b[0m\u001b[0;34m)\u001b[0m\u001b[0;34m\u001b[0m\u001b[0;34m\u001b[0m\u001b[0m\n\u001b[1;32m    138\u001b[0m   \u001b[0mflat_inputs\u001b[0m \u001b[0;34m=\u001b[0m \u001b[0mfunction\u001b[0m\u001b[0;34m.\u001b[0m\u001b[0mfunction_type\u001b[0m\u001b[0;34m.\u001b[0m\u001b[0munpack_inputs\u001b[0m\u001b[0;34m(\u001b[0m\u001b[0mbound_args\u001b[0m\u001b[0;34m)\u001b[0m\u001b[0;34m\u001b[0m\u001b[0;34m\u001b[0m\u001b[0m\n\u001b[0;32m--> 139\u001b[0;31m   return function._call_flat(  # pylint: disable=protected-access\n\u001b[0m\u001b[1;32m    140\u001b[0m       \u001b[0mflat_inputs\u001b[0m\u001b[0;34m,\u001b[0m \u001b[0mcaptured_inputs\u001b[0m\u001b[0;34m=\u001b[0m\u001b[0mfunction\u001b[0m\u001b[0;34m.\u001b[0m\u001b[0mcaptured_inputs\u001b[0m\u001b[0;34m\u001b[0m\u001b[0;34m\u001b[0m\u001b[0m\n\u001b[1;32m    141\u001b[0m   )\n",
            "\u001b[0;32m/usr/local/lib/python3.10/dist-packages/tensorflow/python/eager/polymorphic_function/concrete_function.py\u001b[0m in \u001b[0;36m_call_flat\u001b[0;34m(self, tensor_inputs, captured_inputs)\u001b[0m\n\u001b[1;32m   1321\u001b[0m         and executing_eagerly):\n\u001b[1;32m   1322\u001b[0m       \u001b[0;31m# No tape is watching; skip to running the function.\u001b[0m\u001b[0;34m\u001b[0m\u001b[0;34m\u001b[0m\u001b[0m\n\u001b[0;32m-> 1323\u001b[0;31m       \u001b[0;32mreturn\u001b[0m \u001b[0mself\u001b[0m\u001b[0;34m.\u001b[0m\u001b[0m_inference_function\u001b[0m\u001b[0;34m.\u001b[0m\u001b[0mcall_preflattened\u001b[0m\u001b[0;34m(\u001b[0m\u001b[0margs\u001b[0m\u001b[0;34m)\u001b[0m\u001b[0;34m\u001b[0m\u001b[0;34m\u001b[0m\u001b[0m\n\u001b[0m\u001b[1;32m   1324\u001b[0m     forward_backward = self._select_forward_and_backward_functions(\n\u001b[1;32m   1325\u001b[0m         \u001b[0margs\u001b[0m\u001b[0;34m,\u001b[0m\u001b[0;34m\u001b[0m\u001b[0;34m\u001b[0m\u001b[0m\n",
            "\u001b[0;32m/usr/local/lib/python3.10/dist-packages/tensorflow/python/eager/polymorphic_function/atomic_function.py\u001b[0m in \u001b[0;36mcall_preflattened\u001b[0;34m(self, args)\u001b[0m\n\u001b[1;32m    214\u001b[0m   \u001b[0;32mdef\u001b[0m \u001b[0mcall_preflattened\u001b[0m\u001b[0;34m(\u001b[0m\u001b[0mself\u001b[0m\u001b[0;34m,\u001b[0m \u001b[0margs\u001b[0m\u001b[0;34m:\u001b[0m \u001b[0mSequence\u001b[0m\u001b[0;34m[\u001b[0m\u001b[0mcore\u001b[0m\u001b[0;34m.\u001b[0m\u001b[0mTensor\u001b[0m\u001b[0;34m]\u001b[0m\u001b[0;34m)\u001b[0m \u001b[0;34m->\u001b[0m \u001b[0mAny\u001b[0m\u001b[0;34m:\u001b[0m\u001b[0;34m\u001b[0m\u001b[0;34m\u001b[0m\u001b[0m\n\u001b[1;32m    215\u001b[0m     \u001b[0;34m\"\"\"Calls with flattened tensor inputs and returns the structured output.\"\"\"\u001b[0m\u001b[0;34m\u001b[0m\u001b[0;34m\u001b[0m\u001b[0m\n\u001b[0;32m--> 216\u001b[0;31m     \u001b[0mflat_outputs\u001b[0m \u001b[0;34m=\u001b[0m \u001b[0mself\u001b[0m\u001b[0;34m.\u001b[0m\u001b[0mcall_flat\u001b[0m\u001b[0;34m(\u001b[0m\u001b[0;34m*\u001b[0m\u001b[0margs\u001b[0m\u001b[0;34m)\u001b[0m\u001b[0;34m\u001b[0m\u001b[0;34m\u001b[0m\u001b[0m\n\u001b[0m\u001b[1;32m    217\u001b[0m     \u001b[0;32mreturn\u001b[0m \u001b[0mself\u001b[0m\u001b[0;34m.\u001b[0m\u001b[0mfunction_type\u001b[0m\u001b[0;34m.\u001b[0m\u001b[0mpack_output\u001b[0m\u001b[0;34m(\u001b[0m\u001b[0mflat_outputs\u001b[0m\u001b[0;34m)\u001b[0m\u001b[0;34m\u001b[0m\u001b[0;34m\u001b[0m\u001b[0m\n\u001b[1;32m    218\u001b[0m \u001b[0;34m\u001b[0m\u001b[0m\n",
            "\u001b[0;32m/usr/local/lib/python3.10/dist-packages/tensorflow/python/eager/polymorphic_function/atomic_function.py\u001b[0m in \u001b[0;36mcall_flat\u001b[0;34m(self, *args)\u001b[0m\n\u001b[1;32m    249\u001b[0m         \u001b[0;32mwith\u001b[0m \u001b[0mrecord\u001b[0m\u001b[0;34m.\u001b[0m\u001b[0mstop_recording\u001b[0m\u001b[0;34m(\u001b[0m\u001b[0;34m)\u001b[0m\u001b[0;34m:\u001b[0m\u001b[0;34m\u001b[0m\u001b[0;34m\u001b[0m\u001b[0m\n\u001b[1;32m    250\u001b[0m           \u001b[0;32mif\u001b[0m \u001b[0mself\u001b[0m\u001b[0;34m.\u001b[0m\u001b[0m_bound_context\u001b[0m\u001b[0;34m.\u001b[0m\u001b[0mexecuting_eagerly\u001b[0m\u001b[0;34m(\u001b[0m\u001b[0;34m)\u001b[0m\u001b[0;34m:\u001b[0m\u001b[0;34m\u001b[0m\u001b[0;34m\u001b[0m\u001b[0m\n\u001b[0;32m--> 251\u001b[0;31m             outputs = self._bound_context.call_function(\n\u001b[0m\u001b[1;32m    252\u001b[0m                 \u001b[0mself\u001b[0m\u001b[0;34m.\u001b[0m\u001b[0mname\u001b[0m\u001b[0;34m,\u001b[0m\u001b[0;34m\u001b[0m\u001b[0;34m\u001b[0m\u001b[0m\n\u001b[1;32m    253\u001b[0m                 \u001b[0mlist\u001b[0m\u001b[0;34m(\u001b[0m\u001b[0margs\u001b[0m\u001b[0;34m)\u001b[0m\u001b[0;34m,\u001b[0m\u001b[0;34m\u001b[0m\u001b[0;34m\u001b[0m\u001b[0m\n",
            "\u001b[0;32m/usr/local/lib/python3.10/dist-packages/tensorflow/python/eager/context.py\u001b[0m in \u001b[0;36mcall_function\u001b[0;34m(self, name, tensor_inputs, num_outputs)\u001b[0m\n\u001b[1;32m   1484\u001b[0m     \u001b[0mcancellation_context\u001b[0m \u001b[0;34m=\u001b[0m \u001b[0mcancellation\u001b[0m\u001b[0;34m.\u001b[0m\u001b[0mcontext\u001b[0m\u001b[0;34m(\u001b[0m\u001b[0;34m)\u001b[0m\u001b[0;34m\u001b[0m\u001b[0;34m\u001b[0m\u001b[0m\n\u001b[1;32m   1485\u001b[0m     \u001b[0;32mif\u001b[0m \u001b[0mcancellation_context\u001b[0m \u001b[0;32mis\u001b[0m \u001b[0;32mNone\u001b[0m\u001b[0;34m:\u001b[0m\u001b[0;34m\u001b[0m\u001b[0;34m\u001b[0m\u001b[0m\n\u001b[0;32m-> 1486\u001b[0;31m       outputs = execute.execute(\n\u001b[0m\u001b[1;32m   1487\u001b[0m           \u001b[0mname\u001b[0m\u001b[0;34m.\u001b[0m\u001b[0mdecode\u001b[0m\u001b[0;34m(\u001b[0m\u001b[0;34m\"utf-8\"\u001b[0m\u001b[0;34m)\u001b[0m\u001b[0;34m,\u001b[0m\u001b[0;34m\u001b[0m\u001b[0;34m\u001b[0m\u001b[0m\n\u001b[1;32m   1488\u001b[0m           \u001b[0mnum_outputs\u001b[0m\u001b[0;34m=\u001b[0m\u001b[0mnum_outputs\u001b[0m\u001b[0;34m,\u001b[0m\u001b[0;34m\u001b[0m\u001b[0;34m\u001b[0m\u001b[0m\n",
            "\u001b[0;32m/usr/local/lib/python3.10/dist-packages/tensorflow/python/eager/execute.py\u001b[0m in \u001b[0;36mquick_execute\u001b[0;34m(op_name, num_outputs, inputs, attrs, ctx, name)\u001b[0m\n\u001b[1;32m     51\u001b[0m   \u001b[0;32mtry\u001b[0m\u001b[0;34m:\u001b[0m\u001b[0;34m\u001b[0m\u001b[0;34m\u001b[0m\u001b[0m\n\u001b[1;32m     52\u001b[0m     \u001b[0mctx\u001b[0m\u001b[0;34m.\u001b[0m\u001b[0mensure_initialized\u001b[0m\u001b[0;34m(\u001b[0m\u001b[0;34m)\u001b[0m\u001b[0;34m\u001b[0m\u001b[0;34m\u001b[0m\u001b[0m\n\u001b[0;32m---> 53\u001b[0;31m     tensors = pywrap_tfe.TFE_Py_Execute(ctx._handle, device_name, op_name,\n\u001b[0m\u001b[1;32m     54\u001b[0m                                         inputs, attrs, num_outputs)\n\u001b[1;32m     55\u001b[0m   \u001b[0;32mexcept\u001b[0m \u001b[0mcore\u001b[0m\u001b[0;34m.\u001b[0m\u001b[0m_NotOkStatusException\u001b[0m \u001b[0;32mas\u001b[0m \u001b[0me\u001b[0m\u001b[0;34m:\u001b[0m\u001b[0;34m\u001b[0m\u001b[0;34m\u001b[0m\u001b[0m\n",
            "\u001b[0;31mKeyboardInterrupt\u001b[0m: "
          ]
        }
      ],
      "source": [
        "gc.collect()\n",
        "if just_checking_integrity:\n",
        "    n_epochs=2\n",
        "else:\n",
        "    n_epochs=100\n",
        "monitor='val_y_mrr_top'\n",
        "model_for_training.fit(\n",
        "    train_set_complete,\n",
        "    validation_data=test_set_complete,\n",
        "    epochs=n_epochs,\n",
        "    callbacks=[\n",
        "               tf.keras.callbacks.EarlyStopping(\n",
        "                  monitor=monitor,\n",
        "                  mode='max',\n",
        "                  patience=1,\n",
        "                  min_delta=0.0001,\n",
        "                  restore_best_weights=True,\n",
        "              ),\n",
        "         ]\n",
        "    )\n"
      ]
    },
    {
      "cell_type": "code",
      "source": [],
      "metadata": {
        "id": "3cO2iC9aqRSt"
      },
      "execution_count": null,
      "outputs": []
    },
    {
      "cell_type": "markdown",
      "metadata": {
        "_cell_guid": "ceab2d82-fa44-4938-aa9c-d4f2a9cb4ded",
        "_uuid": "d772a48a-0a87-40a0-8dc5-dfea7a780c25",
        "id": "4az6_O4azfs2",
        "trusted": true
      },
      "source": [
        "# Prepare candidates last month"
      ]
    },
    {
      "cell_type": "code",
      "execution_count": null,
      "metadata": {
        "_cell_guid": "41974ddd-67f9-43f9-85d6-8c0fab103f0a",
        "_uuid": "f2dc23d9-a836-451e-9726-d06489a3c94d",
        "execution": {
          "iopub.execute_input": "2022-06-13T12:23:15.23207Z",
          "iopub.status.busy": "2022-06-13T12:23:15.230874Z",
          "iopub.status.idle": "2022-06-13T12:23:15.537188Z",
          "shell.execute_reply": "2022-06-13T12:23:15.536023Z",
          "shell.execute_reply.started": "2022-06-13T12:23:15.232027Z"
        },
        "id": "8-i1CPSBzfs9",
        "jupyter": {
          "outputs_hidden": false
        },
        "outputId": "a4e80364-8ad3-4118-c238-78180ca8b864",
        "trusted": true
      },
      "outputs": [
        {
          "data": {
            "text/plain": [
              "(TensorSpec(shape=(None,), dtype=tf.int64, name=None),\n",
              " (TensorSpec(shape=(None, 100), dtype=tf.int32, name=None),\n",
              "  TensorSpec(shape=(None, 100), dtype=tf.float64, name=None),\n",
              "  TensorSpec(shape=(None, 100), dtype=tf.float16, name=None),\n",
              "  TensorSpec(shape=(None, 100), dtype=tf.float16, name=None),\n",
              "  TensorSpec(shape=(None, 100), dtype=tf.float16, name=None),\n",
              "  TensorSpec(shape=(None, 100, 1), dtype=tf.float16, name=None),\n",
              "  TensorSpec(shape=(None, 28), dtype=tf.float64, name=None)))"
            ]
          },
          "execution_count": 32,
          "metadata": {},
          "output_type": "execute_result"
        }
      ],
      "source": [
        "submission_set = tf.data.Dataset.from_tensor_slices(\n",
        "    (\n",
        "        x_session_ids_last_month,\n",
        "     (\n",
        "        x_ids_last_month,\n",
        "        x_reseen_last_month/100,\n",
        "        x_percentage_seen_last_month,\n",
        "        x_simils_last_month,\n",
        "        x_simils_feats_last_month,\n",
        "        x_item_related_last_month,\n",
        "        static_features_last_month\n",
        "     )\n",
        "    )\n",
        ").batch(128)\n",
        "submission_set.element_spec"
      ]
    },
    {
      "cell_type": "code",
      "execution_count": null,
      "metadata": {
        "_cell_guid": "ac9ab944-b49a-4e6a-9d5e-ab9062673483",
        "_uuid": "934f1e8c-35a4-496c-84e5-ed44290b70fc",
        "execution": {
          "iopub.execute_input": "2022-06-13T12:23:15.539671Z",
          "iopub.status.busy": "2022-06-13T12:23:15.539248Z",
          "iopub.status.idle": "2022-06-13T12:23:15.552993Z",
          "shell.execute_reply": "2022-06-13T12:23:15.551816Z",
          "shell.execute_reply.started": "2022-06-13T12:23:15.539629Z"
        },
        "id": "nBWqAAifzfs9",
        "jupyter": {
          "outputs_hidden": false
        },
        "outputId": "77aa3d51-5c9a-4a31-a9c1-1798515894a8",
        "trusted": true
      },
      "outputs": [
        {
          "data": {
            "text/html": [
              "<div>\n",
              "<style scoped>\n",
              "    .dataframe tbody tr th:only-of-type {\n",
              "        vertical-align: middle;\n",
              "    }\n",
              "\n",
              "    .dataframe tbody tr th {\n",
              "        vertical-align: top;\n",
              "    }\n",
              "\n",
              "    .dataframe thead th {\n",
              "        text-align: right;\n",
              "    }\n",
              "</style>\n",
              "<table border=\"1\" class=\"dataframe\">\n",
              "  <thead>\n",
              "    <tr style=\"text-align: right;\">\n",
              "      <th></th>\n",
              "      <th>session_id</th>\n",
              "      <th>code</th>\n",
              "      <th>score</th>\n",
              "      <th>rank</th>\n",
              "    </tr>\n",
              "  </thead>\n",
              "  <tbody>\n",
              "  </tbody>\n",
              "</table>\n",
              "</div>"
            ],
            "text/plain": [
              "Empty DataFrame\n",
              "Columns: [session_id, code, score, rank]\n",
              "Index: []"
            ]
          },
          "execution_count": 33,
          "metadata": {},
          "output_type": "execute_result"
        }
      ],
      "source": [
        "submission_df = pd.DataFrame(\n",
        "    {\n",
        "        'session_id':[],\n",
        "        'code':[],\n",
        "        'score':[],\n",
        "        'rank':[]\n",
        "    }\n",
        ")\n",
        "\n",
        "submission_df.head()"
      ]
    },
    {
      "cell_type": "code",
      "execution_count": null,
      "metadata": {
        "_cell_guid": "7d33e969-021a-4982-9b44-e14e5476ccd6",
        "_uuid": "e8d60778-3b0d-4c63-8c30-885b772118c4",
        "execution": {
          "iopub.execute_input": "2022-06-13T12:23:15.558079Z",
          "iopub.status.busy": "2022-06-13T12:23:15.555764Z",
          "iopub.status.idle": "2022-06-13T12:23:15.570976Z",
          "shell.execute_reply": "2022-06-13T12:23:15.569526Z",
          "shell.execute_reply.started": "2022-06-13T12:23:15.558033Z"
        },
        "id": "TuZJwnvXzfs9",
        "jupyter": {
          "outputs_hidden": false
        },
        "trusted": true
      },
      "outputs": [],
      "source": [
        "candidates=np.unique(y_last_month) # this is for the test month"
      ]
    },
    {
      "cell_type": "code",
      "execution_count": null,
      "metadata": {
        "_cell_guid": "4abd4ae2-3853-452b-89fd-21a3ba1504a7",
        "_uuid": "b8f61d48-2d18-4e53-ac7d-fbb74b49964a",
        "execution": {
          "iopub.execute_input": "2022-06-13T12:23:15.57294Z",
          "iopub.status.busy": "2022-06-13T12:23:15.572365Z",
          "iopub.status.idle": "2022-06-13T12:23:15.582173Z",
          "shell.execute_reply": "2022-06-13T12:23:15.581028Z",
          "shell.execute_reply.started": "2022-06-13T12:23:15.572893Z"
        },
        "id": "a_uakPEbWZeW",
        "jupyter": {
          "outputs_hidden": false
        },
        "outputId": "9925aa6b-755a-47b6-865c-d8e74b8704fd",
        "trusted": true
      },
      "outputs": [
        {
          "data": {
            "text/plain": [
              "array([  70,   99,  242,  500,  519,  554,  605,  806,  834,  872, 1183,\n",
              "       1281, 1368, 1382, 1428, 1440, 1463, 1465, 1605, 1609, 1671, 1727,\n",
              "       1790, 1794, 1813, 1972, 2037, 2202, 2276, 2347, 2376, 2381, 2450,\n",
              "       2483, 2498, 2620, 2638, 2694, 2696, 2725, 2906, 3094, 3186, 3287,\n",
              "       3460, 3539, 3732, 3815, 3833, 3879, 3885, 3949, 4138, 4167, 4170,\n",
              "       4385, 4436, 4451, 4503, 4542, 4579, 4681, 4694, 4726, 4913, 4942],\n",
              "      dtype=int64)"
            ]
          },
          "execution_count": 35,
          "metadata": {},
          "output_type": "execute_result"
        }
      ],
      "source": [
        "candidates"
      ]
    },
    {
      "cell_type": "code",
      "execution_count": null,
      "metadata": {
        "_cell_guid": "96366370-ba5d-4b43-95e7-c8727bed095a",
        "_uuid": "fa43b2cf-f8db-431f-a8ff-4f3d9f4fd889",
        "execution": {
          "iopub.execute_input": "2022-06-13T12:23:15.585083Z",
          "iopub.status.busy": "2022-06-13T12:23:15.583805Z",
          "iopub.status.idle": "2022-06-13T12:24:12.347352Z",
          "shell.execute_reply": "2022-06-13T12:24:12.346278Z",
          "shell.execute_reply.started": "2022-06-13T12:23:15.585035Z"
        },
        "id": "Od4bsrrSzfs9",
        "jupyter": {
          "outputs_hidden": false
        },
        "outputId": "d3a3903b-33d8-447f-8c65-47919de5c2db",
        "trusted": true
      },
      "outputs": [
        {
          "data": {
            "text/html": [
              "<div>\n",
              "<style scoped>\n",
              "    .dataframe tbody tr th:only-of-type {\n",
              "        vertical-align: middle;\n",
              "    }\n",
              "\n",
              "    .dataframe tbody tr th {\n",
              "        vertical-align: top;\n",
              "    }\n",
              "\n",
              "    .dataframe thead th {\n",
              "        text-align: right;\n",
              "    }\n",
              "</style>\n",
              "<table border=\"1\" class=\"dataframe\">\n",
              "  <thead>\n",
              "    <tr style=\"text-align: right;\">\n",
              "      <th></th>\n",
              "      <th>session_id</th>\n",
              "      <th>code</th>\n",
              "      <th>score</th>\n",
              "      <th>rank</th>\n",
              "    </tr>\n",
              "  </thead>\n",
              "  <tbody>\n",
              "    <tr>\n",
              "      <th>0</th>\n",
              "      <td>918743.0</td>\n",
              "      <td>(1609, 2276, 4167, 3879, 2694, 554, 1790, 1794...</td>\n",
              "      <td>(0.00048415796, 0.00028295998, 0.0001824627, 0...</td>\n",
              "      <td>(1, 2, 3, 4, 5, 6, 7, 8, 9, 10, 11, 12, 13, 14...</td>\n",
              "    </tr>\n",
              "    <tr>\n",
              "      <th>1</th>\n",
              "      <td>920476.0</td>\n",
              "      <td>(1609, 2276, 4167, 3879, 554, 2694, 1794, 3732...</td>\n",
              "      <td>(0.00053957273, 0.00023988076, 0.0001907269, 0...</td>\n",
              "      <td>(1, 2, 3, 4, 5, 6, 7, 8, 9, 10, 11, 12, 13, 14...</td>\n",
              "    </tr>\n",
              "    <tr>\n",
              "      <th>2</th>\n",
              "      <td>920582.0</td>\n",
              "      <td>(1609, 2276, 4167, 3879, 554, 2694, 1794, 3732...</td>\n",
              "      <td>(0.00054139504, 0.00024285277, 0.00018871212, ...</td>\n",
              "      <td>(1, 2, 3, 4, 5, 6, 7, 8, 9, 10, 11, 12, 13, 14...</td>\n",
              "    </tr>\n",
              "    <tr>\n",
              "      <th>3</th>\n",
              "      <td>920773.0</td>\n",
              "      <td>(1609, 2276, 4167, 3879, 2694, 554, 1794, 4942...</td>\n",
              "      <td>(0.00050465367, 0.00024024707, 0.00018257722, ...</td>\n",
              "      <td>(1, 2, 3, 4, 5, 6, 7, 8, 9, 10, 11, 12, 13, 14...</td>\n",
              "    </tr>\n",
              "    <tr>\n",
              "      <th>4</th>\n",
              "      <td>922491.0</td>\n",
              "      <td>(1609, 2276, 4167, 3879, 2694, 554, 1790, 1794...</td>\n",
              "      <td>(0.0005144957, 0.00028004654, 0.00018156112, 0...</td>\n",
              "      <td>(1, 2, 3, 4, 5, 6, 7, 8, 9, 10, 11, 12, 13, 14...</td>\n",
              "    </tr>\n",
              "  </tbody>\n",
              "</table>\n",
              "</div>"
            ],
            "text/plain": [
              "   session_id                                               code  \\\n",
              "0    918743.0  (1609, 2276, 4167, 3879, 2694, 554, 1790, 1794...   \n",
              "1    920476.0  (1609, 2276, 4167, 3879, 554, 2694, 1794, 3732...   \n",
              "2    920582.0  (1609, 2276, 4167, 3879, 554, 2694, 1794, 3732...   \n",
              "3    920773.0  (1609, 2276, 4167, 3879, 2694, 554, 1794, 4942...   \n",
              "4    922491.0  (1609, 2276, 4167, 3879, 2694, 554, 1790, 1794...   \n",
              "\n",
              "                                               score  \\\n",
              "0  (0.00048415796, 0.00028295998, 0.0001824627, 0...   \n",
              "1  (0.00053957273, 0.00023988076, 0.0001907269, 0...   \n",
              "2  (0.00054139504, 0.00024285277, 0.00018871212, ...   \n",
              "3  (0.00050465367, 0.00024024707, 0.00018257722, ...   \n",
              "4  (0.0005144957, 0.00028004654, 0.00018156112, 0...   \n",
              "\n",
              "                                                rank  \n",
              "0  (1, 2, 3, 4, 5, 6, 7, 8, 9, 10, 11, 12, 13, 14...  \n",
              "1  (1, 2, 3, 4, 5, 6, 7, 8, 9, 10, 11, 12, 13, 14...  \n",
              "2  (1, 2, 3, 4, 5, 6, 7, 8, 9, 10, 11, 12, 13, 14...  \n",
              "3  (1, 2, 3, 4, 5, 6, 7, 8, 9, 10, 11, 12, 13, 14...  \n",
              "4  (1, 2, 3, 4, 5, 6, 7, 8, 9, 10, 11, 12, 13, 14...  "
            ]
          },
          "execution_count": 36,
          "metadata": {},
          "output_type": "execute_result"
        }
      ],
      "source": [
        "for session_ids, sessions in submission_set:\n",
        "    predicted_scores=model_for_training(sessions)[0].numpy()\n",
        "    mask = np.ones(predicted_scores.shape[1], dtype=bool)\n",
        "    mask[candidates] = False\n",
        "    predicted_scores[...,mask]=-np.inf\n",
        "    predicted_scores=tf.convert_to_tensor(predicted_scores)\n",
        "    preds=tf.math.top_k(predicted_scores, k=100)\n",
        "    scores=preds.values.numpy()\n",
        "    code = preds.indices.numpy()\n",
        "    prediction = pd.DataFrame(\n",
        "        {\n",
        "            'session_id':session_ids,\n",
        "            'code':[tuple(v) for v in code],\n",
        "            'score':[tuple(v) for v in scores],\n",
        "            'rank':[tuple([rank for rank in range(1, 101)]) for id in session_ids]\n",
        "        }\n",
        "        )\n",
        "\n",
        "    submission_df = pd.concat([submission_df, prediction])\n",
        "\n",
        "submission_df.head()"
      ]
    },
    {
      "cell_type": "code",
      "execution_count": null,
      "metadata": {
        "_cell_guid": "a2ac08f7-02b3-4cda-a4df-ebc63d2bca4a",
        "_uuid": "5bd07fa9-b602-450e-a7d8-6622458e219a",
        "execution": {
          "iopub.execute_input": "2022-06-13T12:24:12.349459Z",
          "iopub.status.busy": "2022-06-13T12:24:12.348919Z",
          "iopub.status.idle": "2022-06-13T12:24:30.352783Z",
          "shell.execute_reply": "2022-06-13T12:24:30.350521Z",
          "shell.execute_reply.started": "2022-06-13T12:24:12.349414Z"
        },
        "id": "IOOPYCfp0dfE",
        "jupyter": {
          "outputs_hidden": false
        },
        "trusted": true
      },
      "outputs": [],
      "source": [
        "submission_df.to_csv(\n",
        "    './dataset/candidates/NN/Transformer/train/candidates.csv',\n",
        "    index=False\n",
        "    )"
      ]
    }
  ],
  "metadata": {
    "kernelspec": {
      "display_name": "Python 3",
      "name": "python3"
    },
    "language_info": {
      "codemirror_mode": {
        "name": "ipython",
        "version": 3
      },
      "file_extension": ".py",
      "mimetype": "text/x-python",
      "name": "python",
      "nbconvert_exporter": "python",
      "pygments_lexer": "ipython3",
      "version": "3.7.13"
    },
    "vscode": {
      "interpreter": {
        "hash": "61f38fddaed46afda7c40a5798d4631266e18af1d335aa6f772dc3ed9b8ab549"
      }
    },
    "colab": {
      "provenance": [],
      "gpuType": "T4",
      "include_colab_link": true
    },
    "accelerator": "GPU",
    "widgets": {
      "application/vnd.jupyter.widget-state+json": {
        "7dbf55ccdbcc4141a96c90988a984852": {
          "model_module": "@jupyter-widgets/controls",
          "model_name": "HBoxModel",
          "model_module_version": "1.5.0",
          "state": {
            "_dom_classes": [],
            "_model_module": "@jupyter-widgets/controls",
            "_model_module_version": "1.5.0",
            "_model_name": "HBoxModel",
            "_view_count": null,
            "_view_module": "@jupyter-widgets/controls",
            "_view_module_version": "1.5.0",
            "_view_name": "HBoxView",
            "box_style": "",
            "children": [
              "IPY_MODEL_989cabae9e5f42f9a3f82a9fcd2eab55",
              "IPY_MODEL_dc01cfaeb40b4b47bc8fed4c8924f06c",
              "IPY_MODEL_005b234ac4bf40b28def3c4876169af1"
            ],
            "layout": "IPY_MODEL_e3aed164ce0d449c9a48ef42dfabce8c"
          }
        },
        "989cabae9e5f42f9a3f82a9fcd2eab55": {
          "model_module": "@jupyter-widgets/controls",
          "model_name": "HTMLModel",
          "model_module_version": "1.5.0",
          "state": {
            "_dom_classes": [],
            "_model_module": "@jupyter-widgets/controls",
            "_model_module_version": "1.5.0",
            "_model_name": "HTMLModel",
            "_view_count": null,
            "_view_module": "@jupyter-widgets/controls",
            "_view_module_version": "1.5.0",
            "_view_name": "HTMLView",
            "description": "",
            "description_tooltip": null,
            "layout": "IPY_MODEL_ac0d7128e3f14008a782b7dd62f923d4",
            "placeholder": "​",
            "style": "IPY_MODEL_addf9a87f95049d7a98655f1c70f19f4",
            "value": "100%"
          }
        },
        "dc01cfaeb40b4b47bc8fed4c8924f06c": {
          "model_module": "@jupyter-widgets/controls",
          "model_name": "FloatProgressModel",
          "model_module_version": "1.5.0",
          "state": {
            "_dom_classes": [],
            "_model_module": "@jupyter-widgets/controls",
            "_model_module_version": "1.5.0",
            "_model_name": "FloatProgressModel",
            "_view_count": null,
            "_view_module": "@jupyter-widgets/controls",
            "_view_module_version": "1.5.0",
            "_view_name": "ProgressView",
            "bar_style": "success",
            "description": "",
            "description_tooltip": null,
            "layout": "IPY_MODEL_4c41a332040f428bbe364f037d08a505",
            "max": 1000000,
            "min": 0,
            "orientation": "horizontal",
            "style": "IPY_MODEL_c1c3712d4e6249548ded109b23f5c000",
            "value": 1000000
          }
        },
        "005b234ac4bf40b28def3c4876169af1": {
          "model_module": "@jupyter-widgets/controls",
          "model_name": "HTMLModel",
          "model_module_version": "1.5.0",
          "state": {
            "_dom_classes": [],
            "_model_module": "@jupyter-widgets/controls",
            "_model_module_version": "1.5.0",
            "_model_name": "HTMLModel",
            "_view_count": null,
            "_view_module": "@jupyter-widgets/controls",
            "_view_module_version": "1.5.0",
            "_view_name": "HTMLView",
            "description": "",
            "description_tooltip": null,
            "layout": "IPY_MODEL_d16c8b8cdc7345c7b8b76bbe1fd90a3d",
            "placeholder": "​",
            "style": "IPY_MODEL_a82eb927108a4b779538844dd08a4607",
            "value": " 1000000/1000000 [00:03&lt;00:00, 421603.21it/s]"
          }
        },
        "e3aed164ce0d449c9a48ef42dfabce8c": {
          "model_module": "@jupyter-widgets/base",
          "model_name": "LayoutModel",
          "model_module_version": "1.2.0",
          "state": {
            "_model_module": "@jupyter-widgets/base",
            "_model_module_version": "1.2.0",
            "_model_name": "LayoutModel",
            "_view_count": null,
            "_view_module": "@jupyter-widgets/base",
            "_view_module_version": "1.2.0",
            "_view_name": "LayoutView",
            "align_content": null,
            "align_items": null,
            "align_self": null,
            "border": null,
            "bottom": null,
            "display": null,
            "flex": null,
            "flex_flow": null,
            "grid_area": null,
            "grid_auto_columns": null,
            "grid_auto_flow": null,
            "grid_auto_rows": null,
            "grid_column": null,
            "grid_gap": null,
            "grid_row": null,
            "grid_template_areas": null,
            "grid_template_columns": null,
            "grid_template_rows": null,
            "height": null,
            "justify_content": null,
            "justify_items": null,
            "left": null,
            "margin": null,
            "max_height": null,
            "max_width": null,
            "min_height": null,
            "min_width": null,
            "object_fit": null,
            "object_position": null,
            "order": null,
            "overflow": null,
            "overflow_x": null,
            "overflow_y": null,
            "padding": null,
            "right": null,
            "top": null,
            "visibility": null,
            "width": null
          }
        },
        "ac0d7128e3f14008a782b7dd62f923d4": {
          "model_module": "@jupyter-widgets/base",
          "model_name": "LayoutModel",
          "model_module_version": "1.2.0",
          "state": {
            "_model_module": "@jupyter-widgets/base",
            "_model_module_version": "1.2.0",
            "_model_name": "LayoutModel",
            "_view_count": null,
            "_view_module": "@jupyter-widgets/base",
            "_view_module_version": "1.2.0",
            "_view_name": "LayoutView",
            "align_content": null,
            "align_items": null,
            "align_self": null,
            "border": null,
            "bottom": null,
            "display": null,
            "flex": null,
            "flex_flow": null,
            "grid_area": null,
            "grid_auto_columns": null,
            "grid_auto_flow": null,
            "grid_auto_rows": null,
            "grid_column": null,
            "grid_gap": null,
            "grid_row": null,
            "grid_template_areas": null,
            "grid_template_columns": null,
            "grid_template_rows": null,
            "height": null,
            "justify_content": null,
            "justify_items": null,
            "left": null,
            "margin": null,
            "max_height": null,
            "max_width": null,
            "min_height": null,
            "min_width": null,
            "object_fit": null,
            "object_position": null,
            "order": null,
            "overflow": null,
            "overflow_x": null,
            "overflow_y": null,
            "padding": null,
            "right": null,
            "top": null,
            "visibility": null,
            "width": null
          }
        },
        "addf9a87f95049d7a98655f1c70f19f4": {
          "model_module": "@jupyter-widgets/controls",
          "model_name": "DescriptionStyleModel",
          "model_module_version": "1.5.0",
          "state": {
            "_model_module": "@jupyter-widgets/controls",
            "_model_module_version": "1.5.0",
            "_model_name": "DescriptionStyleModel",
            "_view_count": null,
            "_view_module": "@jupyter-widgets/base",
            "_view_module_version": "1.2.0",
            "_view_name": "StyleView",
            "description_width": ""
          }
        },
        "4c41a332040f428bbe364f037d08a505": {
          "model_module": "@jupyter-widgets/base",
          "model_name": "LayoutModel",
          "model_module_version": "1.2.0",
          "state": {
            "_model_module": "@jupyter-widgets/base",
            "_model_module_version": "1.2.0",
            "_model_name": "LayoutModel",
            "_view_count": null,
            "_view_module": "@jupyter-widgets/base",
            "_view_module_version": "1.2.0",
            "_view_name": "LayoutView",
            "align_content": null,
            "align_items": null,
            "align_self": null,
            "border": null,
            "bottom": null,
            "display": null,
            "flex": null,
            "flex_flow": null,
            "grid_area": null,
            "grid_auto_columns": null,
            "grid_auto_flow": null,
            "grid_auto_rows": null,
            "grid_column": null,
            "grid_gap": null,
            "grid_row": null,
            "grid_template_areas": null,
            "grid_template_columns": null,
            "grid_template_rows": null,
            "height": null,
            "justify_content": null,
            "justify_items": null,
            "left": null,
            "margin": null,
            "max_height": null,
            "max_width": null,
            "min_height": null,
            "min_width": null,
            "object_fit": null,
            "object_position": null,
            "order": null,
            "overflow": null,
            "overflow_x": null,
            "overflow_y": null,
            "padding": null,
            "right": null,
            "top": null,
            "visibility": null,
            "width": null
          }
        },
        "c1c3712d4e6249548ded109b23f5c000": {
          "model_module": "@jupyter-widgets/controls",
          "model_name": "ProgressStyleModel",
          "model_module_version": "1.5.0",
          "state": {
            "_model_module": "@jupyter-widgets/controls",
            "_model_module_version": "1.5.0",
            "_model_name": "ProgressStyleModel",
            "_view_count": null,
            "_view_module": "@jupyter-widgets/base",
            "_view_module_version": "1.2.0",
            "_view_name": "StyleView",
            "bar_color": null,
            "description_width": ""
          }
        },
        "d16c8b8cdc7345c7b8b76bbe1fd90a3d": {
          "model_module": "@jupyter-widgets/base",
          "model_name": "LayoutModel",
          "model_module_version": "1.2.0",
          "state": {
            "_model_module": "@jupyter-widgets/base",
            "_model_module_version": "1.2.0",
            "_model_name": "LayoutModel",
            "_view_count": null,
            "_view_module": "@jupyter-widgets/base",
            "_view_module_version": "1.2.0",
            "_view_name": "LayoutView",
            "align_content": null,
            "align_items": null,
            "align_self": null,
            "border": null,
            "bottom": null,
            "display": null,
            "flex": null,
            "flex_flow": null,
            "grid_area": null,
            "grid_auto_columns": null,
            "grid_auto_flow": null,
            "grid_auto_rows": null,
            "grid_column": null,
            "grid_gap": null,
            "grid_row": null,
            "grid_template_areas": null,
            "grid_template_columns": null,
            "grid_template_rows": null,
            "height": null,
            "justify_content": null,
            "justify_items": null,
            "left": null,
            "margin": null,
            "max_height": null,
            "max_width": null,
            "min_height": null,
            "min_width": null,
            "object_fit": null,
            "object_position": null,
            "order": null,
            "overflow": null,
            "overflow_x": null,
            "overflow_y": null,
            "padding": null,
            "right": null,
            "top": null,
            "visibility": null,
            "width": null
          }
        },
        "a82eb927108a4b779538844dd08a4607": {
          "model_module": "@jupyter-widgets/controls",
          "model_name": "DescriptionStyleModel",
          "model_module_version": "1.5.0",
          "state": {
            "_model_module": "@jupyter-widgets/controls",
            "_model_module_version": "1.5.0",
            "_model_name": "DescriptionStyleModel",
            "_view_count": null,
            "_view_module": "@jupyter-widgets/base",
            "_view_module_version": "1.2.0",
            "_view_name": "StyleView",
            "description_width": ""
          }
        },
        "06e51be752e8407899366ebb4cee64a4": {
          "model_module": "@jupyter-widgets/controls",
          "model_name": "HBoxModel",
          "model_module_version": "1.5.0",
          "state": {
            "_dom_classes": [],
            "_model_module": "@jupyter-widgets/controls",
            "_model_module_version": "1.5.0",
            "_model_name": "HBoxModel",
            "_view_count": null,
            "_view_module": "@jupyter-widgets/controls",
            "_view_module_version": "1.5.0",
            "_view_name": "HBoxView",
            "box_style": "",
            "children": [
              "IPY_MODEL_9a166b2ce7a041d3b4eaca400756dde9",
              "IPY_MODEL_8fa0c2fd62ff46cab9ac0942d231f546",
              "IPY_MODEL_cf8526d61ef44b72be764111fc860d1c"
            ],
            "layout": "IPY_MODEL_1ffd0e2482ca4c90a92485af9565adb5"
          }
        },
        "9a166b2ce7a041d3b4eaca400756dde9": {
          "model_module": "@jupyter-widgets/controls",
          "model_name": "HTMLModel",
          "model_module_version": "1.5.0",
          "state": {
            "_dom_classes": [],
            "_model_module": "@jupyter-widgets/controls",
            "_model_module_version": "1.5.0",
            "_model_name": "HTMLModel",
            "_view_count": null,
            "_view_module": "@jupyter-widgets/controls",
            "_view_module_version": "1.5.0",
            "_view_name": "HTMLView",
            "description": "",
            "description_tooltip": null,
            "layout": "IPY_MODEL_1658d29809df432aabecb48970bd7c36",
            "placeholder": "​",
            "style": "IPY_MODEL_77a6057e829c47ba881b45470f901c22",
            "value": "100%"
          }
        },
        "8fa0c2fd62ff46cab9ac0942d231f546": {
          "model_module": "@jupyter-widgets/controls",
          "model_name": "FloatProgressModel",
          "model_module_version": "1.5.0",
          "state": {
            "_dom_classes": [],
            "_model_module": "@jupyter-widgets/controls",
            "_model_module_version": "1.5.0",
            "_model_name": "FloatProgressModel",
            "_view_count": null,
            "_view_module": "@jupyter-widgets/controls",
            "_view_module_version": "1.5.0",
            "_view_name": "ProgressView",
            "bar_style": "success",
            "description": "",
            "description_tooltip": null,
            "layout": "IPY_MODEL_6fb4224debd945f7b8581dbcc5d5f2cf",
            "max": 1000000,
            "min": 0,
            "orientation": "horizontal",
            "style": "IPY_MODEL_23bd9f6c4a7a45c287945f96cbe5b3c9",
            "value": 1000000
          }
        },
        "cf8526d61ef44b72be764111fc860d1c": {
          "model_module": "@jupyter-widgets/controls",
          "model_name": "HTMLModel",
          "model_module_version": "1.5.0",
          "state": {
            "_dom_classes": [],
            "_model_module": "@jupyter-widgets/controls",
            "_model_module_version": "1.5.0",
            "_model_name": "HTMLModel",
            "_view_count": null,
            "_view_module": "@jupyter-widgets/controls",
            "_view_module_version": "1.5.0",
            "_view_name": "HTMLView",
            "description": "",
            "description_tooltip": null,
            "layout": "IPY_MODEL_f6227bcaf5044d779018dec617be43bb",
            "placeholder": "​",
            "style": "IPY_MODEL_0eba65afc471411db90d4fd60a431a33",
            "value": " 1000000/1000000 [00:03&lt;00:00, 446224.99it/s]"
          }
        },
        "1ffd0e2482ca4c90a92485af9565adb5": {
          "model_module": "@jupyter-widgets/base",
          "model_name": "LayoutModel",
          "model_module_version": "1.2.0",
          "state": {
            "_model_module": "@jupyter-widgets/base",
            "_model_module_version": "1.2.0",
            "_model_name": "LayoutModel",
            "_view_count": null,
            "_view_module": "@jupyter-widgets/base",
            "_view_module_version": "1.2.0",
            "_view_name": "LayoutView",
            "align_content": null,
            "align_items": null,
            "align_self": null,
            "border": null,
            "bottom": null,
            "display": null,
            "flex": null,
            "flex_flow": null,
            "grid_area": null,
            "grid_auto_columns": null,
            "grid_auto_flow": null,
            "grid_auto_rows": null,
            "grid_column": null,
            "grid_gap": null,
            "grid_row": null,
            "grid_template_areas": null,
            "grid_template_columns": null,
            "grid_template_rows": null,
            "height": null,
            "justify_content": null,
            "justify_items": null,
            "left": null,
            "margin": null,
            "max_height": null,
            "max_width": null,
            "min_height": null,
            "min_width": null,
            "object_fit": null,
            "object_position": null,
            "order": null,
            "overflow": null,
            "overflow_x": null,
            "overflow_y": null,
            "padding": null,
            "right": null,
            "top": null,
            "visibility": null,
            "width": null
          }
        },
        "1658d29809df432aabecb48970bd7c36": {
          "model_module": "@jupyter-widgets/base",
          "model_name": "LayoutModel",
          "model_module_version": "1.2.0",
          "state": {
            "_model_module": "@jupyter-widgets/base",
            "_model_module_version": "1.2.0",
            "_model_name": "LayoutModel",
            "_view_count": null,
            "_view_module": "@jupyter-widgets/base",
            "_view_module_version": "1.2.0",
            "_view_name": "LayoutView",
            "align_content": null,
            "align_items": null,
            "align_self": null,
            "border": null,
            "bottom": null,
            "display": null,
            "flex": null,
            "flex_flow": null,
            "grid_area": null,
            "grid_auto_columns": null,
            "grid_auto_flow": null,
            "grid_auto_rows": null,
            "grid_column": null,
            "grid_gap": null,
            "grid_row": null,
            "grid_template_areas": null,
            "grid_template_columns": null,
            "grid_template_rows": null,
            "height": null,
            "justify_content": null,
            "justify_items": null,
            "left": null,
            "margin": null,
            "max_height": null,
            "max_width": null,
            "min_height": null,
            "min_width": null,
            "object_fit": null,
            "object_position": null,
            "order": null,
            "overflow": null,
            "overflow_x": null,
            "overflow_y": null,
            "padding": null,
            "right": null,
            "top": null,
            "visibility": null,
            "width": null
          }
        },
        "77a6057e829c47ba881b45470f901c22": {
          "model_module": "@jupyter-widgets/controls",
          "model_name": "DescriptionStyleModel",
          "model_module_version": "1.5.0",
          "state": {
            "_model_module": "@jupyter-widgets/controls",
            "_model_module_version": "1.5.0",
            "_model_name": "DescriptionStyleModel",
            "_view_count": null,
            "_view_module": "@jupyter-widgets/base",
            "_view_module_version": "1.2.0",
            "_view_name": "StyleView",
            "description_width": ""
          }
        },
        "6fb4224debd945f7b8581dbcc5d5f2cf": {
          "model_module": "@jupyter-widgets/base",
          "model_name": "LayoutModel",
          "model_module_version": "1.2.0",
          "state": {
            "_model_module": "@jupyter-widgets/base",
            "_model_module_version": "1.2.0",
            "_model_name": "LayoutModel",
            "_view_count": null,
            "_view_module": "@jupyter-widgets/base",
            "_view_module_version": "1.2.0",
            "_view_name": "LayoutView",
            "align_content": null,
            "align_items": null,
            "align_self": null,
            "border": null,
            "bottom": null,
            "display": null,
            "flex": null,
            "flex_flow": null,
            "grid_area": null,
            "grid_auto_columns": null,
            "grid_auto_flow": null,
            "grid_auto_rows": null,
            "grid_column": null,
            "grid_gap": null,
            "grid_row": null,
            "grid_template_areas": null,
            "grid_template_columns": null,
            "grid_template_rows": null,
            "height": null,
            "justify_content": null,
            "justify_items": null,
            "left": null,
            "margin": null,
            "max_height": null,
            "max_width": null,
            "min_height": null,
            "min_width": null,
            "object_fit": null,
            "object_position": null,
            "order": null,
            "overflow": null,
            "overflow_x": null,
            "overflow_y": null,
            "padding": null,
            "right": null,
            "top": null,
            "visibility": null,
            "width": null
          }
        },
        "23bd9f6c4a7a45c287945f96cbe5b3c9": {
          "model_module": "@jupyter-widgets/controls",
          "model_name": "ProgressStyleModel",
          "model_module_version": "1.5.0",
          "state": {
            "_model_module": "@jupyter-widgets/controls",
            "_model_module_version": "1.5.0",
            "_model_name": "ProgressStyleModel",
            "_view_count": null,
            "_view_module": "@jupyter-widgets/base",
            "_view_module_version": "1.2.0",
            "_view_name": "StyleView",
            "bar_color": null,
            "description_width": ""
          }
        },
        "f6227bcaf5044d779018dec617be43bb": {
          "model_module": "@jupyter-widgets/base",
          "model_name": "LayoutModel",
          "model_module_version": "1.2.0",
          "state": {
            "_model_module": "@jupyter-widgets/base",
            "_model_module_version": "1.2.0",
            "_model_name": "LayoutModel",
            "_view_count": null,
            "_view_module": "@jupyter-widgets/base",
            "_view_module_version": "1.2.0",
            "_view_name": "LayoutView",
            "align_content": null,
            "align_items": null,
            "align_self": null,
            "border": null,
            "bottom": null,
            "display": null,
            "flex": null,
            "flex_flow": null,
            "grid_area": null,
            "grid_auto_columns": null,
            "grid_auto_flow": null,
            "grid_auto_rows": null,
            "grid_column": null,
            "grid_gap": null,
            "grid_row": null,
            "grid_template_areas": null,
            "grid_template_columns": null,
            "grid_template_rows": null,
            "height": null,
            "justify_content": null,
            "justify_items": null,
            "left": null,
            "margin": null,
            "max_height": null,
            "max_width": null,
            "min_height": null,
            "min_width": null,
            "object_fit": null,
            "object_position": null,
            "order": null,
            "overflow": null,
            "overflow_x": null,
            "overflow_y": null,
            "padding": null,
            "right": null,
            "top": null,
            "visibility": null,
            "width": null
          }
        },
        "0eba65afc471411db90d4fd60a431a33": {
          "model_module": "@jupyter-widgets/controls",
          "model_name": "DescriptionStyleModel",
          "model_module_version": "1.5.0",
          "state": {
            "_model_module": "@jupyter-widgets/controls",
            "_model_module_version": "1.5.0",
            "_model_name": "DescriptionStyleModel",
            "_view_count": null,
            "_view_module": "@jupyter-widgets/base",
            "_view_module_version": "1.2.0",
            "_view_name": "StyleView",
            "description_width": ""
          }
        },
        "983e9c0eb20645a48ba25ff8144c07cc": {
          "model_module": "@jupyter-widgets/controls",
          "model_name": "HBoxModel",
          "model_module_version": "1.5.0",
          "state": {
            "_dom_classes": [],
            "_model_module": "@jupyter-widgets/controls",
            "_model_module_version": "1.5.0",
            "_model_name": "HBoxModel",
            "_view_count": null,
            "_view_module": "@jupyter-widgets/controls",
            "_view_module_version": "1.5.0",
            "_view_name": "HBoxView",
            "box_style": "",
            "children": [
              "IPY_MODEL_02489088f4634c2090dcad17e5d8e9a1",
              "IPY_MODEL_573c2a108b5b410c8b0a67795ed18d1b",
              "IPY_MODEL_1af4c49ba6714fd68a2c7a62c893c7ad"
            ],
            "layout": "IPY_MODEL_b89433423a7b4e6cb20ccdec11c20ce2"
          }
        },
        "02489088f4634c2090dcad17e5d8e9a1": {
          "model_module": "@jupyter-widgets/controls",
          "model_name": "HTMLModel",
          "model_module_version": "1.5.0",
          "state": {
            "_dom_classes": [],
            "_model_module": "@jupyter-widgets/controls",
            "_model_module_version": "1.5.0",
            "_model_name": "HTMLModel",
            "_view_count": null,
            "_view_module": "@jupyter-widgets/controls",
            "_view_module_version": "1.5.0",
            "_view_name": "HTMLView",
            "description": "",
            "description_tooltip": null,
            "layout": "IPY_MODEL_af6126b5c75a40c6b70f7827c76deb87",
            "placeholder": "​",
            "style": "IPY_MODEL_ae33426bf4574a89acc53dc4e8a5040c",
            "value": "100%"
          }
        },
        "573c2a108b5b410c8b0a67795ed18d1b": {
          "model_module": "@jupyter-widgets/controls",
          "model_name": "FloatProgressModel",
          "model_module_version": "1.5.0",
          "state": {
            "_dom_classes": [],
            "_model_module": "@jupyter-widgets/controls",
            "_model_module_version": "1.5.0",
            "_model_name": "FloatProgressModel",
            "_view_count": null,
            "_view_module": "@jupyter-widgets/controls",
            "_view_module_version": "1.5.0",
            "_view_name": "ProgressView",
            "bar_style": "success",
            "description": "",
            "description_tooltip": null,
            "layout": "IPY_MODEL_03816232dd294cdebd422553d327573f",
            "max": 1000000,
            "min": 0,
            "orientation": "horizontal",
            "style": "IPY_MODEL_d927abfd4fd442388a14d1fc8fabf5da",
            "value": 1000000
          }
        },
        "1af4c49ba6714fd68a2c7a62c893c7ad": {
          "model_module": "@jupyter-widgets/controls",
          "model_name": "HTMLModel",
          "model_module_version": "1.5.0",
          "state": {
            "_dom_classes": [],
            "_model_module": "@jupyter-widgets/controls",
            "_model_module_version": "1.5.0",
            "_model_name": "HTMLModel",
            "_view_count": null,
            "_view_module": "@jupyter-widgets/controls",
            "_view_module_version": "1.5.0",
            "_view_name": "HTMLView",
            "description": "",
            "description_tooltip": null,
            "layout": "IPY_MODEL_4125c75f76c9408faccd983fbf9f0755",
            "placeholder": "​",
            "style": "IPY_MODEL_f548c24b6ca9473b9d1dbcc492123d61",
            "value": " 1000000/1000000 [00:31&lt;00:00, 33023.47it/s]"
          }
        },
        "b89433423a7b4e6cb20ccdec11c20ce2": {
          "model_module": "@jupyter-widgets/base",
          "model_name": "LayoutModel",
          "model_module_version": "1.2.0",
          "state": {
            "_model_module": "@jupyter-widgets/base",
            "_model_module_version": "1.2.0",
            "_model_name": "LayoutModel",
            "_view_count": null,
            "_view_module": "@jupyter-widgets/base",
            "_view_module_version": "1.2.0",
            "_view_name": "LayoutView",
            "align_content": null,
            "align_items": null,
            "align_self": null,
            "border": null,
            "bottom": null,
            "display": null,
            "flex": null,
            "flex_flow": null,
            "grid_area": null,
            "grid_auto_columns": null,
            "grid_auto_flow": null,
            "grid_auto_rows": null,
            "grid_column": null,
            "grid_gap": null,
            "grid_row": null,
            "grid_template_areas": null,
            "grid_template_columns": null,
            "grid_template_rows": null,
            "height": null,
            "justify_content": null,
            "justify_items": null,
            "left": null,
            "margin": null,
            "max_height": null,
            "max_width": null,
            "min_height": null,
            "min_width": null,
            "object_fit": null,
            "object_position": null,
            "order": null,
            "overflow": null,
            "overflow_x": null,
            "overflow_y": null,
            "padding": null,
            "right": null,
            "top": null,
            "visibility": null,
            "width": null
          }
        },
        "af6126b5c75a40c6b70f7827c76deb87": {
          "model_module": "@jupyter-widgets/base",
          "model_name": "LayoutModel",
          "model_module_version": "1.2.0",
          "state": {
            "_model_module": "@jupyter-widgets/base",
            "_model_module_version": "1.2.0",
            "_model_name": "LayoutModel",
            "_view_count": null,
            "_view_module": "@jupyter-widgets/base",
            "_view_module_version": "1.2.0",
            "_view_name": "LayoutView",
            "align_content": null,
            "align_items": null,
            "align_self": null,
            "border": null,
            "bottom": null,
            "display": null,
            "flex": null,
            "flex_flow": null,
            "grid_area": null,
            "grid_auto_columns": null,
            "grid_auto_flow": null,
            "grid_auto_rows": null,
            "grid_column": null,
            "grid_gap": null,
            "grid_row": null,
            "grid_template_areas": null,
            "grid_template_columns": null,
            "grid_template_rows": null,
            "height": null,
            "justify_content": null,
            "justify_items": null,
            "left": null,
            "margin": null,
            "max_height": null,
            "max_width": null,
            "min_height": null,
            "min_width": null,
            "object_fit": null,
            "object_position": null,
            "order": null,
            "overflow": null,
            "overflow_x": null,
            "overflow_y": null,
            "padding": null,
            "right": null,
            "top": null,
            "visibility": null,
            "width": null
          }
        },
        "ae33426bf4574a89acc53dc4e8a5040c": {
          "model_module": "@jupyter-widgets/controls",
          "model_name": "DescriptionStyleModel",
          "model_module_version": "1.5.0",
          "state": {
            "_model_module": "@jupyter-widgets/controls",
            "_model_module_version": "1.5.0",
            "_model_name": "DescriptionStyleModel",
            "_view_count": null,
            "_view_module": "@jupyter-widgets/base",
            "_view_module_version": "1.2.0",
            "_view_name": "StyleView",
            "description_width": ""
          }
        },
        "03816232dd294cdebd422553d327573f": {
          "model_module": "@jupyter-widgets/base",
          "model_name": "LayoutModel",
          "model_module_version": "1.2.0",
          "state": {
            "_model_module": "@jupyter-widgets/base",
            "_model_module_version": "1.2.0",
            "_model_name": "LayoutModel",
            "_view_count": null,
            "_view_module": "@jupyter-widgets/base",
            "_view_module_version": "1.2.0",
            "_view_name": "LayoutView",
            "align_content": null,
            "align_items": null,
            "align_self": null,
            "border": null,
            "bottom": null,
            "display": null,
            "flex": null,
            "flex_flow": null,
            "grid_area": null,
            "grid_auto_columns": null,
            "grid_auto_flow": null,
            "grid_auto_rows": null,
            "grid_column": null,
            "grid_gap": null,
            "grid_row": null,
            "grid_template_areas": null,
            "grid_template_columns": null,
            "grid_template_rows": null,
            "height": null,
            "justify_content": null,
            "justify_items": null,
            "left": null,
            "margin": null,
            "max_height": null,
            "max_width": null,
            "min_height": null,
            "min_width": null,
            "object_fit": null,
            "object_position": null,
            "order": null,
            "overflow": null,
            "overflow_x": null,
            "overflow_y": null,
            "padding": null,
            "right": null,
            "top": null,
            "visibility": null,
            "width": null
          }
        },
        "d927abfd4fd442388a14d1fc8fabf5da": {
          "model_module": "@jupyter-widgets/controls",
          "model_name": "ProgressStyleModel",
          "model_module_version": "1.5.0",
          "state": {
            "_model_module": "@jupyter-widgets/controls",
            "_model_module_version": "1.5.0",
            "_model_name": "ProgressStyleModel",
            "_view_count": null,
            "_view_module": "@jupyter-widgets/base",
            "_view_module_version": "1.2.0",
            "_view_name": "StyleView",
            "bar_color": null,
            "description_width": ""
          }
        },
        "4125c75f76c9408faccd983fbf9f0755": {
          "model_module": "@jupyter-widgets/base",
          "model_name": "LayoutModel",
          "model_module_version": "1.2.0",
          "state": {
            "_model_module": "@jupyter-widgets/base",
            "_model_module_version": "1.2.0",
            "_model_name": "LayoutModel",
            "_view_count": null,
            "_view_module": "@jupyter-widgets/base",
            "_view_module_version": "1.2.0",
            "_view_name": "LayoutView",
            "align_content": null,
            "align_items": null,
            "align_self": null,
            "border": null,
            "bottom": null,
            "display": null,
            "flex": null,
            "flex_flow": null,
            "grid_area": null,
            "grid_auto_columns": null,
            "grid_auto_flow": null,
            "grid_auto_rows": null,
            "grid_column": null,
            "grid_gap": null,
            "grid_row": null,
            "grid_template_areas": null,
            "grid_template_columns": null,
            "grid_template_rows": null,
            "height": null,
            "justify_content": null,
            "justify_items": null,
            "left": null,
            "margin": null,
            "max_height": null,
            "max_width": null,
            "min_height": null,
            "min_width": null,
            "object_fit": null,
            "object_position": null,
            "order": null,
            "overflow": null,
            "overflow_x": null,
            "overflow_y": null,
            "padding": null,
            "right": null,
            "top": null,
            "visibility": null,
            "width": null
          }
        },
        "f548c24b6ca9473b9d1dbcc492123d61": {
          "model_module": "@jupyter-widgets/controls",
          "model_name": "DescriptionStyleModel",
          "model_module_version": "1.5.0",
          "state": {
            "_model_module": "@jupyter-widgets/controls",
            "_model_module_version": "1.5.0",
            "_model_name": "DescriptionStyleModel",
            "_view_count": null,
            "_view_module": "@jupyter-widgets/base",
            "_view_module_version": "1.2.0",
            "_view_name": "StyleView",
            "description_width": ""
          }
        },
        "aacf17517893423192be1c29bfb2a90a": {
          "model_module": "@jupyter-widgets/controls",
          "model_name": "HBoxModel",
          "model_module_version": "1.5.0",
          "state": {
            "_dom_classes": [],
            "_model_module": "@jupyter-widgets/controls",
            "_model_module_version": "1.5.0",
            "_model_name": "HBoxModel",
            "_view_count": null,
            "_view_module": "@jupyter-widgets/controls",
            "_view_module_version": "1.5.0",
            "_view_name": "HBoxView",
            "box_style": "",
            "children": [
              "IPY_MODEL_c8a9b09d10c9447f9808394783291c25",
              "IPY_MODEL_2a7940cc9e9c44dbae2bb73e4dcfeb1e",
              "IPY_MODEL_c8028948794041e5b627883901670026"
            ],
            "layout": "IPY_MODEL_8675e2d5192d44c691045b1f33f236e1"
          }
        },
        "c8a9b09d10c9447f9808394783291c25": {
          "model_module": "@jupyter-widgets/controls",
          "model_name": "HTMLModel",
          "model_module_version": "1.5.0",
          "state": {
            "_dom_classes": [],
            "_model_module": "@jupyter-widgets/controls",
            "_model_module_version": "1.5.0",
            "_model_name": "HTMLModel",
            "_view_count": null,
            "_view_module": "@jupyter-widgets/controls",
            "_view_module_version": "1.5.0",
            "_view_name": "HTMLView",
            "description": "",
            "description_tooltip": null,
            "layout": "IPY_MODEL_69956963696b4fe2bba01454a1ed8255",
            "placeholder": "​",
            "style": "IPY_MODEL_27cadd09994142349e63a065fc55aba2",
            "value": "100%"
          }
        },
        "2a7940cc9e9c44dbae2bb73e4dcfeb1e": {
          "model_module": "@jupyter-widgets/controls",
          "model_name": "FloatProgressModel",
          "model_module_version": "1.5.0",
          "state": {
            "_dom_classes": [],
            "_model_module": "@jupyter-widgets/controls",
            "_model_module_version": "1.5.0",
            "_model_name": "FloatProgressModel",
            "_view_count": null,
            "_view_module": "@jupyter-widgets/controls",
            "_view_module_version": "1.5.0",
            "_view_name": "ProgressView",
            "bar_style": "success",
            "description": "",
            "description_tooltip": null,
            "layout": "IPY_MODEL_7d3750b94e724a8c870f183d0f5153b3",
            "max": 1000000,
            "min": 0,
            "orientation": "horizontal",
            "style": "IPY_MODEL_93c8a8d776e949cb9bd607f77aefa047",
            "value": 1000000
          }
        },
        "c8028948794041e5b627883901670026": {
          "model_module": "@jupyter-widgets/controls",
          "model_name": "HTMLModel",
          "model_module_version": "1.5.0",
          "state": {
            "_dom_classes": [],
            "_model_module": "@jupyter-widgets/controls",
            "_model_module_version": "1.5.0",
            "_model_name": "HTMLModel",
            "_view_count": null,
            "_view_module": "@jupyter-widgets/controls",
            "_view_module_version": "1.5.0",
            "_view_name": "HTMLView",
            "description": "",
            "description_tooltip": null,
            "layout": "IPY_MODEL_0c70f31df63147f5979487a0d54b9319",
            "placeholder": "​",
            "style": "IPY_MODEL_c3d6d3ad0c144b2c9d017d2849d9c897",
            "value": " 1000000/1000000 [02:45&lt;00:00, 5329.95it/s]"
          }
        },
        "8675e2d5192d44c691045b1f33f236e1": {
          "model_module": "@jupyter-widgets/base",
          "model_name": "LayoutModel",
          "model_module_version": "1.2.0",
          "state": {
            "_model_module": "@jupyter-widgets/base",
            "_model_module_version": "1.2.0",
            "_model_name": "LayoutModel",
            "_view_count": null,
            "_view_module": "@jupyter-widgets/base",
            "_view_module_version": "1.2.0",
            "_view_name": "LayoutView",
            "align_content": null,
            "align_items": null,
            "align_self": null,
            "border": null,
            "bottom": null,
            "display": null,
            "flex": null,
            "flex_flow": null,
            "grid_area": null,
            "grid_auto_columns": null,
            "grid_auto_flow": null,
            "grid_auto_rows": null,
            "grid_column": null,
            "grid_gap": null,
            "grid_row": null,
            "grid_template_areas": null,
            "grid_template_columns": null,
            "grid_template_rows": null,
            "height": null,
            "justify_content": null,
            "justify_items": null,
            "left": null,
            "margin": null,
            "max_height": null,
            "max_width": null,
            "min_height": null,
            "min_width": null,
            "object_fit": null,
            "object_position": null,
            "order": null,
            "overflow": null,
            "overflow_x": null,
            "overflow_y": null,
            "padding": null,
            "right": null,
            "top": null,
            "visibility": null,
            "width": null
          }
        },
        "69956963696b4fe2bba01454a1ed8255": {
          "model_module": "@jupyter-widgets/base",
          "model_name": "LayoutModel",
          "model_module_version": "1.2.0",
          "state": {
            "_model_module": "@jupyter-widgets/base",
            "_model_module_version": "1.2.0",
            "_model_name": "LayoutModel",
            "_view_count": null,
            "_view_module": "@jupyter-widgets/base",
            "_view_module_version": "1.2.0",
            "_view_name": "LayoutView",
            "align_content": null,
            "align_items": null,
            "align_self": null,
            "border": null,
            "bottom": null,
            "display": null,
            "flex": null,
            "flex_flow": null,
            "grid_area": null,
            "grid_auto_columns": null,
            "grid_auto_flow": null,
            "grid_auto_rows": null,
            "grid_column": null,
            "grid_gap": null,
            "grid_row": null,
            "grid_template_areas": null,
            "grid_template_columns": null,
            "grid_template_rows": null,
            "height": null,
            "justify_content": null,
            "justify_items": null,
            "left": null,
            "margin": null,
            "max_height": null,
            "max_width": null,
            "min_height": null,
            "min_width": null,
            "object_fit": null,
            "object_position": null,
            "order": null,
            "overflow": null,
            "overflow_x": null,
            "overflow_y": null,
            "padding": null,
            "right": null,
            "top": null,
            "visibility": null,
            "width": null
          }
        },
        "27cadd09994142349e63a065fc55aba2": {
          "model_module": "@jupyter-widgets/controls",
          "model_name": "DescriptionStyleModel",
          "model_module_version": "1.5.0",
          "state": {
            "_model_module": "@jupyter-widgets/controls",
            "_model_module_version": "1.5.0",
            "_model_name": "DescriptionStyleModel",
            "_view_count": null,
            "_view_module": "@jupyter-widgets/base",
            "_view_module_version": "1.2.0",
            "_view_name": "StyleView",
            "description_width": ""
          }
        },
        "7d3750b94e724a8c870f183d0f5153b3": {
          "model_module": "@jupyter-widgets/base",
          "model_name": "LayoutModel",
          "model_module_version": "1.2.0",
          "state": {
            "_model_module": "@jupyter-widgets/base",
            "_model_module_version": "1.2.0",
            "_model_name": "LayoutModel",
            "_view_count": null,
            "_view_module": "@jupyter-widgets/base",
            "_view_module_version": "1.2.0",
            "_view_name": "LayoutView",
            "align_content": null,
            "align_items": null,
            "align_self": null,
            "border": null,
            "bottom": null,
            "display": null,
            "flex": null,
            "flex_flow": null,
            "grid_area": null,
            "grid_auto_columns": null,
            "grid_auto_flow": null,
            "grid_auto_rows": null,
            "grid_column": null,
            "grid_gap": null,
            "grid_row": null,
            "grid_template_areas": null,
            "grid_template_columns": null,
            "grid_template_rows": null,
            "height": null,
            "justify_content": null,
            "justify_items": null,
            "left": null,
            "margin": null,
            "max_height": null,
            "max_width": null,
            "min_height": null,
            "min_width": null,
            "object_fit": null,
            "object_position": null,
            "order": null,
            "overflow": null,
            "overflow_x": null,
            "overflow_y": null,
            "padding": null,
            "right": null,
            "top": null,
            "visibility": null,
            "width": null
          }
        },
        "93c8a8d776e949cb9bd607f77aefa047": {
          "model_module": "@jupyter-widgets/controls",
          "model_name": "ProgressStyleModel",
          "model_module_version": "1.5.0",
          "state": {
            "_model_module": "@jupyter-widgets/controls",
            "_model_module_version": "1.5.0",
            "_model_name": "ProgressStyleModel",
            "_view_count": null,
            "_view_module": "@jupyter-widgets/base",
            "_view_module_version": "1.2.0",
            "_view_name": "StyleView",
            "bar_color": null,
            "description_width": ""
          }
        },
        "0c70f31df63147f5979487a0d54b9319": {
          "model_module": "@jupyter-widgets/base",
          "model_name": "LayoutModel",
          "model_module_version": "1.2.0",
          "state": {
            "_model_module": "@jupyter-widgets/base",
            "_model_module_version": "1.2.0",
            "_model_name": "LayoutModel",
            "_view_count": null,
            "_view_module": "@jupyter-widgets/base",
            "_view_module_version": "1.2.0",
            "_view_name": "LayoutView",
            "align_content": null,
            "align_items": null,
            "align_self": null,
            "border": null,
            "bottom": null,
            "display": null,
            "flex": null,
            "flex_flow": null,
            "grid_area": null,
            "grid_auto_columns": null,
            "grid_auto_flow": null,
            "grid_auto_rows": null,
            "grid_column": null,
            "grid_gap": null,
            "grid_row": null,
            "grid_template_areas": null,
            "grid_template_columns": null,
            "grid_template_rows": null,
            "height": null,
            "justify_content": null,
            "justify_items": null,
            "left": null,
            "margin": null,
            "max_height": null,
            "max_width": null,
            "min_height": null,
            "min_width": null,
            "object_fit": null,
            "object_position": null,
            "order": null,
            "overflow": null,
            "overflow_x": null,
            "overflow_y": null,
            "padding": null,
            "right": null,
            "top": null,
            "visibility": null,
            "width": null
          }
        },
        "c3d6d3ad0c144b2c9d017d2849d9c897": {
          "model_module": "@jupyter-widgets/controls",
          "model_name": "DescriptionStyleModel",
          "model_module_version": "1.5.0",
          "state": {
            "_model_module": "@jupyter-widgets/controls",
            "_model_module_version": "1.5.0",
            "_model_name": "DescriptionStyleModel",
            "_view_count": null,
            "_view_module": "@jupyter-widgets/base",
            "_view_module_version": "1.2.0",
            "_view_name": "StyleView",
            "description_width": ""
          }
        }
      }
    }
  },
  "nbformat": 4,
  "nbformat_minor": 0
}