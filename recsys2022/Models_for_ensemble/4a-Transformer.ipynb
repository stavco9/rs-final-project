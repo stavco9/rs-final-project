{
  "cells": [
    {
      "cell_type": "markdown",
      "metadata": {
        "id": "view-in-github",
        "colab_type": "text"
      },
      "source": [
        "<a href=\"https://colab.research.google.com/github/stavco9/rs-final-project/blob/main/recsys2022/Models_for_ensemble/4a-Transformer.ipynb\" target=\"_parent\"><img src=\"https://colab.research.google.com/assets/colab-badge.svg\" alt=\"Open In Colab\"/></a>"
      ]
    },
    {
      "cell_type": "code",
      "execution_count": 54,
      "metadata": {
        "id": "SnLdjY_dHmlP"
      },
      "outputs": [],
      "source": [
        "just_checking_integrity=False\n",
        "rows=3000\n",
        "test_rows=1000"
      ]
    },
    {
      "cell_type": "code",
      "execution_count": 55,
      "metadata": {
        "_cell_guid": "3946c204-a3f5-44a7-b643-cac70a77fe70",
        "_uuid": "f28177d0-e4d9-4bba-9b30-86b78e8bed57",
        "execution": {
          "iopub.execute_input": "2022-06-13T12:09:55.838907Z",
          "iopub.status.busy": "2022-06-13T12:09:55.838493Z",
          "iopub.status.idle": "2022-06-13T12:10:02.194923Z",
          "shell.execute_reply": "2022-06-13T12:10:02.193839Z",
          "shell.execute_reply.started": "2022-06-13T12:09:55.838873Z"
        },
        "id": "zSNsQsszHgO5",
        "jupyter": {
          "outputs_hidden": false
        },
        "trusted": true
      },
      "outputs": [],
      "source": [
        "import pandas as pd\n",
        "import tensorflow as tf\n",
        "from tensorflow.keras import layers\n",
        "from sklearn.model_selection import train_test_split\n",
        "import numpy as np\n",
        "import datetime\n",
        "from itertools import compress\n",
        "from math import sin, cos\n",
        "import ast"
      ]
    },
    {
      "cell_type": "code",
      "execution_count": 56,
      "metadata": {
        "id": "hoxk123_HmlR"
      },
      "outputs": [],
      "source": [
        "from tqdm.auto import tqdm\n",
        "tqdm.pandas()"
      ]
    },
    {
      "cell_type": "markdown",
      "metadata": {
        "_cell_guid": "23f0792f-b475-4b29-95a6-909ab82ee477",
        "_uuid": "dace2a44-cc37-4ba8-b70d-7a3a34597b80",
        "id": "36zIGmdV53fm",
        "trusted": true
      },
      "source": [
        "## Custom metric"
      ]
    },
    {
      "cell_type": "code",
      "execution_count": 57,
      "metadata": {
        "_cell_guid": "74d38947-d45d-44c8-8fba-a1d8dbc94fea",
        "_uuid": "13a36ff4-0b31-4462-90c9-c2ee3616080a",
        "execution": {
          "iopub.execute_input": "2022-06-13T12:10:03.018686Z",
          "iopub.status.busy": "2022-06-13T12:10:03.018299Z",
          "iopub.status.idle": "2022-06-13T12:10:03.028288Z",
          "shell.execute_reply": "2022-06-13T12:10:03.026822Z",
          "shell.execute_reply.started": "2022-06-13T12:10:03.018654Z"
        },
        "id": "tWGIbax5oB5u",
        "jupyter": {
          "source_hidden": true
        },
        "trusted": true
      },
      "outputs": [],
      "source": [
        "def mrr_top_at(at=100):\n",
        "    @tf.function\n",
        "    def mrr_top(y_true,y_pred):\n",
        "        top_k=tf.math.top_k(y_pred,k=at)\n",
        "        rr=top_k.indices\n",
        "        #print(rr)\n",
        "        idx=tf.range(start=1,limit=at+1,delta=1)\n",
        "        y_true=tf.reshape(y_true,[-1,1])\n",
        "        #print(y_true)\n",
        "        #y_true=tf.broadcast_to(y_true,test.shape)\n",
        "        y_true=tf.cast(y_true,tf.int32)\n",
        "        ranking=tf.where(tf.math.equal(rr,y_true),idx,0)\n",
        "        #print(ranking)\n",
        "        ranking=tf.reduce_sum(ranking,axis=-1)\n",
        "        ranking=tf.where(ranking>0,1/ranking,0)\n",
        "        #print(ranking)\n",
        "        ranking=tf.reduce_mean(ranking)\n",
        "        return ranking\n",
        "    return mrr_top"
      ]
    },
    {
      "cell_type": "markdown",
      "metadata": {
        "_cell_guid": "a0a7c467-e7ba-4ef6-ab89-838ff773662c",
        "_uuid": "eeb2b8cd-ea29-4c1b-97d6-571b76d0c1a7",
        "id": "JrUZ80Og55r7",
        "trusted": true
      },
      "source": [
        "## Custom layers"
      ]
    },
    {
      "cell_type": "code",
      "execution_count": 58,
      "metadata": {
        "_cell_guid": "7e4f474d-c680-4449-a3e6-cbda91cc90ca",
        "_uuid": "45d88bb0-83ba-4108-bb6c-816656329082",
        "execution": {
          "iopub.execute_input": "2022-06-13T12:10:03.03126Z",
          "iopub.status.busy": "2022-06-13T12:10:03.030319Z",
          "iopub.status.idle": "2022-06-13T12:10:03.045171Z",
          "shell.execute_reply": "2022-06-13T12:10:03.043945Z",
          "shell.execute_reply.started": "2022-06-13T12:10:03.0311Z"
        },
        "id": "WpNQO7sTMibJ",
        "jupyter": {
          "source_hidden": true
        },
        "trusted": true
      },
      "outputs": [],
      "source": [
        "class TransformerBlock(layers.Layer):\n",
        "    def __init__(self, embed_dim, num_heads, ff_dim, rate=0.1):\n",
        "        super(TransformerBlock, self).__init__()\n",
        "        self.att = layers.MultiHeadAttention(num_heads=num_heads, key_dim=embed_dim)\n",
        "        self.ffn = tf.keras.Sequential(\n",
        "            [layers.Dense(ff_dim, activation=\"relu\"), layers.Dense(embed_dim),]\n",
        "        )\n",
        "        self.layernorm1 = layers.LayerNormalization(epsilon=1e-6)\n",
        "        self.layernorm2 = layers.LayerNormalization(epsilon=1e-6)\n",
        "        self.dropout1 = layers.Dropout(rate)\n",
        "        self.dropout2 = layers.Dropout(rate)\n",
        "\n",
        "    def call(self, inputs, training):\n",
        "        attn_output = self.att(inputs, inputs)\n",
        "        attn_output = self.dropout1(attn_output, training=training)\n",
        "        out1 = self.layernorm1(inputs + attn_output)\n",
        "        ffn_output = self.ffn(out1)\n",
        "        ffn_output = self.dropout2(ffn_output, training=training)\n",
        "        return self.layernorm2(out1 + ffn_output)"
      ]
    },
    {
      "cell_type": "code",
      "execution_count": 59,
      "metadata": {
        "_cell_guid": "4226f190-080d-47e5-841b-2932eab7184e",
        "_uuid": "83de6ec2-3fac-4879-bd79-962efa1d7eca",
        "execution": {
          "iopub.execute_input": "2022-06-13T12:10:03.04906Z",
          "iopub.status.busy": "2022-06-13T12:10:03.048318Z",
          "iopub.status.idle": "2022-06-13T12:10:03.060261Z",
          "shell.execute_reply": "2022-06-13T12:10:03.059172Z",
          "shell.execute_reply.started": "2022-06-13T12:10:03.048991Z"
        },
        "id": "Ywvv14StmYv6",
        "jupyter": {
          "source_hidden": true
        },
        "trusted": true
      },
      "outputs": [],
      "source": [
        "class TokenAndPositionEmbedding(layers.Layer):\n",
        "    def __init__(\n",
        "        self,\n",
        "        maxlen,\n",
        "        vocab_size,\n",
        "        embed_dim,\n",
        "        item_embedding_trainable=True,\n",
        "        embedding_weights=None\n",
        "        ):\n",
        "        super(TokenAndPositionEmbedding, self).__init__()\n",
        "        self.token_emb = layers.Embedding(\n",
        "            input_dim=vocab_size,\n",
        "            output_dim=embed_dim,\n",
        "            trainable=item_embedding_trainable,\n",
        "            weights=embedding_weights\n",
        "            )\n",
        "        self.pos_emb = layers.Embedding(input_dim=maxlen, output_dim=embed_dim)\n",
        "\n",
        "    def call(self, x):\n",
        "        maxlen = tf.shape(x)[-1]\n",
        "        positions = tf.range(start=maxlen-1, limit=0, delta=-1)\n",
        "        positions = self.pos_emb(positions)\n",
        "        x = self.token_emb(x)\n",
        "        return x + positions"
      ]
    },
    {
      "cell_type": "code",
      "execution_count": 60,
      "metadata": {
        "_cell_guid": "9321d53a-0365-40c3-a738-74a37cdab1b2",
        "_uuid": "f00a1bd9-44b7-46e4-96cb-34d18c6ef094",
        "execution": {
          "iopub.execute_input": "2022-06-13T12:10:03.062308Z",
          "iopub.status.busy": "2022-06-13T12:10:03.061708Z",
          "iopub.status.idle": "2022-06-13T12:10:03.073015Z",
          "shell.execute_reply": "2022-06-13T12:10:03.071727Z",
          "shell.execute_reply.started": "2022-06-13T12:10:03.062266Z"
        },
        "id": "5II46ARomYkg",
        "jupyter": {
          "source_hidden": true
        },
        "trusted": true
      },
      "outputs": [],
      "source": [
        "class PositionEmbedding(layers.Layer):\n",
        "    def __init__(\n",
        "        self,\n",
        "        maxlen,\n",
        "        embed_dim,\n",
        "        ):\n",
        "        super(PositionEmbedding, self).__init__()\n",
        "        self.pos_emb = layers.Embedding(input_dim=maxlen, output_dim=embed_dim)\n",
        "\n",
        "    def call(self, x):\n",
        "        maxlen = tf.shape(x)[-1]\n",
        "        positions = tf.range(start=0, limit=maxlen, delta=1)\n",
        "        positions = self.pos_emb(positions)\n",
        "        return positions"
      ]
    },
    {
      "cell_type": "code",
      "execution_count": 61,
      "metadata": {
        "_cell_guid": "af08d456-1100-46f7-98bb-a138e18b98e1",
        "_uuid": "9d2613ae-c4e6-4493-a1c1-e0ad3de4e789",
        "execution": {
          "iopub.execute_input": "2022-06-13T12:10:03.07968Z",
          "iopub.status.busy": "2022-06-13T12:10:03.079237Z",
          "iopub.status.idle": "2022-06-13T12:10:03.091787Z",
          "shell.execute_reply": "2022-06-13T12:10:03.09051Z",
          "shell.execute_reply.started": "2022-06-13T12:10:03.07965Z"
        },
        "id": "KLZ2wODiHVJU",
        "jupyter": {
          "source_hidden": true
        },
        "trusted": true
      },
      "outputs": [],
      "source": [
        "class RBFLayer(layers.Layer):\n",
        "    def __init__(self, weights, gamma, **kwargs):\n",
        "        super(RBFLayer, self).__init__(**kwargs)\n",
        "        # shape=(embedding_dimension, num_units)\n",
        "        self.embedding_weights = tf.transpose(weights)\n",
        "        self.gamma = gamma\n",
        "\n",
        "    def call(self, inputs):\n",
        "        l2 = tf.math.reduce_sum(\n",
        "            tf.math.squared_difference(\n",
        "                x=tf.expand_dims(inputs, axis=-1),\n",
        "                y=self.embedding_weights\n",
        "                ),\n",
        "            axis=1\n",
        "            )\n",
        "        res = tf.math.exp(-self.gamma * l2)\n",
        "        return res / tf.reduce_sum(res, axis=1, keepdims=True)"
      ]
    },
    {
      "cell_type": "markdown",
      "metadata": {
        "_cell_guid": "0bd301f6-e2fe-4d01-9617-1459fa110e26",
        "_uuid": "b05008ee-029f-4ef1-ab68-4ffb2e1e0c52",
        "id": "nPdEPhcbArlf",
        "trusted": true
      },
      "source": [
        "# Prepare dataset"
      ]
    },
    {
      "cell_type": "code",
      "source": [
        "from google.colab import drive\n",
        "drive.mount('/content/drive')\n",
        "%cd \"/content/drive/My Drive/IDC_MSc/Year1/ReccomendationSystems/Final_Project/\""
      ],
      "metadata": {
        "colab": {
          "base_uri": "https://localhost:8080/"
        },
        "id": "WU1iiveBIIBu",
        "outputId": "618051e7-2539-44dc-ceef-be311681a0f5"
      },
      "execution_count": null,
      "outputs": [
        {
          "output_type": "stream",
          "name": "stdout",
          "text": [
            "Drive already mounted at /content/drive; to attempt to forcibly remount, call drive.mount(\"/content/drive\", force_remount=True).\n",
            "/content/drive/My Drive/IDC_MSc/Year1/ReccomendationSystems/Final_Project\n"
          ]
        }
      ]
    },
    {
      "cell_type": "code",
      "execution_count": 62,
      "metadata": {
        "_cell_guid": "99e48e16-1a9f-4b64-abdd-d48ad59421d3",
        "_uuid": "16d23d98-ec1b-4e7d-a0e5-1e01ddaab89f",
        "execution": {
          "iopub.execute_input": "2022-06-13T12:11:29.265616Z",
          "iopub.status.busy": "2022-06-13T12:11:29.265221Z",
          "iopub.status.idle": "2022-06-13T12:11:29.281072Z",
          "shell.execute_reply": "2022-06-13T12:11:29.279785Z",
          "shell.execute_reply.started": "2022-06-13T12:11:29.265587Z"
        },
        "id": "kdwGb-syHVoO",
        "jupyter": {
          "source_hidden": true
        },
        "outputId": "5adb4af6-dafd-443b-a296-60ca7e4fd17a",
        "trusted": true,
        "colab": {
          "base_uri": "https://localhost:8080/",
          "height": 206
        }
      },
      "outputs": [
        {
          "output_type": "execute_result",
          "data": {
            "text/plain": [
              "   item_id\n",
              "0        1\n",
              "1        2\n",
              "2        3\n",
              "3        4\n",
              "4        5"
            ],
            "text/html": [
              "\n",
              "  <div id=\"df-76544d98-f74a-4678-a902-a07827e16fc0\" class=\"colab-df-container\">\n",
              "    <div>\n",
              "<style scoped>\n",
              "    .dataframe tbody tr th:only-of-type {\n",
              "        vertical-align: middle;\n",
              "    }\n",
              "\n",
              "    .dataframe tbody tr th {\n",
              "        vertical-align: top;\n",
              "    }\n",
              "\n",
              "    .dataframe thead th {\n",
              "        text-align: right;\n",
              "    }\n",
              "</style>\n",
              "<table border=\"1\" class=\"dataframe\">\n",
              "  <thead>\n",
              "    <tr style=\"text-align: right;\">\n",
              "      <th></th>\n",
              "      <th>item_id</th>\n",
              "    </tr>\n",
              "  </thead>\n",
              "  <tbody>\n",
              "    <tr>\n",
              "      <th>0</th>\n",
              "      <td>1</td>\n",
              "    </tr>\n",
              "    <tr>\n",
              "      <th>1</th>\n",
              "      <td>2</td>\n",
              "    </tr>\n",
              "    <tr>\n",
              "      <th>2</th>\n",
              "      <td>3</td>\n",
              "    </tr>\n",
              "    <tr>\n",
              "      <th>3</th>\n",
              "      <td>4</td>\n",
              "    </tr>\n",
              "    <tr>\n",
              "      <th>4</th>\n",
              "      <td>5</td>\n",
              "    </tr>\n",
              "  </tbody>\n",
              "</table>\n",
              "</div>\n",
              "    <div class=\"colab-df-buttons\">\n",
              "\n",
              "  <div class=\"colab-df-container\">\n",
              "    <button class=\"colab-df-convert\" onclick=\"convertToInteractive('df-76544d98-f74a-4678-a902-a07827e16fc0')\"\n",
              "            title=\"Convert this dataframe to an interactive table.\"\n",
              "            style=\"display:none;\">\n",
              "\n",
              "  <svg xmlns=\"http://www.w3.org/2000/svg\" height=\"24px\" viewBox=\"0 -960 960 960\">\n",
              "    <path d=\"M120-120v-720h720v720H120Zm60-500h600v-160H180v160Zm220 220h160v-160H400v160Zm0 220h160v-160H400v160ZM180-400h160v-160H180v160Zm440 0h160v-160H620v160ZM180-180h160v-160H180v160Zm440 0h160v-160H620v160Z\"/>\n",
              "  </svg>\n",
              "    </button>\n",
              "\n",
              "  <style>\n",
              "    .colab-df-container {\n",
              "      display:flex;\n",
              "      gap: 12px;\n",
              "    }\n",
              "\n",
              "    .colab-df-convert {\n",
              "      background-color: #E8F0FE;\n",
              "      border: none;\n",
              "      border-radius: 50%;\n",
              "      cursor: pointer;\n",
              "      display: none;\n",
              "      fill: #1967D2;\n",
              "      height: 32px;\n",
              "      padding: 0 0 0 0;\n",
              "      width: 32px;\n",
              "    }\n",
              "\n",
              "    .colab-df-convert:hover {\n",
              "      background-color: #E2EBFA;\n",
              "      box-shadow: 0px 1px 2px rgba(60, 64, 67, 0.3), 0px 1px 3px 1px rgba(60, 64, 67, 0.15);\n",
              "      fill: #174EA6;\n",
              "    }\n",
              "\n",
              "    .colab-df-buttons div {\n",
              "      margin-bottom: 4px;\n",
              "    }\n",
              "\n",
              "    [theme=dark] .colab-df-convert {\n",
              "      background-color: #3B4455;\n",
              "      fill: #D2E3FC;\n",
              "    }\n",
              "\n",
              "    [theme=dark] .colab-df-convert:hover {\n",
              "      background-color: #434B5C;\n",
              "      box-shadow: 0px 1px 3px 1px rgba(0, 0, 0, 0.15);\n",
              "      filter: drop-shadow(0px 1px 2px rgba(0, 0, 0, 0.3));\n",
              "      fill: #FFFFFF;\n",
              "    }\n",
              "  </style>\n",
              "\n",
              "    <script>\n",
              "      const buttonEl =\n",
              "        document.querySelector('#df-76544d98-f74a-4678-a902-a07827e16fc0 button.colab-df-convert');\n",
              "      buttonEl.style.display =\n",
              "        google.colab.kernel.accessAllowed ? 'block' : 'none';\n",
              "\n",
              "      async function convertToInteractive(key) {\n",
              "        const element = document.querySelector('#df-76544d98-f74a-4678-a902-a07827e16fc0');\n",
              "        const dataTable =\n",
              "          await google.colab.kernel.invokeFunction('convertToInteractive',\n",
              "                                                    [key], {});\n",
              "        if (!dataTable) return;\n",
              "\n",
              "        const docLinkHtml = 'Like what you see? Visit the ' +\n",
              "          '<a target=\"_blank\" href=https://colab.research.google.com/notebooks/data_table.ipynb>data table notebook</a>'\n",
              "          + ' to learn more about interactive tables.';\n",
              "        element.innerHTML = '';\n",
              "        dataTable['output_type'] = 'display_data';\n",
              "        await google.colab.output.renderOutput(dataTable, element);\n",
              "        const docLink = document.createElement('div');\n",
              "        docLink.innerHTML = docLinkHtml;\n",
              "        element.appendChild(docLink);\n",
              "      }\n",
              "    </script>\n",
              "  </div>\n",
              "\n",
              "\n",
              "<div id=\"df-2f5660d8-bf42-404c-a494-afbe730e1601\">\n",
              "  <button class=\"colab-df-quickchart\" onclick=\"quickchart('df-2f5660d8-bf42-404c-a494-afbe730e1601')\"\n",
              "            title=\"Suggest charts\"\n",
              "            style=\"display:none;\">\n",
              "\n",
              "<svg xmlns=\"http://www.w3.org/2000/svg\" height=\"24px\"viewBox=\"0 0 24 24\"\n",
              "     width=\"24px\">\n",
              "    <g>\n",
              "        <path d=\"M19 3H5c-1.1 0-2 .9-2 2v14c0 1.1.9 2 2 2h14c1.1 0 2-.9 2-2V5c0-1.1-.9-2-2-2zM9 17H7v-7h2v7zm4 0h-2V7h2v10zm4 0h-2v-4h2v4z\"/>\n",
              "    </g>\n",
              "</svg>\n",
              "  </button>\n",
              "\n",
              "<style>\n",
              "  .colab-df-quickchart {\n",
              "      --bg-color: #E8F0FE;\n",
              "      --fill-color: #1967D2;\n",
              "      --hover-bg-color: #E2EBFA;\n",
              "      --hover-fill-color: #174EA6;\n",
              "      --disabled-fill-color: #AAA;\n",
              "      --disabled-bg-color: #DDD;\n",
              "  }\n",
              "\n",
              "  [theme=dark] .colab-df-quickchart {\n",
              "      --bg-color: #3B4455;\n",
              "      --fill-color: #D2E3FC;\n",
              "      --hover-bg-color: #434B5C;\n",
              "      --hover-fill-color: #FFFFFF;\n",
              "      --disabled-bg-color: #3B4455;\n",
              "      --disabled-fill-color: #666;\n",
              "  }\n",
              "\n",
              "  .colab-df-quickchart {\n",
              "    background-color: var(--bg-color);\n",
              "    border: none;\n",
              "    border-radius: 50%;\n",
              "    cursor: pointer;\n",
              "    display: none;\n",
              "    fill: var(--fill-color);\n",
              "    height: 32px;\n",
              "    padding: 0;\n",
              "    width: 32px;\n",
              "  }\n",
              "\n",
              "  .colab-df-quickchart:hover {\n",
              "    background-color: var(--hover-bg-color);\n",
              "    box-shadow: 0 1px 2px rgba(60, 64, 67, 0.3), 0 1px 3px 1px rgba(60, 64, 67, 0.15);\n",
              "    fill: var(--button-hover-fill-color);\n",
              "  }\n",
              "\n",
              "  .colab-df-quickchart-complete:disabled,\n",
              "  .colab-df-quickchart-complete:disabled:hover {\n",
              "    background-color: var(--disabled-bg-color);\n",
              "    fill: var(--disabled-fill-color);\n",
              "    box-shadow: none;\n",
              "  }\n",
              "\n",
              "  .colab-df-spinner {\n",
              "    border: 2px solid var(--fill-color);\n",
              "    border-color: transparent;\n",
              "    border-bottom-color: var(--fill-color);\n",
              "    animation:\n",
              "      spin 1s steps(1) infinite;\n",
              "  }\n",
              "\n",
              "  @keyframes spin {\n",
              "    0% {\n",
              "      border-color: transparent;\n",
              "      border-bottom-color: var(--fill-color);\n",
              "      border-left-color: var(--fill-color);\n",
              "    }\n",
              "    20% {\n",
              "      border-color: transparent;\n",
              "      border-left-color: var(--fill-color);\n",
              "      border-top-color: var(--fill-color);\n",
              "    }\n",
              "    30% {\n",
              "      border-color: transparent;\n",
              "      border-left-color: var(--fill-color);\n",
              "      border-top-color: var(--fill-color);\n",
              "      border-right-color: var(--fill-color);\n",
              "    }\n",
              "    40% {\n",
              "      border-color: transparent;\n",
              "      border-right-color: var(--fill-color);\n",
              "      border-top-color: var(--fill-color);\n",
              "    }\n",
              "    60% {\n",
              "      border-color: transparent;\n",
              "      border-right-color: var(--fill-color);\n",
              "    }\n",
              "    80% {\n",
              "      border-color: transparent;\n",
              "      border-right-color: var(--fill-color);\n",
              "      border-bottom-color: var(--fill-color);\n",
              "    }\n",
              "    90% {\n",
              "      border-color: transparent;\n",
              "      border-bottom-color: var(--fill-color);\n",
              "    }\n",
              "  }\n",
              "</style>\n",
              "\n",
              "  <script>\n",
              "    async function quickchart(key) {\n",
              "      const quickchartButtonEl =\n",
              "        document.querySelector('#' + key + ' button');\n",
              "      quickchartButtonEl.disabled = true;  // To prevent multiple clicks.\n",
              "      quickchartButtonEl.classList.add('colab-df-spinner');\n",
              "      try {\n",
              "        const charts = await google.colab.kernel.invokeFunction(\n",
              "            'suggestCharts', [key], {});\n",
              "      } catch (error) {\n",
              "        console.error('Error during call to suggestCharts:', error);\n",
              "      }\n",
              "      quickchartButtonEl.classList.remove('colab-df-spinner');\n",
              "      quickchartButtonEl.classList.add('colab-df-quickchart-complete');\n",
              "    }\n",
              "    (() => {\n",
              "      let quickchartButtonEl =\n",
              "        document.querySelector('#df-2f5660d8-bf42-404c-a494-afbe730e1601 button');\n",
              "      quickchartButtonEl.style.display =\n",
              "        google.colab.kernel.accessAllowed ? 'block' : 'none';\n",
              "    })();\n",
              "  </script>\n",
              "</div>\n",
              "\n",
              "    </div>\n",
              "  </div>\n"
            ],
            "application/vnd.google.colaboratory.intrinsic+json": {
              "type": "dataframe",
              "variable_name": "candidate_items",
              "summary": "{\n  \"name\": \"candidate_items\",\n  \"rows\": 4990,\n  \"fields\": [\n    {\n      \"column\": \"item_id\",\n      \"properties\": {\n        \"dtype\": \"number\",\n        \"std\": 1440,\n        \"min\": 1,\n        \"max\": 4990,\n        \"samples\": [\n          4728,\n          2317,\n          3670\n        ],\n        \"num_unique_values\": 4990,\n        \"semantic_type\": \"\",\n        \"description\": \"\"\n      }\n    }\n  ]\n}"
            }
          },
          "metadata": {},
          "execution_count": 62
        }
      ],
      "source": [
        "candidate_items = pd.read_csv('./dataset/processed_data/candidate_items_mapped.csv')\n",
        "candidate_items.head()"
      ]
    },
    {
      "cell_type": "code",
      "execution_count": 63,
      "metadata": {
        "_cell_guid": "6b83d25e-6434-4eea-b894-c5dac1bb3cd4",
        "_uuid": "dfdb67c0-bf5b-42f2-a325-69802004f77a",
        "execution": {
          "iopub.execute_input": "2022-06-13T12:11:29.289783Z",
          "iopub.status.busy": "2022-06-13T12:11:29.289456Z",
          "iopub.status.idle": "2022-06-13T12:11:29.302917Z",
          "shell.execute_reply": "2022-06-13T12:11:29.301768Z",
          "shell.execute_reply.started": "2022-06-13T12:11:29.289744Z"
        },
        "id": "w5LUoNPaouyG",
        "jupyter": {
          "source_hidden": true
        },
        "outputId": "203207a3-41dd-4467-cfba-c24a665b48fc",
        "trusted": true,
        "colab": {
          "base_uri": "https://localhost:8080/"
        }
      },
      "outputs": [
        {
          "output_type": "execute_result",
          "data": {
            "text/plain": [
              "(23692, 64)"
            ]
          },
          "metadata": {},
          "execution_count": 63
        }
      ],
      "source": [
        "embedding_weights = np.load(\n",
        "    './dataset/processed_data/compressed_features.npy'\n",
        "    )\n",
        "import os\n",
        "import scipy.sparse as sps\n",
        "def get_ICM(files_directory=\"./dataset/processed_data\"):\n",
        "    df_icm = pd.read_csv(filepath_or_buffer=os.path.join(files_directory, 'simplified_features_and_categories_30.csv'), sep=',', header=0)\n",
        "\n",
        "    item_id_list = df_icm['item_id'].values\n",
        "    feat_id_list = df_icm['feature_idx'].values\n",
        "    rating_id_list = np.ones_like(feat_id_list)\n",
        "    ICM_matrix = sps.csr_matrix((rating_id_list, (item_id_list, feat_id_list)))\n",
        "    return ICM_matrix\n",
        "\n",
        "ICM=get_ICM()\n",
        "embedding_weights.shape"
      ]
    },
    {
      "cell_type": "code",
      "execution_count": 64,
      "metadata": {
        "_cell_guid": "3c5c850e-08c2-450c-8f13-2164141918d8",
        "_uuid": "cf07b546-3468-4c45-bac7-1d1a54021b74",
        "execution": {
          "iopub.execute_input": "2022-06-13T12:11:29.308349Z",
          "iopub.status.busy": "2022-06-13T12:11:29.307281Z",
          "iopub.status.idle": "2022-06-13T12:12:25.094372Z",
          "shell.execute_reply": "2022-06-13T12:12:25.093288Z",
          "shell.execute_reply.started": "2022-06-13T12:11:29.308319Z"
        },
        "id": "pdJPGOaaXfhg",
        "jupyter": {
          "outputs_hidden": false
        },
        "trusted": true
      },
      "outputs": [],
      "source": [
        "result =  pd.read_csv(\"./dataset/processed_data/macro_feats_NN.csv\",parse_dates=[\"date_session_starting\"],\n",
        "     infer_datetime_format=True)\n",
        "\n",
        "\n",
        "\n",
        "result[\"item_id\"]=result[\"item_id\"].map(ast.literal_eval)\n",
        "result[\"timedelta\"]=result[\"timedelta\"].map(ast.literal_eval)\n",
        "\n",
        "def is_reseen(x):\n",
        "    #print(x)\n",
        "    seen={}\n",
        "    res=[]\n",
        "    for item in x:\n",
        "        if item in seen:\n",
        "            res.append(seen[item])\n",
        "            seen[item]+=1\n",
        "        else:\n",
        "            res.append(0)\n",
        "            seen[item]=1\n",
        "    return res\n",
        "\n",
        "def percentage_seen(x):\n",
        "    size=len(x)\n",
        "    return [(i+1)/size for i in range(size)]"
      ]
    },
    {
      "cell_type": "code",
      "execution_count": 65,
      "metadata": {
        "_cell_guid": "955562dc-1c1b-406b-af22-00d795f4fa86",
        "_uuid": "5cbc5f14-2a07-4920-9333-b46c0d11f5ff",
        "execution": {
          "iopub.execute_input": "2022-06-13T12:12:25.097472Z",
          "iopub.status.busy": "2022-06-13T12:12:25.097022Z",
          "iopub.status.idle": "2022-06-13T12:12:43.241281Z",
          "shell.execute_reply": "2022-06-13T12:12:43.240181Z",
          "shell.execute_reply.started": "2022-06-13T12:12:25.097428Z"
        },
        "id": "cLY9U8gg3fq7",
        "jupyter": {
          "outputs_hidden": false
        },
        "outputId": "8995065b-1390-4dc9-d5fb-9e484fb059a4",
        "trusted": true,
        "colab": {
          "base_uri": "https://localhost:8080/",
          "height": 81,
          "referenced_widgets": [
            "95b20cb95d5447d4adec257dfd903c85",
            "c1fb9851b58b41c6a848c4447d5289c6",
            "d4dabb4524f842619e037ae07cf6a928",
            "fe634506d9844f4f927bac91884f9a6a",
            "891ecf7404174ca68438698cebb70d1f",
            "6f2361dbb5be48d68197fea797ee22a5",
            "6cdaeaf4b27648acb15817c7f2d5a322",
            "ceb81c32b3d34b34a76943646be41158",
            "f6b49d1e8d344fdabcdf9f13592c0b88",
            "a1b3bd2047094861a2c34a0769444933",
            "06ffbb5f05e942728a4447e44cd4a898",
            "c25457d6caff4bfd96bcf1a7df0ac390",
            "fb4271bf2fdc4634b5d6112e64a96807",
            "8b12bc40f9c2469dba16e52b1f20ff41",
            "d0bc32db01b440df88e86e124a96b2d7",
            "48687d7182a64ba0a3495b88c877936e",
            "3a6f4bf15ec74ac8989e1ed3bce8c55f",
            "cbae5f4ac1424d77a21f701bab53eccb",
            "3587a6cb76f94106b2c82c027c232f86",
            "23d8be8702a54d17b728d90ec9e6939b",
            "8c61694d63964c7ca1f71a65ce778f2d",
            "9f1f15c020e54ca2bc97b0e34f5ff7c6"
          ]
        }
      },
      "outputs": [
        {
          "output_type": "display_data",
          "data": {
            "text/plain": [
              "  0%|          | 0/1000000 [00:00<?, ?it/s]"
            ],
            "application/vnd.jupyter.widget-view+json": {
              "version_major": 2,
              "version_minor": 0,
              "model_id": "95b20cb95d5447d4adec257dfd903c85"
            }
          },
          "metadata": {}
        },
        {
          "output_type": "display_data",
          "data": {
            "text/plain": [
              "  0%|          | 0/1000000 [00:00<?, ?it/s]"
            ],
            "application/vnd.jupyter.widget-view+json": {
              "version_major": 2,
              "version_minor": 0,
              "model_id": "c25457d6caff4bfd96bcf1a7df0ac390"
            }
          },
          "metadata": {}
        }
      ],
      "source": [
        "x_reseen = tf.keras.preprocessing.sequence.pad_sequences(\n",
        "    result['item_id'].progress_apply(is_reseen),\n",
        "    padding='post',\n",
        "    maxlen=100,\n",
        "    dtype=\"int16\"\n",
        ")\n",
        "x_percentage_seen = tf.keras.preprocessing.sequence.pad_sequences(\n",
        "    result['item_id'].progress_apply(percentage_seen),\n",
        "    padding='post',\n",
        "    maxlen=100,\n",
        "    dtype='float16',\n",
        ")"
      ]
    },
    {
      "cell_type": "code",
      "execution_count": 66,
      "metadata": {
        "_cell_guid": "1b42dbc5-cac7-4285-87c4-5a9bfb61173e",
        "_uuid": "d92272ad-38f5-4768-85a3-95b25f870cee",
        "execution": {
          "iopub.execute_input": "2022-06-13T12:12:43.245271Z",
          "iopub.status.busy": "2022-06-13T12:12:43.24275Z",
          "iopub.status.idle": "2022-06-13T12:12:43.256158Z",
          "shell.execute_reply": "2022-06-13T12:12:43.255175Z",
          "shell.execute_reply.started": "2022-06-13T12:12:43.245241Z"
        },
        "id": "SIspm4Y-3unJ",
        "jupyter": {
          "outputs_hidden": false
        },
        "trusted": true
      },
      "outputs": [],
      "source": [
        "def similarity_with_preceding(x):\n",
        "    if len(x)==1:\n",
        "        return np.array([0])\n",
        "    feats=embedding_weights[x]\n",
        "    #normalize\n",
        "    feats=np.divide(feats,np.linalg.norm(feats,axis=1).reshape((-1,1)))\n",
        "    feats_copy=feats.copy()\n",
        "    feats_copy=np.roll(feats_copy,1,axis=0)\n",
        "    feats_copy[0,:]=0\n",
        "    prod=np.multiply(feats,feats_copy).sum(axis=1)\n",
        "    return prod\n",
        "\n",
        "\n",
        "\n",
        "def similarity_feats_with_preceding(x):\n",
        "    if len(x)==1:\n",
        "        return np.array([0])\n",
        "    feats=ICM[x].toarray()\n",
        "    #normalize\n",
        "    feats=np.divide(feats,np.linalg.norm(feats,axis=1).reshape((-1,1)))\n",
        "    feats_copy=feats.copy()\n",
        "    feats_copy=np.roll(feats_copy,1,axis=0)\n",
        "    feats_copy[0,:]=0\n",
        "    prod=np.multiply(feats,feats_copy).sum(axis=1)\n",
        "    return prod"
      ]
    },
    {
      "cell_type": "code",
      "execution_count": 67,
      "metadata": {
        "_cell_guid": "64d580f1-7c29-4575-8fcc-86818579329f",
        "_uuid": "9e2965e6-9391-47a6-a1bf-c57ec2ed2f7a",
        "execution": {
          "iopub.execute_input": "2022-06-13T12:12:43.258887Z",
          "iopub.status.busy": "2022-06-13T12:12:43.258064Z"
        },
        "id": "pmwUjvrDnfAP",
        "jupyter": {
          "outputs_hidden": false
        },
        "outputId": "71838e63-a140-40a0-ed23-b7d5311e9a01",
        "trusted": true,
        "colab": {
          "base_uri": "https://localhost:8080/",
          "height": 81,
          "referenced_widgets": [
            "fe04772000a642e68115f020c8686311",
            "1ac57cdd4f80415b859f477621d0edda",
            "c7951514e2ae41d0948a48fdc8aac18b",
            "d8f487d342fd4590840a152c842459a0",
            "5e308d1121874669963e8669c23173d2",
            "061442924bfb4137adcb50fe2ff1087a",
            "3cd6ea63018b470ba890acd5d43b085e",
            "73fb98fd0b274a2d9326f9398b9ff6a2",
            "b1eb1985e8e441e5bdc8e7d6d5ee4681",
            "3e7eceb753cb41e592891b330e5749fd",
            "1def62a6871d4bdb8667ef0c5a8bc8d9",
            "c6731f1d552c47308b23903640ea1988",
            "310ebdb6b2474b3aa8f3bf38b76b99c6",
            "3bfc4591d1ef4d25bae04537e0ec194b",
            "36281891f6a7425b9f68ada05a07bd62",
            "eb2469f30201444a8157e9fddaadc361",
            "54b343d1d18d4ecd8180fdfb70f5adee",
            "5af966de8de54746aeed828ec776fb29",
            "ca58e0ae696d43fdaf8eab1957e6f9d6",
            "6698132120b3451b9cf3942dbfbda610",
            "59a67b634f1a4c688880954f72335a51",
            "645c37d890984c4d8e04c5a0159f2e14"
          ]
        }
      },
      "outputs": [
        {
          "output_type": "display_data",
          "data": {
            "text/plain": [
              "  0%|          | 0/1000000 [00:00<?, ?it/s]"
            ],
            "application/vnd.jupyter.widget-view+json": {
              "version_major": 2,
              "version_minor": 0,
              "model_id": "fe04772000a642e68115f020c8686311"
            }
          },
          "metadata": {}
        },
        {
          "output_type": "display_data",
          "data": {
            "text/plain": [
              "  0%|          | 0/1000000 [00:00<?, ?it/s]"
            ],
            "application/vnd.jupyter.widget-view+json": {
              "version_major": 2,
              "version_minor": 0,
              "model_id": "c6731f1d552c47308b23903640ea1988"
            }
          },
          "metadata": {}
        }
      ],
      "source": [
        "x_simils = tf.keras.preprocessing.sequence.pad_sequences(\n",
        "    result['item_id'].progress_apply(similarity_with_preceding\n",
        "    ),\n",
        "    padding='post',\n",
        "    maxlen=100,\n",
        "    dtype='float16',\n",
        ")\n",
        "x_simils_feats = tf.keras.preprocessing.sequence.pad_sequences(\n",
        "    result['item_id'].progress_apply(similarity_feats_with_preceding\n",
        "    ),\n",
        "    padding='post',\n",
        "    maxlen=100,\n",
        "    dtype='float16',\n",
        ")"
      ]
    },
    {
      "cell_type": "code",
      "execution_count": 68,
      "metadata": {
        "_cell_guid": "8026aee1-a675-455c-ab32-3a3dfdef1104",
        "_uuid": "44c352d0-a8b0-4ffd-8ecf-706efb432cdd",
        "id": "3M8e0b_Sx2i-",
        "jupyter": {
          "outputs_hidden": false
        },
        "trusted": true
      },
      "outputs": [],
      "source": [
        "static_features_names = [\n",
        "                   'date_hour_sin',\n",
        "                   'date_hour_cos',\n",
        "                   'date_day_sin',\n",
        "                   'date_day_cos',\n",
        "                   'date_month_sin',\n",
        "                   'date_month_cos',\n",
        "                   'date_hour_sin_ending',\n",
        "                   'date_hour_cos_ending',\n",
        "                   'date_day_sin_ending',\n",
        "                   'date_day_cos_ending',\n",
        "                   'date_month_sin_ending',\n",
        "                   'date_month_cos_ending',\n",
        "                   'date_year_2020',\n",
        "                   'length_of_session_seconds',\n",
        "                   'avg_time_spent_per_item_seconds',\n",
        "                   'variance_time_spent_per_item_seconds',\n",
        "                   'n_seen_items',\n",
        "                   'n_unique_items',\n",
        "                   'user_went_afk',\n",
        "                   'is_weekend',\n",
        "                   'is_hot_hour',\n",
        "                   'is_night',\n",
        "                   'is_christmas_time',\n",
        "                   'is_black_friday',\n",
        "                   'session_similarity',\n",
        "                   'session_similarity_uniques',\n",
        "                   'session_similarity_feats',\n",
        "                   'session_similarity_feats_uniques'\n",
        "]\n",
        "for col in ['length_of_session_seconds','avg_time_spent_per_item_seconds','variance_time_spent_per_item_seconds']:\n",
        "    result[col]=np.log10(result[col]+1)\n",
        "for col in ['n_seen_items','n_unique_items']:\n",
        "    result[col]=result[col]/100\n",
        "\n",
        "item_related_features = [\n",
        "                         'timedelta'\n",
        "]"
      ]
    },
    {
      "cell_type": "code",
      "execution_count": 69,
      "metadata": {
        "_cell_guid": "875c2771-46cf-4102-8620-3152b89484fe",
        "_uuid": "54fa77ac-d445-4913-9cba-06aff027ecad",
        "execution": {
          "iopub.execute_input": "2022-06-13T12:19:37.55431Z",
          "iopub.status.busy": "2022-06-13T12:19:37.553839Z",
          "iopub.status.idle": "2022-06-13T12:19:37.894809Z",
          "shell.execute_reply": "2022-06-13T12:19:37.893544Z",
          "shell.execute_reply.started": "2022-06-13T12:19:37.554277Z"
        },
        "id": "hT_NE9H5KAeS",
        "jupyter": {
          "outputs_hidden": false
        },
        "outputId": "8bc47fd7-c143-418d-a7e6-430655e9b008",
        "trusted": true,
        "colab": {
          "base_uri": "https://localhost:8080/",
          "height": 206
        }
      },
      "outputs": [
        {
          "output_type": "execute_result",
          "data": {
            "text/plain": [
              "   session_id  item_id\n",
              "0      663204    12492\n",
              "1       85375     3299\n",
              "2      374472    17411\n",
              "3      526578    11229\n",
              "4       66630    11568"
            ],
            "text/html": [
              "\n",
              "  <div id=\"df-d8c98e6e-c047-4f83-8136-3bd57b67546f\" class=\"colab-df-container\">\n",
              "    <div>\n",
              "<style scoped>\n",
              "    .dataframe tbody tr th:only-of-type {\n",
              "        vertical-align: middle;\n",
              "    }\n",
              "\n",
              "    .dataframe tbody tr th {\n",
              "        vertical-align: top;\n",
              "    }\n",
              "\n",
              "    .dataframe thead th {\n",
              "        text-align: right;\n",
              "    }\n",
              "</style>\n",
              "<table border=\"1\" class=\"dataframe\">\n",
              "  <thead>\n",
              "    <tr style=\"text-align: right;\">\n",
              "      <th></th>\n",
              "      <th>session_id</th>\n",
              "      <th>item_id</th>\n",
              "    </tr>\n",
              "  </thead>\n",
              "  <tbody>\n",
              "    <tr>\n",
              "      <th>0</th>\n",
              "      <td>663204</td>\n",
              "      <td>12492</td>\n",
              "    </tr>\n",
              "    <tr>\n",
              "      <th>1</th>\n",
              "      <td>85375</td>\n",
              "      <td>3299</td>\n",
              "    </tr>\n",
              "    <tr>\n",
              "      <th>2</th>\n",
              "      <td>374472</td>\n",
              "      <td>17411</td>\n",
              "    </tr>\n",
              "    <tr>\n",
              "      <th>3</th>\n",
              "      <td>526578</td>\n",
              "      <td>11229</td>\n",
              "    </tr>\n",
              "    <tr>\n",
              "      <th>4</th>\n",
              "      <td>66630</td>\n",
              "      <td>11568</td>\n",
              "    </tr>\n",
              "  </tbody>\n",
              "</table>\n",
              "</div>\n",
              "    <div class=\"colab-df-buttons\">\n",
              "\n",
              "  <div class=\"colab-df-container\">\n",
              "    <button class=\"colab-df-convert\" onclick=\"convertToInteractive('df-d8c98e6e-c047-4f83-8136-3bd57b67546f')\"\n",
              "            title=\"Convert this dataframe to an interactive table.\"\n",
              "            style=\"display:none;\">\n",
              "\n",
              "  <svg xmlns=\"http://www.w3.org/2000/svg\" height=\"24px\" viewBox=\"0 -960 960 960\">\n",
              "    <path d=\"M120-120v-720h720v720H120Zm60-500h600v-160H180v160Zm220 220h160v-160H400v160Zm0 220h160v-160H400v160ZM180-400h160v-160H180v160Zm440 0h160v-160H620v160ZM180-180h160v-160H180v160Zm440 0h160v-160H620v160Z\"/>\n",
              "  </svg>\n",
              "    </button>\n",
              "\n",
              "  <style>\n",
              "    .colab-df-container {\n",
              "      display:flex;\n",
              "      gap: 12px;\n",
              "    }\n",
              "\n",
              "    .colab-df-convert {\n",
              "      background-color: #E8F0FE;\n",
              "      border: none;\n",
              "      border-radius: 50%;\n",
              "      cursor: pointer;\n",
              "      display: none;\n",
              "      fill: #1967D2;\n",
              "      height: 32px;\n",
              "      padding: 0 0 0 0;\n",
              "      width: 32px;\n",
              "    }\n",
              "\n",
              "    .colab-df-convert:hover {\n",
              "      background-color: #E2EBFA;\n",
              "      box-shadow: 0px 1px 2px rgba(60, 64, 67, 0.3), 0px 1px 3px 1px rgba(60, 64, 67, 0.15);\n",
              "      fill: #174EA6;\n",
              "    }\n",
              "\n",
              "    .colab-df-buttons div {\n",
              "      margin-bottom: 4px;\n",
              "    }\n",
              "\n",
              "    [theme=dark] .colab-df-convert {\n",
              "      background-color: #3B4455;\n",
              "      fill: #D2E3FC;\n",
              "    }\n",
              "\n",
              "    [theme=dark] .colab-df-convert:hover {\n",
              "      background-color: #434B5C;\n",
              "      box-shadow: 0px 1px 3px 1px rgba(0, 0, 0, 0.15);\n",
              "      filter: drop-shadow(0px 1px 2px rgba(0, 0, 0, 0.3));\n",
              "      fill: #FFFFFF;\n",
              "    }\n",
              "  </style>\n",
              "\n",
              "    <script>\n",
              "      const buttonEl =\n",
              "        document.querySelector('#df-d8c98e6e-c047-4f83-8136-3bd57b67546f button.colab-df-convert');\n",
              "      buttonEl.style.display =\n",
              "        google.colab.kernel.accessAllowed ? 'block' : 'none';\n",
              "\n",
              "      async function convertToInteractive(key) {\n",
              "        const element = document.querySelector('#df-d8c98e6e-c047-4f83-8136-3bd57b67546f');\n",
              "        const dataTable =\n",
              "          await google.colab.kernel.invokeFunction('convertToInteractive',\n",
              "                                                    [key], {});\n",
              "        if (!dataTable) return;\n",
              "\n",
              "        const docLinkHtml = 'Like what you see? Visit the ' +\n",
              "          '<a target=\"_blank\" href=https://colab.research.google.com/notebooks/data_table.ipynb>data table notebook</a>'\n",
              "          + ' to learn more about interactive tables.';\n",
              "        element.innerHTML = '';\n",
              "        dataTable['output_type'] = 'display_data';\n",
              "        await google.colab.output.renderOutput(dataTable, element);\n",
              "        const docLink = document.createElement('div');\n",
              "        docLink.innerHTML = docLinkHtml;\n",
              "        element.appendChild(docLink);\n",
              "      }\n",
              "    </script>\n",
              "  </div>\n",
              "\n",
              "\n",
              "<div id=\"df-e0a3958f-aeea-4c3c-a7d6-d1aba2ca9906\">\n",
              "  <button class=\"colab-df-quickchart\" onclick=\"quickchart('df-e0a3958f-aeea-4c3c-a7d6-d1aba2ca9906')\"\n",
              "            title=\"Suggest charts\"\n",
              "            style=\"display:none;\">\n",
              "\n",
              "<svg xmlns=\"http://www.w3.org/2000/svg\" height=\"24px\"viewBox=\"0 0 24 24\"\n",
              "     width=\"24px\">\n",
              "    <g>\n",
              "        <path d=\"M19 3H5c-1.1 0-2 .9-2 2v14c0 1.1.9 2 2 2h14c1.1 0 2-.9 2-2V5c0-1.1-.9-2-2-2zM9 17H7v-7h2v7zm4 0h-2V7h2v10zm4 0h-2v-4h2v4z\"/>\n",
              "    </g>\n",
              "</svg>\n",
              "  </button>\n",
              "\n",
              "<style>\n",
              "  .colab-df-quickchart {\n",
              "      --bg-color: #E8F0FE;\n",
              "      --fill-color: #1967D2;\n",
              "      --hover-bg-color: #E2EBFA;\n",
              "      --hover-fill-color: #174EA6;\n",
              "      --disabled-fill-color: #AAA;\n",
              "      --disabled-bg-color: #DDD;\n",
              "  }\n",
              "\n",
              "  [theme=dark] .colab-df-quickchart {\n",
              "      --bg-color: #3B4455;\n",
              "      --fill-color: #D2E3FC;\n",
              "      --hover-bg-color: #434B5C;\n",
              "      --hover-fill-color: #FFFFFF;\n",
              "      --disabled-bg-color: #3B4455;\n",
              "      --disabled-fill-color: #666;\n",
              "  }\n",
              "\n",
              "  .colab-df-quickchart {\n",
              "    background-color: var(--bg-color);\n",
              "    border: none;\n",
              "    border-radius: 50%;\n",
              "    cursor: pointer;\n",
              "    display: none;\n",
              "    fill: var(--fill-color);\n",
              "    height: 32px;\n",
              "    padding: 0;\n",
              "    width: 32px;\n",
              "  }\n",
              "\n",
              "  .colab-df-quickchart:hover {\n",
              "    background-color: var(--hover-bg-color);\n",
              "    box-shadow: 0 1px 2px rgba(60, 64, 67, 0.3), 0 1px 3px 1px rgba(60, 64, 67, 0.15);\n",
              "    fill: var(--button-hover-fill-color);\n",
              "  }\n",
              "\n",
              "  .colab-df-quickchart-complete:disabled,\n",
              "  .colab-df-quickchart-complete:disabled:hover {\n",
              "    background-color: var(--disabled-bg-color);\n",
              "    fill: var(--disabled-fill-color);\n",
              "    box-shadow: none;\n",
              "  }\n",
              "\n",
              "  .colab-df-spinner {\n",
              "    border: 2px solid var(--fill-color);\n",
              "    border-color: transparent;\n",
              "    border-bottom-color: var(--fill-color);\n",
              "    animation:\n",
              "      spin 1s steps(1) infinite;\n",
              "  }\n",
              "\n",
              "  @keyframes spin {\n",
              "    0% {\n",
              "      border-color: transparent;\n",
              "      border-bottom-color: var(--fill-color);\n",
              "      border-left-color: var(--fill-color);\n",
              "    }\n",
              "    20% {\n",
              "      border-color: transparent;\n",
              "      border-left-color: var(--fill-color);\n",
              "      border-top-color: var(--fill-color);\n",
              "    }\n",
              "    30% {\n",
              "      border-color: transparent;\n",
              "      border-left-color: var(--fill-color);\n",
              "      border-top-color: var(--fill-color);\n",
              "      border-right-color: var(--fill-color);\n",
              "    }\n",
              "    40% {\n",
              "      border-color: transparent;\n",
              "      border-right-color: var(--fill-color);\n",
              "      border-top-color: var(--fill-color);\n",
              "    }\n",
              "    60% {\n",
              "      border-color: transparent;\n",
              "      border-right-color: var(--fill-color);\n",
              "    }\n",
              "    80% {\n",
              "      border-color: transparent;\n",
              "      border-right-color: var(--fill-color);\n",
              "      border-bottom-color: var(--fill-color);\n",
              "    }\n",
              "    90% {\n",
              "      border-color: transparent;\n",
              "      border-bottom-color: var(--fill-color);\n",
              "    }\n",
              "  }\n",
              "</style>\n",
              "\n",
              "  <script>\n",
              "    async function quickchart(key) {\n",
              "      const quickchartButtonEl =\n",
              "        document.querySelector('#' + key + ' button');\n",
              "      quickchartButtonEl.disabled = true;  // To prevent multiple clicks.\n",
              "      quickchartButtonEl.classList.add('colab-df-spinner');\n",
              "      try {\n",
              "        const charts = await google.colab.kernel.invokeFunction(\n",
              "            'suggestCharts', [key], {});\n",
              "      } catch (error) {\n",
              "        console.error('Error during call to suggestCharts:', error);\n",
              "      }\n",
              "      quickchartButtonEl.classList.remove('colab-df-spinner');\n",
              "      quickchartButtonEl.classList.add('colab-df-quickchart-complete');\n",
              "    }\n",
              "    (() => {\n",
              "      let quickchartButtonEl =\n",
              "        document.querySelector('#df-e0a3958f-aeea-4c3c-a7d6-d1aba2ca9906 button');\n",
              "      quickchartButtonEl.style.display =\n",
              "        google.colab.kernel.accessAllowed ? 'block' : 'none';\n",
              "    })();\n",
              "  </script>\n",
              "</div>\n",
              "\n",
              "    </div>\n",
              "  </div>\n"
            ],
            "application/vnd.google.colaboratory.intrinsic+json": {
              "type": "dataframe",
              "variable_name": "train_purchases"
            }
          },
          "metadata": {},
          "execution_count": 69
        }
      ],
      "source": [
        "if just_checking_integrity:\n",
        "    train_purchases = pd.read_csv(\n",
        "    './dataset/processed_data/train_purchases_mapped.csv',\n",
        "    usecols = ['session_id', 'item_id'],\n",
        "    nrows=len(result)\n",
        "    )\n",
        "else:\n",
        "    train_purchases = pd.read_csv(\n",
        "    './dataset/processed_data/train_purchases_mapped.csv',\n",
        "    usecols = ['session_id', 'item_id'],\n",
        "    )\n",
        "train_purchases.head()"
      ]
    },
    {
      "cell_type": "code",
      "execution_count": 70,
      "metadata": {
        "_cell_guid": "85770635-6e50-4fcc-b7f1-dd6a77339a4c",
        "_uuid": "00d3f8ca-da51-4f52-b581-a1209fcff7d2",
        "execution": {
          "iopub.execute_input": "2022-06-13T12:19:40.042833Z",
          "iopub.status.busy": "2022-06-13T12:19:40.042397Z",
          "iopub.status.idle": "2022-06-13T12:19:40.201069Z",
          "shell.execute_reply": "2022-06-13T12:19:40.199973Z",
          "shell.execute_reply.started": "2022-06-13T12:19:40.042765Z"
        },
        "id": "7D5UdxD_nFsJ",
        "jupyter": {
          "outputs_hidden": false
        },
        "trusted": true
      },
      "outputs": [],
      "source": [
        "train_purchases.sort_values(by=\"session_id\",inplace=True)"
      ]
    },
    {
      "cell_type": "code",
      "execution_count": 71,
      "metadata": {
        "_cell_guid": "4d0fa492-3aff-4891-bf86-8f8fc8961650",
        "_uuid": "0f2eba08-7f51-4820-b288-c79831699dad",
        "execution": {
          "iopub.execute_input": "2022-06-13T12:19:40.758895Z",
          "iopub.status.busy": "2022-06-13T12:19:40.75793Z",
          "iopub.status.idle": "2022-06-13T12:19:46.600816Z",
          "shell.execute_reply": "2022-06-13T12:19:46.599726Z",
          "shell.execute_reply.started": "2022-06-13T12:19:40.758862Z"
        },
        "id": "pJHuoggZN76n",
        "jupyter": {
          "outputs_hidden": false
        },
        "trusted": true
      },
      "outputs": [],
      "source": [
        "x_ids = tf.keras.preprocessing.sequence.pad_sequences(\n",
        "    result['item_id'],\n",
        "    padding='post',\n",
        "    maxlen=100,\n",
        ")"
      ]
    },
    {
      "cell_type": "code",
      "execution_count": 72,
      "metadata": {
        "_cell_guid": "446a0a20-ac1f-41bf-829b-a73acb835378",
        "_uuid": "d00f26f6-7109-4242-a4d5-ec6a6ca13955",
        "execution": {
          "iopub.execute_input": "2022-06-13T12:19:46.603829Z",
          "iopub.status.busy": "2022-06-13T12:19:46.603225Z",
          "iopub.status.idle": "2022-06-13T12:19:51.162541Z",
          "shell.execute_reply": "2022-06-13T12:19:51.161468Z",
          "shell.execute_reply.started": "2022-06-13T12:19:46.60378Z"
        },
        "id": "XhTHmzlnJkkn",
        "jupyter": {
          "outputs_hidden": false
        },
        "outputId": "abff7925-794e-4f94-b99e-4a98ec481100",
        "trusted": true,
        "colab": {
          "base_uri": "https://localhost:8080/"
        }
      },
      "outputs": [
        {
          "output_type": "stream",
          "name": "stdout",
          "text": [
            "Padding timedelta\n"
          ]
        }
      ],
      "source": [
        "for item_related_feature in item_related_features:\n",
        "  print('Padding {}'.format(item_related_feature))\n",
        "  x_item_related = tf.keras.preprocessing.sequence.pad_sequences(\n",
        "      result[item_related_feature],\n",
        "      dtype='float16',\n",
        "      maxlen=100,\n",
        "      padding='post'\n",
        "    )"
      ]
    },
    {
      "cell_type": "code",
      "execution_count": 73,
      "metadata": {
        "_cell_guid": "52b143c2-7ec8-4cf6-88dd-a371b0eb3cc6",
        "_uuid": "b9834a93-e661-4443-aaa5-922cfec62d1a",
        "execution": {
          "iopub.execute_input": "2022-06-13T12:19:51.164542Z",
          "iopub.status.busy": "2022-06-13T12:19:51.164074Z",
          "iopub.status.idle": "2022-06-13T12:19:51.170331Z",
          "shell.execute_reply": "2022-06-13T12:19:51.169346Z",
          "shell.execute_reply.started": "2022-06-13T12:19:51.164486Z"
        },
        "id": "LC1CtWFNO_zT",
        "jupyter": {
          "outputs_hidden": false
        },
        "trusted": true
      },
      "outputs": [],
      "source": [
        "if len(item_related_features) == 1:\n",
        "  x_item_related = np.expand_dims(x_item_related, axis=-1)"
      ]
    },
    {
      "cell_type": "code",
      "execution_count": 74,
      "metadata": {
        "_cell_guid": "fe5a5d6e-951b-45bf-a5df-c3b28cef6aa2",
        "_uuid": "17111ae4-f1c8-41e4-a416-30ae10e83c39",
        "execution": {
          "iopub.execute_input": "2022-06-13T12:19:51.1869Z",
          "iopub.status.busy": "2022-06-13T12:19:51.186271Z",
          "iopub.status.idle": "2022-06-13T12:19:51.195324Z",
          "shell.execute_reply": "2022-06-13T12:19:51.194189Z",
          "shell.execute_reply.started": "2022-06-13T12:19:51.186857Z"
        },
        "id": "8_CknegEb9F4",
        "jupyter": {
          "outputs_hidden": false
        },
        "trusted": true
      },
      "outputs": [],
      "source": [
        "y = train_purchases['item_id'].to_numpy()"
      ]
    },
    {
      "cell_type": "code",
      "execution_count": 75,
      "metadata": {
        "_cell_guid": "6d9db813-39bf-4c5a-9924-aeeea30f4421",
        "_uuid": "84df9d3b-cb15-41db-9a43-a3cb24a9b83f",
        "execution": {
          "iopub.execute_input": "2022-06-13T12:19:51.198322Z",
          "iopub.status.busy": "2022-06-13T12:19:51.196535Z",
          "iopub.status.idle": "2022-06-13T12:19:51.302947Z",
          "shell.execute_reply": "2022-06-13T12:19:51.301858Z",
          "shell.execute_reply.started": "2022-06-13T12:19:51.198277Z"
        },
        "id": "hgFbJXIiMVK8",
        "jupyter": {
          "outputs_hidden": false
        },
        "trusted": true
      },
      "outputs": [],
      "source": [
        "y_features = embedding_weights[y]"
      ]
    },
    {
      "cell_type": "code",
      "execution_count": 76,
      "metadata": {
        "_cell_guid": "8459f340-fae1-4cd3-a08a-fe704aa3b4ee",
        "_uuid": "fa4aae05-cace-41d2-9936-b3662b7732d5",
        "execution": {
          "iopub.execute_input": "2022-06-13T12:19:51.305357Z",
          "iopub.status.busy": "2022-06-13T12:19:51.30492Z",
          "iopub.status.idle": "2022-06-13T12:19:52.269422Z",
          "shell.execute_reply": "2022-06-13T12:19:52.268346Z",
          "shell.execute_reply.started": "2022-06-13T12:19:51.305315Z"
        },
        "id": "Ij3YstDfO1Vz",
        "jupyter": {
          "outputs_hidden": false
        },
        "trusted": true
      },
      "outputs": [],
      "source": [
        "last_month_start = datetime.datetime.strptime(\"01/05/21 00:00:00\", '%d/%m/%y %H:%M:%S')\n",
        "static_features=result[static_features_names].to_numpy()\n",
        "\n",
        "indexer = result[\"date_session_starting\"]>=last_month_start\n",
        "\n",
        "x_session_ids_last_month=result[\"session_id\"][indexer]\n",
        "x_ids_last_month=x_ids[indexer,:]\n",
        "x_reseen_last_month=x_reseen[indexer,:]\n",
        "x_simils_last_month=x_simils[indexer,:]\n",
        "x_simils_feats_last_month=x_simils_feats[indexer,:]\n",
        "x_percentage_seen_last_month=x_percentage_seen[indexer,:]\n",
        "static_features_last_month=static_features[indexer,:]\n",
        "x_item_related_last_month=x_item_related[indexer,:]\n",
        "y_last_month=y[indexer]\n",
        "y_features_last_month=y_features[indexer,:]\n",
        "\n",
        "\n",
        "\n",
        "indexer_train = result[\"date_session_starting\"]<last_month_start\n",
        "\n",
        "\n",
        "x_ids=x_ids[indexer_train,:]\n",
        "x_reseen=x_reseen[indexer_train,:]\n",
        "x_simils=x_simils[indexer_train,:]\n",
        "x_simils_feats=x_simils_feats[indexer_train,:]\n",
        "x_percentage_seen=x_percentage_seen[indexer_train,:]\n",
        "static_features=static_features[indexer_train,:]\n",
        "x_item_related=x_item_related[indexer_train,:]\n",
        "y=y[indexer_train]\n",
        "y_features=y_features[indexer_train,:]"
      ]
    },
    {
      "cell_type": "code",
      "execution_count": null,
      "metadata": {
        "_cell_guid": "529825b1-3954-41a5-abae-ea2c8188f589",
        "_uuid": "c1a7e0f0-34ab-4b0b-9abd-520f2c0c95a3",
        "execution": {
          "iopub.execute_input": "2022-06-13T12:19:55.150386Z",
          "iopub.status.busy": "2022-06-13T12:19:55.149922Z",
          "iopub.status.idle": "2022-06-13T12:19:56.319676Z",
          "shell.execute_reply": "2022-06-13T12:19:56.318441Z",
          "shell.execute_reply.started": "2022-06-13T12:19:55.150339Z"
        },
        "id": "tYkBGGDycPc4",
        "jupyter": {
          "outputs_hidden": false
        },
        "trusted": true
      },
      "outputs": [],
      "source": [
        "x_ids_train, x_ids_test,\\\n",
        "x_reseen_train, x_reseen_test,\\\n",
        "x_simils_train,x_simils_test,\\\n",
        "x_simils_feats_train,x_simils_feats_test,\\\n",
        "x_percentage_seen_train,x_percentage_seen_test,\\\n",
        "x_static_train, x_static_test, \\\n",
        "x_item_related_train, x_item_related_test, \\\n",
        "y_train, y_test, \\\n",
        "y_features_train, y_features_test = train_test_split(\n",
        "    x_ids,\n",
        "    x_reseen,\n",
        "    x_simils,\n",
        "    x_simils_feats,\n",
        "    x_percentage_seen,\n",
        "    static_features,\n",
        "    x_item_related,\n",
        "    y,\n",
        "    y_features,\n",
        "    test_size=0.2,\n",
        "    random_state=1234\n",
        "    )"
      ]
    },
    {
      "cell_type": "code",
      "execution_count": null,
      "metadata": {
        "id": "-oXUPxRfHmlW"
      },
      "outputs": [],
      "source": [
        "shape=y_features_train.shape[1]"
      ]
    },
    {
      "cell_type": "code",
      "execution_count": null,
      "metadata": {
        "_cell_guid": "5733a3f0-b498-4468-8f1b-95ad1f9aaf26",
        "_uuid": "cf80d7a6-9b53-4218-b3d1-e99b4984feb5",
        "execution": {
          "iopub.execute_input": "2022-06-13T12:19:58.615114Z",
          "iopub.status.busy": "2022-06-13T12:19:58.614686Z",
          "iopub.status.idle": "2022-06-13T12:19:59.129604Z",
          "shell.execute_reply": "2022-06-13T12:19:59.128132Z",
          "shell.execute_reply.started": "2022-06-13T12:19:58.615084Z"
        },
        "id": "-xTh2lWG3RwM",
        "jupyter": {
          "outputs_hidden": false
        },
        "outputId": "aeea562c-6502-45b9-ea7c-0f405fe494d5",
        "trusted": true,
        "colab": {
          "base_uri": "https://localhost:8080/"
        }
      },
      "outputs": [
        {
          "output_type": "execute_result",
          "data": {
            "text/plain": [
              "54"
            ]
          },
          "metadata": {},
          "execution_count": 27
        }
      ],
      "source": [
        "del x_ids,x_reseen,x_simils,x_simils_feats,x_percentage_seen,result,x_item_related,y,y_features\n",
        "import gc\n",
        "gc.collect()"
      ]
    },
    {
      "cell_type": "code",
      "source": [
        "if not os.path.exists(\"./dataset/processed_data/transformer_tmp\"):\n",
        "  os.makedirs(\"./dataset/processed_data/transformer_tmp\")\n",
        "\n",
        "numpy_outputs = ['x_ids_train', 'x_reseen_train', 'x_percentage_seen_train', 'x_simils_train', \\\n",
        "                 'x_simils_feats_train', 'x_item_related_train', 'x_static_train', 'y_train', 'y_features_train', \\\n",
        "                 'x_ids_test', 'x_reseen_test', 'x_percentage_seen_test', 'x_simils_test', 'x_simils_feats_test', \\\n",
        "                 'x_item_related_test', 'x_static_test', 'y_test', 'y_features_test']\n",
        "for np_output in numpy_outputs:\n",
        "  np.save(f\"./dataset/processed_data/transformer_tmp/{np_output}.npy\", globals()[np_output])\n"
      ],
      "metadata": {
        "id": "DvM00y59aI5Y"
      },
      "execution_count": null,
      "outputs": []
    },
    {
      "cell_type": "markdown",
      "metadata": {
        "_cell_guid": "1f62e9eb-25a1-47da-8f07-c9ad5fac2c8a",
        "_uuid": "eb012ae5-6fb8-4e4f-999d-74936c33ec5f",
        "id": "H6hj8gghAwEi",
        "trusted": true
      },
      "source": [
        "# Build Dataset"
      ]
    },
    {
      "cell_type": "code",
      "source": [
        "just_checking_integrity=False\n",
        "rows=3000\n",
        "test_rows=1000"
      ],
      "metadata": {
        "id": "EnSfoHTTf5ox"
      },
      "execution_count": 2,
      "outputs": []
    },
    {
      "cell_type": "code",
      "source": [
        "import pandas as pd\n",
        "import tensorflow as tf\n",
        "from tensorflow.keras import layers\n",
        "from sklearn.model_selection import train_test_split\n",
        "import numpy as np\n",
        "import datetime\n",
        "from itertools import compress\n",
        "from math import sin, cos\n",
        "import ast"
      ],
      "metadata": {
        "id": "h_A_U6yMf5sX"
      },
      "execution_count": 3,
      "outputs": []
    },
    {
      "cell_type": "code",
      "source": [
        "from tqdm.auto import tqdm\n",
        "tqdm.pandas()"
      ],
      "metadata": {
        "id": "lh3WTeOLf5w0"
      },
      "execution_count": 4,
      "outputs": []
    },
    {
      "cell_type": "code",
      "source": [
        "import gc\n",
        "gc.collect()"
      ],
      "metadata": {
        "id": "szUgM8SdgESB",
        "outputId": "d5ccd572-ae22-4222-e5bd-206c85909711",
        "colab": {
          "base_uri": "https://localhost:8080/"
        }
      },
      "execution_count": 5,
      "outputs": [
        {
          "output_type": "execute_result",
          "data": {
            "text/plain": [
              "20"
            ]
          },
          "metadata": {},
          "execution_count": 5
        }
      ]
    },
    {
      "cell_type": "code",
      "source": [
        "from google.colab import drive\n",
        "drive.mount('/content/drive')\n",
        "%cd \"/content/drive/My Drive/IDC_MSc/Year1/ReccomendationSystems/Final_Project/\""
      ],
      "metadata": {
        "id": "gcD2HEsLgEUp",
        "outputId": "5537748d-4bf9-4e03-91d6-e6211d395190",
        "colab": {
          "base_uri": "https://localhost:8080/"
        }
      },
      "execution_count": 6,
      "outputs": [
        {
          "output_type": "stream",
          "name": "stdout",
          "text": [
            "Mounted at /content/drive\n",
            "/content/drive/My Drive/IDC_MSc/Year1/ReccomendationSystems/Final_Project\n"
          ]
        }
      ]
    },
    {
      "cell_type": "code",
      "source": [
        "numpy_inputs = ['x_ids_train', 'x_reseen_train', 'x_percentage_seen_train', 'x_simils_train', \\\n",
        "                 'x_simils_feats_train', 'x_item_related_train', 'x_static_train', 'y_train', 'y_features_train', \\\n",
        "                 'x_ids_test', 'x_reseen_test', 'x_percentage_seen_test', 'x_simils_test', 'x_simils_feats_test', \\\n",
        "                 'x_item_related_test', 'x_static_test', 'y_test', 'y_features_test']\n",
        "for np_input in numpy_inputs:\n",
        "  globals()[np_input] = np.load(f\"./dataset/processed_data/transformer_tmp/{np_input}.npy\")"
      ],
      "metadata": {
        "id": "vvhBNPLpdXSM"
      },
      "execution_count": 7,
      "outputs": []
    },
    {
      "cell_type": "code",
      "execution_count": 8,
      "metadata": {
        "_cell_guid": "e8213cd9-2b29-4acf-9e46-683ce2998f84",
        "_uuid": "dc84b215-4966-48ec-8717-30145d0c5d56",
        "execution": {
          "iopub.execute_input": "2022-06-13T12:20:01.150735Z",
          "iopub.status.busy": "2022-06-13T12:20:01.149963Z",
          "iopub.status.idle": "2022-06-13T12:20:09.642239Z",
          "shell.execute_reply": "2022-06-13T12:20:09.641109Z",
          "shell.execute_reply.started": "2022-06-13T12:20:01.150702Z"
        },
        "id": "_3DuLInmeisZ",
        "jupyter": {
          "outputs_hidden": false
        },
        "outputId": "07ce8da8-0aba-4835-fd7f-f026a87031d3",
        "trusted": true,
        "colab": {
          "base_uri": "https://localhost:8080/"
        }
      },
      "outputs": [
        {
          "output_type": "execute_result",
          "data": {
            "text/plain": [
              "0"
            ]
          },
          "metadata": {},
          "execution_count": 8
        }
      ],
      "source": [
        "if just_checking_integrity:\n",
        "    train_set_complete = tf.data.Dataset.from_tensor_slices(\n",
        "        ((x_ids_train, x_reseen_train/100,x_percentage_seen_train,x_simils_train,x_simils_feats_train, x_item_related_train, x_static_train), (y_train, y_features_train))\n",
        "        ).batch(128,num_parallel_calls=tf.data.AUTOTUNE).prefetch(tf.data.AUTOTUNE).shuffle(4, reshuffle_each_iteration=True)\n",
        "else:\n",
        "    train_set_complete = tf.data.Dataset.from_tensor_slices(\n",
        "        ((x_ids_train, x_reseen_train/100,x_percentage_seen_train,x_simils_train,x_simils_feats_train, x_item_related_train, x_static_train), (y_train, y_features_train))\n",
        "        ).batch(2048,num_parallel_calls=tf.data.AUTOTUNE).prefetch(tf.data.AUTOTUNE).shuffle(287, reshuffle_each_iteration=True)\n",
        "test_set_complete = tf.data.Dataset.from_tensor_slices(\n",
        "    ((x_ids_test, x_reseen_test/100, x_percentage_seen_test,x_simils_test,x_simils_feats_test, x_item_related_test, x_static_test), (y_test, y_features_test))\n",
        "    ).batch(512)\n",
        "gc.collect()"
      ]
    },
    {
      "cell_type": "code",
      "execution_count": 9,
      "metadata": {
        "_cell_guid": "b6806744-2970-403c-900c-0e8430bbc6dd",
        "_uuid": "3977ee2c-d2ea-4118-8b25-ee0be1c95352",
        "execution": {
          "iopub.execute_input": "2022-06-13T12:20:09.644631Z",
          "iopub.status.busy": "2022-06-13T12:20:09.644105Z",
          "iopub.status.idle": "2022-06-13T12:20:09.652635Z",
          "shell.execute_reply": "2022-06-13T12:20:09.651481Z",
          "shell.execute_reply.started": "2022-06-13T12:20:09.644573Z"
        },
        "id": "VsF_-eklOcvz",
        "jupyter": {
          "outputs_hidden": false
        },
        "outputId": "fb58796a-bb78-43f9-b976-098c6cd130a6",
        "trusted": true,
        "colab": {
          "base_uri": "https://localhost:8080/"
        }
      },
      "outputs": [
        {
          "output_type": "execute_result",
          "data": {
            "text/plain": [
              "((TensorSpec(shape=(None, 100), dtype=tf.int32, name=None),\n",
              "  TensorSpec(shape=(None, 100), dtype=tf.float64, name=None),\n",
              "  TensorSpec(shape=(None, 100), dtype=tf.float16, name=None),\n",
              "  TensorSpec(shape=(None, 100), dtype=tf.float16, name=None),\n",
              "  TensorSpec(shape=(None, 100), dtype=tf.float16, name=None),\n",
              "  TensorSpec(shape=(None, 100, 1), dtype=tf.float16, name=None),\n",
              "  TensorSpec(shape=(None, 28), dtype=tf.float64, name=None)),\n",
              " (TensorSpec(shape=(None,), dtype=tf.int64, name=None),\n",
              "  TensorSpec(shape=(None, 64), dtype=tf.float32, name=None)))"
            ]
          },
          "metadata": {},
          "execution_count": 9
        }
      ],
      "source": [
        "train_set_complete.element_spec"
      ]
    },
    {
      "cell_type": "markdown",
      "metadata": {
        "_cell_guid": "f02bbf43-5f20-483b-8f31-c3447f9391b6",
        "_uuid": "12a3a1e1-4446-4436-ba94-d9cca7bd6daa",
        "id": "Ysx13_z3573S",
        "trusted": true
      },
      "source": [
        "# Contex aware Transformer NET"
      ]
    },
    {
      "cell_type": "code",
      "source": [
        "static_features_names = [\n",
        "                   'date_hour_sin',\n",
        "                   'date_hour_cos',\n",
        "                   'date_day_sin',\n",
        "                   'date_day_cos',\n",
        "                   'date_month_sin',\n",
        "                   'date_month_cos',\n",
        "                   'date_hour_sin_ending',\n",
        "                   'date_hour_cos_ending',\n",
        "                   'date_day_sin_ending',\n",
        "                   'date_day_cos_ending',\n",
        "                   'date_month_sin_ending',\n",
        "                   'date_month_cos_ending',\n",
        "                   'date_year_2020',\n",
        "                   'length_of_session_seconds',\n",
        "                   'avg_time_spent_per_item_seconds',\n",
        "                   'variance_time_spent_per_item_seconds',\n",
        "                   'n_seen_items',\n",
        "                   'n_unique_items',\n",
        "                   'user_went_afk',\n",
        "                   'is_weekend',\n",
        "                   'is_hot_hour',\n",
        "                   'is_night',\n",
        "                   'is_christmas_time',\n",
        "                   'is_black_friday',\n",
        "                   'session_similarity',\n",
        "                   'session_similarity_uniques',\n",
        "                   'session_similarity_feats',\n",
        "                   'session_similarity_feats_uniques'\n",
        "]"
      ],
      "metadata": {
        "id": "1rfzq4gaguCZ"
      },
      "execution_count": 10,
      "outputs": []
    },
    {
      "cell_type": "code",
      "source": [
        "item_related_features = [\n",
        "                         'timedelta'\n",
        "]"
      ],
      "metadata": {
        "id": "U6eub5v5g0oF"
      },
      "execution_count": 11,
      "outputs": []
    },
    {
      "cell_type": "code",
      "source": [
        "embedding_weights = np.load(\n",
        "    './dataset/processed_data/compressed_features.npy'\n",
        "    )"
      ],
      "metadata": {
        "id": "LoM-cByrhIVy"
      },
      "execution_count": 12,
      "outputs": []
    },
    {
      "cell_type": "code",
      "source": [
        "class PositionEmbedding(layers.Layer):\n",
        "    def __init__(\n",
        "        self,\n",
        "        maxlen,\n",
        "        embed_dim,\n",
        "        ):\n",
        "        super(PositionEmbedding, self).__init__()\n",
        "        self.pos_emb = layers.Embedding(input_dim=maxlen, output_dim=embed_dim)\n",
        "\n",
        "    def call(self, x):\n",
        "        maxlen = tf.shape(x)[-1]\n",
        "        positions = tf.range(start=0, limit=maxlen, delta=1)\n",
        "        positions = self.pos_emb(positions)\n",
        "        return positions"
      ],
      "metadata": {
        "id": "VM46zuHahSvH"
      },
      "execution_count": 13,
      "outputs": []
    },
    {
      "cell_type": "code",
      "source": [
        "class TransformerBlock(layers.Layer):\n",
        "    def __init__(self, embed_dim, num_heads, ff_dim, rate=0.1):\n",
        "        super(TransformerBlock, self).__init__()\n",
        "        self.att = layers.MultiHeadAttention(num_heads=num_heads, key_dim=embed_dim)\n",
        "        self.ffn = tf.keras.Sequential(\n",
        "            [layers.Dense(ff_dim, activation=\"relu\"), layers.Dense(embed_dim),]\n",
        "        )\n",
        "        self.layernorm1 = layers.LayerNormalization(epsilon=1e-6)\n",
        "        self.layernorm2 = layers.LayerNormalization(epsilon=1e-6)\n",
        "        self.dropout1 = layers.Dropout(rate)\n",
        "        self.dropout2 = layers.Dropout(rate)\n",
        "\n",
        "    def call(self, inputs, training):\n",
        "        attn_output = self.att(inputs, inputs)\n",
        "        attn_output = self.dropout1(attn_output, training=training)\n",
        "        out1 = self.layernorm1(inputs + attn_output)\n",
        "        ffn_output = self.ffn(out1)\n",
        "        ffn_output = self.dropout2(ffn_output, training=training)\n",
        "        return self.layernorm2(out1 + ffn_output)"
      ],
      "metadata": {
        "id": "s1Q1uqozhaQs"
      },
      "execution_count": 14,
      "outputs": []
    },
    {
      "cell_type": "code",
      "source": [
        "def mrr_top_at(at=100):\n",
        "    @tf.function\n",
        "    def mrr_top(y_true,y_pred):\n",
        "        top_k=tf.math.top_k(y_pred,k=at)\n",
        "        rr=top_k.indices\n",
        "        #print(rr)\n",
        "        idx=tf.range(start=1,limit=at+1,delta=1)\n",
        "        y_true=tf.reshape(y_true,[-1,1])\n",
        "        #print(y_true)\n",
        "        #y_true=tf.broadcast_to(y_true,test.shape)\n",
        "        y_true=tf.cast(y_true,tf.int32)\n",
        "        ranking=tf.where(tf.math.equal(rr,y_true),idx,0)\n",
        "        #print(ranking)\n",
        "        ranking=tf.reduce_sum(ranking,axis=-1)\n",
        "        ranking=tf.where(ranking>0,1/ranking,0)\n",
        "        #print(ranking)\n",
        "        ranking=tf.reduce_mean(ranking)\n",
        "        return ranking\n",
        "    return mrr_top"
      ],
      "metadata": {
        "id": "Wh98il1vhhbz"
      },
      "execution_count": 15,
      "outputs": []
    },
    {
      "cell_type": "code",
      "execution_count": 16,
      "metadata": {
        "_cell_guid": "2416079c-fbf2-4f4e-8964-c6641fc30229",
        "_uuid": "2dca5593-db26-4304-8e05-bffc911f8158",
        "execution": {
          "iopub.execute_input": "2022-06-13T12:21:12.894893Z",
          "iopub.status.busy": "2022-06-13T12:21:12.894428Z",
          "iopub.status.idle": "2022-06-13T12:21:15.107708Z",
          "shell.execute_reply": "2022-06-13T12:21:15.106667Z",
          "shell.execute_reply.started": "2022-06-13T12:21:12.894862Z"
        },
        "id": "1c55AAEk573T",
        "trusted": true
      },
      "outputs": [],
      "source": [
        "embed_dim = 64  # Embedding size for each token\n",
        "maxlen = 100\n",
        "num_static = len(static_features_names)\n",
        "num_item_related = len(item_related_features)\n",
        "vocabulary_size = 23692 #max(train_purchases['item_id']) # Size of the vocabulary\n",
        "num_heads = 3\n",
        "ff_dim = 128\n",
        "transformer_width = 128 - num_static - num_item_related-4\n",
        "mlp_width = 256\n",
        "mlp_depth = 2\n",
        "\n",
        "###### INPUT ########### INPUT #####\n",
        "id_inputs = layers.Input(shape=(maxlen,), name='ids')\n",
        "item_related_inputs = layers.Input(shape=(maxlen, num_item_related), name='item_related_features')\n",
        "x_reseen_inputs = layers.Input(shape=(maxlen, 1), name='x_reseen_featurs')\n",
        "x_percentage_seen_inputs = layers.Input(shape=(maxlen, 1), name='x_percentage_seen')\n",
        "x_simils_inputs = layers.Input(shape=(maxlen, 1), name='x_similarities_embeddings')\n",
        "x_simils_feats_inputs = layers.Input(shape=(maxlen, 1), name='x_similarities_ICM')\n",
        "static_inputs = layers.Input(shape=(num_static,), name='static_features')\n",
        "\n",
        "\n",
        "##### MODEL DEFINITION #####\n",
        "\n",
        "learned_embedding = layers.Embedding(\n",
        "    input_dim=vocabulary_size,\n",
        "    output_dim=embed_dim,\n",
        "    mask_zero=True,\n",
        "    name='learned_embedding'\n",
        "    )(id_inputs)\n",
        "\n",
        "feature_embedding = layers.Embedding(\n",
        "    input_dim=embedding_weights.shape[0],\n",
        "    output_dim=embedding_weights.shape[1],\n",
        "    mask_zero=True,\n",
        "    trainable=False,\n",
        "    weights=[embedding_weights],\n",
        "    name='feature_embedding'\n",
        "    )(id_inputs)\n",
        "\n",
        "positional_embedding = PositionEmbedding(\n",
        "    maxlen,\n",
        "    embed_dim=embed_dim*2+num_item_related+4\n",
        "    )(id_inputs)\n",
        "\n",
        "embedding = layers.Concatenate(\n",
        "    name='embedding'\n",
        ")([learned_embedding, feature_embedding])\n",
        "\n",
        "masked_item_related_inputs = item_related_inputs[:, :tf.shape(id_inputs)[-1], :]\n",
        "\n",
        "embedding = layers.Concatenate()([embedding, masked_item_related_inputs, x_reseen_inputs,x_percentage_seen_inputs,x_simils_inputs,x_simils_feats_inputs])\n",
        "\n",
        "x_pre = embedding + positional_embedding\n",
        "\n",
        "x_post = TransformerBlock(\n",
        "    embed_dim*2+num_item_related+4,\n",
        "    num_heads,\n",
        "    ff_dim\n",
        "    )(x_pre)\n",
        "\n",
        "x_post = layers.Concatenate()([x_post, x_pre])\n",
        "x_post = layers.GlobalAveragePooling1D()(x_post)\n",
        "\n",
        "x_post = layers.Dense(\n",
        "    units=mlp_width-num_static,\n",
        "    activation='linear'\n",
        "    )(x_post)\n",
        "\n",
        "x_pre = layers.Concatenate()([x_post, static_inputs])\n",
        "\n",
        "for layer in range(mlp_depth):\n",
        "  x_post = layers.LayerNormalization()(x_pre)\n",
        "  x_post = layers.Dropout(0.2)(x_post)\n",
        "  x_post = layers.Dense(units=mlp_width, activation='gelu')(x_post)\n",
        "  x_pre = layers.Add()([x_pre, x_post])\n",
        "\n",
        "##### PREDICTION DEFINITION #####\n",
        "\n",
        "outputs = layers.Dense(19021, activation='softmax', name='y')(x_pre)\n",
        "secondary_outputs = layers.Dense(\n",
        "    units=y_features_train.shape[1],\n",
        "    activation='tanh',\n",
        "    name='y_features'\n",
        "    )(x_pre)\n",
        "\n",
        "model_for_training= tf.keras.Model(\n",
        "    inputs=[id_inputs, x_reseen_inputs, x_percentage_seen_inputs,x_simils_inputs,x_simils_feats_inputs,item_related_inputs, static_inputs],\n",
        "    outputs=[outputs, secondary_outputs],\n",
        "    name=\"encodermodel_training\"\n",
        "    )\n",
        "\n",
        "\n",
        "model_for_training.compile(\n",
        "    optimizer=tf.keras.optimizers.Adamax(\n",
        "\n",
        "    ),\n",
        "    loss=[\n",
        "          lambda y_true, y_pred : tf.keras.losses.categorical_crossentropy(\n",
        "              tf.squeeze(tf.one_hot(tf.cast(y_true, dtype=tf.int32), 19020+1, axis=-1)),\n",
        "              y_pred,\n",
        "              label_smoothing=0.1\n",
        "              ),\n",
        "          'mse'\n",
        "    ],\n",
        "    loss_weights=[1, 1],\n",
        "    metrics=[\n",
        "             [\n",
        "              mrr_top_at(at=100)\n",
        "             ],\n",
        "             []\n",
        "             ]\n",
        "    )\n"
      ]
    },
    {
      "cell_type": "markdown",
      "metadata": {
        "_cell_guid": "03e577d5-56ba-4c87-8713-09e23a8d0466",
        "_uuid": "e9913119-3d7a-44bc-a5e2-bda7be4f653d",
        "id": "lpmY1mZKLHD2",
        "trusted": true
      },
      "source": [
        "# Plot"
      ]
    },
    {
      "cell_type": "code",
      "execution_count": 17,
      "metadata": {
        "_cell_guid": "2228684e-50f4-43f5-9c77-130059b907ee",
        "_uuid": "761d8b25-20b6-4868-80ab-e2411d79e62b",
        "execution": {
          "iopub.execute_input": "2022-06-13T12:21:17.078283Z",
          "iopub.status.busy": "2022-06-13T12:21:17.07783Z",
          "iopub.status.idle": "2022-06-13T12:21:18.648425Z",
          "shell.execute_reply": "2022-06-13T12:21:18.647049Z",
          "shell.execute_reply.started": "2022-06-13T12:21:17.078252Z"
        },
        "id": "IBl0fm9NKpTT",
        "jupyter": {
          "outputs_hidden": false
        },
        "outputId": "9ed614e9-7f83-4ba6-a81d-2e13535aa897",
        "trusted": true,
        "colab": {
          "base_uri": "https://localhost:8080/",
          "height": 1000
        }
      },
      "outputs": [
        {
          "output_type": "execute_result",
          "data": {
            "image/png": "[encoded data removed]",
            "text/plain": [
              "<IPython.core.display.Image object>"
            ]
          },
          "metadata": {},
          "execution_count": 17
        }
      ],
      "source": [
        "tf.keras.utils.plot_model(model_for_training,to_file=\"./transofmer-NN-model.png\",expand_nested=True)"
      ]
    },
    {
      "cell_type": "code",
      "source": [],
      "metadata": {
        "id": "c_-1b3owRUAe"
      },
      "execution_count": null,
      "outputs": []
    },
    {
      "cell_type": "markdown",
      "metadata": {
        "_cell_guid": "91cc2a4b-618d-4307-8146-9fc084a3cd21",
        "_uuid": "29cbf7b6-395d-41e8-9094-d5757eb087f4",
        "id": "Nl0SX9l385k5",
        "trusted": true
      },
      "source": [
        "# Training"
      ]
    },
    {
      "cell_type": "code",
      "execution_count": 18,
      "metadata": {
        "_cell_guid": "b94316f2-bf53-4c3d-8a80-3f347a913af1",
        "_uuid": "8753248d-0b41-4d96-b2d0-a66ed0fec7aa",
        "execution": {
          "iopub.execute_input": "2022-06-13T12:21:22.603013Z",
          "iopub.status.busy": "2022-06-13T12:21:22.602626Z",
          "iopub.status.idle": "2022-06-13T12:22:43.709448Z",
          "shell.execute_reply": "2022-06-13T12:22:43.707834Z",
          "shell.execute_reply.started": "2022-06-13T12:21:22.60298Z"
        },
        "id": "_0ssXFFYfEpN",
        "jupyter": {
          "outputs_hidden": false
        },
        "outputId": "ea5cbfaa-c7c1-4c1c-a773-f80c1230db2d",
        "trusted": true,
        "colab": {
          "base_uri": "https://localhost:8080/"
        }
      },
      "outputs": [
        {
          "output_type": "stream",
          "name": "stdout",
          "text": [
            "Epoch 1/100\n",
            "359/359 [==============================] - 198s 510ms/step - loss: 9.0497 - y_loss: 8.9717 - y_features_loss: 0.0781 - y_mrr_top: 0.0202 - val_loss: 8.4279 - val_y_loss: 8.4001 - val_y_features_loss: 0.0278 - val_y_mrr_top: 0.0321\n",
            "Epoch 2/100\n",
            "359/359 [==============================] - 191s 512ms/step - loss: 8.0259 - y_loss: 7.9867 - y_features_loss: 0.0392 - y_mrr_top: 0.0538 - val_loss: 7.6716 - val_y_loss: 7.6503 - val_y_features_loss: 0.0213 - val_y_mrr_top: 0.0787\n",
            "Epoch 3/100\n",
            "359/359 [==============================] - 190s 511ms/step - loss: 7.4484 - y_loss: 7.4222 - y_features_loss: 0.0262 - y_mrr_top: 0.0963 - val_loss: 7.3458 - val_y_loss: 7.3287 - val_y_features_loss: 0.0171 - val_y_mrr_top: 0.1096\n",
            "Epoch 4/100\n",
            "359/359 [==============================] - 190s 511ms/step - loss: 7.1606 - y_loss: 7.1411 - y_features_loss: 0.0196 - y_mrr_top: 0.1217 - val_loss: 7.1577 - val_y_loss: 7.1432 - val_y_features_loss: 0.0145 - val_y_mrr_top: 0.1283\n",
            "Epoch 5/100\n",
            "359/359 [==============================] - 190s 511ms/step - loss: 6.9690 - y_loss: 6.9528 - y_features_loss: 0.0162 - y_mrr_top: 0.1399 - val_loss: 7.0500 - val_y_loss: 7.0369 - val_y_features_loss: 0.0132 - val_y_mrr_top: 0.1413\n",
            "Epoch 6/100\n",
            "359/359 [==============================] - 190s 511ms/step - loss: 6.8278 - y_loss: 6.8135 - y_features_loss: 0.0143 - y_mrr_top: 0.1539 - val_loss: 6.9761 - val_y_loss: 6.9638 - val_y_features_loss: 0.0123 - val_y_mrr_top: 0.1497\n",
            "Epoch 7/100\n",
            "359/359 [==============================] - 190s 511ms/step - loss: 6.7163 - y_loss: 6.7031 - y_features_loss: 0.0132 - y_mrr_top: 0.1647 - val_loss: 6.9248 - val_y_loss: 6.9130 - val_y_features_loss: 0.0118 - val_y_mrr_top: 0.1569\n",
            "Epoch 8/100\n",
            "359/359 [==============================] - 190s 512ms/step - loss: 6.6237 - y_loss: 6.6112 - y_features_loss: 0.0125 - y_mrr_top: 0.1739 - val_loss: 6.8882 - val_y_loss: 6.8767 - val_y_features_loss: 0.0115 - val_y_mrr_top: 0.1624\n",
            "Epoch 9/100\n",
            "359/359 [==============================] - 191s 512ms/step - loss: 6.5430 - y_loss: 6.5309 - y_features_loss: 0.0121 - y_mrr_top: 0.1819 - val_loss: 6.8636 - val_y_loss: 6.8522 - val_y_features_loss: 0.0113 - val_y_mrr_top: 0.1663\n",
            "Epoch 10/100\n",
            "359/359 [==============================] - 190s 512ms/step - loss: 6.4721 - y_loss: 6.4603 - y_features_loss: 0.0118 - y_mrr_top: 0.1888 - val_loss: 6.8553 - val_y_loss: 6.8441 - val_y_features_loss: 0.0112 - val_y_mrr_top: 0.1697\n",
            "Epoch 11/100\n",
            "359/359 [==============================] - 191s 512ms/step - loss: 6.4061 - y_loss: 6.3945 - y_features_loss: 0.0116 - y_mrr_top: 0.1953 - val_loss: 6.8364 - val_y_loss: 6.8253 - val_y_features_loss: 0.0111 - val_y_mrr_top: 0.1724\n",
            "Epoch 12/100\n",
            "359/359 [==============================] - 191s 512ms/step - loss: 6.3449 - y_loss: 6.3334 - y_features_loss: 0.0115 - y_mrr_top: 0.2014 - val_loss: 6.8334 - val_y_loss: 6.8224 - val_y_features_loss: 0.0110 - val_y_mrr_top: 0.1748\n",
            "Epoch 13/100\n",
            "359/359 [==============================] - 191s 512ms/step - loss: 6.2874 - y_loss: 6.2760 - y_features_loss: 0.0114 - y_mrr_top: 0.2071 - val_loss: 6.8321 - val_y_loss: 6.8211 - val_y_features_loss: 0.0110 - val_y_mrr_top: 0.1763\n",
            "Epoch 14/100\n",
            "359/359 [==============================] - 191s 512ms/step - loss: 6.2327 - y_loss: 6.2214 - y_features_loss: 0.0113 - y_mrr_top: 0.2123 - val_loss: 6.8340 - val_y_loss: 6.8230 - val_y_features_loss: 0.0110 - val_y_mrr_top: 0.1778\n",
            "Epoch 15/100\n",
            "359/359 [==============================] - 191s 512ms/step - loss: 6.1816 - y_loss: 6.1704 - y_features_loss: 0.0112 - y_mrr_top: 0.2174 - val_loss: 6.8383 - val_y_loss: 6.8274 - val_y_features_loss: 0.0109 - val_y_mrr_top: 0.1794\n",
            "Epoch 16/100\n",
            "359/359 [==============================] - 190s 512ms/step - loss: 6.1328 - y_loss: 6.1217 - y_features_loss: 0.0112 - y_mrr_top: 0.2224 - val_loss: 6.8412 - val_y_loss: 6.8303 - val_y_features_loss: 0.0109 - val_y_mrr_top: 0.1802\n",
            "Epoch 17/100\n",
            "359/359 [==============================] - 190s 511ms/step - loss: 6.0857 - y_loss: 6.0745 - y_features_loss: 0.0111 - y_mrr_top: 0.2275 - val_loss: 6.8535 - val_y_loss: 6.8426 - val_y_features_loss: 0.0109 - val_y_mrr_top: 0.1808\n",
            "Epoch 18/100\n",
            "359/359 [==============================] - 190s 512ms/step - loss: 6.0408 - y_loss: 6.0297 - y_features_loss: 0.0111 - y_mrr_top: 0.2321 - val_loss: 6.8783 - val_y_loss: 6.8674 - val_y_features_loss: 0.0109 - val_y_mrr_top: 0.1819\n",
            "Epoch 19/100\n",
            "359/359 [==============================] - 190s 511ms/step - loss: 5.9978 - y_loss: 5.9867 - y_features_loss: 0.0111 - y_mrr_top: 0.2367 - val_loss: 6.8854 - val_y_loss: 6.8745 - val_y_features_loss: 0.0109 - val_y_mrr_top: 0.1821\n",
            "Epoch 20/100\n",
            "359/359 [==============================] - 190s 511ms/step - loss: 5.9560 - y_loss: 5.9450 - y_features_loss: 0.0111 - y_mrr_top: 0.2412 - val_loss: 6.9108 - val_y_loss: 6.8999 - val_y_features_loss: 0.0109 - val_y_mrr_top: 0.1821\n"
          ]
        },
        {
          "output_type": "execute_result",
          "data": {
            "text/plain": [
              "<keras.src.callbacks.History at 0x7b9917e20f10>"
            ]
          },
          "metadata": {},
          "execution_count": 18
        }
      ],
      "source": [
        "gc.collect()\n",
        "if just_checking_integrity:\n",
        "    n_epochs=2\n",
        "else:\n",
        "    n_epochs=100\n",
        "monitor='val_y_mrr_top'\n",
        "model_for_training.fit(\n",
        "    train_set_complete,\n",
        "    validation_data=test_set_complete,\n",
        "    epochs=n_epochs,\n",
        "    callbacks=[\n",
        "               tf.keras.callbacks.EarlyStopping(\n",
        "                  monitor=monitor,\n",
        "                  mode='max',\n",
        "                  patience=1,\n",
        "                  min_delta=0.0001,\n",
        "                  restore_best_weights=True,\n",
        "              ),\n",
        "         ]\n",
        "    )"
      ]
    },
    {
      "cell_type": "code",
      "source": [
        "gc.collect()\n",
        "if just_checking_integrity:\n",
        "    n_epochs=2\n",
        "else:\n",
        "    n_epochs=100\n",
        "monitor='val_y_mrr_top'\n",
        "model_for_training.fit(\n",
        "    train_set_complete,\n",
        "    validation_data=test_set_complete,\n",
        "    epochs=n_epochs,\n",
        "    callbacks=[\n",
        "               tf.keras.callbacks.EarlyStopping(\n",
        "                  monitor=monitor,\n",
        "                  mode='max',\n",
        "                  patience=1,\n",
        "                  min_delta=0.0001,\n",
        "                  restore_best_weights=True,\n",
        "              ),\n",
        "         ]\n",
        "    )"
      ],
      "metadata": {
        "id": "3cO2iC9aqRSt",
        "outputId": "26b64106-a6c1-453a-94c1-141beaefb3ac",
        "colab": {
          "base_uri": "https://localhost:8080/"
        }
      },
      "execution_count": 19,
      "outputs": [
        {
          "output_type": "stream",
          "name": "stdout",
          "text": [
            "Epoch 1/100\n",
            "359/359 [==============================] - 190s 512ms/step - loss: 5.9556 - y_loss: 5.9446 - y_features_loss: 0.0111 - y_mrr_top: 0.2411 - val_loss: 6.8993 - val_y_loss: 6.8884 - val_y_features_loss: 0.0109 - val_y_mrr_top: 0.1827\n",
            "Epoch 2/100\n",
            "359/359 [==============================] - 190s 511ms/step - loss: 5.9157 - y_loss: 5.9047 - y_features_loss: 0.0110 - y_mrr_top: 0.2459 - val_loss: 6.9238 - val_y_loss: 6.9129 - val_y_features_loss: 0.0109 - val_y_mrr_top: 0.1827\n"
          ]
        },
        {
          "output_type": "execute_result",
          "data": {
            "text/plain": [
              "<keras.src.callbacks.History at 0x7b991814f1f0>"
            ]
          },
          "metadata": {},
          "execution_count": 19
        }
      ]
    },
    {
      "cell_type": "code",
      "source": [
        "gc.collect()\n",
        "if just_checking_integrity:\n",
        "    n_epochs=2\n",
        "else:\n",
        "    n_epochs=100\n",
        "monitor='val_y_mrr_top'\n",
        "model_for_training.fit(\n",
        "    train_set_complete,\n",
        "    validation_data=test_set_complete,\n",
        "    epochs=n_epochs,\n",
        "    callbacks=[\n",
        "               tf.keras.callbacks.EarlyStopping(\n",
        "                  monitor=monitor,\n",
        "                  mode='max',\n",
        "                  patience=1,\n",
        "                  min_delta=0.0001,\n",
        "                  restore_best_weights=True,\n",
        "              ),\n",
        "         ]\n",
        "    )"
      ],
      "metadata": {
        "id": "H7bRYJANLEi7",
        "outputId": "1344055d-d92c-4e26-bcf3-039524008f45",
        "colab": {
          "base_uri": "https://localhost:8080/"
        }
      },
      "execution_count": 20,
      "outputs": [
        {
          "output_type": "stream",
          "name": "stdout",
          "text": [
            "Epoch 1/100\n",
            "359/359 [==============================] - 190s 512ms/step - loss: 5.9155 - y_loss: 5.9044 - y_features_loss: 0.0110 - y_mrr_top: 0.2458 - val_loss: 6.9191 - val_y_loss: 6.9082 - val_y_features_loss: 0.0109 - val_y_mrr_top: 0.1821\n",
            "Epoch 2/100\n",
            "359/359 [==============================] - 190s 511ms/step - loss: 5.8762 - y_loss: 5.8652 - y_features_loss: 0.0110 - y_mrr_top: 0.2502 - val_loss: 6.9387 - val_y_loss: 6.9277 - val_y_features_loss: 0.0109 - val_y_mrr_top: 0.1830\n",
            "Epoch 3/100\n",
            "359/359 [==============================] - 190s 511ms/step - loss: 5.8372 - y_loss: 5.8261 - y_features_loss: 0.0110 - y_mrr_top: 0.2549 - val_loss: 6.9607 - val_y_loss: 6.9497 - val_y_features_loss: 0.0109 - val_y_mrr_top: 0.1829\n"
          ]
        },
        {
          "output_type": "execute_result",
          "data": {
            "text/plain": [
              "<keras.src.callbacks.History at 0x7b9916d94040>"
            ]
          },
          "metadata": {},
          "execution_count": 20
        }
      ]
    },
    {
      "cell_type": "code",
      "source": [
        "gc.collect()\n",
        "if just_checking_integrity:\n",
        "    n_epochs=2\n",
        "else:\n",
        "    n_epochs=100\n",
        "monitor='val_y_mrr_top'\n",
        "model_for_training.fit(\n",
        "    train_set_complete,\n",
        "    validation_data=test_set_complete,\n",
        "    epochs=n_epochs,\n",
        "    callbacks=[\n",
        "               tf.keras.callbacks.EarlyStopping(\n",
        "                  monitor=monitor,\n",
        "                  mode='max',\n",
        "                  patience=1,\n",
        "                  min_delta=0.0001,\n",
        "                  restore_best_weights=True,\n",
        "              ),\n",
        "         ]\n",
        "    )"
      ],
      "metadata": {
        "id": "XFO8B4srNgvR",
        "outputId": "14e49197-1ec5-4c52-b106-84b5d18f9a14",
        "colab": {
          "base_uri": "https://localhost:8080/"
        }
      },
      "execution_count": 21,
      "outputs": [
        {
          "output_type": "stream",
          "name": "stdout",
          "text": [
            "Epoch 1/100\n",
            "359/359 [==============================] - 190s 513ms/step - loss: 5.8377 - y_loss: 5.8267 - y_features_loss: 0.0110 - y_mrr_top: 0.2546 - val_loss: 6.9676 - val_y_loss: 6.9567 - val_y_features_loss: 0.0109 - val_y_mrr_top: 0.1832\n",
            "Epoch 2/100\n",
            "359/359 [==============================] - 190s 511ms/step - loss: 5.7993 - y_loss: 5.7883 - y_features_loss: 0.0110 - y_mrr_top: 0.2594 - val_loss: 6.9906 - val_y_loss: 6.9797 - val_y_features_loss: 0.0109 - val_y_mrr_top: 0.1829\n"
          ]
        },
        {
          "output_type": "execute_result",
          "data": {
            "text/plain": [
              "<keras.src.callbacks.History at 0x7b9916b32e30>"
            ]
          },
          "metadata": {},
          "execution_count": 21
        }
      ]
    },
    {
      "cell_type": "markdown",
      "metadata": {
        "_cell_guid": "ceab2d82-fa44-4938-aa9c-d4f2a9cb4ded",
        "_uuid": "d772a48a-0a87-40a0-8dc5-dfea7a780c25",
        "id": "4az6_O4azfs2",
        "trusted": true
      },
      "source": [
        "# Prepare candidates last month"
      ]
    },
    {
      "cell_type": "code",
      "execution_count": 87,
      "metadata": {
        "_cell_guid": "41974ddd-67f9-43f9-85d6-8c0fab103f0a",
        "_uuid": "f2dc23d9-a836-451e-9726-d06489a3c94d",
        "execution": {
          "iopub.execute_input": "2022-06-13T12:23:15.23207Z",
          "iopub.status.busy": "2022-06-13T12:23:15.230874Z",
          "iopub.status.idle": "2022-06-13T12:23:15.537188Z",
          "shell.execute_reply": "2022-06-13T12:23:15.536023Z",
          "shell.execute_reply.started": "2022-06-13T12:23:15.232027Z"
        },
        "id": "8-i1CPSBzfs9",
        "jupyter": {
          "outputs_hidden": false
        },
        "outputId": "088c5ab9-9da5-4f9d-ec87-848a2c9810cd",
        "trusted": true,
        "colab": {
          "base_uri": "https://localhost:8080/"
        }
      },
      "outputs": [
        {
          "output_type": "execute_result",
          "data": {
            "text/plain": [
              "(TensorSpec(shape=(None,), dtype=tf.int64, name=None),\n",
              " (TensorSpec(shape=(None, 100), dtype=tf.int32, name=None),\n",
              "  TensorSpec(shape=(None, 100), dtype=tf.float64, name=None),\n",
              "  TensorSpec(shape=(None, 100), dtype=tf.float16, name=None),\n",
              "  TensorSpec(shape=(None, 100), dtype=tf.float16, name=None),\n",
              "  TensorSpec(shape=(None, 100), dtype=tf.float16, name=None),\n",
              "  TensorSpec(shape=(None, 100, 1), dtype=tf.float16, name=None),\n",
              "  TensorSpec(shape=(None, 28), dtype=tf.float64, name=None)))"
            ]
          },
          "metadata": {},
          "execution_count": 87
        }
      ],
      "source": [
        "submission_set = tf.data.Dataset.from_tensor_slices(\n",
        "    (\n",
        "        x_session_ids_last_month,\n",
        "     (\n",
        "        x_ids_last_month,\n",
        "        x_reseen_last_month/100,\n",
        "        x_percentage_seen_last_month,\n",
        "        x_simils_last_month,\n",
        "        x_simils_feats_last_month,\n",
        "        x_item_related_last_month,\n",
        "        static_features_last_month\n",
        "     )\n",
        "    )\n",
        ").batch(512)\n",
        "submission_set.element_spec"
      ]
    },
    {
      "cell_type": "code",
      "execution_count": 88,
      "metadata": {
        "_cell_guid": "ac9ab944-b49a-4e6a-9d5e-ab9062673483",
        "_uuid": "934f1e8c-35a4-496c-84e5-ed44290b70fc",
        "execution": {
          "iopub.execute_input": "2022-06-13T12:23:15.539671Z",
          "iopub.status.busy": "2022-06-13T12:23:15.539248Z",
          "iopub.status.idle": "2022-06-13T12:23:15.552993Z",
          "shell.execute_reply": "2022-06-13T12:23:15.551816Z",
          "shell.execute_reply.started": "2022-06-13T12:23:15.539629Z"
        },
        "id": "nBWqAAifzfs9",
        "jupyter": {
          "outputs_hidden": false
        },
        "outputId": "6cc74a3b-7740-4f12-b5e5-ccf8ae95ed40",
        "trusted": true,
        "colab": {
          "base_uri": "https://localhost:8080/",
          "height": 53
        }
      },
      "outputs": [
        {
          "output_type": "execute_result",
          "data": {
            "text/plain": [
              "Empty DataFrame\n",
              "Columns: [session_id, code, score, rank]\n",
              "Index: []"
            ],
            "text/html": [
              "\n",
              "  <div id=\"df-c629e4ca-9b1c-406a-a4bb-ec41ad400b65\" class=\"colab-df-container\">\n",
              "    <div>\n",
              "<style scoped>\n",
              "    .dataframe tbody tr th:only-of-type {\n",
              "        vertical-align: middle;\n",
              "    }\n",
              "\n",
              "    .dataframe tbody tr th {\n",
              "        vertical-align: top;\n",
              "    }\n",
              "\n",
              "    .dataframe thead th {\n",
              "        text-align: right;\n",
              "    }\n",
              "</style>\n",
              "<table border=\"1\" class=\"dataframe\">\n",
              "  <thead>\n",
              "    <tr style=\"text-align: right;\">\n",
              "      <th></th>\n",
              "      <th>session_id</th>\n",
              "      <th>code</th>\n",
              "      <th>score</th>\n",
              "      <th>rank</th>\n",
              "    </tr>\n",
              "  </thead>\n",
              "  <tbody>\n",
              "  </tbody>\n",
              "</table>\n",
              "</div>\n",
              "    <div class=\"colab-df-buttons\">\n",
              "\n",
              "  <div class=\"colab-df-container\">\n",
              "    <button class=\"colab-df-convert\" onclick=\"convertToInteractive('df-c629e4ca-9b1c-406a-a4bb-ec41ad400b65')\"\n",
              "            title=\"Convert this dataframe to an interactive table.\"\n",
              "            style=\"display:none;\">\n",
              "\n",
              "  <svg xmlns=\"http://www.w3.org/2000/svg\" height=\"24px\" viewBox=\"0 -960 960 960\">\n",
              "    <path d=\"M120-120v-720h720v720H120Zm60-500h600v-160H180v160Zm220 220h160v-160H400v160Zm0 220h160v-160H400v160ZM180-400h160v-160H180v160Zm440 0h160v-160H620v160ZM180-180h160v-160H180v160Zm440 0h160v-160H620v160Z\"/>\n",
              "  </svg>\n",
              "    </button>\n",
              "\n",
              "  <style>\n",
              "    .colab-df-container {\n",
              "      display:flex;\n",
              "      gap: 12px;\n",
              "    }\n",
              "\n",
              "    .colab-df-convert {\n",
              "      background-color: #E8F0FE;\n",
              "      border: none;\n",
              "      border-radius: 50%;\n",
              "      cursor: pointer;\n",
              "      display: none;\n",
              "      fill: #1967D2;\n",
              "      height: 32px;\n",
              "      padding: 0 0 0 0;\n",
              "      width: 32px;\n",
              "    }\n",
              "\n",
              "    .colab-df-convert:hover {\n",
              "      background-color: #E2EBFA;\n",
              "      box-shadow: 0px 1px 2px rgba(60, 64, 67, 0.3), 0px 1px 3px 1px rgba(60, 64, 67, 0.15);\n",
              "      fill: #174EA6;\n",
              "    }\n",
              "\n",
              "    .colab-df-buttons div {\n",
              "      margin-bottom: 4px;\n",
              "    }\n",
              "\n",
              "    [theme=dark] .colab-df-convert {\n",
              "      background-color: #3B4455;\n",
              "      fill: #D2E3FC;\n",
              "    }\n",
              "\n",
              "    [theme=dark] .colab-df-convert:hover {\n",
              "      background-color: #434B5C;\n",
              "      box-shadow: 0px 1px 3px 1px rgba(0, 0, 0, 0.15);\n",
              "      filter: drop-shadow(0px 1px 2px rgba(0, 0, 0, 0.3));\n",
              "      fill: #FFFFFF;\n",
              "    }\n",
              "  </style>\n",
              "\n",
              "    <script>\n",
              "      const buttonEl =\n",
              "        document.querySelector('#df-c629e4ca-9b1c-406a-a4bb-ec41ad400b65 button.colab-df-convert');\n",
              "      buttonEl.style.display =\n",
              "        google.colab.kernel.accessAllowed ? 'block' : 'none';\n",
              "\n",
              "      async function convertToInteractive(key) {\n",
              "        const element = document.querySelector('#df-c629e4ca-9b1c-406a-a4bb-ec41ad400b65');\n",
              "        const dataTable =\n",
              "          await google.colab.kernel.invokeFunction('convertToInteractive',\n",
              "                                                    [key], {});\n",
              "        if (!dataTable) return;\n",
              "\n",
              "        const docLinkHtml = 'Like what you see? Visit the ' +\n",
              "          '<a target=\"_blank\" href=https://colab.research.google.com/notebooks/data_table.ipynb>data table notebook</a>'\n",
              "          + ' to learn more about interactive tables.';\n",
              "        element.innerHTML = '';\n",
              "        dataTable['output_type'] = 'display_data';\n",
              "        await google.colab.output.renderOutput(dataTable, element);\n",
              "        const docLink = document.createElement('div');\n",
              "        docLink.innerHTML = docLinkHtml;\n",
              "        element.appendChild(docLink);\n",
              "      }\n",
              "    </script>\n",
              "  </div>\n",
              "\n",
              "\n",
              "    </div>\n",
              "  </div>\n"
            ],
            "application/vnd.google.colaboratory.intrinsic+json": {
              "type": "dataframe",
              "variable_name": "submission_df",
              "summary": "{\n  \"name\": \"submission_df\",\n  \"rows\": 0,\n  \"fields\": [\n    {\n      \"column\": \"session_id\",\n      \"properties\": {\n        \"dtype\": \"number\",\n        \"std\": NaN,\n        \"min\": NaN,\n        \"max\": NaN,\n        \"samples\": [],\n        \"num_unique_values\": 0,\n        \"semantic_type\": \"\",\n        \"description\": \"\"\n      }\n    },\n    {\n      \"column\": \"code\",\n      \"properties\": {\n        \"dtype\": \"number\",\n        \"std\": NaN,\n        \"min\": NaN,\n        \"max\": NaN,\n        \"samples\": [],\n        \"num_unique_values\": 0,\n        \"semantic_type\": \"\",\n        \"description\": \"\"\n      }\n    },\n    {\n      \"column\": \"score\",\n      \"properties\": {\n        \"dtype\": \"number\",\n        \"std\": NaN,\n        \"min\": NaN,\n        \"max\": NaN,\n        \"samples\": [],\n        \"num_unique_values\": 0,\n        \"semantic_type\": \"\",\n        \"description\": \"\"\n      }\n    },\n    {\n      \"column\": \"rank\",\n      \"properties\": {\n        \"dtype\": \"number\",\n        \"std\": NaN,\n        \"min\": NaN,\n        \"max\": NaN,\n        \"samples\": [],\n        \"num_unique_values\": 0,\n        \"semantic_type\": \"\",\n        \"description\": \"\"\n      }\n    }\n  ]\n}"
            }
          },
          "metadata": {},
          "execution_count": 88
        }
      ],
      "source": [
        "submission_df = pd.DataFrame(\n",
        "    {\n",
        "        'session_id':[],\n",
        "        'code':[],\n",
        "        'score':[],\n",
        "        'rank':[]\n",
        "    }\n",
        ")\n",
        "\n",
        "submission_df.head()"
      ]
    },
    {
      "cell_type": "code",
      "execution_count": 89,
      "metadata": {
        "_cell_guid": "7d33e969-021a-4982-9b44-e14e5476ccd6",
        "_uuid": "e8d60778-3b0d-4c63-8c30-885b772118c4",
        "execution": {
          "iopub.execute_input": "2022-06-13T12:23:15.558079Z",
          "iopub.status.busy": "2022-06-13T12:23:15.555764Z",
          "iopub.status.idle": "2022-06-13T12:23:15.570976Z",
          "shell.execute_reply": "2022-06-13T12:23:15.569526Z",
          "shell.execute_reply.started": "2022-06-13T12:23:15.558033Z"
        },
        "id": "TuZJwnvXzfs9",
        "jupyter": {
          "outputs_hidden": false
        },
        "trusted": true
      },
      "outputs": [],
      "source": [
        "candidates=np.unique(y_last_month) # this is for the test month"
      ]
    },
    {
      "cell_type": "code",
      "execution_count": 90,
      "metadata": {
        "_cell_guid": "4abd4ae2-3853-452b-89fd-21a3ba1504a7",
        "_uuid": "b8f61d48-2d18-4e53-ac7d-fbb74b49964a",
        "execution": {
          "iopub.execute_input": "2022-06-13T12:23:15.57294Z",
          "iopub.status.busy": "2022-06-13T12:23:15.572365Z",
          "iopub.status.idle": "2022-06-13T12:23:15.582173Z",
          "shell.execute_reply": "2022-06-13T12:23:15.581028Z",
          "shell.execute_reply.started": "2022-06-13T12:23:15.572893Z"
        },
        "id": "a_uakPEbWZeW",
        "jupyter": {
          "outputs_hidden": false
        },
        "outputId": "3d08d9b2-25e3-4ea0-9429-85c01d470b2e",
        "trusted": true,
        "colab": {
          "base_uri": "https://localhost:8080/"
        }
      },
      "outputs": [
        {
          "output_type": "execute_result",
          "data": {
            "text/plain": [
              "array([    1,     2,     3, ..., 18923, 18926, 18945])"
            ]
          },
          "metadata": {},
          "execution_count": 90
        }
      ],
      "source": [
        "candidates"
      ]
    },
    {
      "cell_type": "code",
      "source": [
        "for session_ids, sessions in submission_set:\n",
        "    predicted_scores=model_for_training(sessions)[0].numpy()\n",
        "    mask = np.ones(predicted_scores.shape[1], dtype=bool)\n",
        "    mask[candidates] = False\n",
        "    predicted_scores[...,mask]=-np.inf\n",
        "    predicted_scores=tf.convert_to_tensor(predicted_scores)\n",
        "    preds=tf.math.top_k(predicted_scores, k=100)\n",
        "    scores=preds.values.numpy()\n",
        "    code = preds.indices.numpy()\n",
        "    prediction = pd.DataFrame(\n",
        "        {\n",
        "            'session_id':session_ids,\n",
        "            'code':[tuple(v) for v in code],\n",
        "            'score':[tuple(v) for v in scores],\n",
        "            'rank':[tuple([rank for rank in range(1, 101)]) for id in session_ids]\n",
        "        }\n",
        "        )\n",
        "\n",
        "    submission_df = pd.concat([submission_df, prediction])\n",
        "\n",
        "submission_df.head()"
      ],
      "metadata": {
        "id": "e6y-KX8cUXph",
        "outputId": "372eeb71-67e1-4278-fda1-dd757b81669a",
        "colab": {
          "base_uri": "https://localhost:8080/",
          "height": 293
        }
      },
      "execution_count": 91,
      "outputs": [
        {
          "output_type": "execute_result",
          "data": {
            "text/plain": [
              "   session_id                                               code  \\\n",
              "0    918382.0  (2785, 3731, 3355, 1458, 3820, 1047, 2865, 278...   \n",
              "1    918383.0  (4741, 3593, 2587, 232, 2779, 4503, 3282, 1334...   \n",
              "2    918384.0  (3194, 1977, 294, 99, 3004, 2659, 2629, 328, 1...   \n",
              "3    918385.0  (4380, 381, 3362, 3355, 3634, 690, 2919, 2159,...   \n",
              "4    918386.0  (3256, 2163, 3697, 4309, 4625, 912, 2412, 2726...   \n",
              "\n",
              "                                               score  \\\n",
              "0  (0.061406806, 0.03948225, 0.023728998, 0.02335...   \n",
              "1  (0.07816281, 0.070663296, 0.066448875, 0.04970...   \n",
              "2  (0.3263852, 0.053899158, 0.041868478, 0.037773...   \n",
              "3  (0.072855756, 0.06124653, 0.019411424, 0.01637...   \n",
              "4  (0.028105568, 0.019672083, 0.012498489, 0.0124...   \n",
              "\n",
              "                                                rank  \n",
              "0  (1, 2, 3, 4, 5, 6, 7, 8, 9, 10, 11, 12, 13, 14...  \n",
              "1  (1, 2, 3, 4, 5, 6, 7, 8, 9, 10, 11, 12, 13, 14...  \n",
              "2  (1, 2, 3, 4, 5, 6, 7, 8, 9, 10, 11, 12, 13, 14...  \n",
              "3  (1, 2, 3, 4, 5, 6, 7, 8, 9, 10, 11, 12, 13, 14...  \n",
              "4  (1, 2, 3, 4, 5, 6, 7, 8, 9, 10, 11, 12, 13, 14...  "
            ],
            "text/html": [
              "\n",
              "  <div id=\"df-09caf405-1f48-4478-a7b9-e1686ee0eefe\" class=\"colab-df-container\">\n",
              "    <div>\n",
              "<style scoped>\n",
              "    .dataframe tbody tr th:only-of-type {\n",
              "        vertical-align: middle;\n",
              "    }\n",
              "\n",
              "    .dataframe tbody tr th {\n",
              "        vertical-align: top;\n",
              "    }\n",
              "\n",
              "    .dataframe thead th {\n",
              "        text-align: right;\n",
              "    }\n",
              "</style>\n",
              "<table border=\"1\" class=\"dataframe\">\n",
              "  <thead>\n",
              "    <tr style=\"text-align: right;\">\n",
              "      <th></th>\n",
              "      <th>session_id</th>\n",
              "      <th>code</th>\n",
              "      <th>score</th>\n",
              "      <th>rank</th>\n",
              "    </tr>\n",
              "  </thead>\n",
              "  <tbody>\n",
              "    <tr>\n",
              "      <th>0</th>\n",
              "      <td>918382.0</td>\n",
              "      <td>(2785, 3731, 3355, 1458, 3820, 1047, 2865, 278...</td>\n",
              "      <td>(0.061406806, 0.03948225, 0.023728998, 0.02335...</td>\n",
              "      <td>(1, 2, 3, 4, 5, 6, 7, 8, 9, 10, 11, 12, 13, 14...</td>\n",
              "    </tr>\n",
              "    <tr>\n",
              "      <th>1</th>\n",
              "      <td>918383.0</td>\n",
              "      <td>(4741, 3593, 2587, 232, 2779, 4503, 3282, 1334...</td>\n",
              "      <td>(0.07816281, 0.070663296, 0.066448875, 0.04970...</td>\n",
              "      <td>(1, 2, 3, 4, 5, 6, 7, 8, 9, 10, 11, 12, 13, 14...</td>\n",
              "    </tr>\n",
              "    <tr>\n",
              "      <th>2</th>\n",
              "      <td>918384.0</td>\n",
              "      <td>(3194, 1977, 294, 99, 3004, 2659, 2629, 328, 1...</td>\n",
              "      <td>(0.3263852, 0.053899158, 0.041868478, 0.037773...</td>\n",
              "      <td>(1, 2, 3, 4, 5, 6, 7, 8, 9, 10, 11, 12, 13, 14...</td>\n",
              "    </tr>\n",
              "    <tr>\n",
              "      <th>3</th>\n",
              "      <td>918385.0</td>\n",
              "      <td>(4380, 381, 3362, 3355, 3634, 690, 2919, 2159,...</td>\n",
              "      <td>(0.072855756, 0.06124653, 0.019411424, 0.01637...</td>\n",
              "      <td>(1, 2, 3, 4, 5, 6, 7, 8, 9, 10, 11, 12, 13, 14...</td>\n",
              "    </tr>\n",
              "    <tr>\n",
              "      <th>4</th>\n",
              "      <td>918386.0</td>\n",
              "      <td>(3256, 2163, 3697, 4309, 4625, 912, 2412, 2726...</td>\n",
              "      <td>(0.028105568, 0.019672083, 0.012498489, 0.0124...</td>\n",
              "      <td>(1, 2, 3, 4, 5, 6, 7, 8, 9, 10, 11, 12, 13, 14...</td>\n",
              "    </tr>\n",
              "  </tbody>\n",
              "</table>\n",
              "</div>\n",
              "    <div class=\"colab-df-buttons\">\n",
              "\n",
              "  <div class=\"colab-df-container\">\n",
              "    <button class=\"colab-df-convert\" onclick=\"convertToInteractive('df-09caf405-1f48-4478-a7b9-e1686ee0eefe')\"\n",
              "            title=\"Convert this dataframe to an interactive table.\"\n",
              "            style=\"display:none;\">\n",
              "\n",
              "  <svg xmlns=\"http://www.w3.org/2000/svg\" height=\"24px\" viewBox=\"0 -960 960 960\">\n",
              "    <path d=\"M120-120v-720h720v720H120Zm60-500h600v-160H180v160Zm220 220h160v-160H400v160Zm0 220h160v-160H400v160ZM180-400h160v-160H180v160Zm440 0h160v-160H620v160ZM180-180h160v-160H180v160Zm440 0h160v-160H620v160Z\"/>\n",
              "  </svg>\n",
              "    </button>\n",
              "\n",
              "  <style>\n",
              "    .colab-df-container {\n",
              "      display:flex;\n",
              "      gap: 12px;\n",
              "    }\n",
              "\n",
              "    .colab-df-convert {\n",
              "      background-color: #E8F0FE;\n",
              "      border: none;\n",
              "      border-radius: 50%;\n",
              "      cursor: pointer;\n",
              "      display: none;\n",
              "      fill: #1967D2;\n",
              "      height: 32px;\n",
              "      padding: 0 0 0 0;\n",
              "      width: 32px;\n",
              "    }\n",
              "\n",
              "    .colab-df-convert:hover {\n",
              "      background-color: #E2EBFA;\n",
              "      box-shadow: 0px 1px 2px rgba(60, 64, 67, 0.3), 0px 1px 3px 1px rgba(60, 64, 67, 0.15);\n",
              "      fill: #174EA6;\n",
              "    }\n",
              "\n",
              "    .colab-df-buttons div {\n",
              "      margin-bottom: 4px;\n",
              "    }\n",
              "\n",
              "    [theme=dark] .colab-df-convert {\n",
              "      background-color: #3B4455;\n",
              "      fill: #D2E3FC;\n",
              "    }\n",
              "\n",
              "    [theme=dark] .colab-df-convert:hover {\n",
              "      background-color: #434B5C;\n",
              "      box-shadow: 0px 1px 3px 1px rgba(0, 0, 0, 0.15);\n",
              "      filter: drop-shadow(0px 1px 2px rgba(0, 0, 0, 0.3));\n",
              "      fill: #FFFFFF;\n",
              "    }\n",
              "  </style>\n",
              "\n",
              "    <script>\n",
              "      const buttonEl =\n",
              "        document.querySelector('#df-09caf405-1f48-4478-a7b9-e1686ee0eefe button.colab-df-convert');\n",
              "      buttonEl.style.display =\n",
              "        google.colab.kernel.accessAllowed ? 'block' : 'none';\n",
              "\n",
              "      async function convertToInteractive(key) {\n",
              "        const element = document.querySelector('#df-09caf405-1f48-4478-a7b9-e1686ee0eefe');\n",
              "        const dataTable =\n",
              "          await google.colab.kernel.invokeFunction('convertToInteractive',\n",
              "                                                    [key], {});\n",
              "        if (!dataTable) return;\n",
              "\n",
              "        const docLinkHtml = 'Like what you see? Visit the ' +\n",
              "          '<a target=\"_blank\" href=https://colab.research.google.com/notebooks/data_table.ipynb>data table notebook</a>'\n",
              "          + ' to learn more about interactive tables.';\n",
              "        element.innerHTML = '';\n",
              "        dataTable['output_type'] = 'display_data';\n",
              "        await google.colab.output.renderOutput(dataTable, element);\n",
              "        const docLink = document.createElement('div');\n",
              "        docLink.innerHTML = docLinkHtml;\n",
              "        element.appendChild(docLink);\n",
              "      }\n",
              "    </script>\n",
              "  </div>\n",
              "\n",
              "\n",
              "<div id=\"df-ad04f865-7eb4-4a41-8e52-60e22b78380b\">\n",
              "  <button class=\"colab-df-quickchart\" onclick=\"quickchart('df-ad04f865-7eb4-4a41-8e52-60e22b78380b')\"\n",
              "            title=\"Suggest charts\"\n",
              "            style=\"display:none;\">\n",
              "\n",
              "<svg xmlns=\"http://www.w3.org/2000/svg\" height=\"24px\"viewBox=\"0 0 24 24\"\n",
              "     width=\"24px\">\n",
              "    <g>\n",
              "        <path d=\"M19 3H5c-1.1 0-2 .9-2 2v14c0 1.1.9 2 2 2h14c1.1 0 2-.9 2-2V5c0-1.1-.9-2-2-2zM9 17H7v-7h2v7zm4 0h-2V7h2v10zm4 0h-2v-4h2v4z\"/>\n",
              "    </g>\n",
              "</svg>\n",
              "  </button>\n",
              "\n",
              "<style>\n",
              "  .colab-df-quickchart {\n",
              "      --bg-color: #E8F0FE;\n",
              "      --fill-color: #1967D2;\n",
              "      --hover-bg-color: #E2EBFA;\n",
              "      --hover-fill-color: #174EA6;\n",
              "      --disabled-fill-color: #AAA;\n",
              "      --disabled-bg-color: #DDD;\n",
              "  }\n",
              "\n",
              "  [theme=dark] .colab-df-quickchart {\n",
              "      --bg-color: #3B4455;\n",
              "      --fill-color: #D2E3FC;\n",
              "      --hover-bg-color: #434B5C;\n",
              "      --hover-fill-color: #FFFFFF;\n",
              "      --disabled-bg-color: #3B4455;\n",
              "      --disabled-fill-color: #666;\n",
              "  }\n",
              "\n",
              "  .colab-df-quickchart {\n",
              "    background-color: var(--bg-color);\n",
              "    border: none;\n",
              "    border-radius: 50%;\n",
              "    cursor: pointer;\n",
              "    display: none;\n",
              "    fill: var(--fill-color);\n",
              "    height: 32px;\n",
              "    padding: 0;\n",
              "    width: 32px;\n",
              "  }\n",
              "\n",
              "  .colab-df-quickchart:hover {\n",
              "    background-color: var(--hover-bg-color);\n",
              "    box-shadow: 0 1px 2px rgba(60, 64, 67, 0.3), 0 1px 3px 1px rgba(60, 64, 67, 0.15);\n",
              "    fill: var(--button-hover-fill-color);\n",
              "  }\n",
              "\n",
              "  .colab-df-quickchart-complete:disabled,\n",
              "  .colab-df-quickchart-complete:disabled:hover {\n",
              "    background-color: var(--disabled-bg-color);\n",
              "    fill: var(--disabled-fill-color);\n",
              "    box-shadow: none;\n",
              "  }\n",
              "\n",
              "  .colab-df-spinner {\n",
              "    border: 2px solid var(--fill-color);\n",
              "    border-color: transparent;\n",
              "    border-bottom-color: var(--fill-color);\n",
              "    animation:\n",
              "      spin 1s steps(1) infinite;\n",
              "  }\n",
              "\n",
              "  @keyframes spin {\n",
              "    0% {\n",
              "      border-color: transparent;\n",
              "      border-bottom-color: var(--fill-color);\n",
              "      border-left-color: var(--fill-color);\n",
              "    }\n",
              "    20% {\n",
              "      border-color: transparent;\n",
              "      border-left-color: var(--fill-color);\n",
              "      border-top-color: var(--fill-color);\n",
              "    }\n",
              "    30% {\n",
              "      border-color: transparent;\n",
              "      border-left-color: var(--fill-color);\n",
              "      border-top-color: var(--fill-color);\n",
              "      border-right-color: var(--fill-color);\n",
              "    }\n",
              "    40% {\n",
              "      border-color: transparent;\n",
              "      border-right-color: var(--fill-color);\n",
              "      border-top-color: var(--fill-color);\n",
              "    }\n",
              "    60% {\n",
              "      border-color: transparent;\n",
              "      border-right-color: var(--fill-color);\n",
              "    }\n",
              "    80% {\n",
              "      border-color: transparent;\n",
              "      border-right-color: var(--fill-color);\n",
              "      border-bottom-color: var(--fill-color);\n",
              "    }\n",
              "    90% {\n",
              "      border-color: transparent;\n",
              "      border-bottom-color: var(--fill-color);\n",
              "    }\n",
              "  }\n",
              "</style>\n",
              "\n",
              "  <script>\n",
              "    async function quickchart(key) {\n",
              "      const quickchartButtonEl =\n",
              "        document.querySelector('#' + key + ' button');\n",
              "      quickchartButtonEl.disabled = true;  // To prevent multiple clicks.\n",
              "      quickchartButtonEl.classList.add('colab-df-spinner');\n",
              "      try {\n",
              "        const charts = await google.colab.kernel.invokeFunction(\n",
              "            'suggestCharts', [key], {});\n",
              "      } catch (error) {\n",
              "        console.error('Error during call to suggestCharts:', error);\n",
              "      }\n",
              "      quickchartButtonEl.classList.remove('colab-df-spinner');\n",
              "      quickchartButtonEl.classList.add('colab-df-quickchart-complete');\n",
              "    }\n",
              "    (() => {\n",
              "      let quickchartButtonEl =\n",
              "        document.querySelector('#df-ad04f865-7eb4-4a41-8e52-60e22b78380b button');\n",
              "      quickchartButtonEl.style.display =\n",
              "        google.colab.kernel.accessAllowed ? 'block' : 'none';\n",
              "    })();\n",
              "  </script>\n",
              "</div>\n",
              "\n",
              "    </div>\n",
              "  </div>\n"
            ],
            "application/vnd.google.colaboratory.intrinsic+json": {
              "type": "dataframe",
              "variable_name": "submission_df",
              "summary": "{\n  \"name\": \"submission_df\",\n  \"rows\": 81618,\n  \"fields\": [\n    {\n      \"column\": \"session_id\",\n      \"properties\": {\n        \"dtype\": \"number\",\n        \"std\": 23561.231472484626,\n        \"min\": 918382.0,\n        \"max\": 999999.0,\n        \"samples\": [\n          928265.0,\n          964242.0,\n          959712.0\n        ],\n        \"num_unique_values\": 81618,\n        \"semantic_type\": \"\",\n        \"description\": \"\"\n      }\n    },\n    {\n      \"column\": \"code\",\n      \"properties\": {\n        \"dtype\": \"string\",\n        \"samples\": [\n          [\n            \"4503\",\n            \"4741\",\n            \"933\",\n            \"2182\",\n            \"851\",\n            \"2206\",\n            \"232\",\n            \"2739\",\n            \"4371\",\n            \"967\",\n            \"3155\",\n            \"3986\",\n            \"1227\",\n            \"531\",\n            \"2499\",\n            \"1334\",\n            \"2218\",\n            \"3833\",\n            \"379\",\n            \"4157\",\n            \"1620\",\n            \"3758\",\n            \"3855\",\n            \"1538\",\n            \"3940\",\n            \"2037\",\n            \"3593\",\n            \"189\",\n            \"3561\",\n            \"3436\",\n            \"4737\",\n            \"2694\",\n            \"3124\",\n            \"2724\",\n            \"815\",\n            \"692\",\n            \"55\",\n            \"1675\",\n            \"1051\",\n            \"676\",\n            \"1698\",\n            \"2159\",\n            \"3494\",\n            \"2616\",\n            \"3886\",\n            \"1753\",\n            \"1823\",\n            \"4357\",\n            \"2760\",\n            \"3536\",\n            \"11359\",\n            \"1139\",\n            \"4942\",\n            \"3746\",\n            \"4398\",\n            \"3100\",\n            \"3458\",\n            \"2746\",\n            \"4840\",\n            \"1352\",\n            \"3725\",\n            \"811\",\n            \"4227\",\n            \"725\",\n            \"10573\",\n            \"3282\",\n            \"1609\",\n            \"3168\",\n            \"1936\",\n            \"1458\",\n            \"4862\",\n            \"3952\",\n            \"3671\",\n            \"10898\",\n            \"4180\",\n            \"2737\",\n            \"2589\",\n            \"260\",\n            \"16537\",\n            \"3461\",\n            \"3348\",\n            \"3497\",\n            \"4215\",\n            \"1137\",\n            \"2115\",\n            \"2428\",\n            \"3623\",\n            \"781\",\n            \"4576\",\n            \"2587\",\n            \"3957\",\n            \"3959\",\n            \"723\",\n            \"3362\",\n            \"2161\",\n            \"2971\",\n            \"2263\",\n            \"4153\",\n            \"2706\",\n            \"320\"\n          ],\n          [\n            \"3843\",\n            \"2117\",\n            \"2216\",\n            \"3884\",\n            \"178\",\n            \"2257\",\n            \"1211\",\n            \"1936\",\n            \"3586\",\n            \"2346\",\n            \"950\",\n            \"1518\",\n            \"2285\",\n            \"7\",\n            \"3384\",\n            \"1623\",\n            \"4528\",\n            \"3316\",\n            \"3803\",\n            \"3937\",\n            \"1124\",\n            \"4412\",\n            \"3645\",\n            \"143\",\n            \"3844\",\n            \"2434\",\n            \"1816\",\n            \"3070\",\n            \"1354\",\n            \"2453\",\n            \"1381\",\n            \"118\",\n            \"3815\",\n            \"1963\",\n            \"2966\",\n            \"1400\",\n            \"1458\",\n            \"2578\",\n            \"3155\",\n            \"2877\",\n            \"2920\",\n            \"3172\",\n            \"320\",\n            \"699\",\n            \"4194\",\n            \"1728\",\n            \"3706\",\n            \"2567\",\n            \"2315\",\n            \"2919\",\n            \"4884\",\n            \"2542\",\n            \"4705\",\n            \"1355\",\n            \"429\",\n            \"627\",\n            \"1959\",\n            \"1888\",\n            \"4483\",\n            \"3437\",\n            \"1420\",\n            \"2023\",\n            \"1148\",\n            \"709\",\n            \"1961\",\n            \"3731\",\n            \"2242\",\n            \"39\",\n            \"1870\",\n            \"4054\",\n            \"2112\",\n            \"2263\",\n            \"2001\",\n            \"2817\",\n            \"4587\",\n            \"967\",\n            \"1510\",\n            \"1609\",\n            \"4846\",\n            \"2370\",\n            \"8670\",\n            \"3526\",\n            \"715\",\n            \"3964\",\n            \"4000\",\n            \"3124\",\n            \"2179\",\n            \"3615\",\n            \"2291\",\n            \"2835\",\n            \"4137\",\n            \"2555\",\n            \"2543\",\n            \"4347\",\n            \"4870\",\n            \"3592\",\n            \"17717\",\n            \"1088\",\n            \"2862\",\n            \"1071\"\n          ],\n          [\n            \"2483\",\n            \"1623\",\n            \"4741\",\n            \"3586\",\n            \"1211\",\n            \"4929\",\n            \"513\",\n            \"2724\",\n            \"2346\",\n            \"78\",\n            \"3623\",\n            \"320\",\n            \"3355\",\n            \"2244\",\n            \"2424\",\n            \"2919\",\n            \"1936\",\n            \"2121\",\n            \"1458\",\n            \"750\",\n            \"2092\",\n            \"2370\",\n            \"208\",\n            \"1254\",\n            \"4587\",\n            \"3569\",\n            \"377\",\n            \"3820\",\n            \"2202\",\n            \"1449\",\n            \"3678\",\n            \"4590\",\n            \"4436\",\n            \"3065\",\n            \"3526\",\n            \"3863\",\n            \"1210\",\n            \"3645\",\n            \"3833\",\n            \"2585\",\n            \"3124\",\n            \"519\",\n            \"4726\",\n            \"2117\",\n            \"1420\",\n            \"2646\",\n            \"1139\",\n            \"3417\",\n            \"3844\",\n            \"2780\",\n            \"2774\",\n            \"1227\",\n            \"4136\",\n            \"687\",\n            \"1052\",\n            \"2332\",\n            \"3731\",\n            \"2257\",\n            \"3937\",\n            \"4130\",\n            \"4262\",\n            \"1048\",\n            \"3603\",\n            \"4740\",\n            \"3244\",\n            \"2969\",\n            \"1136\",\n            \"2674\",\n            \"4027\",\n            \"3400\",\n            \"3414\",\n            \"2605\",\n            \"599\",\n            \"2825\",\n            \"2543\",\n            \"2285\",\n            \"3066\",\n            \"463\",\n            \"2901\",\n            \"1240\",\n            \"4119\",\n            \"3283\",\n            \"99\",\n            \"3362\",\n            \"3155\",\n            \"1785\",\n            \"2266\",\n            \"4798\",\n            \"4628\",\n            \"3993\",\n            \"4915\",\n            \"3333\",\n            \"70\",\n            \"1497\",\n            \"1099\",\n            \"292\",\n            \"3461\",\n            \"1636\",\n            \"4347\",\n            \"699\"\n          ]\n        ],\n        \"num_unique_values\": 81583,\n        \"semantic_type\": \"\",\n        \"description\": \"\"\n      }\n    },\n    {\n      \"column\": \"score\",\n      \"properties\": {\n        \"dtype\": \"string\",\n        \"samples\": [\n          [\n            \"0.081062905\",\n            \"0.043052778\",\n            \"0.03622187\",\n            \"0.034971766\",\n            \"0.03450492\",\n            \"0.019211365\",\n            \"0.01796158\",\n            \"0.015010854\",\n            \"0.013537884\",\n            \"0.0134512605\",\n            \"0.012113653\",\n            \"0.011921169\",\n            \"0.010887642\",\n            \"0.010784721\",\n            \"0.010760071\",\n            \"0.009721548\",\n            \"0.0090055335\",\n            \"0.008995156\",\n            \"0.008552719\",\n            \"0.008164409\",\n            \"0.007818396\",\n            \"0.007730828\",\n            \"0.007281492\",\n            \"0.007243997\",\n            \"0.007028233\",\n            \"0.00695105\",\n            \"0.0067667025\",\n            \"0.0065297554\",\n            \"0.0064854217\",\n            \"0.0059666275\",\n            \"0.0055620596\",\n            \"0.0055149747\",\n            \"0.005382455\",\n            \"0.0051099826\",\n            \"0.0050748894\",\n            \"0.0050267405\",\n            \"0.0049400544\",\n            \"0.004918036\",\n            \"0.0048573287\",\n            \"0.0046328185\",\n            \"0.004245276\",\n            \"0.004103223\",\n            \"0.0040761647\",\n            \"0.004038092\",\n            \"0.003938979\",\n            \"0.003725481\",\n            \"0.003480864\",\n            \"0.0034604159\",\n            \"0.003294161\",\n            \"0.0032674442\",\n            \"0.003178216\",\n            \"0.0031245914\",\n            \"0.0031152386\",\n            \"0.0030390806\",\n            \"0.0029537876\",\n            \"0.0029214933\",\n            \"0.0028937764\",\n            \"0.002779434\",\n            \"0.0027508484\",\n            \"0.0026492965\",\n            \"0.0025856018\",\n            \"0.0025801186\",\n            \"0.002544278\",\n            \"0.002534852\",\n            \"0.002529843\",\n            \"0.002455626\",\n            \"0.0024409944\",\n            \"0.002420457\",\n            \"0.0024110365\",\n            \"0.002376519\",\n            \"0.0023383885\",\n            \"0.0022816116\",\n            \"0.0022813876\",\n            \"0.002259708\",\n            \"0.0022466604\",\n            \"0.002235749\",\n            \"0.002193473\",\n            \"0.0021811596\",\n            \"0.0021583617\",\n            \"0.002120089\",\n            \"0.0020998202\",\n            \"0.0020798584\",\n            \"0.0020581647\",\n            \"0.00197337\",\n            \"0.0019241389\",\n            \"0.0018785251\",\n            \"0.0018080457\",\n            \"0.0017669001\",\n            \"0.0017313353\",\n            \"0.0016451214\",\n            \"0.0016324527\",\n            \"0.0016300912\",\n            \"0.0016201775\",\n            \"0.0016090026\",\n            \"0.0015752182\",\n            \"0.0015635247\",\n            \"0.0015530746\",\n            \"0.0015139619\",\n            \"0.0015115008\",\n            \"0.0014652895\"\n          ],\n          [\n            \"0.09961338\",\n            \"0.08253536\",\n            \"0.0751898\",\n            \"0.034635264\",\n            \"0.027108548\",\n            \"0.012642452\",\n            \"0.010443331\",\n            \"0.009129447\",\n            \"0.00832919\",\n            \"0.0073900716\",\n            \"0.007265078\",\n            \"0.006565734\",\n            \"0.006326258\",\n            \"0.0062221414\",\n            \"0.004864118\",\n            \"0.0048294426\",\n            \"0.0043603047\",\n            \"0.0042946655\",\n            \"0.004114978\",\n            \"0.0040202793\",\n            \"0.0035448803\",\n            \"0.0035241495\",\n            \"0.003250293\",\n            \"0.0031208654\",\n            \"0.0029751025\",\n            \"0.002804472\",\n            \"0.0028031573\",\n            \"0.002621745\",\n            \"0.0026172881\",\n            \"0.002477798\",\n            \"0.0024769285\",\n            \"0.0022862747\",\n            \"0.0020958309\",\n            \"0.0019955458\",\n            \"0.0017750284\",\n            \"0.0017349834\",\n            \"0.0016632712\",\n            \"0.00158733\",\n            \"0.0015183657\",\n            \"0.0015016621\",\n            \"0.0014816964\",\n            \"0.0014815324\",\n            \"0.0014502939\",\n            \"0.001382828\",\n            \"0.0011468098\",\n            \"0.0010783225\",\n            \"0.0010581727\",\n            \"0.0010199617\",\n            \"0.0010063964\",\n            \"0.0009984078\",\n            \"0.0009931098\",\n            \"0.0009920166\",\n            \"0.0009886976\",\n            \"0.000980808\",\n            \"0.00095129927\",\n            \"0.00094015704\",\n            \"0.0009340661\",\n            \"0.0009334307\",\n            \"0.00093177555\",\n            \"0.00090274616\",\n            \"0.00089622976\",\n            \"0.0008422324\",\n            \"0.0008382174\",\n            \"0.0008003923\",\n            \"0.0007991483\",\n            \"0.00079360144\",\n            \"0.00076218985\",\n            \"0.00072732236\",\n            \"0.0007167216\",\n            \"0.00071529584\",\n            \"0.0006967514\",\n            \"0.00064705615\",\n            \"0.0006392717\",\n            \"0.0006345933\",\n            \"0.00062713545\",\n            \"0.0006011702\",\n            \"0.00059845846\",\n            \"0.00057521317\",\n            \"0.00057239906\",\n            \"0.000559044\",\n            \"0.00055528944\",\n            \"0.000544957\",\n            \"0.0005448426\",\n            \"0.00054391514\",\n            \"0.00051606144\",\n            \"0.0005153085\",\n            \"0.00050182996\",\n            \"0.0004877713\",\n            \"0.00048533472\",\n            \"0.00047406822\",\n            \"0.0004563045\",\n            \"0.00044820743\",\n            \"0.0004441877\",\n            \"0.0004441606\",\n            \"0.00042475044\",\n            \"0.00042434596\",\n            \"0.0004184074\",\n            \"0.00041602962\",\n            \"0.00041577042\",\n            \"0.00041149423\"\n          ],\n          [\n            \"0.13703847\",\n            \"0.052347\",\n            \"0.034495585\",\n            \"0.025308646\",\n            \"0.024140745\",\n            \"0.017036887\",\n            \"0.015410404\",\n            \"0.010790912\",\n            \"0.010293305\",\n            \"0.009765247\",\n            \"0.008876679\",\n            \"0.0077308347\",\n            \"0.0075786393\",\n            \"0.0075130886\",\n            \"0.0074928864\",\n            \"0.0062450096\",\n            \"0.006108675\",\n            \"0.005381256\",\n            \"0.0051234006\",\n            \"0.004890504\",\n            \"0.004884575\",\n            \"0.0048577655\",\n            \"0.0046858876\",\n            \"0.0046645845\",\n            \"0.0045550615\",\n            \"0.0044003143\",\n            \"0.0043369564\",\n            \"0.0043164785\",\n            \"0.004305409\",\n            \"0.004285984\",\n            \"0.0042802207\",\n            \"0.004076804\",\n            \"0.0038104304\",\n            \"0.0037904438\",\n            \"0.003646072\",\n            \"0.00359916\",\n            \"0.0035394966\",\n            \"0.0034944671\",\n            \"0.003399787\",\n            \"0.0033794509\",\n            \"0.0033580316\",\n            \"0.0032475167\",\n            \"0.0032247223\",\n            \"0.0031436759\",\n            \"0.0030858943\",\n            \"0.003015558\",\n            \"0.0030044331\",\n            \"0.002990821\",\n            \"0.0029598107\",\n            \"0.0028925731\",\n            \"0.002712456\",\n            \"0.0026982313\",\n            \"0.0026665656\",\n            \"0.002629128\",\n            \"0.0025925853\",\n            \"0.0025749414\",\n            \"0.0024972819\",\n            \"0.002367268\",\n            \"0.0023657945\",\n            \"0.0023535881\",\n            \"0.0023385063\",\n            \"0.0022744138\",\n            \"0.0022630354\",\n            \"0.0021976102\",\n            \"0.0020893726\",\n            \"0.0020804056\",\n            \"0.0020702493\",\n            \"0.0020522352\",\n            \"0.0020286115\",\n            \"0.002027419\",\n            \"0.0020180286\",\n            \"0.001999545\",\n            \"0.0019952427\",\n            \"0.0019712434\",\n            \"0.0019692478\",\n            \"0.0019394009\",\n            \"0.0019131857\",\n            \"0.0018868296\",\n            \"0.0018808884\",\n            \"0.001840025\",\n            \"0.0017736108\",\n            \"0.001771713\",\n            \"0.0017580638\",\n            \"0.0017454267\",\n            \"0.0017364894\",\n            \"0.0017165998\",\n            \"0.0016655605\",\n            \"0.0016209942\",\n            \"0.0016206573\",\n            \"0.0015904588\",\n            \"0.0015363814\",\n            \"0.0015332424\",\n            \"0.0015153665\",\n            \"0.0015057313\",\n            \"0.0014996385\",\n            \"0.0014853383\",\n            \"0.0014849141\",\n            \"0.0014464934\",\n            \"0.0013971952\",\n            \"0.0013435433\"\n          ]\n        ],\n        \"num_unique_values\": 81597,\n        \"semantic_type\": \"\",\n        \"description\": \"\"\n      }\n    },\n    {\n      \"column\": \"rank\",\n      \"properties\": {\n        \"dtype\": \"category\",\n        \"samples\": [\n          [\n            1,\n            2,\n            3,\n            4,\n            5,\n            6,\n            7,\n            8,\n            9,\n            10,\n            11,\n            12,\n            13,\n            14,\n            15,\n            16,\n            17,\n            18,\n            19,\n            20,\n            21,\n            22,\n            23,\n            24,\n            25,\n            26,\n            27,\n            28,\n            29,\n            30,\n            31,\n            32,\n            33,\n            34,\n            35,\n            36,\n            37,\n            38,\n            39,\n            40,\n            41,\n            42,\n            43,\n            44,\n            45,\n            46,\n            47,\n            48,\n            49,\n            50,\n            51,\n            52,\n            53,\n            54,\n            55,\n            56,\n            57,\n            58,\n            59,\n            60,\n            61,\n            62,\n            63,\n            64,\n            65,\n            66,\n            67,\n            68,\n            69,\n            70,\n            71,\n            72,\n            73,\n            74,\n            75,\n            76,\n            77,\n            78,\n            79,\n            80,\n            81,\n            82,\n            83,\n            84,\n            85,\n            86,\n            87,\n            88,\n            89,\n            90,\n            91,\n            92,\n            93,\n            94,\n            95,\n            96,\n            97,\n            98,\n            99,\n            100\n          ]\n        ],\n        \"num_unique_values\": 1,\n        \"semantic_type\": \"\",\n        \"description\": \"\"\n      }\n    }\n  ]\n}"
            }
          },
          "metadata": {},
          "execution_count": 91
        }
      ]
    },
    {
      "cell_type": "code",
      "execution_count": 92,
      "metadata": {
        "_cell_guid": "a2ac08f7-02b3-4cda-a4df-ebc63d2bca4a",
        "_uuid": "5bd07fa9-b602-450e-a7d8-6622458e219a",
        "execution": {
          "iopub.execute_input": "2022-06-13T12:24:12.349459Z",
          "iopub.status.busy": "2022-06-13T12:24:12.348919Z",
          "iopub.status.idle": "2022-06-13T12:24:30.352783Z",
          "shell.execute_reply": "2022-06-13T12:24:30.350521Z",
          "shell.execute_reply.started": "2022-06-13T12:24:12.349414Z"
        },
        "id": "IOOPYCfp0dfE",
        "jupyter": {
          "outputs_hidden": false
        },
        "trusted": true
      },
      "outputs": [],
      "source": [
        "if not os.path.exists('./dataset/candidates/NN/Transformer/train'):\n",
        "  os.makedirs('./dataset/candidates/NN/Transformer/train')\n",
        "submission_df.to_csv(\n",
        "    './dataset/candidates/NN/Transformer/train/candidates.csv',\n",
        "    index=False\n",
        "    )"
      ]
    }
  ],
  "metadata": {
    "kernelspec": {
      "display_name": "Python 3",
      "name": "python3"
    },
    "language_info": {
      "codemirror_mode": {
        "name": "ipython",
        "version": 3
      },
      "file_extension": ".py",
      "mimetype": "text/x-python",
      "name": "python",
      "nbconvert_exporter": "python",
      "pygments_lexer": "ipython3",
      "version": "3.7.13"
    },
    "vscode": {
      "interpreter": {
        "hash": "61f38fddaed46afda7c40a5798d4631266e18af1d335aa6f772dc3ed9b8ab549"
      }
    },
    "colab": {
      "provenance": [],
      "gpuType": "T4",
      "machine_shape": "hm",
      "include_colab_link": true
    },
    "accelerator": "GPU",
    "widgets": {
      "application/vnd.jupyter.widget-state+json": {
        "95b20cb95d5447d4adec257dfd903c85": {
          "model_module": "@jupyter-widgets/controls",
          "model_name": "HBoxModel",
          "model_module_version": "1.5.0",
          "state": {
            "_dom_classes": [],
            "_model_module": "@jupyter-widgets/controls",
            "_model_module_version": "1.5.0",
            "_model_name": "HBoxModel",
            "_view_count": null,
            "_view_module": "@jupyter-widgets/controls",
            "_view_module_version": "1.5.0",
            "_view_name": "HBoxView",
            "box_style": "",
            "children": [
              "IPY_MODEL_c1fb9851b58b41c6a848c4447d5289c6",
              "IPY_MODEL_d4dabb4524f842619e037ae07cf6a928",
              "IPY_MODEL_fe634506d9844f4f927bac91884f9a6a"
            ],
            "layout": "IPY_MODEL_891ecf7404174ca68438698cebb70d1f"
          }
        },
        "c1fb9851b58b41c6a848c4447d5289c6": {
          "model_module": "@jupyter-widgets/controls",
          "model_name": "HTMLModel",
          "model_module_version": "1.5.0",
          "state": {
            "_dom_classes": [],
            "_model_module": "@jupyter-widgets/controls",
            "_model_module_version": "1.5.0",
            "_model_name": "HTMLModel",
            "_view_count": null,
            "_view_module": "@jupyter-widgets/controls",
            "_view_module_version": "1.5.0",
            "_view_name": "HTMLView",
            "description": "",
            "description_tooltip": null,
            "layout": "IPY_MODEL_6f2361dbb5be48d68197fea797ee22a5",
            "placeholder": "​",
            "style": "IPY_MODEL_6cdaeaf4b27648acb15817c7f2d5a322",
            "value": "100%"
          }
        },
        "d4dabb4524f842619e037ae07cf6a928": {
          "model_module": "@jupyter-widgets/controls",
          "model_name": "FloatProgressModel",
          "model_module_version": "1.5.0",
          "state": {
            "_dom_classes": [],
            "_model_module": "@jupyter-widgets/controls",
            "_model_module_version": "1.5.0",
            "_model_name": "FloatProgressModel",
            "_view_count": null,
            "_view_module": "@jupyter-widgets/controls",
            "_view_module_version": "1.5.0",
            "_view_name": "ProgressView",
            "bar_style": "success",
            "description": "",
            "description_tooltip": null,
            "layout": "IPY_MODEL_ceb81c32b3d34b34a76943646be41158",
            "max": 1000000,
            "min": 0,
            "orientation": "horizontal",
            "style": "IPY_MODEL_f6b49d1e8d344fdabcdf9f13592c0b88",
            "value": 1000000
          }
        },
        "fe634506d9844f4f927bac91884f9a6a": {
          "model_module": "@jupyter-widgets/controls",
          "model_name": "HTMLModel",
          "model_module_version": "1.5.0",
          "state": {
            "_dom_classes": [],
            "_model_module": "@jupyter-widgets/controls",
            "_model_module_version": "1.5.0",
            "_model_name": "HTMLModel",
            "_view_count": null,
            "_view_module": "@jupyter-widgets/controls",
            "_view_module_version": "1.5.0",
            "_view_name": "HTMLView",
            "description": "",
            "description_tooltip": null,
            "layout": "IPY_MODEL_a1b3bd2047094861a2c34a0769444933",
            "placeholder": "​",
            "style": "IPY_MODEL_06ffbb5f05e942728a4447e44cd4a898",
            "value": " 1000000/1000000 [00:03&lt;00:00, 244289.19it/s]"
          }
        },
        "891ecf7404174ca68438698cebb70d1f": {
          "model_module": "@jupyter-widgets/base",
          "model_name": "LayoutModel",
          "model_module_version": "1.2.0",
          "state": {
            "_model_module": "@jupyter-widgets/base",
            "_model_module_version": "1.2.0",
            "_model_name": "LayoutModel",
            "_view_count": null,
            "_view_module": "@jupyter-widgets/base",
            "_view_module_version": "1.2.0",
            "_view_name": "LayoutView",
            "align_content": null,
            "align_items": null,
            "align_self": null,
            "border": null,
            "bottom": null,
            "display": null,
            "flex": null,
            "flex_flow": null,
            "grid_area": null,
            "grid_auto_columns": null,
            "grid_auto_flow": null,
            "grid_auto_rows": null,
            "grid_column": null,
            "grid_gap": null,
            "grid_row": null,
            "grid_template_areas": null,
            "grid_template_columns": null,
            "grid_template_rows": null,
            "height": null,
            "justify_content": null,
            "justify_items": null,
            "left": null,
            "margin": null,
            "max_height": null,
            "max_width": null,
            "min_height": null,
            "min_width": null,
            "object_fit": null,
            "object_position": null,
            "order": null,
            "overflow": null,
            "overflow_x": null,
            "overflow_y": null,
            "padding": null,
            "right": null,
            "top": null,
            "visibility": null,
            "width": null
          }
        },
        "6f2361dbb5be48d68197fea797ee22a5": {
          "model_module": "@jupyter-widgets/base",
          "model_name": "LayoutModel",
          "model_module_version": "1.2.0",
          "state": {
            "_model_module": "@jupyter-widgets/base",
            "_model_module_version": "1.2.0",
            "_model_name": "LayoutModel",
            "_view_count": null,
            "_view_module": "@jupyter-widgets/base",
            "_view_module_version": "1.2.0",
            "_view_name": "LayoutView",
            "align_content": null,
            "align_items": null,
            "align_self": null,
            "border": null,
            "bottom": null,
            "display": null,
            "flex": null,
            "flex_flow": null,
            "grid_area": null,
            "grid_auto_columns": null,
            "grid_auto_flow": null,
            "grid_auto_rows": null,
            "grid_column": null,
            "grid_gap": null,
            "grid_row": null,
            "grid_template_areas": null,
            "grid_template_columns": null,
            "grid_template_rows": null,
            "height": null,
            "justify_content": null,
            "justify_items": null,
            "left": null,
            "margin": null,
            "max_height": null,
            "max_width": null,
            "min_height": null,
            "min_width": null,
            "object_fit": null,
            "object_position": null,
            "order": null,
            "overflow": null,
            "overflow_x": null,
            "overflow_y": null,
            "padding": null,
            "right": null,
            "top": null,
            "visibility": null,
            "width": null
          }
        },
        "6cdaeaf4b27648acb15817c7f2d5a322": {
          "model_module": "@jupyter-widgets/controls",
          "model_name": "DescriptionStyleModel",
          "model_module_version": "1.5.0",
          "state": {
            "_model_module": "@jupyter-widgets/controls",
            "_model_module_version": "1.5.0",
            "_model_name": "DescriptionStyleModel",
            "_view_count": null,
            "_view_module": "@jupyter-widgets/base",
            "_view_module_version": "1.2.0",
            "_view_name": "StyleView",
            "description_width": ""
          }
        },
        "ceb81c32b3d34b34a76943646be41158": {
          "model_module": "@jupyter-widgets/base",
          "model_name": "LayoutModel",
          "model_module_version": "1.2.0",
          "state": {
            "_model_module": "@jupyter-widgets/base",
            "_model_module_version": "1.2.0",
            "_model_name": "LayoutModel",
            "_view_count": null,
            "_view_module": "@jupyter-widgets/base",
            "_view_module_version": "1.2.0",
            "_view_name": "LayoutView",
            "align_content": null,
            "align_items": null,
            "align_self": null,
            "border": null,
            "bottom": null,
            "display": null,
            "flex": null,
            "flex_flow": null,
            "grid_area": null,
            "grid_auto_columns": null,
            "grid_auto_flow": null,
            "grid_auto_rows": null,
            "grid_column": null,
            "grid_gap": null,
            "grid_row": null,
            "grid_template_areas": null,
            "grid_template_columns": null,
            "grid_template_rows": null,
            "height": null,
            "justify_content": null,
            "justify_items": null,
            "left": null,
            "margin": null,
            "max_height": null,
            "max_width": null,
            "min_height": null,
            "min_width": null,
            "object_fit": null,
            "object_position": null,
            "order": null,
            "overflow": null,
            "overflow_x": null,
            "overflow_y": null,
            "padding": null,
            "right": null,
            "top": null,
            "visibility": null,
            "width": null
          }
        },
        "f6b49d1e8d344fdabcdf9f13592c0b88": {
          "model_module": "@jupyter-widgets/controls",
          "model_name": "ProgressStyleModel",
          "model_module_version": "1.5.0",
          "state": {
            "_model_module": "@jupyter-widgets/controls",
            "_model_module_version": "1.5.0",
            "_model_name": "ProgressStyleModel",
            "_view_count": null,
            "_view_module": "@jupyter-widgets/base",
            "_view_module_version": "1.2.0",
            "_view_name": "StyleView",
            "bar_color": null,
            "description_width": ""
          }
        },
        "a1b3bd2047094861a2c34a0769444933": {
          "model_module": "@jupyter-widgets/base",
          "model_name": "LayoutModel",
          "model_module_version": "1.2.0",
          "state": {
            "_model_module": "@jupyter-widgets/base",
            "_model_module_version": "1.2.0",
            "_model_name": "LayoutModel",
            "_view_count": null,
            "_view_module": "@jupyter-widgets/base",
            "_view_module_version": "1.2.0",
            "_view_name": "LayoutView",
            "align_content": null,
            "align_items": null,
            "align_self": null,
            "border": null,
            "bottom": null,
            "display": null,
            "flex": null,
            "flex_flow": null,
            "grid_area": null,
            "grid_auto_columns": null,
            "grid_auto_flow": null,
            "grid_auto_rows": null,
            "grid_column": null,
            "grid_gap": null,
            "grid_row": null,
            "grid_template_areas": null,
            "grid_template_columns": null,
            "grid_template_rows": null,
            "height": null,
            "justify_content": null,
            "justify_items": null,
            "left": null,
            "margin": null,
            "max_height": null,
            "max_width": null,
            "min_height": null,
            "min_width": null,
            "object_fit": null,
            "object_position": null,
            "order": null,
            "overflow": null,
            "overflow_x": null,
            "overflow_y": null,
            "padding": null,
            "right": null,
            "top": null,
            "visibility": null,
            "width": null
          }
        },
        "06ffbb5f05e942728a4447e44cd4a898": {
          "model_module": "@jupyter-widgets/controls",
          "model_name": "DescriptionStyleModel",
          "model_module_version": "1.5.0",
          "state": {
            "_model_module": "@jupyter-widgets/controls",
            "_model_module_version": "1.5.0",
            "_model_name": "DescriptionStyleModel",
            "_view_count": null,
            "_view_module": "@jupyter-widgets/base",
            "_view_module_version": "1.2.0",
            "_view_name": "StyleView",
            "description_width": ""
          }
        },
        "c25457d6caff4bfd96bcf1a7df0ac390": {
          "model_module": "@jupyter-widgets/controls",
          "model_name": "HBoxModel",
          "model_module_version": "1.5.0",
          "state": {
            "_dom_classes": [],
            "_model_module": "@jupyter-widgets/controls",
            "_model_module_version": "1.5.0",
            "_model_name": "HBoxModel",
            "_view_count": null,
            "_view_module": "@jupyter-widgets/controls",
            "_view_module_version": "1.5.0",
            "_view_name": "HBoxView",
            "box_style": "",
            "children": [
              "IPY_MODEL_fb4271bf2fdc4634b5d6112e64a96807",
              "IPY_MODEL_8b12bc40f9c2469dba16e52b1f20ff41",
              "IPY_MODEL_d0bc32db01b440df88e86e124a96b2d7"
            ],
            "layout": "IPY_MODEL_48687d7182a64ba0a3495b88c877936e"
          }
        },
        "fb4271bf2fdc4634b5d6112e64a96807": {
          "model_module": "@jupyter-widgets/controls",
          "model_name": "HTMLModel",
          "model_module_version": "1.5.0",
          "state": {
            "_dom_classes": [],
            "_model_module": "@jupyter-widgets/controls",
            "_model_module_version": "1.5.0",
            "_model_name": "HTMLModel",
            "_view_count": null,
            "_view_module": "@jupyter-widgets/controls",
            "_view_module_version": "1.5.0",
            "_view_name": "HTMLView",
            "description": "",
            "description_tooltip": null,
            "layout": "IPY_MODEL_3a6f4bf15ec74ac8989e1ed3bce8c55f",
            "placeholder": "​",
            "style": "IPY_MODEL_cbae5f4ac1424d77a21f701bab53eccb",
            "value": "100%"
          }
        },
        "8b12bc40f9c2469dba16e52b1f20ff41": {
          "model_module": "@jupyter-widgets/controls",
          "model_name": "FloatProgressModel",
          "model_module_version": "1.5.0",
          "state": {
            "_dom_classes": [],
            "_model_module": "@jupyter-widgets/controls",
            "_model_module_version": "1.5.0",
            "_model_name": "FloatProgressModel",
            "_view_count": null,
            "_view_module": "@jupyter-widgets/controls",
            "_view_module_version": "1.5.0",
            "_view_name": "ProgressView",
            "bar_style": "success",
            "description": "",
            "description_tooltip": null,
            "layout": "IPY_MODEL_3587a6cb76f94106b2c82c027c232f86",
            "max": 1000000,
            "min": 0,
            "orientation": "horizontal",
            "style": "IPY_MODEL_23d8be8702a54d17b728d90ec9e6939b",
            "value": 1000000
          }
        },
        "d0bc32db01b440df88e86e124a96b2d7": {
          "model_module": "@jupyter-widgets/controls",
          "model_name": "HTMLModel",
          "model_module_version": "1.5.0",
          "state": {
            "_dom_classes": [],
            "_model_module": "@jupyter-widgets/controls",
            "_model_module_version": "1.5.0",
            "_model_name": "HTMLModel",
            "_view_count": null,
            "_view_module": "@jupyter-widgets/controls",
            "_view_module_version": "1.5.0",
            "_view_name": "HTMLView",
            "description": "",
            "description_tooltip": null,
            "layout": "IPY_MODEL_8c61694d63964c7ca1f71a65ce778f2d",
            "placeholder": "​",
            "style": "IPY_MODEL_9f1f15c020e54ca2bc97b0e34f5ff7c6",
            "value": " 1000000/1000000 [00:02&lt;00:00, 384089.90it/s]"
          }
        },
        "48687d7182a64ba0a3495b88c877936e": {
          "model_module": "@jupyter-widgets/base",
          "model_name": "LayoutModel",
          "model_module_version": "1.2.0",
          "state": {
            "_model_module": "@jupyter-widgets/base",
            "_model_module_version": "1.2.0",
            "_model_name": "LayoutModel",
            "_view_count": null,
            "_view_module": "@jupyter-widgets/base",
            "_view_module_version": "1.2.0",
            "_view_name": "LayoutView",
            "align_content": null,
            "align_items": null,
            "align_self": null,
            "border": null,
            "bottom": null,
            "display": null,
            "flex": null,
            "flex_flow": null,
            "grid_area": null,
            "grid_auto_columns": null,
            "grid_auto_flow": null,
            "grid_auto_rows": null,
            "grid_column": null,
            "grid_gap": null,
            "grid_row": null,
            "grid_template_areas": null,
            "grid_template_columns": null,
            "grid_template_rows": null,
            "height": null,
            "justify_content": null,
            "justify_items": null,
            "left": null,
            "margin": null,
            "max_height": null,
            "max_width": null,
            "min_height": null,
            "min_width": null,
            "object_fit": null,
            "object_position": null,
            "order": null,
            "overflow": null,
            "overflow_x": null,
            "overflow_y": null,
            "padding": null,
            "right": null,
            "top": null,
            "visibility": null,
            "width": null
          }
        },
        "3a6f4bf15ec74ac8989e1ed3bce8c55f": {
          "model_module": "@jupyter-widgets/base",
          "model_name": "LayoutModel",
          "model_module_version": "1.2.0",
          "state": {
            "_model_module": "@jupyter-widgets/base",
            "_model_module_version": "1.2.0",
            "_model_name": "LayoutModel",
            "_view_count": null,
            "_view_module": "@jupyter-widgets/base",
            "_view_module_version": "1.2.0",
            "_view_name": "LayoutView",
            "align_content": null,
            "align_items": null,
            "align_self": null,
            "border": null,
            "bottom": null,
            "display": null,
            "flex": null,
            "flex_flow": null,
            "grid_area": null,
            "grid_auto_columns": null,
            "grid_auto_flow": null,
            "grid_auto_rows": null,
            "grid_column": null,
            "grid_gap": null,
            "grid_row": null,
            "grid_template_areas": null,
            "grid_template_columns": null,
            "grid_template_rows": null,
            "height": null,
            "justify_content": null,
            "justify_items": null,
            "left": null,
            "margin": null,
            "max_height": null,
            "max_width": null,
            "min_height": null,
            "min_width": null,
            "object_fit": null,
            "object_position": null,
            "order": null,
            "overflow": null,
            "overflow_x": null,
            "overflow_y": null,
            "padding": null,
            "right": null,
            "top": null,
            "visibility": null,
            "width": null
          }
        },
        "cbae5f4ac1424d77a21f701bab53eccb": {
          "model_module": "@jupyter-widgets/controls",
          "model_name": "DescriptionStyleModel",
          "model_module_version": "1.5.0",
          "state": {
            "_model_module": "@jupyter-widgets/controls",
            "_model_module_version": "1.5.0",
            "_model_name": "DescriptionStyleModel",
            "_view_count": null,
            "_view_module": "@jupyter-widgets/base",
            "_view_module_version": "1.2.0",
            "_view_name": "StyleView",
            "description_width": ""
          }
        },
        "3587a6cb76f94106b2c82c027c232f86": {
          "model_module": "@jupyter-widgets/base",
          "model_name": "LayoutModel",
          "model_module_version": "1.2.0",
          "state": {
            "_model_module": "@jupyter-widgets/base",
            "_model_module_version": "1.2.0",
            "_model_name": "LayoutModel",
            "_view_count": null,
            "_view_module": "@jupyter-widgets/base",
            "_view_module_version": "1.2.0",
            "_view_name": "LayoutView",
            "align_content": null,
            "align_items": null,
            "align_self": null,
            "border": null,
            "bottom": null,
            "display": null,
            "flex": null,
            "flex_flow": null,
            "grid_area": null,
            "grid_auto_columns": null,
            "grid_auto_flow": null,
            "grid_auto_rows": null,
            "grid_column": null,
            "grid_gap": null,
            "grid_row": null,
            "grid_template_areas": null,
            "grid_template_columns": null,
            "grid_template_rows": null,
            "height": null,
            "justify_content": null,
            "justify_items": null,
            "left": null,
            "margin": null,
            "max_height": null,
            "max_width": null,
            "min_height": null,
            "min_width": null,
            "object_fit": null,
            "object_position": null,
            "order": null,
            "overflow": null,
            "overflow_x": null,
            "overflow_y": null,
            "padding": null,
            "right": null,
            "top": null,
            "visibility": null,
            "width": null
          }
        },
        "23d8be8702a54d17b728d90ec9e6939b": {
          "model_module": "@jupyter-widgets/controls",
          "model_name": "ProgressStyleModel",
          "model_module_version": "1.5.0",
          "state": {
            "_model_module": "@jupyter-widgets/controls",
            "_model_module_version": "1.5.0",
            "_model_name": "ProgressStyleModel",
            "_view_count": null,
            "_view_module": "@jupyter-widgets/base",
            "_view_module_version": "1.2.0",
            "_view_name": "StyleView",
            "bar_color": null,
            "description_width": ""
          }
        },
        "8c61694d63964c7ca1f71a65ce778f2d": {
          "model_module": "@jupyter-widgets/base",
          "model_name": "LayoutModel",
          "model_module_version": "1.2.0",
          "state": {
            "_model_module": "@jupyter-widgets/base",
            "_model_module_version": "1.2.0",
            "_model_name": "LayoutModel",
            "_view_count": null,
            "_view_module": "@jupyter-widgets/base",
            "_view_module_version": "1.2.0",
            "_view_name": "LayoutView",
            "align_content": null,
            "align_items": null,
            "align_self": null,
            "border": null,
            "bottom": null,
            "display": null,
            "flex": null,
            "flex_flow": null,
            "grid_area": null,
            "grid_auto_columns": null,
            "grid_auto_flow": null,
            "grid_auto_rows": null,
            "grid_column": null,
            "grid_gap": null,
            "grid_row": null,
            "grid_template_areas": null,
            "grid_template_columns": null,
            "grid_template_rows": null,
            "height": null,
            "justify_content": null,
            "justify_items": null,
            "left": null,
            "margin": null,
            "max_height": null,
            "max_width": null,
            "min_height": null,
            "min_width": null,
            "object_fit": null,
            "object_position": null,
            "order": null,
            "overflow": null,
            "overflow_x": null,
            "overflow_y": null,
            "padding": null,
            "right": null,
            "top": null,
            "visibility": null,
            "width": null
          }
        },
        "9f1f15c020e54ca2bc97b0e34f5ff7c6": {
          "model_module": "@jupyter-widgets/controls",
          "model_name": "DescriptionStyleModel",
          "model_module_version": "1.5.0",
          "state": {
            "_model_module": "@jupyter-widgets/controls",
            "_model_module_version": "1.5.0",
            "_model_name": "DescriptionStyleModel",
            "_view_count": null,
            "_view_module": "@jupyter-widgets/base",
            "_view_module_version": "1.2.0",
            "_view_name": "StyleView",
            "description_width": ""
          }
        },
        "fe04772000a642e68115f020c8686311": {
          "model_module": "@jupyter-widgets/controls",
          "model_name": "HBoxModel",
          "model_module_version": "1.5.0",
          "state": {
            "_dom_classes": [],
            "_model_module": "@jupyter-widgets/controls",
            "_model_module_version": "1.5.0",
            "_model_name": "HBoxModel",
            "_view_count": null,
            "_view_module": "@jupyter-widgets/controls",
            "_view_module_version": "1.5.0",
            "_view_name": "HBoxView",
            "box_style": "",
            "children": [
              "IPY_MODEL_1ac57cdd4f80415b859f477621d0edda",
              "IPY_MODEL_c7951514e2ae41d0948a48fdc8aac18b",
              "IPY_MODEL_d8f487d342fd4590840a152c842459a0"
            ],
            "layout": "IPY_MODEL_5e308d1121874669963e8669c23173d2"
          }
        },
        "1ac57cdd4f80415b859f477621d0edda": {
          "model_module": "@jupyter-widgets/controls",
          "model_name": "HTMLModel",
          "model_module_version": "1.5.0",
          "state": {
            "_dom_classes": [],
            "_model_module": "@jupyter-widgets/controls",
            "_model_module_version": "1.5.0",
            "_model_name": "HTMLModel",
            "_view_count": null,
            "_view_module": "@jupyter-widgets/controls",
            "_view_module_version": "1.5.0",
            "_view_name": "HTMLView",
            "description": "",
            "description_tooltip": null,
            "layout": "IPY_MODEL_061442924bfb4137adcb50fe2ff1087a",
            "placeholder": "​",
            "style": "IPY_MODEL_3cd6ea63018b470ba890acd5d43b085e",
            "value": "100%"
          }
        },
        "c7951514e2ae41d0948a48fdc8aac18b": {
          "model_module": "@jupyter-widgets/controls",
          "model_name": "FloatProgressModel",
          "model_module_version": "1.5.0",
          "state": {
            "_dom_classes": [],
            "_model_module": "@jupyter-widgets/controls",
            "_model_module_version": "1.5.0",
            "_model_name": "FloatProgressModel",
            "_view_count": null,
            "_view_module": "@jupyter-widgets/controls",
            "_view_module_version": "1.5.0",
            "_view_name": "ProgressView",
            "bar_style": "success",
            "description": "",
            "description_tooltip": null,
            "layout": "IPY_MODEL_73fb98fd0b274a2d9326f9398b9ff6a2",
            "max": 1000000,
            "min": 0,
            "orientation": "horizontal",
            "style": "IPY_MODEL_b1eb1985e8e441e5bdc8e7d6d5ee4681",
            "value": 1000000
          }
        },
        "d8f487d342fd4590840a152c842459a0": {
          "model_module": "@jupyter-widgets/controls",
          "model_name": "HTMLModel",
          "model_module_version": "1.5.0",
          "state": {
            "_dom_classes": [],
            "_model_module": "@jupyter-widgets/controls",
            "_model_module_version": "1.5.0",
            "_model_name": "HTMLModel",
            "_view_count": null,
            "_view_module": "@jupyter-widgets/controls",
            "_view_module_version": "1.5.0",
            "_view_name": "HTMLView",
            "description": "",
            "description_tooltip": null,
            "layout": "IPY_MODEL_3e7eceb753cb41e592891b330e5749fd",
            "placeholder": "​",
            "style": "IPY_MODEL_1def62a6871d4bdb8667ef0c5a8bc8d9",
            "value": " 1000000/1000000 [00:25&lt;00:00, 36577.05it/s]"
          }
        },
        "5e308d1121874669963e8669c23173d2": {
          "model_module": "@jupyter-widgets/base",
          "model_name": "LayoutModel",
          "model_module_version": "1.2.0",
          "state": {
            "_model_module": "@jupyter-widgets/base",
            "_model_module_version": "1.2.0",
            "_model_name": "LayoutModel",
            "_view_count": null,
            "_view_module": "@jupyter-widgets/base",
            "_view_module_version": "1.2.0",
            "_view_name": "LayoutView",
            "align_content": null,
            "align_items": null,
            "align_self": null,
            "border": null,
            "bottom": null,
            "display": null,
            "flex": null,
            "flex_flow": null,
            "grid_area": null,
            "grid_auto_columns": null,
            "grid_auto_flow": null,
            "grid_auto_rows": null,
            "grid_column": null,
            "grid_gap": null,
            "grid_row": null,
            "grid_template_areas": null,
            "grid_template_columns": null,
            "grid_template_rows": null,
            "height": null,
            "justify_content": null,
            "justify_items": null,
            "left": null,
            "margin": null,
            "max_height": null,
            "max_width": null,
            "min_height": null,
            "min_width": null,
            "object_fit": null,
            "object_position": null,
            "order": null,
            "overflow": null,
            "overflow_x": null,
            "overflow_y": null,
            "padding": null,
            "right": null,
            "top": null,
            "visibility": null,
            "width": null
          }
        },
        "061442924bfb4137adcb50fe2ff1087a": {
          "model_module": "@jupyter-widgets/base",
          "model_name": "LayoutModel",
          "model_module_version": "1.2.0",
          "state": {
            "_model_module": "@jupyter-widgets/base",
            "_model_module_version": "1.2.0",
            "_model_name": "LayoutModel",
            "_view_count": null,
            "_view_module": "@jupyter-widgets/base",
            "_view_module_version": "1.2.0",
            "_view_name": "LayoutView",
            "align_content": null,
            "align_items": null,
            "align_self": null,
            "border": null,
            "bottom": null,
            "display": null,
            "flex": null,
            "flex_flow": null,
            "grid_area": null,
            "grid_auto_columns": null,
            "grid_auto_flow": null,
            "grid_auto_rows": null,
            "grid_column": null,
            "grid_gap": null,
            "grid_row": null,
            "grid_template_areas": null,
            "grid_template_columns": null,
            "grid_template_rows": null,
            "height": null,
            "justify_content": null,
            "justify_items": null,
            "left": null,
            "margin": null,
            "max_height": null,
            "max_width": null,
            "min_height": null,
            "min_width": null,
            "object_fit": null,
            "object_position": null,
            "order": null,
            "overflow": null,
            "overflow_x": null,
            "overflow_y": null,
            "padding": null,
            "right": null,
            "top": null,
            "visibility": null,
            "width": null
          }
        },
        "3cd6ea63018b470ba890acd5d43b085e": {
          "model_module": "@jupyter-widgets/controls",
          "model_name": "DescriptionStyleModel",
          "model_module_version": "1.5.0",
          "state": {
            "_model_module": "@jupyter-widgets/controls",
            "_model_module_version": "1.5.0",
            "_model_name": "DescriptionStyleModel",
            "_view_count": null,
            "_view_module": "@jupyter-widgets/base",
            "_view_module_version": "1.2.0",
            "_view_name": "StyleView",
            "description_width": ""
          }
        },
        "73fb98fd0b274a2d9326f9398b9ff6a2": {
          "model_module": "@jupyter-widgets/base",
          "model_name": "LayoutModel",
          "model_module_version": "1.2.0",
          "state": {
            "_model_module": "@jupyter-widgets/base",
            "_model_module_version": "1.2.0",
            "_model_name": "LayoutModel",
            "_view_count": null,
            "_view_module": "@jupyter-widgets/base",
            "_view_module_version": "1.2.0",
            "_view_name": "LayoutView",
            "align_content": null,
            "align_items": null,
            "align_self": null,
            "border": null,
            "bottom": null,
            "display": null,
            "flex": null,
            "flex_flow": null,
            "grid_area": null,
            "grid_auto_columns": null,
            "grid_auto_flow": null,
            "grid_auto_rows": null,
            "grid_column": null,
            "grid_gap": null,
            "grid_row": null,
            "grid_template_areas": null,
            "grid_template_columns": null,
            "grid_template_rows": null,
            "height": null,
            "justify_content": null,
            "justify_items": null,
            "left": null,
            "margin": null,
            "max_height": null,
            "max_width": null,
            "min_height": null,
            "min_width": null,
            "object_fit": null,
            "object_position": null,
            "order": null,
            "overflow": null,
            "overflow_x": null,
            "overflow_y": null,
            "padding": null,
            "right": null,
            "top": null,
            "visibility": null,
            "width": null
          }
        },
        "b1eb1985e8e441e5bdc8e7d6d5ee4681": {
          "model_module": "@jupyter-widgets/controls",
          "model_name": "ProgressStyleModel",
          "model_module_version": "1.5.0",
          "state": {
            "_model_module": "@jupyter-widgets/controls",
            "_model_module_version": "1.5.0",
            "_model_name": "ProgressStyleModel",
            "_view_count": null,
            "_view_module": "@jupyter-widgets/base",
            "_view_module_version": "1.2.0",
            "_view_name": "StyleView",
            "bar_color": null,
            "description_width": ""
          }
        },
        "3e7eceb753cb41e592891b330e5749fd": {
          "model_module": "@jupyter-widgets/base",
          "model_name": "LayoutModel",
          "model_module_version": "1.2.0",
          "state": {
            "_model_module": "@jupyter-widgets/base",
            "_model_module_version": "1.2.0",
            "_model_name": "LayoutModel",
            "_view_count": null,
            "_view_module": "@jupyter-widgets/base",
            "_view_module_version": "1.2.0",
            "_view_name": "LayoutView",
            "align_content": null,
            "align_items": null,
            "align_self": null,
            "border": null,
            "bottom": null,
            "display": null,
            "flex": null,
            "flex_flow": null,
            "grid_area": null,
            "grid_auto_columns": null,
            "grid_auto_flow": null,
            "grid_auto_rows": null,
            "grid_column": null,
            "grid_gap": null,
            "grid_row": null,
            "grid_template_areas": null,
            "grid_template_columns": null,
            "grid_template_rows": null,
            "height": null,
            "justify_content": null,
            "justify_items": null,
            "left": null,
            "margin": null,
            "max_height": null,
            "max_width": null,
            "min_height": null,
            "min_width": null,
            "object_fit": null,
            "object_position": null,
            "order": null,
            "overflow": null,
            "overflow_x": null,
            "overflow_y": null,
            "padding": null,
            "right": null,
            "top": null,
            "visibility": null,
            "width": null
          }
        },
        "1def62a6871d4bdb8667ef0c5a8bc8d9": {
          "model_module": "@jupyter-widgets/controls",
          "model_name": "DescriptionStyleModel",
          "model_module_version": "1.5.0",
          "state": {
            "_model_module": "@jupyter-widgets/controls",
            "_model_module_version": "1.5.0",
            "_model_name": "DescriptionStyleModel",
            "_view_count": null,
            "_view_module": "@jupyter-widgets/base",
            "_view_module_version": "1.2.0",
            "_view_name": "StyleView",
            "description_width": ""
          }
        },
        "c6731f1d552c47308b23903640ea1988": {
          "model_module": "@jupyter-widgets/controls",
          "model_name": "HBoxModel",
          "model_module_version": "1.5.0",
          "state": {
            "_dom_classes": [],
            "_model_module": "@jupyter-widgets/controls",
            "_model_module_version": "1.5.0",
            "_model_name": "HBoxModel",
            "_view_count": null,
            "_view_module": "@jupyter-widgets/controls",
            "_view_module_version": "1.5.0",
            "_view_name": "HBoxView",
            "box_style": "",
            "children": [
              "IPY_MODEL_310ebdb6b2474b3aa8f3bf38b76b99c6",
              "IPY_MODEL_3bfc4591d1ef4d25bae04537e0ec194b",
              "IPY_MODEL_36281891f6a7425b9f68ada05a07bd62"
            ],
            "layout": "IPY_MODEL_eb2469f30201444a8157e9fddaadc361"
          }
        },
        "310ebdb6b2474b3aa8f3bf38b76b99c6": {
          "model_module": "@jupyter-widgets/controls",
          "model_name": "HTMLModel",
          "model_module_version": "1.5.0",
          "state": {
            "_dom_classes": [],
            "_model_module": "@jupyter-widgets/controls",
            "_model_module_version": "1.5.0",
            "_model_name": "HTMLModel",
            "_view_count": null,
            "_view_module": "@jupyter-widgets/controls",
            "_view_module_version": "1.5.0",
            "_view_name": "HTMLView",
            "description": "",
            "description_tooltip": null,
            "layout": "IPY_MODEL_54b343d1d18d4ecd8180fdfb70f5adee",
            "placeholder": "​",
            "style": "IPY_MODEL_5af966de8de54746aeed828ec776fb29",
            "value": "100%"
          }
        },
        "3bfc4591d1ef4d25bae04537e0ec194b": {
          "model_module": "@jupyter-widgets/controls",
          "model_name": "FloatProgressModel",
          "model_module_version": "1.5.0",
          "state": {
            "_dom_classes": [],
            "_model_module": "@jupyter-widgets/controls",
            "_model_module_version": "1.5.0",
            "_model_name": "FloatProgressModel",
            "_view_count": null,
            "_view_module": "@jupyter-widgets/controls",
            "_view_module_version": "1.5.0",
            "_view_name": "ProgressView",
            "bar_style": "success",
            "description": "",
            "description_tooltip": null,
            "layout": "IPY_MODEL_ca58e0ae696d43fdaf8eab1957e6f9d6",
            "max": 1000000,
            "min": 0,
            "orientation": "horizontal",
            "style": "IPY_MODEL_6698132120b3451b9cf3942dbfbda610",
            "value": 1000000
          }
        },
        "36281891f6a7425b9f68ada05a07bd62": {
          "model_module": "@jupyter-widgets/controls",
          "model_name": "HTMLModel",
          "model_module_version": "1.5.0",
          "state": {
            "_dom_classes": [],
            "_model_module": "@jupyter-widgets/controls",
            "_model_module_version": "1.5.0",
            "_model_name": "HTMLModel",
            "_view_count": null,
            "_view_module": "@jupyter-widgets/controls",
            "_view_module_version": "1.5.0",
            "_view_name": "HTMLView",
            "description": "",
            "description_tooltip": null,
            "layout": "IPY_MODEL_59a67b634f1a4c688880954f72335a51",
            "placeholder": "​",
            "style": "IPY_MODEL_645c37d890984c4d8e04c5a0159f2e14",
            "value": " 1000000/1000000 [02:16&lt;00:00, 6500.36it/s]"
          }
        },
        "eb2469f30201444a8157e9fddaadc361": {
          "model_module": "@jupyter-widgets/base",
          "model_name": "LayoutModel",
          "model_module_version": "1.2.0",
          "state": {
            "_model_module": "@jupyter-widgets/base",
            "_model_module_version": "1.2.0",
            "_model_name": "LayoutModel",
            "_view_count": null,
            "_view_module": "@jupyter-widgets/base",
            "_view_module_version": "1.2.0",
            "_view_name": "LayoutView",
            "align_content": null,
            "align_items": null,
            "align_self": null,
            "border": null,
            "bottom": null,
            "display": null,
            "flex": null,
            "flex_flow": null,
            "grid_area": null,
            "grid_auto_columns": null,
            "grid_auto_flow": null,
            "grid_auto_rows": null,
            "grid_column": null,
            "grid_gap": null,
            "grid_row": null,
            "grid_template_areas": null,
            "grid_template_columns": null,
            "grid_template_rows": null,
            "height": null,
            "justify_content": null,
            "justify_items": null,
            "left": null,
            "margin": null,
            "max_height": null,
            "max_width": null,
            "min_height": null,
            "min_width": null,
            "object_fit": null,
            "object_position": null,
            "order": null,
            "overflow": null,
            "overflow_x": null,
            "overflow_y": null,
            "padding": null,
            "right": null,
            "top": null,
            "visibility": null,
            "width": null
          }
        },
        "54b343d1d18d4ecd8180fdfb70f5adee": {
          "model_module": "@jupyter-widgets/base",
          "model_name": "LayoutModel",
          "model_module_version": "1.2.0",
          "state": {
            "_model_module": "@jupyter-widgets/base",
            "_model_module_version": "1.2.0",
            "_model_name": "LayoutModel",
            "_view_count": null,
            "_view_module": "@jupyter-widgets/base",
            "_view_module_version": "1.2.0",
            "_view_name": "LayoutView",
            "align_content": null,
            "align_items": null,
            "align_self": null,
            "border": null,
            "bottom": null,
            "display": null,
            "flex": null,
            "flex_flow": null,
            "grid_area": null,
            "grid_auto_columns": null,
            "grid_auto_flow": null,
            "grid_auto_rows": null,
            "grid_column": null,
            "grid_gap": null,
            "grid_row": null,
            "grid_template_areas": null,
            "grid_template_columns": null,
            "grid_template_rows": null,
            "height": null,
            "justify_content": null,
            "justify_items": null,
            "left": null,
            "margin": null,
            "max_height": null,
            "max_width": null,
            "min_height": null,
            "min_width": null,
            "object_fit": null,
            "object_position": null,
            "order": null,
            "overflow": null,
            "overflow_x": null,
            "overflow_y": null,
            "padding": null,
            "right": null,
            "top": null,
            "visibility": null,
            "width": null
          }
        },
        "5af966de8de54746aeed828ec776fb29": {
          "model_module": "@jupyter-widgets/controls",
          "model_name": "DescriptionStyleModel",
          "model_module_version": "1.5.0",
          "state": {
            "_model_module": "@jupyter-widgets/controls",
            "_model_module_version": "1.5.0",
            "_model_name": "DescriptionStyleModel",
            "_view_count": null,
            "_view_module": "@jupyter-widgets/base",
            "_view_module_version": "1.2.0",
            "_view_name": "StyleView",
            "description_width": ""
          }
        },
        "ca58e0ae696d43fdaf8eab1957e6f9d6": {
          "model_module": "@jupyter-widgets/base",
          "model_name": "LayoutModel",
          "model_module_version": "1.2.0",
          "state": {
            "_model_module": "@jupyter-widgets/base",
            "_model_module_version": "1.2.0",
            "_model_name": "LayoutModel",
            "_view_count": null,
            "_view_module": "@jupyter-widgets/base",
            "_view_module_version": "1.2.0",
            "_view_name": "LayoutView",
            "align_content": null,
            "align_items": null,
            "align_self": null,
            "border": null,
            "bottom": null,
            "display": null,
            "flex": null,
            "flex_flow": null,
            "grid_area": null,
            "grid_auto_columns": null,
            "grid_auto_flow": null,
            "grid_auto_rows": null,
            "grid_column": null,
            "grid_gap": null,
            "grid_row": null,
            "grid_template_areas": null,
            "grid_template_columns": null,
            "grid_template_rows": null,
            "height": null,
            "justify_content": null,
            "justify_items": null,
            "left": null,
            "margin": null,
            "max_height": null,
            "max_width": null,
            "min_height": null,
            "min_width": null,
            "object_fit": null,
            "object_position": null,
            "order": null,
            "overflow": null,
            "overflow_x": null,
            "overflow_y": null,
            "padding": null,
            "right": null,
            "top": null,
            "visibility": null,
            "width": null
          }
        },
        "6698132120b3451b9cf3942dbfbda610": {
          "model_module": "@jupyter-widgets/controls",
          "model_name": "ProgressStyleModel",
          "model_module_version": "1.5.0",
          "state": {
            "_model_module": "@jupyter-widgets/controls",
            "_model_module_version": "1.5.0",
            "_model_name": "ProgressStyleModel",
            "_view_count": null,
            "_view_module": "@jupyter-widgets/base",
            "_view_module_version": "1.2.0",
            "_view_name": "StyleView",
            "bar_color": null,
            "description_width": ""
          }
        },
        "59a67b634f1a4c688880954f72335a51": {
          "model_module": "@jupyter-widgets/base",
          "model_name": "LayoutModel",
          "model_module_version": "1.2.0",
          "state": {
            "_model_module": "@jupyter-widgets/base",
            "_model_module_version": "1.2.0",
            "_model_name": "LayoutModel",
            "_view_count": null,
            "_view_module": "@jupyter-widgets/base",
            "_view_module_version": "1.2.0",
            "_view_name": "LayoutView",
            "align_content": null,
            "align_items": null,
            "align_self": null,
            "border": null,
            "bottom": null,
            "display": null,
            "flex": null,
            "flex_flow": null,
            "grid_area": null,
            "grid_auto_columns": null,
            "grid_auto_flow": null,
            "grid_auto_rows": null,
            "grid_column": null,
            "grid_gap": null,
            "grid_row": null,
            "grid_template_areas": null,
            "grid_template_columns": null,
            "grid_template_rows": null,
            "height": null,
            "justify_content": null,
            "justify_items": null,
            "left": null,
            "margin": null,
            "max_height": null,
            "max_width": null,
            "min_height": null,
            "min_width": null,
            "object_fit": null,
            "object_position": null,
            "order": null,
            "overflow": null,
            "overflow_x": null,
            "overflow_y": null,
            "padding": null,
            "right": null,
            "top": null,
            "visibility": null,
            "width": null
          }
        },
        "645c37d890984c4d8e04c5a0159f2e14": {
          "model_module": "@jupyter-widgets/controls",
          "model_name": "DescriptionStyleModel",
          "model_module_version": "1.5.0",
          "state": {
            "_model_module": "@jupyter-widgets/controls",
            "_model_module_version": "1.5.0",
            "_model_name": "DescriptionStyleModel",
            "_view_count": null,
            "_view_module": "@jupyter-widgets/base",
            "_view_module_version": "1.2.0",
            "_view_name": "StyleView",
            "description_width": ""
          }
        }
      }
    }
  },
  "nbformat": 4,
  "nbformat_minor": 0
}