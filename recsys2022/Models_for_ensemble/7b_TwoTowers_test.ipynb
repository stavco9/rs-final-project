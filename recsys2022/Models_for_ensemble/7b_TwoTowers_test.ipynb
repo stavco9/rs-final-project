{
  "cells": [
    {
      "cell_type": "code",
      "execution_count": null,
      "id": "f6b22d84",
      "metadata": {
        "id": "f6b22d84"
      },
      "outputs": [],
      "source": [
        "just_checking_integrity=False\n",
        "rows=3000\n",
        "test_rows=1000"
      ]
    },
    {
      "cell_type": "code",
      "execution_count": null,
      "id": "b647804a",
      "metadata": {
        "execution": {
          "iopub.execute_input": "2022-06-13T15:46:46.608130Z",
          "iopub.status.busy": "2022-06-13T15:46:46.607453Z",
          "iopub.status.idle": "2022-06-13T15:46:52.081025Z",
          "shell.execute_reply": "2022-06-13T15:46:52.080240Z"
        },
        "id": "b647804a",
        "papermill": {
          "duration": 5.495221,
          "end_time": "2022-06-13T15:46:52.083101",
          "exception": false,
          "start_time": "2022-06-13T15:46:46.587880",
          "status": "completed"
        },
        "tags": []
      },
      "outputs": [],
      "source": [
        "import pandas as pd\n",
        "import tensorflow as tf\n",
        "from tensorflow.keras import layers\n",
        "from sklearn.model_selection import train_test_split\n",
        "import numpy as np\n",
        "import datetime\n",
        "from itertools import compress\n",
        "from math import sin, cos\n",
        "import ast"
      ]
    },
    {
      "cell_type": "code",
      "execution_count": null,
      "id": "31e5dc46",
      "metadata": {
        "id": "31e5dc46"
      },
      "outputs": [],
      "source": [
        "from tqdm.auto import tqdm\n",
        "tqdm.pandas()"
      ]
    },
    {
      "cell_type": "markdown",
      "id": "c9df263b",
      "metadata": {
        "id": "c9df263b",
        "papermill": {
          "duration": 0.018802,
          "end_time": "2022-06-13T15:46:52.932998",
          "exception": false,
          "start_time": "2022-06-13T15:46:52.914196",
          "status": "completed"
        },
        "tags": []
      },
      "source": [
        "## Custom metric\n"
      ]
    },
    {
      "cell_type": "code",
      "execution_count": null,
      "id": "0e515b5a",
      "metadata": {
        "execution": {
          "iopub.execute_input": "2022-06-13T15:46:52.971622Z",
          "iopub.status.busy": "2022-06-13T15:46:52.971293Z",
          "iopub.status.idle": "2022-06-13T15:46:52.979012Z",
          "shell.execute_reply": "2022-06-13T15:46:52.978270Z"
        },
        "id": "0e515b5a",
        "papermill": {
          "duration": 0.029113,
          "end_time": "2022-06-13T15:46:52.980780",
          "exception": false,
          "start_time": "2022-06-13T15:46:52.951667",
          "status": "completed"
        },
        "tags": []
      },
      "outputs": [],
      "source": [
        "def mrr_top_at(at=100):\n",
        "    @tf.function\n",
        "    def mrr_top(y_true,y_pred):\n",
        "        top_k=tf.math.top_k(y_pred,k=at)\n",
        "        rr=top_k.indices\n",
        "        #print(rr)\n",
        "        idx=tf.range(start=1,limit=at+1,delta=1)\n",
        "        y_true=tf.reshape(y_true,[-1,1])\n",
        "        #print(y_true)\n",
        "        #y_true=tf.broadcast_to(y_true,test.shape)\n",
        "        y_true=tf.cast(y_true,tf.int32)\n",
        "        ranking=tf.where(tf.math.equal(rr,y_true),idx,0)\n",
        "        #print(ranking)\n",
        "        ranking=tf.reduce_sum(ranking,axis=-1)\n",
        "        ranking=tf.where(ranking>0,1/ranking,0)\n",
        "        #print(ranking)\n",
        "        ranking=tf.reduce_mean(ranking)\n",
        "        return ranking\n",
        "    return mrr_top\n"
      ]
    },
    {
      "cell_type": "markdown",
      "id": "024b1a7e",
      "metadata": {
        "id": "024b1a7e",
        "papermill": {
          "duration": 0.018758,
          "end_time": "2022-06-13T15:46:53.018573",
          "exception": false,
          "start_time": "2022-06-13T15:46:52.999815",
          "status": "completed"
        },
        "tags": []
      },
      "source": [
        "## Custom layers"
      ]
    },
    {
      "cell_type": "code",
      "execution_count": null,
      "id": "f682c799",
      "metadata": {
        "execution": {
          "iopub.execute_input": "2022-06-13T15:46:53.057483Z",
          "iopub.status.busy": "2022-06-13T15:46:53.056810Z",
          "iopub.status.idle": "2022-06-13T15:46:53.064633Z",
          "shell.execute_reply": "2022-06-13T15:46:53.063907Z"
        },
        "id": "f682c799",
        "papermill": {
          "duration": 0.029132,
          "end_time": "2022-06-13T15:46:53.066312",
          "exception": false,
          "start_time": "2022-06-13T15:46:53.037180",
          "status": "completed"
        },
        "tags": []
      },
      "outputs": [],
      "source": [
        "class TransformerBlock(layers.Layer):\n",
        "    def __init__(self, embed_dim, num_heads, ff_dim, rate=0.1):\n",
        "        super(TransformerBlock, self).__init__()\n",
        "        self.att = layers.MultiHeadAttention(num_heads=num_heads, key_dim=embed_dim)\n",
        "        self.ffn = tf.keras.Sequential(\n",
        "            [layers.Dense(ff_dim, activation=\"relu\"), layers.Dense(embed_dim),]\n",
        "        )\n",
        "        self.layernorm1 = layers.LayerNormalization(epsilon=1e-6)\n",
        "        self.layernorm2 = layers.LayerNormalization(epsilon=1e-6)\n",
        "        self.dropout1 = layers.Dropout(rate)\n",
        "        self.dropout2 = layers.Dropout(rate)\n",
        "\n",
        "    def call(self, inputs, training):\n",
        "        attn_output = self.att(inputs, inputs)\n",
        "        attn_output = self.dropout1(attn_output, training=training)\n",
        "        out1 = self.layernorm1(inputs + attn_output)\n",
        "        ffn_output = self.ffn(out1)\n",
        "        ffn_output = self.dropout2(ffn_output, training=training)\n",
        "        return self.layernorm2(out1 + ffn_output)"
      ]
    },
    {
      "cell_type": "code",
      "execution_count": null,
      "id": "8b32ba9f",
      "metadata": {
        "execution": {
          "iopub.execute_input": "2022-06-13T15:46:53.104693Z",
          "iopub.status.busy": "2022-06-13T15:46:53.104054Z",
          "iopub.status.idle": "2022-06-13T15:46:53.110733Z",
          "shell.execute_reply": "2022-06-13T15:46:53.110019Z"
        },
        "id": "8b32ba9f",
        "papermill": {
          "duration": 0.027593,
          "end_time": "2022-06-13T15:46:53.112366",
          "exception": false,
          "start_time": "2022-06-13T15:46:53.084773",
          "status": "completed"
        },
        "tags": []
      },
      "outputs": [],
      "source": [
        "class TokenAndPositionEmbedding(layers.Layer):\n",
        "    def __init__(\n",
        "        self,\n",
        "        maxlen,\n",
        "        vocab_size,\n",
        "        embed_dim,\n",
        "        item_embedding_trainable=True,\n",
        "        embedding_weights=None\n",
        "        ):\n",
        "        super(TokenAndPositionEmbedding, self).__init__()\n",
        "        self.token_emb = layers.Embedding(\n",
        "            input_dim=vocab_size,\n",
        "            output_dim=embed_dim,\n",
        "            trainable=item_embedding_trainable,\n",
        "            weights=embedding_weights\n",
        "            )\n",
        "        self.pos_emb = layers.Embedding(input_dim=maxlen, output_dim=embed_dim)\n",
        "\n",
        "    def call(self, x):\n",
        "        maxlen = tf.shape(x)[-1]\n",
        "        positions = tf.range(start=maxlen-1, limit=0, delta=-1)\n",
        "        positions = self.pos_emb(positions)\n",
        "        x = self.token_emb(x)\n",
        "        return x + positions"
      ]
    },
    {
      "cell_type": "code",
      "execution_count": null,
      "id": "357d9308",
      "metadata": {
        "execution": {
          "iopub.execute_input": "2022-06-13T15:46:53.150889Z",
          "iopub.status.busy": "2022-06-13T15:46:53.150617Z",
          "iopub.status.idle": "2022-06-13T15:46:53.156218Z",
          "shell.execute_reply": "2022-06-13T15:46:53.155513Z"
        },
        "id": "357d9308",
        "papermill": {
          "duration": 0.026924,
          "end_time": "2022-06-13T15:46:53.157898",
          "exception": false,
          "start_time": "2022-06-13T15:46:53.130974",
          "status": "completed"
        },
        "tags": []
      },
      "outputs": [],
      "source": [
        "class PositionEmbedding(layers.Layer):\n",
        "    def __init__(\n",
        "        self,\n",
        "        maxlen,\n",
        "        embed_dim,\n",
        "        ):\n",
        "        super(PositionEmbedding, self).__init__()\n",
        "        self.pos_emb = layers.Embedding(input_dim=maxlen, output_dim=embed_dim)\n",
        "\n",
        "    def call(self, x):\n",
        "        maxlen = tf.shape(x)[-1]\n",
        "        positions = tf.range(start=0, limit=maxlen, delta=1)\n",
        "        positions = self.pos_emb(positions)\n",
        "        return positions"
      ]
    },
    {
      "cell_type": "code",
      "execution_count": null,
      "id": "99603a0f",
      "metadata": {
        "execution": {
          "iopub.execute_input": "2022-06-13T15:46:53.197710Z",
          "iopub.status.busy": "2022-06-13T15:46:53.196404Z",
          "iopub.status.idle": "2022-06-13T15:46:53.203227Z",
          "shell.execute_reply": "2022-06-13T15:46:53.202536Z"
        },
        "id": "99603a0f",
        "papermill": {
          "duration": 0.028007,
          "end_time": "2022-06-13T15:46:53.204851",
          "exception": false,
          "start_time": "2022-06-13T15:46:53.176844",
          "status": "completed"
        },
        "tags": []
      },
      "outputs": [],
      "source": [
        "class RBFLayer(layers.Layer):\n",
        "    def __init__(self, weights, gamma, **kwargs):\n",
        "        super(RBFLayer, self).__init__(**kwargs)\n",
        "        # shape=(embedding_dimension, num_units)\n",
        "        self.embedding_weights = tf.transpose(weights)\n",
        "        self.gamma = gamma\n",
        "\n",
        "    def call(self, inputs):\n",
        "        l2 = tf.math.reduce_sum(\n",
        "            tf.math.squared_difference(\n",
        "                x=tf.expand_dims(inputs, axis=-1),\n",
        "                y=self.embedding_weights\n",
        "                ),\n",
        "            axis=1\n",
        "            )\n",
        "        res = tf.math.exp(-self.gamma * l2)\n",
        "        return res / tf.reduce_sum(res, axis=1, keepdims=True)"
      ]
    },
    {
      "cell_type": "markdown",
      "id": "88e0e2ad",
      "metadata": {
        "id": "88e0e2ad",
        "papermill": {
          "duration": 0.031781,
          "end_time": "2022-06-13T15:46:53.950092",
          "exception": false,
          "start_time": "2022-06-13T15:46:53.918311",
          "status": "completed"
        },
        "tags": []
      },
      "source": [
        "# Prepare dataset"
      ]
    },
    {
      "cell_type": "code",
      "source": [
        "from google.colab import drive\n",
        "drive.mount('/content/drive')\n",
        "%cd \"/content/drive/My Drive/IDC_MSc/Year1/ReccomendationSystems/Final_Project/\""
      ],
      "metadata": {
        "colab": {
          "base_uri": "https://localhost:8080/"
        },
        "id": "t566hDLXuyLw",
        "outputId": "6e2ae7d3-914d-4d62-c574-e0b9aef877d6"
      },
      "id": "t566hDLXuyLw",
      "execution_count": null,
      "outputs": [
        {
          "output_type": "stream",
          "name": "stdout",
          "text": [
            "Drive already mounted at /content/drive; to attempt to forcibly remount, call drive.mount(\"/content/drive\", force_remount=True).\n",
            "/content/drive/My Drive/IDC_MSc/Year1/ReccomendationSystems/Final_Project\n"
          ]
        }
      ]
    },
    {
      "cell_type": "code",
      "execution_count": null,
      "id": "82dc56b9",
      "metadata": {
        "execution": {
          "iopub.execute_input": "2022-06-13T15:46:54.017951Z",
          "iopub.status.busy": "2022-06-13T15:46:54.017635Z",
          "iopub.status.idle": "2022-06-13T15:46:54.032556Z",
          "shell.execute_reply": "2022-06-13T15:46:54.031718Z"
        },
        "id": "82dc56b9",
        "outputId": "ec6197e3-b96c-4d25-b196-4d6f7a8b62be",
        "papermill": {
          "duration": 0.050992,
          "end_time": "2022-06-13T15:46:54.034575",
          "exception": false,
          "start_time": "2022-06-13T15:46:53.983583",
          "status": "completed"
        },
        "tags": [],
        "colab": {
          "base_uri": "https://localhost:8080/",
          "height": 206
        }
      },
      "outputs": [
        {
          "output_type": "execute_result",
          "data": {
            "text/plain": [
              "   item_id\n",
              "0        1\n",
              "1        2\n",
              "2        3\n",
              "3        4\n",
              "4        5"
            ],
            "text/html": [
              "\n",
              "  <div id=\"df-56194d1b-a27a-4341-8467-1a07d94bd1f8\" class=\"colab-df-container\">\n",
              "    <div>\n",
              "<style scoped>\n",
              "    .dataframe tbody tr th:only-of-type {\n",
              "        vertical-align: middle;\n",
              "    }\n",
              "\n",
              "    .dataframe tbody tr th {\n",
              "        vertical-align: top;\n",
              "    }\n",
              "\n",
              "    .dataframe thead th {\n",
              "        text-align: right;\n",
              "    }\n",
              "</style>\n",
              "<table border=\"1\" class=\"dataframe\">\n",
              "  <thead>\n",
              "    <tr style=\"text-align: right;\">\n",
              "      <th></th>\n",
              "      <th>item_id</th>\n",
              "    </tr>\n",
              "  </thead>\n",
              "  <tbody>\n",
              "    <tr>\n",
              "      <th>0</th>\n",
              "      <td>1</td>\n",
              "    </tr>\n",
              "    <tr>\n",
              "      <th>1</th>\n",
              "      <td>2</td>\n",
              "    </tr>\n",
              "    <tr>\n",
              "      <th>2</th>\n",
              "      <td>3</td>\n",
              "    </tr>\n",
              "    <tr>\n",
              "      <th>3</th>\n",
              "      <td>4</td>\n",
              "    </tr>\n",
              "    <tr>\n",
              "      <th>4</th>\n",
              "      <td>5</td>\n",
              "    </tr>\n",
              "  </tbody>\n",
              "</table>\n",
              "</div>\n",
              "    <div class=\"colab-df-buttons\">\n",
              "\n",
              "  <div class=\"colab-df-container\">\n",
              "    <button class=\"colab-df-convert\" onclick=\"convertToInteractive('df-56194d1b-a27a-4341-8467-1a07d94bd1f8')\"\n",
              "            title=\"Convert this dataframe to an interactive table.\"\n",
              "            style=\"display:none;\">\n",
              "\n",
              "  <svg xmlns=\"http://www.w3.org/2000/svg\" height=\"24px\" viewBox=\"0 -960 960 960\">\n",
              "    <path d=\"M120-120v-720h720v720H120Zm60-500h600v-160H180v160Zm220 220h160v-160H400v160Zm0 220h160v-160H400v160ZM180-400h160v-160H180v160Zm440 0h160v-160H620v160ZM180-180h160v-160H180v160Zm440 0h160v-160H620v160Z\"/>\n",
              "  </svg>\n",
              "    </button>\n",
              "\n",
              "  <style>\n",
              "    .colab-df-container {\n",
              "      display:flex;\n",
              "      gap: 12px;\n",
              "    }\n",
              "\n",
              "    .colab-df-convert {\n",
              "      background-color: #E8F0FE;\n",
              "      border: none;\n",
              "      border-radius: 50%;\n",
              "      cursor: pointer;\n",
              "      display: none;\n",
              "      fill: #1967D2;\n",
              "      height: 32px;\n",
              "      padding: 0 0 0 0;\n",
              "      width: 32px;\n",
              "    }\n",
              "\n",
              "    .colab-df-convert:hover {\n",
              "      background-color: #E2EBFA;\n",
              "      box-shadow: 0px 1px 2px rgba(60, 64, 67, 0.3), 0px 1px 3px 1px rgba(60, 64, 67, 0.15);\n",
              "      fill: #174EA6;\n",
              "    }\n",
              "\n",
              "    .colab-df-buttons div {\n",
              "      margin-bottom: 4px;\n",
              "    }\n",
              "\n",
              "    [theme=dark] .colab-df-convert {\n",
              "      background-color: #3B4455;\n",
              "      fill: #D2E3FC;\n",
              "    }\n",
              "\n",
              "    [theme=dark] .colab-df-convert:hover {\n",
              "      background-color: #434B5C;\n",
              "      box-shadow: 0px 1px 3px 1px rgba(0, 0, 0, 0.15);\n",
              "      filter: drop-shadow(0px 1px 2px rgba(0, 0, 0, 0.3));\n",
              "      fill: #FFFFFF;\n",
              "    }\n",
              "  </style>\n",
              "\n",
              "    <script>\n",
              "      const buttonEl =\n",
              "        document.querySelector('#df-56194d1b-a27a-4341-8467-1a07d94bd1f8 button.colab-df-convert');\n",
              "      buttonEl.style.display =\n",
              "        google.colab.kernel.accessAllowed ? 'block' : 'none';\n",
              "\n",
              "      async function convertToInteractive(key) {\n",
              "        const element = document.querySelector('#df-56194d1b-a27a-4341-8467-1a07d94bd1f8');\n",
              "        const dataTable =\n",
              "          await google.colab.kernel.invokeFunction('convertToInteractive',\n",
              "                                                    [key], {});\n",
              "        if (!dataTable) return;\n",
              "\n",
              "        const docLinkHtml = 'Like what you see? Visit the ' +\n",
              "          '<a target=\"_blank\" href=https://colab.research.google.com/notebooks/data_table.ipynb>data table notebook</a>'\n",
              "          + ' to learn more about interactive tables.';\n",
              "        element.innerHTML = '';\n",
              "        dataTable['output_type'] = 'display_data';\n",
              "        await google.colab.output.renderOutput(dataTable, element);\n",
              "        const docLink = document.createElement('div');\n",
              "        docLink.innerHTML = docLinkHtml;\n",
              "        element.appendChild(docLink);\n",
              "      }\n",
              "    </script>\n",
              "  </div>\n",
              "\n",
              "\n",
              "<div id=\"df-72359b2a-29fe-4c2c-adf7-2a3a3d07792a\">\n",
              "  <button class=\"colab-df-quickchart\" onclick=\"quickchart('df-72359b2a-29fe-4c2c-adf7-2a3a3d07792a')\"\n",
              "            title=\"Suggest charts\"\n",
              "            style=\"display:none;\">\n",
              "\n",
              "<svg xmlns=\"http://www.w3.org/2000/svg\" height=\"24px\"viewBox=\"0 0 24 24\"\n",
              "     width=\"24px\">\n",
              "    <g>\n",
              "        <path d=\"M19 3H5c-1.1 0-2 .9-2 2v14c0 1.1.9 2 2 2h14c1.1 0 2-.9 2-2V5c0-1.1-.9-2-2-2zM9 17H7v-7h2v7zm4 0h-2V7h2v10zm4 0h-2v-4h2v4z\"/>\n",
              "    </g>\n",
              "</svg>\n",
              "  </button>\n",
              "\n",
              "<style>\n",
              "  .colab-df-quickchart {\n",
              "      --bg-color: #E8F0FE;\n",
              "      --fill-color: #1967D2;\n",
              "      --hover-bg-color: #E2EBFA;\n",
              "      --hover-fill-color: #174EA6;\n",
              "      --disabled-fill-color: #AAA;\n",
              "      --disabled-bg-color: #DDD;\n",
              "  }\n",
              "\n",
              "  [theme=dark] .colab-df-quickchart {\n",
              "      --bg-color: #3B4455;\n",
              "      --fill-color: #D2E3FC;\n",
              "      --hover-bg-color: #434B5C;\n",
              "      --hover-fill-color: #FFFFFF;\n",
              "      --disabled-bg-color: #3B4455;\n",
              "      --disabled-fill-color: #666;\n",
              "  }\n",
              "\n",
              "  .colab-df-quickchart {\n",
              "    background-color: var(--bg-color);\n",
              "    border: none;\n",
              "    border-radius: 50%;\n",
              "    cursor: pointer;\n",
              "    display: none;\n",
              "    fill: var(--fill-color);\n",
              "    height: 32px;\n",
              "    padding: 0;\n",
              "    width: 32px;\n",
              "  }\n",
              "\n",
              "  .colab-df-quickchart:hover {\n",
              "    background-color: var(--hover-bg-color);\n",
              "    box-shadow: 0 1px 2px rgba(60, 64, 67, 0.3), 0 1px 3px 1px rgba(60, 64, 67, 0.15);\n",
              "    fill: var(--button-hover-fill-color);\n",
              "  }\n",
              "\n",
              "  .colab-df-quickchart-complete:disabled,\n",
              "  .colab-df-quickchart-complete:disabled:hover {\n",
              "    background-color: var(--disabled-bg-color);\n",
              "    fill: var(--disabled-fill-color);\n",
              "    box-shadow: none;\n",
              "  }\n",
              "\n",
              "  .colab-df-spinner {\n",
              "    border: 2px solid var(--fill-color);\n",
              "    border-color: transparent;\n",
              "    border-bottom-color: var(--fill-color);\n",
              "    animation:\n",
              "      spin 1s steps(1) infinite;\n",
              "  }\n",
              "\n",
              "  @keyframes spin {\n",
              "    0% {\n",
              "      border-color: transparent;\n",
              "      border-bottom-color: var(--fill-color);\n",
              "      border-left-color: var(--fill-color);\n",
              "    }\n",
              "    20% {\n",
              "      border-color: transparent;\n",
              "      border-left-color: var(--fill-color);\n",
              "      border-top-color: var(--fill-color);\n",
              "    }\n",
              "    30% {\n",
              "      border-color: transparent;\n",
              "      border-left-color: var(--fill-color);\n",
              "      border-top-color: var(--fill-color);\n",
              "      border-right-color: var(--fill-color);\n",
              "    }\n",
              "    40% {\n",
              "      border-color: transparent;\n",
              "      border-right-color: var(--fill-color);\n",
              "      border-top-color: var(--fill-color);\n",
              "    }\n",
              "    60% {\n",
              "      border-color: transparent;\n",
              "      border-right-color: var(--fill-color);\n",
              "    }\n",
              "    80% {\n",
              "      border-color: transparent;\n",
              "      border-right-color: var(--fill-color);\n",
              "      border-bottom-color: var(--fill-color);\n",
              "    }\n",
              "    90% {\n",
              "      border-color: transparent;\n",
              "      border-bottom-color: var(--fill-color);\n",
              "    }\n",
              "  }\n",
              "</style>\n",
              "\n",
              "  <script>\n",
              "    async function quickchart(key) {\n",
              "      const quickchartButtonEl =\n",
              "        document.querySelector('#' + key + ' button');\n",
              "      quickchartButtonEl.disabled = true;  // To prevent multiple clicks.\n",
              "      quickchartButtonEl.classList.add('colab-df-spinner');\n",
              "      try {\n",
              "        const charts = await google.colab.kernel.invokeFunction(\n",
              "            'suggestCharts', [key], {});\n",
              "      } catch (error) {\n",
              "        console.error('Error during call to suggestCharts:', error);\n",
              "      }\n",
              "      quickchartButtonEl.classList.remove('colab-df-spinner');\n",
              "      quickchartButtonEl.classList.add('colab-df-quickchart-complete');\n",
              "    }\n",
              "    (() => {\n",
              "      let quickchartButtonEl =\n",
              "        document.querySelector('#df-72359b2a-29fe-4c2c-adf7-2a3a3d07792a button');\n",
              "      quickchartButtonEl.style.display =\n",
              "        google.colab.kernel.accessAllowed ? 'block' : 'none';\n",
              "    })();\n",
              "  </script>\n",
              "</div>\n",
              "\n",
              "    </div>\n",
              "  </div>\n"
            ],
            "application/vnd.google.colaboratory.intrinsic+json": {
              "type": "dataframe",
              "variable_name": "candidate_items",
              "summary": "{\n  \"name\": \"candidate_items\",\n  \"rows\": 4990,\n  \"fields\": [\n    {\n      \"column\": \"item_id\",\n      \"properties\": {\n        \"dtype\": \"number\",\n        \"std\": 1440,\n        \"min\": 1,\n        \"max\": 4990,\n        \"samples\": [\n          4728,\n          2317,\n          3670\n        ],\n        \"num_unique_values\": 4990,\n        \"semantic_type\": \"\",\n        \"description\": \"\"\n      }\n    }\n  ]\n}"
            }
          },
          "metadata": {},
          "execution_count": 88
        }
      ],
      "source": [
        "candidate_items = pd.read_csv('./dataset/processed_data/candidate_items_mapped.csv')\n",
        "candidate_items.head()"
      ]
    },
    {
      "cell_type": "code",
      "execution_count": null,
      "id": "5a5a5fe6",
      "metadata": {
        "execution": {
          "iopub.execute_input": "2022-06-13T15:46:54.073629Z",
          "iopub.status.busy": "2022-06-13T15:46:54.073351Z",
          "iopub.status.idle": "2022-06-13T15:46:54.082020Z",
          "shell.execute_reply": "2022-06-13T15:46:54.081162Z"
        },
        "id": "5a5a5fe6",
        "outputId": "435223c6-a845-44b7-e650-b48781c9c3b9",
        "papermill": {
          "duration": 0.029847,
          "end_time": "2022-06-13T15:46:54.083735",
          "exception": false,
          "start_time": "2022-06-13T15:46:54.053888",
          "status": "completed"
        },
        "tags": [],
        "colab": {
          "base_uri": "https://localhost:8080/"
        }
      },
      "outputs": [
        {
          "output_type": "execute_result",
          "data": {
            "text/plain": [
              "(23692, 64)"
            ]
          },
          "metadata": {},
          "execution_count": 89
        }
      ],
      "source": [
        "embedding_weights = np.load(\n",
        "    './dataset/processed_data/compressed_features.npy'\n",
        "    )\n",
        "import os\n",
        "import scipy.sparse as sps\n",
        "def get_ICM(files_directory=\"./dataset/processed_data\"):\n",
        "    df_icm = pd.read_csv(filepath_or_buffer=os.path.join(files_directory, 'simplified_features_and_categories_30.csv'), sep=',', header=0)\n",
        "\n",
        "    item_id_list = df_icm['item_id'].values\n",
        "    feat_id_list = df_icm['feature_idx'].values\n",
        "    rating_id_list = np.ones_like(feat_id_list)\n",
        "    ICM_matrix = sps.csr_matrix((rating_id_list, (item_id_list, feat_id_list)))\n",
        "    return ICM_matrix\n",
        "\n",
        "ICM=get_ICM()\n",
        "embedding_weights.shape"
      ]
    },
    {
      "cell_type": "code",
      "execution_count": null,
      "id": "972a586b",
      "metadata": {
        "execution": {
          "iopub.execute_input": "2022-06-13T15:46:54.303794Z",
          "iopub.status.busy": "2022-06-13T15:46:54.303548Z",
          "iopub.status.idle": "2022-06-13T15:47:34.265070Z",
          "shell.execute_reply": "2022-06-13T15:47:34.264280Z"
        },
        "id": "972a586b",
        "papermill": {
          "duration": 39.983661,
          "end_time": "2022-06-13T15:47:34.267146",
          "exception": false,
          "start_time": "2022-06-13T15:46:54.283485",
          "status": "completed"
        },
        "tags": []
      },
      "outputs": [],
      "source": [
        "result =  pd.read_csv(\"./dataset/processed_data/macro_feats_NN.csv\",parse_dates=[\"date_session_starting\"],\n",
        "     infer_datetime_format=True)\n",
        "\n",
        "\n",
        "\n",
        "result[\"item_id\"]=result[\"item_id\"].map(ast.literal_eval)\n",
        "result[\"timedelta\"]=result[\"timedelta\"].map(ast.literal_eval)\n",
        "\n",
        "def is_reseen(x):\n",
        "    #print(x)\n",
        "    seen={}\n",
        "    res=[]\n",
        "    for item in x:\n",
        "        if item in seen:\n",
        "            res.append(seen[item])\n",
        "            seen[item]+=1\n",
        "        else:\n",
        "            res.append(0)\n",
        "            seen[item]=1\n",
        "    return res\n",
        "\n",
        "def percentage_seen(x):\n",
        "    size=len(x)\n",
        "    return [(i+1)/size for i in range(size)]"
      ]
    },
    {
      "cell_type": "code",
      "execution_count": null,
      "id": "ff57e158",
      "metadata": {
        "execution": {
          "iopub.execute_input": "2022-06-13T15:47:34.307373Z",
          "iopub.status.busy": "2022-06-13T15:47:34.307065Z",
          "iopub.status.idle": "2022-06-13T15:47:50.902832Z",
          "shell.execute_reply": "2022-06-13T15:47:50.902005Z"
        },
        "id": "ff57e158",
        "outputId": "7c1a9067-2475-47f4-f030-892069d614be",
        "papermill": {
          "duration": 16.618572,
          "end_time": "2022-06-13T15:47:50.904973",
          "exception": false,
          "start_time": "2022-06-13T15:47:34.286401",
          "status": "completed"
        },
        "tags": [],
        "colab": {
          "base_uri": "https://localhost:8080/",
          "height": 81,
          "referenced_widgets": [
            "dafbbf96a65241068199ac0df8a4fa1c",
            "df3c082251dc4f33954642fbcc8315be",
            "6115c06a7cda402ab6c744d80b159f5f",
            "68c56fa8021e448784c1c4a27dc109bd",
            "a160457d1f8b4d8a9f4faa72f9c0c927",
            "87ecd7408bdf42169fd1d89e4613c133",
            "a6721f70b64a4ed99023ddbd4e7789c3",
            "111b24ff648549da82ffdb2ed15d7d6e",
            "211dfd84189447899026f9bfbfd5fe85",
            "162b43d9a1064ab6afdfe83966ca9655",
            "bb06fcfbf1d2478bad08b2d6bb955774",
            "bbfbe73bd2a54c2687ba66b7dc387579",
            "a8217380e7f64537877d5e555797cd43",
            "62efe6fa4d7e45afa83af336f2c07589",
            "eb652a371b064e528637be01e60d8f44",
            "9343220a4bd848e0936aa41551208891",
            "2e68f2a5adad4ef69ee8cdaf61cb0a06",
            "a4df019159f84b0ba87831277bb43629",
            "e055d1d1519b45b0a736e14143ebb401",
            "a05606ea94c744de9831041e0a7245f6",
            "1e2ffb9bde38421bb133ff546c0c068c",
            "06fdeff6d8f342dd87ac72cd0afe490d"
          ]
        }
      },
      "outputs": [
        {
          "output_type": "display_data",
          "data": {
            "text/plain": [
              "  0%|          | 0/1000000 [00:00<?, ?it/s]"
            ],
            "application/vnd.jupyter.widget-view+json": {
              "version_major": 2,
              "version_minor": 0,
              "model_id": "dafbbf96a65241068199ac0df8a4fa1c"
            }
          },
          "metadata": {}
        },
        {
          "output_type": "display_data",
          "data": {
            "text/plain": [
              "  0%|          | 0/1000000 [00:00<?, ?it/s]"
            ],
            "application/vnd.jupyter.widget-view+json": {
              "version_major": 2,
              "version_minor": 0,
              "model_id": "bbfbe73bd2a54c2687ba66b7dc387579"
            }
          },
          "metadata": {}
        }
      ],
      "source": [
        "x_reseen = tf.keras.preprocessing.sequence.pad_sequences(\n",
        "    result['item_id'].progress_apply(is_reseen),\n",
        "    padding='post',\n",
        "    maxlen=100,\n",
        "    dtype=\"int16\"\n",
        ")\n",
        "x_percentage_seen = tf.keras.preprocessing.sequence.pad_sequences(\n",
        "    result['item_id'].progress_apply(percentage_seen),\n",
        "    padding='post',\n",
        "    maxlen=100,\n",
        "    dtype='float16',\n",
        ")"
      ]
    },
    {
      "cell_type": "code",
      "execution_count": null,
      "id": "1bb85465",
      "metadata": {
        "execution": {
          "iopub.execute_input": "2022-06-13T15:47:50.946427Z",
          "iopub.status.busy": "2022-06-13T15:47:50.946120Z",
          "iopub.status.idle": "2022-06-13T15:47:50.954799Z",
          "shell.execute_reply": "2022-06-13T15:47:50.953838Z"
        },
        "id": "1bb85465",
        "papermill": {
          "duration": 0.031192,
          "end_time": "2022-06-13T15:47:50.956707",
          "exception": false,
          "start_time": "2022-06-13T15:47:50.925515",
          "status": "completed"
        },
        "tags": []
      },
      "outputs": [],
      "source": [
        "def similarity_with_preceding(x):\n",
        "    if len(x)==1:\n",
        "        return np.array([0])\n",
        "    feats=embedding_weights[x]\n",
        "    #normalize\n",
        "    feats=np.divide(feats,np.linalg.norm(feats,axis=1).reshape((-1,1)))\n",
        "    feats_copy=feats.copy()\n",
        "    feats_copy=np.roll(feats_copy,1,axis=0)\n",
        "    feats_copy[0,:]=0\n",
        "    prod=np.multiply(feats,feats_copy).sum(axis=1)\n",
        "    return prod\n",
        "\n",
        "\n",
        "\n",
        "def similarity_feats_with_preceding(x):\n",
        "    if len(x)==1:\n",
        "        return np.array([0])\n",
        "    feats=ICM[x].toarray()\n",
        "    #normalize\n",
        "    feats=np.divide(feats,np.linalg.norm(feats,axis=1).reshape((-1,1)))\n",
        "    feats_copy=feats.copy()\n",
        "    feats_copy=np.roll(feats_copy,1,axis=0)\n",
        "    feats_copy[0,:]=0\n",
        "    prod=np.multiply(feats,feats_copy).sum(axis=1)\n",
        "    return prod"
      ]
    },
    {
      "cell_type": "code",
      "execution_count": null,
      "id": "94f3c622",
      "metadata": {
        "execution": {
          "iopub.execute_input": "2022-06-13T15:47:50.995998Z",
          "iopub.status.busy": "2022-06-13T15:47:50.995567Z",
          "iopub.status.idle": "2022-06-13T15:51:32.773031Z",
          "shell.execute_reply": "2022-06-13T15:51:32.772159Z"
        },
        "id": "94f3c622",
        "outputId": "31c3dc96-ccf6-459c-a4fb-605752f46542",
        "papermill": {
          "duration": 221.799486,
          "end_time": "2022-06-13T15:51:32.775130",
          "exception": false,
          "start_time": "2022-06-13T15:47:50.975644",
          "status": "completed"
        },
        "tags": [],
        "colab": {
          "base_uri": "https://localhost:8080/",
          "height": 81,
          "referenced_widgets": [
            "11d7794cba63495ba868008116cd04fa",
            "1bd1ec06e60d49459c0509a9c92a207e",
            "0b1ef901794b4b819e27dc734e27832a",
            "9ba21226f59444b5887b2ca31925949f",
            "50adb02524f74c198e9ee7c7a1c130d5",
            "5193d6b0eaeb4371b6b5a2117e43b511",
            "073870febb2644ecb35b28253fc6b710",
            "cd35a71120aa4c37a86103401fd000c8",
            "d7679402ed17480788bda0db23d8ed1d",
            "7168560e054946e0b6b72f333c7e7086",
            "2c7f76c0d731460398643a2ec1bbf160",
            "6c922c37b75b42669a08c1a5a926004c",
            "e9ba4052173a42ca893292f60f928107",
            "de1d0f1029c84258b5219538ab349f1d",
            "63bf172c925c448f90d47b2ca2eb591e",
            "1f774a53fc5b47bdab4fa1bea3f8cf0a",
            "364398c0597f4e7896c474334673066a",
            "899d224bf94c43deb8b2b78dcb88369e",
            "733e10f6635646948f8010887d47c57c",
            "75270b61c5524709a40b8ac28fe5db82",
            "9181e831fa3845a2ad70f101e6d875f8",
            "2ba86fb95109426e88e7e19e4bd7a004"
          ]
        }
      },
      "outputs": [
        {
          "output_type": "display_data",
          "data": {
            "text/plain": [
              "  0%|          | 0/1000000 [00:00<?, ?it/s]"
            ],
            "application/vnd.jupyter.widget-view+json": {
              "version_major": 2,
              "version_minor": 0,
              "model_id": "11d7794cba63495ba868008116cd04fa"
            }
          },
          "metadata": {}
        },
        {
          "output_type": "display_data",
          "data": {
            "text/plain": [
              "  0%|          | 0/1000000 [00:00<?, ?it/s]"
            ],
            "application/vnd.jupyter.widget-view+json": {
              "version_major": 2,
              "version_minor": 0,
              "model_id": "6c922c37b75b42669a08c1a5a926004c"
            }
          },
          "metadata": {}
        }
      ],
      "source": [
        "x_simils = tf.keras.preprocessing.sequence.pad_sequences(\n",
        "    result['item_id'].progress_apply(similarity_with_preceding\n",
        "    ),\n",
        "    padding='post',\n",
        "    maxlen=100,\n",
        "    dtype='float16',\n",
        ")\n",
        "x_simils_feats = tf.keras.preprocessing.sequence.pad_sequences(\n",
        "    result['item_id'].progress_apply(similarity_feats_with_preceding\n",
        "    ),\n",
        "    padding='post',\n",
        "    maxlen=100,\n",
        "    dtype='float16',\n",
        ")"
      ]
    },
    {
      "cell_type": "code",
      "execution_count": null,
      "id": "d62f6260",
      "metadata": {
        "execution": {
          "iopub.execute_input": "2022-06-13T15:51:34.501280Z",
          "iopub.status.busy": "2022-06-13T15:51:34.500969Z",
          "iopub.status.idle": "2022-06-13T15:51:34.570271Z",
          "shell.execute_reply": "2022-06-13T15:51:34.569406Z"
        },
        "id": "d62f6260",
        "papermill": {
          "duration": 0.092553,
          "end_time": "2022-06-13T15:51:34.572311",
          "exception": false,
          "start_time": "2022-06-13T15:51:34.479758",
          "status": "completed"
        },
        "tags": []
      },
      "outputs": [],
      "source": [
        "static_features = [\n",
        "                   'date_hour_sin',\n",
        "                   'date_hour_cos',\n",
        "                   'date_day_sin',\n",
        "                   'date_day_cos',\n",
        "                   'date_month_sin',\n",
        "                   'date_month_cos',\n",
        "                   'date_hour_sin_ending',\n",
        "                   'date_hour_cos_ending',\n",
        "                   'date_day_sin_ending',\n",
        "                   'date_day_cos_ending',\n",
        "                   'date_month_sin_ending',\n",
        "                   'date_month_cos_ending',\n",
        "                   'date_year_2020',\n",
        "                   'length_of_session_seconds',\n",
        "                   'avg_time_spent_per_item_seconds',\n",
        "                   'variance_time_spent_per_item_seconds',\n",
        "                   'n_seen_items',\n",
        "                   'n_unique_items',\n",
        "                   'user_went_afk',\n",
        "                   'is_weekend',\n",
        "                   'is_hot_hour',\n",
        "                   'is_night',\n",
        "                   'is_christmas_time',\n",
        "                   'is_black_friday',\n",
        "                   'session_similarity',\n",
        "                   'session_similarity_uniques',\n",
        "                   'session_similarity_feats',\n",
        "                   'session_similarity_feats_uniques'\n",
        "]\n",
        "for col in ['length_of_session_seconds','avg_time_spent_per_item_seconds','variance_time_spent_per_item_seconds']:\n",
        "    result[col]=np.log10(result[col]+1)\n",
        "for col in ['n_seen_items','n_unique_items']:\n",
        "    result[col]=result[col]/100\n",
        "item_related_features = [\n",
        "                         'timedelta'\n",
        "]"
      ]
    },
    {
      "cell_type": "code",
      "execution_count": null,
      "id": "534beafc",
      "metadata": {
        "execution": {
          "iopub.execute_input": "2022-06-13T15:51:34.615718Z",
          "iopub.status.busy": "2022-06-13T15:51:34.615062Z",
          "iopub.status.idle": "2022-06-13T15:51:34.917476Z",
          "shell.execute_reply": "2022-06-13T15:51:34.916559Z"
        },
        "id": "534beafc",
        "papermill": {
          "duration": 0.325499,
          "end_time": "2022-06-13T15:51:34.919304",
          "exception": false,
          "start_time": "2022-06-13T15:51:34.593805",
          "status": "completed"
        },
        "tags": []
      },
      "outputs": [],
      "source": [
        "if just_checking_integrity:\n",
        "    train_purchases = pd.read_csv(\n",
        "    './dataset/processed_data/train_purchases_mapped.csv',\n",
        "    usecols = ['session_id', 'item_id'],\n",
        "    nrows=len(result)\n",
        "    )\n",
        "else:\n",
        "    train_purchases = pd.read_csv(\n",
        "    './dataset/processed_data/train_purchases_mapped.csv',\n",
        "    usecols = ['session_id', 'item_id'],\n",
        "    )\n"
      ]
    },
    {
      "cell_type": "code",
      "execution_count": null,
      "id": "2a7adf88",
      "metadata": {
        "execution": {
          "iopub.execute_input": "2022-06-13T15:51:34.962544Z",
          "iopub.status.busy": "2022-06-13T15:51:34.961683Z",
          "iopub.status.idle": "2022-06-13T15:51:35.110044Z",
          "shell.execute_reply": "2022-06-13T15:51:35.109135Z"
        },
        "id": "2a7adf88",
        "papermill": {
          "duration": 0.17217,
          "end_time": "2022-06-13T15:51:35.112494",
          "exception": false,
          "start_time": "2022-06-13T15:51:34.940324",
          "status": "completed"
        },
        "tags": []
      },
      "outputs": [],
      "source": [
        "train_purchases.sort_values(by=\"session_id\",inplace=True)"
      ]
    },
    {
      "cell_type": "code",
      "execution_count": null,
      "id": "1388d6d3",
      "metadata": {
        "execution": {
          "iopub.execute_input": "2022-06-13T15:51:35.155237Z",
          "iopub.status.busy": "2022-06-13T15:51:35.154928Z",
          "iopub.status.idle": "2022-06-13T15:51:39.396817Z",
          "shell.execute_reply": "2022-06-13T15:51:39.395855Z"
        },
        "id": "1388d6d3",
        "papermill": {
          "duration": 4.265437,
          "end_time": "2022-06-13T15:51:39.398888",
          "exception": false,
          "start_time": "2022-06-13T15:51:35.133451",
          "status": "completed"
        },
        "tags": []
      },
      "outputs": [],
      "source": [
        "x_ids = tf.keras.preprocessing.sequence.pad_sequences(\n",
        "    result['item_id'],\n",
        "    padding='post',\n",
        "    maxlen=100\n",
        ")"
      ]
    },
    {
      "cell_type": "code",
      "execution_count": null,
      "id": "22f15072",
      "metadata": {
        "execution": {
          "iopub.execute_input": "2022-06-13T15:51:39.449019Z",
          "iopub.status.busy": "2022-06-13T15:51:39.447546Z",
          "iopub.status.idle": "2022-06-13T15:51:43.704762Z",
          "shell.execute_reply": "2022-06-13T15:51:43.703929Z"
        },
        "id": "22f15072",
        "outputId": "d9e873e7-d76b-438b-b257-aae7aa2db475",
        "papermill": {
          "duration": 4.285489,
          "end_time": "2022-06-13T15:51:43.706848",
          "exception": false,
          "start_time": "2022-06-13T15:51:39.421359",
          "status": "completed"
        },
        "tags": [],
        "colab": {
          "base_uri": "https://localhost:8080/"
        }
      },
      "outputs": [
        {
          "output_type": "stream",
          "name": "stdout",
          "text": [
            "Padding timedelta\n"
          ]
        }
      ],
      "source": [
        "for item_related_feature in item_related_features:\n",
        "  print('Padding {}'.format(item_related_feature))\n",
        "  x_item_related = tf.keras.preprocessing.sequence.pad_sequences(\n",
        "      result[item_related_feature],\n",
        "      dtype='float16',\n",
        "      maxlen=100,\n",
        "      padding='post'\n",
        "    )"
      ]
    },
    {
      "cell_type": "code",
      "execution_count": null,
      "id": "f6e35447",
      "metadata": {
        "execution": {
          "iopub.execute_input": "2022-06-13T15:51:43.750944Z",
          "iopub.status.busy": "2022-06-13T15:51:43.750637Z",
          "iopub.status.idle": "2022-06-13T15:51:43.754631Z",
          "shell.execute_reply": "2022-06-13T15:51:43.753840Z"
        },
        "id": "f6e35447",
        "papermill": {
          "duration": 0.02755,
          "end_time": "2022-06-13T15:51:43.756240",
          "exception": false,
          "start_time": "2022-06-13T15:51:43.728690",
          "status": "completed"
        },
        "tags": []
      },
      "outputs": [],
      "source": [
        "if len(item_related_features) == 1:\n",
        "    x_item_related = np.expand_dims(x_item_related, axis=-1)"
      ]
    },
    {
      "cell_type": "code",
      "execution_count": null,
      "id": "f884d292",
      "metadata": {
        "execution": {
          "iopub.execute_input": "2022-06-13T15:51:43.893379Z",
          "iopub.status.busy": "2022-06-13T15:51:43.893107Z",
          "iopub.status.idle": "2022-06-13T15:51:43.896971Z",
          "shell.execute_reply": "2022-06-13T15:51:43.896229Z"
        },
        "id": "f884d292",
        "papermill": {
          "duration": 0.026709,
          "end_time": "2022-06-13T15:51:43.898618",
          "exception": false,
          "start_time": "2022-06-13T15:51:43.871909",
          "status": "completed"
        },
        "tags": []
      },
      "outputs": [],
      "source": [
        "y = train_purchases['item_id'].to_numpy()"
      ]
    },
    {
      "cell_type": "code",
      "execution_count": null,
      "id": "1a4a0af6",
      "metadata": {
        "execution": {
          "iopub.execute_input": "2022-06-13T15:51:43.941569Z",
          "iopub.status.busy": "2022-06-13T15:51:43.941317Z",
          "iopub.status.idle": "2022-06-13T15:51:44.021922Z",
          "shell.execute_reply": "2022-06-13T15:51:44.021034Z"
        },
        "id": "1a4a0af6",
        "papermill": {
          "duration": 0.104479,
          "end_time": "2022-06-13T15:51:44.024064",
          "exception": false,
          "start_time": "2022-06-13T15:51:43.919585",
          "status": "completed"
        },
        "tags": []
      },
      "outputs": [],
      "source": [
        "y_features = embedding_weights[y]"
      ]
    },
    {
      "cell_type": "code",
      "execution_count": null,
      "id": "f22f3984",
      "metadata": {
        "execution": {
          "iopub.execute_input": "2022-06-13T15:51:44.067560Z",
          "iopub.status.busy": "2022-06-13T15:51:44.067172Z",
          "iopub.status.idle": "2022-06-13T15:51:45.449853Z",
          "shell.execute_reply": "2022-06-13T15:51:45.449013Z"
        },
        "id": "f22f3984",
        "papermill": {
          "duration": 1.406532,
          "end_time": "2022-06-13T15:51:45.451908",
          "exception": false,
          "start_time": "2022-06-13T15:51:44.045376",
          "status": "completed"
        },
        "tags": []
      },
      "outputs": [],
      "source": [
        "x_ids_train, x_ids_test,\\\n",
        "x_reseen_train, x_reseen_test,\\\n",
        "x_simils_train,x_simils_test,\\\n",
        "x_simils_feats_train,x_simils_feats_test,\\\n",
        "x_percentage_seen_train,x_percentage_seen_test,\\\n",
        "x_static_train, x_static_test, \\\n",
        "x_item_related_train, x_item_related_test, \\\n",
        "y_train, y_test, \\\n",
        "y_features_train, y_features_test = train_test_split(\n",
        "    x_ids,\n",
        "    x_reseen,\n",
        "    x_simils,\n",
        "    x_simils_feats,\n",
        "    x_percentage_seen,\n",
        "    result[static_features].to_numpy(),\n",
        "    x_item_related,\n",
        "    y,\n",
        "    y_features,\n",
        "    test_size=0.2,\n",
        "    random_state=1234\n",
        "    )\n"
      ]
    },
    {
      "cell_type": "code",
      "execution_count": null,
      "id": "53bb5588",
      "metadata": {
        "execution": {
          "iopub.execute_input": "2022-06-13T15:51:45.496227Z",
          "iopub.status.busy": "2022-06-13T15:51:45.495636Z",
          "iopub.status.idle": "2022-06-13T15:51:45.901985Z",
          "shell.execute_reply": "2022-06-13T15:51:45.901153Z"
        },
        "id": "53bb5588",
        "outputId": "ca7d284f-ea0b-4ef0-c100-184281cb2a81",
        "papermill": {
          "duration": 0.429915,
          "end_time": "2022-06-13T15:51:45.903962",
          "exception": false,
          "start_time": "2022-06-13T15:51:45.474047",
          "status": "completed"
        },
        "tags": [],
        "colab": {
          "base_uri": "https://localhost:8080/"
        }
      },
      "outputs": [
        {
          "output_type": "execute_result",
          "data": {
            "text/plain": [
              "54"
            ]
          },
          "metadata": {},
          "execution_count": 104
        }
      ],
      "source": [
        "del x_ids,x_reseen,x_simils,x_simils_feats,x_percentage_seen,result,x_item_related,y,y_features\n",
        "import gc\n",
        "gc.collect()"
      ]
    },
    {
      "cell_type": "markdown",
      "id": "9ca33062",
      "metadata": {
        "id": "9ca33062",
        "papermill": {
          "duration": 0.020763,
          "end_time": "2022-06-13T15:51:45.946343",
          "exception": false,
          "start_time": "2022-06-13T15:51:45.925580",
          "status": "completed"
        },
        "tags": []
      },
      "source": [
        "# Build Dataset"
      ]
    },
    {
      "cell_type": "code",
      "execution_count": null,
      "id": "141d71da",
      "metadata": {
        "execution": {
          "iopub.execute_input": "2022-06-13T15:51:45.990114Z",
          "iopub.status.busy": "2022-06-13T15:51:45.989457Z",
          "iopub.status.idle": "2022-06-13T15:51:53.352858Z",
          "shell.execute_reply": "2022-06-13T15:51:53.351926Z"
        },
        "id": "141d71da",
        "outputId": "ad24191c-2d53-4e15-97d9-01de49aee0ef",
        "papermill": {
          "duration": 7.387675,
          "end_time": "2022-06-13T15:51:53.355423",
          "exception": false,
          "start_time": "2022-06-13T15:51:45.967748",
          "status": "completed"
        },
        "tags": [],
        "colab": {
          "base_uri": "https://localhost:8080/"
        }
      },
      "outputs": [
        {
          "output_type": "execute_result",
          "data": {
            "text/plain": [
              "0"
            ]
          },
          "metadata": {},
          "execution_count": 105
        }
      ],
      "source": [
        "\n",
        "train_set_complete = tf.data.Dataset.from_tensor_slices(\n",
        "    ((x_ids_train, x_reseen_train/100,x_percentage_seen_train,x_simils_train,x_simils_feats_train, x_item_related_train, x_static_train), (y_train, y_features_train))\n",
        "    ).batch(1024,num_parallel_calls=tf.data.AUTOTUNE).prefetch(tf.data.AUTOTUNE).shuffle(521, reshuffle_each_iteration=True)\n",
        "test_set_complete = tf.data.Dataset.from_tensor_slices(\n",
        "    ((x_ids_test, x_reseen_test/100, x_percentage_seen_test,x_simils_test,x_simils_feats_test, x_item_related_test, x_static_test), (y_test, y_features_test))\n",
        "    ).batch(1024)\n",
        "gc.collect()"
      ]
    },
    {
      "cell_type": "code",
      "execution_count": null,
      "id": "863af3e9",
      "metadata": {
        "execution": {
          "iopub.execute_input": "2022-06-13T15:51:53.428338Z",
          "iopub.status.busy": "2022-06-13T15:51:53.427947Z",
          "iopub.status.idle": "2022-06-13T15:51:53.432468Z",
          "shell.execute_reply": "2022-06-13T15:51:53.431541Z"
        },
        "papermill": {
          "duration": 0.045271,
          "end_time": "2022-06-13T15:51:53.436361",
          "exception": false,
          "start_time": "2022-06-13T15:51:53.391090",
          "status": "completed"
        },
        "tags": [],
        "id": "863af3e9"
      },
      "outputs": [],
      "source": [
        "shape=y_features_train.shape[1]"
      ]
    },
    {
      "cell_type": "code",
      "execution_count": null,
      "id": "88a72605",
      "metadata": {
        "execution": {
          "iopub.execute_input": "2022-06-13T15:51:53.507961Z",
          "iopub.status.busy": "2022-06-13T15:51:53.507540Z",
          "iopub.status.idle": "2022-06-13T15:51:53.984954Z",
          "shell.execute_reply": "2022-06-13T15:51:53.984184Z"
        },
        "papermill": {
          "duration": 0.515709,
          "end_time": "2022-06-13T15:51:53.986832",
          "exception": false,
          "start_time": "2022-06-13T15:51:53.471123",
          "status": "completed"
        },
        "tags": [],
        "colab": {
          "base_uri": "https://localhost:8080/"
        },
        "id": "88a72605",
        "outputId": "006cfe82-e43d-4c1f-f0de-d338b7b05563"
      },
      "outputs": [
        {
          "output_type": "execute_result",
          "data": {
            "text/plain": [
              "0"
            ]
          },
          "metadata": {},
          "execution_count": 107
        }
      ],
      "source": [
        "del x_ids_train,x_reseen_train,x_simils_train,x_simils_feats_train,x_percentage_seen_train,x_item_related_train,y_train,y_features_train\n",
        "del x_ids_test,x_reseen_test,x_simils_test,x_simils_feats_test,x_percentage_seen_test,x_item_related_test,y_test,y_features_test\n",
        "gc.collect()"
      ]
    },
    {
      "cell_type": "code",
      "execution_count": null,
      "id": "8b63b103",
      "metadata": {
        "execution": {
          "iopub.execute_input": "2022-06-13T15:51:54.033515Z",
          "iopub.status.busy": "2022-06-13T15:51:54.033136Z",
          "iopub.status.idle": "2022-06-13T15:51:54.038651Z",
          "shell.execute_reply": "2022-06-13T15:51:54.037938Z"
        },
        "id": "8b63b103",
        "outputId": "745b71c6-1461-46ca-d2eb-99a8d7964ad7",
        "papermill": {
          "duration": 0.032112,
          "end_time": "2022-06-13T15:51:54.040457",
          "exception": false,
          "start_time": "2022-06-13T15:51:54.008345",
          "status": "completed"
        },
        "tags": [],
        "colab": {
          "base_uri": "https://localhost:8080/"
        }
      },
      "outputs": [
        {
          "output_type": "execute_result",
          "data": {
            "text/plain": [
              "((TensorSpec(shape=(None, 100), dtype=tf.int32, name=None),\n",
              "  TensorSpec(shape=(None, 100), dtype=tf.float64, name=None),\n",
              "  TensorSpec(shape=(None, 100), dtype=tf.float16, name=None),\n",
              "  TensorSpec(shape=(None, 100), dtype=tf.float16, name=None),\n",
              "  TensorSpec(shape=(None, 100), dtype=tf.float16, name=None),\n",
              "  TensorSpec(shape=(None, 100, 1), dtype=tf.float16, name=None),\n",
              "  TensorSpec(shape=(None, 28), dtype=tf.float64, name=None)),\n",
              " (TensorSpec(shape=(None,), dtype=tf.int64, name=None),\n",
              "  TensorSpec(shape=(None, 64), dtype=tf.float32, name=None)))"
            ]
          },
          "metadata": {},
          "execution_count": 108
        }
      ],
      "source": [
        "train_set_complete.element_spec"
      ]
    },
    {
      "cell_type": "code",
      "execution_count": null,
      "id": "b21c0fba",
      "metadata": {
        "execution": {
          "iopub.execute_input": "2022-06-13T15:51:54.085044Z",
          "iopub.status.busy": "2022-06-13T15:51:54.084566Z",
          "iopub.status.idle": "2022-06-13T15:51:54.967540Z",
          "shell.execute_reply": "2022-06-13T15:51:54.966736Z"
        },
        "papermill": {
          "duration": 0.908109,
          "end_time": "2022-06-13T15:51:54.969686",
          "exception": false,
          "start_time": "2022-06-13T15:51:54.061577",
          "status": "completed"
        },
        "tags": [],
        "id": "b21c0fba"
      },
      "outputs": [],
      "source": [
        "embed_dim = 64  # Embedding size for each token\n",
        "maxlen = 100\n",
        "num_static = len(static_features)\n",
        "num_item_related = len(item_related_features)\n",
        "vocabulary_size = 23692 #max(train_purchases['item_id']) # Size of the vocabulary\n",
        "num_heads = 3\n",
        "ff_dim = 128\n",
        "transformer_width = 128 - num_static - num_item_related-4\n",
        "mlp_width = 256\n",
        "mlp_depth = 2\n",
        "###### INPUT ########### INPUT #####\n",
        "id_inputs = layers.Input(shape=(maxlen,), name='ids')\n",
        "item_related_inputs = layers.Input(shape=(maxlen, num_item_related), name='item_related_features')\n",
        "x_reseen_inputs = layers.Input(shape=(maxlen, 1), name='x_reseen_featurs')\n",
        "x_percentage_seen_inputs = layers.Input(shape=(maxlen, 1), name='x_percentage_seen')\n",
        "x_simils_inputs = layers.Input(shape=(maxlen, 1), name='x_similarities_embeddings')\n",
        "x_simils_feats_inputs = layers.Input(shape=(maxlen, 1), name='x_similarities_ICM')\n",
        "static_inputs = layers.Input(shape=(num_static,), name='static_features')\n",
        "\n",
        "\n",
        "##### MODEL DEFINITION #####\n",
        "\n",
        "learned_embedding = layers.Embedding(\n",
        "    input_dim=vocabulary_size,\n",
        "    output_dim=embed_dim,\n",
        "    mask_zero=True,\n",
        "    name='learned_embedding'\n",
        "    )(id_inputs)\n",
        "\n",
        "feature_embedding = layers.Embedding(\n",
        "    input_dim=embedding_weights.shape[0],\n",
        "    output_dim=embedding_weights.shape[1],\n",
        "    mask_zero=True,\n",
        "    trainable=False,\n",
        "    weights=[embedding_weights],\n",
        "    name='feature_embedding'\n",
        "    )(id_inputs)\n",
        "\n",
        "positional_embedding = PositionEmbedding(\n",
        "    maxlen,\n",
        "    embed_dim=embed_dim*2+num_item_related+4\n",
        "    )(id_inputs)\n",
        "\n",
        "embedding = layers.Concatenate(\n",
        "    name='embedding'\n",
        ")([learned_embedding, feature_embedding])\n",
        "\n",
        "masked_item_related_inputs = item_related_inputs[:, :tf.shape(id_inputs)[-1], :]\n",
        "\n",
        "embedding = layers.Concatenate()([embedding, masked_item_related_inputs, x_reseen_inputs,x_percentage_seen_inputs,x_simils_inputs,x_simils_feats_inputs])\n",
        "\n",
        "x_pre = embedding + positional_embedding\n",
        "\n",
        "x_post = TransformerBlock(\n",
        "    embed_dim*2+num_item_related+4,\n",
        "    num_heads,\n",
        "    ff_dim\n",
        "    )(x_pre)\n",
        "\n",
        "x_post = layers.Concatenate()([x_post, x_pre])\n",
        "x_post = layers.GlobalAveragePooling1D()(x_post)\n",
        "\n",
        "x_post = layers.Dense(\n",
        "    units=mlp_width-num_static,\n",
        "    activation='linear'\n",
        "    )(x_post)\n",
        "\n",
        "x_pre = layers.Concatenate()([x_post, static_inputs])\n",
        "\n",
        "for layer in range(mlp_depth):\n",
        "  x_post = layers.LayerNormalization()(x_pre)\n",
        "  x_post = layers.Dropout(0.2)(x_post)\n",
        "  x_post = layers.Dense(units=mlp_width, activation='gelu')(x_post)\n",
        "  x_pre = layers.Add()([x_pre, x_post])\n",
        "\n",
        "##### PREDICTION DEFINITION #####\n",
        "\n",
        "outputs = layers.Dense(19021, activation='softmax', name='y')(x_pre)\n",
        "secondary_outputs = layers.Dense(\n",
        "    units=shape,\n",
        "    activation='tanh',\n",
        "    name='y_features'\n",
        "    )(x_pre)\n",
        "\n",
        "model_for_training= tf.keras.Model(\n",
        "    inputs=[id_inputs, x_reseen_inputs, x_percentage_seen_inputs,x_simils_inputs,x_simils_feats_inputs,item_related_inputs, static_inputs],\n",
        "    outputs=[outputs, secondary_outputs],\n",
        "    name=\"encodermodel_training\"\n",
        "    )\n",
        "\n",
        "\n",
        "model_for_training.compile(\n",
        "    optimizer=tf.keras.optimizers.Adamax(\n",
        "\n",
        "    ),\n",
        "    loss=[\n",
        "          lambda y_true, y_pred : tf.keras.losses.categorical_crossentropy(\n",
        "              tf.squeeze(tf.one_hot(tf.cast(y_true, dtype=tf.int32), 19020+1, axis=-1)),\n",
        "              y_pred,\n",
        "              label_smoothing=0.1\n",
        "              ),\n",
        "          'mse'\n",
        "    ],\n",
        "    loss_weights=[1, 1],\n",
        "    metrics=[\n",
        "             [\n",
        "              mrr_top_at(at=100)\n",
        "             ],\n",
        "             []\n",
        "             ]\n",
        "    )\n",
        "\n"
      ]
    },
    {
      "cell_type": "markdown",
      "id": "03ec1b76",
      "metadata": {
        "id": "03ec1b76",
        "papermill": {
          "duration": 0.021265,
          "end_time": "2022-06-13T15:51:55.013902",
          "exception": false,
          "start_time": "2022-06-13T15:51:54.992637",
          "status": "completed"
        },
        "tags": []
      },
      "source": [
        "# Plot"
      ]
    },
    {
      "cell_type": "markdown",
      "id": "50634bf8",
      "metadata": {
        "id": "50634bf8",
        "papermill": {
          "duration": 0.021133,
          "end_time": "2022-06-13T15:51:55.056367",
          "exception": false,
          "start_time": "2022-06-13T15:51:55.035234",
          "status": "completed"
        },
        "tags": []
      },
      "source": [
        "#Training"
      ]
    },
    {
      "cell_type": "code",
      "execution_count": null,
      "id": "5deafa4d",
      "metadata": {
        "execution": {
          "iopub.execute_input": "2022-06-13T15:51:55.100603Z",
          "iopub.status.busy": "2022-06-13T15:51:55.099842Z",
          "iopub.status.idle": "2022-06-13T16:06:44.461121Z",
          "shell.execute_reply": "2022-06-13T16:06:44.460195Z"
        },
        "id": "5deafa4d",
        "outputId": "8e37d37c-184d-417e-e939-dfd2c6ee8aed",
        "papermill": {
          "duration": 889.396889,
          "end_time": "2022-06-13T16:06:44.474620",
          "exception": false,
          "start_time": "2022-06-13T15:51:55.077731",
          "status": "completed"
        },
        "tags": [],
        "colab": {
          "base_uri": "https://localhost:8080/"
        }
      },
      "outputs": [
        {
          "output_type": "stream",
          "name": "stdout",
          "text": [
            "Epoch 1/100\n",
            "782/782 [==============================] - 206s 246ms/step - loss: 8.7465 - y_loss: 8.7026 - y_features_loss: 0.0438 - y_mrr_top: 0.0312 - val_loss: 7.9367 - val_y_loss: 7.9179 - val_y_features_loss: 0.0188 - val_y_mrr_top: 0.0621\n",
            "Epoch 2/100\n",
            "782/782 [==============================] - 195s 242ms/step - loss: 7.5930 - y_loss: 7.5717 - y_features_loss: 0.0212 - y_mrr_top: 0.0881 - val_loss: 7.3887 - val_y_loss: 7.3742 - val_y_features_loss: 0.0144 - val_y_mrr_top: 0.1058\n",
            "Epoch 3/100\n",
            "782/782 [==============================] - 197s 244ms/step - loss: 7.2015 - y_loss: 7.1861 - y_features_loss: 0.0154 - y_mrr_top: 0.1193 - val_loss: 7.1708 - val_y_loss: 7.1582 - val_y_features_loss: 0.0126 - val_y_mrr_top: 0.1268\n",
            "Epoch 4/100\n",
            "782/782 [==============================] - 197s 244ms/step - loss: 6.9737 - y_loss: 6.9604 - y_features_loss: 0.0133 - y_mrr_top: 0.1402 - val_loss: 7.0228 - val_y_loss: 7.0111 - val_y_features_loss: 0.0117 - val_y_mrr_top: 0.1424\n",
            "Epoch 5/100\n",
            "782/782 [==============================] - 197s 245ms/step - loss: 6.8155 - y_loss: 6.8031 - y_features_loss: 0.0124 - y_mrr_top: 0.1550 - val_loss: 6.9385 - val_y_loss: 6.9271 - val_y_features_loss: 0.0114 - val_y_mrr_top: 0.1525\n",
            "Epoch 6/100\n",
            "782/782 [==============================] - 197s 245ms/step - loss: 6.6969 - y_loss: 6.6849 - y_features_loss: 0.0119 - y_mrr_top: 0.1668 - val_loss: 6.8958 - val_y_loss: 6.8845 - val_y_features_loss: 0.0113 - val_y_mrr_top: 0.1598\n",
            "Epoch 7/100\n",
            "782/782 [==============================] - 197s 245ms/step - loss: 6.5964 - y_loss: 6.5848 - y_features_loss: 0.0116 - y_mrr_top: 0.1768 - val_loss: 6.8590 - val_y_loss: 6.8479 - val_y_features_loss: 0.0111 - val_y_mrr_top: 0.1654\n",
            "Epoch 8/100\n",
            "782/782 [==============================] - 197s 245ms/step - loss: 6.5114 - y_loss: 6.5000 - y_features_loss: 0.0114 - y_mrr_top: 0.1853 - val_loss: 6.8382 - val_y_loss: 6.8271 - val_y_features_loss: 0.0111 - val_y_mrr_top: 0.1703\n",
            "Epoch 9/100\n",
            "782/782 [==============================] - 197s 245ms/step - loss: 6.4348 - y_loss: 6.4235 - y_features_loss: 0.0113 - y_mrr_top: 0.1929 - val_loss: 6.8228 - val_y_loss: 6.8118 - val_y_features_loss: 0.0110 - val_y_mrr_top: 0.1741\n",
            "Epoch 10/100\n",
            "782/782 [==============================] - 197s 245ms/step - loss: 6.3662 - y_loss: 6.3549 - y_features_loss: 0.0113 - y_mrr_top: 0.1996 - val_loss: 6.8078 - val_y_loss: 6.7969 - val_y_features_loss: 0.0110 - val_y_mrr_top: 0.1764\n",
            "Epoch 11/100\n",
            "782/782 [==============================] - 197s 245ms/step - loss: 6.3037 - y_loss: 6.2925 - y_features_loss: 0.0112 - y_mrr_top: 0.2060 - val_loss: 6.8167 - val_y_loss: 6.8058 - val_y_features_loss: 0.0109 - val_y_mrr_top: 0.1780\n",
            "Epoch 12/100\n",
            "782/782 [==============================] - 197s 245ms/step - loss: 6.2455 - y_loss: 6.2343 - y_features_loss: 0.0112 - y_mrr_top: 0.2114 - val_loss: 6.8163 - val_y_loss: 6.8053 - val_y_features_loss: 0.0110 - val_y_mrr_top: 0.1803\n",
            "Epoch 13/100\n",
            "782/782 [==============================] - 197s 244ms/step - loss: 6.1910 - y_loss: 6.1798 - y_features_loss: 0.0111 - y_mrr_top: 0.2170 - val_loss: 6.8260 - val_y_loss: 6.8151 - val_y_features_loss: 0.0109 - val_y_mrr_top: 0.1812\n",
            "Epoch 14/100\n",
            "782/782 [==============================] - 197s 245ms/step - loss: 6.1381 - y_loss: 6.1270 - y_features_loss: 0.0111 - y_mrr_top: 0.2222 - val_loss: 6.8454 - val_y_loss: 6.8344 - val_y_features_loss: 0.0110 - val_y_mrr_top: 0.1825\n",
            "Epoch 15/100\n",
            "782/782 [==============================] - 197s 244ms/step - loss: 6.0883 - y_loss: 6.0772 - y_features_loss: 0.0111 - y_mrr_top: 0.2274 - val_loss: 6.8416 - val_y_loss: 6.8306 - val_y_features_loss: 0.0110 - val_y_mrr_top: 0.1834\n",
            "Epoch 16/100\n",
            "782/782 [==============================] - 197s 244ms/step - loss: 6.0394 - y_loss: 6.0283 - y_features_loss: 0.0111 - y_mrr_top: 0.2323 - val_loss: 6.8605 - val_y_loss: 6.8495 - val_y_features_loss: 0.0110 - val_y_mrr_top: 0.1841\n",
            "Epoch 17/100\n",
            "782/782 [==============================] - 197s 244ms/step - loss: 5.9930 - y_loss: 5.9819 - y_features_loss: 0.0111 - y_mrr_top: 0.2371 - val_loss: 6.8729 - val_y_loss: 6.8620 - val_y_features_loss: 0.0110 - val_y_mrr_top: 0.1845\n",
            "Epoch 18/100\n",
            "782/782 [==============================] - 197s 245ms/step - loss: 5.9478 - y_loss: 5.9367 - y_features_loss: 0.0111 - y_mrr_top: 0.2423 - val_loss: 6.9052 - val_y_loss: 6.8943 - val_y_features_loss: 0.0110 - val_y_mrr_top: 0.1841\n"
          ]
        },
        {
          "output_type": "execute_result",
          "data": {
            "text/plain": [
              "<keras.src.callbacks.History at 0x7dcb4daa5180>"
            ]
          },
          "metadata": {},
          "execution_count": 34
        }
      ],
      "source": [
        "gc.collect()\n",
        "if just_checking_integrity:\n",
        "    n_epochs=2\n",
        "else:\n",
        "    n_epochs=100\n",
        "monitor='val_y_mrr_top'\n",
        "model_for_training.fit(\n",
        "    train_set_complete,\n",
        "    validation_data=test_set_complete,\n",
        "    epochs=n_epochs,\n",
        "    callbacks=[\n",
        "               tf.keras.callbacks.EarlyStopping(\n",
        "                  monitor=monitor,\n",
        "                  mode='max',\n",
        "                  patience=1,\n",
        "                  min_delta=0.0001,\n",
        "                  restore_best_weights=True,\n",
        "              ),\n",
        "         ]\n",
        "    )"
      ]
    },
    {
      "cell_type": "code",
      "source": [
        "gc.collect()\n",
        "if just_checking_integrity:\n",
        "    n_epochs=2\n",
        "else:\n",
        "    n_epochs=100\n",
        "monitor='val_y_mrr_top'\n",
        "model_for_training.fit(\n",
        "    train_set_complete,\n",
        "    validation_data=test_set_complete,\n",
        "    epochs=n_epochs,\n",
        "    callbacks=[\n",
        "               tf.keras.callbacks.EarlyStopping(\n",
        "                  monitor=monitor,\n",
        "                  mode='max',\n",
        "                  patience=1,\n",
        "                  min_delta=0.0001,\n",
        "                  restore_best_weights=True,\n",
        "              ),\n",
        "         ]\n",
        "    )"
      ],
      "metadata": {
        "colab": {
          "base_uri": "https://localhost:8080/"
        },
        "id": "humQWqc2pMf9",
        "outputId": "9b9ea226-d26b-4948-acda-30af0606f670"
      },
      "id": "humQWqc2pMf9",
      "execution_count": null,
      "outputs": [
        {
          "output_type": "stream",
          "name": "stdout",
          "text": [
            "Epoch 1/100\n",
            "782/782 [==============================] - 197s 245ms/step - loss: 5.9480 - y_loss: 5.9368 - y_features_loss: 0.0111 - y_mrr_top: 0.2423 - val_loss: 6.8941 - val_y_loss: 6.8831 - val_y_features_loss: 0.0110 - val_y_mrr_top: 0.1845\n",
            "Epoch 2/100\n",
            "782/782 [==============================] - 197s 244ms/step - loss: 5.9025 - y_loss: 5.8914 - y_features_loss: 0.0111 - y_mrr_top: 0.2474 - val_loss: 6.9234 - val_y_loss: 6.9124 - val_y_features_loss: 0.0111 - val_y_mrr_top: 0.1850\n",
            "Epoch 3/100\n",
            "782/782 [==============================] - 196s 244ms/step - loss: 5.8596 - y_loss: 5.8484 - y_features_loss: 0.0111 - y_mrr_top: 0.2521 - val_loss: 6.9494 - val_y_loss: 6.9383 - val_y_features_loss: 0.0110 - val_y_mrr_top: 0.1846\n"
          ]
        },
        {
          "output_type": "execute_result",
          "data": {
            "text/plain": [
              "<keras.src.callbacks.History at 0x7dcb27f3ef20>"
            ]
          },
          "metadata": {},
          "execution_count": 35
        }
      ]
    },
    {
      "cell_type": "markdown",
      "id": "606adf29",
      "metadata": {
        "id": "606adf29",
        "papermill": {
          "duration": 0.022568,
          "end_time": "2022-06-13T16:06:44.519940",
          "exception": false,
          "start_time": "2022-06-13T16:06:44.497372",
          "status": "completed"
        },
        "tags": []
      },
      "source": [
        "# Prepare test predictions Leaderboard\n",
        "\n"
      ]
    },
    {
      "cell_type": "code",
      "execution_count": null,
      "id": "c6a7d62e",
      "metadata": {
        "execution": {
          "iopub.execute_input": "2022-06-13T16:06:44.566987Z",
          "iopub.status.busy": "2022-06-13T16:06:44.566660Z",
          "iopub.status.idle": "2022-06-13T16:06:44.589899Z",
          "shell.execute_reply": "2022-06-13T16:06:44.589161Z"
        },
        "papermill": {
          "duration": 0.048993,
          "end_time": "2022-06-13T16:06:44.591607",
          "exception": false,
          "start_time": "2022-06-13T16:06:44.542614",
          "status": "completed"
        },
        "tags": [],
        "id": "c6a7d62e"
      },
      "outputs": [],
      "source": [
        "del train_set_complete\n",
        "del test_set_complete"
      ]
    },
    {
      "cell_type": "code",
      "execution_count": null,
      "id": "e392d3ac",
      "metadata": {
        "execution": {
          "iopub.execute_input": "2022-06-13T16:06:45.230061Z",
          "iopub.status.busy": "2022-06-13T16:06:45.229746Z",
          "iopub.status.idle": "2022-06-13T16:06:47.447985Z",
          "shell.execute_reply": "2022-06-13T16:06:47.447136Z"
        },
        "id": "e392d3ac",
        "outputId": "10024fcf-bde7-430c-d5f2-acb54784b55a",
        "papermill": {
          "duration": 2.244434,
          "end_time": "2022-06-13T16:06:47.450210",
          "exception": false,
          "start_time": "2022-06-13T16:06:45.205776",
          "status": "completed"
        },
        "tags": [],
        "colab": {
          "base_uri": "https://localhost:8080/"
        }
      },
      "outputs": [
        {
          "output_type": "execute_result",
          "data": {
            "text/plain": [
              "1375"
            ]
          },
          "metadata": {},
          "execution_count": 37
        }
      ],
      "source": [
        "temp=pd.read_csv(\"./dataset/processed_data/macro_feats_NN_leaderboard.csv\")\n",
        "temp[\"item_id\"]=temp[\"item_id\"].map(ast.literal_eval)\n",
        "temp[\"timedelta\"]=temp[\"timedelta\"].map(ast.literal_eval)\n",
        "\n",
        "test_leaderboard_sessions=temp\n",
        "gc.collect()"
      ]
    },
    {
      "cell_type": "code",
      "execution_count": null,
      "id": "927de505",
      "metadata": {
        "execution": {
          "iopub.execute_input": "2022-06-13T16:06:47.498838Z",
          "iopub.status.busy": "2022-06-13T16:06:47.498183Z",
          "iopub.status.idle": "2022-06-13T16:06:48.037874Z",
          "shell.execute_reply": "2022-06-13T16:06:48.037062Z"
        },
        "id": "927de505",
        "papermill": {
          "duration": 0.565867,
          "end_time": "2022-06-13T16:06:48.039989",
          "exception": false,
          "start_time": "2022-06-13T16:06:47.474122",
          "status": "completed"
        },
        "tags": []
      },
      "outputs": [],
      "source": [
        "\n",
        "x_reseen_test = tf.keras.preprocessing.sequence.pad_sequences(\n",
        "    test_leaderboard_sessions['item_id'].apply(is_reseen),\n",
        "    padding='post',\n",
        "    maxlen=100,\n",
        ")\n",
        "\n",
        "x_percentage_seen_test = tf.keras.preprocessing.sequence.pad_sequences(\n",
        "    test_leaderboard_sessions['item_id'].apply(percentage_seen),\n",
        "    padding='post',\n",
        "    maxlen=100,\n",
        ")"
      ]
    },
    {
      "cell_type": "code",
      "execution_count": null,
      "id": "4bbcca2a",
      "metadata": {
        "execution": {
          "iopub.execute_input": "2022-06-13T16:06:48.089197Z",
          "iopub.status.busy": "2022-06-13T16:06:48.088494Z",
          "iopub.status.idle": "2022-06-13T16:06:59.057112Z",
          "shell.execute_reply": "2022-06-13T16:06:59.056307Z"
        },
        "id": "4bbcca2a",
        "outputId": "6a89fbbf-00fb-4f6b-d8fe-874475077a2c",
        "papermill": {
          "duration": 10.995595,
          "end_time": "2022-06-13T16:06:59.059286",
          "exception": false,
          "start_time": "2022-06-13T16:06:48.063691",
          "status": "completed"
        },
        "tags": [],
        "colab": {
          "base_uri": "https://localhost:8080/",
          "height": 81,
          "referenced_widgets": [
            "61de08caf64a43b6bfa363fe9cc02f3c",
            "b710af75ad5a4a8e9c2dd760bee73607",
            "11386ea10e304cdfb74bb5e129a9758b",
            "4e9d2a92556f40e0b6f0fd5c9fb61ed3",
            "a06cee54c7fd4aa5a2d30980d2d0c74c",
            "5cfe2e66647d4fadaf63fe7db5ebb7cc",
            "80245143f5464871a05f253ff494ef2b",
            "d1bc5e2e6ddc4009bd0f8b1c82963fd9",
            "eb38b6afc36b4f8b8194c89b341d7bac",
            "ed50d156cdc6436b8c3142102fc559c7",
            "eba71dd63c55441e9fc63ff2ea7a87b2",
            "1994570da08c423ba4212e37f2e53aa5",
            "16aabf2d913d4b858fa405c628d094b4",
            "3a388381c38544d0bc443971260cc011",
            "9a2af7aee8514d4bbd25727b1e60a6df",
            "65176aaea53b417c89e2437943d02b61",
            "47c6e041c8564aa0b0df78eda729d7a9",
            "98f84a230ca842a488fed88257704e54",
            "9503d8f3d2d744208266441846d24275",
            "ed85c604d66c44a4b0e732b43681ccd9",
            "54d85d246db04a9eb2651f9759950b72",
            "a2845b9e35a34bc0a182f9afd74a8053"
          ]
        }
      },
      "outputs": [
        {
          "output_type": "display_data",
          "data": {
            "text/plain": [
              "  0%|          | 0/50000 [00:00<?, ?it/s]"
            ],
            "application/vnd.jupyter.widget-view+json": {
              "version_major": 2,
              "version_minor": 0,
              "model_id": "61de08caf64a43b6bfa363fe9cc02f3c"
            }
          },
          "metadata": {}
        },
        {
          "output_type": "display_data",
          "data": {
            "text/plain": [
              "  0%|          | 0/50000 [00:00<?, ?it/s]"
            ],
            "application/vnd.jupyter.widget-view+json": {
              "version_major": 2,
              "version_minor": 0,
              "model_id": "1994570da08c423ba4212e37f2e53aa5"
            }
          },
          "metadata": {}
        }
      ],
      "source": [
        "x_simils_test = tf.keras.preprocessing.sequence.pad_sequences(\n",
        "    test_leaderboard_sessions['item_id'].progress_apply(similarity_with_preceding\n",
        "    ),\n",
        "    padding='post',\n",
        "    maxlen=100,\n",
        "    dtype='float32',\n",
        ")\n",
        "x_simils_feats_test = tf.keras.preprocessing.sequence.pad_sequences(\n",
        "    test_leaderboard_sessions['item_id'].progress_apply(similarity_feats_with_preceding\n",
        "    ),\n",
        "    padding='post',\n",
        "    maxlen=100,\n",
        "    dtype='float32',\n",
        ")"
      ]
    },
    {
      "cell_type": "code",
      "execution_count": null,
      "id": "93cecdd9",
      "metadata": {
        "execution": {
          "iopub.execute_input": "2022-06-13T16:06:59.110460Z",
          "iopub.status.busy": "2022-06-13T16:06:59.110085Z",
          "iopub.status.idle": "2022-06-13T16:06:59.121248Z",
          "shell.execute_reply": "2022-06-13T16:06:59.120472Z"
        },
        "id": "93cecdd9",
        "papermill": {
          "duration": 0.038412,
          "end_time": "2022-06-13T16:06:59.123137",
          "exception": false,
          "start_time": "2022-06-13T16:06:59.084725",
          "status": "completed"
        },
        "tags": []
      },
      "outputs": [],
      "source": [
        "for col in ['length_of_session_seconds','avg_time_spent_per_item_seconds','variance_time_spent_per_item_seconds']:\n",
        "    test_leaderboard_sessions[col]=np.log10(test_leaderboard_sessions[col]+1)\n",
        "for col in ['n_seen_items','n_unique_items']:\n",
        "    test_leaderboard_sessions[col]=test_leaderboard_sessions[col]/100"
      ]
    },
    {
      "cell_type": "code",
      "execution_count": null,
      "id": "6d2fe969",
      "metadata": {
        "execution": {
          "iopub.execute_input": "2022-06-13T16:06:59.174306Z",
          "iopub.status.busy": "2022-06-13T16:06:59.173642Z",
          "iopub.status.idle": "2022-06-13T16:06:59.379504Z",
          "shell.execute_reply": "2022-06-13T16:06:59.378552Z"
        },
        "id": "6d2fe969",
        "papermill": {
          "duration": 0.233343,
          "end_time": "2022-06-13T16:06:59.381721",
          "exception": false,
          "start_time": "2022-06-13T16:06:59.148378",
          "status": "completed"
        },
        "tags": [],
        "colab": {
          "base_uri": "https://localhost:8080/"
        },
        "outputId": "2f73d75a-0eb2-416e-cd34-8e9857bc79b7"
      },
      "outputs": [
        {
          "output_type": "execute_result",
          "data": {
            "text/plain": [
              "array([3404,    0,    0,    0,    0,    0,    0,    0,    0,    0,    0,\n",
              "          0,    0,    0,    0,    0,    0,    0,    0,    0,    0,    0,\n",
              "          0,    0,    0,    0,    0,    0,    0,    0,    0,    0,    0,\n",
              "          0,    0,    0,    0,    0,    0,    0,    0,    0,    0,    0,\n",
              "          0,    0,    0,    0,    0,    0,    0,    0,    0,    0,    0,\n",
              "          0,    0,    0,    0,    0,    0,    0,    0,    0,    0,    0,\n",
              "          0,    0,    0,    0,    0,    0,    0,    0,    0,    0,    0,\n",
              "          0,    0,    0,    0,    0,    0,    0,    0,    0,    0,    0,\n",
              "          0,    0,    0,    0,    0,    0,    0,    0,    0,    0,    0,\n",
              "          0], dtype=int32)"
            ]
          },
          "metadata": {},
          "execution_count": 41
        }
      ],
      "source": [
        "x_test_leaderboard = tf.keras.preprocessing.sequence.pad_sequences(\n",
        "    test_leaderboard_sessions['item_id'],\n",
        "    padding='post',\n",
        "    maxlen=100\n",
        ")\n",
        "\n",
        "x_test_leaderboard[0]"
      ]
    },
    {
      "cell_type": "code",
      "execution_count": null,
      "id": "4a1ca7da",
      "metadata": {
        "execution": {
          "iopub.execute_input": "2022-06-13T16:06:59.433021Z",
          "iopub.status.busy": "2022-06-13T16:06:59.432227Z",
          "iopub.status.idle": "2022-06-13T16:06:59.642095Z",
          "shell.execute_reply": "2022-06-13T16:06:59.640926Z"
        },
        "id": "4a1ca7da",
        "papermill": {
          "duration": 0.238214,
          "end_time": "2022-06-13T16:06:59.644606",
          "exception": false,
          "start_time": "2022-06-13T16:06:59.406392",
          "status": "completed"
        },
        "tags": [],
        "colab": {
          "base_uri": "https://localhost:8080/"
        },
        "outputId": "c7059c31-84ed-4164-b407-a68fb9f22317"
      },
      "outputs": [
        {
          "output_type": "stream",
          "name": "stdout",
          "text": [
            "Padding timedelta\n"
          ]
        }
      ],
      "source": [
        "for item_related_feature in item_related_features:\n",
        "  print('Padding {}'.format(item_related_feature))\n",
        "  x_test_item_related = tf.keras.preprocessing.sequence.pad_sequences(\n",
        "      test_leaderboard_sessions[item_related_feature],\n",
        "      dtype='float16',\n",
        "      maxlen=100,\n",
        "      padding='post'\n",
        "    )"
      ]
    },
    {
      "cell_type": "code",
      "execution_count": null,
      "id": "ae52b0f1",
      "metadata": {
        "execution": {
          "iopub.execute_input": "2022-06-13T16:06:59.698055Z",
          "iopub.status.busy": "2022-06-13T16:06:59.697292Z",
          "iopub.status.idle": "2022-06-13T16:06:59.701666Z",
          "shell.execute_reply": "2022-06-13T16:06:59.700865Z"
        },
        "id": "ae52b0f1",
        "papermill": {
          "duration": 0.033071,
          "end_time": "2022-06-13T16:06:59.703533",
          "exception": false,
          "start_time": "2022-06-13T16:06:59.670462",
          "status": "completed"
        },
        "tags": []
      },
      "outputs": [],
      "source": [
        "if len(item_related_features) == 1:\n",
        "    x_test_item_related = np.expand_dims(x_test_item_related, axis=-1)"
      ]
    },
    {
      "cell_type": "code",
      "execution_count": null,
      "id": "435fc2bf",
      "metadata": {
        "execution": {
          "iopub.execute_input": "2022-06-13T16:06:59.754252Z",
          "iopub.status.busy": "2022-06-13T16:06:59.753605Z",
          "iopub.status.idle": "2022-06-13T16:06:59.840357Z",
          "shell.execute_reply": "2022-06-13T16:06:59.839546Z"
        },
        "id": "435fc2bf",
        "outputId": "1fafb272-783f-4320-b9c1-6bfd8cdf6fd0",
        "papermill": {
          "duration": 0.114226,
          "end_time": "2022-06-13T16:06:59.842201",
          "exception": false,
          "start_time": "2022-06-13T16:06:59.727975",
          "status": "completed"
        },
        "tags": [],
        "colab": {
          "base_uri": "https://localhost:8080/"
        }
      },
      "outputs": [
        {
          "output_type": "execute_result",
          "data": {
            "text/plain": [
              "(TensorSpec(shape=(None,), dtype=tf.int64, name=None),\n",
              " (TensorSpec(shape=(None, 100), dtype=tf.int32, name=None),\n",
              "  TensorSpec(shape=(None, 100), dtype=tf.float64, name=None),\n",
              "  TensorSpec(shape=(None, 100), dtype=tf.int32, name=None),\n",
              "  TensorSpec(shape=(None, 100), dtype=tf.float32, name=None),\n",
              "  TensorSpec(shape=(None, 100), dtype=tf.float32, name=None),\n",
              "  TensorSpec(shape=(None, 100, 1), dtype=tf.float16, name=None),\n",
              "  TensorSpec(shape=(None, 28), dtype=tf.float64, name=None)))"
            ]
          },
          "metadata": {},
          "execution_count": 57
        }
      ],
      "source": [
        "submission_set = tf.data.Dataset.from_tensor_slices(\n",
        "    (\n",
        "        test_leaderboard_sessions['session_id'],\n",
        "     (\n",
        "        x_test_leaderboard,\n",
        "        x_reseen_test/100,\n",
        "        x_percentage_seen_test,\n",
        "        x_simils_test,\n",
        "        x_simils_feats_test,\n",
        "        x_test_item_related,\n",
        "        test_leaderboard_sessions[static_features].to_numpy()\n",
        "     )\n",
        "    )\n",
        ").batch(2048)\n",
        "\n",
        "submission_set.element_spec"
      ]
    },
    {
      "cell_type": "code",
      "execution_count": null,
      "id": "b5127be2",
      "metadata": {
        "execution": {
          "iopub.execute_input": "2022-06-13T16:06:59.895073Z",
          "iopub.status.busy": "2022-06-13T16:06:59.894724Z",
          "iopub.status.idle": "2022-06-13T16:06:59.904723Z",
          "shell.execute_reply": "2022-06-13T16:06:59.903870Z"
        },
        "id": "b5127be2",
        "outputId": "69a67307-3413-4885-d614-5c5f43000afa",
        "papermill": {
          "duration": 0.037788,
          "end_time": "2022-06-13T16:06:59.906596",
          "exception": false,
          "start_time": "2022-06-13T16:06:59.868808",
          "status": "completed"
        },
        "tags": [],
        "colab": {
          "base_uri": "https://localhost:8080/",
          "height": 53
        }
      },
      "outputs": [
        {
          "output_type": "execute_result",
          "data": {
            "text/plain": [
              "Empty DataFrame\n",
              "Columns: [session_id, code, score, rank]\n",
              "Index: []"
            ],
            "text/html": [
              "\n",
              "  <div id=\"df-103c8ef7-f8d8-42f5-a6a8-aa5ef82021aa\" class=\"colab-df-container\">\n",
              "    <div>\n",
              "<style scoped>\n",
              "    .dataframe tbody tr th:only-of-type {\n",
              "        vertical-align: middle;\n",
              "    }\n",
              "\n",
              "    .dataframe tbody tr th {\n",
              "        vertical-align: top;\n",
              "    }\n",
              "\n",
              "    .dataframe thead th {\n",
              "        text-align: right;\n",
              "    }\n",
              "</style>\n",
              "<table border=\"1\" class=\"dataframe\">\n",
              "  <thead>\n",
              "    <tr style=\"text-align: right;\">\n",
              "      <th></th>\n",
              "      <th>session_id</th>\n",
              "      <th>code</th>\n",
              "      <th>score</th>\n",
              "      <th>rank</th>\n",
              "    </tr>\n",
              "  </thead>\n",
              "  <tbody>\n",
              "  </tbody>\n",
              "</table>\n",
              "</div>\n",
              "    <div class=\"colab-df-buttons\">\n",
              "\n",
              "  <div class=\"colab-df-container\">\n",
              "    <button class=\"colab-df-convert\" onclick=\"convertToInteractive('df-103c8ef7-f8d8-42f5-a6a8-aa5ef82021aa')\"\n",
              "            title=\"Convert this dataframe to an interactive table.\"\n",
              "            style=\"display:none;\">\n",
              "\n",
              "  <svg xmlns=\"http://www.w3.org/2000/svg\" height=\"24px\" viewBox=\"0 -960 960 960\">\n",
              "    <path d=\"M120-120v-720h720v720H120Zm60-500h600v-160H180v160Zm220 220h160v-160H400v160Zm0 220h160v-160H400v160ZM180-400h160v-160H180v160Zm440 0h160v-160H620v160ZM180-180h160v-160H180v160Zm440 0h160v-160H620v160Z\"/>\n",
              "  </svg>\n",
              "    </button>\n",
              "\n",
              "  <style>\n",
              "    .colab-df-container {\n",
              "      display:flex;\n",
              "      gap: 12px;\n",
              "    }\n",
              "\n",
              "    .colab-df-convert {\n",
              "      background-color: #E8F0FE;\n",
              "      border: none;\n",
              "      border-radius: 50%;\n",
              "      cursor: pointer;\n",
              "      display: none;\n",
              "      fill: #1967D2;\n",
              "      height: 32px;\n",
              "      padding: 0 0 0 0;\n",
              "      width: 32px;\n",
              "    }\n",
              "\n",
              "    .colab-df-convert:hover {\n",
              "      background-color: #E2EBFA;\n",
              "      box-shadow: 0px 1px 2px rgba(60, 64, 67, 0.3), 0px 1px 3px 1px rgba(60, 64, 67, 0.15);\n",
              "      fill: #174EA6;\n",
              "    }\n",
              "\n",
              "    .colab-df-buttons div {\n",
              "      margin-bottom: 4px;\n",
              "    }\n",
              "\n",
              "    [theme=dark] .colab-df-convert {\n",
              "      background-color: #3B4455;\n",
              "      fill: #D2E3FC;\n",
              "    }\n",
              "\n",
              "    [theme=dark] .colab-df-convert:hover {\n",
              "      background-color: #434B5C;\n",
              "      box-shadow: 0px 1px 3px 1px rgba(0, 0, 0, 0.15);\n",
              "      filter: drop-shadow(0px 1px 2px rgba(0, 0, 0, 0.3));\n",
              "      fill: #FFFFFF;\n",
              "    }\n",
              "  </style>\n",
              "\n",
              "    <script>\n",
              "      const buttonEl =\n",
              "        document.querySelector('#df-103c8ef7-f8d8-42f5-a6a8-aa5ef82021aa button.colab-df-convert');\n",
              "      buttonEl.style.display =\n",
              "        google.colab.kernel.accessAllowed ? 'block' : 'none';\n",
              "\n",
              "      async function convertToInteractive(key) {\n",
              "        const element = document.querySelector('#df-103c8ef7-f8d8-42f5-a6a8-aa5ef82021aa');\n",
              "        const dataTable =\n",
              "          await google.colab.kernel.invokeFunction('convertToInteractive',\n",
              "                                                    [key], {});\n",
              "        if (!dataTable) return;\n",
              "\n",
              "        const docLinkHtml = 'Like what you see? Visit the ' +\n",
              "          '<a target=\"_blank\" href=https://colab.research.google.com/notebooks/data_table.ipynb>data table notebook</a>'\n",
              "          + ' to learn more about interactive tables.';\n",
              "        element.innerHTML = '';\n",
              "        dataTable['output_type'] = 'display_data';\n",
              "        await google.colab.output.renderOutput(dataTable, element);\n",
              "        const docLink = document.createElement('div');\n",
              "        docLink.innerHTML = docLinkHtml;\n",
              "        element.appendChild(docLink);\n",
              "      }\n",
              "    </script>\n",
              "  </div>\n",
              "\n",
              "\n",
              "    </div>\n",
              "  </div>\n"
            ],
            "application/vnd.google.colaboratory.intrinsic+json": {
              "type": "dataframe",
              "variable_name": "submission_df",
              "summary": "{\n  \"name\": \"submission_df\",\n  \"rows\": 0,\n  \"fields\": [\n    {\n      \"column\": \"session_id\",\n      \"properties\": {\n        \"dtype\": \"number\",\n        \"std\": NaN,\n        \"min\": NaN,\n        \"max\": NaN,\n        \"samples\": [],\n        \"num_unique_values\": 0,\n        \"semantic_type\": \"\",\n        \"description\": \"\"\n      }\n    },\n    {\n      \"column\": \"code\",\n      \"properties\": {\n        \"dtype\": \"number\",\n        \"std\": NaN,\n        \"min\": NaN,\n        \"max\": NaN,\n        \"samples\": [],\n        \"num_unique_values\": 0,\n        \"semantic_type\": \"\",\n        \"description\": \"\"\n      }\n    },\n    {\n      \"column\": \"score\",\n      \"properties\": {\n        \"dtype\": \"number\",\n        \"std\": NaN,\n        \"min\": NaN,\n        \"max\": NaN,\n        \"samples\": [],\n        \"num_unique_values\": 0,\n        \"semantic_type\": \"\",\n        \"description\": \"\"\n      }\n    },\n    {\n      \"column\": \"rank\",\n      \"properties\": {\n        \"dtype\": \"number\",\n        \"std\": NaN,\n        \"min\": NaN,\n        \"max\": NaN,\n        \"samples\": [],\n        \"num_unique_values\": 0,\n        \"semantic_type\": \"\",\n        \"description\": \"\"\n      }\n    }\n  ]\n}"
            }
          },
          "metadata": {},
          "execution_count": 58
        }
      ],
      "source": [
        "submission_df = pd.DataFrame(\n",
        "    {\n",
        "        'session_id':[],\n",
        "        'code':[],\n",
        "        'score':[],\n",
        "        'rank':[]\n",
        "    }\n",
        ")\n",
        "\n",
        "submission_df.head()"
      ]
    },
    {
      "cell_type": "code",
      "execution_count": null,
      "id": "31d538cf",
      "metadata": {
        "execution": {
          "iopub.execute_input": "2022-06-13T16:06:59.960033Z",
          "iopub.status.busy": "2022-06-13T16:06:59.959685Z",
          "iopub.status.idle": "2022-06-13T16:06:59.964819Z",
          "shell.execute_reply": "2022-06-13T16:06:59.964065Z"
        },
        "id": "31d538cf",
        "papermill": {
          "duration": 0.032551,
          "end_time": "2022-06-13T16:06:59.966452",
          "exception": false,
          "start_time": "2022-06-13T16:06:59.933901",
          "status": "completed"
        },
        "tags": []
      },
      "outputs": [],
      "source": [
        "candidates=np.array([i+1 for i in range(4990)]) # this is for the test month"
      ]
    },
    {
      "cell_type": "code",
      "execution_count": null,
      "id": "85266a92",
      "metadata": {
        "execution": {
          "iopub.execute_input": "2022-06-13T16:07:00.018957Z",
          "iopub.status.busy": "2022-06-13T16:07:00.018430Z",
          "iopub.status.idle": "2022-06-13T16:07:18.037881Z",
          "shell.execute_reply": "2022-06-13T16:07:18.037110Z"
        },
        "id": "85266a92",
        "outputId": "c0c4725f-016f-4495-fcbb-00a0105e3ecc",
        "papermill": {
          "duration": 18.04733,
          "end_time": "2022-06-13T16:07:18.039739",
          "exception": false,
          "start_time": "2022-06-13T16:06:59.992409",
          "status": "completed"
        },
        "tags": [],
        "colab": {
          "base_uri": "https://localhost:8080/",
          "height": 293
        }
      },
      "outputs": [
        {
          "output_type": "execute_result",
          "data": {
            "text/plain": [
              "   session_id                                               code  \\\n",
              "0        26.0  (606, 4685, 2684, 1337, 1114, 1008, 1205, 3646...   \n",
              "1       200.0  (1827, 772, 3400, 3893, 1449, 887, 2793, 270, ...   \n",
              "2       205.0  (3398, 4986, 2289, 2235, 1181, 1484, 2854, 914...   \n",
              "3       495.0  (1609, 1139, 4686, 4148, 4418, 1726, 1136, 292...   \n",
              "4       521.0  (3586, 3550, 3705, 143, 3506, 1165, 2669, 7, 3...   \n",
              "\n",
              "                                               score  \\\n",
              "0  (0.16687669, 0.07741438, 0.044004846, 0.032863...   \n",
              "1  (0.16420263, 0.048239492, 0.036142275, 0.02052...   \n",
              "2  (0.38923973, 0.09289426, 0.023095505, 0.018001...   \n",
              "3  (0.03427071, 0.030262131, 0.02847181, 0.026208...   \n",
              "4  (0.024130246, 0.02298894, 0.018194197, 0.01563...   \n",
              "\n",
              "                                                rank  \n",
              "0  (1, 2, 3, 4, 5, 6, 7, 8, 9, 10, 11, 12, 13, 14...  \n",
              "1  (1, 2, 3, 4, 5, 6, 7, 8, 9, 10, 11, 12, 13, 14...  \n",
              "2  (1, 2, 3, 4, 5, 6, 7, 8, 9, 10, 11, 12, 13, 14...  \n",
              "3  (1, 2, 3, 4, 5, 6, 7, 8, 9, 10, 11, 12, 13, 14...  \n",
              "4  (1, 2, 3, 4, 5, 6, 7, 8, 9, 10, 11, 12, 13, 14...  "
            ],
            "text/html": [
              "\n",
              "  <div id=\"df-bb37acd2-09ad-42e7-bb8e-d73672c5504a\" class=\"colab-df-container\">\n",
              "    <div>\n",
              "<style scoped>\n",
              "    .dataframe tbody tr th:only-of-type {\n",
              "        vertical-align: middle;\n",
              "    }\n",
              "\n",
              "    .dataframe tbody tr th {\n",
              "        vertical-align: top;\n",
              "    }\n",
              "\n",
              "    .dataframe thead th {\n",
              "        text-align: right;\n",
              "    }\n",
              "</style>\n",
              "<table border=\"1\" class=\"dataframe\">\n",
              "  <thead>\n",
              "    <tr style=\"text-align: right;\">\n",
              "      <th></th>\n",
              "      <th>session_id</th>\n",
              "      <th>code</th>\n",
              "      <th>score</th>\n",
              "      <th>rank</th>\n",
              "    </tr>\n",
              "  </thead>\n",
              "  <tbody>\n",
              "    <tr>\n",
              "      <th>0</th>\n",
              "      <td>26.0</td>\n",
              "      <td>(606, 4685, 2684, 1337, 1114, 1008, 1205, 3646...</td>\n",
              "      <td>(0.16687669, 0.07741438, 0.044004846, 0.032863...</td>\n",
              "      <td>(1, 2, 3, 4, 5, 6, 7, 8, 9, 10, 11, 12, 13, 14...</td>\n",
              "    </tr>\n",
              "    <tr>\n",
              "      <th>1</th>\n",
              "      <td>200.0</td>\n",
              "      <td>(1827, 772, 3400, 3893, 1449, 887, 2793, 270, ...</td>\n",
              "      <td>(0.16420263, 0.048239492, 0.036142275, 0.02052...</td>\n",
              "      <td>(1, 2, 3, 4, 5, 6, 7, 8, 9, 10, 11, 12, 13, 14...</td>\n",
              "    </tr>\n",
              "    <tr>\n",
              "      <th>2</th>\n",
              "      <td>205.0</td>\n",
              "      <td>(3398, 4986, 2289, 2235, 1181, 1484, 2854, 914...</td>\n",
              "      <td>(0.38923973, 0.09289426, 0.023095505, 0.018001...</td>\n",
              "      <td>(1, 2, 3, 4, 5, 6, 7, 8, 9, 10, 11, 12, 13, 14...</td>\n",
              "    </tr>\n",
              "    <tr>\n",
              "      <th>3</th>\n",
              "      <td>495.0</td>\n",
              "      <td>(1609, 1139, 4686, 4148, 4418, 1726, 1136, 292...</td>\n",
              "      <td>(0.03427071, 0.030262131, 0.02847181, 0.026208...</td>\n",
              "      <td>(1, 2, 3, 4, 5, 6, 7, 8, 9, 10, 11, 12, 13, 14...</td>\n",
              "    </tr>\n",
              "    <tr>\n",
              "      <th>4</th>\n",
              "      <td>521.0</td>\n",
              "      <td>(3586, 3550, 3705, 143, 3506, 1165, 2669, 7, 3...</td>\n",
              "      <td>(0.024130246, 0.02298894, 0.018194197, 0.01563...</td>\n",
              "      <td>(1, 2, 3, 4, 5, 6, 7, 8, 9, 10, 11, 12, 13, 14...</td>\n",
              "    </tr>\n",
              "  </tbody>\n",
              "</table>\n",
              "</div>\n",
              "    <div class=\"colab-df-buttons\">\n",
              "\n",
              "  <div class=\"colab-df-container\">\n",
              "    <button class=\"colab-df-convert\" onclick=\"convertToInteractive('df-bb37acd2-09ad-42e7-bb8e-d73672c5504a')\"\n",
              "            title=\"Convert this dataframe to an interactive table.\"\n",
              "            style=\"display:none;\">\n",
              "\n",
              "  <svg xmlns=\"http://www.w3.org/2000/svg\" height=\"24px\" viewBox=\"0 -960 960 960\">\n",
              "    <path d=\"M120-120v-720h720v720H120Zm60-500h600v-160H180v160Zm220 220h160v-160H400v160Zm0 220h160v-160H400v160ZM180-400h160v-160H180v160Zm440 0h160v-160H620v160ZM180-180h160v-160H180v160Zm440 0h160v-160H620v160Z\"/>\n",
              "  </svg>\n",
              "    </button>\n",
              "\n",
              "  <style>\n",
              "    .colab-df-container {\n",
              "      display:flex;\n",
              "      gap: 12px;\n",
              "    }\n",
              "\n",
              "    .colab-df-convert {\n",
              "      background-color: #E8F0FE;\n",
              "      border: none;\n",
              "      border-radius: 50%;\n",
              "      cursor: pointer;\n",
              "      display: none;\n",
              "      fill: #1967D2;\n",
              "      height: 32px;\n",
              "      padding: 0 0 0 0;\n",
              "      width: 32px;\n",
              "    }\n",
              "\n",
              "    .colab-df-convert:hover {\n",
              "      background-color: #E2EBFA;\n",
              "      box-shadow: 0px 1px 2px rgba(60, 64, 67, 0.3), 0px 1px 3px 1px rgba(60, 64, 67, 0.15);\n",
              "      fill: #174EA6;\n",
              "    }\n",
              "\n",
              "    .colab-df-buttons div {\n",
              "      margin-bottom: 4px;\n",
              "    }\n",
              "\n",
              "    [theme=dark] .colab-df-convert {\n",
              "      background-color: #3B4455;\n",
              "      fill: #D2E3FC;\n",
              "    }\n",
              "\n",
              "    [theme=dark] .colab-df-convert:hover {\n",
              "      background-color: #434B5C;\n",
              "      box-shadow: 0px 1px 3px 1px rgba(0, 0, 0, 0.15);\n",
              "      filter: drop-shadow(0px 1px 2px rgba(0, 0, 0, 0.3));\n",
              "      fill: #FFFFFF;\n",
              "    }\n",
              "  </style>\n",
              "\n",
              "    <script>\n",
              "      const buttonEl =\n",
              "        document.querySelector('#df-bb37acd2-09ad-42e7-bb8e-d73672c5504a button.colab-df-convert');\n",
              "      buttonEl.style.display =\n",
              "        google.colab.kernel.accessAllowed ? 'block' : 'none';\n",
              "\n",
              "      async function convertToInteractive(key) {\n",
              "        const element = document.querySelector('#df-bb37acd2-09ad-42e7-bb8e-d73672c5504a');\n",
              "        const dataTable =\n",
              "          await google.colab.kernel.invokeFunction('convertToInteractive',\n",
              "                                                    [key], {});\n",
              "        if (!dataTable) return;\n",
              "\n",
              "        const docLinkHtml = 'Like what you see? Visit the ' +\n",
              "          '<a target=\"_blank\" href=https://colab.research.google.com/notebooks/data_table.ipynb>data table notebook</a>'\n",
              "          + ' to learn more about interactive tables.';\n",
              "        element.innerHTML = '';\n",
              "        dataTable['output_type'] = 'display_data';\n",
              "        await google.colab.output.renderOutput(dataTable, element);\n",
              "        const docLink = document.createElement('div');\n",
              "        docLink.innerHTML = docLinkHtml;\n",
              "        element.appendChild(docLink);\n",
              "      }\n",
              "    </script>\n",
              "  </div>\n",
              "\n",
              "\n",
              "<div id=\"df-3093f64b-3eee-4ffe-829b-421acea4d6a3\">\n",
              "  <button class=\"colab-df-quickchart\" onclick=\"quickchart('df-3093f64b-3eee-4ffe-829b-421acea4d6a3')\"\n",
              "            title=\"Suggest charts\"\n",
              "            style=\"display:none;\">\n",
              "\n",
              "<svg xmlns=\"http://www.w3.org/2000/svg\" height=\"24px\"viewBox=\"0 0 24 24\"\n",
              "     width=\"24px\">\n",
              "    <g>\n",
              "        <path d=\"M19 3H5c-1.1 0-2 .9-2 2v14c0 1.1.9 2 2 2h14c1.1 0 2-.9 2-2V5c0-1.1-.9-2-2-2zM9 17H7v-7h2v7zm4 0h-2V7h2v10zm4 0h-2v-4h2v4z\"/>\n",
              "    </g>\n",
              "</svg>\n",
              "  </button>\n",
              "\n",
              "<style>\n",
              "  .colab-df-quickchart {\n",
              "      --bg-color: #E8F0FE;\n",
              "      --fill-color: #1967D2;\n",
              "      --hover-bg-color: #E2EBFA;\n",
              "      --hover-fill-color: #174EA6;\n",
              "      --disabled-fill-color: #AAA;\n",
              "      --disabled-bg-color: #DDD;\n",
              "  }\n",
              "\n",
              "  [theme=dark] .colab-df-quickchart {\n",
              "      --bg-color: #3B4455;\n",
              "      --fill-color: #D2E3FC;\n",
              "      --hover-bg-color: #434B5C;\n",
              "      --hover-fill-color: #FFFFFF;\n",
              "      --disabled-bg-color: #3B4455;\n",
              "      --disabled-fill-color: #666;\n",
              "  }\n",
              "\n",
              "  .colab-df-quickchart {\n",
              "    background-color: var(--bg-color);\n",
              "    border: none;\n",
              "    border-radius: 50%;\n",
              "    cursor: pointer;\n",
              "    display: none;\n",
              "    fill: var(--fill-color);\n",
              "    height: 32px;\n",
              "    padding: 0;\n",
              "    width: 32px;\n",
              "  }\n",
              "\n",
              "  .colab-df-quickchart:hover {\n",
              "    background-color: var(--hover-bg-color);\n",
              "    box-shadow: 0 1px 2px rgba(60, 64, 67, 0.3), 0 1px 3px 1px rgba(60, 64, 67, 0.15);\n",
              "    fill: var(--button-hover-fill-color);\n",
              "  }\n",
              "\n",
              "  .colab-df-quickchart-complete:disabled,\n",
              "  .colab-df-quickchart-complete:disabled:hover {\n",
              "    background-color: var(--disabled-bg-color);\n",
              "    fill: var(--disabled-fill-color);\n",
              "    box-shadow: none;\n",
              "  }\n",
              "\n",
              "  .colab-df-spinner {\n",
              "    border: 2px solid var(--fill-color);\n",
              "    border-color: transparent;\n",
              "    border-bottom-color: var(--fill-color);\n",
              "    animation:\n",
              "      spin 1s steps(1) infinite;\n",
              "  }\n",
              "\n",
              "  @keyframes spin {\n",
              "    0% {\n",
              "      border-color: transparent;\n",
              "      border-bottom-color: var(--fill-color);\n",
              "      border-left-color: var(--fill-color);\n",
              "    }\n",
              "    20% {\n",
              "      border-color: transparent;\n",
              "      border-left-color: var(--fill-color);\n",
              "      border-top-color: var(--fill-color);\n",
              "    }\n",
              "    30% {\n",
              "      border-color: transparent;\n",
              "      border-left-color: var(--fill-color);\n",
              "      border-top-color: var(--fill-color);\n",
              "      border-right-color: var(--fill-color);\n",
              "    }\n",
              "    40% {\n",
              "      border-color: transparent;\n",
              "      border-right-color: var(--fill-color);\n",
              "      border-top-color: var(--fill-color);\n",
              "    }\n",
              "    60% {\n",
              "      border-color: transparent;\n",
              "      border-right-color: var(--fill-color);\n",
              "    }\n",
              "    80% {\n",
              "      border-color: transparent;\n",
              "      border-right-color: var(--fill-color);\n",
              "      border-bottom-color: var(--fill-color);\n",
              "    }\n",
              "    90% {\n",
              "      border-color: transparent;\n",
              "      border-bottom-color: var(--fill-color);\n",
              "    }\n",
              "  }\n",
              "</style>\n",
              "\n",
              "  <script>\n",
              "    async function quickchart(key) {\n",
              "      const quickchartButtonEl =\n",
              "        document.querySelector('#' + key + ' button');\n",
              "      quickchartButtonEl.disabled = true;  // To prevent multiple clicks.\n",
              "      quickchartButtonEl.classList.add('colab-df-spinner');\n",
              "      try {\n",
              "        const charts = await google.colab.kernel.invokeFunction(\n",
              "            'suggestCharts', [key], {});\n",
              "      } catch (error) {\n",
              "        console.error('Error during call to suggestCharts:', error);\n",
              "      }\n",
              "      quickchartButtonEl.classList.remove('colab-df-spinner');\n",
              "      quickchartButtonEl.classList.add('colab-df-quickchart-complete');\n",
              "    }\n",
              "    (() => {\n",
              "      let quickchartButtonEl =\n",
              "        document.querySelector('#df-3093f64b-3eee-4ffe-829b-421acea4d6a3 button');\n",
              "      quickchartButtonEl.style.display =\n",
              "        google.colab.kernel.accessAllowed ? 'block' : 'none';\n",
              "    })();\n",
              "  </script>\n",
              "</div>\n",
              "\n",
              "    </div>\n",
              "  </div>\n"
            ],
            "application/vnd.google.colaboratory.intrinsic+json": {
              "type": "dataframe",
              "variable_name": "submission_df",
              "summary": "{\n  \"name\": \"submission_df\",\n  \"rows\": 50000,\n  \"fields\": [\n    {\n      \"column\": \"session_id\",\n      \"properties\": {\n        \"dtype\": \"number\",\n        \"std\": 1283404.4665049529,\n        \"min\": 26.0,\n        \"max\": 4439757.0,\n        \"samples\": [\n          2993624.0,\n          841850.0,\n          18132.0\n        ],\n        \"num_unique_values\": 50000,\n        \"semantic_type\": \"\",\n        \"description\": \"\"\n      }\n    },\n    {\n      \"column\": \"code\",\n      \"properties\": {\n        \"dtype\": \"string\",\n        \"samples\": [\n          [\n            \"4591\",\n            \"586\",\n            \"519\",\n            \"1972\",\n            \"750\",\n            \"429\",\n            \"2285\",\n            \"4964\",\n            \"258\",\n            \"11\",\n            \"3685\",\n            \"2189\",\n            \"23\",\n            \"583\",\n            \"2995\",\n            \"4740\",\n            \"685\",\n            \"3586\",\n            \"2257\",\n            \"4590\",\n            \"4220\",\n            \"4344\",\n            \"3418\",\n            \"2862\",\n            \"699\",\n            \"3699\",\n            \"3195\",\n            \"143\",\n            \"3904\",\n            \"292\",\n            \"2882\",\n            \"4630\",\n            \"1608\",\n            \"2614\",\n            \"1478\",\n            \"1136\",\n            \"7\",\n            \"3065\",\n            \"3607\",\n            \"2117\",\n            \"1045\",\n            \"2187\",\n            \"4500\",\n            \"2485\",\n            \"2725\",\n            \"3290\",\n            \"4666\",\n            \"1424\",\n            \"3216\",\n            \"1518\",\n            \"1635\",\n            \"3251\",\n            \"4431\",\n            \"958\",\n            \"3414\",\n            \"3320\",\n            \"1286\",\n            \"78\",\n            \"3335\",\n            \"3126\",\n            \"2646\",\n            \"1079\",\n            \"4608\",\n            \"1510\",\n            \"3844\",\n            \"4950\",\n            \"2351\",\n            \"885\",\n            \"1316\",\n            \"2699\",\n            \"3533\",\n            \"1590\",\n            \"3526\",\n            \"2865\",\n            \"4734\",\n            \"4568\",\n            \"3615\",\n            \"4574\",\n            \"2175\",\n            \"2560\",\n            \"3425\",\n            \"2179\",\n            \"1152\",\n            \"3110\",\n            \"399\",\n            \"1310\",\n            \"3705\",\n            \"3720\",\n            \"715\",\n            \"319\",\n            \"1004\",\n            \"1052\",\n            \"3172\",\n            \"4436\",\n            \"2180\",\n            \"1955\",\n            \"240\",\n            \"2923\",\n            \"1768\",\n            \"4162\"\n          ],\n          [\n            \"3414\",\n            \"4740\",\n            \"1136\",\n            \"4591\",\n            \"1623\",\n            \"2257\",\n            \"4068\",\n            \"3550\",\n            \"2232\",\n            \"2545\",\n            \"3290\",\n            \"99\",\n            \"78\",\n            \"292\",\n            \"3705\",\n            \"1972\",\n            \"4436\",\n            \"178\",\n            \"3586\",\n            \"2121\",\n            \"1518\",\n            \"227\",\n            \"322\",\n            \"3526\",\n            \"2156\",\n            \"3904\",\n            \"2328\",\n            \"2117\",\n            \"240\",\n            \"750\",\n            \"4140\",\n            \"4083\",\n            \"1052\",\n            \"1936\",\n            \"3607\",\n            \"3251\",\n            \"1310\",\n            \"521\",\n            \"2862\",\n            \"4670\",\n            \"4628\",\n            \"3172\",\n            \"7\",\n            \"2731\",\n            \"1563\",\n            \"519\",\n            \"4136\",\n            \"4500\",\n            \"1124\",\n            \"4886\",\n            \"1816\",\n            \"4574\",\n            \"3506\",\n            \"2256\",\n            \"3054\",\n            \"2056\",\n            \"1643\",\n            \"4819\",\n            \"2035\",\n            \"3580\",\n            \"1211\",\n            \"4017\",\n            \"3685\",\n            \"2189\",\n            \"3648\",\n            \"2386\",\n            \"1183\",\n            \"2218\",\n            \"554\",\n            \"19\",\n            \"2624\",\n            \"1768\",\n            \"4979\",\n            \"4758\",\n            \"3417\",\n            \"2194\",\n            \"1139\",\n            \"274\",\n            \"2696\",\n            \"3026\",\n            \"4220\",\n            \"3732\",\n            \"1641\",\n            \"232\",\n            \"3884\",\n            \"1148\",\n            \"2401\",\n            \"950\",\n            \"1301\",\n            \"1955\",\n            \"101\",\n            \"3844\",\n            \"1655\",\n            \"2725\",\n            \"399\",\n            \"3320\",\n            \"2376\",\n            \"4356\",\n            \"2062\",\n            \"11\"\n          ],\n          [\n            \"439\",\n            \"2424\",\n            \"2448\",\n            \"2835\",\n            \"16\",\n            \"989\",\n            \"70\",\n            \"3356\",\n            \"3463\",\n            \"1437\",\n            \"2057\",\n            \"3186\",\n            \"3589\",\n            \"724\",\n            \"1899\",\n            \"2611\",\n            \"2416\",\n            \"4418\",\n            \"2505\",\n            \"2864\",\n            \"1888\",\n            \"4425\",\n            \"1449\",\n            \"3121\",\n            \"3004\",\n            \"3423\",\n            \"2266\",\n            \"4639\",\n            \"3737\",\n            \"1183\",\n            \"863\",\n            \"2729\",\n            \"2696\",\n            \"669\",\n            \"2638\",\n            \"589\",\n            \"3833\",\n            \"1139\",\n            \"323\",\n            \"3550\",\n            \"2900\",\n            \"3846\",\n            \"1453\",\n            \"4489\",\n            \"463\",\n            \"4708\",\n            \"1609\",\n            \"3743\",\n            \"2704\",\n            \"4990\",\n            \"29\",\n            \"2279\",\n            \"1970\",\n            \"3410\",\n            \"2503\",\n            \"4779\",\n            \"1015\",\n            \"4741\",\n            \"2769\",\n            \"4651\",\n            \"1435\",\n            \"2234\",\n            \"4037\",\n            \"3203\",\n            \"4202\",\n            \"897\",\n            \"2814\",\n            \"3424\",\n            \"2048\",\n            \"3654\",\n            \"2118\",\n            \"4939\",\n            \"1736\",\n            \"1125\",\n            \"221\",\n            \"3026\",\n            \"500\",\n            \"681\",\n            \"2785\",\n            \"4887\",\n            \"815\",\n            \"2702\",\n            \"21\",\n            \"1968\",\n            \"169\",\n            \"3863\",\n            \"294\",\n            \"885\",\n            \"4380\",\n            \"687\",\n            \"3731\",\n            \"99\",\n            \"1184\",\n            \"608\",\n            \"657\",\n            \"945\",\n            \"4695\",\n            \"606\",\n            \"1824\",\n            \"1952\"\n          ]\n        ],\n        \"num_unique_values\": 49957,\n        \"semantic_type\": \"\",\n        \"description\": \"\"\n      }\n    },\n    {\n      \"column\": \"score\",\n      \"properties\": {\n        \"dtype\": \"string\",\n        \"samples\": [\n          [\n            \"0.063974924\",\n            \"0.03026657\",\n            \"0.022897424\",\n            \"0.020241681\",\n            \"0.019622335\",\n            \"0.016393768\",\n            \"0.016202997\",\n            \"0.015368491\",\n            \"0.013941787\",\n            \"0.013456004\",\n            \"0.012968198\",\n            \"0.011836722\",\n            \"0.008439124\",\n            \"0.008414487\",\n            \"0.0066545503\",\n            \"0.006486718\",\n            \"0.006394131\",\n            \"0.005977276\",\n            \"0.0057793576\",\n            \"0.0057115005\",\n            \"0.005485935\",\n            \"0.0052893115\",\n            \"0.0048058266\",\n            \"0.0046783364\",\n            \"0.0045503885\",\n            \"0.0044921837\",\n            \"0.004426322\",\n            \"0.00424718\",\n            \"0.004149273\",\n            \"0.0039169546\",\n            \"0.0038830275\",\n            \"0.0038058101\",\n            \"0.003433307\",\n            \"0.0033776523\",\n            \"0.00326919\",\n            \"0.0032489516\",\n            \"0.0032200608\",\n            \"0.0030698138\",\n            \"0.0030008433\",\n            \"0.002969899\",\n            \"0.0029617306\",\n            \"0.0029345774\",\n            \"0.0029145116\",\n            \"0.0029073409\",\n            \"0.0028011175\",\n            \"0.0026506772\",\n            \"0.002623084\",\n            \"0.0026025388\",\n            \"0.0025093872\",\n            \"0.0024629969\",\n            \"0.0024525246\",\n            \"0.0023472253\",\n            \"0.0022173966\",\n            \"0.0021885482\",\n            \"0.0021718573\",\n            \"0.002146014\",\n            \"0.0021186636\",\n            \"0.002091041\",\n            \"0.0019916086\",\n            \"0.0019831425\",\n            \"0.0019666243\",\n            \"0.0019594727\",\n            \"0.0019476694\",\n            \"0.0019272557\",\n            \"0.001921886\",\n            \"0.001911063\",\n            \"0.001827\",\n            \"0.0018042516\",\n            \"0.0018036289\",\n            \"0.0017637269\",\n            \"0.00174417\",\n            \"0.0017160954\",\n            \"0.0016808683\",\n            \"0.0016623011\",\n            \"0.0016621884\",\n            \"0.0016541419\",\n            \"0.0016487237\",\n            \"0.0015966786\",\n            \"0.0015842816\",\n            \"0.0015753453\",\n            \"0.0015684384\",\n            \"0.0015565407\",\n            \"0.0015556003\",\n            \"0.0015545881\",\n            \"0.0015235567\",\n            \"0.0015120264\",\n            \"0.0014871965\",\n            \"0.0014338356\",\n            \"0.0014236339\",\n            \"0.0014048707\",\n            \"0.0014014753\",\n            \"0.0013769452\",\n            \"0.001370543\",\n            \"0.0013460964\",\n            \"0.0013352692\",\n            \"0.001326317\",\n            \"0.001320319\",\n            \"0.001311407\",\n            \"0.0013110387\",\n            \"0.0013032705\"\n          ],\n          [\n            \"0.20720336\",\n            \"0.07352939\",\n            \"0.06791329\",\n            \"0.02596602\",\n            \"0.015149594\",\n            \"0.013730714\",\n            \"0.0120951105\",\n            \"0.011745609\",\n            \"0.011733704\",\n            \"0.01064819\",\n            \"0.010113743\",\n            \"0.009398101\",\n            \"0.00934988\",\n            \"0.009101949\",\n            \"0.008405307\",\n            \"0.008182236\",\n            \"0.0075572846\",\n            \"0.007172888\",\n            \"0.006540557\",\n            \"0.006099374\",\n            \"0.005459115\",\n            \"0.005423336\",\n            \"0.0050999057\",\n            \"0.0048523173\",\n            \"0.004402989\",\n            \"0.004040275\",\n            \"0.004038886\",\n            \"0.0037233895\",\n            \"0.0034058837\",\n            \"0.0034015179\",\n            \"0.0032341224\",\n            \"0.0032051676\",\n            \"0.0028832857\",\n            \"0.0027638627\",\n            \"0.0027540736\",\n            \"0.002726069\",\n            \"0.0025677178\",\n            \"0.0025032188\",\n            \"0.002433371\",\n            \"0.0023187844\",\n            \"0.0021911883\",\n            \"0.002030468\",\n            \"0.0019858296\",\n            \"0.0019455265\",\n            \"0.001864118\",\n            \"0.0018149916\",\n            \"0.0018115167\",\n            \"0.0017905681\",\n            \"0.0017820962\",\n            \"0.00178139\",\n            \"0.0017792805\",\n            \"0.0017592576\",\n            \"0.0016548128\",\n            \"0.0016225714\",\n            \"0.0016084112\",\n            \"0.0015613472\",\n            \"0.0015182339\",\n            \"0.0014883099\",\n            \"0.001468531\",\n            \"0.0014392106\",\n            \"0.0014187753\",\n            \"0.0013967938\",\n            \"0.001355101\",\n            \"0.0013499395\",\n            \"0.0012849681\",\n            \"0.0012751321\",\n            \"0.0012699057\",\n            \"0.0012552539\",\n            \"0.0012330095\",\n            \"0.001219656\",\n            \"0.0011699544\",\n            \"0.0011581882\",\n            \"0.0011508537\",\n            \"0.0011431501\",\n            \"0.0011204261\",\n            \"0.0011109915\",\n            \"0.0011057449\",\n            \"0.0010987896\",\n            \"0.0010912754\",\n            \"0.001090634\",\n            \"0.0010888195\",\n            \"0.0010834797\",\n            \"0.0010432142\",\n            \"0.0010185337\",\n            \"0.00096740853\",\n            \"0.00096604216\",\n            \"0.0009617644\",\n            \"0.0009379835\",\n            \"0.000929464\",\n            \"0.00090999436\",\n            \"0.00090859213\",\n            \"0.0009078325\",\n            \"0.0009056465\",\n            \"0.0008997169\",\n            \"0.00088067673\",\n            \"0.0008730731\",\n            \"0.00085265125\",\n            \"0.0008488744\",\n            \"0.0008091064\",\n            \"0.0007994391\"\n          ],\n          [\n            \"0.02883987\",\n            \"0.025282409\",\n            \"0.024048252\",\n            \"0.018277133\",\n            \"0.017925663\",\n            \"0.01778636\",\n            \"0.017084751\",\n            \"0.01476485\",\n            \"0.014633345\",\n            \"0.014449745\",\n            \"0.012242878\",\n            \"0.010471359\",\n            \"0.010299386\",\n            \"0.0093906205\",\n            \"0.009069853\",\n            \"0.009066762\",\n            \"0.007684565\",\n            \"0.0074945204\",\n            \"0.0068574753\",\n            \"0.0066106566\",\n            \"0.0063244337\",\n            \"0.0061787944\",\n            \"0.005888696\",\n            \"0.005552259\",\n            \"0.005544621\",\n            \"0.0053682374\",\n            \"0.004581826\",\n            \"0.0043694726\",\n            \"0.00436597\",\n            \"0.004355955\",\n            \"0.004337053\",\n            \"0.004322947\",\n            \"0.0043019047\",\n            \"0.0042649726\",\n            \"0.004213548\",\n            \"0.0041004163\",\n            \"0.0040735053\",\n            \"0.00399073\",\n            \"0.0038477313\",\n            \"0.0034703505\",\n            \"0.0034487287\",\n            \"0.0034139273\",\n            \"0.0033914943\",\n            \"0.003378472\",\n            \"0.0033436187\",\n            \"0.0033360128\",\n            \"0.003195872\",\n            \"0.0031889626\",\n            \"0.0030528367\",\n            \"0.0029915893\",\n            \"0.0028741532\",\n            \"0.0028713339\",\n            \"0.0028582693\",\n            \"0.0027988343\",\n            \"0.0027491637\",\n            \"0.0027466796\",\n            \"0.0026871986\",\n            \"0.0026673637\",\n            \"0.0025787095\",\n            \"0.0025503975\",\n            \"0.0024843472\",\n            \"0.0024620749\",\n            \"0.002438304\",\n            \"0.0024134004\",\n            \"0.0023826202\",\n            \"0.0023670588\",\n            \"0.0023647572\",\n            \"0.0023451443\",\n            \"0.002299771\",\n            \"0.0022881795\",\n            \"0.002197176\",\n            \"0.0021789041\",\n            \"0.0021733153\",\n            \"0.0021152904\",\n            \"0.0021061506\",\n            \"0.0020730388\",\n            \"0.0020706365\",\n            \"0.0020506124\",\n            \"0.0020339817\",\n            \"0.0019906412\",\n            \"0.0019807564\",\n            \"0.0019572214\",\n            \"0.0019366775\",\n            \"0.0019091062\",\n            \"0.0018896597\",\n            \"0.0018824296\",\n            \"0.0018116549\",\n            \"0.0017620414\",\n            \"0.0017234876\",\n            \"0.0017167946\",\n            \"0.0016761601\",\n            \"0.0016512875\",\n            \"0.0016434173\",\n            \"0.0016320965\",\n            \"0.0016301272\",\n            \"0.0015975841\",\n            \"0.001591152\",\n            \"0.0015799007\",\n            \"0.0015753552\",\n            \"0.0015752838\"\n          ]\n        ],\n        \"num_unique_values\": 49983,\n        \"semantic_type\": \"\",\n        \"description\": \"\"\n      }\n    },\n    {\n      \"column\": \"rank\",\n      \"properties\": {\n        \"dtype\": \"category\",\n        \"samples\": [\n          [\n            1,\n            2,\n            3,\n            4,\n            5,\n            6,\n            7,\n            8,\n            9,\n            10,\n            11,\n            12,\n            13,\n            14,\n            15,\n            16,\n            17,\n            18,\n            19,\n            20,\n            21,\n            22,\n            23,\n            24,\n            25,\n            26,\n            27,\n            28,\n            29,\n            30,\n            31,\n            32,\n            33,\n            34,\n            35,\n            36,\n            37,\n            38,\n            39,\n            40,\n            41,\n            42,\n            43,\n            44,\n            45,\n            46,\n            47,\n            48,\n            49,\n            50,\n            51,\n            52,\n            53,\n            54,\n            55,\n            56,\n            57,\n            58,\n            59,\n            60,\n            61,\n            62,\n            63,\n            64,\n            65,\n            66,\n            67,\n            68,\n            69,\n            70,\n            71,\n            72,\n            73,\n            74,\n            75,\n            76,\n            77,\n            78,\n            79,\n            80,\n            81,\n            82,\n            83,\n            84,\n            85,\n            86,\n            87,\n            88,\n            89,\n            90,\n            91,\n            92,\n            93,\n            94,\n            95,\n            96,\n            97,\n            98,\n            99,\n            100\n          ]\n        ],\n        \"num_unique_values\": 1,\n        \"semantic_type\": \"\",\n        \"description\": \"\"\n      }\n    }\n  ]\n}"
            }
          },
          "metadata": {},
          "execution_count": 60
        }
      ],
      "source": [
        "for session_ids, sessions in submission_set:\n",
        "    predicted_scores=model_for_training(sessions)[0].numpy()\n",
        "    mask = np.ones(predicted_scores.shape[1], dtype=bool)\n",
        "    mask[candidates] = False\n",
        "    predicted_scores[...,mask]=-np.inf\n",
        "    predicted_scores=tf.convert_to_tensor(predicted_scores)\n",
        "    preds=tf.math.top_k(predicted_scores, k=100)\n",
        "    scores=preds.values.numpy()\n",
        "    code = preds.indices.numpy()\n",
        "    prediction = pd.DataFrame(\n",
        "        {\n",
        "            'session_id':session_ids,\n",
        "            'code':[tuple(v) for v in code],\n",
        "            'score':[tuple(v) for v in scores],\n",
        "            'rank':[tuple([rank for rank in range(1, 101)]) for id in session_ids]\n",
        "        }\n",
        "        )\n",
        "\n",
        "    submission_df = pd.concat([submission_df, prediction])\n",
        "\n",
        "submission_df.head()"
      ]
    },
    {
      "cell_type": "code",
      "execution_count": null,
      "id": "22bb8d27",
      "metadata": {
        "execution": {
          "iopub.execute_input": "2022-06-13T16:07:18.090162Z",
          "iopub.status.busy": "2022-06-13T16:07:18.089885Z",
          "iopub.status.idle": "2022-06-13T16:07:27.315685Z",
          "shell.execute_reply": "2022-06-13T16:07:27.314650Z"
        },
        "id": "22bb8d27",
        "papermill": {
          "duration": 9.25344,
          "end_time": "2022-06-13T16:07:27.317993",
          "exception": false,
          "start_time": "2022-06-13T16:07:18.064553",
          "status": "completed"
        },
        "tags": []
      },
      "outputs": [],
      "source": [
        "if not os.path.exists('./dataset/candidates/NN/Transformer/leaderboard/'):\n",
        "  os.makedirs('./dataset/candidates/NN/Transformer/leaderboard/')\n",
        "\n",
        "submission_df.to_csv(\n",
        "    './dataset/candidates/NN/Transformer/leaderboard/candidates.csv',\n",
        "    index=False\n",
        "    )"
      ]
    },
    {
      "cell_type": "code",
      "execution_count": null,
      "id": "f8b16f3a",
      "metadata": {
        "execution": {
          "iopub.execute_input": "2022-06-13T16:07:27.375159Z",
          "iopub.status.busy": "2022-06-13T16:07:27.374821Z",
          "iopub.status.idle": "2022-06-13T16:07:27.845061Z",
          "shell.execute_reply": "2022-06-13T16:07:27.844139Z"
        },
        "papermill": {
          "duration": 0.500731,
          "end_time": "2022-06-13T16:07:27.847107",
          "exception": false,
          "start_time": "2022-06-13T16:07:27.346376",
          "status": "completed"
        },
        "tags": [],
        "colab": {
          "base_uri": "https://localhost:8080/"
        },
        "id": "f8b16f3a",
        "outputId": "f59d0536-babb-483c-999c-99db766f9618"
      },
      "outputs": [
        {
          "output_type": "execute_result",
          "data": {
            "text/plain": [
              "94"
            ]
          },
          "metadata": {},
          "execution_count": 63
        }
      ],
      "source": [
        "del submission_df\n",
        "gc.collect()"
      ]
    },
    {
      "cell_type": "markdown",
      "id": "ec0adaeb",
      "metadata": {
        "id": "ec0adaeb",
        "papermill": {
          "duration": 0.025043,
          "end_time": "2022-06-13T16:07:27.900378",
          "exception": false,
          "start_time": "2022-06-13T16:07:27.875335",
          "status": "completed"
        },
        "tags": []
      },
      "source": [
        "# Prepare test predictions Final\n"
      ]
    },
    {
      "cell_type": "code",
      "execution_count": null,
      "id": "bbb14e22",
      "metadata": {
        "execution": {
          "iopub.execute_input": "2022-06-13T16:07:27.950917Z",
          "iopub.status.busy": "2022-06-13T16:07:27.950365Z",
          "iopub.status.idle": "2022-06-13T16:07:30.185820Z",
          "shell.execute_reply": "2022-06-13T16:07:30.185064Z"
        },
        "id": "bbb14e22",
        "outputId": "125ad080-f934-4d7d-fc9d-67c6da056db5",
        "papermill": {
          "duration": 2.262505,
          "end_time": "2022-06-13T16:07:30.187617",
          "exception": false,
          "start_time": "2022-06-13T16:07:27.925112",
          "status": "completed"
        },
        "tags": [],
        "colab": {
          "base_uri": "https://localhost:8080/"
        }
      },
      "outputs": [
        {
          "output_type": "execute_result",
          "data": {
            "text/plain": [
              "2057"
            ]
          },
          "metadata": {},
          "execution_count": 64
        }
      ],
      "source": [
        "temp=pd.read_csv(\"./dataset/processed_data/macro_feats_NN_final.csv\")\n",
        "temp[\"item_id\"]=temp[\"item_id\"].map(ast.literal_eval)\n",
        "temp[\"timedelta\"]=temp[\"timedelta\"].map(ast.literal_eval)\n",
        "\n",
        "test_leaderboard_sessions=temp\n",
        "gc.collect()"
      ]
    },
    {
      "cell_type": "code",
      "execution_count": null,
      "id": "78c383bd",
      "metadata": {
        "execution": {
          "iopub.execute_input": "2022-06-13T16:07:30.239639Z",
          "iopub.status.busy": "2022-06-13T16:07:30.239351Z",
          "iopub.status.idle": "2022-06-13T16:07:30.769535Z",
          "shell.execute_reply": "2022-06-13T16:07:30.768754Z"
        },
        "id": "78c383bd",
        "papermill": {
          "duration": 0.558819,
          "end_time": "2022-06-13T16:07:30.771619",
          "exception": false,
          "start_time": "2022-06-13T16:07:30.212800",
          "status": "completed"
        },
        "tags": []
      },
      "outputs": [],
      "source": [
        "\n",
        "x_reseen_test = tf.keras.preprocessing.sequence.pad_sequences(\n",
        "    test_leaderboard_sessions['item_id'].apply(is_reseen),\n",
        "    padding='post',\n",
        "    maxlen=100,\n",
        ")\n",
        "\n",
        "x_percentage_seen_test = tf.keras.preprocessing.sequence.pad_sequences(\n",
        "    test_leaderboard_sessions['item_id'].apply(percentage_seen),\n",
        "    padding='post',\n",
        "    maxlen=100,\n",
        ")"
      ]
    },
    {
      "cell_type": "code",
      "execution_count": null,
      "id": "f78be361",
      "metadata": {
        "execution": {
          "iopub.execute_input": "2022-06-13T16:07:30.823882Z",
          "iopub.status.busy": "2022-06-13T16:07:30.823069Z",
          "iopub.status.idle": "2022-06-13T16:07:41.429301Z",
          "shell.execute_reply": "2022-06-13T16:07:41.428512Z"
        },
        "id": "f78be361",
        "outputId": "c9004246-fed8-462c-c465-c68ea783a123",
        "papermill": {
          "duration": 10.634753,
          "end_time": "2022-06-13T16:07:41.431863",
          "exception": false,
          "start_time": "2022-06-13T16:07:30.797110",
          "status": "completed"
        },
        "tags": [],
        "colab": {
          "base_uri": "https://localhost:8080/",
          "height": 81,
          "referenced_widgets": [
            "5f9f05f6b1dc4e87880e8d9baadc00e5",
            "24daeee333a9480cbc87ba826f337e26",
            "81ce69df6eef41e7bdeaf16df5a23e35",
            "a286b72370294ac2ab652b09c3d35b1b",
            "0eca94219392485dbb7ae90797fc21f6",
            "acb797257885436cb40485861a46557d",
            "2109f3ed89e44f25b03611ed978d606e",
            "aa08943e9a824c869a4953c09c4e9f3e",
            "5d22ffe2a7b5474b931d57d850e7c3d7",
            "8a1b810f806e4b3f82939a8156977b68",
            "d64b74fb7583429b922f5c2da4fb2444",
            "79bbf30e6b424d49b4ee987f66794bfc",
            "3ca066a1c1db44ffb65dc7ca2556f43c",
            "9e33d3cd66a74b4395db0658173efcf4",
            "de86ccbb02f84342bc51785902ed40d1",
            "75355ab8ccea487ea0eed3e5cfb41f64",
            "33702b211a7d47e9a895dc5910c8c687",
            "677fdbdc570d44aeb401553e83de505f",
            "490c5421bde2456fb26c4b9747b4547e",
            "d2f9a743e0744751bf558173084256fa",
            "78c0fdeddf094cc188f692fe37f4adcd",
            "44327d4a09e8461ab8559c4b9fdab66d"
          ]
        }
      },
      "outputs": [
        {
          "output_type": "display_data",
          "data": {
            "text/plain": [
              "  0%|          | 0/50000 [00:00<?, ?it/s]"
            ],
            "application/vnd.jupyter.widget-view+json": {
              "version_major": 2,
              "version_minor": 0,
              "model_id": "5f9f05f6b1dc4e87880e8d9baadc00e5"
            }
          },
          "metadata": {}
        },
        {
          "output_type": "display_data",
          "data": {
            "text/plain": [
              "  0%|          | 0/50000 [00:00<?, ?it/s]"
            ],
            "application/vnd.jupyter.widget-view+json": {
              "version_major": 2,
              "version_minor": 0,
              "model_id": "79bbf30e6b424d49b4ee987f66794bfc"
            }
          },
          "metadata": {}
        }
      ],
      "source": [
        "x_simils_test = tf.keras.preprocessing.sequence.pad_sequences(\n",
        "    test_leaderboard_sessions['item_id'].progress_apply(similarity_with_preceding\n",
        "    ),\n",
        "    padding='post',\n",
        "    maxlen=100,\n",
        "    dtype='float32',\n",
        ")\n",
        "x_simils_feats_test = tf.keras.preprocessing.sequence.pad_sequences(\n",
        "    test_leaderboard_sessions['item_id'].progress_apply(similarity_feats_with_preceding\n",
        "    ),\n",
        "    padding='post',\n",
        "    maxlen=100,\n",
        "    dtype='float32',\n",
        ")"
      ]
    },
    {
      "cell_type": "code",
      "execution_count": null,
      "id": "637ad44b",
      "metadata": {
        "execution": {
          "iopub.execute_input": "2022-06-13T16:07:41.518852Z",
          "iopub.status.busy": "2022-06-13T16:07:41.518502Z",
          "iopub.status.idle": "2022-06-13T16:07:41.533748Z",
          "shell.execute_reply": "2022-06-13T16:07:41.533097Z"
        },
        "id": "637ad44b",
        "papermill": {
          "duration": 0.063237,
          "end_time": "2022-06-13T16:07:41.538915",
          "exception": false,
          "start_time": "2022-06-13T16:07:41.475678",
          "status": "completed"
        },
        "tags": []
      },
      "outputs": [],
      "source": [
        "for col in ['length_of_session_seconds','avg_time_spent_per_item_seconds','variance_time_spent_per_item_seconds']:\n",
        "    test_leaderboard_sessions[col]=np.log10(test_leaderboard_sessions[col]+1)\n",
        "for col in ['n_seen_items','n_unique_items']:\n",
        "    test_leaderboard_sessions[col]=test_leaderboard_sessions[col]/100"
      ]
    },
    {
      "cell_type": "code",
      "execution_count": null,
      "id": "42ac81fe",
      "metadata": {
        "execution": {
          "iopub.execute_input": "2022-06-13T16:07:41.624584Z",
          "iopub.status.busy": "2022-06-13T16:07:41.624236Z",
          "iopub.status.idle": "2022-06-13T16:07:41.884050Z",
          "shell.execute_reply": "2022-06-13T16:07:41.883153Z"
        },
        "id": "42ac81fe",
        "papermill": {
          "duration": 0.304858,
          "end_time": "2022-06-13T16:07:41.885813",
          "exception": false,
          "start_time": "2022-06-13T16:07:41.580955",
          "status": "completed"
        },
        "tags": [],
        "colab": {
          "base_uri": "https://localhost:8080/"
        },
        "outputId": "f169254d-cc80-47d8-91f6-90cd921e5ce9"
      },
      "outputs": [
        {
          "output_type": "execute_result",
          "data": {
            "text/plain": [
              "array([4785,    0,    0,    0,    0,    0,    0,    0,    0,    0,    0,\n",
              "          0,    0,    0,    0,    0,    0,    0,    0,    0,    0,    0,\n",
              "          0,    0,    0,    0,    0,    0,    0,    0,    0,    0,    0,\n",
              "          0,    0,    0,    0,    0,    0,    0,    0,    0,    0,    0,\n",
              "          0,    0,    0,    0,    0,    0,    0,    0,    0,    0,    0,\n",
              "          0,    0,    0,    0,    0,    0,    0,    0,    0,    0,    0,\n",
              "          0,    0,    0,    0,    0,    0,    0,    0,    0,    0,    0,\n",
              "          0,    0,    0,    0,    0,    0,    0,    0,    0,    0,    0,\n",
              "          0,    0,    0,    0,    0,    0,    0,    0,    0,    0,    0,\n",
              "          0], dtype=int32)"
            ]
          },
          "metadata": {},
          "execution_count": 68
        }
      ],
      "source": [
        "x_test_leaderboard = tf.keras.preprocessing.sequence.pad_sequences(\n",
        "    test_leaderboard_sessions['item_id'],\n",
        "    padding='post',\n",
        "    maxlen=100\n",
        ")\n",
        "\n",
        "x_test_leaderboard[0]"
      ]
    },
    {
      "cell_type": "code",
      "execution_count": null,
      "id": "36e7fdf4",
      "metadata": {
        "execution": {
          "iopub.execute_input": "2022-06-13T16:07:41.939634Z",
          "iopub.status.busy": "2022-06-13T16:07:41.939353Z",
          "iopub.status.idle": "2022-06-13T16:07:42.140989Z",
          "shell.execute_reply": "2022-06-13T16:07:42.140019Z"
        },
        "id": "36e7fdf4",
        "papermill": {
          "duration": 0.230588,
          "end_time": "2022-06-13T16:07:42.142676",
          "exception": false,
          "start_time": "2022-06-13T16:07:41.912088",
          "status": "completed"
        },
        "tags": [],
        "colab": {
          "base_uri": "https://localhost:8080/"
        },
        "outputId": "0330a980-9453-4ee0-8aee-1ba34981b4f2"
      },
      "outputs": [
        {
          "output_type": "stream",
          "name": "stdout",
          "text": [
            "Padding timedelta\n"
          ]
        }
      ],
      "source": [
        "\n",
        "for item_related_feature in item_related_features:\n",
        "    print('Padding {}'.format(item_related_feature))\n",
        "    x_test_item_related = tf.keras.preprocessing.sequence.pad_sequences(\n",
        "        test_leaderboard_sessions[item_related_feature],\n",
        "        dtype='float16',\n",
        "        maxlen=100,\n",
        "        padding='post'\n",
        "    )"
      ]
    },
    {
      "cell_type": "code",
      "execution_count": null,
      "id": "afdfa217",
      "metadata": {
        "execution": {
          "iopub.execute_input": "2022-06-13T16:07:42.194870Z",
          "iopub.status.busy": "2022-06-13T16:07:42.194599Z",
          "iopub.status.idle": "2022-06-13T16:07:42.198447Z",
          "shell.execute_reply": "2022-06-13T16:07:42.197658Z"
        },
        "id": "afdfa217",
        "papermill": {
          "duration": 0.031637,
          "end_time": "2022-06-13T16:07:42.200092",
          "exception": false,
          "start_time": "2022-06-13T16:07:42.168455",
          "status": "completed"
        },
        "tags": []
      },
      "outputs": [],
      "source": [
        "if len(item_related_features) == 1:\n",
        "    x_test_item_related = np.expand_dims(x_test_item_related, axis=-1)"
      ]
    },
    {
      "cell_type": "code",
      "execution_count": null,
      "id": "d6648b94",
      "metadata": {
        "execution": {
          "iopub.execute_input": "2022-06-13T16:07:42.252111Z",
          "iopub.status.busy": "2022-06-13T16:07:42.251862Z",
          "iopub.status.idle": "2022-06-13T16:07:42.337982Z",
          "shell.execute_reply": "2022-06-13T16:07:42.337289Z"
        },
        "id": "d6648b94",
        "papermill": {
          "duration": 0.114158,
          "end_time": "2022-06-13T16:07:42.339663",
          "exception": false,
          "start_time": "2022-06-13T16:07:42.225505",
          "status": "completed"
        },
        "tags": [],
        "colab": {
          "base_uri": "https://localhost:8080/"
        },
        "outputId": "0b98508a-715a-4a1d-fef3-d58f3d4977ae"
      },
      "outputs": [
        {
          "output_type": "execute_result",
          "data": {
            "text/plain": [
              "(TensorSpec(shape=(None,), dtype=tf.int64, name=None),\n",
              " (TensorSpec(shape=(None, 100), dtype=tf.int32, name=None),\n",
              "  TensorSpec(shape=(None, 100), dtype=tf.float64, name=None),\n",
              "  TensorSpec(shape=(None, 100), dtype=tf.int32, name=None),\n",
              "  TensorSpec(shape=(None, 100), dtype=tf.float32, name=None),\n",
              "  TensorSpec(shape=(None, 100), dtype=tf.float32, name=None),\n",
              "  TensorSpec(shape=(None, 100, 1), dtype=tf.float16, name=None),\n",
              "  TensorSpec(shape=(None, 28), dtype=tf.float64, name=None)))"
            ]
          },
          "metadata": {},
          "execution_count": 71
        }
      ],
      "source": [
        "submission_set = tf.data.Dataset.from_tensor_slices(\n",
        "    (\n",
        "        test_leaderboard_sessions['session_id'],\n",
        "     (\n",
        "        x_test_leaderboard,\n",
        "        x_reseen_test/100,\n",
        "        x_percentage_seen_test,\n",
        "        x_simils_test,\n",
        "        x_simils_feats_test,\n",
        "        x_test_item_related,\n",
        "        test_leaderboard_sessions[static_features].to_numpy()\n",
        "     )\n",
        "    )\n",
        ").batch(2048)\n",
        "submission_set.element_spec"
      ]
    },
    {
      "cell_type": "code",
      "execution_count": null,
      "id": "7b49535c",
      "metadata": {
        "execution": {
          "iopub.execute_input": "2022-06-13T16:07:42.392015Z",
          "iopub.status.busy": "2022-06-13T16:07:42.391745Z",
          "iopub.status.idle": "2022-06-13T16:07:42.400774Z",
          "shell.execute_reply": "2022-06-13T16:07:42.399954Z"
        },
        "id": "7b49535c",
        "outputId": "b67a355b-2011-4ffc-a5aa-8aa3d1501b1e",
        "papermill": {
          "duration": 0.036877,
          "end_time": "2022-06-13T16:07:42.402465",
          "exception": false,
          "start_time": "2022-06-13T16:07:42.365588",
          "status": "completed"
        },
        "tags": [],
        "colab": {
          "base_uri": "https://localhost:8080/",
          "height": 53
        }
      },
      "outputs": [
        {
          "output_type": "execute_result",
          "data": {
            "text/plain": [
              "Empty DataFrame\n",
              "Columns: [session_id, code, score, rank]\n",
              "Index: []"
            ],
            "text/html": [
              "\n",
              "  <div id=\"df-ef7be74b-8227-4dec-9686-8d810c565de1\" class=\"colab-df-container\">\n",
              "    <div>\n",
              "<style scoped>\n",
              "    .dataframe tbody tr th:only-of-type {\n",
              "        vertical-align: middle;\n",
              "    }\n",
              "\n",
              "    .dataframe tbody tr th {\n",
              "        vertical-align: top;\n",
              "    }\n",
              "\n",
              "    .dataframe thead th {\n",
              "        text-align: right;\n",
              "    }\n",
              "</style>\n",
              "<table border=\"1\" class=\"dataframe\">\n",
              "  <thead>\n",
              "    <tr style=\"text-align: right;\">\n",
              "      <th></th>\n",
              "      <th>session_id</th>\n",
              "      <th>code</th>\n",
              "      <th>score</th>\n",
              "      <th>rank</th>\n",
              "    </tr>\n",
              "  </thead>\n",
              "  <tbody>\n",
              "  </tbody>\n",
              "</table>\n",
              "</div>\n",
              "    <div class=\"colab-df-buttons\">\n",
              "\n",
              "  <div class=\"colab-df-container\">\n",
              "    <button class=\"colab-df-convert\" onclick=\"convertToInteractive('df-ef7be74b-8227-4dec-9686-8d810c565de1')\"\n",
              "            title=\"Convert this dataframe to an interactive table.\"\n",
              "            style=\"display:none;\">\n",
              "\n",
              "  <svg xmlns=\"http://www.w3.org/2000/svg\" height=\"24px\" viewBox=\"0 -960 960 960\">\n",
              "    <path d=\"M120-120v-720h720v720H120Zm60-500h600v-160H180v160Zm220 220h160v-160H400v160Zm0 220h160v-160H400v160ZM180-400h160v-160H180v160Zm440 0h160v-160H620v160ZM180-180h160v-160H180v160Zm440 0h160v-160H620v160Z\"/>\n",
              "  </svg>\n",
              "    </button>\n",
              "\n",
              "  <style>\n",
              "    .colab-df-container {\n",
              "      display:flex;\n",
              "      gap: 12px;\n",
              "    }\n",
              "\n",
              "    .colab-df-convert {\n",
              "      background-color: #E8F0FE;\n",
              "      border: none;\n",
              "      border-radius: 50%;\n",
              "      cursor: pointer;\n",
              "      display: none;\n",
              "      fill: #1967D2;\n",
              "      height: 32px;\n",
              "      padding: 0 0 0 0;\n",
              "      width: 32px;\n",
              "    }\n",
              "\n",
              "    .colab-df-convert:hover {\n",
              "      background-color: #E2EBFA;\n",
              "      box-shadow: 0px 1px 2px rgba(60, 64, 67, 0.3), 0px 1px 3px 1px rgba(60, 64, 67, 0.15);\n",
              "      fill: #174EA6;\n",
              "    }\n",
              "\n",
              "    .colab-df-buttons div {\n",
              "      margin-bottom: 4px;\n",
              "    }\n",
              "\n",
              "    [theme=dark] .colab-df-convert {\n",
              "      background-color: #3B4455;\n",
              "      fill: #D2E3FC;\n",
              "    }\n",
              "\n",
              "    [theme=dark] .colab-df-convert:hover {\n",
              "      background-color: #434B5C;\n",
              "      box-shadow: 0px 1px 3px 1px rgba(0, 0, 0, 0.15);\n",
              "      filter: drop-shadow(0px 1px 2px rgba(0, 0, 0, 0.3));\n",
              "      fill: #FFFFFF;\n",
              "    }\n",
              "  </style>\n",
              "\n",
              "    <script>\n",
              "      const buttonEl =\n",
              "        document.querySelector('#df-ef7be74b-8227-4dec-9686-8d810c565de1 button.colab-df-convert');\n",
              "      buttonEl.style.display =\n",
              "        google.colab.kernel.accessAllowed ? 'block' : 'none';\n",
              "\n",
              "      async function convertToInteractive(key) {\n",
              "        const element = document.querySelector('#df-ef7be74b-8227-4dec-9686-8d810c565de1');\n",
              "        const dataTable =\n",
              "          await google.colab.kernel.invokeFunction('convertToInteractive',\n",
              "                                                    [key], {});\n",
              "        if (!dataTable) return;\n",
              "\n",
              "        const docLinkHtml = 'Like what you see? Visit the ' +\n",
              "          '<a target=\"_blank\" href=https://colab.research.google.com/notebooks/data_table.ipynb>data table notebook</a>'\n",
              "          + ' to learn more about interactive tables.';\n",
              "        element.innerHTML = '';\n",
              "        dataTable['output_type'] = 'display_data';\n",
              "        await google.colab.output.renderOutput(dataTable, element);\n",
              "        const docLink = document.createElement('div');\n",
              "        docLink.innerHTML = docLinkHtml;\n",
              "        element.appendChild(docLink);\n",
              "      }\n",
              "    </script>\n",
              "  </div>\n",
              "\n",
              "\n",
              "    </div>\n",
              "  </div>\n"
            ],
            "application/vnd.google.colaboratory.intrinsic+json": {
              "type": "dataframe",
              "variable_name": "submission_df",
              "summary": "{\n  \"name\": \"submission_df\",\n  \"rows\": 0,\n  \"fields\": [\n    {\n      \"column\": \"session_id\",\n      \"properties\": {\n        \"dtype\": \"number\",\n        \"std\": NaN,\n        \"min\": NaN,\n        \"max\": NaN,\n        \"samples\": [],\n        \"num_unique_values\": 0,\n        \"semantic_type\": \"\",\n        \"description\": \"\"\n      }\n    },\n    {\n      \"column\": \"code\",\n      \"properties\": {\n        \"dtype\": \"number\",\n        \"std\": NaN,\n        \"min\": NaN,\n        \"max\": NaN,\n        \"samples\": [],\n        \"num_unique_values\": 0,\n        \"semantic_type\": \"\",\n        \"description\": \"\"\n      }\n    },\n    {\n      \"column\": \"score\",\n      \"properties\": {\n        \"dtype\": \"number\",\n        \"std\": NaN,\n        \"min\": NaN,\n        \"max\": NaN,\n        \"samples\": [],\n        \"num_unique_values\": 0,\n        \"semantic_type\": \"\",\n        \"description\": \"\"\n      }\n    },\n    {\n      \"column\": \"rank\",\n      \"properties\": {\n        \"dtype\": \"number\",\n        \"std\": NaN,\n        \"min\": NaN,\n        \"max\": NaN,\n        \"samples\": [],\n        \"num_unique_values\": 0,\n        \"semantic_type\": \"\",\n        \"description\": \"\"\n      }\n    }\n  ]\n}"
            }
          },
          "metadata": {},
          "execution_count": 72
        }
      ],
      "source": [
        "submission_df = pd.DataFrame(\n",
        "    {\n",
        "        'session_id':[],\n",
        "        'code':[],\n",
        "        'score':[],\n",
        "        'rank':[]\n",
        "    }\n",
        ")\n",
        "\n",
        "submission_df.head()"
      ]
    },
    {
      "cell_type": "code",
      "execution_count": null,
      "id": "2ad3e22d",
      "metadata": {
        "execution": {
          "iopub.execute_input": "2022-06-13T16:07:42.462536Z",
          "iopub.status.busy": "2022-06-13T16:07:42.462250Z",
          "iopub.status.idle": "2022-06-13T16:07:42.467189Z",
          "shell.execute_reply": "2022-06-13T16:07:42.466421Z"
        },
        "id": "2ad3e22d",
        "papermill": {
          "duration": 0.04065,
          "end_time": "2022-06-13T16:07:42.468857",
          "exception": false,
          "start_time": "2022-06-13T16:07:42.428207",
          "status": "completed"
        },
        "tags": []
      },
      "outputs": [],
      "source": [
        "candidates=np.array([i+1 for i in range(4990)])"
      ]
    },
    {
      "cell_type": "code",
      "execution_count": null,
      "id": "6a0589d1",
      "metadata": {
        "execution": {
          "iopub.execute_input": "2022-06-13T16:07:42.522535Z",
          "iopub.status.busy": "2022-06-13T16:07:42.522284Z",
          "iopub.status.idle": "2022-06-13T16:08:00.037931Z",
          "shell.execute_reply": "2022-06-13T16:08:00.037126Z"
        },
        "id": "6a0589d1",
        "outputId": "cb654354-3ee4-45ce-e8ec-b1c1d6df4e24",
        "papermill": {
          "duration": 17.543777,
          "end_time": "2022-06-13T16:08:00.039747",
          "exception": false,
          "start_time": "2022-06-13T16:07:42.495970",
          "status": "completed"
        },
        "tags": [],
        "colab": {
          "base_uri": "https://localhost:8080/",
          "height": 293
        }
      },
      "outputs": [
        {
          "output_type": "execute_result",
          "data": {
            "text/plain": [
              "   session_id                                               code  \\\n",
              "0        61.0  (1045, 1563, 4574, 3586, 143, 292, 4436, 2257,...   \n",
              "1        96.0  (3564, 3778, 4097, 2499, 1252, 2328, 957, 241,...   \n",
              "2       185.0  (4146, 4148, 2330, 1936, 1652, 3133, 2937, 358...   \n",
              "3       224.0  (1437, 3338, 4202, 2785, 234, 881, 1899, 2147,...   \n",
              "4       285.0  (3441, 3555, 2970, 3691, 2268, 1070, 4536, 488...   \n",
              "\n",
              "                                               score  \\\n",
              "0  (0.3108594, 0.033298433, 0.030548245, 0.020076...   \n",
              "1  (0.05127322, 0.035315197, 0.026814898, 0.02220...   \n",
              "2  (0.25747314, 0.06851616, 0.060629286, 0.053890...   \n",
              "3  (0.205569, 0.12808649, 0.040839255, 0.02002901...   \n",
              "4  (0.09762455, 0.064020686, 0.055227004, 0.03363...   \n",
              "\n",
              "                                                rank  \n",
              "0  (1, 2, 3, 4, 5, 6, 7, 8, 9, 10, 11, 12, 13, 14...  \n",
              "1  (1, 2, 3, 4, 5, 6, 7, 8, 9, 10, 11, 12, 13, 14...  \n",
              "2  (1, 2, 3, 4, 5, 6, 7, 8, 9, 10, 11, 12, 13, 14...  \n",
              "3  (1, 2, 3, 4, 5, 6, 7, 8, 9, 10, 11, 12, 13, 14...  \n",
              "4  (1, 2, 3, 4, 5, 6, 7, 8, 9, 10, 11, 12, 13, 14...  "
            ],
            "text/html": [
              "\n",
              "  <div id=\"df-298b513d-f1b3-4e0a-8a7d-5856462971d3\" class=\"colab-df-container\">\n",
              "    <div>\n",
              "<style scoped>\n",
              "    .dataframe tbody tr th:only-of-type {\n",
              "        vertical-align: middle;\n",
              "    }\n",
              "\n",
              "    .dataframe tbody tr th {\n",
              "        vertical-align: top;\n",
              "    }\n",
              "\n",
              "    .dataframe thead th {\n",
              "        text-align: right;\n",
              "    }\n",
              "</style>\n",
              "<table border=\"1\" class=\"dataframe\">\n",
              "  <thead>\n",
              "    <tr style=\"text-align: right;\">\n",
              "      <th></th>\n",
              "      <th>session_id</th>\n",
              "      <th>code</th>\n",
              "      <th>score</th>\n",
              "      <th>rank</th>\n",
              "    </tr>\n",
              "  </thead>\n",
              "  <tbody>\n",
              "    <tr>\n",
              "      <th>0</th>\n",
              "      <td>61.0</td>\n",
              "      <td>(1045, 1563, 4574, 3586, 143, 292, 4436, 2257,...</td>\n",
              "      <td>(0.3108594, 0.033298433, 0.030548245, 0.020076...</td>\n",
              "      <td>(1, 2, 3, 4, 5, 6, 7, 8, 9, 10, 11, 12, 13, 14...</td>\n",
              "    </tr>\n",
              "    <tr>\n",
              "      <th>1</th>\n",
              "      <td>96.0</td>\n",
              "      <td>(3564, 3778, 4097, 2499, 1252, 2328, 957, 241,...</td>\n",
              "      <td>(0.05127322, 0.035315197, 0.026814898, 0.02220...</td>\n",
              "      <td>(1, 2, 3, 4, 5, 6, 7, 8, 9, 10, 11, 12, 13, 14...</td>\n",
              "    </tr>\n",
              "    <tr>\n",
              "      <th>2</th>\n",
              "      <td>185.0</td>\n",
              "      <td>(4146, 4148, 2330, 1936, 1652, 3133, 2937, 358...</td>\n",
              "      <td>(0.25747314, 0.06851616, 0.060629286, 0.053890...</td>\n",
              "      <td>(1, 2, 3, 4, 5, 6, 7, 8, 9, 10, 11, 12, 13, 14...</td>\n",
              "    </tr>\n",
              "    <tr>\n",
              "      <th>3</th>\n",
              "      <td>224.0</td>\n",
              "      <td>(1437, 3338, 4202, 2785, 234, 881, 1899, 2147,...</td>\n",
              "      <td>(0.205569, 0.12808649, 0.040839255, 0.02002901...</td>\n",
              "      <td>(1, 2, 3, 4, 5, 6, 7, 8, 9, 10, 11, 12, 13, 14...</td>\n",
              "    </tr>\n",
              "    <tr>\n",
              "      <th>4</th>\n",
              "      <td>285.0</td>\n",
              "      <td>(3441, 3555, 2970, 3691, 2268, 1070, 4536, 488...</td>\n",
              "      <td>(0.09762455, 0.064020686, 0.055227004, 0.03363...</td>\n",
              "      <td>(1, 2, 3, 4, 5, 6, 7, 8, 9, 10, 11, 12, 13, 14...</td>\n",
              "    </tr>\n",
              "  </tbody>\n",
              "</table>\n",
              "</div>\n",
              "    <div class=\"colab-df-buttons\">\n",
              "\n",
              "  <div class=\"colab-df-container\">\n",
              "    <button class=\"colab-df-convert\" onclick=\"convertToInteractive('df-298b513d-f1b3-4e0a-8a7d-5856462971d3')\"\n",
              "            title=\"Convert this dataframe to an interactive table.\"\n",
              "            style=\"display:none;\">\n",
              "\n",
              "  <svg xmlns=\"http://www.w3.org/2000/svg\" height=\"24px\" viewBox=\"0 -960 960 960\">\n",
              "    <path d=\"M120-120v-720h720v720H120Zm60-500h600v-160H180v160Zm220 220h160v-160H400v160Zm0 220h160v-160H400v160ZM180-400h160v-160H180v160Zm440 0h160v-160H620v160ZM180-180h160v-160H180v160Zm440 0h160v-160H620v160Z\"/>\n",
              "  </svg>\n",
              "    </button>\n",
              "\n",
              "  <style>\n",
              "    .colab-df-container {\n",
              "      display:flex;\n",
              "      gap: 12px;\n",
              "    }\n",
              "\n",
              "    .colab-df-convert {\n",
              "      background-color: #E8F0FE;\n",
              "      border: none;\n",
              "      border-radius: 50%;\n",
              "      cursor: pointer;\n",
              "      display: none;\n",
              "      fill: #1967D2;\n",
              "      height: 32px;\n",
              "      padding: 0 0 0 0;\n",
              "      width: 32px;\n",
              "    }\n",
              "\n",
              "    .colab-df-convert:hover {\n",
              "      background-color: #E2EBFA;\n",
              "      box-shadow: 0px 1px 2px rgba(60, 64, 67, 0.3), 0px 1px 3px 1px rgba(60, 64, 67, 0.15);\n",
              "      fill: #174EA6;\n",
              "    }\n",
              "\n",
              "    .colab-df-buttons div {\n",
              "      margin-bottom: 4px;\n",
              "    }\n",
              "\n",
              "    [theme=dark] .colab-df-convert {\n",
              "      background-color: #3B4455;\n",
              "      fill: #D2E3FC;\n",
              "    }\n",
              "\n",
              "    [theme=dark] .colab-df-convert:hover {\n",
              "      background-color: #434B5C;\n",
              "      box-shadow: 0px 1px 3px 1px rgba(0, 0, 0, 0.15);\n",
              "      filter: drop-shadow(0px 1px 2px rgba(0, 0, 0, 0.3));\n",
              "      fill: #FFFFFF;\n",
              "    }\n",
              "  </style>\n",
              "\n",
              "    <script>\n",
              "      const buttonEl =\n",
              "        document.querySelector('#df-298b513d-f1b3-4e0a-8a7d-5856462971d3 button.colab-df-convert');\n",
              "      buttonEl.style.display =\n",
              "        google.colab.kernel.accessAllowed ? 'block' : 'none';\n",
              "\n",
              "      async function convertToInteractive(key) {\n",
              "        const element = document.querySelector('#df-298b513d-f1b3-4e0a-8a7d-5856462971d3');\n",
              "        const dataTable =\n",
              "          await google.colab.kernel.invokeFunction('convertToInteractive',\n",
              "                                                    [key], {});\n",
              "        if (!dataTable) return;\n",
              "\n",
              "        const docLinkHtml = 'Like what you see? Visit the ' +\n",
              "          '<a target=\"_blank\" href=https://colab.research.google.com/notebooks/data_table.ipynb>data table notebook</a>'\n",
              "          + ' to learn more about interactive tables.';\n",
              "        element.innerHTML = '';\n",
              "        dataTable['output_type'] = 'display_data';\n",
              "        await google.colab.output.renderOutput(dataTable, element);\n",
              "        const docLink = document.createElement('div');\n",
              "        docLink.innerHTML = docLinkHtml;\n",
              "        element.appendChild(docLink);\n",
              "      }\n",
              "    </script>\n",
              "  </div>\n",
              "\n",
              "\n",
              "<div id=\"df-49fc3fe4-655c-44fd-9a74-1e2f6747d852\">\n",
              "  <button class=\"colab-df-quickchart\" onclick=\"quickchart('df-49fc3fe4-655c-44fd-9a74-1e2f6747d852')\"\n",
              "            title=\"Suggest charts\"\n",
              "            style=\"display:none;\">\n",
              "\n",
              "<svg xmlns=\"http://www.w3.org/2000/svg\" height=\"24px\"viewBox=\"0 0 24 24\"\n",
              "     width=\"24px\">\n",
              "    <g>\n",
              "        <path d=\"M19 3H5c-1.1 0-2 .9-2 2v14c0 1.1.9 2 2 2h14c1.1 0 2-.9 2-2V5c0-1.1-.9-2-2-2zM9 17H7v-7h2v7zm4 0h-2V7h2v10zm4 0h-2v-4h2v4z\"/>\n",
              "    </g>\n",
              "</svg>\n",
              "  </button>\n",
              "\n",
              "<style>\n",
              "  .colab-df-quickchart {\n",
              "      --bg-color: #E8F0FE;\n",
              "      --fill-color: #1967D2;\n",
              "      --hover-bg-color: #E2EBFA;\n",
              "      --hover-fill-color: #174EA6;\n",
              "      --disabled-fill-color: #AAA;\n",
              "      --disabled-bg-color: #DDD;\n",
              "  }\n",
              "\n",
              "  [theme=dark] .colab-df-quickchart {\n",
              "      --bg-color: #3B4455;\n",
              "      --fill-color: #D2E3FC;\n",
              "      --hover-bg-color: #434B5C;\n",
              "      --hover-fill-color: #FFFFFF;\n",
              "      --disabled-bg-color: #3B4455;\n",
              "      --disabled-fill-color: #666;\n",
              "  }\n",
              "\n",
              "  .colab-df-quickchart {\n",
              "    background-color: var(--bg-color);\n",
              "    border: none;\n",
              "    border-radius: 50%;\n",
              "    cursor: pointer;\n",
              "    display: none;\n",
              "    fill: var(--fill-color);\n",
              "    height: 32px;\n",
              "    padding: 0;\n",
              "    width: 32px;\n",
              "  }\n",
              "\n",
              "  .colab-df-quickchart:hover {\n",
              "    background-color: var(--hover-bg-color);\n",
              "    box-shadow: 0 1px 2px rgba(60, 64, 67, 0.3), 0 1px 3px 1px rgba(60, 64, 67, 0.15);\n",
              "    fill: var(--button-hover-fill-color);\n",
              "  }\n",
              "\n",
              "  .colab-df-quickchart-complete:disabled,\n",
              "  .colab-df-quickchart-complete:disabled:hover {\n",
              "    background-color: var(--disabled-bg-color);\n",
              "    fill: var(--disabled-fill-color);\n",
              "    box-shadow: none;\n",
              "  }\n",
              "\n",
              "  .colab-df-spinner {\n",
              "    border: 2px solid var(--fill-color);\n",
              "    border-color: transparent;\n",
              "    border-bottom-color: var(--fill-color);\n",
              "    animation:\n",
              "      spin 1s steps(1) infinite;\n",
              "  }\n",
              "\n",
              "  @keyframes spin {\n",
              "    0% {\n",
              "      border-color: transparent;\n",
              "      border-bottom-color: var(--fill-color);\n",
              "      border-left-color: var(--fill-color);\n",
              "    }\n",
              "    20% {\n",
              "      border-color: transparent;\n",
              "      border-left-color: var(--fill-color);\n",
              "      border-top-color: var(--fill-color);\n",
              "    }\n",
              "    30% {\n",
              "      border-color: transparent;\n",
              "      border-left-color: var(--fill-color);\n",
              "      border-top-color: var(--fill-color);\n",
              "      border-right-color: var(--fill-color);\n",
              "    }\n",
              "    40% {\n",
              "      border-color: transparent;\n",
              "      border-right-color: var(--fill-color);\n",
              "      border-top-color: var(--fill-color);\n",
              "    }\n",
              "    60% {\n",
              "      border-color: transparent;\n",
              "      border-right-color: var(--fill-color);\n",
              "    }\n",
              "    80% {\n",
              "      border-color: transparent;\n",
              "      border-right-color: var(--fill-color);\n",
              "      border-bottom-color: var(--fill-color);\n",
              "    }\n",
              "    90% {\n",
              "      border-color: transparent;\n",
              "      border-bottom-color: var(--fill-color);\n",
              "    }\n",
              "  }\n",
              "</style>\n",
              "\n",
              "  <script>\n",
              "    async function quickchart(key) {\n",
              "      const quickchartButtonEl =\n",
              "        document.querySelector('#' + key + ' button');\n",
              "      quickchartButtonEl.disabled = true;  // To prevent multiple clicks.\n",
              "      quickchartButtonEl.classList.add('colab-df-spinner');\n",
              "      try {\n",
              "        const charts = await google.colab.kernel.invokeFunction(\n",
              "            'suggestCharts', [key], {});\n",
              "      } catch (error) {\n",
              "        console.error('Error during call to suggestCharts:', error);\n",
              "      }\n",
              "      quickchartButtonEl.classList.remove('colab-df-spinner');\n",
              "      quickchartButtonEl.classList.add('colab-df-quickchart-complete');\n",
              "    }\n",
              "    (() => {\n",
              "      let quickchartButtonEl =\n",
              "        document.querySelector('#df-49fc3fe4-655c-44fd-9a74-1e2f6747d852 button');\n",
              "      quickchartButtonEl.style.display =\n",
              "        google.colab.kernel.accessAllowed ? 'block' : 'none';\n",
              "    })();\n",
              "  </script>\n",
              "</div>\n",
              "\n",
              "    </div>\n",
              "  </div>\n"
            ],
            "application/vnd.google.colaboratory.intrinsic+json": {
              "type": "dataframe",
              "variable_name": "submission_df",
              "summary": "{\n  \"name\": \"submission_df\",\n  \"rows\": 50000,\n  \"fields\": [\n    {\n      \"column\": \"session_id\",\n      \"properties\": {\n        \"dtype\": \"number\",\n        \"std\": 1282026.5744703738,\n        \"min\": 61.0,\n        \"max\": 4439966.0,\n        \"samples\": [\n          2971690.0,\n          836475.0,\n          16743.0\n        ],\n        \"num_unique_values\": 50000,\n        \"semantic_type\": \"\",\n        \"description\": \"\"\n      }\n    },\n    {\n      \"column\": \"code\",\n      \"properties\": {\n        \"dtype\": \"string\",\n        \"samples\": [\n          [\n            \"603\",\n            \"3359\",\n            \"1523\",\n            \"3128\",\n            \"2270\",\n            \"2785\",\n            \"3398\",\n            \"4145\",\n            \"3310\",\n            \"3895\",\n            \"2203\",\n            \"1465\",\n            \"1281\",\n            \"4787\",\n            \"2244\",\n            \"1458\",\n            \"1105\",\n            \"4686\",\n            \"2865\",\n            \"2328\",\n            \"4489\",\n            \"3987\",\n            \"2517\",\n            \"2100\",\n            \"4178\",\n            \"4418\",\n            \"888\",\n            \"840\",\n            \"4257\",\n            \"1189\",\n            \"2316\",\n            \"1794\",\n            \"3255\",\n            \"3355\",\n            \"1099\",\n            \"4586\",\n            \"3024\",\n            \"1291\",\n            \"860\",\n            \"4451\",\n            \"4495\",\n            \"242\",\n            \"1016\",\n            \"1936\",\n            \"2118\",\n            \"4262\",\n            \"1136\",\n            \"278\",\n            \"3197\",\n            \"1952\",\n            \"599\",\n            \"895\",\n            \"3731\",\n            \"4556\",\n            \"3045\",\n            \"4640\",\n            \"1522\",\n            \"1463\",\n            \"1813\",\n            \"3526\",\n            \"2330\",\n            \"2649\",\n            \"2596\",\n            \"4213\",\n            \"42\",\n            \"3339\",\n            \"2498\",\n            \"786\",\n            \"3432\",\n            \"848\",\n            \"446\",\n            \"3930\",\n            \"3110\",\n            \"4946\",\n            \"3820\",\n            \"147\",\n            \"650\",\n            \"2976\",\n            \"3203\",\n            \"3410\",\n            \"250\",\n            \"3227\",\n            \"3879\",\n            \"3424\",\n            \"1652\",\n            \"1519\",\n            \"882\",\n            \"2937\",\n            \"571\",\n            \"2871\",\n            \"3285\",\n            \"3120\",\n            \"4383\",\n            \"1636\",\n            \"2257\",\n            \"2780\",\n            \"4148\",\n            \"4487\",\n            \"4741\",\n            \"4171\"\n          ],\n          [\n            \"863\",\n            \"1991\",\n            \"3410\",\n            \"2651\",\n            \"705\",\n            \"681\",\n            \"2435\",\n            \"488\",\n            \"3398\",\n            \"1015\",\n            \"4588\",\n            \"1458\",\n            \"2338\",\n            \"2316\",\n            \"2019\",\n            \"1269\",\n            \"1594\",\n            \"2813\",\n            \"2909\",\n            \"4966\",\n            \"1609\",\n            \"2724\",\n            \"4640\",\n            \"779\",\n            \"3775\",\n            \"942\",\n            \"1578\",\n            \"2250\",\n            \"4148\",\n            \"4787\",\n            \"2704\",\n            \"2937\",\n            \"3570\",\n            \"614\",\n            \"599\",\n            \"3615\",\n            \"819\",\n            \"561\",\n            \"4504\",\n            \"1834\",\n            \"1183\",\n            \"3359\",\n            \"4162\",\n            \"772\",\n            \"3550\",\n            \"766\",\n            \"3247\",\n            \"4786\",\n            \"2067\",\n            \"3244\",\n            \"4591\",\n            \"4146\",\n            \"1652\",\n            \"2017\",\n            \"3417\",\n            \"2057\",\n            \"1011\",\n            \"3463\",\n            \"3904\",\n            \"3233\",\n            \"4951\",\n            \"2370\",\n            \"2399\",\n            \"1906\",\n            \"301\",\n            \"3559\",\n            \"3680\",\n            \"4857\",\n            \"2822\",\n            \"2269\",\n            \"2184\",\n            \"1497\",\n            \"2170\",\n            \"1936\",\n            \"2455\",\n            \"860\",\n            \"3654\",\n            \"2137\",\n            \"320\",\n            \"3763\",\n            \"1310\",\n            \"3362\",\n            \"3333\",\n            \"925\",\n            \"2638\",\n            \"685\",\n            \"4291\",\n            \"3564\",\n            \"3077\",\n            \"1662\",\n            \"3283\",\n            \"3648\",\n            \"3820\",\n            \"1685\",\n            \"3879\",\n            \"2674\",\n            \"2923\",\n            \"2448\",\n            \"3155\",\n            \"1950\"\n          ],\n          [\n            \"2180\",\n            \"1077\",\n            \"298\",\n            \"2258\",\n            \"42\",\n            \"2694\",\n            \"2406\",\n            \"2605\",\n            \"36\",\n            \"4415\",\n            \"2596\",\n            \"434\",\n            \"603\",\n            \"3283\",\n            \"1015\",\n            \"998\",\n            \"3034\",\n            \"4846\",\n            \"4449\",\n            \"4347\",\n            \"134\",\n            \"2381\",\n            \"1401\",\n            \"1125\",\n            \"2431\",\n            \"99\",\n            \"4939\",\n            \"1609\",\n            \"2266\",\n            \"3531\",\n            \"4118\",\n            \"1636\",\n            \"3170\",\n            \"2785\",\n            \"3336\",\n            \"2638\",\n            \"339\",\n            \"2639\",\n            \"1139\",\n            \"4554\",\n            \"2315\",\n            \"3168\",\n            \"3776\",\n            \"3359\",\n            \"517\",\n            \"4706\",\n            \"4433\",\n            \"4946\",\n            \"4171\",\n            \"698\",\n            \"4573\",\n            \"2353\",\n            \"2026\",\n            \"1388\",\n            \"1453\",\n            \"1714\",\n            \"2235\",\n            \"2306\",\n            \"667\",\n            \"690\",\n            \"4356\",\n            \"4018\",\n            \"4517\",\n            \"2370\",\n            \"3094\",\n            \"320\",\n            \"2203\",\n            \"3660\",\n            \"3440\",\n            \"1254\",\n            \"3378\",\n            \"2312\",\n            \"4257\",\n            \"4387\",\n            \"3461\",\n            \"3126\",\n            \"4990\",\n            \"3971\",\n            \"4902\",\n            \"500\",\n            \"4423\",\n            \"360\",\n            \"3673\",\n            \"1099\",\n            \"1939\",\n            \"967\",\n            \"574\",\n            \"3953\",\n            \"1189\",\n            \"2037\",\n            \"2734\",\n            \"829\",\n            \"4101\",\n            \"1046\",\n            \"3287\",\n            \"3231\",\n            \"2800\",\n            \"4148\",\n            \"2118\",\n            \"2147\"\n          ]\n        ],\n        \"num_unique_values\": 49956,\n        \"semantic_type\": \"\",\n        \"description\": \"\"\n      }\n    },\n    {\n      \"column\": \"score\",\n      \"properties\": {\n        \"dtype\": \"string\",\n        \"samples\": [\n          [\n            \"0.051805083\",\n            \"0.049618445\",\n            \"0.0487395\",\n            \"0.044185527\",\n            \"0.042894054\",\n            \"0.028811386\",\n            \"0.027916154\",\n            \"0.024357647\",\n            \"0.023417786\",\n            \"0.023257239\",\n            \"0.02179465\",\n            \"0.019770453\",\n            \"0.018519562\",\n            \"0.015451855\",\n            \"0.013719764\",\n            \"0.011560407\",\n            \"0.010951029\",\n            \"0.010931455\",\n            \"0.010221734\",\n            \"0.009850928\",\n            \"0.008544363\",\n            \"0.008538588\",\n            \"0.0072019533\",\n            \"0.0061134812\",\n            \"0.0059569445\",\n            \"0.004881204\",\n            \"0.004456908\",\n            \"0.003946413\",\n            \"0.0034212638\",\n            \"0.0032699301\",\n            \"0.003232522\",\n            \"0.0030971156\",\n            \"0.0030390474\",\n            \"0.002978954\",\n            \"0.0025372377\",\n            \"0.002357013\",\n            \"0.0023547572\",\n            \"0.0022737808\",\n            \"0.0022353153\",\n            \"0.0022244016\",\n            \"0.002219658\",\n            \"0.0021910805\",\n            \"0.0021823228\",\n            \"0.0021795086\",\n            \"0.0020837516\",\n            \"0.0020343403\",\n            \"0.0019603374\",\n            \"0.0019220463\",\n            \"0.0019126477\",\n            \"0.0018137231\",\n            \"0.0016893623\",\n            \"0.0016818454\",\n            \"0.0016616816\",\n            \"0.0016427452\",\n            \"0.0016086696\",\n            \"0.0015787653\",\n            \"0.0015083236\",\n            \"0.0015012228\",\n            \"0.0014796581\",\n            \"0.0014482039\",\n            \"0.0014227973\",\n            \"0.0014178593\",\n            \"0.0014075328\",\n            \"0.0013828326\",\n            \"0.0013525028\",\n            \"0.0013298419\",\n            \"0.0013051435\",\n            \"0.0012891111\",\n            \"0.0012693907\",\n            \"0.0012483024\",\n            \"0.0012404073\",\n            \"0.0011963516\",\n            \"0.0011888166\",\n            \"0.0011794053\",\n            \"0.0011768163\",\n            \"0.0011742403\",\n            \"0.0011686612\",\n            \"0.0011640359\",\n            \"0.0011501211\",\n            \"0.0011334036\",\n            \"0.0011303958\",\n            \"0.0011229095\",\n            \"0.0010866568\",\n            \"0.0010834141\",\n            \"0.0010791793\",\n            \"0.0010761205\",\n            \"0.0010502491\",\n            \"0.001018344\",\n            \"0.0010133088\",\n            \"0.0009995837\",\n            \"0.0009714016\",\n            \"0.0009634731\",\n            \"0.00096075574\",\n            \"0.00096039637\",\n            \"0.00095829717\",\n            \"0.0009568466\",\n            \"0.0009483375\",\n            \"0.0009463408\",\n            \"0.0009328784\",\n            \"0.0009303432\"\n          ],\n          [\n            \"0.12060578\",\n            \"0.091300465\",\n            \"0.038501814\",\n            \"0.03824052\",\n            \"0.037947364\",\n            \"0.021629985\",\n            \"0.020616254\",\n            \"0.018804306\",\n            \"0.01615204\",\n            \"0.015282173\",\n            \"0.013239994\",\n            \"0.01267501\",\n            \"0.010034775\",\n            \"0.009560704\",\n            \"0.008929388\",\n            \"0.0082686255\",\n            \"0.007841837\",\n            \"0.0076496936\",\n            \"0.0069817617\",\n            \"0.0069114035\",\n            \"0.0064408896\",\n            \"0.0064363945\",\n            \"0.006173985\",\n            \"0.0061338246\",\n            \"0.005991543\",\n            \"0.00595594\",\n            \"0.0057347184\",\n            \"0.0055901515\",\n            \"0.005423248\",\n            \"0.005354509\",\n            \"0.005194911\",\n            \"0.0051912507\",\n            \"0.005171312\",\n            \"0.0045606\",\n            \"0.0037650063\",\n            \"0.003523683\",\n            \"0.0035200692\",\n            \"0.0028382635\",\n            \"0.002811083\",\n            \"0.002774327\",\n            \"0.0025126433\",\n            \"0.0025109611\",\n            \"0.0024325845\",\n            \"0.002409468\",\n            \"0.0023124267\",\n            \"0.0022970971\",\n            \"0.002177665\",\n            \"0.0021286195\",\n            \"0.0021249412\",\n            \"0.0021066542\",\n            \"0.0020143585\",\n            \"0.0019609174\",\n            \"0.0018771258\",\n            \"0.001815182\",\n            \"0.0017965523\",\n            \"0.0017934049\",\n            \"0.0017876113\",\n            \"0.0016145803\",\n            \"0.0015992953\",\n            \"0.0015658597\",\n            \"0.0015279514\",\n            \"0.0015195876\",\n            \"0.0015151985\",\n            \"0.0014900839\",\n            \"0.0014642973\",\n            \"0.0014428772\",\n            \"0.0013875036\",\n            \"0.0013471367\",\n            \"0.0013072533\",\n            \"0.0012923153\",\n            \"0.0012788658\",\n            \"0.001271261\",\n            \"0.0012584794\",\n            \"0.0012110576\",\n            \"0.0011810263\",\n            \"0.0011695127\",\n            \"0.0011143956\",\n            \"0.0011089167\",\n            \"0.0010695439\",\n            \"0.0010656463\",\n            \"0.0010027696\",\n            \"0.0010022491\",\n            \"0.0009780969\",\n            \"0.0009523339\",\n            \"0.0009220945\",\n            \"0.000911204\",\n            \"0.0009088933\",\n            \"0.00090389914\",\n            \"0.0009020224\",\n            \"0.00089805253\",\n            \"0.0008951341\",\n            \"0.0008829642\",\n            \"0.000881106\",\n            \"0.000832466\",\n            \"0.0008190972\",\n            \"0.00079725124\",\n            \"0.0007957822\",\n            \"0.00077354454\",\n            \"0.00077353284\",\n            \"0.0007649059\"\n          ],\n          [\n            \"0.028911687\",\n            \"0.022004599\",\n            \"0.019528616\",\n            \"0.017343191\",\n            \"0.016691037\",\n            \"0.014689295\",\n            \"0.013946661\",\n            \"0.013724226\",\n            \"0.0129967\",\n            \"0.010710835\",\n            \"0.0102004865\",\n            \"0.00997419\",\n            \"0.008501897\",\n            \"0.0080198925\",\n            \"0.0072037536\",\n            \"0.006931321\",\n            \"0.0062352153\",\n            \"0.005627332\",\n            \"0.0056077056\",\n            \"0.0053158784\",\n            \"0.00527503\",\n            \"0.00525039\",\n            \"0.0051975767\",\n            \"0.00519439\",\n            \"0.0048804623\",\n            \"0.0048041767\",\n            \"0.004655078\",\n            \"0.004643025\",\n            \"0.0045761773\",\n            \"0.0045494945\",\n            \"0.004512749\",\n            \"0.004387986\",\n            \"0.004342139\",\n            \"0.0043028505\",\n            \"0.0041889106\",\n            \"0.0041738674\",\n            \"0.0040948493\",\n            \"0.004087912\",\n            \"0.003988578\",\n            \"0.003987468\",\n            \"0.003911874\",\n            \"0.0038879726\",\n            \"0.003831457\",\n            \"0.0037546577\",\n            \"0.0037384806\",\n            \"0.0037003213\",\n            \"0.0035299421\",\n            \"0.0034887723\",\n            \"0.0034236629\",\n            \"0.0034088164\",\n            \"0.0033959525\",\n            \"0.003380491\",\n            \"0.0033158904\",\n            \"0.0032053096\",\n            \"0.003172865\",\n            \"0.0031313067\",\n            \"0.0030370236\",\n            \"0.002945397\",\n            \"0.002939032\",\n            \"0.0029384797\",\n            \"0.0029333644\",\n            \"0.0029279785\",\n            \"0.0029253645\",\n            \"0.0029119567\",\n            \"0.0028922444\",\n            \"0.002889651\",\n            \"0.0028834518\",\n            \"0.0028830725\",\n            \"0.0027620038\",\n            \"0.0026516246\",\n            \"0.0025713642\",\n            \"0.0025033301\",\n            \"0.00249526\",\n            \"0.0024951482\",\n            \"0.0024529663\",\n            \"0.0024260655\",\n            \"0.0024236715\",\n            \"0.0023407151\",\n            \"0.0023295593\",\n            \"0.002300603\",\n            \"0.002188424\",\n            \"0.0021577245\",\n            \"0.0021360847\",\n            \"0.0021342314\",\n            \"0.0021006165\",\n            \"0.002038314\",\n            \"0.0020331095\",\n            \"0.0020029573\",\n            \"0.0020018362\",\n            \"0.0019899213\",\n            \"0.0019637053\",\n            \"0.0019396616\",\n            \"0.0019313234\",\n            \"0.0018674398\",\n            \"0.0018659642\",\n            \"0.0018597457\",\n            \"0.0018454865\",\n            \"0.0018027087\",\n            \"0.0017845634\",\n            \"0.0017751035\"\n          ]\n        ],\n        \"num_unique_values\": 49984,\n        \"semantic_type\": \"\",\n        \"description\": \"\"\n      }\n    },\n    {\n      \"column\": \"rank\",\n      \"properties\": {\n        \"dtype\": \"category\",\n        \"samples\": [\n          [\n            1,\n            2,\n            3,\n            4,\n            5,\n            6,\n            7,\n            8,\n            9,\n            10,\n            11,\n            12,\n            13,\n            14,\n            15,\n            16,\n            17,\n            18,\n            19,\n            20,\n            21,\n            22,\n            23,\n            24,\n            25,\n            26,\n            27,\n            28,\n            29,\n            30,\n            31,\n            32,\n            33,\n            34,\n            35,\n            36,\n            37,\n            38,\n            39,\n            40,\n            41,\n            42,\n            43,\n            44,\n            45,\n            46,\n            47,\n            48,\n            49,\n            50,\n            51,\n            52,\n            53,\n            54,\n            55,\n            56,\n            57,\n            58,\n            59,\n            60,\n            61,\n            62,\n            63,\n            64,\n            65,\n            66,\n            67,\n            68,\n            69,\n            70,\n            71,\n            72,\n            73,\n            74,\n            75,\n            76,\n            77,\n            78,\n            79,\n            80,\n            81,\n            82,\n            83,\n            84,\n            85,\n            86,\n            87,\n            88,\n            89,\n            90,\n            91,\n            92,\n            93,\n            94,\n            95,\n            96,\n            97,\n            98,\n            99,\n            100\n          ]\n        ],\n        \"num_unique_values\": 1,\n        \"semantic_type\": \"\",\n        \"description\": \"\"\n      }\n    }\n  ]\n}"
            }
          },
          "metadata": {},
          "execution_count": 74
        }
      ],
      "source": [
        "for session_ids, sessions in submission_set:\n",
        "    predicted_scores=model_for_training(sessions)[0].numpy()\n",
        "    mask = np.ones(predicted_scores.shape[1], dtype=bool)\n",
        "    mask[candidates] = False\n",
        "    predicted_scores[...,mask]=-np.inf\n",
        "    predicted_scores=tf.convert_to_tensor(predicted_scores)\n",
        "    preds=tf.math.top_k(predicted_scores, k=100)\n",
        "    scores=preds.values.numpy()\n",
        "    code = preds.indices.numpy()\n",
        "    prediction = pd.DataFrame(\n",
        "        {\n",
        "            'session_id':session_ids,\n",
        "            'code':[tuple(v) for v in code],\n",
        "            'score':[tuple(v) for v in scores],\n",
        "            'rank':[tuple([rank for rank in range(1, 101)]) for id in session_ids]\n",
        "        }\n",
        "        )\n",
        "\n",
        "    submission_df = pd.concat([submission_df, prediction])\n",
        "\n",
        "submission_df.head()"
      ]
    },
    {
      "cell_type": "code",
      "execution_count": null,
      "id": "0174eab0",
      "metadata": {
        "execution": {
          "iopub.execute_input": "2022-06-13T16:08:00.095110Z",
          "iopub.status.busy": "2022-06-13T16:08:00.094831Z",
          "iopub.status.idle": "2022-06-13T16:08:09.121282Z",
          "shell.execute_reply": "2022-06-13T16:08:09.120413Z"
        },
        "id": "0174eab0",
        "papermill": {
          "duration": 9.056726,
          "end_time": "2022-06-13T16:08:09.123326",
          "exception": false,
          "start_time": "2022-06-13T16:08:00.066600",
          "status": "completed"
        },
        "tags": []
      },
      "outputs": [],
      "source": [
        "if not os.path.exists('./dataset/candidates/NN/Transformer/final/'):\n",
        "   os.makedirs('./dataset/candidates/NN/Transformer/final/')\n",
        "\n",
        "submission_df.to_csv(\n",
        "    './dataset/candidates/NN/Transformer/final/candidates.csv',\n",
        "    index=False\n",
        "    )"
      ]
    },
    {
      "cell_type": "code",
      "execution_count": null,
      "id": "627bb6fe",
      "metadata": {
        "id": "627bb6fe",
        "papermill": {
          "duration": 0.026333,
          "end_time": "2022-06-13T16:08:09.177035",
          "exception": false,
          "start_time": "2022-06-13T16:08:09.150702",
          "status": "completed"
        },
        "tags": []
      },
      "outputs": [],
      "source": []
    }
  ],
  "metadata": {
    "kernelspec": {
      "display_name": "Python 3.7.0 ('sub_env')",
      "language": "python",
      "name": "python3"
    },
    "language_info": {
      "codemirror_mode": {
        "name": "ipython",
        "version": 3
      },
      "file_extension": ".py",
      "mimetype": "text/x-python",
      "name": "python",
      "nbconvert_exporter": "python",
      "pygments_lexer": "ipython3",
      "version": "3.7.13"
    },
    "papermill": {
      "default_parameters": {},
      "duration": 1387.380693,
      "end_time": "2022-06-13T16:08:12.026465",
      "environment_variables": {},
      "exception": null,
      "input_path": "__notebook__.ipynb",
      "output_path": "__notebook__.ipynb",
      "parameters": {},
      "start_time": "2022-06-13T15:45:04.645772",
      "version": "2.3.4"
    },
    "vscode": {
      "interpreter": {
        "hash": "61f38fddaed46afda7c40a5798d4631266e18af1d335aa6f772dc3ed9b8ab549"
      }
    },
    "widgets": {
      "application/vnd.jupyter.widget-state+json": {
        "dafbbf96a65241068199ac0df8a4fa1c": {
          "model_module": "@jupyter-widgets/controls",
          "model_name": "HBoxModel",
          "model_module_version": "1.5.0",
          "state": {
            "_dom_classes": [],
            "_model_module": "@jupyter-widgets/controls",
            "_model_module_version": "1.5.0",
            "_model_name": "HBoxModel",
            "_view_count": null,
            "_view_module": "@jupyter-widgets/controls",
            "_view_module_version": "1.5.0",
            "_view_name": "HBoxView",
            "box_style": "",
            "children": [
              "IPY_MODEL_df3c082251dc4f33954642fbcc8315be",
              "IPY_MODEL_6115c06a7cda402ab6c744d80b159f5f",
              "IPY_MODEL_68c56fa8021e448784c1c4a27dc109bd"
            ],
            "layout": "IPY_MODEL_a160457d1f8b4d8a9f4faa72f9c0c927"
          }
        },
        "df3c082251dc4f33954642fbcc8315be": {
          "model_module": "@jupyter-widgets/controls",
          "model_name": "HTMLModel",
          "model_module_version": "1.5.0",
          "state": {
            "_dom_classes": [],
            "_model_module": "@jupyter-widgets/controls",
            "_model_module_version": "1.5.0",
            "_model_name": "HTMLModel",
            "_view_count": null,
            "_view_module": "@jupyter-widgets/controls",
            "_view_module_version": "1.5.0",
            "_view_name": "HTMLView",
            "description": "",
            "description_tooltip": null,
            "layout": "IPY_MODEL_87ecd7408bdf42169fd1d89e4613c133",
            "placeholder": "​",
            "style": "IPY_MODEL_a6721f70b64a4ed99023ddbd4e7789c3",
            "value": "100%"
          }
        },
        "6115c06a7cda402ab6c744d80b159f5f": {
          "model_module": "@jupyter-widgets/controls",
          "model_name": "FloatProgressModel",
          "model_module_version": "1.5.0",
          "state": {
            "_dom_classes": [],
            "_model_module": "@jupyter-widgets/controls",
            "_model_module_version": "1.5.0",
            "_model_name": "FloatProgressModel",
            "_view_count": null,
            "_view_module": "@jupyter-widgets/controls",
            "_view_module_version": "1.5.0",
            "_view_name": "ProgressView",
            "bar_style": "success",
            "description": "",
            "description_tooltip": null,
            "layout": "IPY_MODEL_111b24ff648549da82ffdb2ed15d7d6e",
            "max": 1000000,
            "min": 0,
            "orientation": "horizontal",
            "style": "IPY_MODEL_211dfd84189447899026f9bfbfd5fe85",
            "value": 1000000
          }
        },
        "68c56fa8021e448784c1c4a27dc109bd": {
          "model_module": "@jupyter-widgets/controls",
          "model_name": "HTMLModel",
          "model_module_version": "1.5.0",
          "state": {
            "_dom_classes": [],
            "_model_module": "@jupyter-widgets/controls",
            "_model_module_version": "1.5.0",
            "_model_name": "HTMLModel",
            "_view_count": null,
            "_view_module": "@jupyter-widgets/controls",
            "_view_module_version": "1.5.0",
            "_view_name": "HTMLView",
            "description": "",
            "description_tooltip": null,
            "layout": "IPY_MODEL_162b43d9a1064ab6afdfe83966ca9655",
            "placeholder": "​",
            "style": "IPY_MODEL_bb06fcfbf1d2478bad08b2d6bb955774",
            "value": " 1000000/1000000 [00:03&lt;00:00, 295180.29it/s]"
          }
        },
        "a160457d1f8b4d8a9f4faa72f9c0c927": {
          "model_module": "@jupyter-widgets/base",
          "model_name": "LayoutModel",
          "model_module_version": "1.2.0",
          "state": {
            "_model_module": "@jupyter-widgets/base",
            "_model_module_version": "1.2.0",
            "_model_name": "LayoutModel",
            "_view_count": null,
            "_view_module": "@jupyter-widgets/base",
            "_view_module_version": "1.2.0",
            "_view_name": "LayoutView",
            "align_content": null,
            "align_items": null,
            "align_self": null,
            "border": null,
            "bottom": null,
            "display": null,
            "flex": null,
            "flex_flow": null,
            "grid_area": null,
            "grid_auto_columns": null,
            "grid_auto_flow": null,
            "grid_auto_rows": null,
            "grid_column": null,
            "grid_gap": null,
            "grid_row": null,
            "grid_template_areas": null,
            "grid_template_columns": null,
            "grid_template_rows": null,
            "height": null,
            "justify_content": null,
            "justify_items": null,
            "left": null,
            "margin": null,
            "max_height": null,
            "max_width": null,
            "min_height": null,
            "min_width": null,
            "object_fit": null,
            "object_position": null,
            "order": null,
            "overflow": null,
            "overflow_x": null,
            "overflow_y": null,
            "padding": null,
            "right": null,
            "top": null,
            "visibility": null,
            "width": null
          }
        },
        "87ecd7408bdf42169fd1d89e4613c133": {
          "model_module": "@jupyter-widgets/base",
          "model_name": "LayoutModel",
          "model_module_version": "1.2.0",
          "state": {
            "_model_module": "@jupyter-widgets/base",
            "_model_module_version": "1.2.0",
            "_model_name": "LayoutModel",
            "_view_count": null,
            "_view_module": "@jupyter-widgets/base",
            "_view_module_version": "1.2.0",
            "_view_name": "LayoutView",
            "align_content": null,
            "align_items": null,
            "align_self": null,
            "border": null,
            "bottom": null,
            "display": null,
            "flex": null,
            "flex_flow": null,
            "grid_area": null,
            "grid_auto_columns": null,
            "grid_auto_flow": null,
            "grid_auto_rows": null,
            "grid_column": null,
            "grid_gap": null,
            "grid_row": null,
            "grid_template_areas": null,
            "grid_template_columns": null,
            "grid_template_rows": null,
            "height": null,
            "justify_content": null,
            "justify_items": null,
            "left": null,
            "margin": null,
            "max_height": null,
            "max_width": null,
            "min_height": null,
            "min_width": null,
            "object_fit": null,
            "object_position": null,
            "order": null,
            "overflow": null,
            "overflow_x": null,
            "overflow_y": null,
            "padding": null,
            "right": null,
            "top": null,
            "visibility": null,
            "width": null
          }
        },
        "a6721f70b64a4ed99023ddbd4e7789c3": {
          "model_module": "@jupyter-widgets/controls",
          "model_name": "DescriptionStyleModel",
          "model_module_version": "1.5.0",
          "state": {
            "_model_module": "@jupyter-widgets/controls",
            "_model_module_version": "1.5.0",
            "_model_name": "DescriptionStyleModel",
            "_view_count": null,
            "_view_module": "@jupyter-widgets/base",
            "_view_module_version": "1.2.0",
            "_view_name": "StyleView",
            "description_width": ""
          }
        },
        "111b24ff648549da82ffdb2ed15d7d6e": {
          "model_module": "@jupyter-widgets/base",
          "model_name": "LayoutModel",
          "model_module_version": "1.2.0",
          "state": {
            "_model_module": "@jupyter-widgets/base",
            "_model_module_version": "1.2.0",
            "_model_name": "LayoutModel",
            "_view_count": null,
            "_view_module": "@jupyter-widgets/base",
            "_view_module_version": "1.2.0",
            "_view_name": "LayoutView",
            "align_content": null,
            "align_items": null,
            "align_self": null,
            "border": null,
            "bottom": null,
            "display": null,
            "flex": null,
            "flex_flow": null,
            "grid_area": null,
            "grid_auto_columns": null,
            "grid_auto_flow": null,
            "grid_auto_rows": null,
            "grid_column": null,
            "grid_gap": null,
            "grid_row": null,
            "grid_template_areas": null,
            "grid_template_columns": null,
            "grid_template_rows": null,
            "height": null,
            "justify_content": null,
            "justify_items": null,
            "left": null,
            "margin": null,
            "max_height": null,
            "max_width": null,
            "min_height": null,
            "min_width": null,
            "object_fit": null,
            "object_position": null,
            "order": null,
            "overflow": null,
            "overflow_x": null,
            "overflow_y": null,
            "padding": null,
            "right": null,
            "top": null,
            "visibility": null,
            "width": null
          }
        },
        "211dfd84189447899026f9bfbfd5fe85": {
          "model_module": "@jupyter-widgets/controls",
          "model_name": "ProgressStyleModel",
          "model_module_version": "1.5.0",
          "state": {
            "_model_module": "@jupyter-widgets/controls",
            "_model_module_version": "1.5.0",
            "_model_name": "ProgressStyleModel",
            "_view_count": null,
            "_view_module": "@jupyter-widgets/base",
            "_view_module_version": "1.2.0",
            "_view_name": "StyleView",
            "bar_color": null,
            "description_width": ""
          }
        },
        "162b43d9a1064ab6afdfe83966ca9655": {
          "model_module": "@jupyter-widgets/base",
          "model_name": "LayoutModel",
          "model_module_version": "1.2.0",
          "state": {
            "_model_module": "@jupyter-widgets/base",
            "_model_module_version": "1.2.0",
            "_model_name": "LayoutModel",
            "_view_count": null,
            "_view_module": "@jupyter-widgets/base",
            "_view_module_version": "1.2.0",
            "_view_name": "LayoutView",
            "align_content": null,
            "align_items": null,
            "align_self": null,
            "border": null,
            "bottom": null,
            "display": null,
            "flex": null,
            "flex_flow": null,
            "grid_area": null,
            "grid_auto_columns": null,
            "grid_auto_flow": null,
            "grid_auto_rows": null,
            "grid_column": null,
            "grid_gap": null,
            "grid_row": null,
            "grid_template_areas": null,
            "grid_template_columns": null,
            "grid_template_rows": null,
            "height": null,
            "justify_content": null,
            "justify_items": null,
            "left": null,
            "margin": null,
            "max_height": null,
            "max_width": null,
            "min_height": null,
            "min_width": null,
            "object_fit": null,
            "object_position": null,
            "order": null,
            "overflow": null,
            "overflow_x": null,
            "overflow_y": null,
            "padding": null,
            "right": null,
            "top": null,
            "visibility": null,
            "width": null
          }
        },
        "bb06fcfbf1d2478bad08b2d6bb955774": {
          "model_module": "@jupyter-widgets/controls",
          "model_name": "DescriptionStyleModel",
          "model_module_version": "1.5.0",
          "state": {
            "_model_module": "@jupyter-widgets/controls",
            "_model_module_version": "1.5.0",
            "_model_name": "DescriptionStyleModel",
            "_view_count": null,
            "_view_module": "@jupyter-widgets/base",
            "_view_module_version": "1.2.0",
            "_view_name": "StyleView",
            "description_width": ""
          }
        },
        "bbfbe73bd2a54c2687ba66b7dc387579": {
          "model_module": "@jupyter-widgets/controls",
          "model_name": "HBoxModel",
          "model_module_version": "1.5.0",
          "state": {
            "_dom_classes": [],
            "_model_module": "@jupyter-widgets/controls",
            "_model_module_version": "1.5.0",
            "_model_name": "HBoxModel",
            "_view_count": null,
            "_view_module": "@jupyter-widgets/controls",
            "_view_module_version": "1.5.0",
            "_view_name": "HBoxView",
            "box_style": "",
            "children": [
              "IPY_MODEL_a8217380e7f64537877d5e555797cd43",
              "IPY_MODEL_62efe6fa4d7e45afa83af336f2c07589",
              "IPY_MODEL_eb652a371b064e528637be01e60d8f44"
            ],
            "layout": "IPY_MODEL_9343220a4bd848e0936aa41551208891"
          }
        },
        "a8217380e7f64537877d5e555797cd43": {
          "model_module": "@jupyter-widgets/controls",
          "model_name": "HTMLModel",
          "model_module_version": "1.5.0",
          "state": {
            "_dom_classes": [],
            "_model_module": "@jupyter-widgets/controls",
            "_model_module_version": "1.5.0",
            "_model_name": "HTMLModel",
            "_view_count": null,
            "_view_module": "@jupyter-widgets/controls",
            "_view_module_version": "1.5.0",
            "_view_name": "HTMLView",
            "description": "",
            "description_tooltip": null,
            "layout": "IPY_MODEL_2e68f2a5adad4ef69ee8cdaf61cb0a06",
            "placeholder": "​",
            "style": "IPY_MODEL_a4df019159f84b0ba87831277bb43629",
            "value": "100%"
          }
        },
        "62efe6fa4d7e45afa83af336f2c07589": {
          "model_module": "@jupyter-widgets/controls",
          "model_name": "FloatProgressModel",
          "model_module_version": "1.5.0",
          "state": {
            "_dom_classes": [],
            "_model_module": "@jupyter-widgets/controls",
            "_model_module_version": "1.5.0",
            "_model_name": "FloatProgressModel",
            "_view_count": null,
            "_view_module": "@jupyter-widgets/controls",
            "_view_module_version": "1.5.0",
            "_view_name": "ProgressView",
            "bar_style": "success",
            "description": "",
            "description_tooltip": null,
            "layout": "IPY_MODEL_e055d1d1519b45b0a736e14143ebb401",
            "max": 1000000,
            "min": 0,
            "orientation": "horizontal",
            "style": "IPY_MODEL_a05606ea94c744de9831041e0a7245f6",
            "value": 1000000
          }
        },
        "eb652a371b064e528637be01e60d8f44": {
          "model_module": "@jupyter-widgets/controls",
          "model_name": "HTMLModel",
          "model_module_version": "1.5.0",
          "state": {
            "_dom_classes": [],
            "_model_module": "@jupyter-widgets/controls",
            "_model_module_version": "1.5.0",
            "_model_name": "HTMLModel",
            "_view_count": null,
            "_view_module": "@jupyter-widgets/controls",
            "_view_module_version": "1.5.0",
            "_view_name": "HTMLView",
            "description": "",
            "description_tooltip": null,
            "layout": "IPY_MODEL_1e2ffb9bde38421bb133ff546c0c068c",
            "placeholder": "​",
            "style": "IPY_MODEL_06fdeff6d8f342dd87ac72cd0afe490d",
            "value": " 1000000/1000000 [00:02&lt;00:00, 353029.13it/s]"
          }
        },
        "9343220a4bd848e0936aa41551208891": {
          "model_module": "@jupyter-widgets/base",
          "model_name": "LayoutModel",
          "model_module_version": "1.2.0",
          "state": {
            "_model_module": "@jupyter-widgets/base",
            "_model_module_version": "1.2.0",
            "_model_name": "LayoutModel",
            "_view_count": null,
            "_view_module": "@jupyter-widgets/base",
            "_view_module_version": "1.2.0",
            "_view_name": "LayoutView",
            "align_content": null,
            "align_items": null,
            "align_self": null,
            "border": null,
            "bottom": null,
            "display": null,
            "flex": null,
            "flex_flow": null,
            "grid_area": null,
            "grid_auto_columns": null,
            "grid_auto_flow": null,
            "grid_auto_rows": null,
            "grid_column": null,
            "grid_gap": null,
            "grid_row": null,
            "grid_template_areas": null,
            "grid_template_columns": null,
            "grid_template_rows": null,
            "height": null,
            "justify_content": null,
            "justify_items": null,
            "left": null,
            "margin": null,
            "max_height": null,
            "max_width": null,
            "min_height": null,
            "min_width": null,
            "object_fit": null,
            "object_position": null,
            "order": null,
            "overflow": null,
            "overflow_x": null,
            "overflow_y": null,
            "padding": null,
            "right": null,
            "top": null,
            "visibility": null,
            "width": null
          }
        },
        "2e68f2a5adad4ef69ee8cdaf61cb0a06": {
          "model_module": "@jupyter-widgets/base",
          "model_name": "LayoutModel",
          "model_module_version": "1.2.0",
          "state": {
            "_model_module": "@jupyter-widgets/base",
            "_model_module_version": "1.2.0",
            "_model_name": "LayoutModel",
            "_view_count": null,
            "_view_module": "@jupyter-widgets/base",
            "_view_module_version": "1.2.0",
            "_view_name": "LayoutView",
            "align_content": null,
            "align_items": null,
            "align_self": null,
            "border": null,
            "bottom": null,
            "display": null,
            "flex": null,
            "flex_flow": null,
            "grid_area": null,
            "grid_auto_columns": null,
            "grid_auto_flow": null,
            "grid_auto_rows": null,
            "grid_column": null,
            "grid_gap": null,
            "grid_row": null,
            "grid_template_areas": null,
            "grid_template_columns": null,
            "grid_template_rows": null,
            "height": null,
            "justify_content": null,
            "justify_items": null,
            "left": null,
            "margin": null,
            "max_height": null,
            "max_width": null,
            "min_height": null,
            "min_width": null,
            "object_fit": null,
            "object_position": null,
            "order": null,
            "overflow": null,
            "overflow_x": null,
            "overflow_y": null,
            "padding": null,
            "right": null,
            "top": null,
            "visibility": null,
            "width": null
          }
        },
        "a4df019159f84b0ba87831277bb43629": {
          "model_module": "@jupyter-widgets/controls",
          "model_name": "DescriptionStyleModel",
          "model_module_version": "1.5.0",
          "state": {
            "_model_module": "@jupyter-widgets/controls",
            "_model_module_version": "1.5.0",
            "_model_name": "DescriptionStyleModel",
            "_view_count": null,
            "_view_module": "@jupyter-widgets/base",
            "_view_module_version": "1.2.0",
            "_view_name": "StyleView",
            "description_width": ""
          }
        },
        "e055d1d1519b45b0a736e14143ebb401": {
          "model_module": "@jupyter-widgets/base",
          "model_name": "LayoutModel",
          "model_module_version": "1.2.0",
          "state": {
            "_model_module": "@jupyter-widgets/base",
            "_model_module_version": "1.2.0",
            "_model_name": "LayoutModel",
            "_view_count": null,
            "_view_module": "@jupyter-widgets/base",
            "_view_module_version": "1.2.0",
            "_view_name": "LayoutView",
            "align_content": null,
            "align_items": null,
            "align_self": null,
            "border": null,
            "bottom": null,
            "display": null,
            "flex": null,
            "flex_flow": null,
            "grid_area": null,
            "grid_auto_columns": null,
            "grid_auto_flow": null,
            "grid_auto_rows": null,
            "grid_column": null,
            "grid_gap": null,
            "grid_row": null,
            "grid_template_areas": null,
            "grid_template_columns": null,
            "grid_template_rows": null,
            "height": null,
            "justify_content": null,
            "justify_items": null,
            "left": null,
            "margin": null,
            "max_height": null,
            "max_width": null,
            "min_height": null,
            "min_width": null,
            "object_fit": null,
            "object_position": null,
            "order": null,
            "overflow": null,
            "overflow_x": null,
            "overflow_y": null,
            "padding": null,
            "right": null,
            "top": null,
            "visibility": null,
            "width": null
          }
        },
        "a05606ea94c744de9831041e0a7245f6": {
          "model_module": "@jupyter-widgets/controls",
          "model_name": "ProgressStyleModel",
          "model_module_version": "1.5.0",
          "state": {
            "_model_module": "@jupyter-widgets/controls",
            "_model_module_version": "1.5.0",
            "_model_name": "ProgressStyleModel",
            "_view_count": null,
            "_view_module": "@jupyter-widgets/base",
            "_view_module_version": "1.2.0",
            "_view_name": "StyleView",
            "bar_color": null,
            "description_width": ""
          }
        },
        "1e2ffb9bde38421bb133ff546c0c068c": {
          "model_module": "@jupyter-widgets/base",
          "model_name": "LayoutModel",
          "model_module_version": "1.2.0",
          "state": {
            "_model_module": "@jupyter-widgets/base",
            "_model_module_version": "1.2.0",
            "_model_name": "LayoutModel",
            "_view_count": null,
            "_view_module": "@jupyter-widgets/base",
            "_view_module_version": "1.2.0",
            "_view_name": "LayoutView",
            "align_content": null,
            "align_items": null,
            "align_self": null,
            "border": null,
            "bottom": null,
            "display": null,
            "flex": null,
            "flex_flow": null,
            "grid_area": null,
            "grid_auto_columns": null,
            "grid_auto_flow": null,
            "grid_auto_rows": null,
            "grid_column": null,
            "grid_gap": null,
            "grid_row": null,
            "grid_template_areas": null,
            "grid_template_columns": null,
            "grid_template_rows": null,
            "height": null,
            "justify_content": null,
            "justify_items": null,
            "left": null,
            "margin": null,
            "max_height": null,
            "max_width": null,
            "min_height": null,
            "min_width": null,
            "object_fit": null,
            "object_position": null,
            "order": null,
            "overflow": null,
            "overflow_x": null,
            "overflow_y": null,
            "padding": null,
            "right": null,
            "top": null,
            "visibility": null,
            "width": null
          }
        },
        "06fdeff6d8f342dd87ac72cd0afe490d": {
          "model_module": "@jupyter-widgets/controls",
          "model_name": "DescriptionStyleModel",
          "model_module_version": "1.5.0",
          "state": {
            "_model_module": "@jupyter-widgets/controls",
            "_model_module_version": "1.5.0",
            "_model_name": "DescriptionStyleModel",
            "_view_count": null,
            "_view_module": "@jupyter-widgets/base",
            "_view_module_version": "1.2.0",
            "_view_name": "StyleView",
            "description_width": ""
          }
        },
        "11d7794cba63495ba868008116cd04fa": {
          "model_module": "@jupyter-widgets/controls",
          "model_name": "HBoxModel",
          "model_module_version": "1.5.0",
          "state": {
            "_dom_classes": [],
            "_model_module": "@jupyter-widgets/controls",
            "_model_module_version": "1.5.0",
            "_model_name": "HBoxModel",
            "_view_count": null,
            "_view_module": "@jupyter-widgets/controls",
            "_view_module_version": "1.5.0",
            "_view_name": "HBoxView",
            "box_style": "",
            "children": [
              "IPY_MODEL_1bd1ec06e60d49459c0509a9c92a207e",
              "IPY_MODEL_0b1ef901794b4b819e27dc734e27832a",
              "IPY_MODEL_9ba21226f59444b5887b2ca31925949f"
            ],
            "layout": "IPY_MODEL_50adb02524f74c198e9ee7c7a1c130d5"
          }
        },
        "1bd1ec06e60d49459c0509a9c92a207e": {
          "model_module": "@jupyter-widgets/controls",
          "model_name": "HTMLModel",
          "model_module_version": "1.5.0",
          "state": {
            "_dom_classes": [],
            "_model_module": "@jupyter-widgets/controls",
            "_model_module_version": "1.5.0",
            "_model_name": "HTMLModel",
            "_view_count": null,
            "_view_module": "@jupyter-widgets/controls",
            "_view_module_version": "1.5.0",
            "_view_name": "HTMLView",
            "description": "",
            "description_tooltip": null,
            "layout": "IPY_MODEL_5193d6b0eaeb4371b6b5a2117e43b511",
            "placeholder": "​",
            "style": "IPY_MODEL_073870febb2644ecb35b28253fc6b710",
            "value": "100%"
          }
        },
        "0b1ef901794b4b819e27dc734e27832a": {
          "model_module": "@jupyter-widgets/controls",
          "model_name": "FloatProgressModel",
          "model_module_version": "1.5.0",
          "state": {
            "_dom_classes": [],
            "_model_module": "@jupyter-widgets/controls",
            "_model_module_version": "1.5.0",
            "_model_name": "FloatProgressModel",
            "_view_count": null,
            "_view_module": "@jupyter-widgets/controls",
            "_view_module_version": "1.5.0",
            "_view_name": "ProgressView",
            "bar_style": "success",
            "description": "",
            "description_tooltip": null,
            "layout": "IPY_MODEL_cd35a71120aa4c37a86103401fd000c8",
            "max": 1000000,
            "min": 0,
            "orientation": "horizontal",
            "style": "IPY_MODEL_d7679402ed17480788bda0db23d8ed1d",
            "value": 1000000
          }
        },
        "9ba21226f59444b5887b2ca31925949f": {
          "model_module": "@jupyter-widgets/controls",
          "model_name": "HTMLModel",
          "model_module_version": "1.5.0",
          "state": {
            "_dom_classes": [],
            "_model_module": "@jupyter-widgets/controls",
            "_model_module_version": "1.5.0",
            "_model_name": "HTMLModel",
            "_view_count": null,
            "_view_module": "@jupyter-widgets/controls",
            "_view_module_version": "1.5.0",
            "_view_name": "HTMLView",
            "description": "",
            "description_tooltip": null,
            "layout": "IPY_MODEL_7168560e054946e0b6b72f333c7e7086",
            "placeholder": "​",
            "style": "IPY_MODEL_2c7f76c0d731460398643a2ec1bbf160",
            "value": " 1000000/1000000 [00:26&lt;00:00, 36329.23it/s]"
          }
        },
        "50adb02524f74c198e9ee7c7a1c130d5": {
          "model_module": "@jupyter-widgets/base",
          "model_name": "LayoutModel",
          "model_module_version": "1.2.0",
          "state": {
            "_model_module": "@jupyter-widgets/base",
            "_model_module_version": "1.2.0",
            "_model_name": "LayoutModel",
            "_view_count": null,
            "_view_module": "@jupyter-widgets/base",
            "_view_module_version": "1.2.0",
            "_view_name": "LayoutView",
            "align_content": null,
            "align_items": null,
            "align_self": null,
            "border": null,
            "bottom": null,
            "display": null,
            "flex": null,
            "flex_flow": null,
            "grid_area": null,
            "grid_auto_columns": null,
            "grid_auto_flow": null,
            "grid_auto_rows": null,
            "grid_column": null,
            "grid_gap": null,
            "grid_row": null,
            "grid_template_areas": null,
            "grid_template_columns": null,
            "grid_template_rows": null,
            "height": null,
            "justify_content": null,
            "justify_items": null,
            "left": null,
            "margin": null,
            "max_height": null,
            "max_width": null,
            "min_height": null,
            "min_width": null,
            "object_fit": null,
            "object_position": null,
            "order": null,
            "overflow": null,
            "overflow_x": null,
            "overflow_y": null,
            "padding": null,
            "right": null,
            "top": null,
            "visibility": null,
            "width": null
          }
        },
        "5193d6b0eaeb4371b6b5a2117e43b511": {
          "model_module": "@jupyter-widgets/base",
          "model_name": "LayoutModel",
          "model_module_version": "1.2.0",
          "state": {
            "_model_module": "@jupyter-widgets/base",
            "_model_module_version": "1.2.0",
            "_model_name": "LayoutModel",
            "_view_count": null,
            "_view_module": "@jupyter-widgets/base",
            "_view_module_version": "1.2.0",
            "_view_name": "LayoutView",
            "align_content": null,
            "align_items": null,
            "align_self": null,
            "border": null,
            "bottom": null,
            "display": null,
            "flex": null,
            "flex_flow": null,
            "grid_area": null,
            "grid_auto_columns": null,
            "grid_auto_flow": null,
            "grid_auto_rows": null,
            "grid_column": null,
            "grid_gap": null,
            "grid_row": null,
            "grid_template_areas": null,
            "grid_template_columns": null,
            "grid_template_rows": null,
            "height": null,
            "justify_content": null,
            "justify_items": null,
            "left": null,
            "margin": null,
            "max_height": null,
            "max_width": null,
            "min_height": null,
            "min_width": null,
            "object_fit": null,
            "object_position": null,
            "order": null,
            "overflow": null,
            "overflow_x": null,
            "overflow_y": null,
            "padding": null,
            "right": null,
            "top": null,
            "visibility": null,
            "width": null
          }
        },
        "073870febb2644ecb35b28253fc6b710": {
          "model_module": "@jupyter-widgets/controls",
          "model_name": "DescriptionStyleModel",
          "model_module_version": "1.5.0",
          "state": {
            "_model_module": "@jupyter-widgets/controls",
            "_model_module_version": "1.5.0",
            "_model_name": "DescriptionStyleModel",
            "_view_count": null,
            "_view_module": "@jupyter-widgets/base",
            "_view_module_version": "1.2.0",
            "_view_name": "StyleView",
            "description_width": ""
          }
        },
        "cd35a71120aa4c37a86103401fd000c8": {
          "model_module": "@jupyter-widgets/base",
          "model_name": "LayoutModel",
          "model_module_version": "1.2.0",
          "state": {
            "_model_module": "@jupyter-widgets/base",
            "_model_module_version": "1.2.0",
            "_model_name": "LayoutModel",
            "_view_count": null,
            "_view_module": "@jupyter-widgets/base",
            "_view_module_version": "1.2.0",
            "_view_name": "LayoutView",
            "align_content": null,
            "align_items": null,
            "align_self": null,
            "border": null,
            "bottom": null,
            "display": null,
            "flex": null,
            "flex_flow": null,
            "grid_area": null,
            "grid_auto_columns": null,
            "grid_auto_flow": null,
            "grid_auto_rows": null,
            "grid_column": null,
            "grid_gap": null,
            "grid_row": null,
            "grid_template_areas": null,
            "grid_template_columns": null,
            "grid_template_rows": null,
            "height": null,
            "justify_content": null,
            "justify_items": null,
            "left": null,
            "margin": null,
            "max_height": null,
            "max_width": null,
            "min_height": null,
            "min_width": null,
            "object_fit": null,
            "object_position": null,
            "order": null,
            "overflow": null,
            "overflow_x": null,
            "overflow_y": null,
            "padding": null,
            "right": null,
            "top": null,
            "visibility": null,
            "width": null
          }
        },
        "d7679402ed17480788bda0db23d8ed1d": {
          "model_module": "@jupyter-widgets/controls",
          "model_name": "ProgressStyleModel",
          "model_module_version": "1.5.0",
          "state": {
            "_model_module": "@jupyter-widgets/controls",
            "_model_module_version": "1.5.0",
            "_model_name": "ProgressStyleModel",
            "_view_count": null,
            "_view_module": "@jupyter-widgets/base",
            "_view_module_version": "1.2.0",
            "_view_name": "StyleView",
            "bar_color": null,
            "description_width": ""
          }
        },
        "7168560e054946e0b6b72f333c7e7086": {
          "model_module": "@jupyter-widgets/base",
          "model_name": "LayoutModel",
          "model_module_version": "1.2.0",
          "state": {
            "_model_module": "@jupyter-widgets/base",
            "_model_module_version": "1.2.0",
            "_model_name": "LayoutModel",
            "_view_count": null,
            "_view_module": "@jupyter-widgets/base",
            "_view_module_version": "1.2.0",
            "_view_name": "LayoutView",
            "align_content": null,
            "align_items": null,
            "align_self": null,
            "border": null,
            "bottom": null,
            "display": null,
            "flex": null,
            "flex_flow": null,
            "grid_area": null,
            "grid_auto_columns": null,
            "grid_auto_flow": null,
            "grid_auto_rows": null,
            "grid_column": null,
            "grid_gap": null,
            "grid_row": null,
            "grid_template_areas": null,
            "grid_template_columns": null,
            "grid_template_rows": null,
            "height": null,
            "justify_content": null,
            "justify_items": null,
            "left": null,
            "margin": null,
            "max_height": null,
            "max_width": null,
            "min_height": null,
            "min_width": null,
            "object_fit": null,
            "object_position": null,
            "order": null,
            "overflow": null,
            "overflow_x": null,
            "overflow_y": null,
            "padding": null,
            "right": null,
            "top": null,
            "visibility": null,
            "width": null
          }
        },
        "2c7f76c0d731460398643a2ec1bbf160": {
          "model_module": "@jupyter-widgets/controls",
          "model_name": "DescriptionStyleModel",
          "model_module_version": "1.5.0",
          "state": {
            "_model_module": "@jupyter-widgets/controls",
            "_model_module_version": "1.5.0",
            "_model_name": "DescriptionStyleModel",
            "_view_count": null,
            "_view_module": "@jupyter-widgets/base",
            "_view_module_version": "1.2.0",
            "_view_name": "StyleView",
            "description_width": ""
          }
        },
        "6c922c37b75b42669a08c1a5a926004c": {
          "model_module": "@jupyter-widgets/controls",
          "model_name": "HBoxModel",
          "model_module_version": "1.5.0",
          "state": {
            "_dom_classes": [],
            "_model_module": "@jupyter-widgets/controls",
            "_model_module_version": "1.5.0",
            "_model_name": "HBoxModel",
            "_view_count": null,
            "_view_module": "@jupyter-widgets/controls",
            "_view_module_version": "1.5.0",
            "_view_name": "HBoxView",
            "box_style": "",
            "children": [
              "IPY_MODEL_e9ba4052173a42ca893292f60f928107",
              "IPY_MODEL_de1d0f1029c84258b5219538ab349f1d",
              "IPY_MODEL_63bf172c925c448f90d47b2ca2eb591e"
            ],
            "layout": "IPY_MODEL_1f774a53fc5b47bdab4fa1bea3f8cf0a"
          }
        },
        "e9ba4052173a42ca893292f60f928107": {
          "model_module": "@jupyter-widgets/controls",
          "model_name": "HTMLModel",
          "model_module_version": "1.5.0",
          "state": {
            "_dom_classes": [],
            "_model_module": "@jupyter-widgets/controls",
            "_model_module_version": "1.5.0",
            "_model_name": "HTMLModel",
            "_view_count": null,
            "_view_module": "@jupyter-widgets/controls",
            "_view_module_version": "1.5.0",
            "_view_name": "HTMLView",
            "description": "",
            "description_tooltip": null,
            "layout": "IPY_MODEL_364398c0597f4e7896c474334673066a",
            "placeholder": "​",
            "style": "IPY_MODEL_899d224bf94c43deb8b2b78dcb88369e",
            "value": "100%"
          }
        },
        "de1d0f1029c84258b5219538ab349f1d": {
          "model_module": "@jupyter-widgets/controls",
          "model_name": "FloatProgressModel",
          "model_module_version": "1.5.0",
          "state": {
            "_dom_classes": [],
            "_model_module": "@jupyter-widgets/controls",
            "_model_module_version": "1.5.0",
            "_model_name": "FloatProgressModel",
            "_view_count": null,
            "_view_module": "@jupyter-widgets/controls",
            "_view_module_version": "1.5.0",
            "_view_name": "ProgressView",
            "bar_style": "success",
            "description": "",
            "description_tooltip": null,
            "layout": "IPY_MODEL_733e10f6635646948f8010887d47c57c",
            "max": 1000000,
            "min": 0,
            "orientation": "horizontal",
            "style": "IPY_MODEL_75270b61c5524709a40b8ac28fe5db82",
            "value": 1000000
          }
        },
        "63bf172c925c448f90d47b2ca2eb591e": {
          "model_module": "@jupyter-widgets/controls",
          "model_name": "HTMLModel",
          "model_module_version": "1.5.0",
          "state": {
            "_dom_classes": [],
            "_model_module": "@jupyter-widgets/controls",
            "_model_module_version": "1.5.0",
            "_model_name": "HTMLModel",
            "_view_count": null,
            "_view_module": "@jupyter-widgets/controls",
            "_view_module_version": "1.5.0",
            "_view_name": "HTMLView",
            "description": "",
            "description_tooltip": null,
            "layout": "IPY_MODEL_9181e831fa3845a2ad70f101e6d875f8",
            "placeholder": "​",
            "style": "IPY_MODEL_2ba86fb95109426e88e7e19e4bd7a004",
            "value": " 1000000/1000000 [02:12&lt;00:00, 6850.38it/s]"
          }
        },
        "1f774a53fc5b47bdab4fa1bea3f8cf0a": {
          "model_module": "@jupyter-widgets/base",
          "model_name": "LayoutModel",
          "model_module_version": "1.2.0",
          "state": {
            "_model_module": "@jupyter-widgets/base",
            "_model_module_version": "1.2.0",
            "_model_name": "LayoutModel",
            "_view_count": null,
            "_view_module": "@jupyter-widgets/base",
            "_view_module_version": "1.2.0",
            "_view_name": "LayoutView",
            "align_content": null,
            "align_items": null,
            "align_self": null,
            "border": null,
            "bottom": null,
            "display": null,
            "flex": null,
            "flex_flow": null,
            "grid_area": null,
            "grid_auto_columns": null,
            "grid_auto_flow": null,
            "grid_auto_rows": null,
            "grid_column": null,
            "grid_gap": null,
            "grid_row": null,
            "grid_template_areas": null,
            "grid_template_columns": null,
            "grid_template_rows": null,
            "height": null,
            "justify_content": null,
            "justify_items": null,
            "left": null,
            "margin": null,
            "max_height": null,
            "max_width": null,
            "min_height": null,
            "min_width": null,
            "object_fit": null,
            "object_position": null,
            "order": null,
            "overflow": null,
            "overflow_x": null,
            "overflow_y": null,
            "padding": null,
            "right": null,
            "top": null,
            "visibility": null,
            "width": null
          }
        },
        "364398c0597f4e7896c474334673066a": {
          "model_module": "@jupyter-widgets/base",
          "model_name": "LayoutModel",
          "model_module_version": "1.2.0",
          "state": {
            "_model_module": "@jupyter-widgets/base",
            "_model_module_version": "1.2.0",
            "_model_name": "LayoutModel",
            "_view_count": null,
            "_view_module": "@jupyter-widgets/base",
            "_view_module_version": "1.2.0",
            "_view_name": "LayoutView",
            "align_content": null,
            "align_items": null,
            "align_self": null,
            "border": null,
            "bottom": null,
            "display": null,
            "flex": null,
            "flex_flow": null,
            "grid_area": null,
            "grid_auto_columns": null,
            "grid_auto_flow": null,
            "grid_auto_rows": null,
            "grid_column": null,
            "grid_gap": null,
            "grid_row": null,
            "grid_template_areas": null,
            "grid_template_columns": null,
            "grid_template_rows": null,
            "height": null,
            "justify_content": null,
            "justify_items": null,
            "left": null,
            "margin": null,
            "max_height": null,
            "max_width": null,
            "min_height": null,
            "min_width": null,
            "object_fit": null,
            "object_position": null,
            "order": null,
            "overflow": null,
            "overflow_x": null,
            "overflow_y": null,
            "padding": null,
            "right": null,
            "top": null,
            "visibility": null,
            "width": null
          }
        },
        "899d224bf94c43deb8b2b78dcb88369e": {
          "model_module": "@jupyter-widgets/controls",
          "model_name": "DescriptionStyleModel",
          "model_module_version": "1.5.0",
          "state": {
            "_model_module": "@jupyter-widgets/controls",
            "_model_module_version": "1.5.0",
            "_model_name": "DescriptionStyleModel",
            "_view_count": null,
            "_view_module": "@jupyter-widgets/base",
            "_view_module_version": "1.2.0",
            "_view_name": "StyleView",
            "description_width": ""
          }
        },
        "733e10f6635646948f8010887d47c57c": {
          "model_module": "@jupyter-widgets/base",
          "model_name": "LayoutModel",
          "model_module_version": "1.2.0",
          "state": {
            "_model_module": "@jupyter-widgets/base",
            "_model_module_version": "1.2.0",
            "_model_name": "LayoutModel",
            "_view_count": null,
            "_view_module": "@jupyter-widgets/base",
            "_view_module_version": "1.2.0",
            "_view_name": "LayoutView",
            "align_content": null,
            "align_items": null,
            "align_self": null,
            "border": null,
            "bottom": null,
            "display": null,
            "flex": null,
            "flex_flow": null,
            "grid_area": null,
            "grid_auto_columns": null,
            "grid_auto_flow": null,
            "grid_auto_rows": null,
            "grid_column": null,
            "grid_gap": null,
            "grid_row": null,
            "grid_template_areas": null,
            "grid_template_columns": null,
            "grid_template_rows": null,
            "height": null,
            "justify_content": null,
            "justify_items": null,
            "left": null,
            "margin": null,
            "max_height": null,
            "max_width": null,
            "min_height": null,
            "min_width": null,
            "object_fit": null,
            "object_position": null,
            "order": null,
            "overflow": null,
            "overflow_x": null,
            "overflow_y": null,
            "padding": null,
            "right": null,
            "top": null,
            "visibility": null,
            "width": null
          }
        },
        "75270b61c5524709a40b8ac28fe5db82": {
          "model_module": "@jupyter-widgets/controls",
          "model_name": "ProgressStyleModel",
          "model_module_version": "1.5.0",
          "state": {
            "_model_module": "@jupyter-widgets/controls",
            "_model_module_version": "1.5.0",
            "_model_name": "ProgressStyleModel",
            "_view_count": null,
            "_view_module": "@jupyter-widgets/base",
            "_view_module_version": "1.2.0",
            "_view_name": "StyleView",
            "bar_color": null,
            "description_width": ""
          }
        },
        "9181e831fa3845a2ad70f101e6d875f8": {
          "model_module": "@jupyter-widgets/base",
          "model_name": "LayoutModel",
          "model_module_version": "1.2.0",
          "state": {
            "_model_module": "@jupyter-widgets/base",
            "_model_module_version": "1.2.0",
            "_model_name": "LayoutModel",
            "_view_count": null,
            "_view_module": "@jupyter-widgets/base",
            "_view_module_version": "1.2.0",
            "_view_name": "LayoutView",
            "align_content": null,
            "align_items": null,
            "align_self": null,
            "border": null,
            "bottom": null,
            "display": null,
            "flex": null,
            "flex_flow": null,
            "grid_area": null,
            "grid_auto_columns": null,
            "grid_auto_flow": null,
            "grid_auto_rows": null,
            "grid_column": null,
            "grid_gap": null,
            "grid_row": null,
            "grid_template_areas": null,
            "grid_template_columns": null,
            "grid_template_rows": null,
            "height": null,
            "justify_content": null,
            "justify_items": null,
            "left": null,
            "margin": null,
            "max_height": null,
            "max_width": null,
            "min_height": null,
            "min_width": null,
            "object_fit": null,
            "object_position": null,
            "order": null,
            "overflow": null,
            "overflow_x": null,
            "overflow_y": null,
            "padding": null,
            "right": null,
            "top": null,
            "visibility": null,
            "width": null
          }
        },
        "2ba86fb95109426e88e7e19e4bd7a004": {
          "model_module": "@jupyter-widgets/controls",
          "model_name": "DescriptionStyleModel",
          "model_module_version": "1.5.0",
          "state": {
            "_model_module": "@jupyter-widgets/controls",
            "_model_module_version": "1.5.0",
            "_model_name": "DescriptionStyleModel",
            "_view_count": null,
            "_view_module": "@jupyter-widgets/base",
            "_view_module_version": "1.2.0",
            "_view_name": "StyleView",
            "description_width": ""
          }
        },
        "61de08caf64a43b6bfa363fe9cc02f3c": {
          "model_module": "@jupyter-widgets/controls",
          "model_name": "HBoxModel",
          "model_module_version": "1.5.0",
          "state": {
            "_dom_classes": [],
            "_model_module": "@jupyter-widgets/controls",
            "_model_module_version": "1.5.0",
            "_model_name": "HBoxModel",
            "_view_count": null,
            "_view_module": "@jupyter-widgets/controls",
            "_view_module_version": "1.5.0",
            "_view_name": "HBoxView",
            "box_style": "",
            "children": [
              "IPY_MODEL_b710af75ad5a4a8e9c2dd760bee73607",
              "IPY_MODEL_11386ea10e304cdfb74bb5e129a9758b",
              "IPY_MODEL_4e9d2a92556f40e0b6f0fd5c9fb61ed3"
            ],
            "layout": "IPY_MODEL_a06cee54c7fd4aa5a2d30980d2d0c74c"
          }
        },
        "b710af75ad5a4a8e9c2dd760bee73607": {
          "model_module": "@jupyter-widgets/controls",
          "model_name": "HTMLModel",
          "model_module_version": "1.5.0",
          "state": {
            "_dom_classes": [],
            "_model_module": "@jupyter-widgets/controls",
            "_model_module_version": "1.5.0",
            "_model_name": "HTMLModel",
            "_view_count": null,
            "_view_module": "@jupyter-widgets/controls",
            "_view_module_version": "1.5.0",
            "_view_name": "HTMLView",
            "description": "",
            "description_tooltip": null,
            "layout": "IPY_MODEL_5cfe2e66647d4fadaf63fe7db5ebb7cc",
            "placeholder": "​",
            "style": "IPY_MODEL_80245143f5464871a05f253ff494ef2b",
            "value": "100%"
          }
        },
        "11386ea10e304cdfb74bb5e129a9758b": {
          "model_module": "@jupyter-widgets/controls",
          "model_name": "FloatProgressModel",
          "model_module_version": "1.5.0",
          "state": {
            "_dom_classes": [],
            "_model_module": "@jupyter-widgets/controls",
            "_model_module_version": "1.5.0",
            "_model_name": "FloatProgressModel",
            "_view_count": null,
            "_view_module": "@jupyter-widgets/controls",
            "_view_module_version": "1.5.0",
            "_view_name": "ProgressView",
            "bar_style": "success",
            "description": "",
            "description_tooltip": null,
            "layout": "IPY_MODEL_d1bc5e2e6ddc4009bd0f8b1c82963fd9",
            "max": 50000,
            "min": 0,
            "orientation": "horizontal",
            "style": "IPY_MODEL_eb38b6afc36b4f8b8194c89b341d7bac",
            "value": 50000
          }
        },
        "4e9d2a92556f40e0b6f0fd5c9fb61ed3": {
          "model_module": "@jupyter-widgets/controls",
          "model_name": "HTMLModel",
          "model_module_version": "1.5.0",
          "state": {
            "_dom_classes": [],
            "_model_module": "@jupyter-widgets/controls",
            "_model_module_version": "1.5.0",
            "_model_name": "HTMLModel",
            "_view_count": null,
            "_view_module": "@jupyter-widgets/controls",
            "_view_module_version": "1.5.0",
            "_view_name": "HTMLView",
            "description": "",
            "description_tooltip": null,
            "layout": "IPY_MODEL_ed50d156cdc6436b8c3142102fc559c7",
            "placeholder": "​",
            "style": "IPY_MODEL_eba71dd63c55441e9fc63ff2ea7a87b2",
            "value": " 50000/50000 [00:01&lt;00:00, 40812.06it/s]"
          }
        },
        "a06cee54c7fd4aa5a2d30980d2d0c74c": {
          "model_module": "@jupyter-widgets/base",
          "model_name": "LayoutModel",
          "model_module_version": "1.2.0",
          "state": {
            "_model_module": "@jupyter-widgets/base",
            "_model_module_version": "1.2.0",
            "_model_name": "LayoutModel",
            "_view_count": null,
            "_view_module": "@jupyter-widgets/base",
            "_view_module_version": "1.2.0",
            "_view_name": "LayoutView",
            "align_content": null,
            "align_items": null,
            "align_self": null,
            "border": null,
            "bottom": null,
            "display": null,
            "flex": null,
            "flex_flow": null,
            "grid_area": null,
            "grid_auto_columns": null,
            "grid_auto_flow": null,
            "grid_auto_rows": null,
            "grid_column": null,
            "grid_gap": null,
            "grid_row": null,
            "grid_template_areas": null,
            "grid_template_columns": null,
            "grid_template_rows": null,
            "height": null,
            "justify_content": null,
            "justify_items": null,
            "left": null,
            "margin": null,
            "max_height": null,
            "max_width": null,
            "min_height": null,
            "min_width": null,
            "object_fit": null,
            "object_position": null,
            "order": null,
            "overflow": null,
            "overflow_x": null,
            "overflow_y": null,
            "padding": null,
            "right": null,
            "top": null,
            "visibility": null,
            "width": null
          }
        },
        "5cfe2e66647d4fadaf63fe7db5ebb7cc": {
          "model_module": "@jupyter-widgets/base",
          "model_name": "LayoutModel",
          "model_module_version": "1.2.0",
          "state": {
            "_model_module": "@jupyter-widgets/base",
            "_model_module_version": "1.2.0",
            "_model_name": "LayoutModel",
            "_view_count": null,
            "_view_module": "@jupyter-widgets/base",
            "_view_module_version": "1.2.0",
            "_view_name": "LayoutView",
            "align_content": null,
            "align_items": null,
            "align_self": null,
            "border": null,
            "bottom": null,
            "display": null,
            "flex": null,
            "flex_flow": null,
            "grid_area": null,
            "grid_auto_columns": null,
            "grid_auto_flow": null,
            "grid_auto_rows": null,
            "grid_column": null,
            "grid_gap": null,
            "grid_row": null,
            "grid_template_areas": null,
            "grid_template_columns": null,
            "grid_template_rows": null,
            "height": null,
            "justify_content": null,
            "justify_items": null,
            "left": null,
            "margin": null,
            "max_height": null,
            "max_width": null,
            "min_height": null,
            "min_width": null,
            "object_fit": null,
            "object_position": null,
            "order": null,
            "overflow": null,
            "overflow_x": null,
            "overflow_y": null,
            "padding": null,
            "right": null,
            "top": null,
            "visibility": null,
            "width": null
          }
        },
        "80245143f5464871a05f253ff494ef2b": {
          "model_module": "@jupyter-widgets/controls",
          "model_name": "DescriptionStyleModel",
          "model_module_version": "1.5.0",
          "state": {
            "_model_module": "@jupyter-widgets/controls",
            "_model_module_version": "1.5.0",
            "_model_name": "DescriptionStyleModel",
            "_view_count": null,
            "_view_module": "@jupyter-widgets/base",
            "_view_module_version": "1.2.0",
            "_view_name": "StyleView",
            "description_width": ""
          }
        },
        "d1bc5e2e6ddc4009bd0f8b1c82963fd9": {
          "model_module": "@jupyter-widgets/base",
          "model_name": "LayoutModel",
          "model_module_version": "1.2.0",
          "state": {
            "_model_module": "@jupyter-widgets/base",
            "_model_module_version": "1.2.0",
            "_model_name": "LayoutModel",
            "_view_count": null,
            "_view_module": "@jupyter-widgets/base",
            "_view_module_version": "1.2.0",
            "_view_name": "LayoutView",
            "align_content": null,
            "align_items": null,
            "align_self": null,
            "border": null,
            "bottom": null,
            "display": null,
            "flex": null,
            "flex_flow": null,
            "grid_area": null,
            "grid_auto_columns": null,
            "grid_auto_flow": null,
            "grid_auto_rows": null,
            "grid_column": null,
            "grid_gap": null,
            "grid_row": null,
            "grid_template_areas": null,
            "grid_template_columns": null,
            "grid_template_rows": null,
            "height": null,
            "justify_content": null,
            "justify_items": null,
            "left": null,
            "margin": null,
            "max_height": null,
            "max_width": null,
            "min_height": null,
            "min_width": null,
            "object_fit": null,
            "object_position": null,
            "order": null,
            "overflow": null,
            "overflow_x": null,
            "overflow_y": null,
            "padding": null,
            "right": null,
            "top": null,
            "visibility": null,
            "width": null
          }
        },
        "eb38b6afc36b4f8b8194c89b341d7bac": {
          "model_module": "@jupyter-widgets/controls",
          "model_name": "ProgressStyleModel",
          "model_module_version": "1.5.0",
          "state": {
            "_model_module": "@jupyter-widgets/controls",
            "_model_module_version": "1.5.0",
            "_model_name": "ProgressStyleModel",
            "_view_count": null,
            "_view_module": "@jupyter-widgets/base",
            "_view_module_version": "1.2.0",
            "_view_name": "StyleView",
            "bar_color": null,
            "description_width": ""
          }
        },
        "ed50d156cdc6436b8c3142102fc559c7": {
          "model_module": "@jupyter-widgets/base",
          "model_name": "LayoutModel",
          "model_module_version": "1.2.0",
          "state": {
            "_model_module": "@jupyter-widgets/base",
            "_model_module_version": "1.2.0",
            "_model_name": "LayoutModel",
            "_view_count": null,
            "_view_module": "@jupyter-widgets/base",
            "_view_module_version": "1.2.0",
            "_view_name": "LayoutView",
            "align_content": null,
            "align_items": null,
            "align_self": null,
            "border": null,
            "bottom": null,
            "display": null,
            "flex": null,
            "flex_flow": null,
            "grid_area": null,
            "grid_auto_columns": null,
            "grid_auto_flow": null,
            "grid_auto_rows": null,
            "grid_column": null,
            "grid_gap": null,
            "grid_row": null,
            "grid_template_areas": null,
            "grid_template_columns": null,
            "grid_template_rows": null,
            "height": null,
            "justify_content": null,
            "justify_items": null,
            "left": null,
            "margin": null,
            "max_height": null,
            "max_width": null,
            "min_height": null,
            "min_width": null,
            "object_fit": null,
            "object_position": null,
            "order": null,
            "overflow": null,
            "overflow_x": null,
            "overflow_y": null,
            "padding": null,
            "right": null,
            "top": null,
            "visibility": null,
            "width": null
          }
        },
        "eba71dd63c55441e9fc63ff2ea7a87b2": {
          "model_module": "@jupyter-widgets/controls",
          "model_name": "DescriptionStyleModel",
          "model_module_version": "1.5.0",
          "state": {
            "_model_module": "@jupyter-widgets/controls",
            "_model_module_version": "1.5.0",
            "_model_name": "DescriptionStyleModel",
            "_view_count": null,
            "_view_module": "@jupyter-widgets/base",
            "_view_module_version": "1.2.0",
            "_view_name": "StyleView",
            "description_width": ""
          }
        },
        "1994570da08c423ba4212e37f2e53aa5": {
          "model_module": "@jupyter-widgets/controls",
          "model_name": "HBoxModel",
          "model_module_version": "1.5.0",
          "state": {
            "_dom_classes": [],
            "_model_module": "@jupyter-widgets/controls",
            "_model_module_version": "1.5.0",
            "_model_name": "HBoxModel",
            "_view_count": null,
            "_view_module": "@jupyter-widgets/controls",
            "_view_module_version": "1.5.0",
            "_view_name": "HBoxView",
            "box_style": "",
            "children": [
              "IPY_MODEL_16aabf2d913d4b858fa405c628d094b4",
              "IPY_MODEL_3a388381c38544d0bc443971260cc011",
              "IPY_MODEL_9a2af7aee8514d4bbd25727b1e60a6df"
            ],
            "layout": "IPY_MODEL_65176aaea53b417c89e2437943d02b61"
          }
        },
        "16aabf2d913d4b858fa405c628d094b4": {
          "model_module": "@jupyter-widgets/controls",
          "model_name": "HTMLModel",
          "model_module_version": "1.5.0",
          "state": {
            "_dom_classes": [],
            "_model_module": "@jupyter-widgets/controls",
            "_model_module_version": "1.5.0",
            "_model_name": "HTMLModel",
            "_view_count": null,
            "_view_module": "@jupyter-widgets/controls",
            "_view_module_version": "1.5.0",
            "_view_name": "HTMLView",
            "description": "",
            "description_tooltip": null,
            "layout": "IPY_MODEL_47c6e041c8564aa0b0df78eda729d7a9",
            "placeholder": "​",
            "style": "IPY_MODEL_98f84a230ca842a488fed88257704e54",
            "value": "100%"
          }
        },
        "3a388381c38544d0bc443971260cc011": {
          "model_module": "@jupyter-widgets/controls",
          "model_name": "FloatProgressModel",
          "model_module_version": "1.5.0",
          "state": {
            "_dom_classes": [],
            "_model_module": "@jupyter-widgets/controls",
            "_model_module_version": "1.5.0",
            "_model_name": "FloatProgressModel",
            "_view_count": null,
            "_view_module": "@jupyter-widgets/controls",
            "_view_module_version": "1.5.0",
            "_view_name": "ProgressView",
            "bar_style": "success",
            "description": "",
            "description_tooltip": null,
            "layout": "IPY_MODEL_9503d8f3d2d744208266441846d24275",
            "max": 50000,
            "min": 0,
            "orientation": "horizontal",
            "style": "IPY_MODEL_ed85c604d66c44a4b0e732b43681ccd9",
            "value": 50000
          }
        },
        "9a2af7aee8514d4bbd25727b1e60a6df": {
          "model_module": "@jupyter-widgets/controls",
          "model_name": "HTMLModel",
          "model_module_version": "1.5.0",
          "state": {
            "_dom_classes": [],
            "_model_module": "@jupyter-widgets/controls",
            "_model_module_version": "1.5.0",
            "_model_name": "HTMLModel",
            "_view_count": null,
            "_view_module": "@jupyter-widgets/controls",
            "_view_module_version": "1.5.0",
            "_view_name": "HTMLView",
            "description": "",
            "description_tooltip": null,
            "layout": "IPY_MODEL_54d85d246db04a9eb2651f9759950b72",
            "placeholder": "​",
            "style": "IPY_MODEL_a2845b9e35a34bc0a182f9afd74a8053",
            "value": " 50000/50000 [00:06&lt;00:00, 8029.47it/s]"
          }
        },
        "65176aaea53b417c89e2437943d02b61": {
          "model_module": "@jupyter-widgets/base",
          "model_name": "LayoutModel",
          "model_module_version": "1.2.0",
          "state": {
            "_model_module": "@jupyter-widgets/base",
            "_model_module_version": "1.2.0",
            "_model_name": "LayoutModel",
            "_view_count": null,
            "_view_module": "@jupyter-widgets/base",
            "_view_module_version": "1.2.0",
            "_view_name": "LayoutView",
            "align_content": null,
            "align_items": null,
            "align_self": null,
            "border": null,
            "bottom": null,
            "display": null,
            "flex": null,
            "flex_flow": null,
            "grid_area": null,
            "grid_auto_columns": null,
            "grid_auto_flow": null,
            "grid_auto_rows": null,
            "grid_column": null,
            "grid_gap": null,
            "grid_row": null,
            "grid_template_areas": null,
            "grid_template_columns": null,
            "grid_template_rows": null,
            "height": null,
            "justify_content": null,
            "justify_items": null,
            "left": null,
            "margin": null,
            "max_height": null,
            "max_width": null,
            "min_height": null,
            "min_width": null,
            "object_fit": null,
            "object_position": null,
            "order": null,
            "overflow": null,
            "overflow_x": null,
            "overflow_y": null,
            "padding": null,
            "right": null,
            "top": null,
            "visibility": null,
            "width": null
          }
        },
        "47c6e041c8564aa0b0df78eda729d7a9": {
          "model_module": "@jupyter-widgets/base",
          "model_name": "LayoutModel",
          "model_module_version": "1.2.0",
          "state": {
            "_model_module": "@jupyter-widgets/base",
            "_model_module_version": "1.2.0",
            "_model_name": "LayoutModel",
            "_view_count": null,
            "_view_module": "@jupyter-widgets/base",
            "_view_module_version": "1.2.0",
            "_view_name": "LayoutView",
            "align_content": null,
            "align_items": null,
            "align_self": null,
            "border": null,
            "bottom": null,
            "display": null,
            "flex": null,
            "flex_flow": null,
            "grid_area": null,
            "grid_auto_columns": null,
            "grid_auto_flow": null,
            "grid_auto_rows": null,
            "grid_column": null,
            "grid_gap": null,
            "grid_row": null,
            "grid_template_areas": null,
            "grid_template_columns": null,
            "grid_template_rows": null,
            "height": null,
            "justify_content": null,
            "justify_items": null,
            "left": null,
            "margin": null,
            "max_height": null,
            "max_width": null,
            "min_height": null,
            "min_width": null,
            "object_fit": null,
            "object_position": null,
            "order": null,
            "overflow": null,
            "overflow_x": null,
            "overflow_y": null,
            "padding": null,
            "right": null,
            "top": null,
            "visibility": null,
            "width": null
          }
        },
        "98f84a230ca842a488fed88257704e54": {
          "model_module": "@jupyter-widgets/controls",
          "model_name": "DescriptionStyleModel",
          "model_module_version": "1.5.0",
          "state": {
            "_model_module": "@jupyter-widgets/controls",
            "_model_module_version": "1.5.0",
            "_model_name": "DescriptionStyleModel",
            "_view_count": null,
            "_view_module": "@jupyter-widgets/base",
            "_view_module_version": "1.2.0",
            "_view_name": "StyleView",
            "description_width": ""
          }
        },
        "9503d8f3d2d744208266441846d24275": {
          "model_module": "@jupyter-widgets/base",
          "model_name": "LayoutModel",
          "model_module_version": "1.2.0",
          "state": {
            "_model_module": "@jupyter-widgets/base",
            "_model_module_version": "1.2.0",
            "_model_name": "LayoutModel",
            "_view_count": null,
            "_view_module": "@jupyter-widgets/base",
            "_view_module_version": "1.2.0",
            "_view_name": "LayoutView",
            "align_content": null,
            "align_items": null,
            "align_self": null,
            "border": null,
            "bottom": null,
            "display": null,
            "flex": null,
            "flex_flow": null,
            "grid_area": null,
            "grid_auto_columns": null,
            "grid_auto_flow": null,
            "grid_auto_rows": null,
            "grid_column": null,
            "grid_gap": null,
            "grid_row": null,
            "grid_template_areas": null,
            "grid_template_columns": null,
            "grid_template_rows": null,
            "height": null,
            "justify_content": null,
            "justify_items": null,
            "left": null,
            "margin": null,
            "max_height": null,
            "max_width": null,
            "min_height": null,
            "min_width": null,
            "object_fit": null,
            "object_position": null,
            "order": null,
            "overflow": null,
            "overflow_x": null,
            "overflow_y": null,
            "padding": null,
            "right": null,
            "top": null,
            "visibility": null,
            "width": null
          }
        },
        "ed85c604d66c44a4b0e732b43681ccd9": {
          "model_module": "@jupyter-widgets/controls",
          "model_name": "ProgressStyleModel",
          "model_module_version": "1.5.0",
          "state": {
            "_model_module": "@jupyter-widgets/controls",
            "_model_module_version": "1.5.0",
            "_model_name": "ProgressStyleModel",
            "_view_count": null,
            "_view_module": "@jupyter-widgets/base",
            "_view_module_version": "1.2.0",
            "_view_name": "StyleView",
            "bar_color": null,
            "description_width": ""
          }
        },
        "54d85d246db04a9eb2651f9759950b72": {
          "model_module": "@jupyter-widgets/base",
          "model_name": "LayoutModel",
          "model_module_version": "1.2.0",
          "state": {
            "_model_module": "@jupyter-widgets/base",
            "_model_module_version": "1.2.0",
            "_model_name": "LayoutModel",
            "_view_count": null,
            "_view_module": "@jupyter-widgets/base",
            "_view_module_version": "1.2.0",
            "_view_name": "LayoutView",
            "align_content": null,
            "align_items": null,
            "align_self": null,
            "border": null,
            "bottom": null,
            "display": null,
            "flex": null,
            "flex_flow": null,
            "grid_area": null,
            "grid_auto_columns": null,
            "grid_auto_flow": null,
            "grid_auto_rows": null,
            "grid_column": null,
            "grid_gap": null,
            "grid_row": null,
            "grid_template_areas": null,
            "grid_template_columns": null,
            "grid_template_rows": null,
            "height": null,
            "justify_content": null,
            "justify_items": null,
            "left": null,
            "margin": null,
            "max_height": null,
            "max_width": null,
            "min_height": null,
            "min_width": null,
            "object_fit": null,
            "object_position": null,
            "order": null,
            "overflow": null,
            "overflow_x": null,
            "overflow_y": null,
            "padding": null,
            "right": null,
            "top": null,
            "visibility": null,
            "width": null
          }
        },
        "a2845b9e35a34bc0a182f9afd74a8053": {
          "model_module": "@jupyter-widgets/controls",
          "model_name": "DescriptionStyleModel",
          "model_module_version": "1.5.0",
          "state": {
            "_model_module": "@jupyter-widgets/controls",
            "_model_module_version": "1.5.0",
            "_model_name": "DescriptionStyleModel",
            "_view_count": null,
            "_view_module": "@jupyter-widgets/base",
            "_view_module_version": "1.2.0",
            "_view_name": "StyleView",
            "description_width": ""
          }
        },
        "5f9f05f6b1dc4e87880e8d9baadc00e5": {
          "model_module": "@jupyter-widgets/controls",
          "model_name": "HBoxModel",
          "model_module_version": "1.5.0",
          "state": {
            "_dom_classes": [],
            "_model_module": "@jupyter-widgets/controls",
            "_model_module_version": "1.5.0",
            "_model_name": "HBoxModel",
            "_view_count": null,
            "_view_module": "@jupyter-widgets/controls",
            "_view_module_version": "1.5.0",
            "_view_name": "HBoxView",
            "box_style": "",
            "children": [
              "IPY_MODEL_24daeee333a9480cbc87ba826f337e26",
              "IPY_MODEL_81ce69df6eef41e7bdeaf16df5a23e35",
              "IPY_MODEL_a286b72370294ac2ab652b09c3d35b1b"
            ],
            "layout": "IPY_MODEL_0eca94219392485dbb7ae90797fc21f6"
          }
        },
        "24daeee333a9480cbc87ba826f337e26": {
          "model_module": "@jupyter-widgets/controls",
          "model_name": "HTMLModel",
          "model_module_version": "1.5.0",
          "state": {
            "_dom_classes": [],
            "_model_module": "@jupyter-widgets/controls",
            "_model_module_version": "1.5.0",
            "_model_name": "HTMLModel",
            "_view_count": null,
            "_view_module": "@jupyter-widgets/controls",
            "_view_module_version": "1.5.0",
            "_view_name": "HTMLView",
            "description": "",
            "description_tooltip": null,
            "layout": "IPY_MODEL_acb797257885436cb40485861a46557d",
            "placeholder": "​",
            "style": "IPY_MODEL_2109f3ed89e44f25b03611ed978d606e",
            "value": "100%"
          }
        },
        "81ce69df6eef41e7bdeaf16df5a23e35": {
          "model_module": "@jupyter-widgets/controls",
          "model_name": "FloatProgressModel",
          "model_module_version": "1.5.0",
          "state": {
            "_dom_classes": [],
            "_model_module": "@jupyter-widgets/controls",
            "_model_module_version": "1.5.0",
            "_model_name": "FloatProgressModel",
            "_view_count": null,
            "_view_module": "@jupyter-widgets/controls",
            "_view_module_version": "1.5.0",
            "_view_name": "ProgressView",
            "bar_style": "success",
            "description": "",
            "description_tooltip": null,
            "layout": "IPY_MODEL_aa08943e9a824c869a4953c09c4e9f3e",
            "max": 50000,
            "min": 0,
            "orientation": "horizontal",
            "style": "IPY_MODEL_5d22ffe2a7b5474b931d57d850e7c3d7",
            "value": 50000
          }
        },
        "a286b72370294ac2ab652b09c3d35b1b": {
          "model_module": "@jupyter-widgets/controls",
          "model_name": "HTMLModel",
          "model_module_version": "1.5.0",
          "state": {
            "_dom_classes": [],
            "_model_module": "@jupyter-widgets/controls",
            "_model_module_version": "1.5.0",
            "_model_name": "HTMLModel",
            "_view_count": null,
            "_view_module": "@jupyter-widgets/controls",
            "_view_module_version": "1.5.0",
            "_view_name": "HTMLView",
            "description": "",
            "description_tooltip": null,
            "layout": "IPY_MODEL_8a1b810f806e4b3f82939a8156977b68",
            "placeholder": "​",
            "style": "IPY_MODEL_d64b74fb7583429b922f5c2da4fb2444",
            "value": " 50000/50000 [00:01&lt;00:00, 39000.21it/s]"
          }
        },
        "0eca94219392485dbb7ae90797fc21f6": {
          "model_module": "@jupyter-widgets/base",
          "model_name": "LayoutModel",
          "model_module_version": "1.2.0",
          "state": {
            "_model_module": "@jupyter-widgets/base",
            "_model_module_version": "1.2.0",
            "_model_name": "LayoutModel",
            "_view_count": null,
            "_view_module": "@jupyter-widgets/base",
            "_view_module_version": "1.2.0",
            "_view_name": "LayoutView",
            "align_content": null,
            "align_items": null,
            "align_self": null,
            "border": null,
            "bottom": null,
            "display": null,
            "flex": null,
            "flex_flow": null,
            "grid_area": null,
            "grid_auto_columns": null,
            "grid_auto_flow": null,
            "grid_auto_rows": null,
            "grid_column": null,
            "grid_gap": null,
            "grid_row": null,
            "grid_template_areas": null,
            "grid_template_columns": null,
            "grid_template_rows": null,
            "height": null,
            "justify_content": null,
            "justify_items": null,
            "left": null,
            "margin": null,
            "max_height": null,
            "max_width": null,
            "min_height": null,
            "min_width": null,
            "object_fit": null,
            "object_position": null,
            "order": null,
            "overflow": null,
            "overflow_x": null,
            "overflow_y": null,
            "padding": null,
            "right": null,
            "top": null,
            "visibility": null,
            "width": null
          }
        },
        "acb797257885436cb40485861a46557d": {
          "model_module": "@jupyter-widgets/base",
          "model_name": "LayoutModel",
          "model_module_version": "1.2.0",
          "state": {
            "_model_module": "@jupyter-widgets/base",
            "_model_module_version": "1.2.0",
            "_model_name": "LayoutModel",
            "_view_count": null,
            "_view_module": "@jupyter-widgets/base",
            "_view_module_version": "1.2.0",
            "_view_name": "LayoutView",
            "align_content": null,
            "align_items": null,
            "align_self": null,
            "border": null,
            "bottom": null,
            "display": null,
            "flex": null,
            "flex_flow": null,
            "grid_area": null,
            "grid_auto_columns": null,
            "grid_auto_flow": null,
            "grid_auto_rows": null,
            "grid_column": null,
            "grid_gap": null,
            "grid_row": null,
            "grid_template_areas": null,
            "grid_template_columns": null,
            "grid_template_rows": null,
            "height": null,
            "justify_content": null,
            "justify_items": null,
            "left": null,
            "margin": null,
            "max_height": null,
            "max_width": null,
            "min_height": null,
            "min_width": null,
            "object_fit": null,
            "object_position": null,
            "order": null,
            "overflow": null,
            "overflow_x": null,
            "overflow_y": null,
            "padding": null,
            "right": null,
            "top": null,
            "visibility": null,
            "width": null
          }
        },
        "2109f3ed89e44f25b03611ed978d606e": {
          "model_module": "@jupyter-widgets/controls",
          "model_name": "DescriptionStyleModel",
          "model_module_version": "1.5.0",
          "state": {
            "_model_module": "@jupyter-widgets/controls",
            "_model_module_version": "1.5.0",
            "_model_name": "DescriptionStyleModel",
            "_view_count": null,
            "_view_module": "@jupyter-widgets/base",
            "_view_module_version": "1.2.0",
            "_view_name": "StyleView",
            "description_width": ""
          }
        },
        "aa08943e9a824c869a4953c09c4e9f3e": {
          "model_module": "@jupyter-widgets/base",
          "model_name": "LayoutModel",
          "model_module_version": "1.2.0",
          "state": {
            "_model_module": "@jupyter-widgets/base",
            "_model_module_version": "1.2.0",
            "_model_name": "LayoutModel",
            "_view_count": null,
            "_view_module": "@jupyter-widgets/base",
            "_view_module_version": "1.2.0",
            "_view_name": "LayoutView",
            "align_content": null,
            "align_items": null,
            "align_self": null,
            "border": null,
            "bottom": null,
            "display": null,
            "flex": null,
            "flex_flow": null,
            "grid_area": null,
            "grid_auto_columns": null,
            "grid_auto_flow": null,
            "grid_auto_rows": null,
            "grid_column": null,
            "grid_gap": null,
            "grid_row": null,
            "grid_template_areas": null,
            "grid_template_columns": null,
            "grid_template_rows": null,
            "height": null,
            "justify_content": null,
            "justify_items": null,
            "left": null,
            "margin": null,
            "max_height": null,
            "max_width": null,
            "min_height": null,
            "min_width": null,
            "object_fit": null,
            "object_position": null,
            "order": null,
            "overflow": null,
            "overflow_x": null,
            "overflow_y": null,
            "padding": null,
            "right": null,
            "top": null,
            "visibility": null,
            "width": null
          }
        },
        "5d22ffe2a7b5474b931d57d850e7c3d7": {
          "model_module": "@jupyter-widgets/controls",
          "model_name": "ProgressStyleModel",
          "model_module_version": "1.5.0",
          "state": {
            "_model_module": "@jupyter-widgets/controls",
            "_model_module_version": "1.5.0",
            "_model_name": "ProgressStyleModel",
            "_view_count": null,
            "_view_module": "@jupyter-widgets/base",
            "_view_module_version": "1.2.0",
            "_view_name": "StyleView",
            "bar_color": null,
            "description_width": ""
          }
        },
        "8a1b810f806e4b3f82939a8156977b68": {
          "model_module": "@jupyter-widgets/base",
          "model_name": "LayoutModel",
          "model_module_version": "1.2.0",
          "state": {
            "_model_module": "@jupyter-widgets/base",
            "_model_module_version": "1.2.0",
            "_model_name": "LayoutModel",
            "_view_count": null,
            "_view_module": "@jupyter-widgets/base",
            "_view_module_version": "1.2.0",
            "_view_name": "LayoutView",
            "align_content": null,
            "align_items": null,
            "align_self": null,
            "border": null,
            "bottom": null,
            "display": null,
            "flex": null,
            "flex_flow": null,
            "grid_area": null,
            "grid_auto_columns": null,
            "grid_auto_flow": null,
            "grid_auto_rows": null,
            "grid_column": null,
            "grid_gap": null,
            "grid_row": null,
            "grid_template_areas": null,
            "grid_template_columns": null,
            "grid_template_rows": null,
            "height": null,
            "justify_content": null,
            "justify_items": null,
            "left": null,
            "margin": null,
            "max_height": null,
            "max_width": null,
            "min_height": null,
            "min_width": null,
            "object_fit": null,
            "object_position": null,
            "order": null,
            "overflow": null,
            "overflow_x": null,
            "overflow_y": null,
            "padding": null,
            "right": null,
            "top": null,
            "visibility": null,
            "width": null
          }
        },
        "d64b74fb7583429b922f5c2da4fb2444": {
          "model_module": "@jupyter-widgets/controls",
          "model_name": "DescriptionStyleModel",
          "model_module_version": "1.5.0",
          "state": {
            "_model_module": "@jupyter-widgets/controls",
            "_model_module_version": "1.5.0",
            "_model_name": "DescriptionStyleModel",
            "_view_count": null,
            "_view_module": "@jupyter-widgets/base",
            "_view_module_version": "1.2.0",
            "_view_name": "StyleView",
            "description_width": ""
          }
        },
        "79bbf30e6b424d49b4ee987f66794bfc": {
          "model_module": "@jupyter-widgets/controls",
          "model_name": "HBoxModel",
          "model_module_version": "1.5.0",
          "state": {
            "_dom_classes": [],
            "_model_module": "@jupyter-widgets/controls",
            "_model_module_version": "1.5.0",
            "_model_name": "HBoxModel",
            "_view_count": null,
            "_view_module": "@jupyter-widgets/controls",
            "_view_module_version": "1.5.0",
            "_view_name": "HBoxView",
            "box_style": "",
            "children": [
              "IPY_MODEL_3ca066a1c1db44ffb65dc7ca2556f43c",
              "IPY_MODEL_9e33d3cd66a74b4395db0658173efcf4",
              "IPY_MODEL_de86ccbb02f84342bc51785902ed40d1"
            ],
            "layout": "IPY_MODEL_75355ab8ccea487ea0eed3e5cfb41f64"
          }
        },
        "3ca066a1c1db44ffb65dc7ca2556f43c": {
          "model_module": "@jupyter-widgets/controls",
          "model_name": "HTMLModel",
          "model_module_version": "1.5.0",
          "state": {
            "_dom_classes": [],
            "_model_module": "@jupyter-widgets/controls",
            "_model_module_version": "1.5.0",
            "_model_name": "HTMLModel",
            "_view_count": null,
            "_view_module": "@jupyter-widgets/controls",
            "_view_module_version": "1.5.0",
            "_view_name": "HTMLView",
            "description": "",
            "description_tooltip": null,
            "layout": "IPY_MODEL_33702b211a7d47e9a895dc5910c8c687",
            "placeholder": "​",
            "style": "IPY_MODEL_677fdbdc570d44aeb401553e83de505f",
            "value": "100%"
          }
        },
        "9e33d3cd66a74b4395db0658173efcf4": {
          "model_module": "@jupyter-widgets/controls",
          "model_name": "FloatProgressModel",
          "model_module_version": "1.5.0",
          "state": {
            "_dom_classes": [],
            "_model_module": "@jupyter-widgets/controls",
            "_model_module_version": "1.5.0",
            "_model_name": "FloatProgressModel",
            "_view_count": null,
            "_view_module": "@jupyter-widgets/controls",
            "_view_module_version": "1.5.0",
            "_view_name": "ProgressView",
            "bar_style": "success",
            "description": "",
            "description_tooltip": null,
            "layout": "IPY_MODEL_490c5421bde2456fb26c4b9747b4547e",
            "max": 50000,
            "min": 0,
            "orientation": "horizontal",
            "style": "IPY_MODEL_d2f9a743e0744751bf558173084256fa",
            "value": 50000
          }
        },
        "de86ccbb02f84342bc51785902ed40d1": {
          "model_module": "@jupyter-widgets/controls",
          "model_name": "HTMLModel",
          "model_module_version": "1.5.0",
          "state": {
            "_dom_classes": [],
            "_model_module": "@jupyter-widgets/controls",
            "_model_module_version": "1.5.0",
            "_model_name": "HTMLModel",
            "_view_count": null,
            "_view_module": "@jupyter-widgets/controls",
            "_view_module_version": "1.5.0",
            "_view_name": "HTMLView",
            "description": "",
            "description_tooltip": null,
            "layout": "IPY_MODEL_78c0fdeddf094cc188f692fe37f4adcd",
            "placeholder": "​",
            "style": "IPY_MODEL_44327d4a09e8461ab8559c4b9fdab66d",
            "value": " 50000/50000 [00:06&lt;00:00, 7477.75it/s]"
          }
        },
        "75355ab8ccea487ea0eed3e5cfb41f64": {
          "model_module": "@jupyter-widgets/base",
          "model_name": "LayoutModel",
          "model_module_version": "1.2.0",
          "state": {
            "_model_module": "@jupyter-widgets/base",
            "_model_module_version": "1.2.0",
            "_model_name": "LayoutModel",
            "_view_count": null,
            "_view_module": "@jupyter-widgets/base",
            "_view_module_version": "1.2.0",
            "_view_name": "LayoutView",
            "align_content": null,
            "align_items": null,
            "align_self": null,
            "border": null,
            "bottom": null,
            "display": null,
            "flex": null,
            "flex_flow": null,
            "grid_area": null,
            "grid_auto_columns": null,
            "grid_auto_flow": null,
            "grid_auto_rows": null,
            "grid_column": null,
            "grid_gap": null,
            "grid_row": null,
            "grid_template_areas": null,
            "grid_template_columns": null,
            "grid_template_rows": null,
            "height": null,
            "justify_content": null,
            "justify_items": null,
            "left": null,
            "margin": null,
            "max_height": null,
            "max_width": null,
            "min_height": null,
            "min_width": null,
            "object_fit": null,
            "object_position": null,
            "order": null,
            "overflow": null,
            "overflow_x": null,
            "overflow_y": null,
            "padding": null,
            "right": null,
            "top": null,
            "visibility": null,
            "width": null
          }
        },
        "33702b211a7d47e9a895dc5910c8c687": {
          "model_module": "@jupyter-widgets/base",
          "model_name": "LayoutModel",
          "model_module_version": "1.2.0",
          "state": {
            "_model_module": "@jupyter-widgets/base",
            "_model_module_version": "1.2.0",
            "_model_name": "LayoutModel",
            "_view_count": null,
            "_view_module": "@jupyter-widgets/base",
            "_view_module_version": "1.2.0",
            "_view_name": "LayoutView",
            "align_content": null,
            "align_items": null,
            "align_self": null,
            "border": null,
            "bottom": null,
            "display": null,
            "flex": null,
            "flex_flow": null,
            "grid_area": null,
            "grid_auto_columns": null,
            "grid_auto_flow": null,
            "grid_auto_rows": null,
            "grid_column": null,
            "grid_gap": null,
            "grid_row": null,
            "grid_template_areas": null,
            "grid_template_columns": null,
            "grid_template_rows": null,
            "height": null,
            "justify_content": null,
            "justify_items": null,
            "left": null,
            "margin": null,
            "max_height": null,
            "max_width": null,
            "min_height": null,
            "min_width": null,
            "object_fit": null,
            "object_position": null,
            "order": null,
            "overflow": null,
            "overflow_x": null,
            "overflow_y": null,
            "padding": null,
            "right": null,
            "top": null,
            "visibility": null,
            "width": null
          }
        },
        "677fdbdc570d44aeb401553e83de505f": {
          "model_module": "@jupyter-widgets/controls",
          "model_name": "DescriptionStyleModel",
          "model_module_version": "1.5.0",
          "state": {
            "_model_module": "@jupyter-widgets/controls",
            "_model_module_version": "1.5.0",
            "_model_name": "DescriptionStyleModel",
            "_view_count": null,
            "_view_module": "@jupyter-widgets/base",
            "_view_module_version": "1.2.0",
            "_view_name": "StyleView",
            "description_width": ""
          }
        },
        "490c5421bde2456fb26c4b9747b4547e": {
          "model_module": "@jupyter-widgets/base",
          "model_name": "LayoutModel",
          "model_module_version": "1.2.0",
          "state": {
            "_model_module": "@jupyter-widgets/base",
            "_model_module_version": "1.2.0",
            "_model_name": "LayoutModel",
            "_view_count": null,
            "_view_module": "@jupyter-widgets/base",
            "_view_module_version": "1.2.0",
            "_view_name": "LayoutView",
            "align_content": null,
            "align_items": null,
            "align_self": null,
            "border": null,
            "bottom": null,
            "display": null,
            "flex": null,
            "flex_flow": null,
            "grid_area": null,
            "grid_auto_columns": null,
            "grid_auto_flow": null,
            "grid_auto_rows": null,
            "grid_column": null,
            "grid_gap": null,
            "grid_row": null,
            "grid_template_areas": null,
            "grid_template_columns": null,
            "grid_template_rows": null,
            "height": null,
            "justify_content": null,
            "justify_items": null,
            "left": null,
            "margin": null,
            "max_height": null,
            "max_width": null,
            "min_height": null,
            "min_width": null,
            "object_fit": null,
            "object_position": null,
            "order": null,
            "overflow": null,
            "overflow_x": null,
            "overflow_y": null,
            "padding": null,
            "right": null,
            "top": null,
            "visibility": null,
            "width": null
          }
        },
        "d2f9a743e0744751bf558173084256fa": {
          "model_module": "@jupyter-widgets/controls",
          "model_name": "ProgressStyleModel",
          "model_module_version": "1.5.0",
          "state": {
            "_model_module": "@jupyter-widgets/controls",
            "_model_module_version": "1.5.0",
            "_model_name": "ProgressStyleModel",
            "_view_count": null,
            "_view_module": "@jupyter-widgets/base",
            "_view_module_version": "1.2.0",
            "_view_name": "StyleView",
            "bar_color": null,
            "description_width": ""
          }
        },
        "78c0fdeddf094cc188f692fe37f4adcd": {
          "model_module": "@jupyter-widgets/base",
          "model_name": "LayoutModel",
          "model_module_version": "1.2.0",
          "state": {
            "_model_module": "@jupyter-widgets/base",
            "_model_module_version": "1.2.0",
            "_model_name": "LayoutModel",
            "_view_count": null,
            "_view_module": "@jupyter-widgets/base",
            "_view_module_version": "1.2.0",
            "_view_name": "LayoutView",
            "align_content": null,
            "align_items": null,
            "align_self": null,
            "border": null,
            "bottom": null,
            "display": null,
            "flex": null,
            "flex_flow": null,
            "grid_area": null,
            "grid_auto_columns": null,
            "grid_auto_flow": null,
            "grid_auto_rows": null,
            "grid_column": null,
            "grid_gap": null,
            "grid_row": null,
            "grid_template_areas": null,
            "grid_template_columns": null,
            "grid_template_rows": null,
            "height": null,
            "justify_content": null,
            "justify_items": null,
            "left": null,
            "margin": null,
            "max_height": null,
            "max_width": null,
            "min_height": null,
            "min_width": null,
            "object_fit": null,
            "object_position": null,
            "order": null,
            "overflow": null,
            "overflow_x": null,
            "overflow_y": null,
            "padding": null,
            "right": null,
            "top": null,
            "visibility": null,
            "width": null
          }
        },
        "44327d4a09e8461ab8559c4b9fdab66d": {
          "model_module": "@jupyter-widgets/controls",
          "model_name": "DescriptionStyleModel",
          "model_module_version": "1.5.0",
          "state": {
            "_model_module": "@jupyter-widgets/controls",
            "_model_module_version": "1.5.0",
            "_model_name": "DescriptionStyleModel",
            "_view_count": null,
            "_view_module": "@jupyter-widgets/base",
            "_view_module_version": "1.2.0",
            "_view_name": "StyleView",
            "description_width": ""
          }
        }
      }
    },
    "colab": {
      "provenance": []
    }
  },
  "nbformat": 4,
  "nbformat_minor": 5
}