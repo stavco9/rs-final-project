{
 "cells": [
  {
   "cell_type": "code",
   "execution_count": 1,
   "id": "f6b22d84",
   "metadata": {},
   "outputs": [],
   "source": [
    "just_checking_integrity=False\n",
    "rows=3000\n",
    "test_rows=1000"
   ]
  },
  {
   "cell_type": "code",
   "execution_count": 2,
   "id": "b647804a",
   "metadata": {
    "execution": {
     "iopub.execute_input": "2022-06-13T15:46:46.608130Z",
     "iopub.status.busy": "2022-06-13T15:46:46.607453Z",
     "iopub.status.idle": "2022-06-13T15:46:52.081025Z",
     "shell.execute_reply": "2022-06-13T15:46:52.080240Z"
    },
    "id": "zSNsQsszHgO5",
    "papermill": {
     "duration": 5.495221,
     "end_time": "2022-06-13T15:46:52.083101",
     "exception": false,
     "start_time": "2022-06-13T15:46:46.587880",
     "status": "completed"
    },
    "tags": []
   },
   "outputs": [],
   "source": [
    "import pandas as pd\n",
    "import tensorflow as tf\n",
    "from tensorflow.keras import layers\n",
    "from sklearn.model_selection import train_test_split\n",
    "import numpy as np\n",
    "import datetime\n",
    "from itertools import compress\n",
    "from math import sin, cos\n",
    "import ast"
   ]
  },
  {
   "cell_type": "code",
   "execution_count": 3,
   "id": "31e5dc46",
   "metadata": {},
   "outputs": [
    {
     "name": "stderr",
     "output_type": "stream",
     "text": [
      "c:\\Users\\pietr\\.conda\\envs\\sub_env\\lib\\site-packages\\tqdm\\auto.py:22: TqdmWarning: IProgress not found. Please update jupyter and ipywidgets. See https://ipywidgets.readthedocs.io/en/stable/user_install.html\n",
      "  from .autonotebook import tqdm as notebook_tqdm\n"
     ]
    }
   ],
   "source": [
    "from tqdm.auto import tqdm\n",
    "tqdm.pandas()"
   ]
  },
  {
   "cell_type": "markdown",
   "id": "c9df263b",
   "metadata": {
    "id": "36zIGmdV53fm",
    "papermill": {
     "duration": 0.018802,
     "end_time": "2022-06-13T15:46:52.932998",
     "exception": false,
     "start_time": "2022-06-13T15:46:52.914196",
     "status": "completed"
    },
    "tags": []
   },
   "source": [
    "## Custom metric\n"
   ]
  },
  {
   "cell_type": "code",
   "execution_count": 4,
   "id": "0e515b5a",
   "metadata": {
    "execution": {
     "iopub.execute_input": "2022-06-13T15:46:52.971622Z",
     "iopub.status.busy": "2022-06-13T15:46:52.971293Z",
     "iopub.status.idle": "2022-06-13T15:46:52.979012Z",
     "shell.execute_reply": "2022-06-13T15:46:52.978270Z"
    },
    "id": "tWGIbax5oB5u",
    "papermill": {
     "duration": 0.029113,
     "end_time": "2022-06-13T15:46:52.980780",
     "exception": false,
     "start_time": "2022-06-13T15:46:52.951667",
     "status": "completed"
    },
    "tags": []
   },
   "outputs": [],
   "source": [
    "def mrr_top_at(at=100):\n",
    "    @tf.function\n",
    "    def mrr_top(y_true,y_pred):\n",
    "        top_k=tf.math.top_k(y_pred,k=at)\n",
    "        rr=top_k.indices\n",
    "        #print(rr)\n",
    "        idx=tf.range(start=1,limit=at+1,delta=1)\n",
    "        y_true=tf.reshape(y_true,[-1,1])\n",
    "        #print(y_true)\n",
    "        #y_true=tf.broadcast_to(y_true,test.shape)\n",
    "        y_true=tf.cast(y_true,tf.int32)\n",
    "        ranking=tf.where(tf.math.equal(rr,y_true),idx,0)\n",
    "        #print(ranking)\n",
    "        ranking=tf.reduce_sum(ranking,axis=-1)\n",
    "        ranking=tf.where(ranking>0,1/ranking,0)\n",
    "        #print(ranking)\n",
    "        ranking=tf.reduce_mean(ranking)\n",
    "        return ranking\n",
    "    return mrr_top\n"
   ]
  },
  {
   "cell_type": "markdown",
   "id": "024b1a7e",
   "metadata": {
    "id": "JrUZ80Og55r7",
    "papermill": {
     "duration": 0.018758,
     "end_time": "2022-06-13T15:46:53.018573",
     "exception": false,
     "start_time": "2022-06-13T15:46:52.999815",
     "status": "completed"
    },
    "tags": []
   },
   "source": [
    "## Custom layers"
   ]
  },
  {
   "cell_type": "code",
   "execution_count": 5,
   "id": "f682c799",
   "metadata": {
    "execution": {
     "iopub.execute_input": "2022-06-13T15:46:53.057483Z",
     "iopub.status.busy": "2022-06-13T15:46:53.056810Z",
     "iopub.status.idle": "2022-06-13T15:46:53.064633Z",
     "shell.execute_reply": "2022-06-13T15:46:53.063907Z"
    },
    "id": "WpNQO7sTMibJ",
    "papermill": {
     "duration": 0.029132,
     "end_time": "2022-06-13T15:46:53.066312",
     "exception": false,
     "start_time": "2022-06-13T15:46:53.037180",
     "status": "completed"
    },
    "tags": []
   },
   "outputs": [],
   "source": [
    "class TransformerBlock(layers.Layer):\n",
    "    def __init__(self, embed_dim, num_heads, ff_dim, rate=0.1):\n",
    "        super(TransformerBlock, self).__init__()\n",
    "        self.att = layers.MultiHeadAttention(num_heads=num_heads, key_dim=embed_dim)\n",
    "        self.ffn = tf.keras.Sequential(\n",
    "            [layers.Dense(ff_dim, activation=\"relu\"), layers.Dense(embed_dim),]\n",
    "        )\n",
    "        self.layernorm1 = layers.LayerNormalization(epsilon=1e-6)\n",
    "        self.layernorm2 = layers.LayerNormalization(epsilon=1e-6)\n",
    "        self.dropout1 = layers.Dropout(rate)\n",
    "        self.dropout2 = layers.Dropout(rate)\n",
    "\n",
    "    def call(self, inputs, training):\n",
    "        attn_output = self.att(inputs, inputs)\n",
    "        attn_output = self.dropout1(attn_output, training=training)\n",
    "        out1 = self.layernorm1(inputs + attn_output)\n",
    "        ffn_output = self.ffn(out1)\n",
    "        ffn_output = self.dropout2(ffn_output, training=training)\n",
    "        return self.layernorm2(out1 + ffn_output)"
   ]
  },
  {
   "cell_type": "code",
   "execution_count": 6,
   "id": "8b32ba9f",
   "metadata": {
    "execution": {
     "iopub.execute_input": "2022-06-13T15:46:53.104693Z",
     "iopub.status.busy": "2022-06-13T15:46:53.104054Z",
     "iopub.status.idle": "2022-06-13T15:46:53.110733Z",
     "shell.execute_reply": "2022-06-13T15:46:53.110019Z"
    },
    "id": "Ywvv14StmYv6",
    "papermill": {
     "duration": 0.027593,
     "end_time": "2022-06-13T15:46:53.112366",
     "exception": false,
     "start_time": "2022-06-13T15:46:53.084773",
     "status": "completed"
    },
    "tags": []
   },
   "outputs": [],
   "source": [
    "class TokenAndPositionEmbedding(layers.Layer):\n",
    "    def __init__(\n",
    "        self, \n",
    "        maxlen, \n",
    "        vocab_size, \n",
    "        embed_dim, \n",
    "        item_embedding_trainable=True, \n",
    "        embedding_weights=None\n",
    "        ):\n",
    "        super(TokenAndPositionEmbedding, self).__init__()\n",
    "        self.token_emb = layers.Embedding(\n",
    "            input_dim=vocab_size, \n",
    "            output_dim=embed_dim,\n",
    "            trainable=item_embedding_trainable,\n",
    "            weights=embedding_weights\n",
    "            )\n",
    "        self.pos_emb = layers.Embedding(input_dim=maxlen, output_dim=embed_dim)\n",
    "\n",
    "    def call(self, x):\n",
    "        maxlen = tf.shape(x)[-1]\n",
    "        positions = tf.range(start=maxlen-1, limit=0, delta=-1)\n",
    "        positions = self.pos_emb(positions)\n",
    "        x = self.token_emb(x)\n",
    "        return x + positions"
   ]
  },
  {
   "cell_type": "code",
   "execution_count": 7,
   "id": "357d9308",
   "metadata": {
    "execution": {
     "iopub.execute_input": "2022-06-13T15:46:53.150889Z",
     "iopub.status.busy": "2022-06-13T15:46:53.150617Z",
     "iopub.status.idle": "2022-06-13T15:46:53.156218Z",
     "shell.execute_reply": "2022-06-13T15:46:53.155513Z"
    },
    "id": "5II46ARomYkg",
    "papermill": {
     "duration": 0.026924,
     "end_time": "2022-06-13T15:46:53.157898",
     "exception": false,
     "start_time": "2022-06-13T15:46:53.130974",
     "status": "completed"
    },
    "tags": []
   },
   "outputs": [],
   "source": [
    "class PositionEmbedding(layers.Layer):\n",
    "    def __init__(\n",
    "        self, \n",
    "        maxlen, \n",
    "        embed_dim, \n",
    "        ):\n",
    "        super(PositionEmbedding, self).__init__()\n",
    "        self.pos_emb = layers.Embedding(input_dim=maxlen, output_dim=embed_dim)\n",
    "\n",
    "    def call(self, x):\n",
    "        maxlen = tf.shape(x)[-1]\n",
    "        positions = tf.range(start=0, limit=maxlen, delta=1)\n",
    "        positions = self.pos_emb(positions)\n",
    "        return positions"
   ]
  },
  {
   "cell_type": "code",
   "execution_count": 8,
   "id": "99603a0f",
   "metadata": {
    "execution": {
     "iopub.execute_input": "2022-06-13T15:46:53.197710Z",
     "iopub.status.busy": "2022-06-13T15:46:53.196404Z",
     "iopub.status.idle": "2022-06-13T15:46:53.203227Z",
     "shell.execute_reply": "2022-06-13T15:46:53.202536Z"
    },
    "id": "KLZ2wODiHVJU",
    "papermill": {
     "duration": 0.028007,
     "end_time": "2022-06-13T15:46:53.204851",
     "exception": false,
     "start_time": "2022-06-13T15:46:53.176844",
     "status": "completed"
    },
    "tags": []
   },
   "outputs": [],
   "source": [
    "class RBFLayer(layers.Layer):\n",
    "    def __init__(self, weights, gamma, **kwargs):\n",
    "        super(RBFLayer, self).__init__(**kwargs)\n",
    "        # shape=(embedding_dimension, num_units)\n",
    "        self.embedding_weights = tf.transpose(weights)\n",
    "        self.gamma = gamma\n",
    "\n",
    "    def call(self, inputs):\n",
    "        l2 = tf.math.reduce_sum(\n",
    "            tf.math.squared_difference(\n",
    "                x=tf.expand_dims(inputs, axis=-1), \n",
    "                y=self.embedding_weights\n",
    "                ), \n",
    "            axis=1\n",
    "            )\n",
    "        res = tf.math.exp(-self.gamma * l2)\n",
    "        return res / tf.reduce_sum(res, axis=1, keepdims=True)"
   ]
  },
  {
   "cell_type": "markdown",
   "id": "88e0e2ad",
   "metadata": {
    "id": "nPdEPhcbArlf",
    "papermill": {
     "duration": 0.031781,
     "end_time": "2022-06-13T15:46:53.950092",
     "exception": false,
     "start_time": "2022-06-13T15:46:53.918311",
     "status": "completed"
    },
    "tags": []
   },
   "source": [
    "# Prepare dataset"
   ]
  },
  {
   "cell_type": "code",
   "execution_count": 9,
   "id": "82dc56b9",
   "metadata": {
    "execution": {
     "iopub.execute_input": "2022-06-13T15:46:54.017951Z",
     "iopub.status.busy": "2022-06-13T15:46:54.017635Z",
     "iopub.status.idle": "2022-06-13T15:46:54.032556Z",
     "shell.execute_reply": "2022-06-13T15:46:54.031718Z"
    },
    "id": "kdwGb-syHVoO",
    "outputId": "de9e98c0-c733-441e-d293-d55f26b2cb4c",
    "papermill": {
     "duration": 0.050992,
     "end_time": "2022-06-13T15:46:54.034575",
     "exception": false,
     "start_time": "2022-06-13T15:46:53.983583",
     "status": "completed"
    },
    "tags": []
   },
   "outputs": [
    {
     "data": {
      "text/html": [
       "<div>\n",
       "<style scoped>\n",
       "    .dataframe tbody tr th:only-of-type {\n",
       "        vertical-align: middle;\n",
       "    }\n",
       "\n",
       "    .dataframe tbody tr th {\n",
       "        vertical-align: top;\n",
       "    }\n",
       "\n",
       "    .dataframe thead th {\n",
       "        text-align: right;\n",
       "    }\n",
       "</style>\n",
       "<table border=\"1\" class=\"dataframe\">\n",
       "  <thead>\n",
       "    <tr style=\"text-align: right;\">\n",
       "      <th></th>\n",
       "      <th>item_id</th>\n",
       "    </tr>\n",
       "  </thead>\n",
       "  <tbody>\n",
       "    <tr>\n",
       "      <th>0</th>\n",
       "      <td>1</td>\n",
       "    </tr>\n",
       "    <tr>\n",
       "      <th>1</th>\n",
       "      <td>2</td>\n",
       "    </tr>\n",
       "    <tr>\n",
       "      <th>2</th>\n",
       "      <td>3</td>\n",
       "    </tr>\n",
       "    <tr>\n",
       "      <th>3</th>\n",
       "      <td>4</td>\n",
       "    </tr>\n",
       "    <tr>\n",
       "      <th>4</th>\n",
       "      <td>5</td>\n",
       "    </tr>\n",
       "  </tbody>\n",
       "</table>\n",
       "</div>"
      ],
      "text/plain": [
       "   item_id\n",
       "0        1\n",
       "1        2\n",
       "2        3\n",
       "3        4\n",
       "4        5"
      ]
     },
     "execution_count": 9,
     "metadata": {},
     "output_type": "execute_result"
    }
   ],
   "source": [
    "candidate_items = pd.read_csv('../dataset/processed_data/candidate_items_mapped.csv')\n",
    "candidate_items.head()"
   ]
  },
  {
   "cell_type": "code",
   "execution_count": 10,
   "id": "5a5a5fe6",
   "metadata": {
    "execution": {
     "iopub.execute_input": "2022-06-13T15:46:54.073629Z",
     "iopub.status.busy": "2022-06-13T15:46:54.073351Z",
     "iopub.status.idle": "2022-06-13T15:46:54.082020Z",
     "shell.execute_reply": "2022-06-13T15:46:54.081162Z"
    },
    "id": "w5LUoNPaouyG",
    "outputId": "6b78b65c-b24c-4f18-ce37-a8f8fc40ab35",
    "papermill": {
     "duration": 0.029847,
     "end_time": "2022-06-13T15:46:54.083735",
     "exception": false,
     "start_time": "2022-06-13T15:46:54.053888",
     "status": "completed"
    },
    "tags": []
   },
   "outputs": [
    {
     "data": {
      "text/plain": [
       "(23692, 64)"
      ]
     },
     "execution_count": 10,
     "metadata": {},
     "output_type": "execute_result"
    }
   ],
   "source": [
    "embedding_weights = np.load(\n",
    "    '../dataset/processed_data/compressed_features.npy'\n",
    "    )\n",
    "import os\n",
    "import scipy.sparse as sps\n",
    "def get_ICM(files_directory=\"../dataset/processed_data\"):\n",
    "    df_icm = pd.read_csv(filepath_or_buffer=os.path.join(files_directory, 'simplified_features_and_categories_30.csv'), sep=',', header=0)\n",
    "    \n",
    "    item_id_list = df_icm['item_id'].values\n",
    "    feat_id_list = df_icm['feature_idx'].values\n",
    "    rating_id_list = np.ones_like(feat_id_list)\n",
    "    ICM_matrix = sps.csr_matrix((rating_id_list, (item_id_list, feat_id_list)))\n",
    "    return ICM_matrix\n",
    "\n",
    "ICM=get_ICM()\n",
    "embedding_weights.shape"
   ]
  },
  {
   "cell_type": "code",
   "execution_count": 11,
   "id": "972a586b",
   "metadata": {
    "execution": {
     "iopub.execute_input": "2022-06-13T15:46:54.303794Z",
     "iopub.status.busy": "2022-06-13T15:46:54.303548Z",
     "iopub.status.idle": "2022-06-13T15:47:34.265070Z",
     "shell.execute_reply": "2022-06-13T15:47:34.264280Z"
    },
    "id": "pdJPGOaaXfhg",
    "papermill": {
     "duration": 39.983661,
     "end_time": "2022-06-13T15:47:34.267146",
     "exception": false,
     "start_time": "2022-06-13T15:46:54.283485",
     "status": "completed"
    },
    "tags": []
   },
   "outputs": [],
   "source": [
    "result =  pd.read_csv(\"../dataset/processed_data/macro_feats_NN.csv\",parse_dates=[\"date_session_starting\"], \n",
    "     infer_datetime_format=True)\n",
    "\n",
    "\n",
    "\n",
    "result[\"item_id\"]=result[\"item_id\"].map(ast.literal_eval)\n",
    "result[\"timedelta\"]=result[\"timedelta\"].map(ast.literal_eval)\n",
    "\n",
    "def is_reseen(x): \n",
    "    #print(x)\n",
    "    seen={}\n",
    "    res=[] \n",
    "    for item in x: \n",
    "        if item in seen: \n",
    "            res.append(seen[item])\n",
    "            seen[item]+=1 \n",
    "        else: \n",
    "            res.append(0) \n",
    "            seen[item]=1\n",
    "    return res \n",
    "\n",
    "def percentage_seen(x): \n",
    "    size=len(x)\n",
    "    return [(i+1)/size for i in range(size)]"
   ]
  },
  {
   "cell_type": "code",
   "execution_count": 12,
   "id": "ff57e158",
   "metadata": {
    "execution": {
     "iopub.execute_input": "2022-06-13T15:47:34.307373Z",
     "iopub.status.busy": "2022-06-13T15:47:34.307065Z",
     "iopub.status.idle": "2022-06-13T15:47:50.902832Z",
     "shell.execute_reply": "2022-06-13T15:47:50.902005Z"
    },
    "id": "cLY9U8gg3fq7",
    "outputId": "51de1108-e3ec-49c1-ee8d-f813adf0bef7",
    "papermill": {
     "duration": 16.618572,
     "end_time": "2022-06-13T15:47:50.904973",
     "exception": false,
     "start_time": "2022-06-13T15:47:34.286401",
     "status": "completed"
    },
    "tags": []
   },
   "outputs": [
    {
     "name": "stderr",
     "output_type": "stream",
     "text": [
      "100%|██████████| 662/662 [00:00<00:00, 165196.89it/s]\n",
      "100%|██████████| 662/662 [00:00<00:00, 329922.68it/s]\n"
     ]
    }
   ],
   "source": [
    "x_reseen = tf.keras.preprocessing.sequence.pad_sequences( \n",
    "    result['item_id'].progress_apply(is_reseen),  \n",
    "    padding='post', \n",
    "    maxlen=100,\n",
    "    dtype=\"int16\"\n",
    ")\n",
    "x_percentage_seen = tf.keras.preprocessing.sequence.pad_sequences( \n",
    "    result['item_id'].progress_apply(percentage_seen),  \n",
    "    padding='post', \n",
    "    maxlen=100, \n",
    "    dtype='float16',\n",
    ")"
   ]
  },
  {
   "cell_type": "code",
   "execution_count": 13,
   "id": "1bb85465",
   "metadata": {
    "execution": {
     "iopub.execute_input": "2022-06-13T15:47:50.946427Z",
     "iopub.status.busy": "2022-06-13T15:47:50.946120Z",
     "iopub.status.idle": "2022-06-13T15:47:50.954799Z",
     "shell.execute_reply": "2022-06-13T15:47:50.953838Z"
    },
    "id": "SIspm4Y-3unJ",
    "papermill": {
     "duration": 0.031192,
     "end_time": "2022-06-13T15:47:50.956707",
     "exception": false,
     "start_time": "2022-06-13T15:47:50.925515",
     "status": "completed"
    },
    "tags": []
   },
   "outputs": [],
   "source": [
    "def similarity_with_preceding(x): \n",
    "    if len(x)==1:\n",
    "        return np.array([0])\n",
    "    feats=embedding_weights[x]\n",
    "    #normalize\n",
    "    feats=np.divide(feats,np.linalg.norm(feats,axis=1).reshape((-1,1)))\n",
    "    feats_copy=feats.copy()\n",
    "    feats_copy=np.roll(feats_copy,1,axis=0)\n",
    "    feats_copy[0,:]=0\n",
    "    prod=np.multiply(feats,feats_copy).sum(axis=1)\n",
    "    return prod\n",
    "\n",
    "\n",
    "\n",
    "def similarity_feats_with_preceding(x): \n",
    "    if len(x)==1:\n",
    "        return np.array([0])\n",
    "    feats=ICM[x].toarray()\n",
    "    #normalize\n",
    "    feats=np.divide(feats,np.linalg.norm(feats,axis=1).reshape((-1,1)))\n",
    "    feats_copy=feats.copy()\n",
    "    feats_copy=np.roll(feats_copy,1,axis=0)\n",
    "    feats_copy[0,:]=0\n",
    "    prod=np.multiply(feats,feats_copy).sum(axis=1)\n",
    "    return prod"
   ]
  },
  {
   "cell_type": "code",
   "execution_count": 14,
   "id": "94f3c622",
   "metadata": {
    "execution": {
     "iopub.execute_input": "2022-06-13T15:47:50.995998Z",
     "iopub.status.busy": "2022-06-13T15:47:50.995567Z",
     "iopub.status.idle": "2022-06-13T15:51:32.773031Z",
     "shell.execute_reply": "2022-06-13T15:51:32.772159Z"
    },
    "id": "pmwUjvrDnfAP",
    "outputId": "f6e7a547-7279-45d2-c602-61e8f960ff65",
    "papermill": {
     "duration": 221.799486,
     "end_time": "2022-06-13T15:51:32.775130",
     "exception": false,
     "start_time": "2022-06-13T15:47:50.975644",
     "status": "completed"
    },
    "tags": []
   },
   "outputs": [
    {
     "name": "stderr",
     "output_type": "stream",
     "text": [
      "100%|██████████| 662/662 [00:00<00:00, 24143.13it/s]\n",
      "100%|██████████| 662/662 [00:00<00:00, 8067.77it/s]\n"
     ]
    }
   ],
   "source": [
    "x_simils = tf.keras.preprocessing.sequence.pad_sequences( \n",
    "    result['item_id'].progress_apply(similarity_with_preceding\n",
    "    ),  \n",
    "    padding='post', \n",
    "    maxlen=100, \n",
    "    dtype='float16', \n",
    ")\n",
    "x_simils_feats = tf.keras.preprocessing.sequence.pad_sequences( \n",
    "    result['item_id'].progress_apply(similarity_feats_with_preceding\n",
    "    ),  \n",
    "    padding='post', \n",
    "    maxlen=100, \n",
    "    dtype='float16',\n",
    ")"
   ]
  },
  {
   "cell_type": "code",
   "execution_count": 15,
   "id": "d62f6260",
   "metadata": {
    "execution": {
     "iopub.execute_input": "2022-06-13T15:51:34.501280Z",
     "iopub.status.busy": "2022-06-13T15:51:34.500969Z",
     "iopub.status.idle": "2022-06-13T15:51:34.570271Z",
     "shell.execute_reply": "2022-06-13T15:51:34.569406Z"
    },
    "id": "3M8e0b_Sx2i-",
    "papermill": {
     "duration": 0.092553,
     "end_time": "2022-06-13T15:51:34.572311",
     "exception": false,
     "start_time": "2022-06-13T15:51:34.479758",
     "status": "completed"
    },
    "tags": []
   },
   "outputs": [],
   "source": [
    "static_features = [\n",
    "                   'date_hour_sin',\n",
    "                   'date_hour_cos',\n",
    "                   'date_day_sin',\n",
    "                   'date_day_cos',\n",
    "                   'date_month_sin',\n",
    "                   'date_month_cos',\n",
    "                   'date_hour_sin_ending',\n",
    "                   'date_hour_cos_ending',\n",
    "                   'date_day_sin_ending',\n",
    "                   'date_day_cos_ending',\n",
    "                   'date_month_sin_ending',\n",
    "                   'date_month_cos_ending',\n",
    "                   'date_year_2020',\n",
    "                   'length_of_session_seconds',\n",
    "                   'avg_time_spent_per_item_seconds',\n",
    "                   'variance_time_spent_per_item_seconds',\n",
    "                   'n_seen_items',\n",
    "                   'n_unique_items',\n",
    "                   'user_went_afk',\n",
    "                   'is_weekend',\n",
    "                   'is_hot_hour',\n",
    "                   'is_night',\n",
    "                   'is_christmas_time',\n",
    "                   'is_black_friday',\n",
    "                   'session_similarity',\n",
    "                   'session_similarity_uniques',\n",
    "                   'session_similarity_feats',\n",
    "                   'session_similarity_feats_uniques'\n",
    "]\n",
    "for col in ['length_of_session_seconds','avg_time_spent_per_item_seconds','variance_time_spent_per_item_seconds']:\n",
    "    result[col]=np.log10(result[col]+1)\n",
    "for col in ['n_seen_items','n_unique_items']:\n",
    "    result[col]=result[col]/100\n",
    "item_related_features = [\n",
    "                         'timedelta'\n",
    "]"
   ]
  },
  {
   "cell_type": "code",
   "execution_count": 16,
   "id": "534beafc",
   "metadata": {
    "execution": {
     "iopub.execute_input": "2022-06-13T15:51:34.615718Z",
     "iopub.status.busy": "2022-06-13T15:51:34.615062Z",
     "iopub.status.idle": "2022-06-13T15:51:34.917476Z",
     "shell.execute_reply": "2022-06-13T15:51:34.916559Z"
    },
    "id": "hT_NE9H5KAeS",
    "outputId": "4df55409-5758-4cc5-8f88-e365031b84de",
    "papermill": {
     "duration": 0.325499,
     "end_time": "2022-06-13T15:51:34.919304",
     "exception": false,
     "start_time": "2022-06-13T15:51:34.593805",
     "status": "completed"
    },
    "tags": []
   },
   "outputs": [],
   "source": [
    "if just_checking_integrity:\n",
    "    train_purchases = pd.read_csv(\n",
    "    '../dataset/processed_data/train_purchases_mapped.csv',\n",
    "    usecols = ['session_id', 'item_id'],\n",
    "    nrows=len(result)\n",
    "    )\n",
    "else:\n",
    "    train_purchases = pd.read_csv(\n",
    "    '../dataset/processed_data/train_purchases_mapped.csv',\n",
    "    usecols = ['session_id', 'item_id'],\n",
    "    )\n",
    "    "
   ]
  },
  {
   "cell_type": "code",
   "execution_count": 17,
   "id": "2a7adf88",
   "metadata": {
    "execution": {
     "iopub.execute_input": "2022-06-13T15:51:34.962544Z",
     "iopub.status.busy": "2022-06-13T15:51:34.961683Z",
     "iopub.status.idle": "2022-06-13T15:51:35.110044Z",
     "shell.execute_reply": "2022-06-13T15:51:35.109135Z"
    },
    "id": "7D5UdxD_nFsJ",
    "papermill": {
     "duration": 0.17217,
     "end_time": "2022-06-13T15:51:35.112494",
     "exception": false,
     "start_time": "2022-06-13T15:51:34.940324",
     "status": "completed"
    },
    "tags": []
   },
   "outputs": [],
   "source": [
    "train_purchases.sort_values(by=\"session_id\",inplace=True)"
   ]
  },
  {
   "cell_type": "code",
   "execution_count": 18,
   "id": "1388d6d3",
   "metadata": {
    "execution": {
     "iopub.execute_input": "2022-06-13T15:51:35.155237Z",
     "iopub.status.busy": "2022-06-13T15:51:35.154928Z",
     "iopub.status.idle": "2022-06-13T15:51:39.396817Z",
     "shell.execute_reply": "2022-06-13T15:51:39.395855Z"
    },
    "id": "pJHuoggZN76n",
    "papermill": {
     "duration": 4.265437,
     "end_time": "2022-06-13T15:51:39.398888",
     "exception": false,
     "start_time": "2022-06-13T15:51:35.133451",
     "status": "completed"
    },
    "tags": []
   },
   "outputs": [],
   "source": [
    "x_ids = tf.keras.preprocessing.sequence.pad_sequences(\n",
    "    result['item_id'], \n",
    "    padding='post', \n",
    "    maxlen=100\n",
    ")"
   ]
  },
  {
   "cell_type": "code",
   "execution_count": 19,
   "id": "22f15072",
   "metadata": {
    "execution": {
     "iopub.execute_input": "2022-06-13T15:51:39.449019Z",
     "iopub.status.busy": "2022-06-13T15:51:39.447546Z",
     "iopub.status.idle": "2022-06-13T15:51:43.704762Z",
     "shell.execute_reply": "2022-06-13T15:51:43.703929Z"
    },
    "id": "XhTHmzlnJkkn",
    "outputId": "bbd76398-3928-4bfa-f72d-1eef17a20a2d",
    "papermill": {
     "duration": 4.285489,
     "end_time": "2022-06-13T15:51:43.706848",
     "exception": false,
     "start_time": "2022-06-13T15:51:39.421359",
     "status": "completed"
    },
    "tags": []
   },
   "outputs": [
    {
     "name": "stdout",
     "output_type": "stream",
     "text": [
      "Padding timedelta\n"
     ]
    }
   ],
   "source": [
    "for item_related_feature in item_related_features:\n",
    "  print('Padding {}'.format(item_related_feature))\n",
    "  x_item_related = tf.keras.preprocessing.sequence.pad_sequences(\n",
    "      result[item_related_feature], \n",
    "      dtype='float16',\n",
    "      maxlen=100,\n",
    "      padding='post'\n",
    "    )"
   ]
  },
  {
   "cell_type": "code",
   "execution_count": 20,
   "id": "f6e35447",
   "metadata": {
    "execution": {
     "iopub.execute_input": "2022-06-13T15:51:43.750944Z",
     "iopub.status.busy": "2022-06-13T15:51:43.750637Z",
     "iopub.status.idle": "2022-06-13T15:51:43.754631Z",
     "shell.execute_reply": "2022-06-13T15:51:43.753840Z"
    },
    "id": "LC1CtWFNO_zT",
    "papermill": {
     "duration": 0.02755,
     "end_time": "2022-06-13T15:51:43.756240",
     "exception": false,
     "start_time": "2022-06-13T15:51:43.728690",
     "status": "completed"
    },
    "tags": []
   },
   "outputs": [],
   "source": [
    "if len(item_related_features) == 1:\n",
    "    x_item_related = np.expand_dims(x_item_related, axis=-1)"
   ]
  },
  {
   "cell_type": "code",
   "execution_count": 21,
   "id": "f884d292",
   "metadata": {
    "execution": {
     "iopub.execute_input": "2022-06-13T15:51:43.893379Z",
     "iopub.status.busy": "2022-06-13T15:51:43.893107Z",
     "iopub.status.idle": "2022-06-13T15:51:43.896971Z",
     "shell.execute_reply": "2022-06-13T15:51:43.896229Z"
    },
    "id": "8_CknegEb9F4",
    "papermill": {
     "duration": 0.026709,
     "end_time": "2022-06-13T15:51:43.898618",
     "exception": false,
     "start_time": "2022-06-13T15:51:43.871909",
     "status": "completed"
    },
    "tags": []
   },
   "outputs": [],
   "source": [
    "y = train_purchases['item_id'].to_numpy()"
   ]
  },
  {
   "cell_type": "code",
   "execution_count": 22,
   "id": "1a4a0af6",
   "metadata": {
    "execution": {
     "iopub.execute_input": "2022-06-13T15:51:43.941569Z",
     "iopub.status.busy": "2022-06-13T15:51:43.941317Z",
     "iopub.status.idle": "2022-06-13T15:51:44.021922Z",
     "shell.execute_reply": "2022-06-13T15:51:44.021034Z"
    },
    "id": "hgFbJXIiMVK8",
    "papermill": {
     "duration": 0.104479,
     "end_time": "2022-06-13T15:51:44.024064",
     "exception": false,
     "start_time": "2022-06-13T15:51:43.919585",
     "status": "completed"
    },
    "tags": []
   },
   "outputs": [],
   "source": [
    "y_features = embedding_weights[y]"
   ]
  },
  {
   "cell_type": "code",
   "execution_count": 23,
   "id": "f22f3984",
   "metadata": {
    "execution": {
     "iopub.execute_input": "2022-06-13T15:51:44.067560Z",
     "iopub.status.busy": "2022-06-13T15:51:44.067172Z",
     "iopub.status.idle": "2022-06-13T15:51:45.449853Z",
     "shell.execute_reply": "2022-06-13T15:51:45.449013Z"
    },
    "id": "tYkBGGDycPc4",
    "papermill": {
     "duration": 1.406532,
     "end_time": "2022-06-13T15:51:45.451908",
     "exception": false,
     "start_time": "2022-06-13T15:51:44.045376",
     "status": "completed"
    },
    "tags": []
   },
   "outputs": [],
   "source": [
    "x_ids_train, x_ids_test,\\\n",
    "x_reseen_train, x_reseen_test,\\\n",
    "x_simils_train,x_simils_test,\\\n",
    "x_simils_feats_train,x_simils_feats_test,\\\n",
    "x_percentage_seen_train,x_percentage_seen_test,\\\n",
    "x_static_train, x_static_test, \\\n",
    "x_item_related_train, x_item_related_test, \\\n",
    "y_train, y_test, \\\n",
    "y_features_train, y_features_test = train_test_split(\n",
    "    x_ids,\n",
    "    x_reseen,\n",
    "    x_simils,\n",
    "    x_simils_feats,\n",
    "    x_percentage_seen,\n",
    "    result[static_features].to_numpy(),\n",
    "    x_item_related,\n",
    "    y, \n",
    "    y_features, \n",
    "    test_size=0.2,\n",
    "    random_state=1234\n",
    "    )\n"
   ]
  },
  {
   "cell_type": "code",
   "execution_count": 24,
   "id": "53bb5588",
   "metadata": {
    "execution": {
     "iopub.execute_input": "2022-06-13T15:51:45.496227Z",
     "iopub.status.busy": "2022-06-13T15:51:45.495636Z",
     "iopub.status.idle": "2022-06-13T15:51:45.901985Z",
     "shell.execute_reply": "2022-06-13T15:51:45.901153Z"
    },
    "id": "-xTh2lWG3RwM",
    "outputId": "f1a9ff00-b9fe-4892-b14a-7c024ef9aa14",
    "papermill": {
     "duration": 0.429915,
     "end_time": "2022-06-13T15:51:45.903962",
     "exception": false,
     "start_time": "2022-06-13T15:51:45.474047",
     "status": "completed"
    },
    "tags": []
   },
   "outputs": [
    {
     "data": {
      "text/plain": [
       "262"
      ]
     },
     "execution_count": 24,
     "metadata": {},
     "output_type": "execute_result"
    }
   ],
   "source": [
    "del x_ids,x_reseen,x_simils,x_simils_feats,x_percentage_seen,result,x_item_related,y,y_features\n",
    "import gc\n",
    "gc.collect()"
   ]
  },
  {
   "cell_type": "markdown",
   "id": "9ca33062",
   "metadata": {
    "id": "H6hj8gghAwEi",
    "papermill": {
     "duration": 0.020763,
     "end_time": "2022-06-13T15:51:45.946343",
     "exception": false,
     "start_time": "2022-06-13T15:51:45.925580",
     "status": "completed"
    },
    "tags": []
   },
   "source": [
    "# Build Dataset"
   ]
  },
  {
   "cell_type": "code",
   "execution_count": 25,
   "id": "141d71da",
   "metadata": {
    "execution": {
     "iopub.execute_input": "2022-06-13T15:51:45.990114Z",
     "iopub.status.busy": "2022-06-13T15:51:45.989457Z",
     "iopub.status.idle": "2022-06-13T15:51:53.352858Z",
     "shell.execute_reply": "2022-06-13T15:51:53.351926Z"
    },
    "id": "_3DuLInmeisZ",
    "outputId": "02766815-0f49-4ee1-bcd4-fc7f98ef34fa",
    "papermill": {
     "duration": 7.387675,
     "end_time": "2022-06-13T15:51:53.355423",
     "exception": false,
     "start_time": "2022-06-13T15:51:45.967748",
     "status": "completed"
    },
    "tags": []
   },
   "outputs": [
    {
     "data": {
      "text/plain": [
       "0"
      ]
     },
     "execution_count": 25,
     "metadata": {},
     "output_type": "execute_result"
    }
   ],
   "source": [
    "\n",
    "train_set_complete = tf.data.Dataset.from_tensor_slices(\n",
    "    ((x_ids_train, x_reseen_train/100,x_percentage_seen_train,x_simils_train,x_simils_feats_train, x_item_related_train, x_static_train), (y_train, y_features_train))\n",
    "    ).batch(256,num_parallel_calls=tf.data.AUTOTUNE).prefetch(tf.data.AUTOTUNE).shuffle(1563, reshuffle_each_iteration=True)\n",
    "test_set_complete = tf.data.Dataset.from_tensor_slices(\n",
    "    ((x_ids_test, x_reseen_test/100, x_percentage_seen_test,x_simils_test,x_simils_feats_test, x_item_related_test, x_static_test), (y_test, y_features_test))\n",
    "    ).batch(256)\n",
    "gc.collect()"
   ]
  },
  {
   "cell_type": "code",
   "execution_count": 26,
   "id": "863af3e9",
   "metadata": {
    "execution": {
     "iopub.execute_input": "2022-06-13T15:51:53.428338Z",
     "iopub.status.busy": "2022-06-13T15:51:53.427947Z",
     "iopub.status.idle": "2022-06-13T15:51:53.432468Z",
     "shell.execute_reply": "2022-06-13T15:51:53.431541Z"
    },
    "papermill": {
     "duration": 0.045271,
     "end_time": "2022-06-13T15:51:53.436361",
     "exception": false,
     "start_time": "2022-06-13T15:51:53.391090",
     "status": "completed"
    },
    "tags": []
   },
   "outputs": [],
   "source": [
    "shape=y_features_train.shape[1]"
   ]
  },
  {
   "cell_type": "code",
   "execution_count": 27,
   "id": "88a72605",
   "metadata": {
    "execution": {
     "iopub.execute_input": "2022-06-13T15:51:53.507961Z",
     "iopub.status.busy": "2022-06-13T15:51:53.507540Z",
     "iopub.status.idle": "2022-06-13T15:51:53.984954Z",
     "shell.execute_reply": "2022-06-13T15:51:53.984184Z"
    },
    "papermill": {
     "duration": 0.515709,
     "end_time": "2022-06-13T15:51:53.986832",
     "exception": false,
     "start_time": "2022-06-13T15:51:53.471123",
     "status": "completed"
    },
    "tags": []
   },
   "outputs": [
    {
     "data": {
      "text/plain": [
       "46"
      ]
     },
     "execution_count": 27,
     "metadata": {},
     "output_type": "execute_result"
    }
   ],
   "source": [
    "del x_ids_train,x_reseen_train,x_simils_train,x_simils_feats_train,x_percentage_seen_train,x_item_related_train,y_train,y_features_train\n",
    "del x_ids_test,x_reseen_test,x_simils_test,x_simils_feats_test,x_percentage_seen_test,x_item_related_test,y_test,y_features_test\n",
    "gc.collect()"
   ]
  },
  {
   "cell_type": "code",
   "execution_count": 28,
   "id": "8b63b103",
   "metadata": {
    "execution": {
     "iopub.execute_input": "2022-06-13T15:51:54.033515Z",
     "iopub.status.busy": "2022-06-13T15:51:54.033136Z",
     "iopub.status.idle": "2022-06-13T15:51:54.038651Z",
     "shell.execute_reply": "2022-06-13T15:51:54.037938Z"
    },
    "id": "VsF_-eklOcvz",
    "outputId": "21081a36-8572-4b07-a2e3-c02b0f04c916",
    "papermill": {
     "duration": 0.032112,
     "end_time": "2022-06-13T15:51:54.040457",
     "exception": false,
     "start_time": "2022-06-13T15:51:54.008345",
     "status": "completed"
    },
    "tags": []
   },
   "outputs": [
    {
     "data": {
      "text/plain": [
       "((TensorSpec(shape=(None, 100), dtype=tf.int32, name=None),\n",
       "  TensorSpec(shape=(None, 100), dtype=tf.float64, name=None),\n",
       "  TensorSpec(shape=(None, 100), dtype=tf.float16, name=None),\n",
       "  TensorSpec(shape=(None, 100), dtype=tf.float16, name=None),\n",
       "  TensorSpec(shape=(None, 100), dtype=tf.float16, name=None),\n",
       "  TensorSpec(shape=(None, 100, 1), dtype=tf.float16, name=None),\n",
       "  TensorSpec(shape=(None, 28), dtype=tf.float64, name=None)),\n",
       " (TensorSpec(shape=(None,), dtype=tf.int64, name=None),\n",
       "  TensorSpec(shape=(None, 64), dtype=tf.float32, name=None)))"
      ]
     },
     "execution_count": 28,
     "metadata": {},
     "output_type": "execute_result"
    }
   ],
   "source": [
    "train_set_complete.element_spec"
   ]
  },
  {
   "cell_type": "code",
   "execution_count": 29,
   "id": "b21c0fba",
   "metadata": {
    "execution": {
     "iopub.execute_input": "2022-06-13T15:51:54.085044Z",
     "iopub.status.busy": "2022-06-13T15:51:54.084566Z",
     "iopub.status.idle": "2022-06-13T15:51:54.967540Z",
     "shell.execute_reply": "2022-06-13T15:51:54.966736Z"
    },
    "papermill": {
     "duration": 0.908109,
     "end_time": "2022-06-13T15:51:54.969686",
     "exception": false,
     "start_time": "2022-06-13T15:51:54.061577",
     "status": "completed"
    },
    "tags": []
   },
   "outputs": [],
   "source": [
    "embed_dim = 64  # Embedding size for each token\n",
    "maxlen = 100\n",
    "num_static = len(static_features)\n",
    "num_item_related = len(item_related_features)\n",
    "vocabulary_size = 23692 #max(train_purchases['item_id']) # Size of the vocabulary\n",
    "num_heads = 3\n",
    "ff_dim = 128\n",
    "transformer_width = 128 - num_static - num_item_related-4\n",
    "mlp_width = 256\n",
    "mlp_depth = 2\n",
    "###### INPUT ########### INPUT #####\n",
    "id_inputs = layers.Input(shape=(maxlen,), name='ids')\n",
    "item_related_inputs = layers.Input(shape=(maxlen, num_item_related), name='item_related_features')\n",
    "x_reseen_inputs = layers.Input(shape=(maxlen, 1), name='x_reseen_featurs')\n",
    "x_percentage_seen_inputs = layers.Input(shape=(maxlen, 1), name='x_percentage_seen')\n",
    "x_simils_inputs = layers.Input(shape=(maxlen, 1), name='x_similarities_embeddings')\n",
    "x_simils_feats_inputs = layers.Input(shape=(maxlen, 1), name='x_similarities_ICM')\n",
    "static_inputs = layers.Input(shape=(num_static,), name='static_features')\n",
    "\n",
    "\n",
    "##### MODEL DEFINITION #####\n",
    "\n",
    "learned_embedding = layers.Embedding(\n",
    "    input_dim=vocabulary_size, \n",
    "    output_dim=embed_dim,\n",
    "    mask_zero=True,\n",
    "    name='learned_embedding'\n",
    "    )(id_inputs)\n",
    "\n",
    "feature_embedding = layers.Embedding(\n",
    "    input_dim=embedding_weights.shape[0], \n",
    "    output_dim=embedding_weights.shape[1],\n",
    "    mask_zero=True,\n",
    "    trainable=False,\n",
    "    weights=[embedding_weights],\n",
    "    name='feature_embedding'\n",
    "    )(id_inputs)\n",
    "\n",
    "positional_embedding = PositionEmbedding(\n",
    "    maxlen, \n",
    "    embed_dim=embed_dim*2+num_item_related+4\n",
    "    )(id_inputs)\n",
    "\n",
    "embedding = layers.Concatenate(\n",
    "    name='embedding'\n",
    ")([learned_embedding, feature_embedding])\n",
    "\n",
    "masked_item_related_inputs = item_related_inputs[:, :tf.shape(id_inputs)[-1], :]\n",
    "\n",
    "embedding = layers.Concatenate()([embedding, masked_item_related_inputs, x_reseen_inputs,x_percentage_seen_inputs,x_simils_inputs,x_simils_feats_inputs])\n",
    "\n",
    "x_pre = embedding + positional_embedding\n",
    "\n",
    "x_post = TransformerBlock(\n",
    "    embed_dim*2+num_item_related+4, \n",
    "    num_heads, \n",
    "    ff_dim\n",
    "    )(x_pre)\n",
    "\n",
    "x_post = layers.Concatenate()([x_post, x_pre])\n",
    "x_post = layers.GlobalAveragePooling1D()(x_post)\n",
    "\n",
    "x_post = layers.Dense(\n",
    "    units=mlp_width-num_static, \n",
    "    activation='linear'\n",
    "    )(x_post)\n",
    "\n",
    "x_pre = layers.Concatenate()([x_post, static_inputs])\n",
    "\n",
    "for layer in range(mlp_depth):\n",
    "  x_post = layers.LayerNormalization()(x_pre)\n",
    "  x_post = layers.Dropout(0.2)(x_post)\n",
    "  x_post = layers.Dense(units=mlp_width, activation='gelu')(x_post)\n",
    "  x_pre = layers.Add()([x_pre, x_post])\n",
    "\n",
    "##### PREDICTION DEFINITION #####\n",
    "\n",
    "outputs = layers.Dense(19021, activation='softmax', name='y')(x_pre)\n",
    "secondary_outputs = layers.Dense(\n",
    "    units=shape, \n",
    "    activation='tanh',\n",
    "    name='y_features'\n",
    "    )(x_pre)\n",
    "\n",
    "model_for_training= tf.keras.Model(\n",
    "    inputs=[id_inputs, x_reseen_inputs, x_percentage_seen_inputs,x_simils_inputs,x_simils_feats_inputs,item_related_inputs, static_inputs],\n",
    "    outputs=[outputs, secondary_outputs],\n",
    "    name=\"encodermodel_training\"\n",
    "    )\n",
    "\n",
    "\n",
    "model_for_training.compile(\n",
    "    optimizer=tf.keras.optimizers.Adamax(\n",
    "        \n",
    "    ), \n",
    "    loss=[\n",
    "          lambda y_true, y_pred : tf.keras.losses.categorical_crossentropy(\n",
    "              tf.squeeze(tf.one_hot(tf.cast(y_true, dtype=tf.int32), 19020+1, axis=-1)),\n",
    "              y_pred,\n",
    "              label_smoothing=0.1\n",
    "              ),\n",
    "          'mse'\n",
    "    ],\n",
    "    loss_weights=[1, 1], \n",
    "    metrics=[\n",
    "             [\n",
    "              mrr_top_at(at=100)\n",
    "             ],\n",
    "             []\n",
    "             ]\n",
    "    )\n",
    "\n"
   ]
  },
  {
   "cell_type": "markdown",
   "id": "03ec1b76",
   "metadata": {
    "id": "lpmY1mZKLHD2",
    "papermill": {
     "duration": 0.021265,
     "end_time": "2022-06-13T15:51:55.013902",
     "exception": false,
     "start_time": "2022-06-13T15:51:54.992637",
     "status": "completed"
    },
    "tags": []
   },
   "source": [
    "# Plot"
   ]
  },
  {
   "cell_type": "markdown",
   "id": "50634bf8",
   "metadata": {
    "id": "Nl0SX9l385k5",
    "papermill": {
     "duration": 0.021133,
     "end_time": "2022-06-13T15:51:55.056367",
     "exception": false,
     "start_time": "2022-06-13T15:51:55.035234",
     "status": "completed"
    },
    "tags": []
   },
   "source": [
    "#Training"
   ]
  },
  {
   "cell_type": "code",
   "execution_count": 30,
   "id": "5deafa4d",
   "metadata": {
    "execution": {
     "iopub.execute_input": "2022-06-13T15:51:55.100603Z",
     "iopub.status.busy": "2022-06-13T15:51:55.099842Z",
     "iopub.status.idle": "2022-06-13T16:06:44.461121Z",
     "shell.execute_reply": "2022-06-13T16:06:44.460195Z"
    },
    "id": "_0ssXFFYfEpN",
    "outputId": "c8f4d966-3d89-4eeb-cefa-db47ddee34fa",
    "papermill": {
     "duration": 889.396889,
     "end_time": "2022-06-13T16:06:44.474620",
     "exception": false,
     "start_time": "2022-06-13T15:51:55.077731",
     "status": "completed"
    },
    "tags": []
   },
   "outputs": [
    {
     "name": "stdout",
     "output_type": "stream",
     "text": [
      "Epoch 1/2\n",
      "3/3 [==============================] - 5s 946ms/step - loss: 10.4573 - y_loss: 9.8670 - y_features_loss: 0.5903 - y_mrr_top: 9.3759e-04 - val_loss: 10.2091 - val_y_loss: 9.8291 - val_y_features_loss: 0.3800 - val_y_mrr_top: 0.0016\n",
      "Epoch 2/2\n",
      "3/3 [==============================] - 3s 770ms/step - loss: 9.5756 - y_loss: 9.1610 - y_features_loss: 0.4146 - y_mrr_top: 0.0090 - val_loss: 10.0837 - val_y_loss: 9.8076 - val_y_features_loss: 0.2761 - val_y_mrr_top: 0.0030\n"
     ]
    },
    {
     "data": {
      "text/plain": [
       "<keras.callbacks.History at 0x20edab06408>"
      ]
     },
     "execution_count": 30,
     "metadata": {},
     "output_type": "execute_result"
    }
   ],
   "source": [
    "gc.collect()\n",
    "if just_checking_integrity:\n",
    "    n_epochs=2\n",
    "else:\n",
    "    n_epochs=100\n",
    "monitor='val_y_mrr_top'\n",
    "model_for_training.fit(\n",
    "    train_set_complete,\n",
    "    validation_data=test_set_complete,\n",
    "    epochs=n_epochs,\n",
    "    callbacks=[\n",
    "               tf.keras.callbacks.EarlyStopping(\n",
    "                  monitor=monitor,\n",
    "                  mode='max',\n",
    "                  patience=1,\n",
    "                  min_delta=0.0001,\n",
    "                  restore_best_weights=True,\n",
    "              ),\n",
    "         ]\n",
    "    )"
   ]
  },
  {
   "cell_type": "markdown",
   "id": "606adf29",
   "metadata": {
    "id": "UovGTZ2a88G4",
    "papermill": {
     "duration": 0.022568,
     "end_time": "2022-06-13T16:06:44.519940",
     "exception": false,
     "start_time": "2022-06-13T16:06:44.497372",
     "status": "completed"
    },
    "tags": []
   },
   "source": [
    "# Prepare test predictions Leaderboard\n",
    "\n"
   ]
  },
  {
   "cell_type": "code",
   "execution_count": 31,
   "id": "c6a7d62e",
   "metadata": {
    "execution": {
     "iopub.execute_input": "2022-06-13T16:06:44.566987Z",
     "iopub.status.busy": "2022-06-13T16:06:44.566660Z",
     "iopub.status.idle": "2022-06-13T16:06:44.589899Z",
     "shell.execute_reply": "2022-06-13T16:06:44.589161Z"
    },
    "papermill": {
     "duration": 0.048993,
     "end_time": "2022-06-13T16:06:44.591607",
     "exception": false,
     "start_time": "2022-06-13T16:06:44.542614",
     "status": "completed"
    },
    "tags": []
   },
   "outputs": [],
   "source": [
    "del train_set_complete\n",
    "del test_set_complete"
   ]
  },
  {
   "cell_type": "code",
   "execution_count": 32,
   "id": "e392d3ac",
   "metadata": {
    "execution": {
     "iopub.execute_input": "2022-06-13T16:06:45.230061Z",
     "iopub.status.busy": "2022-06-13T16:06:45.229746Z",
     "iopub.status.idle": "2022-06-13T16:06:47.447985Z",
     "shell.execute_reply": "2022-06-13T16:06:47.447136Z"
    },
    "id": "8ZHwp5XdUQMo",
    "outputId": "c0042006-61e6-4876-c4a1-fe0672ba512c",
    "papermill": {
     "duration": 2.244434,
     "end_time": "2022-06-13T16:06:47.450210",
     "exception": false,
     "start_time": "2022-06-13T16:06:45.205776",
     "status": "completed"
    },
    "tags": []
   },
   "outputs": [
    {
     "data": {
      "text/plain": [
       "52"
      ]
     },
     "execution_count": 32,
     "metadata": {},
     "output_type": "execute_result"
    }
   ],
   "source": [
    "temp=pd.read_csv(\"../dataset/processed_data/macro_feats_NN_leaderboard.csv\")\n",
    "temp[\"item_id\"]=temp[\"item_id\"].map(ast.literal_eval)\n",
    "temp[\"timedelta\"]=temp[\"timedelta\"].map(ast.literal_eval)\n",
    "\n",
    "test_leaderboard_sessions=temp\n",
    "gc.collect()"
   ]
  },
  {
   "cell_type": "code",
   "execution_count": 33,
   "id": "927de505",
   "metadata": {
    "execution": {
     "iopub.execute_input": "2022-06-13T16:06:47.498838Z",
     "iopub.status.busy": "2022-06-13T16:06:47.498183Z",
     "iopub.status.idle": "2022-06-13T16:06:48.037874Z",
     "shell.execute_reply": "2022-06-13T16:06:48.037062Z"
    },
    "id": "VYwOpV_P8Qaq",
    "papermill": {
     "duration": 0.565867,
     "end_time": "2022-06-13T16:06:48.039989",
     "exception": false,
     "start_time": "2022-06-13T16:06:47.474122",
     "status": "completed"
    },
    "tags": []
   },
   "outputs": [],
   "source": [
    "\n",
    "x_reseen_test = tf.keras.preprocessing.sequence.pad_sequences( \n",
    "    test_leaderboard_sessions['item_id'].apply(is_reseen),  \n",
    "    padding='post', \n",
    "    maxlen=100, \n",
    ")\n",
    "\n",
    "x_percentage_seen_test = tf.keras.preprocessing.sequence.pad_sequences( \n",
    "    test_leaderboard_sessions['item_id'].apply(percentage_seen),  \n",
    "    padding='post', \n",
    "    maxlen=100, \n",
    ")"
   ]
  },
  {
   "cell_type": "code",
   "execution_count": 34,
   "id": "4bbcca2a",
   "metadata": {
    "execution": {
     "iopub.execute_input": "2022-06-13T16:06:48.089197Z",
     "iopub.status.busy": "2022-06-13T16:06:48.088494Z",
     "iopub.status.idle": "2022-06-13T16:06:59.057112Z",
     "shell.execute_reply": "2022-06-13T16:06:59.056307Z"
    },
    "id": "V0oYRw2NqxAn",
    "outputId": "361761d7-6426-429a-bff5-6f9138c8cb9e",
    "papermill": {
     "duration": 10.995595,
     "end_time": "2022-06-13T16:06:59.059286",
     "exception": false,
     "start_time": "2022-06-13T16:06:48.063691",
     "status": "completed"
    },
    "tags": []
   },
   "outputs": [
    {
     "name": "stderr",
     "output_type": "stream",
     "text": [
      "100%|██████████| 187/187 [00:00<00:00, 22522.18it/s]\n",
      "100%|██████████| 187/187 [00:00<00:00, 6645.67it/s]\n"
     ]
    }
   ],
   "source": [
    "x_simils_test = tf.keras.preprocessing.sequence.pad_sequences( \n",
    "    test_leaderboard_sessions['item_id'].progress_apply(similarity_with_preceding\n",
    "    ),  \n",
    "    padding='post', \n",
    "    maxlen=100, \n",
    "    dtype='float32',\n",
    ")\n",
    "x_simils_feats_test = tf.keras.preprocessing.sequence.pad_sequences( \n",
    "    test_leaderboard_sessions['item_id'].progress_apply(similarity_feats_with_preceding\n",
    "    ),  \n",
    "    padding='post', \n",
    "    maxlen=100, \n",
    "    dtype='float32',\n",
    ")"
   ]
  },
  {
   "cell_type": "code",
   "execution_count": 35,
   "id": "93cecdd9",
   "metadata": {
    "execution": {
     "iopub.execute_input": "2022-06-13T16:06:59.110460Z",
     "iopub.status.busy": "2022-06-13T16:06:59.110085Z",
     "iopub.status.idle": "2022-06-13T16:06:59.121248Z",
     "shell.execute_reply": "2022-06-13T16:06:59.120472Z"
    },
    "id": "vO99FK2nHBJ2",
    "papermill": {
     "duration": 0.038412,
     "end_time": "2022-06-13T16:06:59.123137",
     "exception": false,
     "start_time": "2022-06-13T16:06:59.084725",
     "status": "completed"
    },
    "tags": []
   },
   "outputs": [],
   "source": [
    "for col in ['length_of_session_seconds','avg_time_spent_per_item_seconds','variance_time_spent_per_item_seconds']:\n",
    "    test_leaderboard_sessions[col]=np.log10(test_leaderboard_sessions[col]+1)\n",
    "for col in ['n_seen_items','n_unique_items']:\n",
    "    test_leaderboard_sessions[col]=test_leaderboard_sessions[col]/100"
   ]
  },
  {
   "cell_type": "code",
   "execution_count": 36,
   "id": "6d2fe969",
   "metadata": {
    "execution": {
     "iopub.execute_input": "2022-06-13T16:06:59.174306Z",
     "iopub.status.busy": "2022-06-13T16:06:59.173642Z",
     "iopub.status.idle": "2022-06-13T16:06:59.379504Z",
     "shell.execute_reply": "2022-06-13T16:06:59.378552Z"
    },
    "id": "eWLYv6iRKBFt",
    "papermill": {
     "duration": 0.233343,
     "end_time": "2022-06-13T16:06:59.381721",
     "exception": false,
     "start_time": "2022-06-13T16:06:59.148378",
     "status": "completed"
    },
    "tags": []
   },
   "outputs": [
    {
     "data": {
      "text/plain": [
       "array([3404,    0,    0,    0,    0,    0,    0,    0,    0,    0,    0,\n",
       "          0,    0,    0,    0,    0,    0,    0,    0,    0,    0,    0,\n",
       "          0,    0,    0,    0,    0,    0,    0,    0,    0,    0,    0,\n",
       "          0,    0,    0,    0,    0,    0,    0,    0,    0,    0,    0,\n",
       "          0,    0,    0,    0,    0,    0,    0,    0,    0,    0,    0,\n",
       "          0,    0,    0,    0,    0,    0,    0,    0,    0,    0,    0,\n",
       "          0,    0,    0,    0,    0,    0,    0,    0,    0,    0,    0,\n",
       "          0,    0,    0,    0,    0,    0,    0,    0,    0,    0,    0,\n",
       "          0,    0,    0,    0,    0,    0,    0,    0,    0,    0,    0,\n",
       "          0])"
      ]
     },
     "execution_count": 36,
     "metadata": {},
     "output_type": "execute_result"
    }
   ],
   "source": [
    "x_test_leaderboard = tf.keras.preprocessing.sequence.pad_sequences(\n",
    "    test_leaderboard_sessions['item_id'], \n",
    "    padding='post',\n",
    "    maxlen=100\n",
    ")\n",
    "\n",
    "x_test_leaderboard[0]"
   ]
  },
  {
   "cell_type": "code",
   "execution_count": 37,
   "id": "4a1ca7da",
   "metadata": {
    "execution": {
     "iopub.execute_input": "2022-06-13T16:06:59.433021Z",
     "iopub.status.busy": "2022-06-13T16:06:59.432227Z",
     "iopub.status.idle": "2022-06-13T16:06:59.642095Z",
     "shell.execute_reply": "2022-06-13T16:06:59.640926Z"
    },
    "id": "sTI8eRx0g2Q3",
    "papermill": {
     "duration": 0.238214,
     "end_time": "2022-06-13T16:06:59.644606",
     "exception": false,
     "start_time": "2022-06-13T16:06:59.406392",
     "status": "completed"
    },
    "tags": []
   },
   "outputs": [
    {
     "name": "stdout",
     "output_type": "stream",
     "text": [
      "Padding timedelta\n"
     ]
    }
   ],
   "source": [
    "for item_related_feature in item_related_features:\n",
    "  print('Padding {}'.format(item_related_feature))\n",
    "  x_test_item_related = tf.keras.preprocessing.sequence.pad_sequences(\n",
    "      test_leaderboard_sessions[item_related_feature], \n",
    "      dtype='float16',\n",
    "      maxlen=100,\n",
    "      padding='post'\n",
    "    )"
   ]
  },
  {
   "cell_type": "code",
   "execution_count": 38,
   "id": "ae52b0f1",
   "metadata": {
    "execution": {
     "iopub.execute_input": "2022-06-13T16:06:59.698055Z",
     "iopub.status.busy": "2022-06-13T16:06:59.697292Z",
     "iopub.status.idle": "2022-06-13T16:06:59.701666Z",
     "shell.execute_reply": "2022-06-13T16:06:59.700865Z"
    },
    "id": "UF9ai22wg3VZ",
    "papermill": {
     "duration": 0.033071,
     "end_time": "2022-06-13T16:06:59.703533",
     "exception": false,
     "start_time": "2022-06-13T16:06:59.670462",
     "status": "completed"
    },
    "tags": []
   },
   "outputs": [],
   "source": [
    "if len(item_related_features) == 1:\n",
    "    x_test_item_related = np.expand_dims(x_test_item_related, axis=-1)"
   ]
  },
  {
   "cell_type": "code",
   "execution_count": 39,
   "id": "435fc2bf",
   "metadata": {
    "execution": {
     "iopub.execute_input": "2022-06-13T16:06:59.754252Z",
     "iopub.status.busy": "2022-06-13T16:06:59.753605Z",
     "iopub.status.idle": "2022-06-13T16:06:59.840357Z",
     "shell.execute_reply": "2022-06-13T16:06:59.839546Z"
    },
    "id": "9fVac3aeK4vm",
    "outputId": "c68a291a-dc01-4b97-ac7c-164c2aab245b",
    "papermill": {
     "duration": 0.114226,
     "end_time": "2022-06-13T16:06:59.842201",
     "exception": false,
     "start_time": "2022-06-13T16:06:59.727975",
     "status": "completed"
    },
    "tags": []
   },
   "outputs": [
    {
     "data": {
      "text/plain": [
       "(TensorSpec(shape=(None,), dtype=tf.int64, name=None),\n",
       " (TensorSpec(shape=(None, 100), dtype=tf.int32, name=None),\n",
       "  TensorSpec(shape=(None, 100), dtype=tf.float64, name=None),\n",
       "  TensorSpec(shape=(None, 100), dtype=tf.int32, name=None),\n",
       "  TensorSpec(shape=(None, 100), dtype=tf.float32, name=None),\n",
       "  TensorSpec(shape=(None, 100), dtype=tf.float32, name=None),\n",
       "  TensorSpec(shape=(None, 100, 1), dtype=tf.float16, name=None),\n",
       "  TensorSpec(shape=(None, 28), dtype=tf.float64, name=None)))"
      ]
     },
     "execution_count": 39,
     "metadata": {},
     "output_type": "execute_result"
    }
   ],
   "source": [
    "submission_set = tf.data.Dataset.from_tensor_slices(\n",
    "    (\n",
    "        test_leaderboard_sessions['session_id'], \n",
    "     (\n",
    "        x_test_leaderboard,\n",
    "        x_reseen_test/100,\n",
    "        x_percentage_seen_test,\n",
    "        x_simils_test,\n",
    "        x_simils_feats_test,\n",
    "        x_test_item_related,\n",
    "        test_leaderboard_sessions[static_features].to_numpy()\n",
    "     )\n",
    "    )\n",
    ").batch(512)\n",
    "\n",
    "submission_set.element_spec"
   ]
  },
  {
   "cell_type": "code",
   "execution_count": 40,
   "id": "b5127be2",
   "metadata": {
    "execution": {
     "iopub.execute_input": "2022-06-13T16:06:59.895073Z",
     "iopub.status.busy": "2022-06-13T16:06:59.894724Z",
     "iopub.status.idle": "2022-06-13T16:06:59.904723Z",
     "shell.execute_reply": "2022-06-13T16:06:59.903870Z"
    },
    "id": "IP93sIXULmFl",
    "outputId": "7a9ae89b-6b86-4af2-f483-70d5fb3a19a7",
    "papermill": {
     "duration": 0.037788,
     "end_time": "2022-06-13T16:06:59.906596",
     "exception": false,
     "start_time": "2022-06-13T16:06:59.868808",
     "status": "completed"
    },
    "tags": []
   },
   "outputs": [
    {
     "data": {
      "text/html": [
       "<div>\n",
       "<style scoped>\n",
       "    .dataframe tbody tr th:only-of-type {\n",
       "        vertical-align: middle;\n",
       "    }\n",
       "\n",
       "    .dataframe tbody tr th {\n",
       "        vertical-align: top;\n",
       "    }\n",
       "\n",
       "    .dataframe thead th {\n",
       "        text-align: right;\n",
       "    }\n",
       "</style>\n",
       "<table border=\"1\" class=\"dataframe\">\n",
       "  <thead>\n",
       "    <tr style=\"text-align: right;\">\n",
       "      <th></th>\n",
       "      <th>session_id</th>\n",
       "      <th>code</th>\n",
       "      <th>score</th>\n",
       "      <th>rank</th>\n",
       "    </tr>\n",
       "  </thead>\n",
       "  <tbody>\n",
       "  </tbody>\n",
       "</table>\n",
       "</div>"
      ],
      "text/plain": [
       "Empty DataFrame\n",
       "Columns: [session_id, code, score, rank]\n",
       "Index: []"
      ]
     },
     "execution_count": 40,
     "metadata": {},
     "output_type": "execute_result"
    }
   ],
   "source": [
    "submission_df = pd.DataFrame(\n",
    "    {\n",
    "        'session_id':[],\n",
    "        'code':[],\n",
    "        'score':[],\n",
    "        'rank':[]\n",
    "    }\n",
    ")\n",
    "\n",
    "submission_df.head()"
   ]
  },
  {
   "cell_type": "code",
   "execution_count": 41,
   "id": "31d538cf",
   "metadata": {
    "execution": {
     "iopub.execute_input": "2022-06-13T16:06:59.960033Z",
     "iopub.status.busy": "2022-06-13T16:06:59.959685Z",
     "iopub.status.idle": "2022-06-13T16:06:59.964819Z",
     "shell.execute_reply": "2022-06-13T16:06:59.964065Z"
    },
    "id": "gJupiRGSwENi",
    "papermill": {
     "duration": 0.032551,
     "end_time": "2022-06-13T16:06:59.966452",
     "exception": false,
     "start_time": "2022-06-13T16:06:59.933901",
     "status": "completed"
    },
    "tags": []
   },
   "outputs": [],
   "source": [
    "candidates=np.array([i+1 for i in range(4990)]) # this is for the test month"
   ]
  },
  {
   "cell_type": "code",
   "execution_count": 42,
   "id": "85266a92",
   "metadata": {
    "execution": {
     "iopub.execute_input": "2022-06-13T16:07:00.018957Z",
     "iopub.status.busy": "2022-06-13T16:07:00.018430Z",
     "iopub.status.idle": "2022-06-13T16:07:18.037881Z",
     "shell.execute_reply": "2022-06-13T16:07:18.037110Z"
    },
    "id": "-l4C_sIWL739",
    "outputId": "957848e5-78f5-4142-dce3-b2c5709e6192",
    "papermill": {
     "duration": 18.04733,
     "end_time": "2022-06-13T16:07:18.039739",
     "exception": false,
     "start_time": "2022-06-13T16:06:59.992409",
     "status": "completed"
    },
    "tags": []
   },
   "outputs": [
    {
     "data": {
      "text/html": [
       "<div>\n",
       "<style scoped>\n",
       "    .dataframe tbody tr th:only-of-type {\n",
       "        vertical-align: middle;\n",
       "    }\n",
       "\n",
       "    .dataframe tbody tr th {\n",
       "        vertical-align: top;\n",
       "    }\n",
       "\n",
       "    .dataframe thead th {\n",
       "        text-align: right;\n",
       "    }\n",
       "</style>\n",
       "<table border=\"1\" class=\"dataframe\">\n",
       "  <thead>\n",
       "    <tr style=\"text-align: right;\">\n",
       "      <th></th>\n",
       "      <th>session_id</th>\n",
       "      <th>code</th>\n",
       "      <th>score</th>\n",
       "      <th>rank</th>\n",
       "    </tr>\n",
       "  </thead>\n",
       "  <tbody>\n",
       "    <tr>\n",
       "      <th>0</th>\n",
       "      <td>26.0</td>\n",
       "      <td>(70, 4542, 3746, 1013, 1468, 554, 4467, 3159, ...</td>\n",
       "      <td>(0.00040767228, 0.00037857587, 0.00033339532, ...</td>\n",
       "      <td>(1, 2, 3, 4, 5, 6, 7, 8, 9, 10, 11, 12, 13, 14...</td>\n",
       "    </tr>\n",
       "    <tr>\n",
       "      <th>1</th>\n",
       "      <td>200.0</td>\n",
       "      <td>(70, 4542, 1013, 3746, 2954, 1468, 3306, 4913,...</td>\n",
       "      <td>(0.0004636039, 0.0003961286, 0.000377935, 0.00...</td>\n",
       "      <td>(1, 2, 3, 4, 5, 6, 7, 8, 9, 10, 11, 12, 13, 14...</td>\n",
       "    </tr>\n",
       "    <tr>\n",
       "      <th>2</th>\n",
       "      <td>205.0</td>\n",
       "      <td>(70, 4542, 3746, 1013, 3582, 554, 2276, 1468, ...</td>\n",
       "      <td>(0.00040314364, 0.00039233893, 0.00035109627, ...</td>\n",
       "      <td>(1, 2, 3, 4, 5, 6, 7, 8, 9, 10, 11, 12, 13, 14...</td>\n",
       "    </tr>\n",
       "    <tr>\n",
       "      <th>3</th>\n",
       "      <td>495.0</td>\n",
       "      <td>(70, 4542, 3746, 1013, 554, 1468, 1285, 1492, ...</td>\n",
       "      <td>(0.00039626146, 0.0003769631, 0.0003455542, 0....</td>\n",
       "      <td>(1, 2, 3, 4, 5, 6, 7, 8, 9, 10, 11, 12, 13, 14...</td>\n",
       "    </tr>\n",
       "    <tr>\n",
       "      <th>4</th>\n",
       "      <td>521.0</td>\n",
       "      <td>(70, 4542, 1013, 3746, 1468, 3159, 554, 4467, ...</td>\n",
       "      <td>(0.00043314122, 0.00037860684, 0.00034546212, ...</td>\n",
       "      <td>(1, 2, 3, 4, 5, 6, 7, 8, 9, 10, 11, 12, 13, 14...</td>\n",
       "    </tr>\n",
       "  </tbody>\n",
       "</table>\n",
       "</div>"
      ],
      "text/plain": [
       "   session_id                                               code  \\\n",
       "0        26.0  (70, 4542, 3746, 1013, 1468, 554, 4467, 3159, ...   \n",
       "1       200.0  (70, 4542, 1013, 3746, 2954, 1468, 3306, 4913,...   \n",
       "2       205.0  (70, 4542, 3746, 1013, 3582, 554, 2276, 1468, ...   \n",
       "3       495.0  (70, 4542, 3746, 1013, 554, 1468, 1285, 1492, ...   \n",
       "4       521.0  (70, 4542, 1013, 3746, 1468, 3159, 554, 4467, ...   \n",
       "\n",
       "                                               score  \\\n",
       "0  (0.00040767228, 0.00037857587, 0.00033339532, ...   \n",
       "1  (0.0004636039, 0.0003961286, 0.000377935, 0.00...   \n",
       "2  (0.00040314364, 0.00039233893, 0.00035109627, ...   \n",
       "3  (0.00039626146, 0.0003769631, 0.0003455542, 0....   \n",
       "4  (0.00043314122, 0.00037860684, 0.00034546212, ...   \n",
       "\n",
       "                                                rank  \n",
       "0  (1, 2, 3, 4, 5, 6, 7, 8, 9, 10, 11, 12, 13, 14...  \n",
       "1  (1, 2, 3, 4, 5, 6, 7, 8, 9, 10, 11, 12, 13, 14...  \n",
       "2  (1, 2, 3, 4, 5, 6, 7, 8, 9, 10, 11, 12, 13, 14...  \n",
       "3  (1, 2, 3, 4, 5, 6, 7, 8, 9, 10, 11, 12, 13, 14...  \n",
       "4  (1, 2, 3, 4, 5, 6, 7, 8, 9, 10, 11, 12, 13, 14...  "
      ]
     },
     "execution_count": 42,
     "metadata": {},
     "output_type": "execute_result"
    }
   ],
   "source": [
    "for session_ids, sessions in submission_set:\n",
    "    predicted_scores=model_for_training(sessions)[0].numpy()\n",
    "    mask = np.ones(predicted_scores.shape[1], dtype=bool)\n",
    "    mask[candidates] = False\n",
    "    predicted_scores[...,mask]=-np.inf\n",
    "    predicted_scores=tf.convert_to_tensor(predicted_scores)\n",
    "    preds=tf.math.top_k(predicted_scores, k=100)\n",
    "    scores=preds.values.numpy()\n",
    "    code = preds.indices.numpy()\n",
    "    prediction = pd.DataFrame(\n",
    "        {\n",
    "            'session_id':session_ids,\n",
    "            'code':[tuple(v) for v in code],\n",
    "            'score':[tuple(v) for v in scores],\n",
    "            'rank':[tuple([rank for rank in range(1, 101)]) for id in session_ids]\n",
    "        }\n",
    "        )\n",
    "\n",
    "    submission_df = pd.concat([submission_df, prediction])\n",
    "    \n",
    "submission_df.head()"
   ]
  },
  {
   "cell_type": "code",
   "execution_count": 43,
   "id": "22bb8d27",
   "metadata": {
    "execution": {
     "iopub.execute_input": "2022-06-13T16:07:18.090162Z",
     "iopub.status.busy": "2022-06-13T16:07:18.089885Z",
     "iopub.status.idle": "2022-06-13T16:07:27.315685Z",
     "shell.execute_reply": "2022-06-13T16:07:27.314650Z"
    },
    "id": "emdOXrjf06eZ",
    "papermill": {
     "duration": 9.25344,
     "end_time": "2022-06-13T16:07:27.317993",
     "exception": false,
     "start_time": "2022-06-13T16:07:18.064553",
     "status": "completed"
    },
    "tags": []
   },
   "outputs": [],
   "source": [
    "submission_df.to_csv(\n",
    "    '../dataset/candidates/NN/Transformer/leaderboard/candidates.csv',\n",
    "    index=False\n",
    "    )"
   ]
  },
  {
   "cell_type": "code",
   "execution_count": 44,
   "id": "f8b16f3a",
   "metadata": {
    "execution": {
     "iopub.execute_input": "2022-06-13T16:07:27.375159Z",
     "iopub.status.busy": "2022-06-13T16:07:27.374821Z",
     "iopub.status.idle": "2022-06-13T16:07:27.845061Z",
     "shell.execute_reply": "2022-06-13T16:07:27.844139Z"
    },
    "papermill": {
     "duration": 0.500731,
     "end_time": "2022-06-13T16:07:27.847107",
     "exception": false,
     "start_time": "2022-06-13T16:07:27.346376",
     "status": "completed"
    },
    "tags": []
   },
   "outputs": [
    {
     "data": {
      "text/plain": [
       "46"
      ]
     },
     "execution_count": 44,
     "metadata": {},
     "output_type": "execute_result"
    }
   ],
   "source": [
    "del submission_df\n",
    "gc.collect()"
   ]
  },
  {
   "cell_type": "markdown",
   "id": "ec0adaeb",
   "metadata": {
    "id": "4az6_O4azfs2",
    "papermill": {
     "duration": 0.025043,
     "end_time": "2022-06-13T16:07:27.900378",
     "exception": false,
     "start_time": "2022-06-13T16:07:27.875335",
     "status": "completed"
    },
    "tags": []
   },
   "source": [
    "# Prepare test predictions Final\n",
    " "
   ]
  },
  {
   "cell_type": "code",
   "execution_count": 45,
   "id": "bbb14e22",
   "metadata": {
    "execution": {
     "iopub.execute_input": "2022-06-13T16:07:27.950917Z",
     "iopub.status.busy": "2022-06-13T16:07:27.950365Z",
     "iopub.status.idle": "2022-06-13T16:07:30.185820Z",
     "shell.execute_reply": "2022-06-13T16:07:30.185064Z"
    },
    "id": "Jx07xkgczfs8",
    "outputId": "1af3b69b-0f67-41f6-cf25-fdffe81d3349",
    "papermill": {
     "duration": 2.262505,
     "end_time": "2022-06-13T16:07:30.187617",
     "exception": false,
     "start_time": "2022-06-13T16:07:27.925112",
     "status": "completed"
    },
    "tags": []
   },
   "outputs": [
    {
     "data": {
      "text/plain": [
       "736"
      ]
     },
     "execution_count": 45,
     "metadata": {},
     "output_type": "execute_result"
    }
   ],
   "source": [
    "temp=pd.read_csv(\"../dataset/processed_data/macro_feats_NN_final.csv\")\n",
    "temp[\"item_id\"]=temp[\"item_id\"].map(ast.literal_eval)\n",
    "temp[\"timedelta\"]=temp[\"timedelta\"].map(ast.literal_eval)\n",
    "\n",
    "test_leaderboard_sessions=temp\n",
    "gc.collect()"
   ]
  },
  {
   "cell_type": "code",
   "execution_count": 46,
   "id": "78c383bd",
   "metadata": {
    "execution": {
     "iopub.execute_input": "2022-06-13T16:07:30.239639Z",
     "iopub.status.busy": "2022-06-13T16:07:30.239351Z",
     "iopub.status.idle": "2022-06-13T16:07:30.769535Z",
     "shell.execute_reply": "2022-06-13T16:07:30.768754Z"
    },
    "id": "zTVEILKwzfs8",
    "papermill": {
     "duration": 0.558819,
     "end_time": "2022-06-13T16:07:30.771619",
     "exception": false,
     "start_time": "2022-06-13T16:07:30.212800",
     "status": "completed"
    },
    "tags": []
   },
   "outputs": [],
   "source": [
    "\n",
    "x_reseen_test = tf.keras.preprocessing.sequence.pad_sequences( \n",
    "    test_leaderboard_sessions['item_id'].apply(is_reseen),  \n",
    "    padding='post', \n",
    "    maxlen=100, \n",
    ")\n",
    "\n",
    "x_percentage_seen_test = tf.keras.preprocessing.sequence.pad_sequences( \n",
    "    test_leaderboard_sessions['item_id'].apply(percentage_seen),  \n",
    "    padding='post', \n",
    "    maxlen=100, \n",
    ")"
   ]
  },
  {
   "cell_type": "code",
   "execution_count": 47,
   "id": "f78be361",
   "metadata": {
    "execution": {
     "iopub.execute_input": "2022-06-13T16:07:30.823882Z",
     "iopub.status.busy": "2022-06-13T16:07:30.823069Z",
     "iopub.status.idle": "2022-06-13T16:07:41.429301Z",
     "shell.execute_reply": "2022-06-13T16:07:41.428512Z"
    },
    "id": "QGlXXgxXzfs8",
    "outputId": "503076ee-5ae6-4e62-a9ac-5282a77db5d5",
    "papermill": {
     "duration": 10.634753,
     "end_time": "2022-06-13T16:07:41.431863",
     "exception": false,
     "start_time": "2022-06-13T16:07:30.797110",
     "status": "completed"
    },
    "tags": []
   },
   "outputs": [
    {
     "name": "stderr",
     "output_type": "stream",
     "text": [
      "100%|██████████| 250/250 [00:00<00:00, 19696.01it/s]\n",
      "100%|██████████| 250/250 [00:00<00:00, 6376.92it/s]\n"
     ]
    }
   ],
   "source": [
    "x_simils_test = tf.keras.preprocessing.sequence.pad_sequences( \n",
    "    test_leaderboard_sessions['item_id'].progress_apply(similarity_with_preceding\n",
    "    ),  \n",
    "    padding='post', \n",
    "    maxlen=100, \n",
    "    dtype='float32',\n",
    ")\n",
    "x_simils_feats_test = tf.keras.preprocessing.sequence.pad_sequences( \n",
    "    test_leaderboard_sessions['item_id'].progress_apply(similarity_feats_with_preceding\n",
    "    ),  \n",
    "    padding='post', \n",
    "    maxlen=100, \n",
    "    dtype='float32',\n",
    ")"
   ]
  },
  {
   "cell_type": "code",
   "execution_count": 48,
   "id": "637ad44b",
   "metadata": {
    "execution": {
     "iopub.execute_input": "2022-06-13T16:07:41.518852Z",
     "iopub.status.busy": "2022-06-13T16:07:41.518502Z",
     "iopub.status.idle": "2022-06-13T16:07:41.533748Z",
     "shell.execute_reply": "2022-06-13T16:07:41.533097Z"
    },
    "id": "6N6wRHE3zfs9",
    "papermill": {
     "duration": 0.063237,
     "end_time": "2022-06-13T16:07:41.538915",
     "exception": false,
     "start_time": "2022-06-13T16:07:41.475678",
     "status": "completed"
    },
    "tags": []
   },
   "outputs": [],
   "source": [
    "for col in ['length_of_session_seconds','avg_time_spent_per_item_seconds','variance_time_spent_per_item_seconds']:\n",
    "    test_leaderboard_sessions[col]=np.log10(test_leaderboard_sessions[col]+1)\n",
    "for col in ['n_seen_items','n_unique_items']:\n",
    "    test_leaderboard_sessions[col]=test_leaderboard_sessions[col]/100"
   ]
  },
  {
   "cell_type": "code",
   "execution_count": 49,
   "id": "42ac81fe",
   "metadata": {
    "execution": {
     "iopub.execute_input": "2022-06-13T16:07:41.624584Z",
     "iopub.status.busy": "2022-06-13T16:07:41.624236Z",
     "iopub.status.idle": "2022-06-13T16:07:41.884050Z",
     "shell.execute_reply": "2022-06-13T16:07:41.883153Z"
    },
    "id": "KKI4M-lQzfs9",
    "papermill": {
     "duration": 0.304858,
     "end_time": "2022-06-13T16:07:41.885813",
     "exception": false,
     "start_time": "2022-06-13T16:07:41.580955",
     "status": "completed"
    },
    "tags": []
   },
   "outputs": [
    {
     "data": {
      "text/plain": [
       "array([4785,    0,    0,    0,    0,    0,    0,    0,    0,    0,    0,\n",
       "          0,    0,    0,    0,    0,    0,    0,    0,    0,    0,    0,\n",
       "          0,    0,    0,    0,    0,    0,    0,    0,    0,    0,    0,\n",
       "          0,    0,    0,    0,    0,    0,    0,    0,    0,    0,    0,\n",
       "          0,    0,    0,    0,    0,    0,    0,    0,    0,    0,    0,\n",
       "          0,    0,    0,    0,    0,    0,    0,    0,    0,    0,    0,\n",
       "          0,    0,    0,    0,    0,    0,    0,    0,    0,    0,    0,\n",
       "          0,    0,    0,    0,    0,    0,    0,    0,    0,    0,    0,\n",
       "          0,    0,    0,    0,    0,    0,    0,    0,    0,    0,    0,\n",
       "          0])"
      ]
     },
     "execution_count": 49,
     "metadata": {},
     "output_type": "execute_result"
    }
   ],
   "source": [
    "x_test_leaderboard = tf.keras.preprocessing.sequence.pad_sequences(\n",
    "    test_leaderboard_sessions['item_id'], \n",
    "    padding='post',\n",
    "    maxlen=100\n",
    ")\n",
    "\n",
    "x_test_leaderboard[0]"
   ]
  },
  {
   "cell_type": "code",
   "execution_count": 50,
   "id": "36e7fdf4",
   "metadata": {
    "execution": {
     "iopub.execute_input": "2022-06-13T16:07:41.939634Z",
     "iopub.status.busy": "2022-06-13T16:07:41.939353Z",
     "iopub.status.idle": "2022-06-13T16:07:42.140989Z",
     "shell.execute_reply": "2022-06-13T16:07:42.140019Z"
    },
    "id": "WTKySipZzfs9",
    "papermill": {
     "duration": 0.230588,
     "end_time": "2022-06-13T16:07:42.142676",
     "exception": false,
     "start_time": "2022-06-13T16:07:41.912088",
     "status": "completed"
    },
    "tags": []
   },
   "outputs": [
    {
     "name": "stdout",
     "output_type": "stream",
     "text": [
      "Padding timedelta\n"
     ]
    }
   ],
   "source": [
    "\n",
    "for item_related_feature in item_related_features:\n",
    "    print('Padding {}'.format(item_related_feature))\n",
    "    x_test_item_related = tf.keras.preprocessing.sequence.pad_sequences(\n",
    "        test_leaderboard_sessions[item_related_feature], \n",
    "        dtype='float16',\n",
    "        maxlen=100,\n",
    "        padding='post'\n",
    "    )"
   ]
  },
  {
   "cell_type": "code",
   "execution_count": 51,
   "id": "afdfa217",
   "metadata": {
    "execution": {
     "iopub.execute_input": "2022-06-13T16:07:42.194870Z",
     "iopub.status.busy": "2022-06-13T16:07:42.194599Z",
     "iopub.status.idle": "2022-06-13T16:07:42.198447Z",
     "shell.execute_reply": "2022-06-13T16:07:42.197658Z"
    },
    "id": "dYq6I9HFzfs9",
    "papermill": {
     "duration": 0.031637,
     "end_time": "2022-06-13T16:07:42.200092",
     "exception": false,
     "start_time": "2022-06-13T16:07:42.168455",
     "status": "completed"
    },
    "tags": []
   },
   "outputs": [],
   "source": [
    "if len(item_related_features) == 1:\n",
    "    x_test_item_related = np.expand_dims(x_test_item_related, axis=-1)"
   ]
  },
  {
   "cell_type": "code",
   "execution_count": 52,
   "id": "d6648b94",
   "metadata": {
    "execution": {
     "iopub.execute_input": "2022-06-13T16:07:42.252111Z",
     "iopub.status.busy": "2022-06-13T16:07:42.251862Z",
     "iopub.status.idle": "2022-06-13T16:07:42.337982Z",
     "shell.execute_reply": "2022-06-13T16:07:42.337289Z"
    },
    "id": "8-i1CPSBzfs9",
    "papermill": {
     "duration": 0.114158,
     "end_time": "2022-06-13T16:07:42.339663",
     "exception": false,
     "start_time": "2022-06-13T16:07:42.225505",
     "status": "completed"
    },
    "tags": []
   },
   "outputs": [
    {
     "data": {
      "text/plain": [
       "(TensorSpec(shape=(None,), dtype=tf.int64, name=None),\n",
       " (TensorSpec(shape=(None, 100), dtype=tf.int32, name=None),\n",
       "  TensorSpec(shape=(None, 100), dtype=tf.float64, name=None),\n",
       "  TensorSpec(shape=(None, 100), dtype=tf.int32, name=None),\n",
       "  TensorSpec(shape=(None, 100), dtype=tf.float32, name=None),\n",
       "  TensorSpec(shape=(None, 100), dtype=tf.float32, name=None),\n",
       "  TensorSpec(shape=(None, 100, 1), dtype=tf.float16, name=None),\n",
       "  TensorSpec(shape=(None, 28), dtype=tf.float64, name=None)))"
      ]
     },
     "execution_count": 52,
     "metadata": {},
     "output_type": "execute_result"
    }
   ],
   "source": [
    "submission_set = tf.data.Dataset.from_tensor_slices(\n",
    "    (\n",
    "        test_leaderboard_sessions['session_id'], \n",
    "     (\n",
    "        x_test_leaderboard,\n",
    "        x_reseen_test/100,\n",
    "        x_percentage_seen_test,\n",
    "        x_simils_test,\n",
    "        x_simils_feats_test,\n",
    "        x_test_item_related,\n",
    "        test_leaderboard_sessions[static_features].to_numpy()\n",
    "     )\n",
    "    )\n",
    ").batch(512)\n",
    "submission_set.element_spec"
   ]
  },
  {
   "cell_type": "code",
   "execution_count": 53,
   "id": "7b49535c",
   "metadata": {
    "execution": {
     "iopub.execute_input": "2022-06-13T16:07:42.392015Z",
     "iopub.status.busy": "2022-06-13T16:07:42.391745Z",
     "iopub.status.idle": "2022-06-13T16:07:42.400774Z",
     "shell.execute_reply": "2022-06-13T16:07:42.399954Z"
    },
    "id": "nBWqAAifzfs9",
    "outputId": "ef752c28-242e-481b-e28b-c8985b3c6583",
    "papermill": {
     "duration": 0.036877,
     "end_time": "2022-06-13T16:07:42.402465",
     "exception": false,
     "start_time": "2022-06-13T16:07:42.365588",
     "status": "completed"
    },
    "tags": []
   },
   "outputs": [
    {
     "data": {
      "text/html": [
       "<div>\n",
       "<style scoped>\n",
       "    .dataframe tbody tr th:only-of-type {\n",
       "        vertical-align: middle;\n",
       "    }\n",
       "\n",
       "    .dataframe tbody tr th {\n",
       "        vertical-align: top;\n",
       "    }\n",
       "\n",
       "    .dataframe thead th {\n",
       "        text-align: right;\n",
       "    }\n",
       "</style>\n",
       "<table border=\"1\" class=\"dataframe\">\n",
       "  <thead>\n",
       "    <tr style=\"text-align: right;\">\n",
       "      <th></th>\n",
       "      <th>session_id</th>\n",
       "      <th>code</th>\n",
       "      <th>score</th>\n",
       "      <th>rank</th>\n",
       "    </tr>\n",
       "  </thead>\n",
       "  <tbody>\n",
       "  </tbody>\n",
       "</table>\n",
       "</div>"
      ],
      "text/plain": [
       "Empty DataFrame\n",
       "Columns: [session_id, code, score, rank]\n",
       "Index: []"
      ]
     },
     "execution_count": 53,
     "metadata": {},
     "output_type": "execute_result"
    }
   ],
   "source": [
    "submission_df = pd.DataFrame(\n",
    "    {\n",
    "        'session_id':[],\n",
    "        'code':[],\n",
    "        'score':[],\n",
    "        'rank':[]\n",
    "    }\n",
    ")\n",
    "\n",
    "submission_df.head()"
   ]
  },
  {
   "cell_type": "code",
   "execution_count": 54,
   "id": "2ad3e22d",
   "metadata": {
    "execution": {
     "iopub.execute_input": "2022-06-13T16:07:42.462536Z",
     "iopub.status.busy": "2022-06-13T16:07:42.462250Z",
     "iopub.status.idle": "2022-06-13T16:07:42.467189Z",
     "shell.execute_reply": "2022-06-13T16:07:42.466421Z"
    },
    "id": "TuZJwnvXzfs9",
    "papermill": {
     "duration": 0.04065,
     "end_time": "2022-06-13T16:07:42.468857",
     "exception": false,
     "start_time": "2022-06-13T16:07:42.428207",
     "status": "completed"
    },
    "tags": []
   },
   "outputs": [],
   "source": [
    "candidates=np.array([i+1 for i in range(4990)])"
   ]
  },
  {
   "cell_type": "code",
   "execution_count": 55,
   "id": "6a0589d1",
   "metadata": {
    "execution": {
     "iopub.execute_input": "2022-06-13T16:07:42.522535Z",
     "iopub.status.busy": "2022-06-13T16:07:42.522284Z",
     "iopub.status.idle": "2022-06-13T16:08:00.037931Z",
     "shell.execute_reply": "2022-06-13T16:08:00.037126Z"
    },
    "id": "Od4bsrrSzfs9",
    "outputId": "37400c3f-6c42-4d6c-8cab-ad1461893e34",
    "papermill": {
     "duration": 17.543777,
     "end_time": "2022-06-13T16:08:00.039747",
     "exception": false,
     "start_time": "2022-06-13T16:07:42.495970",
     "status": "completed"
    },
    "tags": []
   },
   "outputs": [
    {
     "data": {
      "text/html": [
       "<div>\n",
       "<style scoped>\n",
       "    .dataframe tbody tr th:only-of-type {\n",
       "        vertical-align: middle;\n",
       "    }\n",
       "\n",
       "    .dataframe tbody tr th {\n",
       "        vertical-align: top;\n",
       "    }\n",
       "\n",
       "    .dataframe thead th {\n",
       "        text-align: right;\n",
       "    }\n",
       "</style>\n",
       "<table border=\"1\" class=\"dataframe\">\n",
       "  <thead>\n",
       "    <tr style=\"text-align: right;\">\n",
       "      <th></th>\n",
       "      <th>session_id</th>\n",
       "      <th>code</th>\n",
       "      <th>score</th>\n",
       "      <th>rank</th>\n",
       "    </tr>\n",
       "  </thead>\n",
       "  <tbody>\n",
       "    <tr>\n",
       "      <th>0</th>\n",
       "      <td>61.0</td>\n",
       "      <td>(70, 4542, 3746, 1013, 3159, 1468, 1285, 4467,...</td>\n",
       "      <td>(0.00042923176, 0.0003909904, 0.0003440626, 0....</td>\n",
       "      <td>(1, 2, 3, 4, 5, 6, 7, 8, 9, 10, 11, 12, 13, 14...</td>\n",
       "    </tr>\n",
       "    <tr>\n",
       "      <th>1</th>\n",
       "      <td>96.0</td>\n",
       "      <td>(70, 1013, 4542, 3746, 3306, 2954, 1468, 4913,...</td>\n",
       "      <td>(0.0004737305, 0.0004167835, 0.00040447258, 0....</td>\n",
       "      <td>(1, 2, 3, 4, 5, 6, 7, 8, 9, 10, 11, 12, 13, 14...</td>\n",
       "    </tr>\n",
       "    <tr>\n",
       "      <th>2</th>\n",
       "      <td>185.0</td>\n",
       "      <td>(70, 4542, 1013, 3746, 3306, 1468, 2954, 200, ...</td>\n",
       "      <td>(0.00043799888, 0.00041217578, 0.00038827432, ...</td>\n",
       "      <td>(1, 2, 3, 4, 5, 6, 7, 8, 9, 10, 11, 12, 13, 14...</td>\n",
       "    </tr>\n",
       "    <tr>\n",
       "      <th>3</th>\n",
       "      <td>224.0</td>\n",
       "      <td>(70, 4542, 1013, 3306, 3746, 1468, 2954, 200, ...</td>\n",
       "      <td>(0.00041886145, 0.00037395643, 0.00035142642, ...</td>\n",
       "      <td>(1, 2, 3, 4, 5, 6, 7, 8, 9, 10, 11, 12, 13, 14...</td>\n",
       "    </tr>\n",
       "    <tr>\n",
       "      <th>4</th>\n",
       "      <td>285.0</td>\n",
       "      <td>(70, 4542, 1013, 3746, 1468, 3159, 1285, 4467,...</td>\n",
       "      <td>(0.0004358132, 0.00038659244, 0.00034629757, 0...</td>\n",
       "      <td>(1, 2, 3, 4, 5, 6, 7, 8, 9, 10, 11, 12, 13, 14...</td>\n",
       "    </tr>\n",
       "  </tbody>\n",
       "</table>\n",
       "</div>"
      ],
      "text/plain": [
       "   session_id                                               code  \\\n",
       "0        61.0  (70, 4542, 3746, 1013, 3159, 1468, 1285, 4467,...   \n",
       "1        96.0  (70, 1013, 4542, 3746, 3306, 2954, 1468, 4913,...   \n",
       "2       185.0  (70, 4542, 1013, 3746, 3306, 1468, 2954, 200, ...   \n",
       "3       224.0  (70, 4542, 1013, 3306, 3746, 1468, 2954, 200, ...   \n",
       "4       285.0  (70, 4542, 1013, 3746, 1468, 3159, 1285, 4467,...   \n",
       "\n",
       "                                               score  \\\n",
       "0  (0.00042923176, 0.0003909904, 0.0003440626, 0....   \n",
       "1  (0.0004737305, 0.0004167835, 0.00040447258, 0....   \n",
       "2  (0.00043799888, 0.00041217578, 0.00038827432, ...   \n",
       "3  (0.00041886145, 0.00037395643, 0.00035142642, ...   \n",
       "4  (0.0004358132, 0.00038659244, 0.00034629757, 0...   \n",
       "\n",
       "                                                rank  \n",
       "0  (1, 2, 3, 4, 5, 6, 7, 8, 9, 10, 11, 12, 13, 14...  \n",
       "1  (1, 2, 3, 4, 5, 6, 7, 8, 9, 10, 11, 12, 13, 14...  \n",
       "2  (1, 2, 3, 4, 5, 6, 7, 8, 9, 10, 11, 12, 13, 14...  \n",
       "3  (1, 2, 3, 4, 5, 6, 7, 8, 9, 10, 11, 12, 13, 14...  \n",
       "4  (1, 2, 3, 4, 5, 6, 7, 8, 9, 10, 11, 12, 13, 14...  "
      ]
     },
     "execution_count": 55,
     "metadata": {},
     "output_type": "execute_result"
    }
   ],
   "source": [
    "for session_ids, sessions in submission_set:\n",
    "    predicted_scores=model_for_training(sessions)[0].numpy()\n",
    "    mask = np.ones(predicted_scores.shape[1], dtype=bool)\n",
    "    mask[candidates] = False\n",
    "    predicted_scores[...,mask]=-np.inf\n",
    "    predicted_scores=tf.convert_to_tensor(predicted_scores)\n",
    "    preds=tf.math.top_k(predicted_scores, k=100)\n",
    "    scores=preds.values.numpy()\n",
    "    code = preds.indices.numpy()\n",
    "    prediction = pd.DataFrame(\n",
    "        {\n",
    "            'session_id':session_ids,\n",
    "            'code':[tuple(v) for v in code],\n",
    "            'score':[tuple(v) for v in scores],\n",
    "            'rank':[tuple([rank for rank in range(1, 101)]) for id in session_ids]\n",
    "        }\n",
    "        )\n",
    "\n",
    "    submission_df = pd.concat([submission_df, prediction])\n",
    "    \n",
    "submission_df.head()"
   ]
  },
  {
   "cell_type": "code",
   "execution_count": 56,
   "id": "0174eab0",
   "metadata": {
    "execution": {
     "iopub.execute_input": "2022-06-13T16:08:00.095110Z",
     "iopub.status.busy": "2022-06-13T16:08:00.094831Z",
     "iopub.status.idle": "2022-06-13T16:08:09.121282Z",
     "shell.execute_reply": "2022-06-13T16:08:09.120413Z"
    },
    "id": "IOOPYCfp0dfE",
    "papermill": {
     "duration": 9.056726,
     "end_time": "2022-06-13T16:08:09.123326",
     "exception": false,
     "start_time": "2022-06-13T16:08:00.066600",
     "status": "completed"
    },
    "tags": []
   },
   "outputs": [],
   "source": [
    "submission_df.to_csv(\n",
    "    '../dataset/candidates/NN/Transformer/final/candidates.csv',\n",
    "    index=False\n",
    "    )"
   ]
  },
  {
   "cell_type": "code",
   "execution_count": null,
   "id": "627bb6fe",
   "metadata": {
    "id": "jvB2UEFlzfs-",
    "papermill": {
     "duration": 0.026333,
     "end_time": "2022-06-13T16:08:09.177035",
     "exception": false,
     "start_time": "2022-06-13T16:08:09.150702",
     "status": "completed"
    },
    "tags": []
   },
   "outputs": [],
   "source": []
  }
 ],
 "metadata": {
  "kernelspec": {
   "display_name": "Python 3.7.0 ('sub_env')",
   "language": "python",
   "name": "python3"
  },
  "language_info": {
   "codemirror_mode": {
    "name": "ipython",
    "version": 3
   },
   "file_extension": ".py",
   "mimetype": "text/x-python",
   "name": "python",
   "nbconvert_exporter": "python",
   "pygments_lexer": "ipython3",
   "version": "3.7.13"
  },
  "papermill": {
   "default_parameters": {},
   "duration": 1387.380693,
   "end_time": "2022-06-13T16:08:12.026465",
   "environment_variables": {},
   "exception": null,
   "input_path": "__notebook__.ipynb",
   "output_path": "__notebook__.ipynb",
   "parameters": {},
   "start_time": "2022-06-13T15:45:04.645772",
   "version": "2.3.4"
  },
  "vscode": {
   "interpreter": {
    "hash": "61f38fddaed46afda7c40a5798d4631266e18af1d335aa6f772dc3ed9b8ab549"
   }
  },
  "widgets": {
   "application/vnd.jupyter.widget-state+json": {
    "state": {
     "04e95865ac024c8684f04ab88aa012f7": {
      "model_module": "@jupyter-widgets/controls",
      "model_module_version": "1.5.0",
      "model_name": "DescriptionStyleModel",
      "state": {
       "_model_module": "@jupyter-widgets/controls",
       "_model_module_version": "1.5.0",
       "_model_name": "DescriptionStyleModel",
       "_view_count": null,
       "_view_module": "@jupyter-widgets/base",
       "_view_module_version": "1.2.0",
       "_view_name": "StyleView",
       "description_width": ""
      }
     },
     "05772905cbde49489a8a86426ca37052": {
      "model_module": "@jupyter-widgets/base",
      "model_module_version": "1.2.0",
      "model_name": "LayoutModel",
      "state": {
       "_model_module": "@jupyter-widgets/base",
       "_model_module_version": "1.2.0",
       "_model_name": "LayoutModel",
       "_view_count": null,
       "_view_module": "@jupyter-widgets/base",
       "_view_module_version": "1.2.0",
       "_view_name": "LayoutView",
       "align_content": null,
       "align_items": null,
       "align_self": null,
       "border": null,
       "bottom": null,
       "display": null,
       "flex": null,
       "flex_flow": null,
       "grid_area": null,
       "grid_auto_columns": null,
       "grid_auto_flow": null,
       "grid_auto_rows": null,
       "grid_column": null,
       "grid_gap": null,
       "grid_row": null,
       "grid_template_areas": null,
       "grid_template_columns": null,
       "grid_template_rows": null,
       "height": null,
       "justify_content": null,
       "justify_items": null,
       "left": null,
       "margin": null,
       "max_height": null,
       "max_width": null,
       "min_height": null,
       "min_width": null,
       "object_fit": null,
       "object_position": null,
       "order": null,
       "overflow": null,
       "overflow_x": null,
       "overflow_y": null,
       "padding": null,
       "right": null,
       "top": null,
       "visibility": null,
       "width": null
      }
     },
     "05d30a92c6564c79a0334a94b4187c23": {
      "model_module": "@jupyter-widgets/base",
      "model_module_version": "1.2.0",
      "model_name": "LayoutModel",
      "state": {
       "_model_module": "@jupyter-widgets/base",
       "_model_module_version": "1.2.0",
       "_model_name": "LayoutModel",
       "_view_count": null,
       "_view_module": "@jupyter-widgets/base",
       "_view_module_version": "1.2.0",
       "_view_name": "LayoutView",
       "align_content": null,
       "align_items": null,
       "align_self": null,
       "border": null,
       "bottom": null,
       "display": null,
       "flex": null,
       "flex_flow": null,
       "grid_area": null,
       "grid_auto_columns": null,
       "grid_auto_flow": null,
       "grid_auto_rows": null,
       "grid_column": null,
       "grid_gap": null,
       "grid_row": null,
       "grid_template_areas": null,
       "grid_template_columns": null,
       "grid_template_rows": null,
       "height": null,
       "justify_content": null,
       "justify_items": null,
       "left": null,
       "margin": null,
       "max_height": null,
       "max_width": null,
       "min_height": null,
       "min_width": null,
       "object_fit": null,
       "object_position": null,
       "order": null,
       "overflow": null,
       "overflow_x": null,
       "overflow_y": null,
       "padding": null,
       "right": null,
       "top": null,
       "visibility": null,
       "width": null
      }
     },
     "0869f1bc96d349c5bd486b208f5c0fbe": {
      "model_module": "@jupyter-widgets/base",
      "model_module_version": "1.2.0",
      "model_name": "LayoutModel",
      "state": {
       "_model_module": "@jupyter-widgets/base",
       "_model_module_version": "1.2.0",
       "_model_name": "LayoutModel",
       "_view_count": null,
       "_view_module": "@jupyter-widgets/base",
       "_view_module_version": "1.2.0",
       "_view_name": "LayoutView",
       "align_content": null,
       "align_items": null,
       "align_self": null,
       "border": null,
       "bottom": null,
       "display": null,
       "flex": null,
       "flex_flow": null,
       "grid_area": null,
       "grid_auto_columns": null,
       "grid_auto_flow": null,
       "grid_auto_rows": null,
       "grid_column": null,
       "grid_gap": null,
       "grid_row": null,
       "grid_template_areas": null,
       "grid_template_columns": null,
       "grid_template_rows": null,
       "height": null,
       "justify_content": null,
       "justify_items": null,
       "left": null,
       "margin": null,
       "max_height": null,
       "max_width": null,
       "min_height": null,
       "min_width": null,
       "object_fit": null,
       "object_position": null,
       "order": null,
       "overflow": null,
       "overflow_x": null,
       "overflow_y": null,
       "padding": null,
       "right": null,
       "top": null,
       "visibility": null,
       "width": null
      }
     },
     "0c715c6f642f41fb8326ce25bf3485bf": {
      "model_module": "@jupyter-widgets/base",
      "model_module_version": "1.2.0",
      "model_name": "LayoutModel",
      "state": {
       "_model_module": "@jupyter-widgets/base",
       "_model_module_version": "1.2.0",
       "_model_name": "LayoutModel",
       "_view_count": null,
       "_view_module": "@jupyter-widgets/base",
       "_view_module_version": "1.2.0",
       "_view_name": "LayoutView",
       "align_content": null,
       "align_items": null,
       "align_self": null,
       "border": null,
       "bottom": null,
       "display": null,
       "flex": null,
       "flex_flow": null,
       "grid_area": null,
       "grid_auto_columns": null,
       "grid_auto_flow": null,
       "grid_auto_rows": null,
       "grid_column": null,
       "grid_gap": null,
       "grid_row": null,
       "grid_template_areas": null,
       "grid_template_columns": null,
       "grid_template_rows": null,
       "height": null,
       "justify_content": null,
       "justify_items": null,
       "left": null,
       "margin": null,
       "max_height": null,
       "max_width": null,
       "min_height": null,
       "min_width": null,
       "object_fit": null,
       "object_position": null,
       "order": null,
       "overflow": null,
       "overflow_x": null,
       "overflow_y": null,
       "padding": null,
       "right": null,
       "top": null,
       "visibility": null,
       "width": null
      }
     },
     "0dc06162f29f41b18ea4d66318353630": {
      "model_module": "@jupyter-widgets/base",
      "model_module_version": "1.2.0",
      "model_name": "LayoutModel",
      "state": {
       "_model_module": "@jupyter-widgets/base",
       "_model_module_version": "1.2.0",
       "_model_name": "LayoutModel",
       "_view_count": null,
       "_view_module": "@jupyter-widgets/base",
       "_view_module_version": "1.2.0",
       "_view_name": "LayoutView",
       "align_content": null,
       "align_items": null,
       "align_self": null,
       "border": null,
       "bottom": null,
       "display": null,
       "flex": null,
       "flex_flow": null,
       "grid_area": null,
       "grid_auto_columns": null,
       "grid_auto_flow": null,
       "grid_auto_rows": null,
       "grid_column": null,
       "grid_gap": null,
       "grid_row": null,
       "grid_template_areas": null,
       "grid_template_columns": null,
       "grid_template_rows": null,
       "height": null,
       "justify_content": null,
       "justify_items": null,
       "left": null,
       "margin": null,
       "max_height": null,
       "max_width": null,
       "min_height": null,
       "min_width": null,
       "object_fit": null,
       "object_position": null,
       "order": null,
       "overflow": null,
       "overflow_x": null,
       "overflow_y": null,
       "padding": null,
       "right": null,
       "top": null,
       "visibility": null,
       "width": null
      }
     },
     "0f534e3036c346ee905871cb418cbee3": {
      "model_module": "@jupyter-widgets/controls",
      "model_module_version": "1.5.0",
      "model_name": "DescriptionStyleModel",
      "state": {
       "_model_module": "@jupyter-widgets/controls",
       "_model_module_version": "1.5.0",
       "_model_name": "DescriptionStyleModel",
       "_view_count": null,
       "_view_module": "@jupyter-widgets/base",
       "_view_module_version": "1.2.0",
       "_view_name": "StyleView",
       "description_width": ""
      }
     },
     "124364718b0344459ff93988f1ebff83": {
      "model_module": "@jupyter-widgets/base",
      "model_module_version": "1.2.0",
      "model_name": "LayoutModel",
      "state": {
       "_model_module": "@jupyter-widgets/base",
       "_model_module_version": "1.2.0",
       "_model_name": "LayoutModel",
       "_view_count": null,
       "_view_module": "@jupyter-widgets/base",
       "_view_module_version": "1.2.0",
       "_view_name": "LayoutView",
       "align_content": null,
       "align_items": null,
       "align_self": null,
       "border": null,
       "bottom": null,
       "display": null,
       "flex": null,
       "flex_flow": null,
       "grid_area": null,
       "grid_auto_columns": null,
       "grid_auto_flow": null,
       "grid_auto_rows": null,
       "grid_column": null,
       "grid_gap": null,
       "grid_row": null,
       "grid_template_areas": null,
       "grid_template_columns": null,
       "grid_template_rows": null,
       "height": null,
       "justify_content": null,
       "justify_items": null,
       "left": null,
       "margin": null,
       "max_height": null,
       "max_width": null,
       "min_height": null,
       "min_width": null,
       "object_fit": null,
       "object_position": null,
       "order": null,
       "overflow": null,
       "overflow_x": null,
       "overflow_y": null,
       "padding": null,
       "right": null,
       "top": null,
       "visibility": null,
       "width": null
      }
     },
     "13e8ff1374054215953bacd8ae869afb": {
      "model_module": "@jupyter-widgets/controls",
      "model_module_version": "1.5.0",
      "model_name": "DescriptionStyleModel",
      "state": {
       "_model_module": "@jupyter-widgets/controls",
       "_model_module_version": "1.5.0",
       "_model_name": "DescriptionStyleModel",
       "_view_count": null,
       "_view_module": "@jupyter-widgets/base",
       "_view_module_version": "1.2.0",
       "_view_name": "StyleView",
       "description_width": ""
      }
     },
     "14b07194066b48bd83e56ee9dff47614": {
      "model_module": "@jupyter-widgets/controls",
      "model_module_version": "1.5.0",
      "model_name": "ProgressStyleModel",
      "state": {
       "_model_module": "@jupyter-widgets/controls",
       "_model_module_version": "1.5.0",
       "_model_name": "ProgressStyleModel",
       "_view_count": null,
       "_view_module": "@jupyter-widgets/base",
       "_view_module_version": "1.2.0",
       "_view_name": "StyleView",
       "bar_color": null,
       "description_width": ""
      }
     },
     "1b7e11e448db4adea983b9a8e467bd8b": {
      "model_module": "@jupyter-widgets/controls",
      "model_module_version": "1.5.0",
      "model_name": "HTMLModel",
      "state": {
       "_dom_classes": [],
       "_model_module": "@jupyter-widgets/controls",
       "_model_module_version": "1.5.0",
       "_model_name": "HTMLModel",
       "_view_count": null,
       "_view_module": "@jupyter-widgets/controls",
       "_view_module_version": "1.5.0",
       "_view_name": "HTMLView",
       "description": "",
       "description_tooltip": null,
       "layout": "IPY_MODEL_05d30a92c6564c79a0334a94b4187c23",
       "placeholder": "​",
       "style": "IPY_MODEL_6a05ff2aa535476aab7584245208140c",
       "value": " 1000000/1000000 [00:03&lt;00:00, 171437.09it/s]"
      }
     },
     "1d62e5854bcc4e33a6835fbe77860a48": {
      "model_module": "@jupyter-widgets/base",
      "model_module_version": "1.2.0",
      "model_name": "LayoutModel",
      "state": {
       "_model_module": "@jupyter-widgets/base",
       "_model_module_version": "1.2.0",
       "_model_name": "LayoutModel",
       "_view_count": null,
       "_view_module": "@jupyter-widgets/base",
       "_view_module_version": "1.2.0",
       "_view_name": "LayoutView",
       "align_content": null,
       "align_items": null,
       "align_self": null,
       "border": null,
       "bottom": null,
       "display": null,
       "flex": null,
       "flex_flow": null,
       "grid_area": null,
       "grid_auto_columns": null,
       "grid_auto_flow": null,
       "grid_auto_rows": null,
       "grid_column": null,
       "grid_gap": null,
       "grid_row": null,
       "grid_template_areas": null,
       "grid_template_columns": null,
       "grid_template_rows": null,
       "height": null,
       "justify_content": null,
       "justify_items": null,
       "left": null,
       "margin": null,
       "max_height": null,
       "max_width": null,
       "min_height": null,
       "min_width": null,
       "object_fit": null,
       "object_position": null,
       "order": null,
       "overflow": null,
       "overflow_x": null,
       "overflow_y": null,
       "padding": null,
       "right": null,
       "top": null,
       "visibility": null,
       "width": null
      }
     },
     "202d1b08fd5e451a9c0539abeadef5ff": {
      "model_module": "@jupyter-widgets/controls",
      "model_module_version": "1.5.0",
      "model_name": "DescriptionStyleModel",
      "state": {
       "_model_module": "@jupyter-widgets/controls",
       "_model_module_version": "1.5.0",
       "_model_name": "DescriptionStyleModel",
       "_view_count": null,
       "_view_module": "@jupyter-widgets/base",
       "_view_module_version": "1.2.0",
       "_view_name": "StyleView",
       "description_width": ""
      }
     },
     "28deaee7afa843c99bb664a431eddc9a": {
      "model_module": "@jupyter-widgets/base",
      "model_module_version": "1.2.0",
      "model_name": "LayoutModel",
      "state": {
       "_model_module": "@jupyter-widgets/base",
       "_model_module_version": "1.2.0",
       "_model_name": "LayoutModel",
       "_view_count": null,
       "_view_module": "@jupyter-widgets/base",
       "_view_module_version": "1.2.0",
       "_view_name": "LayoutView",
       "align_content": null,
       "align_items": null,
       "align_self": null,
       "border": null,
       "bottom": null,
       "display": null,
       "flex": null,
       "flex_flow": null,
       "grid_area": null,
       "grid_auto_columns": null,
       "grid_auto_flow": null,
       "grid_auto_rows": null,
       "grid_column": null,
       "grid_gap": null,
       "grid_row": null,
       "grid_template_areas": null,
       "grid_template_columns": null,
       "grid_template_rows": null,
       "height": null,
       "justify_content": null,
       "justify_items": null,
       "left": null,
       "margin": null,
       "max_height": null,
       "max_width": null,
       "min_height": null,
       "min_width": null,
       "object_fit": null,
       "object_position": null,
       "order": null,
       "overflow": null,
       "overflow_x": null,
       "overflow_y": null,
       "padding": null,
       "right": null,
       "top": null,
       "visibility": null,
       "width": null
      }
     },
     "2a88591a958d423cbb4221acf27dc8be": {
      "model_module": "@jupyter-widgets/controls",
      "model_module_version": "1.5.0",
      "model_name": "HBoxModel",
      "state": {
       "_dom_classes": [],
       "_model_module": "@jupyter-widgets/controls",
       "_model_module_version": "1.5.0",
       "_model_name": "HBoxModel",
       "_view_count": null,
       "_view_module": "@jupyter-widgets/controls",
       "_view_module_version": "1.5.0",
       "_view_name": "HBoxView",
       "box_style": "",
       "children": [
        "IPY_MODEL_beef80da6b7b49d0a9b3d34ba992f481",
        "IPY_MODEL_bdccd10cf2f445e281ca31e31045cb27",
        "IPY_MODEL_bcd2494661714966875c04e1b6c78655"
       ],
       "layout": "IPY_MODEL_0dc06162f29f41b18ea4d66318353630"
      }
     },
     "2db025ae969b47af8f53cf94ae757d85": {
      "model_module": "@jupyter-widgets/controls",
      "model_module_version": "1.5.0",
      "model_name": "HTMLModel",
      "state": {
       "_dom_classes": [],
       "_model_module": "@jupyter-widgets/controls",
       "_model_module_version": "1.5.0",
       "_model_name": "HTMLModel",
       "_view_count": null,
       "_view_module": "@jupyter-widgets/controls",
       "_view_module_version": "1.5.0",
       "_view_name": "HTMLView",
       "description": "",
       "description_tooltip": null,
       "layout": "IPY_MODEL_d212ef0391004001b510b3814e51aebe",
       "placeholder": "​",
       "style": "IPY_MODEL_706fbe58a6784280ad93da0a14f13139",
       "value": "100%"
      }
     },
     "305417928bd04d20b89178f5017698da": {
      "model_module": "@jupyter-widgets/base",
      "model_module_version": "1.2.0",
      "model_name": "LayoutModel",
      "state": {
       "_model_module": "@jupyter-widgets/base",
       "_model_module_version": "1.2.0",
       "_model_name": "LayoutModel",
       "_view_count": null,
       "_view_module": "@jupyter-widgets/base",
       "_view_module_version": "1.2.0",
       "_view_name": "LayoutView",
       "align_content": null,
       "align_items": null,
       "align_self": null,
       "border": null,
       "bottom": null,
       "display": null,
       "flex": null,
       "flex_flow": null,
       "grid_area": null,
       "grid_auto_columns": null,
       "grid_auto_flow": null,
       "grid_auto_rows": null,
       "grid_column": null,
       "grid_gap": null,
       "grid_row": null,
       "grid_template_areas": null,
       "grid_template_columns": null,
       "grid_template_rows": null,
       "height": null,
       "justify_content": null,
       "justify_items": null,
       "left": null,
       "margin": null,
       "max_height": null,
       "max_width": null,
       "min_height": null,
       "min_width": null,
       "object_fit": null,
       "object_position": null,
       "order": null,
       "overflow": null,
       "overflow_x": null,
       "overflow_y": null,
       "padding": null,
       "right": null,
       "top": null,
       "visibility": null,
       "width": null
      }
     },
     "3245a86b5e944298add9157641381dc6": {
      "model_module": "@jupyter-widgets/base",
      "model_module_version": "1.2.0",
      "model_name": "LayoutModel",
      "state": {
       "_model_module": "@jupyter-widgets/base",
       "_model_module_version": "1.2.0",
       "_model_name": "LayoutModel",
       "_view_count": null,
       "_view_module": "@jupyter-widgets/base",
       "_view_module_version": "1.2.0",
       "_view_name": "LayoutView",
       "align_content": null,
       "align_items": null,
       "align_self": null,
       "border": null,
       "bottom": null,
       "display": null,
       "flex": null,
       "flex_flow": null,
       "grid_area": null,
       "grid_auto_columns": null,
       "grid_auto_flow": null,
       "grid_auto_rows": null,
       "grid_column": null,
       "grid_gap": null,
       "grid_row": null,
       "grid_template_areas": null,
       "grid_template_columns": null,
       "grid_template_rows": null,
       "height": null,
       "justify_content": null,
       "justify_items": null,
       "left": null,
       "margin": null,
       "max_height": null,
       "max_width": null,
       "min_height": null,
       "min_width": null,
       "object_fit": null,
       "object_position": null,
       "order": null,
       "overflow": null,
       "overflow_x": null,
       "overflow_y": null,
       "padding": null,
       "right": null,
       "top": null,
       "visibility": null,
       "width": null
      }
     },
     "3865a55d4e5f467a9dfeb4cd38852023": {
      "model_module": "@jupyter-widgets/base",
      "model_module_version": "1.2.0",
      "model_name": "LayoutModel",
      "state": {
       "_model_module": "@jupyter-widgets/base",
       "_model_module_version": "1.2.0",
       "_model_name": "LayoutModel",
       "_view_count": null,
       "_view_module": "@jupyter-widgets/base",
       "_view_module_version": "1.2.0",
       "_view_name": "LayoutView",
       "align_content": null,
       "align_items": null,
       "align_self": null,
       "border": null,
       "bottom": null,
       "display": null,
       "flex": null,
       "flex_flow": null,
       "grid_area": null,
       "grid_auto_columns": null,
       "grid_auto_flow": null,
       "grid_auto_rows": null,
       "grid_column": null,
       "grid_gap": null,
       "grid_row": null,
       "grid_template_areas": null,
       "grid_template_columns": null,
       "grid_template_rows": null,
       "height": null,
       "justify_content": null,
       "justify_items": null,
       "left": null,
       "margin": null,
       "max_height": null,
       "max_width": null,
       "min_height": null,
       "min_width": null,
       "object_fit": null,
       "object_position": null,
       "order": null,
       "overflow": null,
       "overflow_x": null,
       "overflow_y": null,
       "padding": null,
       "right": null,
       "top": null,
       "visibility": null,
       "width": null
      }
     },
     "3e7c9c1176434dd885390ba9a401cb41": {
      "model_module": "@jupyter-widgets/controls",
      "model_module_version": "1.5.0",
      "model_name": "ProgressStyleModel",
      "state": {
       "_model_module": "@jupyter-widgets/controls",
       "_model_module_version": "1.5.0",
       "_model_name": "ProgressStyleModel",
       "_view_count": null,
       "_view_module": "@jupyter-widgets/base",
       "_view_module_version": "1.2.0",
       "_view_name": "StyleView",
       "bar_color": null,
       "description_width": ""
      }
     },
     "4082e21330724da3b1c0a2fdbcad1b3c": {
      "model_module": "@jupyter-widgets/controls",
      "model_module_version": "1.5.0",
      "model_name": "HBoxModel",
      "state": {
       "_dom_classes": [],
       "_model_module": "@jupyter-widgets/controls",
       "_model_module_version": "1.5.0",
       "_model_name": "HBoxModel",
       "_view_count": null,
       "_view_module": "@jupyter-widgets/controls",
       "_view_module_version": "1.5.0",
       "_view_name": "HBoxView",
       "box_style": "",
       "children": [
        "IPY_MODEL_fd56de7bdfdc4e5f8b4572703d07d573",
        "IPY_MODEL_b48dbd89fd2f4ba291979bf176bff71f",
        "IPY_MODEL_6931121737854d8eac68c9cd19a2fca2"
       ],
       "layout": "IPY_MODEL_bc92b6be887a480fa97e393daeb69326"
      }
     },
     "472e87702682432fbdc3f3de603d0ab7": {
      "model_module": "@jupyter-widgets/base",
      "model_module_version": "1.2.0",
      "model_name": "LayoutModel",
      "state": {
       "_model_module": "@jupyter-widgets/base",
       "_model_module_version": "1.2.0",
       "_model_name": "LayoutModel",
       "_view_count": null,
       "_view_module": "@jupyter-widgets/base",
       "_view_module_version": "1.2.0",
       "_view_name": "LayoutView",
       "align_content": null,
       "align_items": null,
       "align_self": null,
       "border": null,
       "bottom": null,
       "display": null,
       "flex": null,
       "flex_flow": null,
       "grid_area": null,
       "grid_auto_columns": null,
       "grid_auto_flow": null,
       "grid_auto_rows": null,
       "grid_column": null,
       "grid_gap": null,
       "grid_row": null,
       "grid_template_areas": null,
       "grid_template_columns": null,
       "grid_template_rows": null,
       "height": null,
       "justify_content": null,
       "justify_items": null,
       "left": null,
       "margin": null,
       "max_height": null,
       "max_width": null,
       "min_height": null,
       "min_width": null,
       "object_fit": null,
       "object_position": null,
       "order": null,
       "overflow": null,
       "overflow_x": null,
       "overflow_y": null,
       "padding": null,
       "right": null,
       "top": null,
       "visibility": null,
       "width": null
      }
     },
     "4736e8d75e80416aa853b8870b041299": {
      "model_module": "@jupyter-widgets/base",
      "model_module_version": "1.2.0",
      "model_name": "LayoutModel",
      "state": {
       "_model_module": "@jupyter-widgets/base",
       "_model_module_version": "1.2.0",
       "_model_name": "LayoutModel",
       "_view_count": null,
       "_view_module": "@jupyter-widgets/base",
       "_view_module_version": "1.2.0",
       "_view_name": "LayoutView",
       "align_content": null,
       "align_items": null,
       "align_self": null,
       "border": null,
       "bottom": null,
       "display": null,
       "flex": null,
       "flex_flow": null,
       "grid_area": null,
       "grid_auto_columns": null,
       "grid_auto_flow": null,
       "grid_auto_rows": null,
       "grid_column": null,
       "grid_gap": null,
       "grid_row": null,
       "grid_template_areas": null,
       "grid_template_columns": null,
       "grid_template_rows": null,
       "height": null,
       "justify_content": null,
       "justify_items": null,
       "left": null,
       "margin": null,
       "max_height": null,
       "max_width": null,
       "min_height": null,
       "min_width": null,
       "object_fit": null,
       "object_position": null,
       "order": null,
       "overflow": null,
       "overflow_x": null,
       "overflow_y": null,
       "padding": null,
       "right": null,
       "top": null,
       "visibility": null,
       "width": null
      }
     },
     "4f6268623a304a099f2054bde040daa6": {
      "model_module": "@jupyter-widgets/controls",
      "model_module_version": "1.5.0",
      "model_name": "HTMLModel",
      "state": {
       "_dom_classes": [],
       "_model_module": "@jupyter-widgets/controls",
       "_model_module_version": "1.5.0",
       "_model_name": "HTMLModel",
       "_view_count": null,
       "_view_module": "@jupyter-widgets/controls",
       "_view_module_version": "1.5.0",
       "_view_name": "HTMLView",
       "description": "",
       "description_tooltip": null,
       "layout": "IPY_MODEL_472e87702682432fbdc3f3de603d0ab7",
       "placeholder": "​",
       "style": "IPY_MODEL_a9291b1156b749a795e5190ee84a6192",
       "value": " 50000/50000 [00:01&lt;00:00, 26316.61it/s]"
      }
     },
     "5659b4fcc5e44614891d5dd7f180a9e7": {
      "model_module": "@jupyter-widgets/controls",
      "model_module_version": "1.5.0",
      "model_name": "HBoxModel",
      "state": {
       "_dom_classes": [],
       "_model_module": "@jupyter-widgets/controls",
       "_model_module_version": "1.5.0",
       "_model_name": "HBoxModel",
       "_view_count": null,
       "_view_module": "@jupyter-widgets/controls",
       "_view_module_version": "1.5.0",
       "_view_name": "HBoxView",
       "box_style": "",
       "children": [
        "IPY_MODEL_f6ace203bcb6474cacdd832292bf0628",
        "IPY_MODEL_c3d24584477f42ad88dd77fef19c3fc0",
        "IPY_MODEL_7dae9e892f49408986bc384d72d456b6"
       ],
       "layout": "IPY_MODEL_4736e8d75e80416aa853b8870b041299"
      }
     },
     "5c92351f7dd14c20a3b51e23fed871f8": {
      "model_module": "@jupyter-widgets/base",
      "model_module_version": "1.2.0",
      "model_name": "LayoutModel",
      "state": {
       "_model_module": "@jupyter-widgets/base",
       "_model_module_version": "1.2.0",
       "_model_name": "LayoutModel",
       "_view_count": null,
       "_view_module": "@jupyter-widgets/base",
       "_view_module_version": "1.2.0",
       "_view_name": "LayoutView",
       "align_content": null,
       "align_items": null,
       "align_self": null,
       "border": null,
       "bottom": null,
       "display": null,
       "flex": null,
       "flex_flow": null,
       "grid_area": null,
       "grid_auto_columns": null,
       "grid_auto_flow": null,
       "grid_auto_rows": null,
       "grid_column": null,
       "grid_gap": null,
       "grid_row": null,
       "grid_template_areas": null,
       "grid_template_columns": null,
       "grid_template_rows": null,
       "height": null,
       "justify_content": null,
       "justify_items": null,
       "left": null,
       "margin": null,
       "max_height": null,
       "max_width": null,
       "min_height": null,
       "min_width": null,
       "object_fit": null,
       "object_position": null,
       "order": null,
       "overflow": null,
       "overflow_x": null,
       "overflow_y": null,
       "padding": null,
       "right": null,
       "top": null,
       "visibility": null,
       "width": null
      }
     },
     "5d876c38b8bf4d3396f34525fd7c0f34": {
      "model_module": "@jupyter-widgets/base",
      "model_module_version": "1.2.0",
      "model_name": "LayoutModel",
      "state": {
       "_model_module": "@jupyter-widgets/base",
       "_model_module_version": "1.2.0",
       "_model_name": "LayoutModel",
       "_view_count": null,
       "_view_module": "@jupyter-widgets/base",
       "_view_module_version": "1.2.0",
       "_view_name": "LayoutView",
       "align_content": null,
       "align_items": null,
       "align_self": null,
       "border": null,
       "bottom": null,
       "display": null,
       "flex": null,
       "flex_flow": null,
       "grid_area": null,
       "grid_auto_columns": null,
       "grid_auto_flow": null,
       "grid_auto_rows": null,
       "grid_column": null,
       "grid_gap": null,
       "grid_row": null,
       "grid_template_areas": null,
       "grid_template_columns": null,
       "grid_template_rows": null,
       "height": null,
       "justify_content": null,
       "justify_items": null,
       "left": null,
       "margin": null,
       "max_height": null,
       "max_width": null,
       "min_height": null,
       "min_width": null,
       "object_fit": null,
       "object_position": null,
       "order": null,
       "overflow": null,
       "overflow_x": null,
       "overflow_y": null,
       "padding": null,
       "right": null,
       "top": null,
       "visibility": null,
       "width": null
      }
     },
     "6041de4790414912bdf303fcdee8a64e": {
      "model_module": "@jupyter-widgets/controls",
      "model_module_version": "1.5.0",
      "model_name": "HTMLModel",
      "state": {
       "_dom_classes": [],
       "_model_module": "@jupyter-widgets/controls",
       "_model_module_version": "1.5.0",
       "_model_name": "HTMLModel",
       "_view_count": null,
       "_view_module": "@jupyter-widgets/controls",
       "_view_module_version": "1.5.0",
       "_view_name": "HTMLView",
       "description": "",
       "description_tooltip": null,
       "layout": "IPY_MODEL_be1433c2ddeb431782b7380a53e8c042",
       "placeholder": "​",
       "style": "IPY_MODEL_be86026e99364c1c96ee5bf0fbec58a4",
       "value": "100%"
      }
     },
     "6363a8609abd416ca78aa0fae86bfa50": {
      "model_module": "@jupyter-widgets/base",
      "model_module_version": "1.2.0",
      "model_name": "LayoutModel",
      "state": {
       "_model_module": "@jupyter-widgets/base",
       "_model_module_version": "1.2.0",
       "_model_name": "LayoutModel",
       "_view_count": null,
       "_view_module": "@jupyter-widgets/base",
       "_view_module_version": "1.2.0",
       "_view_name": "LayoutView",
       "align_content": null,
       "align_items": null,
       "align_self": null,
       "border": null,
       "bottom": null,
       "display": null,
       "flex": null,
       "flex_flow": null,
       "grid_area": null,
       "grid_auto_columns": null,
       "grid_auto_flow": null,
       "grid_auto_rows": null,
       "grid_column": null,
       "grid_gap": null,
       "grid_row": null,
       "grid_template_areas": null,
       "grid_template_columns": null,
       "grid_template_rows": null,
       "height": null,
       "justify_content": null,
       "justify_items": null,
       "left": null,
       "margin": null,
       "max_height": null,
       "max_width": null,
       "min_height": null,
       "min_width": null,
       "object_fit": null,
       "object_position": null,
       "order": null,
       "overflow": null,
       "overflow_x": null,
       "overflow_y": null,
       "padding": null,
       "right": null,
       "top": null,
       "visibility": null,
       "width": null
      }
     },
     "65a18728e9a341688721ce05187a282b": {
      "model_module": "@jupyter-widgets/controls",
      "model_module_version": "1.5.0",
      "model_name": "HTMLModel",
      "state": {
       "_dom_classes": [],
       "_model_module": "@jupyter-widgets/controls",
       "_model_module_version": "1.5.0",
       "_model_name": "HTMLModel",
       "_view_count": null,
       "_view_module": "@jupyter-widgets/controls",
       "_view_module_version": "1.5.0",
       "_view_name": "HTMLView",
       "description": "",
       "description_tooltip": null,
       "layout": "IPY_MODEL_5d876c38b8bf4d3396f34525fd7c0f34",
       "placeholder": "​",
       "style": "IPY_MODEL_fc1af34139904ed5a273ed09332ff0bd",
       "value": " 50000/50000 [00:01&lt;00:00, 25834.78it/s]"
      }
     },
     "6931121737854d8eac68c9cd19a2fca2": {
      "model_module": "@jupyter-widgets/controls",
      "model_module_version": "1.5.0",
      "model_name": "HTMLModel",
      "state": {
       "_dom_classes": [],
       "_model_module": "@jupyter-widgets/controls",
       "_model_module_version": "1.5.0",
       "_model_name": "HTMLModel",
       "_view_count": null,
       "_view_module": "@jupyter-widgets/controls",
       "_view_module_version": "1.5.0",
       "_view_name": "HTMLView",
       "description": "",
       "description_tooltip": null,
       "layout": "IPY_MODEL_f8b88ed8dfd84ddc80880fbca9bee2a6",
       "placeholder": "​",
       "style": "IPY_MODEL_69682911ec5d42adbdca5c61eafc9cac",
       "value": " 50000/50000 [00:08&lt;00:00, 5898.33it/s]"
      }
     },
     "69682911ec5d42adbdca5c61eafc9cac": {
      "model_module": "@jupyter-widgets/controls",
      "model_module_version": "1.5.0",
      "model_name": "DescriptionStyleModel",
      "state": {
       "_model_module": "@jupyter-widgets/controls",
       "_model_module_version": "1.5.0",
       "_model_name": "DescriptionStyleModel",
       "_view_count": null,
       "_view_module": "@jupyter-widgets/base",
       "_view_module_version": "1.2.0",
       "_view_name": "StyleView",
       "description_width": ""
      }
     },
     "6a05ff2aa535476aab7584245208140c": {
      "model_module": "@jupyter-widgets/controls",
      "model_module_version": "1.5.0",
      "model_name": "DescriptionStyleModel",
      "state": {
       "_model_module": "@jupyter-widgets/controls",
       "_model_module_version": "1.5.0",
       "_model_name": "DescriptionStyleModel",
       "_view_count": null,
       "_view_module": "@jupyter-widgets/base",
       "_view_module_version": "1.2.0",
       "_view_name": "StyleView",
       "description_width": ""
      }
     },
     "6bc673b634134327a24f3581b5a3003c": {
      "model_module": "@jupyter-widgets/controls",
      "model_module_version": "1.5.0",
      "model_name": "ProgressStyleModel",
      "state": {
       "_model_module": "@jupyter-widgets/controls",
       "_model_module_version": "1.5.0",
       "_model_name": "ProgressStyleModel",
       "_view_count": null,
       "_view_module": "@jupyter-widgets/base",
       "_view_module_version": "1.2.0",
       "_view_name": "StyleView",
       "bar_color": null,
       "description_width": ""
      }
     },
     "6f38319ea4d64bda9fbc44bd14956984": {
      "model_module": "@jupyter-widgets/base",
      "model_module_version": "1.2.0",
      "model_name": "LayoutModel",
      "state": {
       "_model_module": "@jupyter-widgets/base",
       "_model_module_version": "1.2.0",
       "_model_name": "LayoutModel",
       "_view_count": null,
       "_view_module": "@jupyter-widgets/base",
       "_view_module_version": "1.2.0",
       "_view_name": "LayoutView",
       "align_content": null,
       "align_items": null,
       "align_self": null,
       "border": null,
       "bottom": null,
       "display": null,
       "flex": null,
       "flex_flow": null,
       "grid_area": null,
       "grid_auto_columns": null,
       "grid_auto_flow": null,
       "grid_auto_rows": null,
       "grid_column": null,
       "grid_gap": null,
       "grid_row": null,
       "grid_template_areas": null,
       "grid_template_columns": null,
       "grid_template_rows": null,
       "height": null,
       "justify_content": null,
       "justify_items": null,
       "left": null,
       "margin": null,
       "max_height": null,
       "max_width": null,
       "min_height": null,
       "min_width": null,
       "object_fit": null,
       "object_position": null,
       "order": null,
       "overflow": null,
       "overflow_x": null,
       "overflow_y": null,
       "padding": null,
       "right": null,
       "top": null,
       "visibility": null,
       "width": null
      }
     },
     "706fbe58a6784280ad93da0a14f13139": {
      "model_module": "@jupyter-widgets/controls",
      "model_module_version": "1.5.0",
      "model_name": "DescriptionStyleModel",
      "state": {
       "_model_module": "@jupyter-widgets/controls",
       "_model_module_version": "1.5.0",
       "_model_name": "DescriptionStyleModel",
       "_view_count": null,
       "_view_module": "@jupyter-widgets/base",
       "_view_module_version": "1.2.0",
       "_view_name": "StyleView",
       "description_width": ""
      }
     },
     "76bbd2a0eaaf4936b90054f75f851db9": {
      "model_module": "@jupyter-widgets/controls",
      "model_module_version": "1.5.0",
      "model_name": "ProgressStyleModel",
      "state": {
       "_model_module": "@jupyter-widgets/controls",
       "_model_module_version": "1.5.0",
       "_model_name": "ProgressStyleModel",
       "_view_count": null,
       "_view_module": "@jupyter-widgets/base",
       "_view_module_version": "1.2.0",
       "_view_name": "StyleView",
       "bar_color": null,
       "description_width": ""
      }
     },
     "770f9c3ab8e54b66805f313d86687c9a": {
      "model_module": "@jupyter-widgets/base",
      "model_module_version": "1.2.0",
      "model_name": "LayoutModel",
      "state": {
       "_model_module": "@jupyter-widgets/base",
       "_model_module_version": "1.2.0",
       "_model_name": "LayoutModel",
       "_view_count": null,
       "_view_module": "@jupyter-widgets/base",
       "_view_module_version": "1.2.0",
       "_view_name": "LayoutView",
       "align_content": null,
       "align_items": null,
       "align_self": null,
       "border": null,
       "bottom": null,
       "display": null,
       "flex": null,
       "flex_flow": null,
       "grid_area": null,
       "grid_auto_columns": null,
       "grid_auto_flow": null,
       "grid_auto_rows": null,
       "grid_column": null,
       "grid_gap": null,
       "grid_row": null,
       "grid_template_areas": null,
       "grid_template_columns": null,
       "grid_template_rows": null,
       "height": null,
       "justify_content": null,
       "justify_items": null,
       "left": null,
       "margin": null,
       "max_height": null,
       "max_width": null,
       "min_height": null,
       "min_width": null,
       "object_fit": null,
       "object_position": null,
       "order": null,
       "overflow": null,
       "overflow_x": null,
       "overflow_y": null,
       "padding": null,
       "right": null,
       "top": null,
       "visibility": null,
       "width": null
      }
     },
     "7c86837908634e31b9ccb562224e592b": {
      "model_module": "@jupyter-widgets/controls",
      "model_module_version": "1.5.0",
      "model_name": "HBoxModel",
      "state": {
       "_dom_classes": [],
       "_model_module": "@jupyter-widgets/controls",
       "_model_module_version": "1.5.0",
       "_model_name": "HBoxModel",
       "_view_count": null,
       "_view_module": "@jupyter-widgets/controls",
       "_view_module_version": "1.5.0",
       "_view_name": "HBoxView",
       "box_style": "",
       "children": [
        "IPY_MODEL_b96aad106185450d9a3bba96827e6271",
        "IPY_MODEL_8b2b90f7db164b3c85f6d44daea948b7",
        "IPY_MODEL_65a18728e9a341688721ce05187a282b"
       ],
       "layout": "IPY_MODEL_0c715c6f642f41fb8326ce25bf3485bf"
      }
     },
     "7dae9e892f49408986bc384d72d456b6": {
      "model_module": "@jupyter-widgets/controls",
      "model_module_version": "1.5.0",
      "model_name": "HTMLModel",
      "state": {
       "_dom_classes": [],
       "_model_module": "@jupyter-widgets/controls",
       "_model_module_version": "1.5.0",
       "_model_name": "HTMLModel",
       "_view_count": null,
       "_view_module": "@jupyter-widgets/controls",
       "_view_module_version": "1.5.0",
       "_view_name": "HTMLView",
       "description": "",
       "description_tooltip": null,
       "layout": "IPY_MODEL_ef10655e820f4c9f97a9f4e4bee9157d",
       "placeholder": "​",
       "style": "IPY_MODEL_d2b7aa9a24f54e6b9cc59fd2e46e2e7d",
       "value": " 50000/50000 [00:08&lt;00:00, 4411.26it/s]"
      }
     },
     "83c7cf220f2c4f149cbca6f1d56aa6d8": {
      "model_module": "@jupyter-widgets/base",
      "model_module_version": "1.2.0",
      "model_name": "LayoutModel",
      "state": {
       "_model_module": "@jupyter-widgets/base",
       "_model_module_version": "1.2.0",
       "_model_name": "LayoutModel",
       "_view_count": null,
       "_view_module": "@jupyter-widgets/base",
       "_view_module_version": "1.2.0",
       "_view_name": "LayoutView",
       "align_content": null,
       "align_items": null,
       "align_self": null,
       "border": null,
       "bottom": null,
       "display": null,
       "flex": null,
       "flex_flow": null,
       "grid_area": null,
       "grid_auto_columns": null,
       "grid_auto_flow": null,
       "grid_auto_rows": null,
       "grid_column": null,
       "grid_gap": null,
       "grid_row": null,
       "grid_template_areas": null,
       "grid_template_columns": null,
       "grid_template_rows": null,
       "height": null,
       "justify_content": null,
       "justify_items": null,
       "left": null,
       "margin": null,
       "max_height": null,
       "max_width": null,
       "min_height": null,
       "min_width": null,
       "object_fit": null,
       "object_position": null,
       "order": null,
       "overflow": null,
       "overflow_x": null,
       "overflow_y": null,
       "padding": null,
       "right": null,
       "top": null,
       "visibility": null,
       "width": null
      }
     },
     "8b2b90f7db164b3c85f6d44daea948b7": {
      "model_module": "@jupyter-widgets/controls",
      "model_module_version": "1.5.0",
      "model_name": "FloatProgressModel",
      "state": {
       "_dom_classes": [],
       "_model_module": "@jupyter-widgets/controls",
       "_model_module_version": "1.5.0",
       "_model_name": "FloatProgressModel",
       "_view_count": null,
       "_view_module": "@jupyter-widgets/controls",
       "_view_module_version": "1.5.0",
       "_view_name": "ProgressView",
       "bar_style": "success",
       "description": "",
       "description_tooltip": null,
       "layout": "IPY_MODEL_d3411d8d29944520b47cc8c23022d3dc",
       "max": 50000,
       "min": 0,
       "orientation": "horizontal",
       "style": "IPY_MODEL_ac86d26c0371482eb49e0b6708852c3b",
       "value": 50000
      }
     },
     "8b50aa0a489d45fe8ee9dbc5cbc6072b": {
      "model_module": "@jupyter-widgets/controls",
      "model_module_version": "1.5.0",
      "model_name": "FloatProgressModel",
      "state": {
       "_dom_classes": [],
       "_model_module": "@jupyter-widgets/controls",
       "_model_module_version": "1.5.0",
       "_model_name": "FloatProgressModel",
       "_view_count": null,
       "_view_module": "@jupyter-widgets/controls",
       "_view_module_version": "1.5.0",
       "_view_name": "ProgressView",
       "bar_style": "success",
       "description": "",
       "description_tooltip": null,
       "layout": "IPY_MODEL_770f9c3ab8e54b66805f313d86687c9a",
       "max": 1000000,
       "min": 0,
       "orientation": "horizontal",
       "style": "IPY_MODEL_14b07194066b48bd83e56ee9dff47614",
       "value": 1000000
      }
     },
     "8ef7eb5dc856497f9f8b59281afd162d": {
      "model_module": "@jupyter-widgets/controls",
      "model_module_version": "1.5.0",
      "model_name": "FloatProgressModel",
      "state": {
       "_dom_classes": [],
       "_model_module": "@jupyter-widgets/controls",
       "_model_module_version": "1.5.0",
       "_model_name": "FloatProgressModel",
       "_view_count": null,
       "_view_module": "@jupyter-widgets/controls",
       "_view_module_version": "1.5.0",
       "_view_name": "ProgressView",
       "bar_style": "success",
       "description": "",
       "description_tooltip": null,
       "layout": "IPY_MODEL_6363a8609abd416ca78aa0fae86bfa50",
       "max": 1000000,
       "min": 0,
       "orientation": "horizontal",
       "style": "IPY_MODEL_76bbd2a0eaaf4936b90054f75f851db9",
       "value": 1000000
      }
     },
     "99ba2cdd312449c3acfd4b52ce6cd580": {
      "model_module": "@jupyter-widgets/controls",
      "model_module_version": "1.5.0",
      "model_name": "HBoxModel",
      "state": {
       "_dom_classes": [],
       "_model_module": "@jupyter-widgets/controls",
       "_model_module_version": "1.5.0",
       "_model_name": "HBoxModel",
       "_view_count": null,
       "_view_module": "@jupyter-widgets/controls",
       "_view_module_version": "1.5.0",
       "_view_name": "HBoxView",
       "box_style": "",
       "children": [
        "IPY_MODEL_2db025ae969b47af8f53cf94ae757d85",
        "IPY_MODEL_8ef7eb5dc856497f9f8b59281afd162d",
        "IPY_MODEL_1b7e11e448db4adea983b9a8e467bd8b"
       ],
       "layout": "IPY_MODEL_1d62e5854bcc4e33a6835fbe77860a48"
      }
     },
     "9b15581cc9754c2d95bdc34527209a0c": {
      "model_module": "@jupyter-widgets/controls",
      "model_module_version": "1.5.0",
      "model_name": "HBoxModel",
      "state": {
       "_dom_classes": [],
       "_model_module": "@jupyter-widgets/controls",
       "_model_module_version": "1.5.0",
       "_model_name": "HBoxModel",
       "_view_count": null,
       "_view_module": "@jupyter-widgets/controls",
       "_view_module_version": "1.5.0",
       "_view_name": "HBoxView",
       "box_style": "",
       "children": [
        "IPY_MODEL_c43ad36423a74b6abaf03f7942e94152",
        "IPY_MODEL_d8e90b61c727471fb143e6ac1bb08f57",
        "IPY_MODEL_9bf9403bfdf04a82bf7394194710633e"
       ],
       "layout": "IPY_MODEL_5c92351f7dd14c20a3b51e23fed871f8"
      }
     },
     "9bf9403bfdf04a82bf7394194710633e": {
      "model_module": "@jupyter-widgets/controls",
      "model_module_version": "1.5.0",
      "model_name": "HTMLModel",
      "state": {
       "_dom_classes": [],
       "_model_module": "@jupyter-widgets/controls",
       "_model_module_version": "1.5.0",
       "_model_name": "HTMLModel",
       "_view_count": null,
       "_view_module": "@jupyter-widgets/controls",
       "_view_module_version": "1.5.0",
       "_view_name": "HTMLView",
       "description": "",
       "description_tooltip": null,
       "layout": "IPY_MODEL_305417928bd04d20b89178f5017698da",
       "placeholder": "​",
       "style": "IPY_MODEL_cd7cbff1acda4e8c84056e8545614092",
       "value": " 1000000/1000000 [00:41&lt;00:00, 24076.18it/s]"
      }
     },
     "a9291b1156b749a795e5190ee84a6192": {
      "model_module": "@jupyter-widgets/controls",
      "model_module_version": "1.5.0",
      "model_name": "DescriptionStyleModel",
      "state": {
       "_model_module": "@jupyter-widgets/controls",
       "_model_module_version": "1.5.0",
       "_model_name": "DescriptionStyleModel",
       "_view_count": null,
       "_view_module": "@jupyter-widgets/base",
       "_view_module_version": "1.2.0",
       "_view_name": "StyleView",
       "description_width": ""
      }
     },
     "ac86d26c0371482eb49e0b6708852c3b": {
      "model_module": "@jupyter-widgets/controls",
      "model_module_version": "1.5.0",
      "model_name": "ProgressStyleModel",
      "state": {
       "_model_module": "@jupyter-widgets/controls",
       "_model_module_version": "1.5.0",
       "_model_name": "ProgressStyleModel",
       "_view_count": null,
       "_view_module": "@jupyter-widgets/base",
       "_view_module_version": "1.2.0",
       "_view_name": "StyleView",
       "bar_color": null,
       "description_width": ""
      }
     },
     "ae285df2b96a40d994830c6fc3188a19": {
      "model_module": "@jupyter-widgets/controls",
      "model_module_version": "1.5.0",
      "model_name": "ProgressStyleModel",
      "state": {
       "_model_module": "@jupyter-widgets/controls",
       "_model_module_version": "1.5.0",
       "_model_name": "ProgressStyleModel",
       "_view_count": null,
       "_view_module": "@jupyter-widgets/base",
       "_view_module_version": "1.2.0",
       "_view_name": "StyleView",
       "bar_color": null,
       "description_width": ""
      }
     },
     "af2af0cb7ca744bc95d78a76d0a2a084": {
      "model_module": "@jupyter-widgets/controls",
      "model_module_version": "1.5.0",
      "model_name": "ProgressStyleModel",
      "state": {
       "_model_module": "@jupyter-widgets/controls",
       "_model_module_version": "1.5.0",
       "_model_name": "ProgressStyleModel",
       "_view_count": null,
       "_view_module": "@jupyter-widgets/base",
       "_view_module_version": "1.2.0",
       "_view_name": "StyleView",
       "bar_color": null,
       "description_width": ""
      }
     },
     "af2f86655bcd4051b7f0de6e32626b41": {
      "model_module": "@jupyter-widgets/base",
      "model_module_version": "1.2.0",
      "model_name": "LayoutModel",
      "state": {
       "_model_module": "@jupyter-widgets/base",
       "_model_module_version": "1.2.0",
       "_model_name": "LayoutModel",
       "_view_count": null,
       "_view_module": "@jupyter-widgets/base",
       "_view_module_version": "1.2.0",
       "_view_name": "LayoutView",
       "align_content": null,
       "align_items": null,
       "align_self": null,
       "border": null,
       "bottom": null,
       "display": null,
       "flex": null,
       "flex_flow": null,
       "grid_area": null,
       "grid_auto_columns": null,
       "grid_auto_flow": null,
       "grid_auto_rows": null,
       "grid_column": null,
       "grid_gap": null,
       "grid_row": null,
       "grid_template_areas": null,
       "grid_template_columns": null,
       "grid_template_rows": null,
       "height": null,
       "justify_content": null,
       "justify_items": null,
       "left": null,
       "margin": null,
       "max_height": null,
       "max_width": null,
       "min_height": null,
       "min_width": null,
       "object_fit": null,
       "object_position": null,
       "order": null,
       "overflow": null,
       "overflow_x": null,
       "overflow_y": null,
       "padding": null,
       "right": null,
       "top": null,
       "visibility": null,
       "width": null
      }
     },
     "b36cf7e6ebd944ac8f62aa175588b9bd": {
      "model_module": "@jupyter-widgets/controls",
      "model_module_version": "1.5.0",
      "model_name": "ProgressStyleModel",
      "state": {
       "_model_module": "@jupyter-widgets/controls",
       "_model_module_version": "1.5.0",
       "_model_name": "ProgressStyleModel",
       "_view_count": null,
       "_view_module": "@jupyter-widgets/base",
       "_view_module_version": "1.2.0",
       "_view_name": "StyleView",
       "bar_color": null,
       "description_width": ""
      }
     },
     "b48dbd89fd2f4ba291979bf176bff71f": {
      "model_module": "@jupyter-widgets/controls",
      "model_module_version": "1.5.0",
      "model_name": "FloatProgressModel",
      "state": {
       "_dom_classes": [],
       "_model_module": "@jupyter-widgets/controls",
       "_model_module_version": "1.5.0",
       "_model_name": "FloatProgressModel",
       "_view_count": null,
       "_view_module": "@jupyter-widgets/controls",
       "_view_module_version": "1.5.0",
       "_view_name": "ProgressView",
       "bar_style": "success",
       "description": "",
       "description_tooltip": null,
       "layout": "IPY_MODEL_cf0fc975c544404c851a390f649ac488",
       "max": 50000,
       "min": 0,
       "orientation": "horizontal",
       "style": "IPY_MODEL_b36cf7e6ebd944ac8f62aa175588b9bd",
       "value": 50000
      }
     },
     "b96aad106185450d9a3bba96827e6271": {
      "model_module": "@jupyter-widgets/controls",
      "model_module_version": "1.5.0",
      "model_name": "HTMLModel",
      "state": {
       "_dom_classes": [],
       "_model_module": "@jupyter-widgets/controls",
       "_model_module_version": "1.5.0",
       "_model_name": "HTMLModel",
       "_view_count": null,
       "_view_module": "@jupyter-widgets/controls",
       "_view_module_version": "1.5.0",
       "_view_name": "HTMLView",
       "description": "",
       "description_tooltip": null,
       "layout": "IPY_MODEL_d6211f4d1ef04be9902cc1a4fa26dff1",
       "placeholder": "​",
       "style": "IPY_MODEL_daa6030bfbb1471ea6ac7364811e8edb",
       "value": "100%"
      }
     },
     "bc92b6be887a480fa97e393daeb69326": {
      "model_module": "@jupyter-widgets/base",
      "model_module_version": "1.2.0",
      "model_name": "LayoutModel",
      "state": {
       "_model_module": "@jupyter-widgets/base",
       "_model_module_version": "1.2.0",
       "_model_name": "LayoutModel",
       "_view_count": null,
       "_view_module": "@jupyter-widgets/base",
       "_view_module_version": "1.2.0",
       "_view_name": "LayoutView",
       "align_content": null,
       "align_items": null,
       "align_self": null,
       "border": null,
       "bottom": null,
       "display": null,
       "flex": null,
       "flex_flow": null,
       "grid_area": null,
       "grid_auto_columns": null,
       "grid_auto_flow": null,
       "grid_auto_rows": null,
       "grid_column": null,
       "grid_gap": null,
       "grid_row": null,
       "grid_template_areas": null,
       "grid_template_columns": null,
       "grid_template_rows": null,
       "height": null,
       "justify_content": null,
       "justify_items": null,
       "left": null,
       "margin": null,
       "max_height": null,
       "max_width": null,
       "min_height": null,
       "min_width": null,
       "object_fit": null,
       "object_position": null,
       "order": null,
       "overflow": null,
       "overflow_x": null,
       "overflow_y": null,
       "padding": null,
       "right": null,
       "top": null,
       "visibility": null,
       "width": null
      }
     },
     "bcd2494661714966875c04e1b6c78655": {
      "model_module": "@jupyter-widgets/controls",
      "model_module_version": "1.5.0",
      "model_name": "HTMLModel",
      "state": {
       "_dom_classes": [],
       "_model_module": "@jupyter-widgets/controls",
       "_model_module_version": "1.5.0",
       "_model_name": "HTMLModel",
       "_view_count": null,
       "_view_module": "@jupyter-widgets/controls",
       "_view_module_version": "1.5.0",
       "_view_name": "HTMLView",
       "description": "",
       "description_tooltip": null,
       "layout": "IPY_MODEL_fc7f9b88bba64b0392868a75b3502597",
       "placeholder": "​",
       "style": "IPY_MODEL_04e95865ac024c8684f04ab88aa012f7",
       "value": " 1000000/1000000 [00:03&lt;00:00, 240052.10it/s]"
      }
     },
     "bdccd10cf2f445e281ca31e31045cb27": {
      "model_module": "@jupyter-widgets/controls",
      "model_module_version": "1.5.0",
      "model_name": "FloatProgressModel",
      "state": {
       "_dom_classes": [],
       "_model_module": "@jupyter-widgets/controls",
       "_model_module_version": "1.5.0",
       "_model_name": "FloatProgressModel",
       "_view_count": null,
       "_view_module": "@jupyter-widgets/controls",
       "_view_module_version": "1.5.0",
       "_view_name": "ProgressView",
       "bar_style": "success",
       "description": "",
       "description_tooltip": null,
       "layout": "IPY_MODEL_af2f86655bcd4051b7f0de6e32626b41",
       "max": 1000000,
       "min": 0,
       "orientation": "horizontal",
       "style": "IPY_MODEL_af2af0cb7ca744bc95d78a76d0a2a084",
       "value": 1000000
      }
     },
     "be1433c2ddeb431782b7380a53e8c042": {
      "model_module": "@jupyter-widgets/base",
      "model_module_version": "1.2.0",
      "model_name": "LayoutModel",
      "state": {
       "_model_module": "@jupyter-widgets/base",
       "_model_module_version": "1.2.0",
       "_model_name": "LayoutModel",
       "_view_count": null,
       "_view_module": "@jupyter-widgets/base",
       "_view_module_version": "1.2.0",
       "_view_name": "LayoutView",
       "align_content": null,
       "align_items": null,
       "align_self": null,
       "border": null,
       "bottom": null,
       "display": null,
       "flex": null,
       "flex_flow": null,
       "grid_area": null,
       "grid_auto_columns": null,
       "grid_auto_flow": null,
       "grid_auto_rows": null,
       "grid_column": null,
       "grid_gap": null,
       "grid_row": null,
       "grid_template_areas": null,
       "grid_template_columns": null,
       "grid_template_rows": null,
       "height": null,
       "justify_content": null,
       "justify_items": null,
       "left": null,
       "margin": null,
       "max_height": null,
       "max_width": null,
       "min_height": null,
       "min_width": null,
       "object_fit": null,
       "object_position": null,
       "order": null,
       "overflow": null,
       "overflow_x": null,
       "overflow_y": null,
       "padding": null,
       "right": null,
       "top": null,
       "visibility": null,
       "width": null
      }
     },
     "be86026e99364c1c96ee5bf0fbec58a4": {
      "model_module": "@jupyter-widgets/controls",
      "model_module_version": "1.5.0",
      "model_name": "DescriptionStyleModel",
      "state": {
       "_model_module": "@jupyter-widgets/controls",
       "_model_module_version": "1.5.0",
       "_model_name": "DescriptionStyleModel",
       "_view_count": null,
       "_view_module": "@jupyter-widgets/base",
       "_view_module_version": "1.2.0",
       "_view_name": "StyleView",
       "description_width": ""
      }
     },
     "beef80da6b7b49d0a9b3d34ba992f481": {
      "model_module": "@jupyter-widgets/controls",
      "model_module_version": "1.5.0",
      "model_name": "HTMLModel",
      "state": {
       "_dom_classes": [],
       "_model_module": "@jupyter-widgets/controls",
       "_model_module_version": "1.5.0",
       "_model_name": "HTMLModel",
       "_view_count": null,
       "_view_module": "@jupyter-widgets/controls",
       "_view_module_version": "1.5.0",
       "_view_name": "HTMLView",
       "description": "",
       "description_tooltip": null,
       "layout": "IPY_MODEL_e472d6c45a8f4ed98600a9a1f53c188d",
       "placeholder": "​",
       "style": "IPY_MODEL_e668783de2814716bfe628abaf57d1c7",
       "value": "100%"
      }
     },
     "c3d24584477f42ad88dd77fef19c3fc0": {
      "model_module": "@jupyter-widgets/controls",
      "model_module_version": "1.5.0",
      "model_name": "FloatProgressModel",
      "state": {
       "_dom_classes": [],
       "_model_module": "@jupyter-widgets/controls",
       "_model_module_version": "1.5.0",
       "_model_name": "FloatProgressModel",
       "_view_count": null,
       "_view_module": "@jupyter-widgets/controls",
       "_view_module_version": "1.5.0",
       "_view_name": "ProgressView",
       "bar_style": "success",
       "description": "",
       "description_tooltip": null,
       "layout": "IPY_MODEL_3245a86b5e944298add9157641381dc6",
       "max": 50000,
       "min": 0,
       "orientation": "horizontal",
       "style": "IPY_MODEL_ae285df2b96a40d994830c6fc3188a19",
       "value": 50000
      }
     },
     "c43ad36423a74b6abaf03f7942e94152": {
      "model_module": "@jupyter-widgets/controls",
      "model_module_version": "1.5.0",
      "model_name": "HTMLModel",
      "state": {
       "_dom_classes": [],
       "_model_module": "@jupyter-widgets/controls",
       "_model_module_version": "1.5.0",
       "_model_name": "HTMLModel",
       "_view_count": null,
       "_view_module": "@jupyter-widgets/controls",
       "_view_module_version": "1.5.0",
       "_view_name": "HTMLView",
       "description": "",
       "description_tooltip": null,
       "layout": "IPY_MODEL_124364718b0344459ff93988f1ebff83",
       "placeholder": "​",
       "style": "IPY_MODEL_13e8ff1374054215953bacd8ae869afb",
       "value": "100%"
      }
     },
     "cadc70d4e79d40b7b34948451d3663b0": {
      "model_module": "@jupyter-widgets/controls",
      "model_module_version": "1.5.0",
      "model_name": "HTMLModel",
      "state": {
       "_dom_classes": [],
       "_model_module": "@jupyter-widgets/controls",
       "_model_module_version": "1.5.0",
       "_model_name": "HTMLModel",
       "_view_count": null,
       "_view_module": "@jupyter-widgets/controls",
       "_view_module_version": "1.5.0",
       "_view_name": "HTMLView",
       "description": "",
       "description_tooltip": null,
       "layout": "IPY_MODEL_0869f1bc96d349c5bd486b208f5c0fbe",
       "placeholder": "​",
       "style": "IPY_MODEL_202d1b08fd5e451a9c0539abeadef5ff",
       "value": "100%"
      }
     },
     "cce78d753e96490d89a6c7f1c1c89b6b": {
      "model_module": "@jupyter-widgets/base",
      "model_module_version": "1.2.0",
      "model_name": "LayoutModel",
      "state": {
       "_model_module": "@jupyter-widgets/base",
       "_model_module_version": "1.2.0",
       "_model_name": "LayoutModel",
       "_view_count": null,
       "_view_module": "@jupyter-widgets/base",
       "_view_module_version": "1.2.0",
       "_view_name": "LayoutView",
       "align_content": null,
       "align_items": null,
       "align_self": null,
       "border": null,
       "bottom": null,
       "display": null,
       "flex": null,
       "flex_flow": null,
       "grid_area": null,
       "grid_auto_columns": null,
       "grid_auto_flow": null,
       "grid_auto_rows": null,
       "grid_column": null,
       "grid_gap": null,
       "grid_row": null,
       "grid_template_areas": null,
       "grid_template_columns": null,
       "grid_template_rows": null,
       "height": null,
       "justify_content": null,
       "justify_items": null,
       "left": null,
       "margin": null,
       "max_height": null,
       "max_width": null,
       "min_height": null,
       "min_width": null,
       "object_fit": null,
       "object_position": null,
       "order": null,
       "overflow": null,
       "overflow_x": null,
       "overflow_y": null,
       "padding": null,
       "right": null,
       "top": null,
       "visibility": null,
       "width": null
      }
     },
     "cd7cbff1acda4e8c84056e8545614092": {
      "model_module": "@jupyter-widgets/controls",
      "model_module_version": "1.5.0",
      "model_name": "DescriptionStyleModel",
      "state": {
       "_model_module": "@jupyter-widgets/controls",
       "_model_module_version": "1.5.0",
       "_model_name": "DescriptionStyleModel",
       "_view_count": null,
       "_view_module": "@jupyter-widgets/base",
       "_view_module_version": "1.2.0",
       "_view_name": "StyleView",
       "description_width": ""
      }
     },
     "cf0fc975c544404c851a390f649ac488": {
      "model_module": "@jupyter-widgets/base",
      "model_module_version": "1.2.0",
      "model_name": "LayoutModel",
      "state": {
       "_model_module": "@jupyter-widgets/base",
       "_model_module_version": "1.2.0",
       "_model_name": "LayoutModel",
       "_view_count": null,
       "_view_module": "@jupyter-widgets/base",
       "_view_module_version": "1.2.0",
       "_view_name": "LayoutView",
       "align_content": null,
       "align_items": null,
       "align_self": null,
       "border": null,
       "bottom": null,
       "display": null,
       "flex": null,
       "flex_flow": null,
       "grid_area": null,
       "grid_auto_columns": null,
       "grid_auto_flow": null,
       "grid_auto_rows": null,
       "grid_column": null,
       "grid_gap": null,
       "grid_row": null,
       "grid_template_areas": null,
       "grid_template_columns": null,
       "grid_template_rows": null,
       "height": null,
       "justify_content": null,
       "justify_items": null,
       "left": null,
       "margin": null,
       "max_height": null,
       "max_width": null,
       "min_height": null,
       "min_width": null,
       "object_fit": null,
       "object_position": null,
       "order": null,
       "overflow": null,
       "overflow_x": null,
       "overflow_y": null,
       "padding": null,
       "right": null,
       "top": null,
       "visibility": null,
       "width": null
      }
     },
     "cf4758cc2cd542e39b2a20108d564384": {
      "model_module": "@jupyter-widgets/controls",
      "model_module_version": "1.5.0",
      "model_name": "DescriptionStyleModel",
      "state": {
       "_model_module": "@jupyter-widgets/controls",
       "_model_module_version": "1.5.0",
       "_model_name": "DescriptionStyleModel",
       "_view_count": null,
       "_view_module": "@jupyter-widgets/base",
       "_view_module_version": "1.2.0",
       "_view_name": "StyleView",
       "description_width": ""
      }
     },
     "d212ef0391004001b510b3814e51aebe": {
      "model_module": "@jupyter-widgets/base",
      "model_module_version": "1.2.0",
      "model_name": "LayoutModel",
      "state": {
       "_model_module": "@jupyter-widgets/base",
       "_model_module_version": "1.2.0",
       "_model_name": "LayoutModel",
       "_view_count": null,
       "_view_module": "@jupyter-widgets/base",
       "_view_module_version": "1.2.0",
       "_view_name": "LayoutView",
       "align_content": null,
       "align_items": null,
       "align_self": null,
       "border": null,
       "bottom": null,
       "display": null,
       "flex": null,
       "flex_flow": null,
       "grid_area": null,
       "grid_auto_columns": null,
       "grid_auto_flow": null,
       "grid_auto_rows": null,
       "grid_column": null,
       "grid_gap": null,
       "grid_row": null,
       "grid_template_areas": null,
       "grid_template_columns": null,
       "grid_template_rows": null,
       "height": null,
       "justify_content": null,
       "justify_items": null,
       "left": null,
       "margin": null,
       "max_height": null,
       "max_width": null,
       "min_height": null,
       "min_width": null,
       "object_fit": null,
       "object_position": null,
       "order": null,
       "overflow": null,
       "overflow_x": null,
       "overflow_y": null,
       "padding": null,
       "right": null,
       "top": null,
       "visibility": null,
       "width": null
      }
     },
     "d2b7aa9a24f54e6b9cc59fd2e46e2e7d": {
      "model_module": "@jupyter-widgets/controls",
      "model_module_version": "1.5.0",
      "model_name": "DescriptionStyleModel",
      "state": {
       "_model_module": "@jupyter-widgets/controls",
       "_model_module_version": "1.5.0",
       "_model_name": "DescriptionStyleModel",
       "_view_count": null,
       "_view_module": "@jupyter-widgets/base",
       "_view_module_version": "1.2.0",
       "_view_name": "StyleView",
       "description_width": ""
      }
     },
     "d3411d8d29944520b47cc8c23022d3dc": {
      "model_module": "@jupyter-widgets/base",
      "model_module_version": "1.2.0",
      "model_name": "LayoutModel",
      "state": {
       "_model_module": "@jupyter-widgets/base",
       "_model_module_version": "1.2.0",
       "_model_name": "LayoutModel",
       "_view_count": null,
       "_view_module": "@jupyter-widgets/base",
       "_view_module_version": "1.2.0",
       "_view_name": "LayoutView",
       "align_content": null,
       "align_items": null,
       "align_self": null,
       "border": null,
       "bottom": null,
       "display": null,
       "flex": null,
       "flex_flow": null,
       "grid_area": null,
       "grid_auto_columns": null,
       "grid_auto_flow": null,
       "grid_auto_rows": null,
       "grid_column": null,
       "grid_gap": null,
       "grid_row": null,
       "grid_template_areas": null,
       "grid_template_columns": null,
       "grid_template_rows": null,
       "height": null,
       "justify_content": null,
       "justify_items": null,
       "left": null,
       "margin": null,
       "max_height": null,
       "max_width": null,
       "min_height": null,
       "min_width": null,
       "object_fit": null,
       "object_position": null,
       "order": null,
       "overflow": null,
       "overflow_x": null,
       "overflow_y": null,
       "padding": null,
       "right": null,
       "top": null,
       "visibility": null,
       "width": null
      }
     },
     "d6211f4d1ef04be9902cc1a4fa26dff1": {
      "model_module": "@jupyter-widgets/base",
      "model_module_version": "1.2.0",
      "model_name": "LayoutModel",
      "state": {
       "_model_module": "@jupyter-widgets/base",
       "_model_module_version": "1.2.0",
       "_model_name": "LayoutModel",
       "_view_count": null,
       "_view_module": "@jupyter-widgets/base",
       "_view_module_version": "1.2.0",
       "_view_name": "LayoutView",
       "align_content": null,
       "align_items": null,
       "align_self": null,
       "border": null,
       "bottom": null,
       "display": null,
       "flex": null,
       "flex_flow": null,
       "grid_area": null,
       "grid_auto_columns": null,
       "grid_auto_flow": null,
       "grid_auto_rows": null,
       "grid_column": null,
       "grid_gap": null,
       "grid_row": null,
       "grid_template_areas": null,
       "grid_template_columns": null,
       "grid_template_rows": null,
       "height": null,
       "justify_content": null,
       "justify_items": null,
       "left": null,
       "margin": null,
       "max_height": null,
       "max_width": null,
       "min_height": null,
       "min_width": null,
       "object_fit": null,
       "object_position": null,
       "order": null,
       "overflow": null,
       "overflow_x": null,
       "overflow_y": null,
       "padding": null,
       "right": null,
       "top": null,
       "visibility": null,
       "width": null
      }
     },
     "d64e5cb097984180a10e7d44bdeb8086": {
      "model_module": "@jupyter-widgets/controls",
      "model_module_version": "1.5.0",
      "model_name": "DescriptionStyleModel",
      "state": {
       "_model_module": "@jupyter-widgets/controls",
       "_model_module_version": "1.5.0",
       "_model_name": "DescriptionStyleModel",
       "_view_count": null,
       "_view_module": "@jupyter-widgets/base",
       "_view_module_version": "1.2.0",
       "_view_name": "StyleView",
       "description_width": ""
      }
     },
     "d700e7a11a03453088c86b146b0a7be3": {
      "model_module": "@jupyter-widgets/controls",
      "model_module_version": "1.5.0",
      "model_name": "HTMLModel",
      "state": {
       "_dom_classes": [],
       "_model_module": "@jupyter-widgets/controls",
       "_model_module_version": "1.5.0",
       "_model_name": "HTMLModel",
       "_view_count": null,
       "_view_module": "@jupyter-widgets/controls",
       "_view_module_version": "1.5.0",
       "_view_name": "HTMLView",
       "description": "",
       "description_tooltip": null,
       "layout": "IPY_MODEL_83c7cf220f2c4f149cbca6f1d56aa6d8",
       "placeholder": "​",
       "style": "IPY_MODEL_0f534e3036c346ee905871cb418cbee3",
       "value": " 1000000/1000000 [02:53&lt;00:00, 3679.39it/s]"
      }
     },
     "d8e90b61c727471fb143e6ac1bb08f57": {
      "model_module": "@jupyter-widgets/controls",
      "model_module_version": "1.5.0",
      "model_name": "FloatProgressModel",
      "state": {
       "_dom_classes": [],
       "_model_module": "@jupyter-widgets/controls",
       "_model_module_version": "1.5.0",
       "_model_name": "FloatProgressModel",
       "_view_count": null,
       "_view_module": "@jupyter-widgets/controls",
       "_view_module_version": "1.5.0",
       "_view_name": "ProgressView",
       "bar_style": "success",
       "description": "",
       "description_tooltip": null,
       "layout": "IPY_MODEL_05772905cbde49489a8a86426ca37052",
       "max": 1000000,
       "min": 0,
       "orientation": "horizontal",
       "style": "IPY_MODEL_6bc673b634134327a24f3581b5a3003c",
       "value": 1000000
      }
     },
     "daa6030bfbb1471ea6ac7364811e8edb": {
      "model_module": "@jupyter-widgets/controls",
      "model_module_version": "1.5.0",
      "model_name": "DescriptionStyleModel",
      "state": {
       "_model_module": "@jupyter-widgets/controls",
       "_model_module_version": "1.5.0",
       "_model_name": "DescriptionStyleModel",
       "_view_count": null,
       "_view_module": "@jupyter-widgets/base",
       "_view_module_version": "1.2.0",
       "_view_name": "StyleView",
       "description_width": ""
      }
     },
     "e3ed78628de248518b6ffd91686e5728": {
      "model_module": "@jupyter-widgets/base",
      "model_module_version": "1.2.0",
      "model_name": "LayoutModel",
      "state": {
       "_model_module": "@jupyter-widgets/base",
       "_model_module_version": "1.2.0",
       "_model_name": "LayoutModel",
       "_view_count": null,
       "_view_module": "@jupyter-widgets/base",
       "_view_module_version": "1.2.0",
       "_view_name": "LayoutView",
       "align_content": null,
       "align_items": null,
       "align_self": null,
       "border": null,
       "bottom": null,
       "display": null,
       "flex": null,
       "flex_flow": null,
       "grid_area": null,
       "grid_auto_columns": null,
       "grid_auto_flow": null,
       "grid_auto_rows": null,
       "grid_column": null,
       "grid_gap": null,
       "grid_row": null,
       "grid_template_areas": null,
       "grid_template_columns": null,
       "grid_template_rows": null,
       "height": null,
       "justify_content": null,
       "justify_items": null,
       "left": null,
       "margin": null,
       "max_height": null,
       "max_width": null,
       "min_height": null,
       "min_width": null,
       "object_fit": null,
       "object_position": null,
       "order": null,
       "overflow": null,
       "overflow_x": null,
       "overflow_y": null,
       "padding": null,
       "right": null,
       "top": null,
       "visibility": null,
       "width": null
      }
     },
     "e472d6c45a8f4ed98600a9a1f53c188d": {
      "model_module": "@jupyter-widgets/base",
      "model_module_version": "1.2.0",
      "model_name": "LayoutModel",
      "state": {
       "_model_module": "@jupyter-widgets/base",
       "_model_module_version": "1.2.0",
       "_model_name": "LayoutModel",
       "_view_count": null,
       "_view_module": "@jupyter-widgets/base",
       "_view_module_version": "1.2.0",
       "_view_name": "LayoutView",
       "align_content": null,
       "align_items": null,
       "align_self": null,
       "border": null,
       "bottom": null,
       "display": null,
       "flex": null,
       "flex_flow": null,
       "grid_area": null,
       "grid_auto_columns": null,
       "grid_auto_flow": null,
       "grid_auto_rows": null,
       "grid_column": null,
       "grid_gap": null,
       "grid_row": null,
       "grid_template_areas": null,
       "grid_template_columns": null,
       "grid_template_rows": null,
       "height": null,
       "justify_content": null,
       "justify_items": null,
       "left": null,
       "margin": null,
       "max_height": null,
       "max_width": null,
       "min_height": null,
       "min_width": null,
       "object_fit": null,
       "object_position": null,
       "order": null,
       "overflow": null,
       "overflow_x": null,
       "overflow_y": null,
       "padding": null,
       "right": null,
       "top": null,
       "visibility": null,
       "width": null
      }
     },
     "e668783de2814716bfe628abaf57d1c7": {
      "model_module": "@jupyter-widgets/controls",
      "model_module_version": "1.5.0",
      "model_name": "DescriptionStyleModel",
      "state": {
       "_model_module": "@jupyter-widgets/controls",
       "_model_module_version": "1.5.0",
       "_model_name": "DescriptionStyleModel",
       "_view_count": null,
       "_view_module": "@jupyter-widgets/base",
       "_view_module_version": "1.2.0",
       "_view_name": "StyleView",
       "description_width": ""
      }
     },
     "e6fef706c92c41b2b5214869e9833cb3": {
      "model_module": "@jupyter-widgets/controls",
      "model_module_version": "1.5.0",
      "model_name": "FloatProgressModel",
      "state": {
       "_dom_classes": [],
       "_model_module": "@jupyter-widgets/controls",
       "_model_module_version": "1.5.0",
       "_model_name": "FloatProgressModel",
       "_view_count": null,
       "_view_module": "@jupyter-widgets/controls",
       "_view_module_version": "1.5.0",
       "_view_name": "ProgressView",
       "bar_style": "success",
       "description": "",
       "description_tooltip": null,
       "layout": "IPY_MODEL_6f38319ea4d64bda9fbc44bd14956984",
       "max": 50000,
       "min": 0,
       "orientation": "horizontal",
       "style": "IPY_MODEL_3e7c9c1176434dd885390ba9a401cb41",
       "value": 50000
      }
     },
     "ef10655e820f4c9f97a9f4e4bee9157d": {
      "model_module": "@jupyter-widgets/base",
      "model_module_version": "1.2.0",
      "model_name": "LayoutModel",
      "state": {
       "_model_module": "@jupyter-widgets/base",
       "_model_module_version": "1.2.0",
       "_model_name": "LayoutModel",
       "_view_count": null,
       "_view_module": "@jupyter-widgets/base",
       "_view_module_version": "1.2.0",
       "_view_name": "LayoutView",
       "align_content": null,
       "align_items": null,
       "align_self": null,
       "border": null,
       "bottom": null,
       "display": null,
       "flex": null,
       "flex_flow": null,
       "grid_area": null,
       "grid_auto_columns": null,
       "grid_auto_flow": null,
       "grid_auto_rows": null,
       "grid_column": null,
       "grid_gap": null,
       "grid_row": null,
       "grid_template_areas": null,
       "grid_template_columns": null,
       "grid_template_rows": null,
       "height": null,
       "justify_content": null,
       "justify_items": null,
       "left": null,
       "margin": null,
       "max_height": null,
       "max_width": null,
       "min_height": null,
       "min_width": null,
       "object_fit": null,
       "object_position": null,
       "order": null,
       "overflow": null,
       "overflow_x": null,
       "overflow_y": null,
       "padding": null,
       "right": null,
       "top": null,
       "visibility": null,
       "width": null
      }
     },
     "f6ace203bcb6474cacdd832292bf0628": {
      "model_module": "@jupyter-widgets/controls",
      "model_module_version": "1.5.0",
      "model_name": "HTMLModel",
      "state": {
       "_dom_classes": [],
       "_model_module": "@jupyter-widgets/controls",
       "_model_module_version": "1.5.0",
       "_model_name": "HTMLModel",
       "_view_count": null,
       "_view_module": "@jupyter-widgets/controls",
       "_view_module_version": "1.5.0",
       "_view_name": "HTMLView",
       "description": "",
       "description_tooltip": null,
       "layout": "IPY_MODEL_cce78d753e96490d89a6c7f1c1c89b6b",
       "placeholder": "​",
       "style": "IPY_MODEL_cf4758cc2cd542e39b2a20108d564384",
       "value": "100%"
      }
     },
     "f8b88ed8dfd84ddc80880fbca9bee2a6": {
      "model_module": "@jupyter-widgets/base",
      "model_module_version": "1.2.0",
      "model_name": "LayoutModel",
      "state": {
       "_model_module": "@jupyter-widgets/base",
       "_model_module_version": "1.2.0",
       "_model_name": "LayoutModel",
       "_view_count": null,
       "_view_module": "@jupyter-widgets/base",
       "_view_module_version": "1.2.0",
       "_view_name": "LayoutView",
       "align_content": null,
       "align_items": null,
       "align_self": null,
       "border": null,
       "bottom": null,
       "display": null,
       "flex": null,
       "flex_flow": null,
       "grid_area": null,
       "grid_auto_columns": null,
       "grid_auto_flow": null,
       "grid_auto_rows": null,
       "grid_column": null,
       "grid_gap": null,
       "grid_row": null,
       "grid_template_areas": null,
       "grid_template_columns": null,
       "grid_template_rows": null,
       "height": null,
       "justify_content": null,
       "justify_items": null,
       "left": null,
       "margin": null,
       "max_height": null,
       "max_width": null,
       "min_height": null,
       "min_width": null,
       "object_fit": null,
       "object_position": null,
       "order": null,
       "overflow": null,
       "overflow_x": null,
       "overflow_y": null,
       "padding": null,
       "right": null,
       "top": null,
       "visibility": null,
       "width": null
      }
     },
     "f951fcaec9814c488ca55e95bc9582b6": {
      "model_module": "@jupyter-widgets/controls",
      "model_module_version": "1.5.0",
      "model_name": "HBoxModel",
      "state": {
       "_dom_classes": [],
       "_model_module": "@jupyter-widgets/controls",
       "_model_module_version": "1.5.0",
       "_model_name": "HBoxModel",
       "_view_count": null,
       "_view_module": "@jupyter-widgets/controls",
       "_view_module_version": "1.5.0",
       "_view_name": "HBoxView",
       "box_style": "",
       "children": [
        "IPY_MODEL_cadc70d4e79d40b7b34948451d3663b0",
        "IPY_MODEL_8b50aa0a489d45fe8ee9dbc5cbc6072b",
        "IPY_MODEL_d700e7a11a03453088c86b146b0a7be3"
       ],
       "layout": "IPY_MODEL_e3ed78628de248518b6ffd91686e5728"
      }
     },
     "fc1af34139904ed5a273ed09332ff0bd": {
      "model_module": "@jupyter-widgets/controls",
      "model_module_version": "1.5.0",
      "model_name": "DescriptionStyleModel",
      "state": {
       "_model_module": "@jupyter-widgets/controls",
       "_model_module_version": "1.5.0",
       "_model_name": "DescriptionStyleModel",
       "_view_count": null,
       "_view_module": "@jupyter-widgets/base",
       "_view_module_version": "1.2.0",
       "_view_name": "StyleView",
       "description_width": ""
      }
     },
     "fc7f9b88bba64b0392868a75b3502597": {
      "model_module": "@jupyter-widgets/base",
      "model_module_version": "1.2.0",
      "model_name": "LayoutModel",
      "state": {
       "_model_module": "@jupyter-widgets/base",
       "_model_module_version": "1.2.0",
       "_model_name": "LayoutModel",
       "_view_count": null,
       "_view_module": "@jupyter-widgets/base",
       "_view_module_version": "1.2.0",
       "_view_name": "LayoutView",
       "align_content": null,
       "align_items": null,
       "align_self": null,
       "border": null,
       "bottom": null,
       "display": null,
       "flex": null,
       "flex_flow": null,
       "grid_area": null,
       "grid_auto_columns": null,
       "grid_auto_flow": null,
       "grid_auto_rows": null,
       "grid_column": null,
       "grid_gap": null,
       "grid_row": null,
       "grid_template_areas": null,
       "grid_template_columns": null,
       "grid_template_rows": null,
       "height": null,
       "justify_content": null,
       "justify_items": null,
       "left": null,
       "margin": null,
       "max_height": null,
       "max_width": null,
       "min_height": null,
       "min_width": null,
       "object_fit": null,
       "object_position": null,
       "order": null,
       "overflow": null,
       "overflow_x": null,
       "overflow_y": null,
       "padding": null,
       "right": null,
       "top": null,
       "visibility": null,
       "width": null
      }
     },
     "fd56de7bdfdc4e5f8b4572703d07d573": {
      "model_module": "@jupyter-widgets/controls",
      "model_module_version": "1.5.0",
      "model_name": "HTMLModel",
      "state": {
       "_dom_classes": [],
       "_model_module": "@jupyter-widgets/controls",
       "_model_module_version": "1.5.0",
       "_model_name": "HTMLModel",
       "_view_count": null,
       "_view_module": "@jupyter-widgets/controls",
       "_view_module_version": "1.5.0",
       "_view_name": "HTMLView",
       "description": "",
       "description_tooltip": null,
       "layout": "IPY_MODEL_28deaee7afa843c99bb664a431eddc9a",
       "placeholder": "​",
       "style": "IPY_MODEL_d64e5cb097984180a10e7d44bdeb8086",
       "value": "100%"
      }
     },
     "fe987192ef1a49c99748a19de53b6b68": {
      "model_module": "@jupyter-widgets/controls",
      "model_module_version": "1.5.0",
      "model_name": "HBoxModel",
      "state": {
       "_dom_classes": [],
       "_model_module": "@jupyter-widgets/controls",
       "_model_module_version": "1.5.0",
       "_model_name": "HBoxModel",
       "_view_count": null,
       "_view_module": "@jupyter-widgets/controls",
       "_view_module_version": "1.5.0",
       "_view_name": "HBoxView",
       "box_style": "",
       "children": [
        "IPY_MODEL_6041de4790414912bdf303fcdee8a64e",
        "IPY_MODEL_e6fef706c92c41b2b5214869e9833cb3",
        "IPY_MODEL_4f6268623a304a099f2054bde040daa6"
       ],
       "layout": "IPY_MODEL_3865a55d4e5f467a9dfeb4cd38852023"
      }
     }
    },
    "version_major": 2,
    "version_minor": 0
   }
  }
 },
 "nbformat": 4,
 "nbformat_minor": 5
}
